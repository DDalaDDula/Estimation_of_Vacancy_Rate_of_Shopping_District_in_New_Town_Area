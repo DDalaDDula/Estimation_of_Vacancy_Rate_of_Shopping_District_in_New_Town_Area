{
 "cells": [
  {
   "attachments": {},
   "cell_type": "markdown",
   "metadata": {},
   "source": [
    "## 기본설정 및 함수정의"
   ]
  },
  {
   "cell_type": "code",
   "execution_count": null,
   "metadata": {},
   "outputs": [],
   "source": [
    "# import pandas as pd\n",
    "# import numpy as np\n",
    "# import plotly.express as px\n",
    "# import plotly.graph_objects as go\n",
    "# import plotly.graph_objs as go\n",
    "# import plotly.offline as offline\n",
    "# from folium.plugins import HeatMapWithTime\n",
    "# from plotly.subplots import make_subplots\n",
    "# import folium\n",
    "# from folium import plugins\n",
    "# from folium.plugins import HeatMap\n",
    "# from folium import FeatureGroup\n",
    "# import json\n",
    "# import math\n",
    "# import re\n",
    "# from datetime import datetime\n",
    "# import os\n",
    "# import glob\n",
    "# import subprocess\n",
    "# from bs4 import BeautifulSoup as bs\n",
    "# from shapely.geometry import Point, Polygon, LineString\n",
    "# from shapely.ops import unary_union\n",
    "# import geopandas as gpd\n",
    "# from geopandas import GeoSeries\n",
    "# import pyproj\n",
    "# from tqdm import tqdm\n",
    "# from keplergl import KeplerGl\n",
    "\n",
    "# # tqdm의 pandas전용 메소드를 호출\n",
    "# tqdm.pandas()\n",
    "# # 모든 열이 생략되지 않도록 설정\n",
    "# pd.set_option('display.max_columns', None)\n",
    "\n",
    "# # 영등포역 위도, 경도\n",
    "# sejong = [36.51430420729354, 127.29034973889941 ]\n",
    "\n",
    "# # Point를만드는 함수\n",
    "# def make_point(x):\n",
    "#     try:\n",
    "#         return Point(x)\n",
    "#     except Exception as e:\n",
    "#         print(f\"An error occurred: {e}\")\n",
    "#         return None\n",
    "# # Polygon을 만드는 함수\n",
    "# def make_pol(x):\n",
    "#     try:\n",
    "#         return Polygon(x[0])\n",
    "#     except:\n",
    "#         return Polygon(x[0][0])\n",
    "    \n",
    "# # Linestring을 만드는 함수\n",
    "# def make_lin(x):\n",
    "#     try:\n",
    "#         return LineString(x)\n",
    "#     except:\n",
    "#         return LineString(x[0])\n",
    "\n",
    "# # 데이터프레임을 GeoPandas 데이터프레임으로 변환하는 함수 정의\n",
    "# def geo_transform(DataFrame) :\n",
    "#     # csv to geopandas\n",
    "#     # lon, lat data를 geometry로 변경\n",
    "#     DataFrame['lat'] = DataFrame['lat'].astype(float)\n",
    "#     DataFrame['lon'] = DataFrame['lon'].astype(float)\n",
    "#     DataFrame['geometry'] = DataFrame.progress_apply(lambda row : Point([row['lon'], row['lat']]), axis=1) # 위도 및 경도롤 GeoPandas Point 객체로 변환\n",
    "#     DataFrame = gpd.GeoDataFrame(DataFrame, geometry='geometry')\n",
    "#     DataFrame.crs = {'init':'epsg:4326'} # geopandas 데이터프레임의 좌표계를 EPSG 4326으로 설정\n",
    "#     DataFrame = DataFrame.to_crs({'init':'epsg:4326'}) # 데이터프레임의 좌표계를 자체 좌표계에서 EPSG 4326으로 변환\n",
    "#     return DataFrame"
   ]
  },
  {
   "cell_type": "markdown",
   "metadata": {},
   "source": [
    "#### 세종시 행정경계(대상구역)"
   ]
  },
  {
   "cell_type": "code",
   "execution_count": null,
   "metadata": {},
   "outputs": [],
   "source": [
    "# GeoJSON 파일 불러오기\n",
    "with open('SBJ_2406_002/11.세종시_대상구역도.geojson', encoding=\"UTF8\") as geojson_file:\n",
    "    geojson_data = json.load(geojson_file)\n",
    "object_area_df = pd.json_normalize(geojson_data['features'])\n",
    "object_area_df['geometry'] = object_area_df['geometry.coordinates'].apply(lambda x : make_pol(x))\n",
    "object_area_df.drop(columns=\"geometry.coordinates\", inplace=True)\n",
    "object_area_df.rename(columns = {'properties.EMD_NM' : 'ADM_NM'}, inplace = True)\n",
    "object_area_df = object_area_df[['ADM_NM', 'geometry']]\n",
    "\n",
    "# shp to geodataframe convert\n",
    "shapefile_path = \"SBJ_2406_002/_census_data_2023_bnd_dong_bnd_dong_29010_2023_2023\"\n",
    "sejong_gdf = gpd.read_file(shapefile_path)\n",
    "sejong_gdf = sejong_gdf.to_crs(epsg=4326) #EPSG4326 형식으로 변환\n",
    "sejong_gdf = sejong_gdf[['ADM_NM', 'geometry']]\n",
    "sejong_gdf = sejong_gdf[~sejong_gdf['ADM_NM'].str.endswith('동')]\n",
    "sejong_gdf =  pd.concat([object_area_df, sejong_gdf], ignore_index=True)\n",
    "# sejong_gdf 데이터프레임을 GeoDataFrame으로 변환\n",
    "sejong_gdf = gpd.GeoDataFrame(sejong_gdf, geometry='geometry')\n",
    "# 조건에 따라 'newtown' 열 생성 및 값 지정\n",
    "sejong_gdf['newtown'] = sejong_gdf['ADM_NM'].apply(lambda x: '신도시' if x.endswith('동') else '그외지역')"
   ]
  },
  {
   "attachments": {},
   "cell_type": "markdown",
   "metadata": {},
   "source": [
    "#### 격자(매핑용)"
   ]
  },
  {
   "cell_type": "code",
   "execution_count": 5,
   "metadata": {},
   "outputs": [],
   "source": [
    "# GeoJSON 파일 불러오기\n",
    "with open('SBJ_2406_002/4.세종시_격자(매핑용).geojson', encoding=\"UTF8\") as geojson_file:\n",
    "    geojson_data = json.load(geojson_file)\n",
    "grid_map_df = pd.json_normalize(geojson_data['features'])\n",
    "grid_map_df['geometry'] = grid_map_df['geometry.coordinates'].apply(lambda x : make_pol(x))\n",
    "grid_map_df.drop(columns=\"geometry.coordinates\", axis=1, inplace=True)\n",
    "# grid_map_df 데이터프레임을 GeoDataFrame으로 변환\n",
    "grid_map_df = gpd.GeoDataFrame(grid_map_df, geometry='geometry')"
   ]
  },
  {
   "cell_type": "markdown",
   "metadata": {},
   "source": [
    "##### 공실률 계산"
   ]
  },
  {
   "cell_type": "code",
   "execution_count": 48,
   "metadata": {},
   "outputs": [
    {
     "data": {
      "text/html": [
       "<div>\n",
       "<style scoped>\n",
       "    .dataframe tbody tr th:only-of-type {\n",
       "        vertical-align: middle;\n",
       "    }\n",
       "\n",
       "    .dataframe tbody tr th {\n",
       "        vertical-align: top;\n",
       "    }\n",
       "\n",
       "    .dataframe thead th {\n",
       "        text-align: right;\n",
       "    }\n",
       "</style>\n",
       "<table border=\"1\" class=\"dataframe\">\n",
       "  <thead>\n",
       "    <tr style=\"text-align: right;\">\n",
       "      <th></th>\n",
       "      <th>Year</th>\n",
       "      <th>고운동</th>\n",
       "      <th>아름동</th>\n",
       "      <th>종촌동</th>\n",
       "      <th>도담동</th>\n",
       "      <th>어진동</th>\n",
       "      <th>다정동</th>\n",
       "      <th>새롬동</th>\n",
       "      <th>한솔동</th>\n",
       "      <th>대평동</th>\n",
       "      <th>보람동</th>\n",
       "      <th>소담동</th>\n",
       "      <th>나성동</th>\n",
       "      <th>반곡동</th>\n",
       "      <th>해밀동</th>\n",
       "    </tr>\n",
       "  </thead>\n",
       "  <tbody>\n",
       "    <tr>\n",
       "      <th>2</th>\n",
       "      <td>2020</td>\n",
       "      <td>38.85</td>\n",
       "      <td>45.45</td>\n",
       "      <td>17.70</td>\n",
       "      <td>21.70</td>\n",
       "      <td>26.00</td>\n",
       "      <td>40.70</td>\n",
       "      <td>13.20</td>\n",
       "      <td>30.10</td>\n",
       "      <td>49.30</td>\n",
       "      <td>61.35</td>\n",
       "      <td>55.10</td>\n",
       "      <td>42.130</td>\n",
       "      <td>55.1</td>\n",
       "      <td>32.5</td>\n",
       "    </tr>\n",
       "    <tr>\n",
       "      <th>3</th>\n",
       "      <td>2021</td>\n",
       "      <td>25.90</td>\n",
       "      <td>34.65</td>\n",
       "      <td>22.00</td>\n",
       "      <td>12.75</td>\n",
       "      <td>17.35</td>\n",
       "      <td>44.85</td>\n",
       "      <td>1.35</td>\n",
       "      <td>59.55</td>\n",
       "      <td>66.30</td>\n",
       "      <td>50.80</td>\n",
       "      <td>32.60</td>\n",
       "      <td>39.065</td>\n",
       "      <td>43.8</td>\n",
       "      <td>32.5</td>\n",
       "    </tr>\n",
       "    <tr>\n",
       "      <th>4</th>\n",
       "      <td>2022</td>\n",
       "      <td>24.72</td>\n",
       "      <td>37.42</td>\n",
       "      <td>13.49</td>\n",
       "      <td>12.07</td>\n",
       "      <td>24.50</td>\n",
       "      <td>17.45</td>\n",
       "      <td>8.03</td>\n",
       "      <td>56.25</td>\n",
       "      <td>55.42</td>\n",
       "      <td>21.23</td>\n",
       "      <td>44.52</td>\n",
       "      <td>39.065</td>\n",
       "      <td>43.8</td>\n",
       "      <td>32.5</td>\n",
       "    </tr>\n",
       "    <tr>\n",
       "      <th>5</th>\n",
       "      <td>2023</td>\n",
       "      <td>30.52</td>\n",
       "      <td>23.40</td>\n",
       "      <td>12.00</td>\n",
       "      <td>15.70</td>\n",
       "      <td>23.40</td>\n",
       "      <td>11.90</td>\n",
       "      <td>4.10</td>\n",
       "      <td>30.10</td>\n",
       "      <td>60.20</td>\n",
       "      <td>24.35</td>\n",
       "      <td>35.50</td>\n",
       "      <td>36.000</td>\n",
       "      <td>32.5</td>\n",
       "      <td>32.5</td>\n",
       "    </tr>\n",
       "  </tbody>\n",
       "</table>\n",
       "</div>"
      ],
      "text/plain": [
       "   Year    고운동    아름동    종촌동    도담동    어진동    다정동    새롬동    한솔동    대평동    보람동  \\\n",
       "2  2020  38.85  45.45  17.70  21.70  26.00  40.70  13.20  30.10  49.30  61.35   \n",
       "3  2021  25.90  34.65  22.00  12.75  17.35  44.85   1.35  59.55  66.30  50.80   \n",
       "4  2022  24.72  37.42  13.49  12.07  24.50  17.45   8.03  56.25  55.42  21.23   \n",
       "5  2023  30.52  23.40  12.00  15.70  23.40  11.90   4.10  30.10  60.20  24.35   \n",
       "\n",
       "     소담동     나성동   반곡동   해밀동  \n",
       "2  55.10  42.130  55.1  32.5  \n",
       "3  32.60  39.065  43.8  32.5  \n",
       "4  44.52  39.065  43.8  32.5  \n",
       "5  35.50  36.000  32.5  32.5  "
      ]
     },
     "execution_count": 48,
     "metadata": {},
     "output_type": "execute_result"
    }
   ],
   "source": [
    "import numpy as np\n",
    "import pandas as pd\n",
    "# 모든 열이 생략되지 않도록 설정\n",
    "pd.set_option('display.max_columns', None)\n",
    "\n",
    "data = {\n",
    "    \"Year\": [\"2018\", \"2019\", \"2020\", \"2021\", \"2022\", \"2023\"],\n",
    "    \"고운동\": [38.72, 33.67, 38.85, 25.90, 24.72, 30.52],\n",
    "    \"아름동\": [38.57, 36.77, 45.45, 34.65, 37.42, 23.4],\n",
    "    \"종촌동\": [15.30, 19.83, 17.7, 22.00, 13.49, 12.00],\n",
    "    \"도담동\": [13.83, 12.20, 21.7, 12.75, 12.07, 15.7],\n",
    "    \"어진동\": [15.80, 14.87, 26.00, 17.35, 24.50, 23.40],\n",
    "    \"다정동\": [75.03, 58.87, 40.7, 44.85, 17.45, 11.9],\n",
    "    \"새롬동\": [20.97, 11.40, 13.20, 1.35, 8.03, 4.1],\n",
    "    \"한솔동\": [43.63, 54.53, 30.10, 59.55, 56.25, 30.10],\n",
    "    \"대평동\": [58.83, 57.0, 49.3, 66.30, 55.42, 60.2],\n",
    "    \"보람동\": [57.98, 52.85, 61.35, 50.80, 21.23, 24.35],\n",
    "    \"소담동\": [54.03, 38.47, 55.1, 32.60, 44.52, 35.5],\n",
    "    \"나성동\": [58.83, 52.96, 42.13, None, None, 36],\n",
    "    \"반곡동\": [None, 79.6, 55.1, None, None, 32.5],\n",
    "    \"해밀동\": [None, None, None, None, None, 32.5]\n",
    "}\n",
    "\n",
    "# Create the dataframe\n",
    "empty_rate_df = pd.DataFrame(data)\n",
    "empty_rate_df = empty_rate_df.iloc[2:,:]\n",
    "# Filling NaN values with the mean of the respective columns\n",
    "empty_rate_df = empty_rate_df.apply(lambda x: x.fillna(x.mean()), axis=0)\n",
    "empty_rate_df"
   ]
  },
  {
   "cell_type": "code",
   "execution_count": 76,
   "metadata": {},
   "outputs": [
    {
     "data": {
      "application/vnd.plotly.v1+json": {
       "config": {
        "plotlyServerURL": "https://plot.ly"
       },
       "data": [
        {
         "line": {
          "color": "#0d0887"
         },
         "mode": "lines+markers",
         "name": "대평동",
         "type": "scatter",
         "x": [
          2020,
          2021,
          2022,
          2023
         ],
         "y": [
          49.3,
          66.3,
          55.42,
          60.2
         ]
        },
        {
         "line": {
          "color": "#46039f"
         },
         "mode": "lines+markers",
         "name": "한솔동",
         "type": "scatter",
         "x": [
          2020,
          2021,
          2022,
          2023
         ],
         "y": [
          30.1,
          59.55,
          56.25,
          30.1
         ]
        },
        {
         "line": {
          "color": "#7201a8"
         },
         "mode": "lines+markers",
         "name": "반곡동",
         "type": "scatter",
         "x": [
          2020,
          2021,
          2022,
          2023
         ],
         "y": [
          55.1,
          43.8,
          43.8,
          32.5
         ]
        },
        {
         "line": {
          "color": "#9c179e"
         },
         "mode": "lines+markers",
         "name": "소담동",
         "type": "scatter",
         "x": [
          2020,
          2021,
          2022,
          2023
         ],
         "y": [
          55.1,
          32.6,
          44.52,
          35.5
         ]
        },
        {
         "line": {
          "color": "#bd3786"
         },
         "mode": "lines+markers",
         "name": "보람동",
         "type": "scatter",
         "x": [
          2020,
          2021,
          2022,
          2023
         ],
         "y": [
          61.35,
          50.8,
          21.23,
          24.35
         ]
        },
        {
         "line": {
          "color": "#d8576b"
         },
         "mode": "lines+markers",
         "name": "나성동",
         "type": "scatter",
         "x": [
          2020,
          2021,
          2022,
          2023
         ],
         "y": [
          42.13,
          39.065,
          39.065,
          36
         ]
        },
        {
         "line": {
          "color": "#ed7953"
         },
         "mode": "lines+markers",
         "name": "아름동",
         "type": "scatter",
         "x": [
          2020,
          2021,
          2022,
          2023
         ],
         "y": [
          45.45,
          34.65,
          37.42,
          23.4
         ]
        },
        {
         "line": {
          "color": "#fb9f3a"
         },
         "mode": "lines+markers",
         "name": "해밀동",
         "type": "scatter",
         "x": [
          2020,
          2021,
          2022,
          2023
         ],
         "y": [
          32.5,
          32.5,
          32.5,
          32.5
         ]
        },
        {
         "line": {
          "color": "#fdca26"
         },
         "mode": "lines+markers",
         "name": "고운동",
         "type": "scatter",
         "x": [
          2020,
          2021,
          2022,
          2023
         ],
         "y": [
          38.85,
          25.9,
          24.72,
          30.52
         ]
        },
        {
         "line": {
          "color": "#f0f921"
         },
         "mode": "lines+markers",
         "name": "다정동",
         "type": "scatter",
         "x": [
          2020,
          2021,
          2022,
          2023
         ],
         "y": [
          40.7,
          44.85,
          17.45,
          11.9
         ]
        },
        {
         "line": {
          "color": "#0d0887"
         },
         "mode": "lines+markers",
         "name": "어진동",
         "type": "scatter",
         "x": [
          2020,
          2021,
          2022,
          2023
         ],
         "y": [
          26,
          17.35,
          24.5,
          23.4
         ]
        },
        {
         "line": {
          "color": "#46039f"
         },
         "mode": "lines+markers",
         "name": "종촌동",
         "type": "scatter",
         "x": [
          2020,
          2021,
          2022,
          2023
         ],
         "y": [
          17.7,
          22,
          13.49,
          12
         ]
        },
        {
         "line": {
          "color": "#7201a8"
         },
         "mode": "lines+markers",
         "name": "도담동",
         "type": "scatter",
         "x": [
          2020,
          2021,
          2022,
          2023
         ],
         "y": [
          21.7,
          12.75,
          12.07,
          15.7
         ]
        },
        {
         "line": {
          "color": "#9c179e"
         },
         "mode": "lines+markers",
         "name": "새롬동",
         "type": "scatter",
         "x": [
          2020,
          2021,
          2022,
          2023
         ],
         "y": [
          13.2,
          1.35,
          8.03,
          4.1
         ]
        }
       ],
       "layout": {
        "hovermode": "x unified",
        "legend": {
         "title": {
          "text": "행정동"
         }
        },
        "template": {
         "data": {
          "bar": [
           {
            "error_x": {
             "color": "#2a3f5f"
            },
            "error_y": {
             "color": "#2a3f5f"
            },
            "marker": {
             "line": {
              "color": "#E5ECF6",
              "width": 0.5
             },
             "pattern": {
              "fillmode": "overlay",
              "size": 10,
              "solidity": 0.2
             }
            },
            "type": "bar"
           }
          ],
          "barpolar": [
           {
            "marker": {
             "line": {
              "color": "#E5ECF6",
              "width": 0.5
             },
             "pattern": {
              "fillmode": "overlay",
              "size": 10,
              "solidity": 0.2
             }
            },
            "type": "barpolar"
           }
          ],
          "carpet": [
           {
            "aaxis": {
             "endlinecolor": "#2a3f5f",
             "gridcolor": "white",
             "linecolor": "white",
             "minorgridcolor": "white",
             "startlinecolor": "#2a3f5f"
            },
            "baxis": {
             "endlinecolor": "#2a3f5f",
             "gridcolor": "white",
             "linecolor": "white",
             "minorgridcolor": "white",
             "startlinecolor": "#2a3f5f"
            },
            "type": "carpet"
           }
          ],
          "choropleth": [
           {
            "colorbar": {
             "outlinewidth": 0,
             "ticks": ""
            },
            "type": "choropleth"
           }
          ],
          "contour": [
           {
            "colorbar": {
             "outlinewidth": 0,
             "ticks": ""
            },
            "colorscale": [
             [
              0,
              "#0d0887"
             ],
             [
              0.1111111111111111,
              "#46039f"
             ],
             [
              0.2222222222222222,
              "#7201a8"
             ],
             [
              0.3333333333333333,
              "#9c179e"
             ],
             [
              0.4444444444444444,
              "#bd3786"
             ],
             [
              0.5555555555555556,
              "#d8576b"
             ],
             [
              0.6666666666666666,
              "#ed7953"
             ],
             [
              0.7777777777777778,
              "#fb9f3a"
             ],
             [
              0.8888888888888888,
              "#fdca26"
             ],
             [
              1,
              "#f0f921"
             ]
            ],
            "type": "contour"
           }
          ],
          "contourcarpet": [
           {
            "colorbar": {
             "outlinewidth": 0,
             "ticks": ""
            },
            "type": "contourcarpet"
           }
          ],
          "heatmap": [
           {
            "colorbar": {
             "outlinewidth": 0,
             "ticks": ""
            },
            "colorscale": [
             [
              0,
              "#0d0887"
             ],
             [
              0.1111111111111111,
              "#46039f"
             ],
             [
              0.2222222222222222,
              "#7201a8"
             ],
             [
              0.3333333333333333,
              "#9c179e"
             ],
             [
              0.4444444444444444,
              "#bd3786"
             ],
             [
              0.5555555555555556,
              "#d8576b"
             ],
             [
              0.6666666666666666,
              "#ed7953"
             ],
             [
              0.7777777777777778,
              "#fb9f3a"
             ],
             [
              0.8888888888888888,
              "#fdca26"
             ],
             [
              1,
              "#f0f921"
             ]
            ],
            "type": "heatmap"
           }
          ],
          "heatmapgl": [
           {
            "colorbar": {
             "outlinewidth": 0,
             "ticks": ""
            },
            "colorscale": [
             [
              0,
              "#0d0887"
             ],
             [
              0.1111111111111111,
              "#46039f"
             ],
             [
              0.2222222222222222,
              "#7201a8"
             ],
             [
              0.3333333333333333,
              "#9c179e"
             ],
             [
              0.4444444444444444,
              "#bd3786"
             ],
             [
              0.5555555555555556,
              "#d8576b"
             ],
             [
              0.6666666666666666,
              "#ed7953"
             ],
             [
              0.7777777777777778,
              "#fb9f3a"
             ],
             [
              0.8888888888888888,
              "#fdca26"
             ],
             [
              1,
              "#f0f921"
             ]
            ],
            "type": "heatmapgl"
           }
          ],
          "histogram": [
           {
            "marker": {
             "pattern": {
              "fillmode": "overlay",
              "size": 10,
              "solidity": 0.2
             }
            },
            "type": "histogram"
           }
          ],
          "histogram2d": [
           {
            "colorbar": {
             "outlinewidth": 0,
             "ticks": ""
            },
            "colorscale": [
             [
              0,
              "#0d0887"
             ],
             [
              0.1111111111111111,
              "#46039f"
             ],
             [
              0.2222222222222222,
              "#7201a8"
             ],
             [
              0.3333333333333333,
              "#9c179e"
             ],
             [
              0.4444444444444444,
              "#bd3786"
             ],
             [
              0.5555555555555556,
              "#d8576b"
             ],
             [
              0.6666666666666666,
              "#ed7953"
             ],
             [
              0.7777777777777778,
              "#fb9f3a"
             ],
             [
              0.8888888888888888,
              "#fdca26"
             ],
             [
              1,
              "#f0f921"
             ]
            ],
            "type": "histogram2d"
           }
          ],
          "histogram2dcontour": [
           {
            "colorbar": {
             "outlinewidth": 0,
             "ticks": ""
            },
            "colorscale": [
             [
              0,
              "#0d0887"
             ],
             [
              0.1111111111111111,
              "#46039f"
             ],
             [
              0.2222222222222222,
              "#7201a8"
             ],
             [
              0.3333333333333333,
              "#9c179e"
             ],
             [
              0.4444444444444444,
              "#bd3786"
             ],
             [
              0.5555555555555556,
              "#d8576b"
             ],
             [
              0.6666666666666666,
              "#ed7953"
             ],
             [
              0.7777777777777778,
              "#fb9f3a"
             ],
             [
              0.8888888888888888,
              "#fdca26"
             ],
             [
              1,
              "#f0f921"
             ]
            ],
            "type": "histogram2dcontour"
           }
          ],
          "mesh3d": [
           {
            "colorbar": {
             "outlinewidth": 0,
             "ticks": ""
            },
            "type": "mesh3d"
           }
          ],
          "parcoords": [
           {
            "line": {
             "colorbar": {
              "outlinewidth": 0,
              "ticks": ""
             }
            },
            "type": "parcoords"
           }
          ],
          "pie": [
           {
            "automargin": true,
            "type": "pie"
           }
          ],
          "scatter": [
           {
            "fillpattern": {
             "fillmode": "overlay",
             "size": 10,
             "solidity": 0.2
            },
            "type": "scatter"
           }
          ],
          "scatter3d": [
           {
            "line": {
             "colorbar": {
              "outlinewidth": 0,
              "ticks": ""
             }
            },
            "marker": {
             "colorbar": {
              "outlinewidth": 0,
              "ticks": ""
             }
            },
            "type": "scatter3d"
           }
          ],
          "scattercarpet": [
           {
            "marker": {
             "colorbar": {
              "outlinewidth": 0,
              "ticks": ""
             }
            },
            "type": "scattercarpet"
           }
          ],
          "scattergeo": [
           {
            "marker": {
             "colorbar": {
              "outlinewidth": 0,
              "ticks": ""
             }
            },
            "type": "scattergeo"
           }
          ],
          "scattergl": [
           {
            "marker": {
             "colorbar": {
              "outlinewidth": 0,
              "ticks": ""
             }
            },
            "type": "scattergl"
           }
          ],
          "scattermapbox": [
           {
            "marker": {
             "colorbar": {
              "outlinewidth": 0,
              "ticks": ""
             }
            },
            "type": "scattermapbox"
           }
          ],
          "scatterpolar": [
           {
            "marker": {
             "colorbar": {
              "outlinewidth": 0,
              "ticks": ""
             }
            },
            "type": "scatterpolar"
           }
          ],
          "scatterpolargl": [
           {
            "marker": {
             "colorbar": {
              "outlinewidth": 0,
              "ticks": ""
             }
            },
            "type": "scatterpolargl"
           }
          ],
          "scatterternary": [
           {
            "marker": {
             "colorbar": {
              "outlinewidth": 0,
              "ticks": ""
             }
            },
            "type": "scatterternary"
           }
          ],
          "surface": [
           {
            "colorbar": {
             "outlinewidth": 0,
             "ticks": ""
            },
            "colorscale": [
             [
              0,
              "#0d0887"
             ],
             [
              0.1111111111111111,
              "#46039f"
             ],
             [
              0.2222222222222222,
              "#7201a8"
             ],
             [
              0.3333333333333333,
              "#9c179e"
             ],
             [
              0.4444444444444444,
              "#bd3786"
             ],
             [
              0.5555555555555556,
              "#d8576b"
             ],
             [
              0.6666666666666666,
              "#ed7953"
             ],
             [
              0.7777777777777778,
              "#fb9f3a"
             ],
             [
              0.8888888888888888,
              "#fdca26"
             ],
             [
              1,
              "#f0f921"
             ]
            ],
            "type": "surface"
           }
          ],
          "table": [
           {
            "cells": {
             "fill": {
              "color": "#EBF0F8"
             },
             "line": {
              "color": "white"
             }
            },
            "header": {
             "fill": {
              "color": "#C8D4E3"
             },
             "line": {
              "color": "white"
             }
            },
            "type": "table"
           }
          ]
         },
         "layout": {
          "annotationdefaults": {
           "arrowcolor": "#2a3f5f",
           "arrowhead": 0,
           "arrowwidth": 1
          },
          "autotypenumbers": "strict",
          "coloraxis": {
           "colorbar": {
            "outlinewidth": 0,
            "ticks": ""
           }
          },
          "colorscale": {
           "diverging": [
            [
             0,
             "#8e0152"
            ],
            [
             0.1,
             "#c51b7d"
            ],
            [
             0.2,
             "#de77ae"
            ],
            [
             0.3,
             "#f1b6da"
            ],
            [
             0.4,
             "#fde0ef"
            ],
            [
             0.5,
             "#f7f7f7"
            ],
            [
             0.6,
             "#e6f5d0"
            ],
            [
             0.7,
             "#b8e186"
            ],
            [
             0.8,
             "#7fbc41"
            ],
            [
             0.9,
             "#4d9221"
            ],
            [
             1,
             "#276419"
            ]
           ],
           "sequential": [
            [
             0,
             "#0d0887"
            ],
            [
             0.1111111111111111,
             "#46039f"
            ],
            [
             0.2222222222222222,
             "#7201a8"
            ],
            [
             0.3333333333333333,
             "#9c179e"
            ],
            [
             0.4444444444444444,
             "#bd3786"
            ],
            [
             0.5555555555555556,
             "#d8576b"
            ],
            [
             0.6666666666666666,
             "#ed7953"
            ],
            [
             0.7777777777777778,
             "#fb9f3a"
            ],
            [
             0.8888888888888888,
             "#fdca26"
            ],
            [
             1,
             "#f0f921"
            ]
           ],
           "sequentialminus": [
            [
             0,
             "#0d0887"
            ],
            [
             0.1111111111111111,
             "#46039f"
            ],
            [
             0.2222222222222222,
             "#7201a8"
            ],
            [
             0.3333333333333333,
             "#9c179e"
            ],
            [
             0.4444444444444444,
             "#bd3786"
            ],
            [
             0.5555555555555556,
             "#d8576b"
            ],
            [
             0.6666666666666666,
             "#ed7953"
            ],
            [
             0.7777777777777778,
             "#fb9f3a"
            ],
            [
             0.8888888888888888,
             "#fdca26"
            ],
            [
             1,
             "#f0f921"
            ]
           ]
          },
          "colorway": [
           "#636efa",
           "#EF553B",
           "#00cc96",
           "#ab63fa",
           "#FFA15A",
           "#19d3f3",
           "#FF6692",
           "#B6E880",
           "#FF97FF",
           "#FECB52"
          ],
          "font": {
           "color": "#2a3f5f"
          },
          "geo": {
           "bgcolor": "white",
           "lakecolor": "white",
           "landcolor": "#E5ECF6",
           "showlakes": true,
           "showland": true,
           "subunitcolor": "white"
          },
          "hoverlabel": {
           "align": "left"
          },
          "hovermode": "closest",
          "mapbox": {
           "style": "light"
          },
          "paper_bgcolor": "white",
          "plot_bgcolor": "#E5ECF6",
          "polar": {
           "angularaxis": {
            "gridcolor": "white",
            "linecolor": "white",
            "ticks": ""
           },
           "bgcolor": "#E5ECF6",
           "radialaxis": {
            "gridcolor": "white",
            "linecolor": "white",
            "ticks": ""
           }
          },
          "scene": {
           "xaxis": {
            "backgroundcolor": "#E5ECF6",
            "gridcolor": "white",
            "gridwidth": 2,
            "linecolor": "white",
            "showbackground": true,
            "ticks": "",
            "zerolinecolor": "white"
           },
           "yaxis": {
            "backgroundcolor": "#E5ECF6",
            "gridcolor": "white",
            "gridwidth": 2,
            "linecolor": "white",
            "showbackground": true,
            "ticks": "",
            "zerolinecolor": "white"
           },
           "zaxis": {
            "backgroundcolor": "#E5ECF6",
            "gridcolor": "white",
            "gridwidth": 2,
            "linecolor": "white",
            "showbackground": true,
            "ticks": "",
            "zerolinecolor": "white"
           }
          },
          "shapedefaults": {
           "line": {
            "color": "#2a3f5f"
           }
          },
          "ternary": {
           "aaxis": {
            "gridcolor": "white",
            "linecolor": "white",
            "ticks": ""
           },
           "baxis": {
            "gridcolor": "white",
            "linecolor": "white",
            "ticks": ""
           },
           "bgcolor": "#E5ECF6",
           "caxis": {
            "gridcolor": "white",
            "linecolor": "white",
            "ticks": ""
           }
          },
          "title": {
           "x": 0.05
          },
          "xaxis": {
           "automargin": true,
           "gridcolor": "white",
           "linecolor": "white",
           "ticks": "",
           "title": {
            "standoff": 15
           },
           "zerolinecolor": "white",
           "zerolinewidth": 2
          },
          "yaxis": {
           "automargin": true,
           "gridcolor": "white",
           "linecolor": "white",
           "ticks": "",
           "title": {
            "standoff": 15
           },
           "zerolinecolor": "white",
           "zerolinewidth": 2
          }
         }
        },
        "xaxis": {
         "title": {
          "text": "Year"
         }
        },
        "yaxis": {
         "title": {
          "text": "Empty Rate (%)"
         }
        }
       }
      }
     },
     "metadata": {},
     "output_type": "display_data"
    }
   ],
   "source": [
    "import plotly.graph_objects as go\n",
    "\n",
    "# Define the years and empty rates for each area\n",
    "years = empty_rate_df['Year'].tolist()\n",
    "areas = empty_rate_df.columns[1:]\n",
    "\n",
    "# Create a figure with a line plot for each area\n",
    "fig = go.Figure()\n",
    "\n",
    "# Sorting the areas by the average empty rate descending\n",
    "area_means = empty_rate_df.drop(columns='Year').mean().sort_values(ascending=False)\n",
    "sorted_areas = area_means.index\n",
    "\n",
    "for area in sorted_areas:\n",
    "    fig.add_trace(go.Scatter(\n",
    "        x=years, \n",
    "        y=empty_rate_df[area].tolist(),\n",
    "        mode='lines+markers',\n",
    "        name=area\n",
    "    ))\n",
    "# 색상 업데이트\n",
    "colors =px.colors.sequential.Plasma # 컬러맵\n",
    "for i, trace in enumerate(fig.data):\n",
    "    trace.line.color = colors[i % len(colors)]\n",
    "\n",
    "# Customize the layout\n",
    "fig.update_layout(\n",
    "    xaxis_title=\"Year\",\n",
    "    yaxis_title=\"Empty Rate (%)\",\n",
    "    legend_title=\"행정동\",\n",
    "    hovermode=\"x unified\"\n",
    ")\n",
    "\n",
    "# Show the plot\n",
    "fig.show()"
   ]
  },
  {
   "cell_type": "markdown",
   "metadata": {},
   "source": [
    "##### 공실률 - 거주인구 상관관계"
   ]
  },
  {
   "cell_type": "code",
   "execution_count": 49,
   "metadata": {},
   "outputs": [
    {
     "data": {
      "text/html": [
       "<div>\n",
       "<style scoped>\n",
       "    .dataframe tbody tr th:only-of-type {\n",
       "        vertical-align: middle;\n",
       "    }\n",
       "\n",
       "    .dataframe tbody tr th {\n",
       "        vertical-align: top;\n",
       "    }\n",
       "\n",
       "    .dataframe thead th {\n",
       "        text-align: right;\n",
       "    }\n",
       "</style>\n",
       "<table border=\"1\" class=\"dataframe\">\n",
       "  <thead>\n",
       "    <tr style=\"text-align: right;\">\n",
       "      <th></th>\n",
       "      <th>Year</th>\n",
       "      <th>고운동_x</th>\n",
       "      <th>아름동_x</th>\n",
       "      <th>종촌동_x</th>\n",
       "      <th>도담동_x</th>\n",
       "      <th>어진동_x</th>\n",
       "      <th>다정동_x</th>\n",
       "      <th>새롬동_x</th>\n",
       "      <th>한솔동_x</th>\n",
       "      <th>대평동_x</th>\n",
       "      <th>보람동_x</th>\n",
       "      <th>소담동_x</th>\n",
       "      <th>나성동_x</th>\n",
       "      <th>반곡동_x</th>\n",
       "      <th>해밀동_x</th>\n",
       "      <th>고운동_인구</th>\n",
       "      <th>아름동_인구</th>\n",
       "      <th>종촌동_인구</th>\n",
       "      <th>도담동_인구</th>\n",
       "      <th>어진동_인구</th>\n",
       "      <th>다정동_인구</th>\n",
       "      <th>새롬동_인구</th>\n",
       "      <th>한솔동_인구</th>\n",
       "      <th>대평동_인구</th>\n",
       "      <th>보람동_인구</th>\n",
       "      <th>소담동_인구</th>\n",
       "      <th>나성동_인구</th>\n",
       "      <th>반곡동_인구</th>\n",
       "      <th>해밀동_인구</th>\n",
       "    </tr>\n",
       "  </thead>\n",
       "  <tbody>\n",
       "    <tr>\n",
       "      <th>2</th>\n",
       "      <td>2020</td>\n",
       "      <td>38.85</td>\n",
       "      <td>45.45</td>\n",
       "      <td>17.70</td>\n",
       "      <td>21.70</td>\n",
       "      <td>26.00</td>\n",
       "      <td>40.70</td>\n",
       "      <td>13.20</td>\n",
       "      <td>30.10</td>\n",
       "      <td>49.30</td>\n",
       "      <td>61.35</td>\n",
       "      <td>55.10</td>\n",
       "      <td>42.130</td>\n",
       "      <td>55.1</td>\n",
       "      <td>32.5</td>\n",
       "      <td>23474</td>\n",
       "      <td>17987</td>\n",
       "      <td>20567</td>\n",
       "      <td>18915</td>\n",
       "      <td>6291</td>\n",
       "      <td>19325</td>\n",
       "      <td>19813</td>\n",
       "      <td>14220</td>\n",
       "      <td>7933</td>\n",
       "      <td>15837</td>\n",
       "      <td>13759</td>\n",
       "      <td>5175</td>\n",
       "      <td>9134</td>\n",
       "      <td>2478</td>\n",
       "    </tr>\n",
       "    <tr>\n",
       "      <th>3</th>\n",
       "      <td>2021</td>\n",
       "      <td>25.90</td>\n",
       "      <td>34.65</td>\n",
       "      <td>22.00</td>\n",
       "      <td>12.75</td>\n",
       "      <td>17.35</td>\n",
       "      <td>44.85</td>\n",
       "      <td>1.35</td>\n",
       "      <td>59.55</td>\n",
       "      <td>66.30</td>\n",
       "      <td>50.80</td>\n",
       "      <td>32.60</td>\n",
       "      <td>39.065</td>\n",
       "      <td>43.8</td>\n",
       "      <td>32.5</td>\n",
       "      <td>23384</td>\n",
       "      <td>18055</td>\n",
       "      <td>20540</td>\n",
       "      <td>18883</td>\n",
       "      <td>6539</td>\n",
       "      <td>21357</td>\n",
       "      <td>19606</td>\n",
       "      <td>14038</td>\n",
       "      <td>8263</td>\n",
       "      <td>15758</td>\n",
       "      <td>15099</td>\n",
       "      <td>5966</td>\n",
       "      <td>9052</td>\n",
       "      <td>5526</td>\n",
       "    </tr>\n",
       "    <tr>\n",
       "      <th>4</th>\n",
       "      <td>2022</td>\n",
       "      <td>24.72</td>\n",
       "      <td>37.42</td>\n",
       "      <td>13.49</td>\n",
       "      <td>12.07</td>\n",
       "      <td>24.50</td>\n",
       "      <td>17.45</td>\n",
       "      <td>8.03</td>\n",
       "      <td>56.25</td>\n",
       "      <td>55.42</td>\n",
       "      <td>21.23</td>\n",
       "      <td>44.52</td>\n",
       "      <td>39.065</td>\n",
       "      <td>43.8</td>\n",
       "      <td>32.5</td>\n",
       "      <td>23726</td>\n",
       "      <td>18204</td>\n",
       "      <td>20464</td>\n",
       "      <td>18901</td>\n",
       "      <td>6455</td>\n",
       "      <td>21301</td>\n",
       "      <td>19565</td>\n",
       "      <td>13762</td>\n",
       "      <td>8119</td>\n",
       "      <td>15581</td>\n",
       "      <td>14858</td>\n",
       "      <td>5980</td>\n",
       "      <td>9007</td>\n",
       "      <td>5548</td>\n",
       "    </tr>\n",
       "    <tr>\n",
       "      <th>5</th>\n",
       "      <td>2023</td>\n",
       "      <td>30.52</td>\n",
       "      <td>23.40</td>\n",
       "      <td>12.00</td>\n",
       "      <td>15.70</td>\n",
       "      <td>23.40</td>\n",
       "      <td>11.90</td>\n",
       "      <td>4.10</td>\n",
       "      <td>30.10</td>\n",
       "      <td>60.20</td>\n",
       "      <td>24.35</td>\n",
       "      <td>35.50</td>\n",
       "      <td>36.000</td>\n",
       "      <td>32.5</td>\n",
       "      <td>32.5</td>\n",
       "      <td>23869</td>\n",
       "      <td>18581</td>\n",
       "      <td>20572</td>\n",
       "      <td>18921</td>\n",
       "      <td>6405</td>\n",
       "      <td>21556</td>\n",
       "      <td>19884</td>\n",
       "      <td>13976</td>\n",
       "      <td>8230</td>\n",
       "      <td>15798</td>\n",
       "      <td>15189</td>\n",
       "      <td>5753</td>\n",
       "      <td>9224</td>\n",
       "      <td>5580</td>\n",
       "    </tr>\n",
       "  </tbody>\n",
       "</table>\n",
       "</div>"
      ],
      "text/plain": [
       "   Year  고운동_x  아름동_x  종촌동_x  도담동_x  어진동_x  다정동_x  새롬동_x  한솔동_x  대평동_x  보람동_x  \\\n",
       "2  2020  38.85  45.45  17.70  21.70  26.00  40.70  13.20  30.10  49.30  61.35   \n",
       "3  2021  25.90  34.65  22.00  12.75  17.35  44.85   1.35  59.55  66.30  50.80   \n",
       "4  2022  24.72  37.42  13.49  12.07  24.50  17.45   8.03  56.25  55.42  21.23   \n",
       "5  2023  30.52  23.40  12.00  15.70  23.40  11.90   4.10  30.10  60.20  24.35   \n",
       "\n",
       "   소담동_x   나성동_x  반곡동_x  해밀동_x  고운동_인구  아름동_인구  종촌동_인구  도담동_인구  어진동_인구  \\\n",
       "2  55.10  42.130   55.1   32.5   23474   17987   20567   18915    6291   \n",
       "3  32.60  39.065   43.8   32.5   23384   18055   20540   18883    6539   \n",
       "4  44.52  39.065   43.8   32.5   23726   18204   20464   18901    6455   \n",
       "5  35.50  36.000   32.5   32.5   23869   18581   20572   18921    6405   \n",
       "\n",
       "   다정동_인구  새롬동_인구  한솔동_인구  대평동_인구  보람동_인구  소담동_인구  나성동_인구  반곡동_인구  해밀동_인구  \n",
       "2   19325   19813   14220    7933   15837   13759    5175    9134    2478  \n",
       "3   21357   19606   14038    8263   15758   15099    5966    9052    5526  \n",
       "4   21301   19565   13762    8119   15581   14858    5980    9007    5548  \n",
       "5   21556   19884   13976    8230   15798   15189    5753    9224    5580  "
      ]
     },
     "execution_count": 49,
     "metadata": {},
     "output_type": "execute_result"
    }
   ],
   "source": [
    "pop_trend_df = pd.read_csv(\"행정동별_거주인구.csv\")\n",
    "pop_trend_df = pop_trend_df[pop_trend_df['ADM_NM'].isin(empty_rate_df.columns[1:])]\n",
    "pop_pivot_df = pop_trend_df.pivot(index='year', columns='ADM_NM', values='인구')\n",
    "pop_pivot_df = pop_pivot_df[empty_rate_df.columns[1:]]\n",
    "\n",
    "# Now, we merge the population data with the existing vacancy rate dataframe (df)\n",
    "empty_rate_df['Year'] = empty_rate_df['Year'].astype(int)  # Ensure the 'Year' column in df is of integer type for merging\n",
    "merged_respop_df = empty_rate_df.merge(pop_pivot_df, left_on='Year', right_index=True, how='left')\n",
    "\n",
    "# Rename population columns for clarity (e.g., adding \"_인구\" suffix)\n",
    "merged_respop_df = merged_respop_df.rename(columns={f\"{name}_y\": f\"{name}_인구\" for name in pop_pivot_df.columns})\n",
    "\n",
    "merged_respop_df"
   ]
  },
  {
   "cell_type": "code",
   "execution_count": 50,
   "metadata": {},
   "outputs": [
    {
     "data": {
      "text/html": [
       "<div>\n",
       "<style scoped>\n",
       "    .dataframe tbody tr th:only-of-type {\n",
       "        vertical-align: middle;\n",
       "    }\n",
       "\n",
       "    .dataframe tbody tr th {\n",
       "        vertical-align: top;\n",
       "    }\n",
       "\n",
       "    .dataframe thead th {\n",
       "        text-align: right;\n",
       "    }\n",
       "</style>\n",
       "<table border=\"1\" class=\"dataframe\">\n",
       "  <thead>\n",
       "    <tr style=\"text-align: right;\">\n",
       "      <th></th>\n",
       "      <th>고운동_인구</th>\n",
       "      <th>아름동_인구</th>\n",
       "      <th>종촌동_인구</th>\n",
       "      <th>도담동_인구</th>\n",
       "      <th>어진동_인구</th>\n",
       "      <th>다정동_인구</th>\n",
       "      <th>새롬동_인구</th>\n",
       "      <th>한솔동_인구</th>\n",
       "      <th>대평동_인구</th>\n",
       "      <th>보람동_인구</th>\n",
       "      <th>소담동_인구</th>\n",
       "      <th>나성동_인구</th>\n",
       "      <th>반곡동_인구</th>\n",
       "      <th>해밀동_인구</th>\n",
       "    </tr>\n",
       "  </thead>\n",
       "  <tbody>\n",
       "    <tr>\n",
       "      <th>고운동_x</th>\n",
       "      <td>-0.175478</td>\n",
       "      <td>-0.218119</td>\n",
       "      <td>0.685059</td>\n",
       "      <td>0.640723</td>\n",
       "      <td>-0.914155</td>\n",
       "      <td>-0.874724</td>\n",
       "      <td>0.733752</td>\n",
       "      <td>0.835500</td>\n",
       "      <td>-0.761099</td>\n",
       "      <td>0.761060</td>\n",
       "      <td>-0.830923</td>\n",
       "      <td>-0.991544</td>\n",
       "      <td>0.572943</td>\n",
       "      <td>-0.915923</td>\n",
       "    </tr>\n",
       "    <tr>\n",
       "      <th>아름동_x</th>\n",
       "      <td>-0.664905</td>\n",
       "      <td>-0.907537</td>\n",
       "      <td>-0.197248</td>\n",
       "      <td>-0.179762</td>\n",
       "      <td>-0.399644</td>\n",
       "      <td>-0.812514</td>\n",
       "      <td>-0.296879</td>\n",
       "      <td>0.384834</td>\n",
       "      <td>-0.809736</td>\n",
       "      <td>-0.017283</td>\n",
       "      <td>-0.846829</td>\n",
       "      <td>-0.536570</td>\n",
       "      <td>-0.495248</td>\n",
       "      <td>-0.754878</td>\n",
       "    </tr>\n",
       "    <tr>\n",
       "      <th>종촌동_x</th>\n",
       "      <td>-0.965820</td>\n",
       "      <td>-0.773592</td>\n",
       "      <td>0.168839</td>\n",
       "      <td>-0.740400</td>\n",
       "      <td>0.331292</td>\n",
       "      <td>-0.251172</td>\n",
       "      <td>-0.375744</td>\n",
       "      <td>0.508045</td>\n",
       "      <td>0.041413</td>\n",
       "      <td>0.285409</td>\n",
       "      <td>-0.178325</td>\n",
       "      <td>-0.045819</td>\n",
       "      <td>-0.385498</td>\n",
       "      <td>-0.220050</td>\n",
       "    </tr>\n",
       "    <tr>\n",
       "      <th>도담동_x</th>\n",
       "      <td>-0.193036</td>\n",
       "      <td>-0.246288</td>\n",
       "      <td>0.663258</td>\n",
       "      <td>0.626819</td>\n",
       "      <td>-0.916388</td>\n",
       "      <td>-0.890679</td>\n",
       "      <td>0.710756</td>\n",
       "      <td>0.832673</td>\n",
       "      <td>-0.781055</td>\n",
       "      <td>0.744507</td>\n",
       "      <td>-0.849605</td>\n",
       "      <td>-0.995396</td>\n",
       "      <td>0.544732</td>\n",
       "      <td>-0.928963</td>\n",
       "    </tr>\n",
       "    <tr>\n",
       "      <th>어진동_x</th>\n",
       "      <td>0.451287</td>\n",
       "      <td>0.113751</td>\n",
       "      <td>-0.041211</td>\n",
       "      <td>0.804549</td>\n",
       "      <td>-0.856899</td>\n",
       "      <td>-0.542315</td>\n",
       "      <td>0.425974</td>\n",
       "      <td>0.036249</td>\n",
       "      <td>-0.775697</td>\n",
       "      <td>-0.018167</td>\n",
       "      <td>-0.615805</td>\n",
       "      <td>-0.611295</td>\n",
       "      <td>0.263286</td>\n",
       "      <td>-0.551430</td>\n",
       "    </tr>\n",
       "    <tr>\n",
       "      <th>다정동_x</th>\n",
       "      <td>-0.989922</td>\n",
       "      <td>-0.865013</td>\n",
       "      <td>0.260574</td>\n",
       "      <td>-0.550122</td>\n",
       "      <td>0.045278</td>\n",
       "      <td>-0.523648</td>\n",
       "      <td>-0.226017</td>\n",
       "      <td>0.678715</td>\n",
       "      <td>-0.241096</td>\n",
       "      <td>0.406258</td>\n",
       "      <td>-0.455356</td>\n",
       "      <td>-0.324687</td>\n",
       "      <td>-0.297411</td>\n",
       "      <td>-0.495954</td>\n",
       "    </tr>\n",
       "    <tr>\n",
       "      <th>새롬동_x</th>\n",
       "      <td>-0.056095</td>\n",
       "      <td>-0.388893</td>\n",
       "      <td>-0.012074</td>\n",
       "      <td>0.520828</td>\n",
       "      <td>-0.868524</td>\n",
       "      <td>-0.858687</td>\n",
       "      <td>0.242314</td>\n",
       "      <td>0.333538</td>\n",
       "      <td>-0.986400</td>\n",
       "      <td>0.098797</td>\n",
       "      <td>-0.914192</td>\n",
       "      <td>-0.790535</td>\n",
       "      <td>0.021840</td>\n",
       "      <td>-0.843737</td>\n",
       "    </tr>\n",
       "    <tr>\n",
       "      <th>한솔동_x</th>\n",
       "      <td>-0.351896</td>\n",
       "      <td>-0.354027</td>\n",
       "      <td>-0.726887</td>\n",
       "      <td>-0.921935</td>\n",
       "      <td>0.854763</td>\n",
       "      <td>0.490726</td>\n",
       "      <td>-0.964129</td>\n",
       "      <td>-0.553124</td>\n",
       "      <td>0.456289</td>\n",
       "      <td>-0.699838</td>\n",
       "      <td>0.452382</td>\n",
       "      <td>0.775651</td>\n",
       "      <td>-0.883713</td>\n",
       "      <td>0.564047</td>\n",
       "    </tr>\n",
       "    <tr>\n",
       "      <th>대평동_x</th>\n",
       "      <td>-0.086732</td>\n",
       "      <td>0.258267</td>\n",
       "      <td>0.026213</td>\n",
       "      <td>-0.613351</td>\n",
       "      <td>0.887139</td>\n",
       "      <td>0.791214</td>\n",
       "      <td>-0.296451</td>\n",
       "      <td>-0.254089</td>\n",
       "      <td>0.953985</td>\n",
       "      <td>-0.062974</td>\n",
       "      <td>0.854019</td>\n",
       "      <td>0.758561</td>\n",
       "      <td>-0.086167</td>\n",
       "      <td>0.782227</td>\n",
       "    </tr>\n",
       "    <tr>\n",
       "      <th>보람동_x</th>\n",
       "      <td>-0.873589</td>\n",
       "      <td>-0.772210</td>\n",
       "      <td>0.505648</td>\n",
       "      <td>-0.199404</td>\n",
       "      <td>-0.307265</td>\n",
       "      <td>-0.751470</td>\n",
       "      <td>0.118437</td>\n",
       "      <td>0.889455</td>\n",
       "      <td>-0.466838</td>\n",
       "      <td>0.650026</td>\n",
       "      <td>-0.674289</td>\n",
       "      <td>-0.644338</td>\n",
       "      <td>0.003915</td>\n",
       "      <td>-0.747567</td>\n",
       "    </tr>\n",
       "    <tr>\n",
       "      <th>소담동_x</th>\n",
       "      <td>-0.153935</td>\n",
       "      <td>-0.481892</td>\n",
       "      <td>-0.030992</td>\n",
       "      <td>0.435316</td>\n",
       "      <td>-0.831526</td>\n",
       "      <td>-0.886044</td>\n",
       "      <td>0.175971</td>\n",
       "      <td>0.362030</td>\n",
       "      <td>-0.995228</td>\n",
       "      <td>0.094447</td>\n",
       "      <td>-0.939054</td>\n",
       "      <td>-0.785818</td>\n",
       "      <td>-0.049022</td>\n",
       "      <td>-0.864730</td>\n",
       "    </tr>\n",
       "    <tr>\n",
       "      <th>나성동_x</th>\n",
       "      <td>-0.721008</td>\n",
       "      <td>-0.913546</td>\n",
       "      <td>-0.040943</td>\n",
       "      <td>-0.145010</td>\n",
       "      <td>-0.449035</td>\n",
       "      <td>-0.871102</td>\n",
       "      <td>-0.186417</td>\n",
       "      <td>0.527304</td>\n",
       "      <td>-0.814615</td>\n",
       "      <td>0.140859</td>\n",
       "      <td>-0.884805</td>\n",
       "      <td>-0.626030</td>\n",
       "      <td>-0.384372</td>\n",
       "      <td>-0.824027</td>\n",
       "    </tr>\n",
       "    <tr>\n",
       "      <th>반곡동_x</th>\n",
       "      <td>-0.721008</td>\n",
       "      <td>-0.913546</td>\n",
       "      <td>-0.040943</td>\n",
       "      <td>-0.145010</td>\n",
       "      <td>-0.449035</td>\n",
       "      <td>-0.871102</td>\n",
       "      <td>-0.186417</td>\n",
       "      <td>0.527304</td>\n",
       "      <td>-0.814615</td>\n",
       "      <td>0.140859</td>\n",
       "      <td>-0.884805</td>\n",
       "      <td>-0.626030</td>\n",
       "      <td>-0.384372</td>\n",
       "      <td>-0.824027</td>\n",
       "    </tr>\n",
       "    <tr>\n",
       "      <th>해밀동_x</th>\n",
       "      <td>NaN</td>\n",
       "      <td>NaN</td>\n",
       "      <td>NaN</td>\n",
       "      <td>NaN</td>\n",
       "      <td>NaN</td>\n",
       "      <td>NaN</td>\n",
       "      <td>NaN</td>\n",
       "      <td>NaN</td>\n",
       "      <td>NaN</td>\n",
       "      <td>NaN</td>\n",
       "      <td>NaN</td>\n",
       "      <td>NaN</td>\n",
       "      <td>NaN</td>\n",
       "      <td>NaN</td>\n",
       "    </tr>\n",
       "  </tbody>\n",
       "</table>\n",
       "</div>"
      ],
      "text/plain": [
       "         고운동_인구    아름동_인구    종촌동_인구    도담동_인구    어진동_인구    다정동_인구    새롬동_인구  \\\n",
       "고운동_x -0.175478 -0.218119  0.685059  0.640723 -0.914155 -0.874724  0.733752   \n",
       "아름동_x -0.664905 -0.907537 -0.197248 -0.179762 -0.399644 -0.812514 -0.296879   \n",
       "종촌동_x -0.965820 -0.773592  0.168839 -0.740400  0.331292 -0.251172 -0.375744   \n",
       "도담동_x -0.193036 -0.246288  0.663258  0.626819 -0.916388 -0.890679  0.710756   \n",
       "어진동_x  0.451287  0.113751 -0.041211  0.804549 -0.856899 -0.542315  0.425974   \n",
       "다정동_x -0.989922 -0.865013  0.260574 -0.550122  0.045278 -0.523648 -0.226017   \n",
       "새롬동_x -0.056095 -0.388893 -0.012074  0.520828 -0.868524 -0.858687  0.242314   \n",
       "한솔동_x -0.351896 -0.354027 -0.726887 -0.921935  0.854763  0.490726 -0.964129   \n",
       "대평동_x -0.086732  0.258267  0.026213 -0.613351  0.887139  0.791214 -0.296451   \n",
       "보람동_x -0.873589 -0.772210  0.505648 -0.199404 -0.307265 -0.751470  0.118437   \n",
       "소담동_x -0.153935 -0.481892 -0.030992  0.435316 -0.831526 -0.886044  0.175971   \n",
       "나성동_x -0.721008 -0.913546 -0.040943 -0.145010 -0.449035 -0.871102 -0.186417   \n",
       "반곡동_x -0.721008 -0.913546 -0.040943 -0.145010 -0.449035 -0.871102 -0.186417   \n",
       "해밀동_x       NaN       NaN       NaN       NaN       NaN       NaN       NaN   \n",
       "\n",
       "         한솔동_인구    대평동_인구    보람동_인구    소담동_인구    나성동_인구    반곡동_인구    해밀동_인구  \n",
       "고운동_x  0.835500 -0.761099  0.761060 -0.830923 -0.991544  0.572943 -0.915923  \n",
       "아름동_x  0.384834 -0.809736 -0.017283 -0.846829 -0.536570 -0.495248 -0.754878  \n",
       "종촌동_x  0.508045  0.041413  0.285409 -0.178325 -0.045819 -0.385498 -0.220050  \n",
       "도담동_x  0.832673 -0.781055  0.744507 -0.849605 -0.995396  0.544732 -0.928963  \n",
       "어진동_x  0.036249 -0.775697 -0.018167 -0.615805 -0.611295  0.263286 -0.551430  \n",
       "다정동_x  0.678715 -0.241096  0.406258 -0.455356 -0.324687 -0.297411 -0.495954  \n",
       "새롬동_x  0.333538 -0.986400  0.098797 -0.914192 -0.790535  0.021840 -0.843737  \n",
       "한솔동_x -0.553124  0.456289 -0.699838  0.452382  0.775651 -0.883713  0.564047  \n",
       "대평동_x -0.254089  0.953985 -0.062974  0.854019  0.758561 -0.086167  0.782227  \n",
       "보람동_x  0.889455 -0.466838  0.650026 -0.674289 -0.644338  0.003915 -0.747567  \n",
       "소담동_x  0.362030 -0.995228  0.094447 -0.939054 -0.785818 -0.049022 -0.864730  \n",
       "나성동_x  0.527304 -0.814615  0.140859 -0.884805 -0.626030 -0.384372 -0.824027  \n",
       "반곡동_x  0.527304 -0.814615  0.140859 -0.884805 -0.626030 -0.384372 -0.824027  \n",
       "해밀동_x       NaN       NaN       NaN       NaN       NaN       NaN       NaN  "
      ]
     },
     "execution_count": 50,
     "metadata": {},
     "output_type": "execute_result"
    }
   ],
   "source": [
    "# Calculating the correlation between vacancy rates and population data\n",
    "# We'll focus on the columns that have both vacancy rate and population data available\n",
    "\n",
    "# Extracting relevant columns for correlation analysis\n",
    "vacancy_columns = merged_respop_df.columns[1:15].tolist()\n",
    "population_columns = merged_respop_df.columns[15:].tolist()\n",
    "\n",
    "# Create a DataFrame with only the columns needed for correlation\n",
    "correlation_df = merged_respop_df[vacancy_columns + population_columns]\n",
    "\n",
    "# Calculate correlation matrix\n",
    "correlation_matrix = correlation_df.corr()\n",
    "\n",
    "# Extracting the correlation between vacancy rates and population data\n",
    "# The first half of the columns are vacancy rates, the second half are populations\n",
    "correlation_vacancy_population = correlation_matrix.loc[vacancy_columns, population_columns]\n",
    "\n",
    "correlation_vacancy_population"
   ]
  },
  {
   "cell_type": "code",
   "execution_count": 51,
   "metadata": {},
   "outputs": [
    {
     "data": {
      "application/vnd.plotly.v1+json": {
       "config": {
        "plotlyServerURL": "https://plot.ly"
       },
       "data": [
        {
         "coloraxis": "coloraxis",
         "hovertemplate": "Population Data: %{x}<br>Vacancy Rates: %{y}<br>Correlation: %{z}<extra></extra>",
         "name": "0",
         "type": "heatmap",
         "x": [
          "고운동_인구",
          "아름동_인구",
          "종촌동_인구",
          "도담동_인구",
          "어진동_인구",
          "다정동_인구",
          "새롬동_인구",
          "한솔동_인구",
          "대평동_인구",
          "보람동_인구",
          "소담동_인구",
          "나성동_인구",
          "반곡동_인구",
          "해밀동_인구"
         ],
         "xaxis": "x",
         "y": [
          "고운동_x",
          "아름동_x",
          "종촌동_x",
          "도담동_x",
          "어진동_x",
          "다정동_x",
          "새롬동_x",
          "한솔동_x",
          "대평동_x",
          "보람동_x",
          "소담동_x",
          "나성동_x",
          "반곡동_x",
          "해밀동_x"
         ],
         "yaxis": "y",
         "z": [
          [
           -0.17547788614659995,
           -0.21811920287714112,
           0.6850590017969407,
           0.6407226977388675,
           -0.914154641351672,
           -0.8747237948338611,
           0.7337515303654203,
           0.8355002760788157,
           -0.7610992294872138,
           0.7610602343662757,
           -0.8309228563500194,
           -0.9915444302177007,
           0.5729434523566989,
           -0.9159234414937163
          ],
          [
           -0.6649051440300208,
           -0.9075369620599322,
           -0.19724824016846643,
           -0.17976220900755238,
           -0.3996444075097231,
           -0.8125144053891372,
           -0.2968792635144593,
           0.38483366341463904,
           -0.8097363966129941,
           -0.017283144299164294,
           -0.8468293839857992,
           -0.536570481550302,
           -0.4952480735997973,
           -0.7548777694740333
          ],
          [
           -0.9658202655765045,
           -0.7735919354661029,
           0.16883866855925797,
           -0.7404000257761164,
           0.3312916077447847,
           -0.25117152439386153,
           -0.3757436640591285,
           0.5080445020129336,
           0.04141253886117334,
           0.28540909020557265,
           -0.17832463531348458,
           -0.04581889863162985,
           -0.38549787406360186,
           -0.2200502157781114
          ],
          [
           -0.1930359288193481,
           -0.24628774918303506,
           0.6632577506431937,
           0.6268186862778601,
           -0.9163884076600846,
           -0.8906793855626379,
           0.7107560588949654,
           0.8326734887126012,
           -0.7810550062154865,
           0.7445072809844259,
           -0.8496049698147872,
           -0.995395774472587,
           0.5447322446395552,
           -0.9289628999728231
          ],
          [
           0.45128732628213736,
           0.11375051263459324,
           -0.04121050915621567,
           0.8045488206564329,
           -0.8568986288348499,
           -0.5423150768772059,
           0.4259735938951566,
           0.03624945414374013,
           -0.7756966824750273,
           -0.01816715185617366,
           -0.6158049864109718,
           -0.6112950286984759,
           0.2632863513901735,
           -0.5514295007501901
          ],
          [
           -0.9899222362918948,
           -0.8650125755598718,
           0.2605735699400442,
           -0.5501219013886928,
           0.04527783845533368,
           -0.5236481910856593,
           -0.22601743657036596,
           0.6787146850083572,
           -0.24109585034736952,
           0.4062579302914306,
           -0.4553556550612879,
           -0.32468661562362766,
           -0.2974110884521442,
           -0.4959544908603944
          ],
          [
           -0.05609526092215528,
           -0.38889340633218955,
           -0.012073597347093859,
           0.520828435862608,
           -0.8685240757417584,
           -0.8586874060805233,
           0.2423143741122708,
           0.3335377238360403,
           -0.9864000859265213,
           0.09879689800101944,
           -0.9141922802794431,
           -0.7905347726261619,
           0.02183961604565074,
           -0.8437373485781051
          ],
          [
           -0.351896345548883,
           -0.35402705669343015,
           -0.7268868738665695,
           -0.9219349768368333,
           0.8547629087103147,
           0.49072559445766134,
           -0.9641293068856617,
           -0.5531238957436575,
           0.45628941427181385,
           -0.6998377691133785,
           0.45238205556259947,
           0.7756508403877185,
           -0.8837133348255376,
           0.564046746794682
          ],
          [
           -0.08673200968057253,
           0.2582668296355998,
           0.026213034363815814,
           -0.6133513308802997,
           0.8871386763821747,
           0.7912142333563306,
           -0.2964512467904452,
           -0.2540887307981137,
           0.9539849852030853,
           -0.06297367629057517,
           0.8540194879736938,
           0.758560530178797,
           -0.08616689296522903,
           0.7822266723970557
          ],
          [
           -0.8735885327840348,
           -0.772210209712911,
           0.5056482671047053,
           -0.19940417972045021,
           -0.30726512254080246,
           -0.7514701968399994,
           0.11843651447291452,
           0.8894553429562743,
           -0.46683801446046425,
           0.6500255632890022,
           -0.6742889115468377,
           -0.6443381422974135,
           0.00391513627313894,
           -0.7475668715119455
          ],
          [
           -0.15393451811382036,
           -0.4818918571161746,
           -0.03099217968803687,
           0.4353159599307633,
           -0.8315262668798347,
           -0.8860436025823648,
           0.1759710387053663,
           0.3620303937057178,
           -0.9952278926828241,
           0.09444716750108381,
           -0.9390539358064731,
           -0.7858182486209124,
           -0.04902171587581904,
           -0.8647303189232015
          ],
          [
           -0.7210076276945284,
           -0.9135461923602892,
           -0.04094305219835684,
           -0.14501047335683606,
           -0.44903471110976134,
           -0.8711015511314962,
           -0.18641656970441675,
           0.5273041738518948,
           -0.8146148035572506,
           0.14085940995418947,
           -0.8848051948313455,
           -0.6260303938122284,
           -0.38437152686693793,
           -0.8240267292406748
          ],
          [
           -0.7210076276945286,
           -0.9135461923602891,
           -0.040943052198356665,
           -0.14501047335683662,
           -0.44903471110976045,
           -0.8711015511314956,
           -0.1864165697044169,
           0.5273041738518947,
           -0.8146148035572497,
           0.14085940995418955,
           -0.8848051948313448,
           -0.6260303938122277,
           -0.38437152686693793,
           -0.824026729240674
          ],
          [
           null,
           null,
           null,
           null,
           null,
           null,
           null,
           null,
           null,
           null,
           null,
           null,
           null,
           null
          ]
         ]
        }
       ],
       "layout": {
        "coloraxis": {
         "cmax": 1,
         "cmin": -1,
         "colorbar": {
          "title": {
           "text": "Correlation"
          }
         },
         "colorscale": [
          [
           0,
           "rgb(103,0,31)"
          ],
          [
           0.1,
           "rgb(178,24,43)"
          ],
          [
           0.2,
           "rgb(214,96,77)"
          ],
          [
           0.3,
           "rgb(244,165,130)"
          ],
          [
           0.4,
           "rgb(253,219,199)"
          ],
          [
           0.5,
           "rgb(247,247,247)"
          ],
          [
           0.6,
           "rgb(209,229,240)"
          ],
          [
           0.7,
           "rgb(146,197,222)"
          ],
          [
           0.8,
           "rgb(67,147,195)"
          ],
          [
           0.9,
           "rgb(33,102,172)"
          ],
          [
           1,
           "rgb(5,48,97)"
          ]
         ]
        },
        "margin": {
         "t": 60
        },
        "template": {
         "data": {
          "bar": [
           {
            "error_x": {
             "color": "#2a3f5f"
            },
            "error_y": {
             "color": "#2a3f5f"
            },
            "marker": {
             "line": {
              "color": "#E5ECF6",
              "width": 0.5
             },
             "pattern": {
              "fillmode": "overlay",
              "size": 10,
              "solidity": 0.2
             }
            },
            "type": "bar"
           }
          ],
          "barpolar": [
           {
            "marker": {
             "line": {
              "color": "#E5ECF6",
              "width": 0.5
             },
             "pattern": {
              "fillmode": "overlay",
              "size": 10,
              "solidity": 0.2
             }
            },
            "type": "barpolar"
           }
          ],
          "carpet": [
           {
            "aaxis": {
             "endlinecolor": "#2a3f5f",
             "gridcolor": "white",
             "linecolor": "white",
             "minorgridcolor": "white",
             "startlinecolor": "#2a3f5f"
            },
            "baxis": {
             "endlinecolor": "#2a3f5f",
             "gridcolor": "white",
             "linecolor": "white",
             "minorgridcolor": "white",
             "startlinecolor": "#2a3f5f"
            },
            "type": "carpet"
           }
          ],
          "choropleth": [
           {
            "colorbar": {
             "outlinewidth": 0,
             "ticks": ""
            },
            "type": "choropleth"
           }
          ],
          "contour": [
           {
            "colorbar": {
             "outlinewidth": 0,
             "ticks": ""
            },
            "colorscale": [
             [
              0,
              "#0d0887"
             ],
             [
              0.1111111111111111,
              "#46039f"
             ],
             [
              0.2222222222222222,
              "#7201a8"
             ],
             [
              0.3333333333333333,
              "#9c179e"
             ],
             [
              0.4444444444444444,
              "#bd3786"
             ],
             [
              0.5555555555555556,
              "#d8576b"
             ],
             [
              0.6666666666666666,
              "#ed7953"
             ],
             [
              0.7777777777777778,
              "#fb9f3a"
             ],
             [
              0.8888888888888888,
              "#fdca26"
             ],
             [
              1,
              "#f0f921"
             ]
            ],
            "type": "contour"
           }
          ],
          "contourcarpet": [
           {
            "colorbar": {
             "outlinewidth": 0,
             "ticks": ""
            },
            "type": "contourcarpet"
           }
          ],
          "heatmap": [
           {
            "colorbar": {
             "outlinewidth": 0,
             "ticks": ""
            },
            "colorscale": [
             [
              0,
              "#0d0887"
             ],
             [
              0.1111111111111111,
              "#46039f"
             ],
             [
              0.2222222222222222,
              "#7201a8"
             ],
             [
              0.3333333333333333,
              "#9c179e"
             ],
             [
              0.4444444444444444,
              "#bd3786"
             ],
             [
              0.5555555555555556,
              "#d8576b"
             ],
             [
              0.6666666666666666,
              "#ed7953"
             ],
             [
              0.7777777777777778,
              "#fb9f3a"
             ],
             [
              0.8888888888888888,
              "#fdca26"
             ],
             [
              1,
              "#f0f921"
             ]
            ],
            "type": "heatmap"
           }
          ],
          "heatmapgl": [
           {
            "colorbar": {
             "outlinewidth": 0,
             "ticks": ""
            },
            "colorscale": [
             [
              0,
              "#0d0887"
             ],
             [
              0.1111111111111111,
              "#46039f"
             ],
             [
              0.2222222222222222,
              "#7201a8"
             ],
             [
              0.3333333333333333,
              "#9c179e"
             ],
             [
              0.4444444444444444,
              "#bd3786"
             ],
             [
              0.5555555555555556,
              "#d8576b"
             ],
             [
              0.6666666666666666,
              "#ed7953"
             ],
             [
              0.7777777777777778,
              "#fb9f3a"
             ],
             [
              0.8888888888888888,
              "#fdca26"
             ],
             [
              1,
              "#f0f921"
             ]
            ],
            "type": "heatmapgl"
           }
          ],
          "histogram": [
           {
            "marker": {
             "pattern": {
              "fillmode": "overlay",
              "size": 10,
              "solidity": 0.2
             }
            },
            "type": "histogram"
           }
          ],
          "histogram2d": [
           {
            "colorbar": {
             "outlinewidth": 0,
             "ticks": ""
            },
            "colorscale": [
             [
              0,
              "#0d0887"
             ],
             [
              0.1111111111111111,
              "#46039f"
             ],
             [
              0.2222222222222222,
              "#7201a8"
             ],
             [
              0.3333333333333333,
              "#9c179e"
             ],
             [
              0.4444444444444444,
              "#bd3786"
             ],
             [
              0.5555555555555556,
              "#d8576b"
             ],
             [
              0.6666666666666666,
              "#ed7953"
             ],
             [
              0.7777777777777778,
              "#fb9f3a"
             ],
             [
              0.8888888888888888,
              "#fdca26"
             ],
             [
              1,
              "#f0f921"
             ]
            ],
            "type": "histogram2d"
           }
          ],
          "histogram2dcontour": [
           {
            "colorbar": {
             "outlinewidth": 0,
             "ticks": ""
            },
            "colorscale": [
             [
              0,
              "#0d0887"
             ],
             [
              0.1111111111111111,
              "#46039f"
             ],
             [
              0.2222222222222222,
              "#7201a8"
             ],
             [
              0.3333333333333333,
              "#9c179e"
             ],
             [
              0.4444444444444444,
              "#bd3786"
             ],
             [
              0.5555555555555556,
              "#d8576b"
             ],
             [
              0.6666666666666666,
              "#ed7953"
             ],
             [
              0.7777777777777778,
              "#fb9f3a"
             ],
             [
              0.8888888888888888,
              "#fdca26"
             ],
             [
              1,
              "#f0f921"
             ]
            ],
            "type": "histogram2dcontour"
           }
          ],
          "mesh3d": [
           {
            "colorbar": {
             "outlinewidth": 0,
             "ticks": ""
            },
            "type": "mesh3d"
           }
          ],
          "parcoords": [
           {
            "line": {
             "colorbar": {
              "outlinewidth": 0,
              "ticks": ""
             }
            },
            "type": "parcoords"
           }
          ],
          "pie": [
           {
            "automargin": true,
            "type": "pie"
           }
          ],
          "scatter": [
           {
            "fillpattern": {
             "fillmode": "overlay",
             "size": 10,
             "solidity": 0.2
            },
            "type": "scatter"
           }
          ],
          "scatter3d": [
           {
            "line": {
             "colorbar": {
              "outlinewidth": 0,
              "ticks": ""
             }
            },
            "marker": {
             "colorbar": {
              "outlinewidth": 0,
              "ticks": ""
             }
            },
            "type": "scatter3d"
           }
          ],
          "scattercarpet": [
           {
            "marker": {
             "colorbar": {
              "outlinewidth": 0,
              "ticks": ""
             }
            },
            "type": "scattercarpet"
           }
          ],
          "scattergeo": [
           {
            "marker": {
             "colorbar": {
              "outlinewidth": 0,
              "ticks": ""
             }
            },
            "type": "scattergeo"
           }
          ],
          "scattergl": [
           {
            "marker": {
             "colorbar": {
              "outlinewidth": 0,
              "ticks": ""
             }
            },
            "type": "scattergl"
           }
          ],
          "scattermapbox": [
           {
            "marker": {
             "colorbar": {
              "outlinewidth": 0,
              "ticks": ""
             }
            },
            "type": "scattermapbox"
           }
          ],
          "scatterpolar": [
           {
            "marker": {
             "colorbar": {
              "outlinewidth": 0,
              "ticks": ""
             }
            },
            "type": "scatterpolar"
           }
          ],
          "scatterpolargl": [
           {
            "marker": {
             "colorbar": {
              "outlinewidth": 0,
              "ticks": ""
             }
            },
            "type": "scatterpolargl"
           }
          ],
          "scatterternary": [
           {
            "marker": {
             "colorbar": {
              "outlinewidth": 0,
              "ticks": ""
             }
            },
            "type": "scatterternary"
           }
          ],
          "surface": [
           {
            "colorbar": {
             "outlinewidth": 0,
             "ticks": ""
            },
            "colorscale": [
             [
              0,
              "#0d0887"
             ],
             [
              0.1111111111111111,
              "#46039f"
             ],
             [
              0.2222222222222222,
              "#7201a8"
             ],
             [
              0.3333333333333333,
              "#9c179e"
             ],
             [
              0.4444444444444444,
              "#bd3786"
             ],
             [
              0.5555555555555556,
              "#d8576b"
             ],
             [
              0.6666666666666666,
              "#ed7953"
             ],
             [
              0.7777777777777778,
              "#fb9f3a"
             ],
             [
              0.8888888888888888,
              "#fdca26"
             ],
             [
              1,
              "#f0f921"
             ]
            ],
            "type": "surface"
           }
          ],
          "table": [
           {
            "cells": {
             "fill": {
              "color": "#EBF0F8"
             },
             "line": {
              "color": "white"
             }
            },
            "header": {
             "fill": {
              "color": "#C8D4E3"
             },
             "line": {
              "color": "white"
             }
            },
            "type": "table"
           }
          ]
         },
         "layout": {
          "annotationdefaults": {
           "arrowcolor": "#2a3f5f",
           "arrowhead": 0,
           "arrowwidth": 1
          },
          "autotypenumbers": "strict",
          "coloraxis": {
           "colorbar": {
            "outlinewidth": 0,
            "ticks": ""
           }
          },
          "colorscale": {
           "diverging": [
            [
             0,
             "#8e0152"
            ],
            [
             0.1,
             "#c51b7d"
            ],
            [
             0.2,
             "#de77ae"
            ],
            [
             0.3,
             "#f1b6da"
            ],
            [
             0.4,
             "#fde0ef"
            ],
            [
             0.5,
             "#f7f7f7"
            ],
            [
             0.6,
             "#e6f5d0"
            ],
            [
             0.7,
             "#b8e186"
            ],
            [
             0.8,
             "#7fbc41"
            ],
            [
             0.9,
             "#4d9221"
            ],
            [
             1,
             "#276419"
            ]
           ],
           "sequential": [
            [
             0,
             "#0d0887"
            ],
            [
             0.1111111111111111,
             "#46039f"
            ],
            [
             0.2222222222222222,
             "#7201a8"
            ],
            [
             0.3333333333333333,
             "#9c179e"
            ],
            [
             0.4444444444444444,
             "#bd3786"
            ],
            [
             0.5555555555555556,
             "#d8576b"
            ],
            [
             0.6666666666666666,
             "#ed7953"
            ],
            [
             0.7777777777777778,
             "#fb9f3a"
            ],
            [
             0.8888888888888888,
             "#fdca26"
            ],
            [
             1,
             "#f0f921"
            ]
           ],
           "sequentialminus": [
            [
             0,
             "#0d0887"
            ],
            [
             0.1111111111111111,
             "#46039f"
            ],
            [
             0.2222222222222222,
             "#7201a8"
            ],
            [
             0.3333333333333333,
             "#9c179e"
            ],
            [
             0.4444444444444444,
             "#bd3786"
            ],
            [
             0.5555555555555556,
             "#d8576b"
            ],
            [
             0.6666666666666666,
             "#ed7953"
            ],
            [
             0.7777777777777778,
             "#fb9f3a"
            ],
            [
             0.8888888888888888,
             "#fdca26"
            ],
            [
             1,
             "#f0f921"
            ]
           ]
          },
          "colorway": [
           "#636efa",
           "#EF553B",
           "#00cc96",
           "#ab63fa",
           "#FFA15A",
           "#19d3f3",
           "#FF6692",
           "#B6E880",
           "#FF97FF",
           "#FECB52"
          ],
          "font": {
           "color": "#2a3f5f"
          },
          "geo": {
           "bgcolor": "white",
           "lakecolor": "white",
           "landcolor": "#E5ECF6",
           "showlakes": true,
           "showland": true,
           "subunitcolor": "white"
          },
          "hoverlabel": {
           "align": "left"
          },
          "hovermode": "closest",
          "mapbox": {
           "style": "light"
          },
          "paper_bgcolor": "white",
          "plot_bgcolor": "#E5ECF6",
          "polar": {
           "angularaxis": {
            "gridcolor": "white",
            "linecolor": "white",
            "ticks": ""
           },
           "bgcolor": "#E5ECF6",
           "radialaxis": {
            "gridcolor": "white",
            "linecolor": "white",
            "ticks": ""
           }
          },
          "scene": {
           "xaxis": {
            "backgroundcolor": "#E5ECF6",
            "gridcolor": "white",
            "gridwidth": 2,
            "linecolor": "white",
            "showbackground": true,
            "ticks": "",
            "zerolinecolor": "white"
           },
           "yaxis": {
            "backgroundcolor": "#E5ECF6",
            "gridcolor": "white",
            "gridwidth": 2,
            "linecolor": "white",
            "showbackground": true,
            "ticks": "",
            "zerolinecolor": "white"
           },
           "zaxis": {
            "backgroundcolor": "#E5ECF6",
            "gridcolor": "white",
            "gridwidth": 2,
            "linecolor": "white",
            "showbackground": true,
            "ticks": "",
            "zerolinecolor": "white"
           }
          },
          "shapedefaults": {
           "line": {
            "color": "#2a3f5f"
           }
          },
          "ternary": {
           "aaxis": {
            "gridcolor": "white",
            "linecolor": "white",
            "ticks": ""
           },
           "baxis": {
            "gridcolor": "white",
            "linecolor": "white",
            "ticks": ""
           },
           "bgcolor": "#E5ECF6",
           "caxis": {
            "gridcolor": "white",
            "linecolor": "white",
            "ticks": ""
           }
          },
          "title": {
           "x": 0.05
          },
          "xaxis": {
           "automargin": true,
           "gridcolor": "white",
           "linecolor": "white",
           "ticks": "",
           "title": {
            "standoff": 15
           },
           "zerolinecolor": "white",
           "zerolinewidth": 2
          },
          "yaxis": {
           "automargin": true,
           "gridcolor": "white",
           "linecolor": "white",
           "ticks": "",
           "title": {
            "standoff": 15
           },
           "zerolinecolor": "white",
           "zerolinewidth": 2
          }
         }
        },
        "xaxis": {
         "anchor": "y",
         "constrain": "domain",
         "domain": [
          0,
          1
         ],
         "scaleanchor": "y",
         "title": {
          "text": "Population Data"
         }
        },
        "yaxis": {
         "anchor": "x",
         "autorange": "reversed",
         "constrain": "domain",
         "domain": [
          0,
          1
         ],
         "title": {
          "text": "Vacancy Rates"
         }
        }
       }
      }
     },
     "metadata": {},
     "output_type": "display_data"
    }
   ],
   "source": [
    "import plotly.express as px\n",
    "\n",
    "# Create a correlation heatmap using Plotly\n",
    "fig = px.imshow(\n",
    "    correlation_vacancy_population,\n",
    "    labels=dict(x=\"Population Data\", y=\"Vacancy Rates\", color=\"Correlation\"),\n",
    "    x=correlation_vacancy_population.columns,\n",
    "    y=correlation_vacancy_population.index,\n",
    "    color_continuous_scale='RdBu',\n",
    "    zmin=-1, zmax=1\n",
    ")\n",
    "\n",
    "fig.show()"
   ]
  },
  {
   "cell_type": "markdown",
   "metadata": {},
   "source": [
    "##### 공실률 - 유동인구 상관관계"
   ]
  },
  {
   "cell_type": "code",
   "execution_count": 52,
   "metadata": {},
   "outputs": [],
   "source": [
    "fpop_trend_df = pd.read_csv(\"행정동별_유동인구.csv\")\n",
    "fpop_trend_df = pop_trend_df[pop_trend_df['ADM_NM'].isin(empty_rate_df.columns[1:])]\n",
    "fpop_trend_df.rename(columns={\"인구\":\"유동인구\"}, inplace=True)"
   ]
  },
  {
   "cell_type": "code",
   "execution_count": 53,
   "metadata": {},
   "outputs": [],
   "source": [
    "# Pivot the floating population data to match the main dataframe format\n",
    "fpop_pivot_df = fpop_trend_df.pivot(index='year', columns='ADM_NM', values='유동인구')\n",
    "\n",
    "# Merge the floating population data with the main dataframe\n",
    "empty_rate_df['Year'] = empty_rate_df['Year'].astype(int)\n",
    "merged_fpop_df = empty_rate_df.merge(fpop_pivot_df, left_on='Year', right_index=True, how='left')\n",
    "\n",
    "# Rename the floating population columns for clarity (e.g., adding \"_유동인구\" suffix)\n",
    "merged_fpop_df = merged_fpop_df.rename(columns={f\"{name}_y\": f\"{name}_유동인구\" for name in fpop_pivot_df.columns})"
   ]
  },
  {
   "cell_type": "code",
   "execution_count": 54,
   "metadata": {},
   "outputs": [
    {
     "data": {
      "text/html": [
       "<div>\n",
       "<style scoped>\n",
       "    .dataframe tbody tr th:only-of-type {\n",
       "        vertical-align: middle;\n",
       "    }\n",
       "\n",
       "    .dataframe tbody tr th {\n",
       "        vertical-align: top;\n",
       "    }\n",
       "\n",
       "    .dataframe thead th {\n",
       "        text-align: right;\n",
       "    }\n",
       "</style>\n",
       "<table border=\"1\" class=\"dataframe\">\n",
       "  <thead>\n",
       "    <tr style=\"text-align: right;\">\n",
       "      <th></th>\n",
       "      <th>고운동_유동인구</th>\n",
       "      <th>나성동_유동인구</th>\n",
       "      <th>다정동_유동인구</th>\n",
       "      <th>대평동_유동인구</th>\n",
       "      <th>도담동_유동인구</th>\n",
       "      <th>반곡동_유동인구</th>\n",
       "      <th>보람동_유동인구</th>\n",
       "      <th>새롬동_유동인구</th>\n",
       "      <th>소담동_유동인구</th>\n",
       "      <th>아름동_유동인구</th>\n",
       "      <th>어진동_유동인구</th>\n",
       "      <th>종촌동_유동인구</th>\n",
       "      <th>한솔동_유동인구</th>\n",
       "      <th>해밀동_유동인구</th>\n",
       "    </tr>\n",
       "  </thead>\n",
       "  <tbody>\n",
       "    <tr>\n",
       "      <th>고운동_x</th>\n",
       "      <td>-0.175478</td>\n",
       "      <td>-0.991544</td>\n",
       "      <td>-0.874724</td>\n",
       "      <td>-0.761099</td>\n",
       "      <td>0.640723</td>\n",
       "      <td>0.572943</td>\n",
       "      <td>0.761060</td>\n",
       "      <td>0.733752</td>\n",
       "      <td>-0.830923</td>\n",
       "      <td>-0.218119</td>\n",
       "      <td>-0.914155</td>\n",
       "      <td>0.685059</td>\n",
       "      <td>0.835500</td>\n",
       "      <td>-0.915923</td>\n",
       "    </tr>\n",
       "    <tr>\n",
       "      <th>아름동_x</th>\n",
       "      <td>-0.664905</td>\n",
       "      <td>-0.536570</td>\n",
       "      <td>-0.812514</td>\n",
       "      <td>-0.809736</td>\n",
       "      <td>-0.179762</td>\n",
       "      <td>-0.495248</td>\n",
       "      <td>-0.017283</td>\n",
       "      <td>-0.296879</td>\n",
       "      <td>-0.846829</td>\n",
       "      <td>-0.907537</td>\n",
       "      <td>-0.399644</td>\n",
       "      <td>-0.197248</td>\n",
       "      <td>0.384834</td>\n",
       "      <td>-0.754878</td>\n",
       "    </tr>\n",
       "    <tr>\n",
       "      <th>종촌동_x</th>\n",
       "      <td>-0.965820</td>\n",
       "      <td>-0.045819</td>\n",
       "      <td>-0.251172</td>\n",
       "      <td>0.041413</td>\n",
       "      <td>-0.740400</td>\n",
       "      <td>-0.385498</td>\n",
       "      <td>0.285409</td>\n",
       "      <td>-0.375744</td>\n",
       "      <td>-0.178325</td>\n",
       "      <td>-0.773592</td>\n",
       "      <td>0.331292</td>\n",
       "      <td>0.168839</td>\n",
       "      <td>0.508045</td>\n",
       "      <td>-0.220050</td>\n",
       "    </tr>\n",
       "    <tr>\n",
       "      <th>도담동_x</th>\n",
       "      <td>-0.193036</td>\n",
       "      <td>-0.995396</td>\n",
       "      <td>-0.890679</td>\n",
       "      <td>-0.781055</td>\n",
       "      <td>0.626819</td>\n",
       "      <td>0.544732</td>\n",
       "      <td>0.744507</td>\n",
       "      <td>0.710756</td>\n",
       "      <td>-0.849605</td>\n",
       "      <td>-0.246288</td>\n",
       "      <td>-0.916388</td>\n",
       "      <td>0.663258</td>\n",
       "      <td>0.832673</td>\n",
       "      <td>-0.928963</td>\n",
       "    </tr>\n",
       "    <tr>\n",
       "      <th>어진동_x</th>\n",
       "      <td>0.451287</td>\n",
       "      <td>-0.611295</td>\n",
       "      <td>-0.542315</td>\n",
       "      <td>-0.775697</td>\n",
       "      <td>0.804549</td>\n",
       "      <td>0.263286</td>\n",
       "      <td>-0.018167</td>\n",
       "      <td>0.425974</td>\n",
       "      <td>-0.615805</td>\n",
       "      <td>0.113751</td>\n",
       "      <td>-0.856899</td>\n",
       "      <td>-0.041211</td>\n",
       "      <td>0.036249</td>\n",
       "      <td>-0.551430</td>\n",
       "    </tr>\n",
       "    <tr>\n",
       "      <th>다정동_x</th>\n",
       "      <td>-0.989922</td>\n",
       "      <td>-0.324687</td>\n",
       "      <td>-0.523648</td>\n",
       "      <td>-0.241096</td>\n",
       "      <td>-0.550122</td>\n",
       "      <td>-0.297411</td>\n",
       "      <td>0.406258</td>\n",
       "      <td>-0.226017</td>\n",
       "      <td>-0.455356</td>\n",
       "      <td>-0.865013</td>\n",
       "      <td>0.045278</td>\n",
       "      <td>0.260574</td>\n",
       "      <td>0.678715</td>\n",
       "      <td>-0.495954</td>\n",
       "    </tr>\n",
       "    <tr>\n",
       "      <th>새롬동_x</th>\n",
       "      <td>-0.056095</td>\n",
       "      <td>-0.790535</td>\n",
       "      <td>-0.858687</td>\n",
       "      <td>-0.986400</td>\n",
       "      <td>0.520828</td>\n",
       "      <td>0.021840</td>\n",
       "      <td>0.098797</td>\n",
       "      <td>0.242314</td>\n",
       "      <td>-0.914192</td>\n",
       "      <td>-0.388893</td>\n",
       "      <td>-0.868524</td>\n",
       "      <td>-0.012074</td>\n",
       "      <td>0.333538</td>\n",
       "      <td>-0.843737</td>\n",
       "    </tr>\n",
       "    <tr>\n",
       "      <th>한솔동_x</th>\n",
       "      <td>-0.351896</td>\n",
       "      <td>0.775651</td>\n",
       "      <td>0.490726</td>\n",
       "      <td>0.456289</td>\n",
       "      <td>-0.921935</td>\n",
       "      <td>-0.883713</td>\n",
       "      <td>-0.699838</td>\n",
       "      <td>-0.964129</td>\n",
       "      <td>0.452382</td>\n",
       "      <td>-0.354027</td>\n",
       "      <td>0.854763</td>\n",
       "      <td>-0.726887</td>\n",
       "      <td>-0.553124</td>\n",
       "      <td>0.564047</td>\n",
       "    </tr>\n",
       "    <tr>\n",
       "      <th>대평동_x</th>\n",
       "      <td>-0.086732</td>\n",
       "      <td>0.758561</td>\n",
       "      <td>0.791214</td>\n",
       "      <td>0.953985</td>\n",
       "      <td>-0.613351</td>\n",
       "      <td>-0.086167</td>\n",
       "      <td>-0.062974</td>\n",
       "      <td>-0.296451</td>\n",
       "      <td>0.854019</td>\n",
       "      <td>0.258267</td>\n",
       "      <td>0.887139</td>\n",
       "      <td>0.026213</td>\n",
       "      <td>-0.254089</td>\n",
       "      <td>0.782227</td>\n",
       "    </tr>\n",
       "    <tr>\n",
       "      <th>보람동_x</th>\n",
       "      <td>-0.873589</td>\n",
       "      <td>-0.644338</td>\n",
       "      <td>-0.751470</td>\n",
       "      <td>-0.466838</td>\n",
       "      <td>-0.199404</td>\n",
       "      <td>0.003915</td>\n",
       "      <td>0.650026</td>\n",
       "      <td>0.118437</td>\n",
       "      <td>-0.674289</td>\n",
       "      <td>-0.772210</td>\n",
       "      <td>-0.307265</td>\n",
       "      <td>0.505648</td>\n",
       "      <td>0.889455</td>\n",
       "      <td>-0.747567</td>\n",
       "    </tr>\n",
       "    <tr>\n",
       "      <th>소담동_x</th>\n",
       "      <td>-0.153935</td>\n",
       "      <td>-0.785818</td>\n",
       "      <td>-0.886044</td>\n",
       "      <td>-0.995228</td>\n",
       "      <td>0.435316</td>\n",
       "      <td>-0.049022</td>\n",
       "      <td>0.094447</td>\n",
       "      <td>0.175971</td>\n",
       "      <td>-0.939054</td>\n",
       "      <td>-0.481892</td>\n",
       "      <td>-0.831526</td>\n",
       "      <td>-0.030992</td>\n",
       "      <td>0.362030</td>\n",
       "      <td>-0.864730</td>\n",
       "    </tr>\n",
       "    <tr>\n",
       "      <th>나성동_x</th>\n",
       "      <td>-0.721008</td>\n",
       "      <td>-0.626030</td>\n",
       "      <td>-0.871102</td>\n",
       "      <td>-0.814615</td>\n",
       "      <td>-0.145010</td>\n",
       "      <td>-0.384372</td>\n",
       "      <td>0.140859</td>\n",
       "      <td>-0.186417</td>\n",
       "      <td>-0.884805</td>\n",
       "      <td>-0.913546</td>\n",
       "      <td>-0.449035</td>\n",
       "      <td>-0.040943</td>\n",
       "      <td>0.527304</td>\n",
       "      <td>-0.824027</td>\n",
       "    </tr>\n",
       "    <tr>\n",
       "      <th>반곡동_x</th>\n",
       "      <td>-0.721008</td>\n",
       "      <td>-0.626030</td>\n",
       "      <td>-0.871102</td>\n",
       "      <td>-0.814615</td>\n",
       "      <td>-0.145010</td>\n",
       "      <td>-0.384372</td>\n",
       "      <td>0.140859</td>\n",
       "      <td>-0.186417</td>\n",
       "      <td>-0.884805</td>\n",
       "      <td>-0.913546</td>\n",
       "      <td>-0.449035</td>\n",
       "      <td>-0.040943</td>\n",
       "      <td>0.527304</td>\n",
       "      <td>-0.824027</td>\n",
       "    </tr>\n",
       "    <tr>\n",
       "      <th>해밀동_x</th>\n",
       "      <td>NaN</td>\n",
       "      <td>NaN</td>\n",
       "      <td>NaN</td>\n",
       "      <td>NaN</td>\n",
       "      <td>NaN</td>\n",
       "      <td>NaN</td>\n",
       "      <td>NaN</td>\n",
       "      <td>NaN</td>\n",
       "      <td>NaN</td>\n",
       "      <td>NaN</td>\n",
       "      <td>NaN</td>\n",
       "      <td>NaN</td>\n",
       "      <td>NaN</td>\n",
       "      <td>NaN</td>\n",
       "    </tr>\n",
       "  </tbody>\n",
       "</table>\n",
       "</div>"
      ],
      "text/plain": [
       "       고운동_유동인구  나성동_유동인구  다정동_유동인구  대평동_유동인구  도담동_유동인구  반곡동_유동인구  보람동_유동인구  \\\n",
       "고운동_x -0.175478 -0.991544 -0.874724 -0.761099  0.640723  0.572943  0.761060   \n",
       "아름동_x -0.664905 -0.536570 -0.812514 -0.809736 -0.179762 -0.495248 -0.017283   \n",
       "종촌동_x -0.965820 -0.045819 -0.251172  0.041413 -0.740400 -0.385498  0.285409   \n",
       "도담동_x -0.193036 -0.995396 -0.890679 -0.781055  0.626819  0.544732  0.744507   \n",
       "어진동_x  0.451287 -0.611295 -0.542315 -0.775697  0.804549  0.263286 -0.018167   \n",
       "다정동_x -0.989922 -0.324687 -0.523648 -0.241096 -0.550122 -0.297411  0.406258   \n",
       "새롬동_x -0.056095 -0.790535 -0.858687 -0.986400  0.520828  0.021840  0.098797   \n",
       "한솔동_x -0.351896  0.775651  0.490726  0.456289 -0.921935 -0.883713 -0.699838   \n",
       "대평동_x -0.086732  0.758561  0.791214  0.953985 -0.613351 -0.086167 -0.062974   \n",
       "보람동_x -0.873589 -0.644338 -0.751470 -0.466838 -0.199404  0.003915  0.650026   \n",
       "소담동_x -0.153935 -0.785818 -0.886044 -0.995228  0.435316 -0.049022  0.094447   \n",
       "나성동_x -0.721008 -0.626030 -0.871102 -0.814615 -0.145010 -0.384372  0.140859   \n",
       "반곡동_x -0.721008 -0.626030 -0.871102 -0.814615 -0.145010 -0.384372  0.140859   \n",
       "해밀동_x       NaN       NaN       NaN       NaN       NaN       NaN       NaN   \n",
       "\n",
       "       새롬동_유동인구  소담동_유동인구  아름동_유동인구  어진동_유동인구  종촌동_유동인구  한솔동_유동인구  해밀동_유동인구  \n",
       "고운동_x  0.733752 -0.830923 -0.218119 -0.914155  0.685059  0.835500 -0.915923  \n",
       "아름동_x -0.296879 -0.846829 -0.907537 -0.399644 -0.197248  0.384834 -0.754878  \n",
       "종촌동_x -0.375744 -0.178325 -0.773592  0.331292  0.168839  0.508045 -0.220050  \n",
       "도담동_x  0.710756 -0.849605 -0.246288 -0.916388  0.663258  0.832673 -0.928963  \n",
       "어진동_x  0.425974 -0.615805  0.113751 -0.856899 -0.041211  0.036249 -0.551430  \n",
       "다정동_x -0.226017 -0.455356 -0.865013  0.045278  0.260574  0.678715 -0.495954  \n",
       "새롬동_x  0.242314 -0.914192 -0.388893 -0.868524 -0.012074  0.333538 -0.843737  \n",
       "한솔동_x -0.964129  0.452382 -0.354027  0.854763 -0.726887 -0.553124  0.564047  \n",
       "대평동_x -0.296451  0.854019  0.258267  0.887139  0.026213 -0.254089  0.782227  \n",
       "보람동_x  0.118437 -0.674289 -0.772210 -0.307265  0.505648  0.889455 -0.747567  \n",
       "소담동_x  0.175971 -0.939054 -0.481892 -0.831526 -0.030992  0.362030 -0.864730  \n",
       "나성동_x -0.186417 -0.884805 -0.913546 -0.449035 -0.040943  0.527304 -0.824027  \n",
       "반곡동_x -0.186417 -0.884805 -0.913546 -0.449035 -0.040943  0.527304 -0.824027  \n",
       "해밀동_x       NaN       NaN       NaN       NaN       NaN       NaN       NaN  "
      ]
     },
     "execution_count": 54,
     "metadata": {},
     "output_type": "execute_result"
    }
   ],
   "source": [
    "# Extract the correlation between vacancy rates and floating population data\n",
    "vacancy_columns = ['고운동_x', '아름동_x', '종촌동_x', '도담동_x', '어진동_x', '다정동_x', '새롬동_x', '한솔동_x', '대평동_x', '보람동_x', '소담동_x', '나성동_x', '반곡동_x', '해밀동_x']\n",
    "fpop_columns = [f\"{name}_유동인구\" for name in fpop_pivot_df.columns]\n",
    "\n",
    "# Calculate correlation matrix\n",
    "correlation_matrix_fpop = merged_fpop_df[vacancy_columns + fpop_columns].corr()\n",
    "\n",
    "# Extracting the correlation between vacancy rates and floating population data\n",
    "correlation_vacancy_fpop = correlation_matrix_fpop.loc[vacancy_columns, fpop_columns]\n",
    "\n",
    "correlation_vacancy_fpop"
   ]
  },
  {
   "cell_type": "code",
   "execution_count": 55,
   "metadata": {},
   "outputs": [
    {
     "data": {
      "application/vnd.plotly.v1+json": {
       "config": {
        "plotlyServerURL": "https://plot.ly"
       },
       "data": [
        {
         "coloraxis": "coloraxis",
         "hovertemplate": "Floating Population Data: %{x}<br>Vacancy Rates: %{y}<br>Correlation: %{z}<extra></extra>",
         "name": "0",
         "type": "heatmap",
         "x": [
          "고운동_유동인구",
          "나성동_유동인구",
          "다정동_유동인구",
          "대평동_유동인구",
          "도담동_유동인구",
          "반곡동_유동인구",
          "보람동_유동인구",
          "새롬동_유동인구",
          "소담동_유동인구",
          "아름동_유동인구",
          "어진동_유동인구",
          "종촌동_유동인구",
          "한솔동_유동인구",
          "해밀동_유동인구"
         ],
         "xaxis": "x",
         "y": [
          "고운동_x",
          "아름동_x",
          "종촌동_x",
          "도담동_x",
          "어진동_x",
          "다정동_x",
          "새롬동_x",
          "한솔동_x",
          "대평동_x",
          "보람동_x",
          "소담동_x",
          "나성동_x",
          "반곡동_x",
          "해밀동_x"
         ],
         "yaxis": "y",
         "z": [
          [
           -0.17547788614659995,
           -0.9915444302177007,
           -0.8747237948338611,
           -0.7610992294872138,
           0.6407226977388675,
           0.5729434523566989,
           0.7610602343662757,
           0.7337515303654203,
           -0.8309228563500194,
           -0.21811920287714112,
           -0.914154641351672,
           0.6850590017969407,
           0.8355002760788157,
           -0.9159234414937163
          ],
          [
           -0.6649051440300208,
           -0.536570481550302,
           -0.8125144053891372,
           -0.8097363966129941,
           -0.17976220900755238,
           -0.4952480735997973,
           -0.017283144299164294,
           -0.2968792635144593,
           -0.8468293839857992,
           -0.9075369620599322,
           -0.3996444075097231,
           -0.19724824016846643,
           0.38483366341463904,
           -0.7548777694740333
          ],
          [
           -0.9658202655765045,
           -0.04581889863162985,
           -0.25117152439386153,
           0.04141253886117334,
           -0.7404000257761164,
           -0.38549787406360186,
           0.28540909020557265,
           -0.3757436640591285,
           -0.17832463531348458,
           -0.7735919354661029,
           0.3312916077447847,
           0.16883866855925797,
           0.5080445020129336,
           -0.2200502157781114
          ],
          [
           -0.1930359288193481,
           -0.995395774472587,
           -0.8906793855626379,
           -0.7810550062154865,
           0.6268186862778601,
           0.5447322446395552,
           0.7445072809844259,
           0.7107560588949654,
           -0.8496049698147872,
           -0.24628774918303506,
           -0.9163884076600846,
           0.6632577506431937,
           0.8326734887126012,
           -0.9289628999728231
          ],
          [
           0.45128732628213736,
           -0.6112950286984759,
           -0.5423150768772059,
           -0.7756966824750273,
           0.8045488206564329,
           0.2632863513901735,
           -0.01816715185617366,
           0.4259735938951566,
           -0.6158049864109718,
           0.11375051263459324,
           -0.8568986288348499,
           -0.04121050915621567,
           0.03624945414374013,
           -0.5514295007501901
          ],
          [
           -0.9899222362918948,
           -0.32468661562362766,
           -0.5236481910856593,
           -0.24109585034736952,
           -0.5501219013886928,
           -0.2974110884521442,
           0.4062579302914306,
           -0.22601743657036596,
           -0.4553556550612879,
           -0.8650125755598718,
           0.04527783845533368,
           0.2605735699400442,
           0.6787146850083572,
           -0.4959544908603944
          ],
          [
           -0.05609526092215528,
           -0.7905347726261619,
           -0.8586874060805233,
           -0.9864000859265213,
           0.520828435862608,
           0.02183961604565074,
           0.09879689800101944,
           0.2423143741122708,
           -0.9141922802794431,
           -0.38889340633218955,
           -0.8685240757417584,
           -0.012073597347093859,
           0.3335377238360403,
           -0.8437373485781051
          ],
          [
           -0.351896345548883,
           0.7756508403877185,
           0.49072559445766134,
           0.45628941427181385,
           -0.9219349768368333,
           -0.8837133348255376,
           -0.6998377691133785,
           -0.9641293068856617,
           0.45238205556259947,
           -0.35402705669343015,
           0.8547629087103147,
           -0.7268868738665695,
           -0.5531238957436575,
           0.564046746794682
          ],
          [
           -0.08673200968057253,
           0.758560530178797,
           0.7912142333563306,
           0.9539849852030853,
           -0.6133513308802997,
           -0.08616689296522903,
           -0.06297367629057517,
           -0.2964512467904452,
           0.8540194879736938,
           0.2582668296355998,
           0.8871386763821747,
           0.026213034363815814,
           -0.2540887307981137,
           0.7822266723970557
          ],
          [
           -0.8735885327840348,
           -0.6443381422974135,
           -0.7514701968399994,
           -0.46683801446046425,
           -0.19940417972045021,
           0.00391513627313894,
           0.6500255632890022,
           0.11843651447291452,
           -0.6742889115468377,
           -0.772210209712911,
           -0.30726512254080246,
           0.5056482671047053,
           0.8894553429562743,
           -0.7475668715119455
          ],
          [
           -0.15393451811382036,
           -0.7858182486209124,
           -0.8860436025823648,
           -0.9952278926828241,
           0.4353159599307633,
           -0.04902171587581904,
           0.09444716750108381,
           0.1759710387053663,
           -0.9390539358064731,
           -0.4818918571161746,
           -0.8315262668798347,
           -0.03099217968803687,
           0.3620303937057178,
           -0.8647303189232015
          ],
          [
           -0.7210076276945284,
           -0.6260303938122284,
           -0.8711015511314962,
           -0.8146148035572506,
           -0.14501047335683606,
           -0.38437152686693793,
           0.14085940995418947,
           -0.18641656970441675,
           -0.8848051948313455,
           -0.9135461923602892,
           -0.44903471110976134,
           -0.04094305219835684,
           0.5273041738518948,
           -0.8240267292406748
          ],
          [
           -0.7210076276945286,
           -0.6260303938122277,
           -0.8711015511314956,
           -0.8146148035572497,
           -0.14501047335683662,
           -0.38437152686693793,
           0.14085940995418955,
           -0.1864165697044169,
           -0.8848051948313448,
           -0.9135461923602891,
           -0.44903471110976045,
           -0.040943052198356665,
           0.5273041738518947,
           -0.824026729240674
          ],
          [
           null,
           null,
           null,
           null,
           null,
           null,
           null,
           null,
           null,
           null,
           null,
           null,
           null,
           null
          ]
         ]
        }
       ],
       "layout": {
        "coloraxis": {
         "cmax": 1,
         "cmin": -1,
         "colorbar": {
          "title": {
           "text": "Correlation"
          }
         },
         "colorscale": [
          [
           0,
           "rgb(103,0,31)"
          ],
          [
           0.1,
           "rgb(178,24,43)"
          ],
          [
           0.2,
           "rgb(214,96,77)"
          ],
          [
           0.3,
           "rgb(244,165,130)"
          ],
          [
           0.4,
           "rgb(253,219,199)"
          ],
          [
           0.5,
           "rgb(247,247,247)"
          ],
          [
           0.6,
           "rgb(209,229,240)"
          ],
          [
           0.7,
           "rgb(146,197,222)"
          ],
          [
           0.8,
           "rgb(67,147,195)"
          ],
          [
           0.9,
           "rgb(33,102,172)"
          ],
          [
           1,
           "rgb(5,48,97)"
          ]
         ]
        },
        "margin": {
         "t": 60
        },
        "template": {
         "data": {
          "bar": [
           {
            "error_x": {
             "color": "#2a3f5f"
            },
            "error_y": {
             "color": "#2a3f5f"
            },
            "marker": {
             "line": {
              "color": "#E5ECF6",
              "width": 0.5
             },
             "pattern": {
              "fillmode": "overlay",
              "size": 10,
              "solidity": 0.2
             }
            },
            "type": "bar"
           }
          ],
          "barpolar": [
           {
            "marker": {
             "line": {
              "color": "#E5ECF6",
              "width": 0.5
             },
             "pattern": {
              "fillmode": "overlay",
              "size": 10,
              "solidity": 0.2
             }
            },
            "type": "barpolar"
           }
          ],
          "carpet": [
           {
            "aaxis": {
             "endlinecolor": "#2a3f5f",
             "gridcolor": "white",
             "linecolor": "white",
             "minorgridcolor": "white",
             "startlinecolor": "#2a3f5f"
            },
            "baxis": {
             "endlinecolor": "#2a3f5f",
             "gridcolor": "white",
             "linecolor": "white",
             "minorgridcolor": "white",
             "startlinecolor": "#2a3f5f"
            },
            "type": "carpet"
           }
          ],
          "choropleth": [
           {
            "colorbar": {
             "outlinewidth": 0,
             "ticks": ""
            },
            "type": "choropleth"
           }
          ],
          "contour": [
           {
            "colorbar": {
             "outlinewidth": 0,
             "ticks": ""
            },
            "colorscale": [
             [
              0,
              "#0d0887"
             ],
             [
              0.1111111111111111,
              "#46039f"
             ],
             [
              0.2222222222222222,
              "#7201a8"
             ],
             [
              0.3333333333333333,
              "#9c179e"
             ],
             [
              0.4444444444444444,
              "#bd3786"
             ],
             [
              0.5555555555555556,
              "#d8576b"
             ],
             [
              0.6666666666666666,
              "#ed7953"
             ],
             [
              0.7777777777777778,
              "#fb9f3a"
             ],
             [
              0.8888888888888888,
              "#fdca26"
             ],
             [
              1,
              "#f0f921"
             ]
            ],
            "type": "contour"
           }
          ],
          "contourcarpet": [
           {
            "colorbar": {
             "outlinewidth": 0,
             "ticks": ""
            },
            "type": "contourcarpet"
           }
          ],
          "heatmap": [
           {
            "colorbar": {
             "outlinewidth": 0,
             "ticks": ""
            },
            "colorscale": [
             [
              0,
              "#0d0887"
             ],
             [
              0.1111111111111111,
              "#46039f"
             ],
             [
              0.2222222222222222,
              "#7201a8"
             ],
             [
              0.3333333333333333,
              "#9c179e"
             ],
             [
              0.4444444444444444,
              "#bd3786"
             ],
             [
              0.5555555555555556,
              "#d8576b"
             ],
             [
              0.6666666666666666,
              "#ed7953"
             ],
             [
              0.7777777777777778,
              "#fb9f3a"
             ],
             [
              0.8888888888888888,
              "#fdca26"
             ],
             [
              1,
              "#f0f921"
             ]
            ],
            "type": "heatmap"
           }
          ],
          "heatmapgl": [
           {
            "colorbar": {
             "outlinewidth": 0,
             "ticks": ""
            },
            "colorscale": [
             [
              0,
              "#0d0887"
             ],
             [
              0.1111111111111111,
              "#46039f"
             ],
             [
              0.2222222222222222,
              "#7201a8"
             ],
             [
              0.3333333333333333,
              "#9c179e"
             ],
             [
              0.4444444444444444,
              "#bd3786"
             ],
             [
              0.5555555555555556,
              "#d8576b"
             ],
             [
              0.6666666666666666,
              "#ed7953"
             ],
             [
              0.7777777777777778,
              "#fb9f3a"
             ],
             [
              0.8888888888888888,
              "#fdca26"
             ],
             [
              1,
              "#f0f921"
             ]
            ],
            "type": "heatmapgl"
           }
          ],
          "histogram": [
           {
            "marker": {
             "pattern": {
              "fillmode": "overlay",
              "size": 10,
              "solidity": 0.2
             }
            },
            "type": "histogram"
           }
          ],
          "histogram2d": [
           {
            "colorbar": {
             "outlinewidth": 0,
             "ticks": ""
            },
            "colorscale": [
             [
              0,
              "#0d0887"
             ],
             [
              0.1111111111111111,
              "#46039f"
             ],
             [
              0.2222222222222222,
              "#7201a8"
             ],
             [
              0.3333333333333333,
              "#9c179e"
             ],
             [
              0.4444444444444444,
              "#bd3786"
             ],
             [
              0.5555555555555556,
              "#d8576b"
             ],
             [
              0.6666666666666666,
              "#ed7953"
             ],
             [
              0.7777777777777778,
              "#fb9f3a"
             ],
             [
              0.8888888888888888,
              "#fdca26"
             ],
             [
              1,
              "#f0f921"
             ]
            ],
            "type": "histogram2d"
           }
          ],
          "histogram2dcontour": [
           {
            "colorbar": {
             "outlinewidth": 0,
             "ticks": ""
            },
            "colorscale": [
             [
              0,
              "#0d0887"
             ],
             [
              0.1111111111111111,
              "#46039f"
             ],
             [
              0.2222222222222222,
              "#7201a8"
             ],
             [
              0.3333333333333333,
              "#9c179e"
             ],
             [
              0.4444444444444444,
              "#bd3786"
             ],
             [
              0.5555555555555556,
              "#d8576b"
             ],
             [
              0.6666666666666666,
              "#ed7953"
             ],
             [
              0.7777777777777778,
              "#fb9f3a"
             ],
             [
              0.8888888888888888,
              "#fdca26"
             ],
             [
              1,
              "#f0f921"
             ]
            ],
            "type": "histogram2dcontour"
           }
          ],
          "mesh3d": [
           {
            "colorbar": {
             "outlinewidth": 0,
             "ticks": ""
            },
            "type": "mesh3d"
           }
          ],
          "parcoords": [
           {
            "line": {
             "colorbar": {
              "outlinewidth": 0,
              "ticks": ""
             }
            },
            "type": "parcoords"
           }
          ],
          "pie": [
           {
            "automargin": true,
            "type": "pie"
           }
          ],
          "scatter": [
           {
            "fillpattern": {
             "fillmode": "overlay",
             "size": 10,
             "solidity": 0.2
            },
            "type": "scatter"
           }
          ],
          "scatter3d": [
           {
            "line": {
             "colorbar": {
              "outlinewidth": 0,
              "ticks": ""
             }
            },
            "marker": {
             "colorbar": {
              "outlinewidth": 0,
              "ticks": ""
             }
            },
            "type": "scatter3d"
           }
          ],
          "scattercarpet": [
           {
            "marker": {
             "colorbar": {
              "outlinewidth": 0,
              "ticks": ""
             }
            },
            "type": "scattercarpet"
           }
          ],
          "scattergeo": [
           {
            "marker": {
             "colorbar": {
              "outlinewidth": 0,
              "ticks": ""
             }
            },
            "type": "scattergeo"
           }
          ],
          "scattergl": [
           {
            "marker": {
             "colorbar": {
              "outlinewidth": 0,
              "ticks": ""
             }
            },
            "type": "scattergl"
           }
          ],
          "scattermapbox": [
           {
            "marker": {
             "colorbar": {
              "outlinewidth": 0,
              "ticks": ""
             }
            },
            "type": "scattermapbox"
           }
          ],
          "scatterpolar": [
           {
            "marker": {
             "colorbar": {
              "outlinewidth": 0,
              "ticks": ""
             }
            },
            "type": "scatterpolar"
           }
          ],
          "scatterpolargl": [
           {
            "marker": {
             "colorbar": {
              "outlinewidth": 0,
              "ticks": ""
             }
            },
            "type": "scatterpolargl"
           }
          ],
          "scatterternary": [
           {
            "marker": {
             "colorbar": {
              "outlinewidth": 0,
              "ticks": ""
             }
            },
            "type": "scatterternary"
           }
          ],
          "surface": [
           {
            "colorbar": {
             "outlinewidth": 0,
             "ticks": ""
            },
            "colorscale": [
             [
              0,
              "#0d0887"
             ],
             [
              0.1111111111111111,
              "#46039f"
             ],
             [
              0.2222222222222222,
              "#7201a8"
             ],
             [
              0.3333333333333333,
              "#9c179e"
             ],
             [
              0.4444444444444444,
              "#bd3786"
             ],
             [
              0.5555555555555556,
              "#d8576b"
             ],
             [
              0.6666666666666666,
              "#ed7953"
             ],
             [
              0.7777777777777778,
              "#fb9f3a"
             ],
             [
              0.8888888888888888,
              "#fdca26"
             ],
             [
              1,
              "#f0f921"
             ]
            ],
            "type": "surface"
           }
          ],
          "table": [
           {
            "cells": {
             "fill": {
              "color": "#EBF0F8"
             },
             "line": {
              "color": "white"
             }
            },
            "header": {
             "fill": {
              "color": "#C8D4E3"
             },
             "line": {
              "color": "white"
             }
            },
            "type": "table"
           }
          ]
         },
         "layout": {
          "annotationdefaults": {
           "arrowcolor": "#2a3f5f",
           "arrowhead": 0,
           "arrowwidth": 1
          },
          "autotypenumbers": "strict",
          "coloraxis": {
           "colorbar": {
            "outlinewidth": 0,
            "ticks": ""
           }
          },
          "colorscale": {
           "diverging": [
            [
             0,
             "#8e0152"
            ],
            [
             0.1,
             "#c51b7d"
            ],
            [
             0.2,
             "#de77ae"
            ],
            [
             0.3,
             "#f1b6da"
            ],
            [
             0.4,
             "#fde0ef"
            ],
            [
             0.5,
             "#f7f7f7"
            ],
            [
             0.6,
             "#e6f5d0"
            ],
            [
             0.7,
             "#b8e186"
            ],
            [
             0.8,
             "#7fbc41"
            ],
            [
             0.9,
             "#4d9221"
            ],
            [
             1,
             "#276419"
            ]
           ],
           "sequential": [
            [
             0,
             "#0d0887"
            ],
            [
             0.1111111111111111,
             "#46039f"
            ],
            [
             0.2222222222222222,
             "#7201a8"
            ],
            [
             0.3333333333333333,
             "#9c179e"
            ],
            [
             0.4444444444444444,
             "#bd3786"
            ],
            [
             0.5555555555555556,
             "#d8576b"
            ],
            [
             0.6666666666666666,
             "#ed7953"
            ],
            [
             0.7777777777777778,
             "#fb9f3a"
            ],
            [
             0.8888888888888888,
             "#fdca26"
            ],
            [
             1,
             "#f0f921"
            ]
           ],
           "sequentialminus": [
            [
             0,
             "#0d0887"
            ],
            [
             0.1111111111111111,
             "#46039f"
            ],
            [
             0.2222222222222222,
             "#7201a8"
            ],
            [
             0.3333333333333333,
             "#9c179e"
            ],
            [
             0.4444444444444444,
             "#bd3786"
            ],
            [
             0.5555555555555556,
             "#d8576b"
            ],
            [
             0.6666666666666666,
             "#ed7953"
            ],
            [
             0.7777777777777778,
             "#fb9f3a"
            ],
            [
             0.8888888888888888,
             "#fdca26"
            ],
            [
             1,
             "#f0f921"
            ]
           ]
          },
          "colorway": [
           "#636efa",
           "#EF553B",
           "#00cc96",
           "#ab63fa",
           "#FFA15A",
           "#19d3f3",
           "#FF6692",
           "#B6E880",
           "#FF97FF",
           "#FECB52"
          ],
          "font": {
           "color": "#2a3f5f"
          },
          "geo": {
           "bgcolor": "white",
           "lakecolor": "white",
           "landcolor": "#E5ECF6",
           "showlakes": true,
           "showland": true,
           "subunitcolor": "white"
          },
          "hoverlabel": {
           "align": "left"
          },
          "hovermode": "closest",
          "mapbox": {
           "style": "light"
          },
          "paper_bgcolor": "white",
          "plot_bgcolor": "#E5ECF6",
          "polar": {
           "angularaxis": {
            "gridcolor": "white",
            "linecolor": "white",
            "ticks": ""
           },
           "bgcolor": "#E5ECF6",
           "radialaxis": {
            "gridcolor": "white",
            "linecolor": "white",
            "ticks": ""
           }
          },
          "scene": {
           "xaxis": {
            "backgroundcolor": "#E5ECF6",
            "gridcolor": "white",
            "gridwidth": 2,
            "linecolor": "white",
            "showbackground": true,
            "ticks": "",
            "zerolinecolor": "white"
           },
           "yaxis": {
            "backgroundcolor": "#E5ECF6",
            "gridcolor": "white",
            "gridwidth": 2,
            "linecolor": "white",
            "showbackground": true,
            "ticks": "",
            "zerolinecolor": "white"
           },
           "zaxis": {
            "backgroundcolor": "#E5ECF6",
            "gridcolor": "white",
            "gridwidth": 2,
            "linecolor": "white",
            "showbackground": true,
            "ticks": "",
            "zerolinecolor": "white"
           }
          },
          "shapedefaults": {
           "line": {
            "color": "#2a3f5f"
           }
          },
          "ternary": {
           "aaxis": {
            "gridcolor": "white",
            "linecolor": "white",
            "ticks": ""
           },
           "baxis": {
            "gridcolor": "white",
            "linecolor": "white",
            "ticks": ""
           },
           "bgcolor": "#E5ECF6",
           "caxis": {
            "gridcolor": "white",
            "linecolor": "white",
            "ticks": ""
           }
          },
          "title": {
           "x": 0.05
          },
          "xaxis": {
           "automargin": true,
           "gridcolor": "white",
           "linecolor": "white",
           "ticks": "",
           "title": {
            "standoff": 15
           },
           "zerolinecolor": "white",
           "zerolinewidth": 2
          },
          "yaxis": {
           "automargin": true,
           "gridcolor": "white",
           "linecolor": "white",
           "ticks": "",
           "title": {
            "standoff": 15
           },
           "zerolinecolor": "white",
           "zerolinewidth": 2
          }
         }
        },
        "xaxis": {
         "anchor": "y",
         "constrain": "domain",
         "domain": [
          0,
          1
         ],
         "scaleanchor": "y",
         "title": {
          "text": "Floating Population Data"
         }
        },
        "yaxis": {
         "anchor": "x",
         "autorange": "reversed",
         "constrain": "domain",
         "domain": [
          0,
          1
         ],
         "title": {
          "text": "Vacancy Rates"
         }
        }
       }
      }
     },
     "metadata": {},
     "output_type": "display_data"
    }
   ],
   "source": [
    "# Importing plotly express for visualization\n",
    "import plotly.express as px\n",
    "\n",
    "# Creating a heatmap using Plotly Express to visualize the correlation between vacancy rates and floating population\n",
    "fig = px.imshow(\n",
    "    correlation_vacancy_fpop,\n",
    "    labels=dict(x=\"Floating Population Data\", y=\"Vacancy Rates\", color=\"Correlation\"),\n",
    "    x=correlation_vacancy_fpop.columns,\n",
    "    y=correlation_vacancy_fpop.index,\n",
    "    color_continuous_scale='RdBu',\n",
    "    zmin=-1, zmax=1\n",
    ")\n",
    "\n",
    "fig.show()"
   ]
  },
  {
   "cell_type": "markdown",
   "metadata": {},
   "source": [
    "##### 공실률 - 상가폐업률 상관관계"
   ]
  },
  {
   "cell_type": "code",
   "execution_count": 77,
   "metadata": {},
   "outputs": [],
   "source": [
    "closure_rates = pd.read_csv(\"행정동별_상가폐업률.csv\")\n",
    "col_lst = empty_rate_df.columns[1:].tolist()\n",
    "col_lst = ['Year'] + col_lst\n",
    "closure_rates = closure_rates[col_lst]"
   ]
  },
  {
   "cell_type": "code",
   "execution_count": 78,
   "metadata": {},
   "outputs": [
    {
     "data": {
      "text/html": [
       "<div>\n",
       "<style scoped>\n",
       "    .dataframe tbody tr th:only-of-type {\n",
       "        vertical-align: middle;\n",
       "    }\n",
       "\n",
       "    .dataframe tbody tr th {\n",
       "        vertical-align: top;\n",
       "    }\n",
       "\n",
       "    .dataframe thead th {\n",
       "        text-align: right;\n",
       "    }\n",
       "</style>\n",
       "<table border=\"1\" class=\"dataframe\">\n",
       "  <thead>\n",
       "    <tr style=\"text-align: right;\">\n",
       "      <th></th>\n",
       "      <th>Year</th>\n",
       "      <th>고운동</th>\n",
       "      <th>아름동</th>\n",
       "      <th>종촌동</th>\n",
       "      <th>도담동</th>\n",
       "      <th>어진동</th>\n",
       "      <th>다정동</th>\n",
       "      <th>새롬동</th>\n",
       "      <th>한솔동</th>\n",
       "      <th>대평동</th>\n",
       "      <th>보람동</th>\n",
       "      <th>소담동</th>\n",
       "      <th>나성동</th>\n",
       "      <th>반곡동</th>\n",
       "      <th>해밀동</th>\n",
       "    </tr>\n",
       "  </thead>\n",
       "  <tbody>\n",
       "    <tr>\n",
       "      <th>0</th>\n",
       "      <td>2020</td>\n",
       "      <td>6.571429</td>\n",
       "      <td>6.519559</td>\n",
       "      <td>8.105263</td>\n",
       "      <td>9.036743</td>\n",
       "      <td>5.385330</td>\n",
       "      <td>5.619413</td>\n",
       "      <td>7.354555</td>\n",
       "      <td>7.155635</td>\n",
       "      <td>9.852217</td>\n",
       "      <td>6.342183</td>\n",
       "      <td>4.489338</td>\n",
       "      <td>5.471956</td>\n",
       "      <td>2.034429</td>\n",
       "      <td>0.549451</td>\n",
       "    </tr>\n",
       "    <tr>\n",
       "      <th>1</th>\n",
       "      <td>2021</td>\n",
       "      <td>7.822410</td>\n",
       "      <td>7.722772</td>\n",
       "      <td>9.907121</td>\n",
       "      <td>8.673978</td>\n",
       "      <td>4.632663</td>\n",
       "      <td>7.393484</td>\n",
       "      <td>8.559047</td>\n",
       "      <td>9.106830</td>\n",
       "      <td>9.703947</td>\n",
       "      <td>6.617647</td>\n",
       "      <td>7.500000</td>\n",
       "      <td>7.496653</td>\n",
       "      <td>3.692308</td>\n",
       "      <td>2.688172</td>\n",
       "    </tr>\n",
       "    <tr>\n",
       "      <th>2</th>\n",
       "      <td>2022</td>\n",
       "      <td>8.403361</td>\n",
       "      <td>7.631318</td>\n",
       "      <td>7.619048</td>\n",
       "      <td>7.568113</td>\n",
       "      <td>6.039650</td>\n",
       "      <td>11.177885</td>\n",
       "      <td>11.064278</td>\n",
       "      <td>6.486486</td>\n",
       "      <td>12.160000</td>\n",
       "      <td>7.636364</td>\n",
       "      <td>6.380638</td>\n",
       "      <td>12.457770</td>\n",
       "      <td>5.722892</td>\n",
       "      <td>5.235602</td>\n",
       "    </tr>\n",
       "    <tr>\n",
       "      <th>3</th>\n",
       "      <td>2023</td>\n",
       "      <td>10.594668</td>\n",
       "      <td>9.426628</td>\n",
       "      <td>12.525050</td>\n",
       "      <td>10.981535</td>\n",
       "      <td>11.120802</td>\n",
       "      <td>11.708483</td>\n",
       "      <td>9.925293</td>\n",
       "      <td>8.626761</td>\n",
       "      <td>10.876623</td>\n",
       "      <td>8.829864</td>\n",
       "      <td>9.564293</td>\n",
       "      <td>10.530859</td>\n",
       "      <td>6.427504</td>\n",
       "      <td>7.653061</td>\n",
       "    </tr>\n",
       "  </tbody>\n",
       "</table>\n",
       "</div>"
      ],
      "text/plain": [
       "   Year        고운동       아름동        종촌동        도담동        어진동        다정동  \\\n",
       "0  2020   6.571429  6.519559   8.105263   9.036743   5.385330   5.619413   \n",
       "1  2021   7.822410  7.722772   9.907121   8.673978   4.632663   7.393484   \n",
       "2  2022   8.403361  7.631318   7.619048   7.568113   6.039650  11.177885   \n",
       "3  2023  10.594668  9.426628  12.525050  10.981535  11.120802  11.708483   \n",
       "\n",
       "         새롬동       한솔동        대평동       보람동       소담동        나성동       반곡동  \\\n",
       "0   7.354555  7.155635   9.852217  6.342183  4.489338   5.471956  2.034429   \n",
       "1   8.559047  9.106830   9.703947  6.617647  7.500000   7.496653  3.692308   \n",
       "2  11.064278  6.486486  12.160000  7.636364  6.380638  12.457770  5.722892   \n",
       "3   9.925293  8.626761  10.876623  8.829864  9.564293  10.530859  6.427504   \n",
       "\n",
       "        해밀동  \n",
       "0  0.549451  \n",
       "1  2.688172  \n",
       "2  5.235602  \n",
       "3  7.653061  "
      ]
     },
     "execution_count": 78,
     "metadata": {},
     "output_type": "execute_result"
    }
   ],
   "source": [
    "closure_rates"
   ]
  },
  {
   "cell_type": "code",
   "execution_count": 79,
   "metadata": {},
   "outputs": [
    {
     "data": {
      "text/html": [
       "<div>\n",
       "<style scoped>\n",
       "    .dataframe tbody tr th:only-of-type {\n",
       "        vertical-align: middle;\n",
       "    }\n",
       "\n",
       "    .dataframe tbody tr th {\n",
       "        vertical-align: top;\n",
       "    }\n",
       "\n",
       "    .dataframe thead th {\n",
       "        text-align: right;\n",
       "    }\n",
       "</style>\n",
       "<table border=\"1\" class=\"dataframe\">\n",
       "  <thead>\n",
       "    <tr style=\"text-align: right;\">\n",
       "      <th></th>\n",
       "      <th>고운동_폐업률</th>\n",
       "      <th>아름동_폐업률</th>\n",
       "      <th>종촌동_폐업률</th>\n",
       "      <th>도담동_폐업률</th>\n",
       "      <th>어진동_폐업률</th>\n",
       "      <th>다정동_폐업률</th>\n",
       "      <th>새롬동_폐업률</th>\n",
       "      <th>한솔동_폐업률</th>\n",
       "      <th>대평동_폐업률</th>\n",
       "      <th>보람동_폐업률</th>\n",
       "      <th>소담동_폐업률</th>\n",
       "      <th>나성동_폐업률</th>\n",
       "      <th>반곡동_폐업률</th>\n",
       "      <th>해밀동_폐업률</th>\n",
       "    </tr>\n",
       "  </thead>\n",
       "  <tbody>\n",
       "    <tr>\n",
       "      <th>고운동_x</th>\n",
       "      <td>-0.392463</td>\n",
       "      <td>-0.963054</td>\n",
       "      <td>-0.673466</td>\n",
       "      <td>-0.420459</td>\n",
       "      <td>-0.072013</td>\n",
       "      <td>-0.820600</td>\n",
       "      <td>-0.558848</td>\n",
       "      <td>-0.172657</td>\n",
       "      <td>0.437008</td>\n",
       "      <td>-0.801606</td>\n",
       "      <td>-0.641043</td>\n",
       "      <td>-0.976754</td>\n",
       "      <td>-0.976754</td>\n",
       "      <td>NaN</td>\n",
       "    </tr>\n",
       "    <tr>\n",
       "      <th>아름동_x</th>\n",
       "      <td>-0.402182</td>\n",
       "      <td>-0.994862</td>\n",
       "      <td>-0.540096</td>\n",
       "      <td>-0.432252</td>\n",
       "      <td>-0.218853</td>\n",
       "      <td>-0.709400</td>\n",
       "      <td>-0.667598</td>\n",
       "      <td>-0.139377</td>\n",
       "      <td>0.560100</td>\n",
       "      <td>-0.709690</td>\n",
       "      <td>-0.740829</td>\n",
       "      <td>-0.989308</td>\n",
       "      <td>-0.989308</td>\n",
       "      <td>NaN</td>\n",
       "    </tr>\n",
       "    <tr>\n",
       "      <th>종촌동_x</th>\n",
       "      <td>-0.058722</td>\n",
       "      <td>-0.895293</td>\n",
       "      <td>-0.245130</td>\n",
       "      <td>-0.092983</td>\n",
       "      <td>-0.319113</td>\n",
       "      <td>-0.363006</td>\n",
       "      <td>-0.630419</td>\n",
       "      <td>-0.366928</td>\n",
       "      <td>0.563247</td>\n",
       "      <td>-0.283924</td>\n",
       "      <td>-0.688105</td>\n",
       "      <td>-0.812542</td>\n",
       "      <td>-0.812542</td>\n",
       "      <td>NaN</td>\n",
       "    </tr>\n",
       "    <tr>\n",
       "      <th>도담동_x</th>\n",
       "      <td>0.374895</td>\n",
       "      <td>-0.668531</td>\n",
       "      <td>-0.328079</td>\n",
       "      <td>0.342713</td>\n",
       "      <td>0.039896</td>\n",
       "      <td>-0.313287</td>\n",
       "      <td>-0.230791</td>\n",
       "      <td>-0.737274</td>\n",
       "      <td>0.165119</td>\n",
       "      <td>-0.079851</td>\n",
       "      <td>-0.298700</td>\n",
       "      <td>-0.558283</td>\n",
       "      <td>-0.558283</td>\n",
       "      <td>NaN</td>\n",
       "    </tr>\n",
       "    <tr>\n",
       "      <th>어진동_x</th>\n",
       "      <td>0.046461</td>\n",
       "      <td>-0.820018</td>\n",
       "      <td>-0.774666</td>\n",
       "      <td>0.017110</td>\n",
       "      <td>0.256457</td>\n",
       "      <td>-0.798476</td>\n",
       "      <td>-0.216933</td>\n",
       "      <td>-0.586978</td>\n",
       "      <td>0.090905</td>\n",
       "      <td>-0.614377</td>\n",
       "      <td>-0.314750</td>\n",
       "      <td>-0.796194</td>\n",
       "      <td>-0.796194</td>\n",
       "      <td>NaN</td>\n",
       "    </tr>\n",
       "    <tr>\n",
       "      <th>다정동_x</th>\n",
       "      <td>-0.589371</td>\n",
       "      <td>-0.754710</td>\n",
       "      <td>-0.794659</td>\n",
       "      <td>-0.604318</td>\n",
       "      <td>0.097312</td>\n",
       "      <td>-0.937049</td>\n",
       "      <td>-0.385135</td>\n",
       "      <td>0.077482</td>\n",
       "      <td>0.257104</td>\n",
       "      <td>-0.990077</td>\n",
       "      <td>-0.460440</td>\n",
       "      <td>-0.843012</td>\n",
       "      <td>-0.843012</td>\n",
       "      <td>NaN</td>\n",
       "    </tr>\n",
       "    <tr>\n",
       "      <th>새롬동_x</th>\n",
       "      <td>-0.746460</td>\n",
       "      <td>-0.520510</td>\n",
       "      <td>-0.669304</td>\n",
       "      <td>-0.749737</td>\n",
       "      <td>0.064820</td>\n",
       "      <td>-0.823372</td>\n",
       "      <td>-0.319926</td>\n",
       "      <td>0.364666</td>\n",
       "      <td>0.216032</td>\n",
       "      <td>-0.969107</td>\n",
       "      <td>-0.369799</td>\n",
       "      <td>-0.650230</td>\n",
       "      <td>-0.650230</td>\n",
       "      <td>NaN</td>\n",
       "    </tr>\n",
       "    <tr>\n",
       "      <th>한솔동_x</th>\n",
       "      <td>-0.156455</td>\n",
       "      <td>-0.595268</td>\n",
       "      <td>0.402841</td>\n",
       "      <td>-0.181062</td>\n",
       "      <td>-0.781421</td>\n",
       "      <td>0.234973</td>\n",
       "      <td>-0.795198</td>\n",
       "      <td>0.028571</td>\n",
       "      <td>0.816823</td>\n",
       "      <td>0.167418</td>\n",
       "      <td>-0.786815</td>\n",
       "      <td>-0.489065</td>\n",
       "      <td>-0.489065</td>\n",
       "      <td>NaN</td>\n",
       "    </tr>\n",
       "    <tr>\n",
       "      <th>대평동_x</th>\n",
       "      <td>-0.505739</td>\n",
       "      <td>-0.224779</td>\n",
       "      <td>-0.764977</td>\n",
       "      <td>-0.500487</td>\n",
       "      <td>0.410790</td>\n",
       "      <td>-0.814218</td>\n",
       "      <td>0.073925</td>\n",
       "      <td>0.213848</td>\n",
       "      <td>-0.175622</td>\n",
       "      <td>-0.880342</td>\n",
       "      <td>0.022407</td>\n",
       "      <td>-0.368553</td>\n",
       "      <td>-0.368553</td>\n",
       "      <td>NaN</td>\n",
       "    </tr>\n",
       "    <tr>\n",
       "      <th>보람동_x</th>\n",
       "      <td>-0.306694</td>\n",
       "      <td>-0.866141</td>\n",
       "      <td>-0.836168</td>\n",
       "      <td>-0.331101</td>\n",
       "      <td>0.166574</td>\n",
       "      <td>-0.932362</td>\n",
       "      <td>-0.350012</td>\n",
       "      <td>-0.264724</td>\n",
       "      <td>0.213427</td>\n",
       "      <td>-0.866917</td>\n",
       "      <td>-0.442922</td>\n",
       "      <td>-0.899556</td>\n",
       "      <td>-0.899556</td>\n",
       "      <td>NaN</td>\n",
       "    </tr>\n",
       "    <tr>\n",
       "      <th>소담동_x</th>\n",
       "      <td>-0.481850</td>\n",
       "      <td>-0.992698</td>\n",
       "      <td>-0.347088</td>\n",
       "      <td>-0.511733</td>\n",
       "      <td>-0.425234</td>\n",
       "      <td>-0.554737</td>\n",
       "      <td>-0.808684</td>\n",
       "      <td>-0.005438</td>\n",
       "      <td>0.723738</td>\n",
       "      <td>-0.610807</td>\n",
       "      <td>-0.864564</td>\n",
       "      <td>-0.976258</td>\n",
       "      <td>-0.976258</td>\n",
       "      <td>NaN</td>\n",
       "    </tr>\n",
       "    <tr>\n",
       "      <th>나성동_x</th>\n",
       "      <td>-0.711055</td>\n",
       "      <td>-0.537427</td>\n",
       "      <td>-0.709574</td>\n",
       "      <td>-0.715394</td>\n",
       "      <td>0.104555</td>\n",
       "      <td>-0.854249</td>\n",
       "      <td>-0.297396</td>\n",
       "      <td>0.311090</td>\n",
       "      <td>0.188169</td>\n",
       "      <td>-0.980165</td>\n",
       "      <td>-0.352267</td>\n",
       "      <td>-0.664193</td>\n",
       "      <td>-0.664193</td>\n",
       "      <td>NaN</td>\n",
       "    </tr>\n",
       "    <tr>\n",
       "      <th>반곡동_x</th>\n",
       "      <td>-0.624643</td>\n",
       "      <td>-0.821801</td>\n",
       "      <td>-0.733982</td>\n",
       "      <td>-0.642149</td>\n",
       "      <td>-0.011051</td>\n",
       "      <td>-0.900680</td>\n",
       "      <td>-0.490255</td>\n",
       "      <td>0.102705</td>\n",
       "      <td>0.366396</td>\n",
       "      <td>-0.969911</td>\n",
       "      <td>-0.562875</td>\n",
       "      <td>-0.899044</td>\n",
       "      <td>-0.899044</td>\n",
       "      <td>NaN</td>\n",
       "    </tr>\n",
       "    <tr>\n",
       "      <th>해밀동_x</th>\n",
       "      <td>-0.502500</td>\n",
       "      <td>-0.889602</td>\n",
       "      <td>-0.756281</td>\n",
       "      <td>-0.524877</td>\n",
       "      <td>0.011359</td>\n",
       "      <td>-0.905459</td>\n",
       "      <td>-0.489039</td>\n",
       "      <td>-0.054242</td>\n",
       "      <td>0.360134</td>\n",
       "      <td>-0.921425</td>\n",
       "      <td>-0.570498</td>\n",
       "      <td>-0.940983</td>\n",
       "      <td>-0.940983</td>\n",
       "      <td>NaN</td>\n",
       "    </tr>\n",
       "  </tbody>\n",
       "</table>\n",
       "</div>"
      ],
      "text/plain": [
       "        고운동_폐업률   아름동_폐업률   종촌동_폐업률   도담동_폐업률   어진동_폐업률   다정동_폐업률   새롬동_폐업률  \\\n",
       "고운동_x -0.392463 -0.963054 -0.673466 -0.420459 -0.072013 -0.820600 -0.558848   \n",
       "아름동_x -0.402182 -0.994862 -0.540096 -0.432252 -0.218853 -0.709400 -0.667598   \n",
       "종촌동_x -0.058722 -0.895293 -0.245130 -0.092983 -0.319113 -0.363006 -0.630419   \n",
       "도담동_x  0.374895 -0.668531 -0.328079  0.342713  0.039896 -0.313287 -0.230791   \n",
       "어진동_x  0.046461 -0.820018 -0.774666  0.017110  0.256457 -0.798476 -0.216933   \n",
       "다정동_x -0.589371 -0.754710 -0.794659 -0.604318  0.097312 -0.937049 -0.385135   \n",
       "새롬동_x -0.746460 -0.520510 -0.669304 -0.749737  0.064820 -0.823372 -0.319926   \n",
       "한솔동_x -0.156455 -0.595268  0.402841 -0.181062 -0.781421  0.234973 -0.795198   \n",
       "대평동_x -0.505739 -0.224779 -0.764977 -0.500487  0.410790 -0.814218  0.073925   \n",
       "보람동_x -0.306694 -0.866141 -0.836168 -0.331101  0.166574 -0.932362 -0.350012   \n",
       "소담동_x -0.481850 -0.992698 -0.347088 -0.511733 -0.425234 -0.554737 -0.808684   \n",
       "나성동_x -0.711055 -0.537427 -0.709574 -0.715394  0.104555 -0.854249 -0.297396   \n",
       "반곡동_x -0.624643 -0.821801 -0.733982 -0.642149 -0.011051 -0.900680 -0.490255   \n",
       "해밀동_x -0.502500 -0.889602 -0.756281 -0.524877  0.011359 -0.905459 -0.489039   \n",
       "\n",
       "        한솔동_폐업률   대평동_폐업률   보람동_폐업률   소담동_폐업률   나성동_폐업률   반곡동_폐업률  해밀동_폐업률  \n",
       "고운동_x -0.172657  0.437008 -0.801606 -0.641043 -0.976754 -0.976754      NaN  \n",
       "아름동_x -0.139377  0.560100 -0.709690 -0.740829 -0.989308 -0.989308      NaN  \n",
       "종촌동_x -0.366928  0.563247 -0.283924 -0.688105 -0.812542 -0.812542      NaN  \n",
       "도담동_x -0.737274  0.165119 -0.079851 -0.298700 -0.558283 -0.558283      NaN  \n",
       "어진동_x -0.586978  0.090905 -0.614377 -0.314750 -0.796194 -0.796194      NaN  \n",
       "다정동_x  0.077482  0.257104 -0.990077 -0.460440 -0.843012 -0.843012      NaN  \n",
       "새롬동_x  0.364666  0.216032 -0.969107 -0.369799 -0.650230 -0.650230      NaN  \n",
       "한솔동_x  0.028571  0.816823  0.167418 -0.786815 -0.489065 -0.489065      NaN  \n",
       "대평동_x  0.213848 -0.175622 -0.880342  0.022407 -0.368553 -0.368553      NaN  \n",
       "보람동_x -0.264724  0.213427 -0.866917 -0.442922 -0.899556 -0.899556      NaN  \n",
       "소담동_x -0.005438  0.723738 -0.610807 -0.864564 -0.976258 -0.976258      NaN  \n",
       "나성동_x  0.311090  0.188169 -0.980165 -0.352267 -0.664193 -0.664193      NaN  \n",
       "반곡동_x  0.102705  0.366396 -0.969911 -0.562875 -0.899044 -0.899044      NaN  \n",
       "해밀동_x -0.054242  0.360134 -0.921425 -0.570498 -0.940983 -0.940983      NaN  "
      ]
     },
     "execution_count": 79,
     "metadata": {},
     "output_type": "execute_result"
    }
   ],
   "source": [
    "# Aligning both DataFrames on 'Year' column for correlation analysis\n",
    "merged_closure_rates_df = pd.merge(closure_rates, empty_rate_df, on='Year', how='inner')\n",
    "\n",
    "# Rename the floating population columns for clarity (e.g., adding \"_유동인구\" suffix)\n",
    "merged_closure_rates_df = merged_closure_rates_df.rename(columns={f\"{name}_y\": f\"{name}_폐업률\" for name in fpop_pivot_df.columns})\n",
    "\n",
    "# Extract the correlation between vacancy rates and floating population data\n",
    "vacancy_columns = ['고운동_x', '아름동_x', '종촌동_x', '도담동_x', '어진동_x', '다정동_x', '새롬동_x', '한솔동_x', '대평동_x', '보람동_x', '소담동_x', '나성동_x', '반곡동_x', '해밀동_x']\n",
    "closure_rates_columns = [f\"{name}_폐업률\" for name in closure_rates.columns[1:]]\n",
    "\n",
    "# Dropping the 'Year' column and calculating the correlation matrix\n",
    "correlation_matrix = merged_closure_rates_df.drop(columns=['Year']).corr()\n",
    "\n",
    "# Extracting the correlation between closure rates and vacancy rates\n",
    "closure_vacancy_corr = correlation_matrix.loc[vacancy_columns, closure_rates_columns]\n",
    "\n",
    "closure_vacancy_corr"
   ]
  },
  {
   "cell_type": "code",
   "execution_count": 80,
   "metadata": {},
   "outputs": [
    {
     "data": {
      "application/vnd.plotly.v1+json": {
       "config": {
        "plotlyServerURL": "https://plot.ly"
       },
       "data": [
        {
         "coloraxis": "coloraxis",
         "hovertemplate": "폐업률: %{x}<br>Vacancy Rates: %{y}<br>Correlation: %{z}<extra></extra>",
         "name": "0",
         "type": "heatmap",
         "x": [
          "고운동_폐업률",
          "아름동_폐업률",
          "종촌동_폐업률",
          "도담동_폐업률",
          "어진동_폐업률",
          "다정동_폐업률",
          "새롬동_폐업률",
          "한솔동_폐업률",
          "대평동_폐업률",
          "보람동_폐업률",
          "소담동_폐업률",
          "나성동_폐업률",
          "반곡동_폐업률",
          "해밀동_폐업률"
         ],
         "xaxis": "x",
         "y": [
          "고운동_x",
          "아름동_x",
          "종촌동_x",
          "도담동_x",
          "어진동_x",
          "다정동_x",
          "새롬동_x",
          "한솔동_x",
          "대평동_x",
          "보람동_x",
          "소담동_x",
          "나성동_x",
          "반곡동_x",
          "해밀동_x"
         ],
         "yaxis": "y",
         "z": [
          [
           -0.39246264628226996,
           -0.9630544589832449,
           -0.6734655848324713,
           -0.42045936083023155,
           -0.07201340915420461,
           -0.8206000128405696,
           -0.5588478143839815,
           -0.17265720052914157,
           0.4370080470100728,
           -0.8016059382729145,
           -0.6410427741717789,
           -0.9767542435567451,
           -0.9767542435567457,
           null
          ],
          [
           -0.4021815256817165,
           -0.994862314518244,
           -0.540096077049281,
           -0.4322516683549845,
           -0.21885265024600536,
           -0.7093999135984564,
           -0.6675980258527594,
           -0.13937736091974132,
           0.5600995975121916,
           -0.7096897654586634,
           -0.7408294738586312,
           -0.9893082728983472,
           -0.9893082728983478,
           null
          ],
          [
           -0.05872174198855192,
           -0.8952931207062969,
           -0.2451299389203875,
           -0.09298300145735294,
           -0.31911295711441034,
           -0.36300588185924815,
           -0.6304194940325194,
           -0.366928226741179,
           0.5632470283574242,
           -0.283924256885167,
           -0.6881048758666173,
           -0.8125424815182523,
           -0.8125424815182528,
           null
          ],
          [
           0.3748953819072517,
           -0.668531325363417,
           -0.32807931001926177,
           0.3427131874204671,
           0.03989607612803093,
           -0.31328700609851834,
           -0.23079051374452653,
           -0.7372739914765416,
           0.16511935278202627,
           -0.0798514559571685,
           -0.2987001303451781,
           -0.5582828640275552,
           -0.5582828640275557,
           null
          ],
          [
           0.046460737101048935,
           -0.8200180690416766,
           -0.7746660198868255,
           0.01710999681045421,
           0.256456771706911,
           -0.7984763571912865,
           -0.21693264784262228,
           -0.5869783624989157,
           0.09090460407674643,
           -0.6143774091447163,
           -0.3147496687296868,
           -0.7961943148280853,
           -0.7961943148280857,
           null
          ],
          [
           -0.589371438608039,
           -0.7547097741602182,
           -0.7946593143541054,
           -0.6043178959417397,
           0.0973115863358176,
           -0.937048509005791,
           -0.3851345125502171,
           0.07748155803555895,
           0.25710362687718424,
           -0.9900774184306652,
           -0.4604395835510018,
           -0.843012453495221,
           -0.8430124534952212,
           null
          ],
          [
           -0.7464596905363269,
           -0.5205099423901265,
           -0.6693038345670634,
           -0.7497367504834372,
           0.06482020021807153,
           -0.8233721070936252,
           -0.3199257237177269,
           0.3646656102930967,
           0.21603201872021946,
           -0.9691074451384585,
           -0.36979945104564366,
           -0.6502299340829701,
           -0.6502299340829703,
           null
          ],
          [
           -0.1564548894087051,
           -0.5952678248211172,
           0.40284062654251107,
           -0.181062238813806,
           -0.7814206053552345,
           0.23497277789372387,
           -0.7951978638263512,
           0.028571079462832355,
           0.8168229161807115,
           0.16741758263879225,
           -0.7868151403187259,
           -0.48906496582914816,
           -0.48906496582914877,
           null
          ],
          [
           -0.5057391626930808,
           -0.2247785336163008,
           -0.7649769655733116,
           -0.5004865894707401,
           0.4107903771073969,
           -0.8142176506465639,
           0.07392502040852171,
           0.21384760497854546,
           -0.17562181177891564,
           -0.8803423245265499,
           0.02240694246767009,
           -0.36855269354701037,
           -0.36855269354701026,
           null
          ],
          [
           -0.30669392438575827,
           -0.8661412732074024,
           -0.836167970441981,
           -0.33110072507556937,
           0.16657404742636553,
           -0.9323616152346244,
           -0.35001228986696975,
           -0.26472441645123274,
           0.2134271453868466,
           -0.8669174330590782,
           -0.4429217101838411,
           -0.8995561182104959,
           -0.8995561182104959,
           null
          ],
          [
           -0.4818498858247304,
           -0.9926984593648494,
           -0.34708819078942627,
           -0.5117334623294061,
           -0.42523426327847563,
           -0.554737111560359,
           -0.8086842890217091,
           -0.00543806892508128,
           0.7237381792488753,
           -0.6108068069644309,
           -0.8645636783174281,
           -0.9762579685773515,
           -0.9762579685773523,
           null
          ],
          [
           -0.7110554952442469,
           -0.5374265935727787,
           -0.7095740142192851,
           -0.7153943086299808,
           0.10455454258683075,
           -0.854248522855937,
           -0.2973963332203838,
           0.3110903932462527,
           0.18816911242098805,
           -0.9801647315900006,
           -0.35226688378867643,
           -0.6641932746521819,
           -0.664193274652182,
           null
          ],
          [
           -0.6246427832176246,
           -0.8218009430148159,
           -0.7339815714582285,
           -0.6421489210619536,
           -0.011051352940445607,
           -0.9006800516253779,
           -0.4902551044828786,
           0.10270484279635804,
           0.36639590617456347,
           -0.9699114252793593,
           -0.562875154918902,
           -0.8990443659178153,
           -0.8990443659178156,
           null
          ],
          [
           -0.5025004490116228,
           -0.8896018520104283,
           -0.7562806917380136,
           -0.5248769375307618,
           0.011358718149667175,
           -0.9054585725887235,
           -0.4890392144598191,
           -0.054242104053731276,
           0.360134183939628,
           -0.9214246729298385,
           -0.5704977779096881,
           -0.9409826298499644,
           -0.940982629849965,
           null
          ]
         ]
        }
       ],
       "layout": {
        "coloraxis": {
         "cmax": 1,
         "cmin": -1,
         "colorbar": {
          "title": {
           "text": "Correlation"
          }
         },
         "colorscale": [
          [
           0,
           "rgb(103,0,31)"
          ],
          [
           0.1,
           "rgb(178,24,43)"
          ],
          [
           0.2,
           "rgb(214,96,77)"
          ],
          [
           0.3,
           "rgb(244,165,130)"
          ],
          [
           0.4,
           "rgb(253,219,199)"
          ],
          [
           0.5,
           "rgb(247,247,247)"
          ],
          [
           0.6,
           "rgb(209,229,240)"
          ],
          [
           0.7,
           "rgb(146,197,222)"
          ],
          [
           0.8,
           "rgb(67,147,195)"
          ],
          [
           0.9,
           "rgb(33,102,172)"
          ],
          [
           1,
           "rgb(5,48,97)"
          ]
         ]
        },
        "margin": {
         "t": 60
        },
        "template": {
         "data": {
          "bar": [
           {
            "error_x": {
             "color": "#2a3f5f"
            },
            "error_y": {
             "color": "#2a3f5f"
            },
            "marker": {
             "line": {
              "color": "#E5ECF6",
              "width": 0.5
             },
             "pattern": {
              "fillmode": "overlay",
              "size": 10,
              "solidity": 0.2
             }
            },
            "type": "bar"
           }
          ],
          "barpolar": [
           {
            "marker": {
             "line": {
              "color": "#E5ECF6",
              "width": 0.5
             },
             "pattern": {
              "fillmode": "overlay",
              "size": 10,
              "solidity": 0.2
             }
            },
            "type": "barpolar"
           }
          ],
          "carpet": [
           {
            "aaxis": {
             "endlinecolor": "#2a3f5f",
             "gridcolor": "white",
             "linecolor": "white",
             "minorgridcolor": "white",
             "startlinecolor": "#2a3f5f"
            },
            "baxis": {
             "endlinecolor": "#2a3f5f",
             "gridcolor": "white",
             "linecolor": "white",
             "minorgridcolor": "white",
             "startlinecolor": "#2a3f5f"
            },
            "type": "carpet"
           }
          ],
          "choropleth": [
           {
            "colorbar": {
             "outlinewidth": 0,
             "ticks": ""
            },
            "type": "choropleth"
           }
          ],
          "contour": [
           {
            "colorbar": {
             "outlinewidth": 0,
             "ticks": ""
            },
            "colorscale": [
             [
              0,
              "#0d0887"
             ],
             [
              0.1111111111111111,
              "#46039f"
             ],
             [
              0.2222222222222222,
              "#7201a8"
             ],
             [
              0.3333333333333333,
              "#9c179e"
             ],
             [
              0.4444444444444444,
              "#bd3786"
             ],
             [
              0.5555555555555556,
              "#d8576b"
             ],
             [
              0.6666666666666666,
              "#ed7953"
             ],
             [
              0.7777777777777778,
              "#fb9f3a"
             ],
             [
              0.8888888888888888,
              "#fdca26"
             ],
             [
              1,
              "#f0f921"
             ]
            ],
            "type": "contour"
           }
          ],
          "contourcarpet": [
           {
            "colorbar": {
             "outlinewidth": 0,
             "ticks": ""
            },
            "type": "contourcarpet"
           }
          ],
          "heatmap": [
           {
            "colorbar": {
             "outlinewidth": 0,
             "ticks": ""
            },
            "colorscale": [
             [
              0,
              "#0d0887"
             ],
             [
              0.1111111111111111,
              "#46039f"
             ],
             [
              0.2222222222222222,
              "#7201a8"
             ],
             [
              0.3333333333333333,
              "#9c179e"
             ],
             [
              0.4444444444444444,
              "#bd3786"
             ],
             [
              0.5555555555555556,
              "#d8576b"
             ],
             [
              0.6666666666666666,
              "#ed7953"
             ],
             [
              0.7777777777777778,
              "#fb9f3a"
             ],
             [
              0.8888888888888888,
              "#fdca26"
             ],
             [
              1,
              "#f0f921"
             ]
            ],
            "type": "heatmap"
           }
          ],
          "heatmapgl": [
           {
            "colorbar": {
             "outlinewidth": 0,
             "ticks": ""
            },
            "colorscale": [
             [
              0,
              "#0d0887"
             ],
             [
              0.1111111111111111,
              "#46039f"
             ],
             [
              0.2222222222222222,
              "#7201a8"
             ],
             [
              0.3333333333333333,
              "#9c179e"
             ],
             [
              0.4444444444444444,
              "#bd3786"
             ],
             [
              0.5555555555555556,
              "#d8576b"
             ],
             [
              0.6666666666666666,
              "#ed7953"
             ],
             [
              0.7777777777777778,
              "#fb9f3a"
             ],
             [
              0.8888888888888888,
              "#fdca26"
             ],
             [
              1,
              "#f0f921"
             ]
            ],
            "type": "heatmapgl"
           }
          ],
          "histogram": [
           {
            "marker": {
             "pattern": {
              "fillmode": "overlay",
              "size": 10,
              "solidity": 0.2
             }
            },
            "type": "histogram"
           }
          ],
          "histogram2d": [
           {
            "colorbar": {
             "outlinewidth": 0,
             "ticks": ""
            },
            "colorscale": [
             [
              0,
              "#0d0887"
             ],
             [
              0.1111111111111111,
              "#46039f"
             ],
             [
              0.2222222222222222,
              "#7201a8"
             ],
             [
              0.3333333333333333,
              "#9c179e"
             ],
             [
              0.4444444444444444,
              "#bd3786"
             ],
             [
              0.5555555555555556,
              "#d8576b"
             ],
             [
              0.6666666666666666,
              "#ed7953"
             ],
             [
              0.7777777777777778,
              "#fb9f3a"
             ],
             [
              0.8888888888888888,
              "#fdca26"
             ],
             [
              1,
              "#f0f921"
             ]
            ],
            "type": "histogram2d"
           }
          ],
          "histogram2dcontour": [
           {
            "colorbar": {
             "outlinewidth": 0,
             "ticks": ""
            },
            "colorscale": [
             [
              0,
              "#0d0887"
             ],
             [
              0.1111111111111111,
              "#46039f"
             ],
             [
              0.2222222222222222,
              "#7201a8"
             ],
             [
              0.3333333333333333,
              "#9c179e"
             ],
             [
              0.4444444444444444,
              "#bd3786"
             ],
             [
              0.5555555555555556,
              "#d8576b"
             ],
             [
              0.6666666666666666,
              "#ed7953"
             ],
             [
              0.7777777777777778,
              "#fb9f3a"
             ],
             [
              0.8888888888888888,
              "#fdca26"
             ],
             [
              1,
              "#f0f921"
             ]
            ],
            "type": "histogram2dcontour"
           }
          ],
          "mesh3d": [
           {
            "colorbar": {
             "outlinewidth": 0,
             "ticks": ""
            },
            "type": "mesh3d"
           }
          ],
          "parcoords": [
           {
            "line": {
             "colorbar": {
              "outlinewidth": 0,
              "ticks": ""
             }
            },
            "type": "parcoords"
           }
          ],
          "pie": [
           {
            "automargin": true,
            "type": "pie"
           }
          ],
          "scatter": [
           {
            "fillpattern": {
             "fillmode": "overlay",
             "size": 10,
             "solidity": 0.2
            },
            "type": "scatter"
           }
          ],
          "scatter3d": [
           {
            "line": {
             "colorbar": {
              "outlinewidth": 0,
              "ticks": ""
             }
            },
            "marker": {
             "colorbar": {
              "outlinewidth": 0,
              "ticks": ""
             }
            },
            "type": "scatter3d"
           }
          ],
          "scattercarpet": [
           {
            "marker": {
             "colorbar": {
              "outlinewidth": 0,
              "ticks": ""
             }
            },
            "type": "scattercarpet"
           }
          ],
          "scattergeo": [
           {
            "marker": {
             "colorbar": {
              "outlinewidth": 0,
              "ticks": ""
             }
            },
            "type": "scattergeo"
           }
          ],
          "scattergl": [
           {
            "marker": {
             "colorbar": {
              "outlinewidth": 0,
              "ticks": ""
             }
            },
            "type": "scattergl"
           }
          ],
          "scattermapbox": [
           {
            "marker": {
             "colorbar": {
              "outlinewidth": 0,
              "ticks": ""
             }
            },
            "type": "scattermapbox"
           }
          ],
          "scatterpolar": [
           {
            "marker": {
             "colorbar": {
              "outlinewidth": 0,
              "ticks": ""
             }
            },
            "type": "scatterpolar"
           }
          ],
          "scatterpolargl": [
           {
            "marker": {
             "colorbar": {
              "outlinewidth": 0,
              "ticks": ""
             }
            },
            "type": "scatterpolargl"
           }
          ],
          "scatterternary": [
           {
            "marker": {
             "colorbar": {
              "outlinewidth": 0,
              "ticks": ""
             }
            },
            "type": "scatterternary"
           }
          ],
          "surface": [
           {
            "colorbar": {
             "outlinewidth": 0,
             "ticks": ""
            },
            "colorscale": [
             [
              0,
              "#0d0887"
             ],
             [
              0.1111111111111111,
              "#46039f"
             ],
             [
              0.2222222222222222,
              "#7201a8"
             ],
             [
              0.3333333333333333,
              "#9c179e"
             ],
             [
              0.4444444444444444,
              "#bd3786"
             ],
             [
              0.5555555555555556,
              "#d8576b"
             ],
             [
              0.6666666666666666,
              "#ed7953"
             ],
             [
              0.7777777777777778,
              "#fb9f3a"
             ],
             [
              0.8888888888888888,
              "#fdca26"
             ],
             [
              1,
              "#f0f921"
             ]
            ],
            "type": "surface"
           }
          ],
          "table": [
           {
            "cells": {
             "fill": {
              "color": "#EBF0F8"
             },
             "line": {
              "color": "white"
             }
            },
            "header": {
             "fill": {
              "color": "#C8D4E3"
             },
             "line": {
              "color": "white"
             }
            },
            "type": "table"
           }
          ]
         },
         "layout": {
          "annotationdefaults": {
           "arrowcolor": "#2a3f5f",
           "arrowhead": 0,
           "arrowwidth": 1
          },
          "autotypenumbers": "strict",
          "coloraxis": {
           "colorbar": {
            "outlinewidth": 0,
            "ticks": ""
           }
          },
          "colorscale": {
           "diverging": [
            [
             0,
             "#8e0152"
            ],
            [
             0.1,
             "#c51b7d"
            ],
            [
             0.2,
             "#de77ae"
            ],
            [
             0.3,
             "#f1b6da"
            ],
            [
             0.4,
             "#fde0ef"
            ],
            [
             0.5,
             "#f7f7f7"
            ],
            [
             0.6,
             "#e6f5d0"
            ],
            [
             0.7,
             "#b8e186"
            ],
            [
             0.8,
             "#7fbc41"
            ],
            [
             0.9,
             "#4d9221"
            ],
            [
             1,
             "#276419"
            ]
           ],
           "sequential": [
            [
             0,
             "#0d0887"
            ],
            [
             0.1111111111111111,
             "#46039f"
            ],
            [
             0.2222222222222222,
             "#7201a8"
            ],
            [
             0.3333333333333333,
             "#9c179e"
            ],
            [
             0.4444444444444444,
             "#bd3786"
            ],
            [
             0.5555555555555556,
             "#d8576b"
            ],
            [
             0.6666666666666666,
             "#ed7953"
            ],
            [
             0.7777777777777778,
             "#fb9f3a"
            ],
            [
             0.8888888888888888,
             "#fdca26"
            ],
            [
             1,
             "#f0f921"
            ]
           ],
           "sequentialminus": [
            [
             0,
             "#0d0887"
            ],
            [
             0.1111111111111111,
             "#46039f"
            ],
            [
             0.2222222222222222,
             "#7201a8"
            ],
            [
             0.3333333333333333,
             "#9c179e"
            ],
            [
             0.4444444444444444,
             "#bd3786"
            ],
            [
             0.5555555555555556,
             "#d8576b"
            ],
            [
             0.6666666666666666,
             "#ed7953"
            ],
            [
             0.7777777777777778,
             "#fb9f3a"
            ],
            [
             0.8888888888888888,
             "#fdca26"
            ],
            [
             1,
             "#f0f921"
            ]
           ]
          },
          "colorway": [
           "#636efa",
           "#EF553B",
           "#00cc96",
           "#ab63fa",
           "#FFA15A",
           "#19d3f3",
           "#FF6692",
           "#B6E880",
           "#FF97FF",
           "#FECB52"
          ],
          "font": {
           "color": "#2a3f5f"
          },
          "geo": {
           "bgcolor": "white",
           "lakecolor": "white",
           "landcolor": "#E5ECF6",
           "showlakes": true,
           "showland": true,
           "subunitcolor": "white"
          },
          "hoverlabel": {
           "align": "left"
          },
          "hovermode": "closest",
          "mapbox": {
           "style": "light"
          },
          "paper_bgcolor": "white",
          "plot_bgcolor": "#E5ECF6",
          "polar": {
           "angularaxis": {
            "gridcolor": "white",
            "linecolor": "white",
            "ticks": ""
           },
           "bgcolor": "#E5ECF6",
           "radialaxis": {
            "gridcolor": "white",
            "linecolor": "white",
            "ticks": ""
           }
          },
          "scene": {
           "xaxis": {
            "backgroundcolor": "#E5ECF6",
            "gridcolor": "white",
            "gridwidth": 2,
            "linecolor": "white",
            "showbackground": true,
            "ticks": "",
            "zerolinecolor": "white"
           },
           "yaxis": {
            "backgroundcolor": "#E5ECF6",
            "gridcolor": "white",
            "gridwidth": 2,
            "linecolor": "white",
            "showbackground": true,
            "ticks": "",
            "zerolinecolor": "white"
           },
           "zaxis": {
            "backgroundcolor": "#E5ECF6",
            "gridcolor": "white",
            "gridwidth": 2,
            "linecolor": "white",
            "showbackground": true,
            "ticks": "",
            "zerolinecolor": "white"
           }
          },
          "shapedefaults": {
           "line": {
            "color": "#2a3f5f"
           }
          },
          "ternary": {
           "aaxis": {
            "gridcolor": "white",
            "linecolor": "white",
            "ticks": ""
           },
           "baxis": {
            "gridcolor": "white",
            "linecolor": "white",
            "ticks": ""
           },
           "bgcolor": "#E5ECF6",
           "caxis": {
            "gridcolor": "white",
            "linecolor": "white",
            "ticks": ""
           }
          },
          "title": {
           "x": 0.05
          },
          "xaxis": {
           "automargin": true,
           "gridcolor": "white",
           "linecolor": "white",
           "ticks": "",
           "title": {
            "standoff": 15
           },
           "zerolinecolor": "white",
           "zerolinewidth": 2
          },
          "yaxis": {
           "automargin": true,
           "gridcolor": "white",
           "linecolor": "white",
           "ticks": "",
           "title": {
            "standoff": 15
           },
           "zerolinecolor": "white",
           "zerolinewidth": 2
          }
         }
        },
        "xaxis": {
         "anchor": "y",
         "constrain": "domain",
         "domain": [
          0,
          1
         ],
         "scaleanchor": "y",
         "title": {
          "text": "폐업률"
         }
        },
        "yaxis": {
         "anchor": "x",
         "autorange": "reversed",
         "constrain": "domain",
         "domain": [
          0,
          1
         ],
         "title": {
          "text": "Vacancy Rates"
         }
        }
       }
      }
     },
     "metadata": {},
     "output_type": "display_data"
    }
   ],
   "source": [
    "# Importing plotly express for visualization\n",
    "import plotly.express as px\n",
    "\n",
    "# Creating a heatmap using Plotly Express to visualize the correlation between vacancy rates and floating population\n",
    "fig = px.imshow(\n",
    "    closure_vacancy_corr,\n",
    "    labels=dict(x=\"폐업률\", y=\"Vacancy Rates\", color=\"Correlation\"),\n",
    "    x=closure_vacancy_corr.columns,\n",
    "    y=closure_vacancy_corr.index,\n",
    "    color_continuous_scale='RdBu',\n",
    "    zmin=-1, zmax=1\n",
    ")\n",
    "\n",
    "fig.show()"
   ]
  },
  {
   "cell_type": "markdown",
   "metadata": {},
   "source": [
    "##### 공실률 - 매출 상관관계"
   ]
  },
  {
   "cell_type": "code",
   "execution_count": 68,
   "metadata": {},
   "outputs": [],
   "source": [
    "sales_sum = pd.read_csv('행정동별_총매출.csv')\n",
    "sales_mean = pd.read_csv('행정동별_평균매출.csv')"
   ]
  },
  {
   "cell_type": "code",
   "execution_count": 87,
   "metadata": {},
   "outputs": [
    {
     "data": {
      "text/plain": [
       "Year\n",
       "2020   -0.121273\n",
       "2021   -0.289819\n",
       "2022   -0.225108\n",
       "2023   -0.196593\n",
       "dtype: float64"
      ]
     },
     "execution_count": 87,
     "metadata": {},
     "output_type": "execute_result"
    }
   ],
   "source": [
    "# Flatten the empty_rate_df to have each row correspond to a single year's data per area\n",
    "flattened_empty_rate_df = empty_rate_df.melt(id_vars=[\"Year\"], var_name=\"ADM_NM\", value_name=\"Empty_Rate\")\n",
    "\n",
    "# Merge with sales_sum to align sales data with each row of empty rate data\n",
    "merged_data = pd.merge(flattened_empty_rate_df, sales_sum, on=\"ADM_NM\")\n",
    "\n",
    "# Calculating the correlation for each year\n",
    "correlation_per_year = merged_data.groupby('Year').apply(lambda x: x['Empty_Rate'].corr(x['EST_SALES']))\n",
    "\n",
    "correlation_per_year"
   ]
  },
  {
   "cell_type": "code",
   "execution_count": 89,
   "metadata": {},
   "outputs": [
    {
     "data": {
      "text/plain": [
       "Year\n",
       "2020   -0.416689\n",
       "2021   -0.287671\n",
       "2022    0.021375\n",
       "2023   -0.154180\n",
       "dtype: float64"
      ]
     },
     "execution_count": 89,
     "metadata": {},
     "output_type": "execute_result"
    }
   ],
   "source": [
    "# Flatten the empty_rate_df to have each row correspond to a single year's data per area\n",
    "flattened_empty_rate_df = empty_rate_df.melt(id_vars=[\"Year\"], var_name=\"ADM_NM\", value_name=\"Empty_Rate\")\n",
    "\n",
    "# Merge with sales_sum to align sales data with each row of empty rate data\n",
    "merged_data = pd.merge(flattened_empty_rate_df, sales_mean, on=\"ADM_NM\")\n",
    "\n",
    "# Calculating the correlation for each year\n",
    "correlation_per_year = merged_data.groupby('Year').apply(lambda x: x['Empty_Rate'].corr(x['EST_SALES']))\n",
    "\n",
    "correlation_per_year"
   ]
  },
  {
   "cell_type": "code",
   "execution_count": 172,
   "metadata": {},
   "outputs": [
    {
     "data": {
      "text/html": [
       "<div>\n",
       "<style scoped>\n",
       "    .dataframe tbody tr th:only-of-type {\n",
       "        vertical-align: middle;\n",
       "    }\n",
       "\n",
       "    .dataframe tbody tr th {\n",
       "        vertical-align: top;\n",
       "    }\n",
       "\n",
       "    .dataframe thead th {\n",
       "        text-align: right;\n",
       "    }\n",
       "</style>\n",
       "<table border=\"1\" class=\"dataframe\">\n",
       "  <thead>\n",
       "    <tr style=\"text-align: right;\">\n",
       "      <th></th>\n",
       "      <th>Year</th>\n",
       "      <th>고운동</th>\n",
       "      <th>나성동</th>\n",
       "      <th>다정동</th>\n",
       "      <th>대평동</th>\n",
       "      <th>도담동</th>\n",
       "      <th>반곡동</th>\n",
       "      <th>보람동</th>\n",
       "      <th>새롬동</th>\n",
       "      <th>소담동</th>\n",
       "      <th>아름동</th>\n",
       "      <th>어진동</th>\n",
       "      <th>종촌동</th>\n",
       "      <th>한솔동</th>\n",
       "      <th>해밀동</th>\n",
       "      <th>가람동_매출평균</th>\n",
       "      <th>고운동_매출평균</th>\n",
       "      <th>나성동_매출평균</th>\n",
       "      <th>누리동_매출평균</th>\n",
       "      <th>다솜동_매출평균</th>\n",
       "      <th>다정동_매출평균</th>\n",
       "      <th>대평동_매출평균</th>\n",
       "      <th>도담동_매출평균</th>\n",
       "      <th>반곡동_매출평균</th>\n",
       "      <th>보람동_매출평균</th>\n",
       "      <th>산울동_매출평균</th>\n",
       "      <th>새롬동_매출평균</th>\n",
       "      <th>세종동_매출평균</th>\n",
       "      <th>소담동_매출평균</th>\n",
       "      <th>아름동_매출평균</th>\n",
       "      <th>어진동_매출평균</th>\n",
       "      <th>종촌동_매출평균</th>\n",
       "      <th>집현동_매출평균</th>\n",
       "      <th>한별동_매출평균</th>\n",
       "      <th>한솔동_매출평균</th>\n",
       "      <th>합강동_매출평균</th>\n",
       "      <th>해밀동_매출평균</th>\n",
       "    </tr>\n",
       "  </thead>\n",
       "  <tbody>\n",
       "    <tr>\n",
       "      <th>0</th>\n",
       "      <td>2020</td>\n",
       "      <td>38.85</td>\n",
       "      <td>42.130</td>\n",
       "      <td>40.70</td>\n",
       "      <td>49.30</td>\n",
       "      <td>21.70</td>\n",
       "      <td>55.1</td>\n",
       "      <td>61.35</td>\n",
       "      <td>13.20</td>\n",
       "      <td>55.10</td>\n",
       "      <td>45.45</td>\n",
       "      <td>26.00</td>\n",
       "      <td>17.70</td>\n",
       "      <td>30.10</td>\n",
       "      <td>32.5</td>\n",
       "      <td>76459.163462</td>\n",
       "      <td>14306.864377</td>\n",
       "      <td>19036.510269</td>\n",
       "      <td>2194.5</td>\n",
       "      <td>0.0</td>\n",
       "      <td>15080.005117</td>\n",
       "      <td>16351.26902</td>\n",
       "      <td>16470.095529</td>\n",
       "      <td>17379.435062</td>\n",
       "      <td>13878.557046</td>\n",
       "      <td>49908.208333</td>\n",
       "      <td>19766.597693</td>\n",
       "      <td>13646.248029</td>\n",
       "      <td>14276.263375</td>\n",
       "      <td>19005.639387</td>\n",
       "      <td>16684.78238</td>\n",
       "      <td>16295.022457</td>\n",
       "      <td>11095.427663</td>\n",
       "      <td>11159.583333</td>\n",
       "      <td>16725.848533</td>\n",
       "      <td>29163.666667</td>\n",
       "      <td>17345.676514</td>\n",
       "    </tr>\n",
       "    <tr>\n",
       "      <th>1</th>\n",
       "      <td>2021</td>\n",
       "      <td>25.90</td>\n",
       "      <td>39.065</td>\n",
       "      <td>44.85</td>\n",
       "      <td>66.30</td>\n",
       "      <td>12.75</td>\n",
       "      <td>43.8</td>\n",
       "      <td>50.80</td>\n",
       "      <td>1.35</td>\n",
       "      <td>32.60</td>\n",
       "      <td>34.65</td>\n",
       "      <td>17.35</td>\n",
       "      <td>22.00</td>\n",
       "      <td>59.55</td>\n",
       "      <td>32.5</td>\n",
       "      <td>76459.163462</td>\n",
       "      <td>14306.864377</td>\n",
       "      <td>19036.510269</td>\n",
       "      <td>2194.5</td>\n",
       "      <td>0.0</td>\n",
       "      <td>15080.005117</td>\n",
       "      <td>16351.26902</td>\n",
       "      <td>16470.095529</td>\n",
       "      <td>17379.435062</td>\n",
       "      <td>13878.557046</td>\n",
       "      <td>49908.208333</td>\n",
       "      <td>19766.597693</td>\n",
       "      <td>13646.248029</td>\n",
       "      <td>14276.263375</td>\n",
       "      <td>19005.639387</td>\n",
       "      <td>16684.78238</td>\n",
       "      <td>16295.022457</td>\n",
       "      <td>11095.427663</td>\n",
       "      <td>11159.583333</td>\n",
       "      <td>16725.848533</td>\n",
       "      <td>29163.666667</td>\n",
       "      <td>17345.676514</td>\n",
       "    </tr>\n",
       "    <tr>\n",
       "      <th>2</th>\n",
       "      <td>2022</td>\n",
       "      <td>24.72</td>\n",
       "      <td>39.065</td>\n",
       "      <td>17.45</td>\n",
       "      <td>55.42</td>\n",
       "      <td>12.07</td>\n",
       "      <td>43.8</td>\n",
       "      <td>21.23</td>\n",
       "      <td>8.03</td>\n",
       "      <td>44.52</td>\n",
       "      <td>37.42</td>\n",
       "      <td>24.50</td>\n",
       "      <td>13.49</td>\n",
       "      <td>56.25</td>\n",
       "      <td>32.5</td>\n",
       "      <td>76459.163462</td>\n",
       "      <td>14306.864377</td>\n",
       "      <td>19036.510269</td>\n",
       "      <td>2194.5</td>\n",
       "      <td>0.0</td>\n",
       "      <td>15080.005117</td>\n",
       "      <td>16351.26902</td>\n",
       "      <td>16470.095529</td>\n",
       "      <td>17379.435062</td>\n",
       "      <td>13878.557046</td>\n",
       "      <td>49908.208333</td>\n",
       "      <td>19766.597693</td>\n",
       "      <td>13646.248029</td>\n",
       "      <td>14276.263375</td>\n",
       "      <td>19005.639387</td>\n",
       "      <td>16684.78238</td>\n",
       "      <td>16295.022457</td>\n",
       "      <td>11095.427663</td>\n",
       "      <td>11159.583333</td>\n",
       "      <td>16725.848533</td>\n",
       "      <td>29163.666667</td>\n",
       "      <td>17345.676514</td>\n",
       "    </tr>\n",
       "    <tr>\n",
       "      <th>3</th>\n",
       "      <td>2023</td>\n",
       "      <td>30.52</td>\n",
       "      <td>36.000</td>\n",
       "      <td>11.90</td>\n",
       "      <td>60.20</td>\n",
       "      <td>15.70</td>\n",
       "      <td>32.5</td>\n",
       "      <td>24.35</td>\n",
       "      <td>4.10</td>\n",
       "      <td>35.50</td>\n",
       "      <td>23.40</td>\n",
       "      <td>23.40</td>\n",
       "      <td>12.00</td>\n",
       "      <td>30.10</td>\n",
       "      <td>32.5</td>\n",
       "      <td>76459.163462</td>\n",
       "      <td>14306.864377</td>\n",
       "      <td>19036.510269</td>\n",
       "      <td>2194.5</td>\n",
       "      <td>0.0</td>\n",
       "      <td>15080.005117</td>\n",
       "      <td>16351.26902</td>\n",
       "      <td>16470.095529</td>\n",
       "      <td>17379.435062</td>\n",
       "      <td>13878.557046</td>\n",
       "      <td>49908.208333</td>\n",
       "      <td>19766.597693</td>\n",
       "      <td>13646.248029</td>\n",
       "      <td>14276.263375</td>\n",
       "      <td>19005.639387</td>\n",
       "      <td>16684.78238</td>\n",
       "      <td>16295.022457</td>\n",
       "      <td>11095.427663</td>\n",
       "      <td>11159.583333</td>\n",
       "      <td>16725.848533</td>\n",
       "      <td>29163.666667</td>\n",
       "      <td>17345.676514</td>\n",
       "    </tr>\n",
       "  </tbody>\n",
       "</table>\n",
       "</div>"
      ],
      "text/plain": [
       "   Year    고운동     나성동    다정동    대평동    도담동   반곡동    보람동    새롬동    소담동    아름동  \\\n",
       "0  2020  38.85  42.130  40.70  49.30  21.70  55.1  61.35  13.20  55.10  45.45   \n",
       "1  2021  25.90  39.065  44.85  66.30  12.75  43.8  50.80   1.35  32.60  34.65   \n",
       "2  2022  24.72  39.065  17.45  55.42  12.07  43.8  21.23   8.03  44.52  37.42   \n",
       "3  2023  30.52  36.000  11.90  60.20  15.70  32.5  24.35   4.10  35.50  23.40   \n",
       "\n",
       "     어진동    종촌동    한솔동   해밀동      가람동_매출평균      고운동_매출평균      나성동_매출평균  \\\n",
       "0  26.00  17.70  30.10  32.5  76459.163462  14306.864377  19036.510269   \n",
       "1  17.35  22.00  59.55  32.5  76459.163462  14306.864377  19036.510269   \n",
       "2  24.50  13.49  56.25  32.5  76459.163462  14306.864377  19036.510269   \n",
       "3  23.40  12.00  30.10  32.5  76459.163462  14306.864377  19036.510269   \n",
       "\n",
       "   누리동_매출평균  다솜동_매출평균      다정동_매출평균     대평동_매출평균      도담동_매출평균      반곡동_매출평균  \\\n",
       "0    2194.5       0.0  15080.005117  16351.26902  16470.095529  17379.435062   \n",
       "1    2194.5       0.0  15080.005117  16351.26902  16470.095529  17379.435062   \n",
       "2    2194.5       0.0  15080.005117  16351.26902  16470.095529  17379.435062   \n",
       "3    2194.5       0.0  15080.005117  16351.26902  16470.095529  17379.435062   \n",
       "\n",
       "       보람동_매출평균      산울동_매출평균      새롬동_매출평균      세종동_매출평균      소담동_매출평균  \\\n",
       "0  13878.557046  49908.208333  19766.597693  13646.248029  14276.263375   \n",
       "1  13878.557046  49908.208333  19766.597693  13646.248029  14276.263375   \n",
       "2  13878.557046  49908.208333  19766.597693  13646.248029  14276.263375   \n",
       "3  13878.557046  49908.208333  19766.597693  13646.248029  14276.263375   \n",
       "\n",
       "       아름동_매출평균     어진동_매출평균      종촌동_매출평균      집현동_매출평균      한별동_매출평균  \\\n",
       "0  19005.639387  16684.78238  16295.022457  11095.427663  11159.583333   \n",
       "1  19005.639387  16684.78238  16295.022457  11095.427663  11159.583333   \n",
       "2  19005.639387  16684.78238  16295.022457  11095.427663  11159.583333   \n",
       "3  19005.639387  16684.78238  16295.022457  11095.427663  11159.583333   \n",
       "\n",
       "       한솔동_매출평균      합강동_매출평균      해밀동_매출평균  \n",
       "0  16725.848533  29163.666667  17345.676514  \n",
       "1  16725.848533  29163.666667  17345.676514  \n",
       "2  16725.848533  29163.666667  17345.676514  \n",
       "3  16725.848533  29163.666667  17345.676514  "
      ]
     },
     "execution_count": 172,
     "metadata": {},
     "output_type": "execute_result"
    }
   ],
   "source": [
    "# Flatten the empty_rate_df to merge with sales_mean\n",
    "flattened_empty_rate_df = empty_rate_df.melt(id_vars=['Year'], var_name='ADM_NM', value_name='공실률')\n",
    "\n",
    "# Merge with sales_mean\n",
    "merged_sales_mean_df = pd.merge(flattened_empty_rate_df, sales_mean, on='ADM_NM', how='left')\n",
    "\n",
    "# Reshape data back to wide format\n",
    "merged_sales_mean_df = merged_sales_mean_df.pivot_table(index='Year', columns='ADM_NM', values='공실률').reset_index()\n",
    "\n",
    "# Adding the sales mean data as additional columns\n",
    "for index, row in sales_mean.iterrows():\n",
    "    merged_sales_mean_df[row['ADM_NM'] + '_매출평균'] = row['EST_SALES']\n",
    "\n",
    "merged_sales_mean_df.fillna(0, inplace=True)  # Fill NaN if any\n",
    "merged_sales_mean_df = pd.DataFrame(merged_sales_mean_df.to_dict())\n",
    "merged_sales_mean_df"
   ]
  },
  {
   "cell_type": "code",
   "execution_count": 171,
   "metadata": {},
   "outputs": [
    {
     "data": {
      "text/html": [
       "<div>\n",
       "<style scoped>\n",
       "    .dataframe tbody tr th:only-of-type {\n",
       "        vertical-align: middle;\n",
       "    }\n",
       "\n",
       "    .dataframe tbody tr th {\n",
       "        vertical-align: top;\n",
       "    }\n",
       "\n",
       "    .dataframe thead th {\n",
       "        text-align: right;\n",
       "    }\n",
       "</style>\n",
       "<table border=\"1\" class=\"dataframe\">\n",
       "  <thead>\n",
       "    <tr style=\"text-align: right;\">\n",
       "      <th></th>\n",
       "      <th>Year</th>\n",
       "      <th>고운동</th>\n",
       "      <th>나성동</th>\n",
       "      <th>다정동</th>\n",
       "      <th>대평동</th>\n",
       "      <th>도담동</th>\n",
       "      <th>반곡동</th>\n",
       "      <th>보람동</th>\n",
       "      <th>새롬동</th>\n",
       "      <th>소담동</th>\n",
       "      <th>아름동</th>\n",
       "      <th>어진동</th>\n",
       "      <th>종촌동</th>\n",
       "      <th>한솔동</th>\n",
       "      <th>해밀동</th>\n",
       "      <th>가람동_총매출</th>\n",
       "      <th>고운동_총매출</th>\n",
       "      <th>나성동_총매출</th>\n",
       "      <th>누리동_총매출</th>\n",
       "      <th>다솜동_총매출</th>\n",
       "      <th>다정동_총매출</th>\n",
       "      <th>대평동_총매출</th>\n",
       "      <th>도담동_총매출</th>\n",
       "      <th>반곡동_총매출</th>\n",
       "      <th>보람동_총매출</th>\n",
       "      <th>산울동_총매출</th>\n",
       "      <th>새롬동_총매출</th>\n",
       "      <th>세종동_총매출</th>\n",
       "      <th>소담동_총매출</th>\n",
       "      <th>아름동_총매출</th>\n",
       "      <th>어진동_총매출</th>\n",
       "      <th>종촌동_총매출</th>\n",
       "      <th>집현동_총매출</th>\n",
       "      <th>한별동_총매출</th>\n",
       "      <th>한솔동_총매출</th>\n",
       "      <th>합강동_총매출</th>\n",
       "      <th>해밀동_총매출</th>\n",
       "    </tr>\n",
       "  </thead>\n",
       "  <tbody>\n",
       "    <tr>\n",
       "      <th>0</th>\n",
       "      <td>2020</td>\n",
       "      <td>38.85</td>\n",
       "      <td>42.130</td>\n",
       "      <td>40.70</td>\n",
       "      <td>49.30</td>\n",
       "      <td>21.70</td>\n",
       "      <td>55.1</td>\n",
       "      <td>61.35</td>\n",
       "      <td>13.20</td>\n",
       "      <td>55.10</td>\n",
       "      <td>45.45</td>\n",
       "      <td>26.00</td>\n",
       "      <td>17.70</td>\n",
       "      <td>30.10</td>\n",
       "      <td>32.5</td>\n",
       "      <td>7951753.0</td>\n",
       "      <td>82493380.0</td>\n",
       "      <td>184444748.0</td>\n",
       "      <td>13167.0</td>\n",
       "      <td>0.0</td>\n",
       "      <td>53051458.0</td>\n",
       "      <td>41695736.0</td>\n",
       "      <td>83618675.0</td>\n",
       "      <td>37869789.0</td>\n",
       "      <td>81744701.0</td>\n",
       "      <td>10780173.0</td>\n",
       "      <td>118263554.0</td>\n",
       "      <td>19036516.0</td>\n",
       "      <td>58703995.0</td>\n",
       "      <td>86855772.0</td>\n",
       "      <td>66472173.0</td>\n",
       "      <td>61676660.0</td>\n",
       "      <td>6979024.0</td>\n",
       "      <td>133915.0</td>\n",
       "      <td>52452261.0</td>\n",
       "      <td>174982.0</td>\n",
       "      <td>11743023.0</td>\n",
       "    </tr>\n",
       "    <tr>\n",
       "      <th>1</th>\n",
       "      <td>2021</td>\n",
       "      <td>25.90</td>\n",
       "      <td>39.065</td>\n",
       "      <td>44.85</td>\n",
       "      <td>66.30</td>\n",
       "      <td>12.75</td>\n",
       "      <td>43.8</td>\n",
       "      <td>50.80</td>\n",
       "      <td>1.35</td>\n",
       "      <td>32.60</td>\n",
       "      <td>34.65</td>\n",
       "      <td>17.35</td>\n",
       "      <td>22.00</td>\n",
       "      <td>59.55</td>\n",
       "      <td>32.5</td>\n",
       "      <td>7951753.0</td>\n",
       "      <td>82493380.0</td>\n",
       "      <td>184444748.0</td>\n",
       "      <td>13167.0</td>\n",
       "      <td>0.0</td>\n",
       "      <td>53051458.0</td>\n",
       "      <td>41695736.0</td>\n",
       "      <td>83618675.0</td>\n",
       "      <td>37869789.0</td>\n",
       "      <td>81744701.0</td>\n",
       "      <td>10780173.0</td>\n",
       "      <td>118263554.0</td>\n",
       "      <td>19036516.0</td>\n",
       "      <td>58703995.0</td>\n",
       "      <td>86855772.0</td>\n",
       "      <td>66472173.0</td>\n",
       "      <td>61676660.0</td>\n",
       "      <td>6979024.0</td>\n",
       "      <td>133915.0</td>\n",
       "      <td>52452261.0</td>\n",
       "      <td>174982.0</td>\n",
       "      <td>11743023.0</td>\n",
       "    </tr>\n",
       "    <tr>\n",
       "      <th>2</th>\n",
       "      <td>2022</td>\n",
       "      <td>24.72</td>\n",
       "      <td>39.065</td>\n",
       "      <td>17.45</td>\n",
       "      <td>55.42</td>\n",
       "      <td>12.07</td>\n",
       "      <td>43.8</td>\n",
       "      <td>21.23</td>\n",
       "      <td>8.03</td>\n",
       "      <td>44.52</td>\n",
       "      <td>37.42</td>\n",
       "      <td>24.50</td>\n",
       "      <td>13.49</td>\n",
       "      <td>56.25</td>\n",
       "      <td>32.5</td>\n",
       "      <td>7951753.0</td>\n",
       "      <td>82493380.0</td>\n",
       "      <td>184444748.0</td>\n",
       "      <td>13167.0</td>\n",
       "      <td>0.0</td>\n",
       "      <td>53051458.0</td>\n",
       "      <td>41695736.0</td>\n",
       "      <td>83618675.0</td>\n",
       "      <td>37869789.0</td>\n",
       "      <td>81744701.0</td>\n",
       "      <td>10780173.0</td>\n",
       "      <td>118263554.0</td>\n",
       "      <td>19036516.0</td>\n",
       "      <td>58703995.0</td>\n",
       "      <td>86855772.0</td>\n",
       "      <td>66472173.0</td>\n",
       "      <td>61676660.0</td>\n",
       "      <td>6979024.0</td>\n",
       "      <td>133915.0</td>\n",
       "      <td>52452261.0</td>\n",
       "      <td>174982.0</td>\n",
       "      <td>11743023.0</td>\n",
       "    </tr>\n",
       "    <tr>\n",
       "      <th>3</th>\n",
       "      <td>2023</td>\n",
       "      <td>30.52</td>\n",
       "      <td>36.000</td>\n",
       "      <td>11.90</td>\n",
       "      <td>60.20</td>\n",
       "      <td>15.70</td>\n",
       "      <td>32.5</td>\n",
       "      <td>24.35</td>\n",
       "      <td>4.10</td>\n",
       "      <td>35.50</td>\n",
       "      <td>23.40</td>\n",
       "      <td>23.40</td>\n",
       "      <td>12.00</td>\n",
       "      <td>30.10</td>\n",
       "      <td>32.5</td>\n",
       "      <td>7951753.0</td>\n",
       "      <td>82493380.0</td>\n",
       "      <td>184444748.0</td>\n",
       "      <td>13167.0</td>\n",
       "      <td>0.0</td>\n",
       "      <td>53051458.0</td>\n",
       "      <td>41695736.0</td>\n",
       "      <td>83618675.0</td>\n",
       "      <td>37869789.0</td>\n",
       "      <td>81744701.0</td>\n",
       "      <td>10780173.0</td>\n",
       "      <td>118263554.0</td>\n",
       "      <td>19036516.0</td>\n",
       "      <td>58703995.0</td>\n",
       "      <td>86855772.0</td>\n",
       "      <td>66472173.0</td>\n",
       "      <td>61676660.0</td>\n",
       "      <td>6979024.0</td>\n",
       "      <td>133915.0</td>\n",
       "      <td>52452261.0</td>\n",
       "      <td>174982.0</td>\n",
       "      <td>11743023.0</td>\n",
       "    </tr>\n",
       "  </tbody>\n",
       "</table>\n",
       "</div>"
      ],
      "text/plain": [
       "   Year    고운동     나성동    다정동    대평동    도담동   반곡동    보람동    새롬동    소담동    아름동  \\\n",
       "0  2020  38.85  42.130  40.70  49.30  21.70  55.1  61.35  13.20  55.10  45.45   \n",
       "1  2021  25.90  39.065  44.85  66.30  12.75  43.8  50.80   1.35  32.60  34.65   \n",
       "2  2022  24.72  39.065  17.45  55.42  12.07  43.8  21.23   8.03  44.52  37.42   \n",
       "3  2023  30.52  36.000  11.90  60.20  15.70  32.5  24.35   4.10  35.50  23.40   \n",
       "\n",
       "     어진동    종촌동    한솔동   해밀동    가람동_총매출     고운동_총매출      나성동_총매출  누리동_총매출  \\\n",
       "0  26.00  17.70  30.10  32.5  7951753.0  82493380.0  184444748.0  13167.0   \n",
       "1  17.35  22.00  59.55  32.5  7951753.0  82493380.0  184444748.0  13167.0   \n",
       "2  24.50  13.49  56.25  32.5  7951753.0  82493380.0  184444748.0  13167.0   \n",
       "3  23.40  12.00  30.10  32.5  7951753.0  82493380.0  184444748.0  13167.0   \n",
       "\n",
       "   다솜동_총매출     다정동_총매출     대평동_총매출     도담동_총매출     반곡동_총매출     보람동_총매출  \\\n",
       "0      0.0  53051458.0  41695736.0  83618675.0  37869789.0  81744701.0   \n",
       "1      0.0  53051458.0  41695736.0  83618675.0  37869789.0  81744701.0   \n",
       "2      0.0  53051458.0  41695736.0  83618675.0  37869789.0  81744701.0   \n",
       "3      0.0  53051458.0  41695736.0  83618675.0  37869789.0  81744701.0   \n",
       "\n",
       "      산울동_총매출      새롬동_총매출     세종동_총매출     소담동_총매출     아름동_총매출     어진동_총매출  \\\n",
       "0  10780173.0  118263554.0  19036516.0  58703995.0  86855772.0  66472173.0   \n",
       "1  10780173.0  118263554.0  19036516.0  58703995.0  86855772.0  66472173.0   \n",
       "2  10780173.0  118263554.0  19036516.0  58703995.0  86855772.0  66472173.0   \n",
       "3  10780173.0  118263554.0  19036516.0  58703995.0  86855772.0  66472173.0   \n",
       "\n",
       "      종촌동_총매출    집현동_총매출   한별동_총매출     한솔동_총매출   합강동_총매출     해밀동_총매출  \n",
       "0  61676660.0  6979024.0  133915.0  52452261.0  174982.0  11743023.0  \n",
       "1  61676660.0  6979024.0  133915.0  52452261.0  174982.0  11743023.0  \n",
       "2  61676660.0  6979024.0  133915.0  52452261.0  174982.0  11743023.0  \n",
       "3  61676660.0  6979024.0  133915.0  52452261.0  174982.0  11743023.0  "
      ]
     },
     "execution_count": 171,
     "metadata": {},
     "output_type": "execute_result"
    }
   ],
   "source": [
    "# Flatten the empty_rate_df to merge with sales_sum\n",
    "flattened_empty_rate_df = empty_rate_df.melt(id_vars=['Year'], var_name='ADM_NM', value_name='공실률')\n",
    "\n",
    "# Merge with sales_sum\n",
    "merged_sales_mean_df = pd.merge(flattened_empty_rate_df, sales_sum, on='ADM_NM', how='left')\n",
    "\n",
    "# Reshape data back to wide format\n",
    "merged_sales_sum_df = merged_sales_mean_df.pivot_table(index='Year', columns='ADM_NM', values='공실률').reset_index()\n",
    "\n",
    "# Adding the sales sum data as additional columns\n",
    "for index, row in sales_sum.iterrows():\n",
    "    merged_sales_sum_df[row['ADM_NM'] + '_총매출'] = row['EST_SALES']\n",
    "\n",
    "merged_sales_sum_df.fillna(0, inplace=True)  # Fill NaN if any\n",
    "merged_sales_sum_df = pd.DataFrame(merged_sales_sum_df.to_dict())\n",
    "merged_sales_sum_df"
   ]
  },
  {
   "cell_type": "code",
   "execution_count": 193,
   "metadata": {},
   "outputs": [
    {
     "data": {
      "text/html": [
       "<div>\n",
       "<style scoped>\n",
       "    .dataframe tbody tr th:only-of-type {\n",
       "        vertical-align: middle;\n",
       "    }\n",
       "\n",
       "    .dataframe tbody tr th {\n",
       "        vertical-align: top;\n",
       "    }\n",
       "\n",
       "    .dataframe thead th {\n",
       "        text-align: right;\n",
       "    }\n",
       "</style>\n",
       "<table border=\"1\" class=\"dataframe\">\n",
       "  <thead>\n",
       "    <tr style=\"text-align: right;\">\n",
       "      <th></th>\n",
       "      <th>Year</th>\n",
       "      <th>고운동_x</th>\n",
       "      <th>아름동_x</th>\n",
       "      <th>종촌동_x</th>\n",
       "      <th>도담동_x</th>\n",
       "      <th>어진동_x</th>\n",
       "      <th>다정동_x</th>\n",
       "      <th>새롬동_x</th>\n",
       "      <th>한솔동_x</th>\n",
       "      <th>대평동_x</th>\n",
       "      <th>보람동_x</th>\n",
       "      <th>소담동_x</th>\n",
       "      <th>나성동_x</th>\n",
       "      <th>반곡동_x</th>\n",
       "      <th>해밀동_x</th>\n",
       "      <th>고운동_유동인구</th>\n",
       "      <th>나성동_유동인구</th>\n",
       "      <th>다정동_유동인구</th>\n",
       "      <th>대평동_유동인구</th>\n",
       "      <th>도담동_유동인구</th>\n",
       "      <th>반곡동_유동인구</th>\n",
       "      <th>보람동_유동인구</th>\n",
       "      <th>새롬동_유동인구</th>\n",
       "      <th>소담동_유동인구</th>\n",
       "      <th>아름동_유동인구</th>\n",
       "      <th>어진동_유동인구</th>\n",
       "      <th>종촌동_유동인구</th>\n",
       "      <th>한솔동_유동인구</th>\n",
       "      <th>해밀동_유동인구</th>\n",
       "    </tr>\n",
       "  </thead>\n",
       "  <tbody>\n",
       "    <tr>\n",
       "      <th>2</th>\n",
       "      <td>2020</td>\n",
       "      <td>38.85</td>\n",
       "      <td>45.45</td>\n",
       "      <td>17.70</td>\n",
       "      <td>21.70</td>\n",
       "      <td>26.00</td>\n",
       "      <td>40.70</td>\n",
       "      <td>13.20</td>\n",
       "      <td>30.10</td>\n",
       "      <td>49.30</td>\n",
       "      <td>61.35</td>\n",
       "      <td>55.10</td>\n",
       "      <td>42.130</td>\n",
       "      <td>55.1</td>\n",
       "      <td>32.5</td>\n",
       "      <td>23474</td>\n",
       "      <td>5175</td>\n",
       "      <td>19325</td>\n",
       "      <td>7933</td>\n",
       "      <td>18915</td>\n",
       "      <td>9134</td>\n",
       "      <td>15837</td>\n",
       "      <td>19813</td>\n",
       "      <td>13759</td>\n",
       "      <td>17987</td>\n",
       "      <td>6291</td>\n",
       "      <td>20567</td>\n",
       "      <td>14220</td>\n",
       "      <td>2478</td>\n",
       "    </tr>\n",
       "    <tr>\n",
       "      <th>3</th>\n",
       "      <td>2021</td>\n",
       "      <td>25.90</td>\n",
       "      <td>34.65</td>\n",
       "      <td>22.00</td>\n",
       "      <td>12.75</td>\n",
       "      <td>17.35</td>\n",
       "      <td>44.85</td>\n",
       "      <td>1.35</td>\n",
       "      <td>59.55</td>\n",
       "      <td>66.30</td>\n",
       "      <td>50.80</td>\n",
       "      <td>32.60</td>\n",
       "      <td>39.065</td>\n",
       "      <td>43.8</td>\n",
       "      <td>32.5</td>\n",
       "      <td>23384</td>\n",
       "      <td>5966</td>\n",
       "      <td>21357</td>\n",
       "      <td>8263</td>\n",
       "      <td>18883</td>\n",
       "      <td>9052</td>\n",
       "      <td>15758</td>\n",
       "      <td>19606</td>\n",
       "      <td>15099</td>\n",
       "      <td>18055</td>\n",
       "      <td>6539</td>\n",
       "      <td>20540</td>\n",
       "      <td>14038</td>\n",
       "      <td>5526</td>\n",
       "    </tr>\n",
       "    <tr>\n",
       "      <th>4</th>\n",
       "      <td>2022</td>\n",
       "      <td>24.72</td>\n",
       "      <td>37.42</td>\n",
       "      <td>13.49</td>\n",
       "      <td>12.07</td>\n",
       "      <td>24.50</td>\n",
       "      <td>17.45</td>\n",
       "      <td>8.03</td>\n",
       "      <td>56.25</td>\n",
       "      <td>55.42</td>\n",
       "      <td>21.23</td>\n",
       "      <td>44.52</td>\n",
       "      <td>39.065</td>\n",
       "      <td>43.8</td>\n",
       "      <td>32.5</td>\n",
       "      <td>23726</td>\n",
       "      <td>5980</td>\n",
       "      <td>21301</td>\n",
       "      <td>8119</td>\n",
       "      <td>18901</td>\n",
       "      <td>9007</td>\n",
       "      <td>15581</td>\n",
       "      <td>19565</td>\n",
       "      <td>14858</td>\n",
       "      <td>18204</td>\n",
       "      <td>6455</td>\n",
       "      <td>20464</td>\n",
       "      <td>13762</td>\n",
       "      <td>5548</td>\n",
       "    </tr>\n",
       "    <tr>\n",
       "      <th>5</th>\n",
       "      <td>2023</td>\n",
       "      <td>30.52</td>\n",
       "      <td>23.40</td>\n",
       "      <td>12.00</td>\n",
       "      <td>15.70</td>\n",
       "      <td>23.40</td>\n",
       "      <td>11.90</td>\n",
       "      <td>4.10</td>\n",
       "      <td>30.10</td>\n",
       "      <td>60.20</td>\n",
       "      <td>24.35</td>\n",
       "      <td>35.50</td>\n",
       "      <td>36.000</td>\n",
       "      <td>32.5</td>\n",
       "      <td>32.5</td>\n",
       "      <td>23869</td>\n",
       "      <td>5753</td>\n",
       "      <td>21556</td>\n",
       "      <td>8230</td>\n",
       "      <td>18921</td>\n",
       "      <td>9224</td>\n",
       "      <td>15798</td>\n",
       "      <td>19884</td>\n",
       "      <td>15189</td>\n",
       "      <td>18581</td>\n",
       "      <td>6405</td>\n",
       "      <td>20572</td>\n",
       "      <td>13976</td>\n",
       "      <td>5580</td>\n",
       "    </tr>\n",
       "  </tbody>\n",
       "</table>\n",
       "</div>"
      ],
      "text/plain": [
       "   Year  고운동_x  아름동_x  종촌동_x  도담동_x  어진동_x  다정동_x  새롬동_x  한솔동_x  대평동_x  보람동_x  \\\n",
       "2  2020  38.85  45.45  17.70  21.70  26.00  40.70  13.20  30.10  49.30  61.35   \n",
       "3  2021  25.90  34.65  22.00  12.75  17.35  44.85   1.35  59.55  66.30  50.80   \n",
       "4  2022  24.72  37.42  13.49  12.07  24.50  17.45   8.03  56.25  55.42  21.23   \n",
       "5  2023  30.52  23.40  12.00  15.70  23.40  11.90   4.10  30.10  60.20  24.35   \n",
       "\n",
       "   소담동_x   나성동_x  반곡동_x  해밀동_x  고운동_유동인구  나성동_유동인구  다정동_유동인구  대평동_유동인구  \\\n",
       "2  55.10  42.130   55.1   32.5     23474      5175     19325      7933   \n",
       "3  32.60  39.065   43.8   32.5     23384      5966     21357      8263   \n",
       "4  44.52  39.065   43.8   32.5     23726      5980     21301      8119   \n",
       "5  35.50  36.000   32.5   32.5     23869      5753     21556      8230   \n",
       "\n",
       "   도담동_유동인구  반곡동_유동인구  보람동_유동인구  새롬동_유동인구  소담동_유동인구  아름동_유동인구  어진동_유동인구  \\\n",
       "2     18915      9134     15837     19813     13759     17987      6291   \n",
       "3     18883      9052     15758     19606     15099     18055      6539   \n",
       "4     18901      9007     15581     19565     14858     18204      6455   \n",
       "5     18921      9224     15798     19884     15189     18581      6405   \n",
       "\n",
       "   종촌동_유동인구  한솔동_유동인구  해밀동_유동인구  \n",
       "2     20567     14220      2478  \n",
       "3     20540     14038      5526  \n",
       "4     20464     13762      5548  \n",
       "5     20572     13976      5580  "
      ]
     },
     "execution_count": 193,
     "metadata": {},
     "output_type": "execute_result"
    }
   ],
   "source": [
    "merged_fpop_df"
   ]
  },
  {
   "cell_type": "code",
   "execution_count": 194,
   "metadata": {},
   "outputs": [
    {
     "data": {
      "text/html": [
       "<div>\n",
       "<style scoped>\n",
       "    .dataframe tbody tr th:only-of-type {\n",
       "        vertical-align: middle;\n",
       "    }\n",
       "\n",
       "    .dataframe tbody tr th {\n",
       "        vertical-align: top;\n",
       "    }\n",
       "\n",
       "    .dataframe thead th {\n",
       "        text-align: right;\n",
       "    }\n",
       "</style>\n",
       "<table border=\"1\" class=\"dataframe\">\n",
       "  <thead>\n",
       "    <tr style=\"text-align: right;\">\n",
       "      <th></th>\n",
       "      <th>Year</th>\n",
       "      <th>고운동_x</th>\n",
       "      <th>아름동_x</th>\n",
       "      <th>종촌동_x</th>\n",
       "      <th>도담동_x</th>\n",
       "      <th>어진동_x</th>\n",
       "      <th>다정동_x</th>\n",
       "      <th>새롬동_x</th>\n",
       "      <th>한솔동_x</th>\n",
       "      <th>대평동_x</th>\n",
       "      <th>보람동_x</th>\n",
       "      <th>소담동_x</th>\n",
       "      <th>나성동_x</th>\n",
       "      <th>반곡동_x</th>\n",
       "      <th>해밀동_x</th>\n",
       "      <th>고운동_폐업률</th>\n",
       "      <th>아름동_폐업률</th>\n",
       "      <th>종촌동_폐업률</th>\n",
       "      <th>도담동_폐업률</th>\n",
       "      <th>어진동_폐업률</th>\n",
       "      <th>다정동_폐업률</th>\n",
       "      <th>새롬동_폐업률</th>\n",
       "      <th>한솔동_폐업률</th>\n",
       "      <th>대평동_폐업률</th>\n",
       "      <th>보람동_폐업률</th>\n",
       "      <th>소담동_폐업률</th>\n",
       "      <th>나성동_폐업률</th>\n",
       "      <th>반곡동_폐업률</th>\n",
       "      <th>해밀동_폐업률</th>\n",
       "    </tr>\n",
       "  </thead>\n",
       "  <tbody>\n",
       "    <tr>\n",
       "      <th>0</th>\n",
       "      <td>2020</td>\n",
       "      <td>6.571429</td>\n",
       "      <td>6.519559</td>\n",
       "      <td>8.105263</td>\n",
       "      <td>9.036743</td>\n",
       "      <td>5.385330</td>\n",
       "      <td>5.619413</td>\n",
       "      <td>7.354555</td>\n",
       "      <td>7.155635</td>\n",
       "      <td>9.852217</td>\n",
       "      <td>6.342183</td>\n",
       "      <td>4.489338</td>\n",
       "      <td>5.471956</td>\n",
       "      <td>2.034429</td>\n",
       "      <td>0.549451</td>\n",
       "      <td>38.85</td>\n",
       "      <td>45.45</td>\n",
       "      <td>17.70</td>\n",
       "      <td>21.70</td>\n",
       "      <td>26.00</td>\n",
       "      <td>40.70</td>\n",
       "      <td>13.20</td>\n",
       "      <td>30.10</td>\n",
       "      <td>49.30</td>\n",
       "      <td>61.35</td>\n",
       "      <td>55.10</td>\n",
       "      <td>42.130</td>\n",
       "      <td>55.1</td>\n",
       "      <td>32.5</td>\n",
       "    </tr>\n",
       "    <tr>\n",
       "      <th>1</th>\n",
       "      <td>2021</td>\n",
       "      <td>7.822410</td>\n",
       "      <td>7.722772</td>\n",
       "      <td>9.907121</td>\n",
       "      <td>8.673978</td>\n",
       "      <td>4.632663</td>\n",
       "      <td>7.393484</td>\n",
       "      <td>8.559047</td>\n",
       "      <td>9.106830</td>\n",
       "      <td>9.703947</td>\n",
       "      <td>6.617647</td>\n",
       "      <td>7.500000</td>\n",
       "      <td>7.496653</td>\n",
       "      <td>3.692308</td>\n",
       "      <td>2.688172</td>\n",
       "      <td>25.90</td>\n",
       "      <td>34.65</td>\n",
       "      <td>22.00</td>\n",
       "      <td>12.75</td>\n",
       "      <td>17.35</td>\n",
       "      <td>44.85</td>\n",
       "      <td>1.35</td>\n",
       "      <td>59.55</td>\n",
       "      <td>66.30</td>\n",
       "      <td>50.80</td>\n",
       "      <td>32.60</td>\n",
       "      <td>39.065</td>\n",
       "      <td>43.8</td>\n",
       "      <td>32.5</td>\n",
       "    </tr>\n",
       "    <tr>\n",
       "      <th>2</th>\n",
       "      <td>2022</td>\n",
       "      <td>8.403361</td>\n",
       "      <td>7.631318</td>\n",
       "      <td>7.619048</td>\n",
       "      <td>7.568113</td>\n",
       "      <td>6.039650</td>\n",
       "      <td>11.177885</td>\n",
       "      <td>11.064278</td>\n",
       "      <td>6.486486</td>\n",
       "      <td>12.160000</td>\n",
       "      <td>7.636364</td>\n",
       "      <td>6.380638</td>\n",
       "      <td>12.457770</td>\n",
       "      <td>5.722892</td>\n",
       "      <td>5.235602</td>\n",
       "      <td>24.72</td>\n",
       "      <td>37.42</td>\n",
       "      <td>13.49</td>\n",
       "      <td>12.07</td>\n",
       "      <td>24.50</td>\n",
       "      <td>17.45</td>\n",
       "      <td>8.03</td>\n",
       "      <td>56.25</td>\n",
       "      <td>55.42</td>\n",
       "      <td>21.23</td>\n",
       "      <td>44.52</td>\n",
       "      <td>39.065</td>\n",
       "      <td>43.8</td>\n",
       "      <td>32.5</td>\n",
       "    </tr>\n",
       "    <tr>\n",
       "      <th>3</th>\n",
       "      <td>2023</td>\n",
       "      <td>10.594668</td>\n",
       "      <td>9.426628</td>\n",
       "      <td>12.525050</td>\n",
       "      <td>10.981535</td>\n",
       "      <td>11.120802</td>\n",
       "      <td>11.708483</td>\n",
       "      <td>9.925293</td>\n",
       "      <td>8.626761</td>\n",
       "      <td>10.876623</td>\n",
       "      <td>8.829864</td>\n",
       "      <td>9.564293</td>\n",
       "      <td>10.530859</td>\n",
       "      <td>6.427504</td>\n",
       "      <td>7.653061</td>\n",
       "      <td>30.52</td>\n",
       "      <td>23.40</td>\n",
       "      <td>12.00</td>\n",
       "      <td>15.70</td>\n",
       "      <td>23.40</td>\n",
       "      <td>11.90</td>\n",
       "      <td>4.10</td>\n",
       "      <td>30.10</td>\n",
       "      <td>60.20</td>\n",
       "      <td>24.35</td>\n",
       "      <td>35.50</td>\n",
       "      <td>36.000</td>\n",
       "      <td>32.5</td>\n",
       "      <td>32.5</td>\n",
       "    </tr>\n",
       "  </tbody>\n",
       "</table>\n",
       "</div>"
      ],
      "text/plain": [
       "   Year      고운동_x     아름동_x      종촌동_x      도담동_x      어진동_x      다정동_x  \\\n",
       "0  2020   6.571429  6.519559   8.105263   9.036743   5.385330   5.619413   \n",
       "1  2021   7.822410  7.722772   9.907121   8.673978   4.632663   7.393484   \n",
       "2  2022   8.403361  7.631318   7.619048   7.568113   6.039650  11.177885   \n",
       "3  2023  10.594668  9.426628  12.525050  10.981535  11.120802  11.708483   \n",
       "\n",
       "       새롬동_x     한솔동_x      대평동_x     보람동_x     소담동_x      나성동_x     반곡동_x  \\\n",
       "0   7.354555  7.155635   9.852217  6.342183  4.489338   5.471956  2.034429   \n",
       "1   8.559047  9.106830   9.703947  6.617647  7.500000   7.496653  3.692308   \n",
       "2  11.064278  6.486486  12.160000  7.636364  6.380638  12.457770  5.722892   \n",
       "3   9.925293  8.626761  10.876623  8.829864  9.564293  10.530859  6.427504   \n",
       "\n",
       "      해밀동_x  고운동_폐업률  아름동_폐업률  종촌동_폐업률  도담동_폐업률  어진동_폐업률  다정동_폐업률  새롬동_폐업률  \\\n",
       "0  0.549451    38.85    45.45    17.70    21.70    26.00    40.70    13.20   \n",
       "1  2.688172    25.90    34.65    22.00    12.75    17.35    44.85     1.35   \n",
       "2  5.235602    24.72    37.42    13.49    12.07    24.50    17.45     8.03   \n",
       "3  7.653061    30.52    23.40    12.00    15.70    23.40    11.90     4.10   \n",
       "\n",
       "   한솔동_폐업률  대평동_폐업률  보람동_폐업률  소담동_폐업률  나성동_폐업률  반곡동_폐업률  해밀동_폐업률  \n",
       "0    30.10    49.30    61.35    55.10   42.130     55.1     32.5  \n",
       "1    59.55    66.30    50.80    32.60   39.065     43.8     32.5  \n",
       "2    56.25    55.42    21.23    44.52   39.065     43.8     32.5  \n",
       "3    30.10    60.20    24.35    35.50   36.000     32.5     32.5  "
      ]
     },
     "execution_count": 194,
     "metadata": {},
     "output_type": "execute_result"
    }
   ],
   "source": [
    "merged_closure_rates_df"
   ]
  },
  {
   "cell_type": "code",
   "execution_count": 196,
   "metadata": {},
   "outputs": [
    {
     "data": {
      "text/html": [
       "<div>\n",
       "<style scoped>\n",
       "    .dataframe tbody tr th:only-of-type {\n",
       "        vertical-align: middle;\n",
       "    }\n",
       "\n",
       "    .dataframe tbody tr th {\n",
       "        vertical-align: top;\n",
       "    }\n",
       "\n",
       "    .dataframe thead th {\n",
       "        text-align: right;\n",
       "    }\n",
       "</style>\n",
       "<table border=\"1\" class=\"dataframe\">\n",
       "  <thead>\n",
       "    <tr style=\"text-align: right;\">\n",
       "      <th></th>\n",
       "      <th>Year</th>\n",
       "      <th>고운동</th>\n",
       "      <th>나성동</th>\n",
       "      <th>다정동</th>\n",
       "      <th>대평동</th>\n",
       "      <th>도담동</th>\n",
       "      <th>반곡동</th>\n",
       "      <th>보람동</th>\n",
       "      <th>새롬동</th>\n",
       "      <th>소담동</th>\n",
       "      <th>아름동</th>\n",
       "      <th>어진동</th>\n",
       "      <th>종촌동</th>\n",
       "      <th>한솔동</th>\n",
       "      <th>해밀동</th>\n",
       "      <th>가람동_총매출</th>\n",
       "      <th>고운동_총매출</th>\n",
       "      <th>나성동_총매출</th>\n",
       "      <th>누리동_총매출</th>\n",
       "      <th>다솜동_총매출</th>\n",
       "      <th>다정동_총매출</th>\n",
       "      <th>대평동_총매출</th>\n",
       "      <th>도담동_총매출</th>\n",
       "      <th>반곡동_총매출</th>\n",
       "      <th>보람동_총매출</th>\n",
       "      <th>산울동_총매출</th>\n",
       "      <th>새롬동_총매출</th>\n",
       "      <th>세종동_총매출</th>\n",
       "      <th>소담동_총매출</th>\n",
       "      <th>아름동_총매출</th>\n",
       "      <th>어진동_총매출</th>\n",
       "      <th>종촌동_총매출</th>\n",
       "      <th>집현동_총매출</th>\n",
       "      <th>한별동_총매출</th>\n",
       "      <th>한솔동_총매출</th>\n",
       "      <th>합강동_총매출</th>\n",
       "      <th>해밀동_총매출</th>\n",
       "    </tr>\n",
       "  </thead>\n",
       "  <tbody>\n",
       "    <tr>\n",
       "      <th>0</th>\n",
       "      <td>2020</td>\n",
       "      <td>38.85</td>\n",
       "      <td>42.130</td>\n",
       "      <td>40.70</td>\n",
       "      <td>49.30</td>\n",
       "      <td>21.70</td>\n",
       "      <td>55.1</td>\n",
       "      <td>61.35</td>\n",
       "      <td>13.20</td>\n",
       "      <td>55.10</td>\n",
       "      <td>45.45</td>\n",
       "      <td>26.00</td>\n",
       "      <td>17.70</td>\n",
       "      <td>30.10</td>\n",
       "      <td>32.5</td>\n",
       "      <td>7951753.0</td>\n",
       "      <td>82493380.0</td>\n",
       "      <td>184444748.0</td>\n",
       "      <td>13167.0</td>\n",
       "      <td>0.0</td>\n",
       "      <td>53051458.0</td>\n",
       "      <td>41695736.0</td>\n",
       "      <td>83618675.0</td>\n",
       "      <td>37869789.0</td>\n",
       "      <td>81744701.0</td>\n",
       "      <td>10780173.0</td>\n",
       "      <td>118263554.0</td>\n",
       "      <td>19036516.0</td>\n",
       "      <td>58703995.0</td>\n",
       "      <td>86855772.0</td>\n",
       "      <td>66472173.0</td>\n",
       "      <td>61676660.0</td>\n",
       "      <td>6979024.0</td>\n",
       "      <td>133915.0</td>\n",
       "      <td>52452261.0</td>\n",
       "      <td>174982.0</td>\n",
       "      <td>11743023.0</td>\n",
       "    </tr>\n",
       "    <tr>\n",
       "      <th>1</th>\n",
       "      <td>2021</td>\n",
       "      <td>25.90</td>\n",
       "      <td>39.065</td>\n",
       "      <td>44.85</td>\n",
       "      <td>66.30</td>\n",
       "      <td>12.75</td>\n",
       "      <td>43.8</td>\n",
       "      <td>50.80</td>\n",
       "      <td>1.35</td>\n",
       "      <td>32.60</td>\n",
       "      <td>34.65</td>\n",
       "      <td>17.35</td>\n",
       "      <td>22.00</td>\n",
       "      <td>59.55</td>\n",
       "      <td>32.5</td>\n",
       "      <td>7951753.0</td>\n",
       "      <td>82493380.0</td>\n",
       "      <td>184444748.0</td>\n",
       "      <td>13167.0</td>\n",
       "      <td>0.0</td>\n",
       "      <td>53051458.0</td>\n",
       "      <td>41695736.0</td>\n",
       "      <td>83618675.0</td>\n",
       "      <td>37869789.0</td>\n",
       "      <td>81744701.0</td>\n",
       "      <td>10780173.0</td>\n",
       "      <td>118263554.0</td>\n",
       "      <td>19036516.0</td>\n",
       "      <td>58703995.0</td>\n",
       "      <td>86855772.0</td>\n",
       "      <td>66472173.0</td>\n",
       "      <td>61676660.0</td>\n",
       "      <td>6979024.0</td>\n",
       "      <td>133915.0</td>\n",
       "      <td>52452261.0</td>\n",
       "      <td>174982.0</td>\n",
       "      <td>11743023.0</td>\n",
       "    </tr>\n",
       "    <tr>\n",
       "      <th>2</th>\n",
       "      <td>2022</td>\n",
       "      <td>24.72</td>\n",
       "      <td>39.065</td>\n",
       "      <td>17.45</td>\n",
       "      <td>55.42</td>\n",
       "      <td>12.07</td>\n",
       "      <td>43.8</td>\n",
       "      <td>21.23</td>\n",
       "      <td>8.03</td>\n",
       "      <td>44.52</td>\n",
       "      <td>37.42</td>\n",
       "      <td>24.50</td>\n",
       "      <td>13.49</td>\n",
       "      <td>56.25</td>\n",
       "      <td>32.5</td>\n",
       "      <td>7951753.0</td>\n",
       "      <td>82493380.0</td>\n",
       "      <td>184444748.0</td>\n",
       "      <td>13167.0</td>\n",
       "      <td>0.0</td>\n",
       "      <td>53051458.0</td>\n",
       "      <td>41695736.0</td>\n",
       "      <td>83618675.0</td>\n",
       "      <td>37869789.0</td>\n",
       "      <td>81744701.0</td>\n",
       "      <td>10780173.0</td>\n",
       "      <td>118263554.0</td>\n",
       "      <td>19036516.0</td>\n",
       "      <td>58703995.0</td>\n",
       "      <td>86855772.0</td>\n",
       "      <td>66472173.0</td>\n",
       "      <td>61676660.0</td>\n",
       "      <td>6979024.0</td>\n",
       "      <td>133915.0</td>\n",
       "      <td>52452261.0</td>\n",
       "      <td>174982.0</td>\n",
       "      <td>11743023.0</td>\n",
       "    </tr>\n",
       "    <tr>\n",
       "      <th>3</th>\n",
       "      <td>2023</td>\n",
       "      <td>30.52</td>\n",
       "      <td>36.000</td>\n",
       "      <td>11.90</td>\n",
       "      <td>60.20</td>\n",
       "      <td>15.70</td>\n",
       "      <td>32.5</td>\n",
       "      <td>24.35</td>\n",
       "      <td>4.10</td>\n",
       "      <td>35.50</td>\n",
       "      <td>23.40</td>\n",
       "      <td>23.40</td>\n",
       "      <td>12.00</td>\n",
       "      <td>30.10</td>\n",
       "      <td>32.5</td>\n",
       "      <td>7951753.0</td>\n",
       "      <td>82493380.0</td>\n",
       "      <td>184444748.0</td>\n",
       "      <td>13167.0</td>\n",
       "      <td>0.0</td>\n",
       "      <td>53051458.0</td>\n",
       "      <td>41695736.0</td>\n",
       "      <td>83618675.0</td>\n",
       "      <td>37869789.0</td>\n",
       "      <td>81744701.0</td>\n",
       "      <td>10780173.0</td>\n",
       "      <td>118263554.0</td>\n",
       "      <td>19036516.0</td>\n",
       "      <td>58703995.0</td>\n",
       "      <td>86855772.0</td>\n",
       "      <td>66472173.0</td>\n",
       "      <td>61676660.0</td>\n",
       "      <td>6979024.0</td>\n",
       "      <td>133915.0</td>\n",
       "      <td>52452261.0</td>\n",
       "      <td>174982.0</td>\n",
       "      <td>11743023.0</td>\n",
       "    </tr>\n",
       "  </tbody>\n",
       "</table>\n",
       "</div>"
      ],
      "text/plain": [
       "   Year    고운동     나성동    다정동    대평동    도담동   반곡동    보람동    새롬동    소담동    아름동  \\\n",
       "0  2020  38.85  42.130  40.70  49.30  21.70  55.1  61.35  13.20  55.10  45.45   \n",
       "1  2021  25.90  39.065  44.85  66.30  12.75  43.8  50.80   1.35  32.60  34.65   \n",
       "2  2022  24.72  39.065  17.45  55.42  12.07  43.8  21.23   8.03  44.52  37.42   \n",
       "3  2023  30.52  36.000  11.90  60.20  15.70  32.5  24.35   4.10  35.50  23.40   \n",
       "\n",
       "     어진동    종촌동    한솔동   해밀동    가람동_총매출     고운동_총매출      나성동_총매출  누리동_총매출  \\\n",
       "0  26.00  17.70  30.10  32.5  7951753.0  82493380.0  184444748.0  13167.0   \n",
       "1  17.35  22.00  59.55  32.5  7951753.0  82493380.0  184444748.0  13167.0   \n",
       "2  24.50  13.49  56.25  32.5  7951753.0  82493380.0  184444748.0  13167.0   \n",
       "3  23.40  12.00  30.10  32.5  7951753.0  82493380.0  184444748.0  13167.0   \n",
       "\n",
       "   다솜동_총매출     다정동_총매출     대평동_총매출     도담동_총매출     반곡동_총매출     보람동_총매출  \\\n",
       "0      0.0  53051458.0  41695736.0  83618675.0  37869789.0  81744701.0   \n",
       "1      0.0  53051458.0  41695736.0  83618675.0  37869789.0  81744701.0   \n",
       "2      0.0  53051458.0  41695736.0  83618675.0  37869789.0  81744701.0   \n",
       "3      0.0  53051458.0  41695736.0  83618675.0  37869789.0  81744701.0   \n",
       "\n",
       "      산울동_총매출      새롬동_총매출     세종동_총매출     소담동_총매출     아름동_총매출     어진동_총매출  \\\n",
       "0  10780173.0  118263554.0  19036516.0  58703995.0  86855772.0  66472173.0   \n",
       "1  10780173.0  118263554.0  19036516.0  58703995.0  86855772.0  66472173.0   \n",
       "2  10780173.0  118263554.0  19036516.0  58703995.0  86855772.0  66472173.0   \n",
       "3  10780173.0  118263554.0  19036516.0  58703995.0  86855772.0  66472173.0   \n",
       "\n",
       "      종촌동_총매출    집현동_총매출   한별동_총매출     한솔동_총매출   합강동_총매출     해밀동_총매출  \n",
       "0  61676660.0  6979024.0  133915.0  52452261.0  174982.0  11743023.0  \n",
       "1  61676660.0  6979024.0  133915.0  52452261.0  174982.0  11743023.0  \n",
       "2  61676660.0  6979024.0  133915.0  52452261.0  174982.0  11743023.0  \n",
       "3  61676660.0  6979024.0  133915.0  52452261.0  174982.0  11743023.0  "
      ]
     },
     "execution_count": 196,
     "metadata": {},
     "output_type": "execute_result"
    }
   ],
   "source": [
    "merged_sales_sum_df"
   ]
  },
  {
   "cell_type": "code",
   "execution_count": 195,
   "metadata": {},
   "outputs": [
    {
     "data": {
      "text/html": [
       "<div>\n",
       "<style scoped>\n",
       "    .dataframe tbody tr th:only-of-type {\n",
       "        vertical-align: middle;\n",
       "    }\n",
       "\n",
       "    .dataframe tbody tr th {\n",
       "        vertical-align: top;\n",
       "    }\n",
       "\n",
       "    .dataframe thead th {\n",
       "        text-align: right;\n",
       "    }\n",
       "</style>\n",
       "<table border=\"1\" class=\"dataframe\">\n",
       "  <thead>\n",
       "    <tr style=\"text-align: right;\">\n",
       "      <th></th>\n",
       "      <th>Year</th>\n",
       "      <th>고운동</th>\n",
       "      <th>나성동</th>\n",
       "      <th>다정동</th>\n",
       "      <th>대평동</th>\n",
       "      <th>도담동</th>\n",
       "      <th>반곡동</th>\n",
       "      <th>보람동</th>\n",
       "      <th>새롬동</th>\n",
       "      <th>소담동</th>\n",
       "      <th>아름동</th>\n",
       "      <th>어진동</th>\n",
       "      <th>종촌동</th>\n",
       "      <th>한솔동</th>\n",
       "      <th>해밀동</th>\n",
       "      <th>가람동_매출평균</th>\n",
       "      <th>고운동_매출평균</th>\n",
       "      <th>나성동_매출평균</th>\n",
       "      <th>누리동_매출평균</th>\n",
       "      <th>다솜동_매출평균</th>\n",
       "      <th>다정동_매출평균</th>\n",
       "      <th>대평동_매출평균</th>\n",
       "      <th>도담동_매출평균</th>\n",
       "      <th>반곡동_매출평균</th>\n",
       "      <th>보람동_매출평균</th>\n",
       "      <th>산울동_매출평균</th>\n",
       "      <th>새롬동_매출평균</th>\n",
       "      <th>세종동_매출평균</th>\n",
       "      <th>소담동_매출평균</th>\n",
       "      <th>아름동_매출평균</th>\n",
       "      <th>어진동_매출평균</th>\n",
       "      <th>종촌동_매출평균</th>\n",
       "      <th>집현동_매출평균</th>\n",
       "      <th>한별동_매출평균</th>\n",
       "      <th>한솔동_매출평균</th>\n",
       "      <th>합강동_매출평균</th>\n",
       "      <th>해밀동_매출평균</th>\n",
       "    </tr>\n",
       "  </thead>\n",
       "  <tbody>\n",
       "    <tr>\n",
       "      <th>0</th>\n",
       "      <td>2020</td>\n",
       "      <td>38.85</td>\n",
       "      <td>42.130</td>\n",
       "      <td>40.70</td>\n",
       "      <td>49.30</td>\n",
       "      <td>21.70</td>\n",
       "      <td>55.1</td>\n",
       "      <td>61.35</td>\n",
       "      <td>13.20</td>\n",
       "      <td>55.10</td>\n",
       "      <td>45.45</td>\n",
       "      <td>26.00</td>\n",
       "      <td>17.70</td>\n",
       "      <td>30.10</td>\n",
       "      <td>32.5</td>\n",
       "      <td>76459.163462</td>\n",
       "      <td>14306.864377</td>\n",
       "      <td>19036.510269</td>\n",
       "      <td>2194.5</td>\n",
       "      <td>0.0</td>\n",
       "      <td>15080.005117</td>\n",
       "      <td>16351.26902</td>\n",
       "      <td>16470.095529</td>\n",
       "      <td>17379.435062</td>\n",
       "      <td>13878.557046</td>\n",
       "      <td>49908.208333</td>\n",
       "      <td>19766.597693</td>\n",
       "      <td>13646.248029</td>\n",
       "      <td>14276.263375</td>\n",
       "      <td>19005.639387</td>\n",
       "      <td>16684.78238</td>\n",
       "      <td>16295.022457</td>\n",
       "      <td>11095.427663</td>\n",
       "      <td>11159.583333</td>\n",
       "      <td>16725.848533</td>\n",
       "      <td>29163.666667</td>\n",
       "      <td>17345.676514</td>\n",
       "    </tr>\n",
       "    <tr>\n",
       "      <th>1</th>\n",
       "      <td>2021</td>\n",
       "      <td>25.90</td>\n",
       "      <td>39.065</td>\n",
       "      <td>44.85</td>\n",
       "      <td>66.30</td>\n",
       "      <td>12.75</td>\n",
       "      <td>43.8</td>\n",
       "      <td>50.80</td>\n",
       "      <td>1.35</td>\n",
       "      <td>32.60</td>\n",
       "      <td>34.65</td>\n",
       "      <td>17.35</td>\n",
       "      <td>22.00</td>\n",
       "      <td>59.55</td>\n",
       "      <td>32.5</td>\n",
       "      <td>76459.163462</td>\n",
       "      <td>14306.864377</td>\n",
       "      <td>19036.510269</td>\n",
       "      <td>2194.5</td>\n",
       "      <td>0.0</td>\n",
       "      <td>15080.005117</td>\n",
       "      <td>16351.26902</td>\n",
       "      <td>16470.095529</td>\n",
       "      <td>17379.435062</td>\n",
       "      <td>13878.557046</td>\n",
       "      <td>49908.208333</td>\n",
       "      <td>19766.597693</td>\n",
       "      <td>13646.248029</td>\n",
       "      <td>14276.263375</td>\n",
       "      <td>19005.639387</td>\n",
       "      <td>16684.78238</td>\n",
       "      <td>16295.022457</td>\n",
       "      <td>11095.427663</td>\n",
       "      <td>11159.583333</td>\n",
       "      <td>16725.848533</td>\n",
       "      <td>29163.666667</td>\n",
       "      <td>17345.676514</td>\n",
       "    </tr>\n",
       "    <tr>\n",
       "      <th>2</th>\n",
       "      <td>2022</td>\n",
       "      <td>24.72</td>\n",
       "      <td>39.065</td>\n",
       "      <td>17.45</td>\n",
       "      <td>55.42</td>\n",
       "      <td>12.07</td>\n",
       "      <td>43.8</td>\n",
       "      <td>21.23</td>\n",
       "      <td>8.03</td>\n",
       "      <td>44.52</td>\n",
       "      <td>37.42</td>\n",
       "      <td>24.50</td>\n",
       "      <td>13.49</td>\n",
       "      <td>56.25</td>\n",
       "      <td>32.5</td>\n",
       "      <td>76459.163462</td>\n",
       "      <td>14306.864377</td>\n",
       "      <td>19036.510269</td>\n",
       "      <td>2194.5</td>\n",
       "      <td>0.0</td>\n",
       "      <td>15080.005117</td>\n",
       "      <td>16351.26902</td>\n",
       "      <td>16470.095529</td>\n",
       "      <td>17379.435062</td>\n",
       "      <td>13878.557046</td>\n",
       "      <td>49908.208333</td>\n",
       "      <td>19766.597693</td>\n",
       "      <td>13646.248029</td>\n",
       "      <td>14276.263375</td>\n",
       "      <td>19005.639387</td>\n",
       "      <td>16684.78238</td>\n",
       "      <td>16295.022457</td>\n",
       "      <td>11095.427663</td>\n",
       "      <td>11159.583333</td>\n",
       "      <td>16725.848533</td>\n",
       "      <td>29163.666667</td>\n",
       "      <td>17345.676514</td>\n",
       "    </tr>\n",
       "    <tr>\n",
       "      <th>3</th>\n",
       "      <td>2023</td>\n",
       "      <td>30.52</td>\n",
       "      <td>36.000</td>\n",
       "      <td>11.90</td>\n",
       "      <td>60.20</td>\n",
       "      <td>15.70</td>\n",
       "      <td>32.5</td>\n",
       "      <td>24.35</td>\n",
       "      <td>4.10</td>\n",
       "      <td>35.50</td>\n",
       "      <td>23.40</td>\n",
       "      <td>23.40</td>\n",
       "      <td>12.00</td>\n",
       "      <td>30.10</td>\n",
       "      <td>32.5</td>\n",
       "      <td>76459.163462</td>\n",
       "      <td>14306.864377</td>\n",
       "      <td>19036.510269</td>\n",
       "      <td>2194.5</td>\n",
       "      <td>0.0</td>\n",
       "      <td>15080.005117</td>\n",
       "      <td>16351.26902</td>\n",
       "      <td>16470.095529</td>\n",
       "      <td>17379.435062</td>\n",
       "      <td>13878.557046</td>\n",
       "      <td>49908.208333</td>\n",
       "      <td>19766.597693</td>\n",
       "      <td>13646.248029</td>\n",
       "      <td>14276.263375</td>\n",
       "      <td>19005.639387</td>\n",
       "      <td>16684.78238</td>\n",
       "      <td>16295.022457</td>\n",
       "      <td>11095.427663</td>\n",
       "      <td>11159.583333</td>\n",
       "      <td>16725.848533</td>\n",
       "      <td>29163.666667</td>\n",
       "      <td>17345.676514</td>\n",
       "    </tr>\n",
       "  </tbody>\n",
       "</table>\n",
       "</div>"
      ],
      "text/plain": [
       "   Year    고운동     나성동    다정동    대평동    도담동   반곡동    보람동    새롬동    소담동    아름동  \\\n",
       "0  2020  38.85  42.130  40.70  49.30  21.70  55.1  61.35  13.20  55.10  45.45   \n",
       "1  2021  25.90  39.065  44.85  66.30  12.75  43.8  50.80   1.35  32.60  34.65   \n",
       "2  2022  24.72  39.065  17.45  55.42  12.07  43.8  21.23   8.03  44.52  37.42   \n",
       "3  2023  30.52  36.000  11.90  60.20  15.70  32.5  24.35   4.10  35.50  23.40   \n",
       "\n",
       "     어진동    종촌동    한솔동   해밀동      가람동_매출평균      고운동_매출평균      나성동_매출평균  \\\n",
       "0  26.00  17.70  30.10  32.5  76459.163462  14306.864377  19036.510269   \n",
       "1  17.35  22.00  59.55  32.5  76459.163462  14306.864377  19036.510269   \n",
       "2  24.50  13.49  56.25  32.5  76459.163462  14306.864377  19036.510269   \n",
       "3  23.40  12.00  30.10  32.5  76459.163462  14306.864377  19036.510269   \n",
       "\n",
       "   누리동_매출평균  다솜동_매출평균      다정동_매출평균     대평동_매출평균      도담동_매출평균      반곡동_매출평균  \\\n",
       "0    2194.5       0.0  15080.005117  16351.26902  16470.095529  17379.435062   \n",
       "1    2194.5       0.0  15080.005117  16351.26902  16470.095529  17379.435062   \n",
       "2    2194.5       0.0  15080.005117  16351.26902  16470.095529  17379.435062   \n",
       "3    2194.5       0.0  15080.005117  16351.26902  16470.095529  17379.435062   \n",
       "\n",
       "       보람동_매출평균      산울동_매출평균      새롬동_매출평균      세종동_매출평균      소담동_매출평균  \\\n",
       "0  13878.557046  49908.208333  19766.597693  13646.248029  14276.263375   \n",
       "1  13878.557046  49908.208333  19766.597693  13646.248029  14276.263375   \n",
       "2  13878.557046  49908.208333  19766.597693  13646.248029  14276.263375   \n",
       "3  13878.557046  49908.208333  19766.597693  13646.248029  14276.263375   \n",
       "\n",
       "       아름동_매출평균     어진동_매출평균      종촌동_매출평균      집현동_매출평균      한별동_매출평균  \\\n",
       "0  19005.639387  16684.78238  16295.022457  11095.427663  11159.583333   \n",
       "1  19005.639387  16684.78238  16295.022457  11095.427663  11159.583333   \n",
       "2  19005.639387  16684.78238  16295.022457  11095.427663  11159.583333   \n",
       "3  19005.639387  16684.78238  16295.022457  11095.427663  11159.583333   \n",
       "\n",
       "       한솔동_매출평균      합강동_매출평균      해밀동_매출평균  \n",
       "0  16725.848533  29163.666667  17345.676514  \n",
       "1  16725.848533  29163.666667  17345.676514  \n",
       "2  16725.848533  29163.666667  17345.676514  \n",
       "3  16725.848533  29163.666667  17345.676514  "
      ]
     },
     "execution_count": 195,
     "metadata": {},
     "output_type": "execute_result"
    }
   ],
   "source": [
    "merged_sales_mean_df"
   ]
  },
  {
   "cell_type": "code",
   "execution_count": 187,
   "metadata": {},
   "outputs": [],
   "source": [
    "merged_df = pd.merge(merged_fpop_df, merged_respop_df, on='Year')\n",
    "merged_df = pd.merge(merged_df, merged_closure_rates_df, on='Year')\n",
    "merged_df = pd.merge(merged_df, merged_sales_sum_df, on='Year', how='left')\n",
    "merged_df = pd.merge(merged_df, merged_sales_mean_df, on='Year', suffixes=('_sum', '_mean'))"
   ]
  },
  {
   "cell_type": "code",
   "execution_count": 188,
   "metadata": {},
   "outputs": [
    {
     "data": {
      "text/html": [
       "<div>\n",
       "<style scoped>\n",
       "    .dataframe tbody tr th:only-of-type {\n",
       "        vertical-align: middle;\n",
       "    }\n",
       "\n",
       "    .dataframe tbody tr th {\n",
       "        vertical-align: top;\n",
       "    }\n",
       "\n",
       "    .dataframe thead th {\n",
       "        text-align: right;\n",
       "    }\n",
       "</style>\n",
       "<table border=\"1\" class=\"dataframe\">\n",
       "  <thead>\n",
       "    <tr style=\"text-align: right;\">\n",
       "      <th></th>\n",
       "      <th>Year</th>\n",
       "      <th>고운동_x_x</th>\n",
       "      <th>아름동_x_x</th>\n",
       "      <th>종촌동_x_x</th>\n",
       "      <th>도담동_x_x</th>\n",
       "      <th>어진동_x_x</th>\n",
       "      <th>다정동_x_x</th>\n",
       "      <th>새롬동_x_x</th>\n",
       "      <th>한솔동_x_x</th>\n",
       "      <th>대평동_x_x</th>\n",
       "      <th>보람동_x_x</th>\n",
       "      <th>소담동_x_x</th>\n",
       "      <th>나성동_x_x</th>\n",
       "      <th>반곡동_x_x</th>\n",
       "      <th>해밀동_x_x</th>\n",
       "      <th>고운동_유동인구</th>\n",
       "      <th>나성동_유동인구</th>\n",
       "      <th>다정동_유동인구</th>\n",
       "      <th>대평동_유동인구</th>\n",
       "      <th>도담동_유동인구</th>\n",
       "      <th>반곡동_유동인구</th>\n",
       "      <th>보람동_유동인구</th>\n",
       "      <th>새롬동_유동인구</th>\n",
       "      <th>소담동_유동인구</th>\n",
       "      <th>아름동_유동인구</th>\n",
       "      <th>어진동_유동인구</th>\n",
       "      <th>종촌동_유동인구</th>\n",
       "      <th>한솔동_유동인구</th>\n",
       "      <th>해밀동_유동인구</th>\n",
       "      <th>고운동_x_y</th>\n",
       "      <th>아름동_x_y</th>\n",
       "      <th>종촌동_x_y</th>\n",
       "      <th>도담동_x_y</th>\n",
       "      <th>어진동_x_y</th>\n",
       "      <th>다정동_x_y</th>\n",
       "      <th>새롬동_x_y</th>\n",
       "      <th>한솔동_x_y</th>\n",
       "      <th>대평동_x_y</th>\n",
       "      <th>보람동_x_y</th>\n",
       "      <th>소담동_x_y</th>\n",
       "      <th>나성동_x_y</th>\n",
       "      <th>반곡동_x_y</th>\n",
       "      <th>해밀동_x_y</th>\n",
       "      <th>고운동_인구</th>\n",
       "      <th>아름동_인구</th>\n",
       "      <th>종촌동_인구</th>\n",
       "      <th>도담동_인구</th>\n",
       "      <th>어진동_인구</th>\n",
       "      <th>다정동_인구</th>\n",
       "      <th>새롬동_인구</th>\n",
       "      <th>한솔동_인구</th>\n",
       "      <th>대평동_인구</th>\n",
       "      <th>보람동_인구</th>\n",
       "      <th>소담동_인구</th>\n",
       "      <th>나성동_인구</th>\n",
       "      <th>반곡동_인구</th>\n",
       "      <th>해밀동_인구</th>\n",
       "      <th>고운동_x</th>\n",
       "      <th>아름동_x</th>\n",
       "      <th>종촌동_x</th>\n",
       "      <th>도담동_x</th>\n",
       "      <th>어진동_x</th>\n",
       "      <th>다정동_x</th>\n",
       "      <th>새롬동_x</th>\n",
       "      <th>한솔동_x</th>\n",
       "      <th>대평동_x</th>\n",
       "      <th>보람동_x</th>\n",
       "      <th>소담동_x</th>\n",
       "      <th>나성동_x</th>\n",
       "      <th>반곡동_x</th>\n",
       "      <th>해밀동_x</th>\n",
       "      <th>고운동_폐업률</th>\n",
       "      <th>아름동_폐업률</th>\n",
       "      <th>종촌동_폐업률</th>\n",
       "      <th>도담동_폐업률</th>\n",
       "      <th>어진동_폐업률</th>\n",
       "      <th>다정동_폐업률</th>\n",
       "      <th>새롬동_폐업률</th>\n",
       "      <th>한솔동_폐업률</th>\n",
       "      <th>대평동_폐업률</th>\n",
       "      <th>보람동_폐업률</th>\n",
       "      <th>소담동_폐업률</th>\n",
       "      <th>나성동_폐업률</th>\n",
       "      <th>반곡동_폐업률</th>\n",
       "      <th>해밀동_폐업률</th>\n",
       "      <th>고운동_sum</th>\n",
       "      <th>나성동_sum</th>\n",
       "      <th>다정동_sum</th>\n",
       "      <th>대평동_sum</th>\n",
       "      <th>도담동_sum</th>\n",
       "      <th>반곡동_sum</th>\n",
       "      <th>보람동_sum</th>\n",
       "      <th>새롬동_sum</th>\n",
       "      <th>소담동_sum</th>\n",
       "      <th>아름동_sum</th>\n",
       "      <th>어진동_sum</th>\n",
       "      <th>종촌동_sum</th>\n",
       "      <th>한솔동_sum</th>\n",
       "      <th>해밀동_sum</th>\n",
       "      <th>가람동_총매출</th>\n",
       "      <th>고운동_총매출</th>\n",
       "      <th>나성동_총매출</th>\n",
       "      <th>누리동_총매출</th>\n",
       "      <th>다솜동_총매출</th>\n",
       "      <th>다정동_총매출</th>\n",
       "      <th>대평동_총매출</th>\n",
       "      <th>도담동_총매출</th>\n",
       "      <th>반곡동_총매출</th>\n",
       "      <th>보람동_총매출</th>\n",
       "      <th>산울동_총매출</th>\n",
       "      <th>새롬동_총매출</th>\n",
       "      <th>세종동_총매출</th>\n",
       "      <th>소담동_총매출</th>\n",
       "      <th>아름동_총매출</th>\n",
       "      <th>어진동_총매출</th>\n",
       "      <th>종촌동_총매출</th>\n",
       "      <th>집현동_총매출</th>\n",
       "      <th>한별동_총매출</th>\n",
       "      <th>한솔동_총매출</th>\n",
       "      <th>합강동_총매출</th>\n",
       "      <th>해밀동_총매출</th>\n",
       "      <th>고운동_mean</th>\n",
       "      <th>나성동_mean</th>\n",
       "      <th>다정동_mean</th>\n",
       "      <th>대평동_mean</th>\n",
       "      <th>도담동_mean</th>\n",
       "      <th>반곡동_mean</th>\n",
       "      <th>보람동_mean</th>\n",
       "      <th>새롬동_mean</th>\n",
       "      <th>소담동_mean</th>\n",
       "      <th>아름동_mean</th>\n",
       "      <th>어진동_mean</th>\n",
       "      <th>종촌동_mean</th>\n",
       "      <th>한솔동_mean</th>\n",
       "      <th>해밀동_mean</th>\n",
       "      <th>가람동_매출평균</th>\n",
       "      <th>고운동_매출평균</th>\n",
       "      <th>나성동_매출평균</th>\n",
       "      <th>누리동_매출평균</th>\n",
       "      <th>다솜동_매출평균</th>\n",
       "      <th>다정동_매출평균</th>\n",
       "      <th>대평동_매출평균</th>\n",
       "      <th>도담동_매출평균</th>\n",
       "      <th>반곡동_매출평균</th>\n",
       "      <th>보람동_매출평균</th>\n",
       "      <th>산울동_매출평균</th>\n",
       "      <th>새롬동_매출평균</th>\n",
       "      <th>세종동_매출평균</th>\n",
       "      <th>소담동_매출평균</th>\n",
       "      <th>아름동_매출평균</th>\n",
       "      <th>어진동_매출평균</th>\n",
       "      <th>종촌동_매출평균</th>\n",
       "      <th>집현동_매출평균</th>\n",
       "      <th>한별동_매출평균</th>\n",
       "      <th>한솔동_매출평균</th>\n",
       "      <th>합강동_매출평균</th>\n",
       "      <th>해밀동_매출평균</th>\n",
       "    </tr>\n",
       "  </thead>\n",
       "  <tbody>\n",
       "    <tr>\n",
       "      <th>0</th>\n",
       "      <td>2020</td>\n",
       "      <td>38.85</td>\n",
       "      <td>45.45</td>\n",
       "      <td>17.70</td>\n",
       "      <td>21.70</td>\n",
       "      <td>26.00</td>\n",
       "      <td>40.70</td>\n",
       "      <td>13.20</td>\n",
       "      <td>30.10</td>\n",
       "      <td>49.30</td>\n",
       "      <td>61.35</td>\n",
       "      <td>55.10</td>\n",
       "      <td>42.130</td>\n",
       "      <td>55.1</td>\n",
       "      <td>32.5</td>\n",
       "      <td>23474</td>\n",
       "      <td>5175</td>\n",
       "      <td>19325</td>\n",
       "      <td>7933</td>\n",
       "      <td>18915</td>\n",
       "      <td>9134</td>\n",
       "      <td>15837</td>\n",
       "      <td>19813</td>\n",
       "      <td>13759</td>\n",
       "      <td>17987</td>\n",
       "      <td>6291</td>\n",
       "      <td>20567</td>\n",
       "      <td>14220</td>\n",
       "      <td>2478</td>\n",
       "      <td>38.85</td>\n",
       "      <td>45.45</td>\n",
       "      <td>17.70</td>\n",
       "      <td>21.70</td>\n",
       "      <td>26.00</td>\n",
       "      <td>40.70</td>\n",
       "      <td>13.20</td>\n",
       "      <td>30.10</td>\n",
       "      <td>49.30</td>\n",
       "      <td>61.35</td>\n",
       "      <td>55.10</td>\n",
       "      <td>42.130</td>\n",
       "      <td>55.1</td>\n",
       "      <td>32.5</td>\n",
       "      <td>23474</td>\n",
       "      <td>17987</td>\n",
       "      <td>20567</td>\n",
       "      <td>18915</td>\n",
       "      <td>6291</td>\n",
       "      <td>19325</td>\n",
       "      <td>19813</td>\n",
       "      <td>14220</td>\n",
       "      <td>7933</td>\n",
       "      <td>15837</td>\n",
       "      <td>13759</td>\n",
       "      <td>5175</td>\n",
       "      <td>9134</td>\n",
       "      <td>2478</td>\n",
       "      <td>6.571429</td>\n",
       "      <td>6.519559</td>\n",
       "      <td>8.105263</td>\n",
       "      <td>9.036743</td>\n",
       "      <td>5.385330</td>\n",
       "      <td>5.619413</td>\n",
       "      <td>7.354555</td>\n",
       "      <td>7.155635</td>\n",
       "      <td>9.852217</td>\n",
       "      <td>6.342183</td>\n",
       "      <td>4.489338</td>\n",
       "      <td>5.471956</td>\n",
       "      <td>2.034429</td>\n",
       "      <td>0.549451</td>\n",
       "      <td>38.85</td>\n",
       "      <td>45.45</td>\n",
       "      <td>17.70</td>\n",
       "      <td>21.70</td>\n",
       "      <td>26.00</td>\n",
       "      <td>40.70</td>\n",
       "      <td>13.20</td>\n",
       "      <td>30.10</td>\n",
       "      <td>49.30</td>\n",
       "      <td>61.35</td>\n",
       "      <td>55.10</td>\n",
       "      <td>42.130</td>\n",
       "      <td>55.1</td>\n",
       "      <td>32.5</td>\n",
       "      <td>38.85</td>\n",
       "      <td>42.130</td>\n",
       "      <td>40.70</td>\n",
       "      <td>49.30</td>\n",
       "      <td>21.70</td>\n",
       "      <td>55.1</td>\n",
       "      <td>61.35</td>\n",
       "      <td>13.20</td>\n",
       "      <td>55.10</td>\n",
       "      <td>45.45</td>\n",
       "      <td>26.00</td>\n",
       "      <td>17.70</td>\n",
       "      <td>30.10</td>\n",
       "      <td>32.5</td>\n",
       "      <td>7951753.0</td>\n",
       "      <td>82493380.0</td>\n",
       "      <td>184444748.0</td>\n",
       "      <td>13167.0</td>\n",
       "      <td>0.0</td>\n",
       "      <td>53051458.0</td>\n",
       "      <td>41695736.0</td>\n",
       "      <td>83618675.0</td>\n",
       "      <td>37869789.0</td>\n",
       "      <td>81744701.0</td>\n",
       "      <td>10780173.0</td>\n",
       "      <td>118263554.0</td>\n",
       "      <td>19036516.0</td>\n",
       "      <td>58703995.0</td>\n",
       "      <td>86855772.0</td>\n",
       "      <td>66472173.0</td>\n",
       "      <td>61676660.0</td>\n",
       "      <td>6979024.0</td>\n",
       "      <td>133915.0</td>\n",
       "      <td>52452261.0</td>\n",
       "      <td>174982.0</td>\n",
       "      <td>11743023.0</td>\n",
       "      <td>38.85</td>\n",
       "      <td>42.130</td>\n",
       "      <td>40.70</td>\n",
       "      <td>49.30</td>\n",
       "      <td>21.70</td>\n",
       "      <td>55.1</td>\n",
       "      <td>61.35</td>\n",
       "      <td>13.20</td>\n",
       "      <td>55.10</td>\n",
       "      <td>45.45</td>\n",
       "      <td>26.00</td>\n",
       "      <td>17.70</td>\n",
       "      <td>30.10</td>\n",
       "      <td>32.5</td>\n",
       "      <td>76459.163462</td>\n",
       "      <td>14306.864377</td>\n",
       "      <td>19036.510269</td>\n",
       "      <td>2194.5</td>\n",
       "      <td>0.0</td>\n",
       "      <td>15080.005117</td>\n",
       "      <td>16351.26902</td>\n",
       "      <td>16470.095529</td>\n",
       "      <td>17379.435062</td>\n",
       "      <td>13878.557046</td>\n",
       "      <td>49908.208333</td>\n",
       "      <td>19766.597693</td>\n",
       "      <td>13646.248029</td>\n",
       "      <td>14276.263375</td>\n",
       "      <td>19005.639387</td>\n",
       "      <td>16684.78238</td>\n",
       "      <td>16295.022457</td>\n",
       "      <td>11095.427663</td>\n",
       "      <td>11159.583333</td>\n",
       "      <td>16725.848533</td>\n",
       "      <td>29163.666667</td>\n",
       "      <td>17345.676514</td>\n",
       "    </tr>\n",
       "    <tr>\n",
       "      <th>1</th>\n",
       "      <td>2021</td>\n",
       "      <td>25.90</td>\n",
       "      <td>34.65</td>\n",
       "      <td>22.00</td>\n",
       "      <td>12.75</td>\n",
       "      <td>17.35</td>\n",
       "      <td>44.85</td>\n",
       "      <td>1.35</td>\n",
       "      <td>59.55</td>\n",
       "      <td>66.30</td>\n",
       "      <td>50.80</td>\n",
       "      <td>32.60</td>\n",
       "      <td>39.065</td>\n",
       "      <td>43.8</td>\n",
       "      <td>32.5</td>\n",
       "      <td>23384</td>\n",
       "      <td>5966</td>\n",
       "      <td>21357</td>\n",
       "      <td>8263</td>\n",
       "      <td>18883</td>\n",
       "      <td>9052</td>\n",
       "      <td>15758</td>\n",
       "      <td>19606</td>\n",
       "      <td>15099</td>\n",
       "      <td>18055</td>\n",
       "      <td>6539</td>\n",
       "      <td>20540</td>\n",
       "      <td>14038</td>\n",
       "      <td>5526</td>\n",
       "      <td>25.90</td>\n",
       "      <td>34.65</td>\n",
       "      <td>22.00</td>\n",
       "      <td>12.75</td>\n",
       "      <td>17.35</td>\n",
       "      <td>44.85</td>\n",
       "      <td>1.35</td>\n",
       "      <td>59.55</td>\n",
       "      <td>66.30</td>\n",
       "      <td>50.80</td>\n",
       "      <td>32.60</td>\n",
       "      <td>39.065</td>\n",
       "      <td>43.8</td>\n",
       "      <td>32.5</td>\n",
       "      <td>23384</td>\n",
       "      <td>18055</td>\n",
       "      <td>20540</td>\n",
       "      <td>18883</td>\n",
       "      <td>6539</td>\n",
       "      <td>21357</td>\n",
       "      <td>19606</td>\n",
       "      <td>14038</td>\n",
       "      <td>8263</td>\n",
       "      <td>15758</td>\n",
       "      <td>15099</td>\n",
       "      <td>5966</td>\n",
       "      <td>9052</td>\n",
       "      <td>5526</td>\n",
       "      <td>7.822410</td>\n",
       "      <td>7.722772</td>\n",
       "      <td>9.907121</td>\n",
       "      <td>8.673978</td>\n",
       "      <td>4.632663</td>\n",
       "      <td>7.393484</td>\n",
       "      <td>8.559047</td>\n",
       "      <td>9.106830</td>\n",
       "      <td>9.703947</td>\n",
       "      <td>6.617647</td>\n",
       "      <td>7.500000</td>\n",
       "      <td>7.496653</td>\n",
       "      <td>3.692308</td>\n",
       "      <td>2.688172</td>\n",
       "      <td>25.90</td>\n",
       "      <td>34.65</td>\n",
       "      <td>22.00</td>\n",
       "      <td>12.75</td>\n",
       "      <td>17.35</td>\n",
       "      <td>44.85</td>\n",
       "      <td>1.35</td>\n",
       "      <td>59.55</td>\n",
       "      <td>66.30</td>\n",
       "      <td>50.80</td>\n",
       "      <td>32.60</td>\n",
       "      <td>39.065</td>\n",
       "      <td>43.8</td>\n",
       "      <td>32.5</td>\n",
       "      <td>25.90</td>\n",
       "      <td>39.065</td>\n",
       "      <td>44.85</td>\n",
       "      <td>66.30</td>\n",
       "      <td>12.75</td>\n",
       "      <td>43.8</td>\n",
       "      <td>50.80</td>\n",
       "      <td>1.35</td>\n",
       "      <td>32.60</td>\n",
       "      <td>34.65</td>\n",
       "      <td>17.35</td>\n",
       "      <td>22.00</td>\n",
       "      <td>59.55</td>\n",
       "      <td>32.5</td>\n",
       "      <td>7951753.0</td>\n",
       "      <td>82493380.0</td>\n",
       "      <td>184444748.0</td>\n",
       "      <td>13167.0</td>\n",
       "      <td>0.0</td>\n",
       "      <td>53051458.0</td>\n",
       "      <td>41695736.0</td>\n",
       "      <td>83618675.0</td>\n",
       "      <td>37869789.0</td>\n",
       "      <td>81744701.0</td>\n",
       "      <td>10780173.0</td>\n",
       "      <td>118263554.0</td>\n",
       "      <td>19036516.0</td>\n",
       "      <td>58703995.0</td>\n",
       "      <td>86855772.0</td>\n",
       "      <td>66472173.0</td>\n",
       "      <td>61676660.0</td>\n",
       "      <td>6979024.0</td>\n",
       "      <td>133915.0</td>\n",
       "      <td>52452261.0</td>\n",
       "      <td>174982.0</td>\n",
       "      <td>11743023.0</td>\n",
       "      <td>25.90</td>\n",
       "      <td>39.065</td>\n",
       "      <td>44.85</td>\n",
       "      <td>66.30</td>\n",
       "      <td>12.75</td>\n",
       "      <td>43.8</td>\n",
       "      <td>50.80</td>\n",
       "      <td>1.35</td>\n",
       "      <td>32.60</td>\n",
       "      <td>34.65</td>\n",
       "      <td>17.35</td>\n",
       "      <td>22.00</td>\n",
       "      <td>59.55</td>\n",
       "      <td>32.5</td>\n",
       "      <td>76459.163462</td>\n",
       "      <td>14306.864377</td>\n",
       "      <td>19036.510269</td>\n",
       "      <td>2194.5</td>\n",
       "      <td>0.0</td>\n",
       "      <td>15080.005117</td>\n",
       "      <td>16351.26902</td>\n",
       "      <td>16470.095529</td>\n",
       "      <td>17379.435062</td>\n",
       "      <td>13878.557046</td>\n",
       "      <td>49908.208333</td>\n",
       "      <td>19766.597693</td>\n",
       "      <td>13646.248029</td>\n",
       "      <td>14276.263375</td>\n",
       "      <td>19005.639387</td>\n",
       "      <td>16684.78238</td>\n",
       "      <td>16295.022457</td>\n",
       "      <td>11095.427663</td>\n",
       "      <td>11159.583333</td>\n",
       "      <td>16725.848533</td>\n",
       "      <td>29163.666667</td>\n",
       "      <td>17345.676514</td>\n",
       "    </tr>\n",
       "    <tr>\n",
       "      <th>2</th>\n",
       "      <td>2022</td>\n",
       "      <td>24.72</td>\n",
       "      <td>37.42</td>\n",
       "      <td>13.49</td>\n",
       "      <td>12.07</td>\n",
       "      <td>24.50</td>\n",
       "      <td>17.45</td>\n",
       "      <td>8.03</td>\n",
       "      <td>56.25</td>\n",
       "      <td>55.42</td>\n",
       "      <td>21.23</td>\n",
       "      <td>44.52</td>\n",
       "      <td>39.065</td>\n",
       "      <td>43.8</td>\n",
       "      <td>32.5</td>\n",
       "      <td>23726</td>\n",
       "      <td>5980</td>\n",
       "      <td>21301</td>\n",
       "      <td>8119</td>\n",
       "      <td>18901</td>\n",
       "      <td>9007</td>\n",
       "      <td>15581</td>\n",
       "      <td>19565</td>\n",
       "      <td>14858</td>\n",
       "      <td>18204</td>\n",
       "      <td>6455</td>\n",
       "      <td>20464</td>\n",
       "      <td>13762</td>\n",
       "      <td>5548</td>\n",
       "      <td>24.72</td>\n",
       "      <td>37.42</td>\n",
       "      <td>13.49</td>\n",
       "      <td>12.07</td>\n",
       "      <td>24.50</td>\n",
       "      <td>17.45</td>\n",
       "      <td>8.03</td>\n",
       "      <td>56.25</td>\n",
       "      <td>55.42</td>\n",
       "      <td>21.23</td>\n",
       "      <td>44.52</td>\n",
       "      <td>39.065</td>\n",
       "      <td>43.8</td>\n",
       "      <td>32.5</td>\n",
       "      <td>23726</td>\n",
       "      <td>18204</td>\n",
       "      <td>20464</td>\n",
       "      <td>18901</td>\n",
       "      <td>6455</td>\n",
       "      <td>21301</td>\n",
       "      <td>19565</td>\n",
       "      <td>13762</td>\n",
       "      <td>8119</td>\n",
       "      <td>15581</td>\n",
       "      <td>14858</td>\n",
       "      <td>5980</td>\n",
       "      <td>9007</td>\n",
       "      <td>5548</td>\n",
       "      <td>8.403361</td>\n",
       "      <td>7.631318</td>\n",
       "      <td>7.619048</td>\n",
       "      <td>7.568113</td>\n",
       "      <td>6.039650</td>\n",
       "      <td>11.177885</td>\n",
       "      <td>11.064278</td>\n",
       "      <td>6.486486</td>\n",
       "      <td>12.160000</td>\n",
       "      <td>7.636364</td>\n",
       "      <td>6.380638</td>\n",
       "      <td>12.457770</td>\n",
       "      <td>5.722892</td>\n",
       "      <td>5.235602</td>\n",
       "      <td>24.72</td>\n",
       "      <td>37.42</td>\n",
       "      <td>13.49</td>\n",
       "      <td>12.07</td>\n",
       "      <td>24.50</td>\n",
       "      <td>17.45</td>\n",
       "      <td>8.03</td>\n",
       "      <td>56.25</td>\n",
       "      <td>55.42</td>\n",
       "      <td>21.23</td>\n",
       "      <td>44.52</td>\n",
       "      <td>39.065</td>\n",
       "      <td>43.8</td>\n",
       "      <td>32.5</td>\n",
       "      <td>24.72</td>\n",
       "      <td>39.065</td>\n",
       "      <td>17.45</td>\n",
       "      <td>55.42</td>\n",
       "      <td>12.07</td>\n",
       "      <td>43.8</td>\n",
       "      <td>21.23</td>\n",
       "      <td>8.03</td>\n",
       "      <td>44.52</td>\n",
       "      <td>37.42</td>\n",
       "      <td>24.50</td>\n",
       "      <td>13.49</td>\n",
       "      <td>56.25</td>\n",
       "      <td>32.5</td>\n",
       "      <td>7951753.0</td>\n",
       "      <td>82493380.0</td>\n",
       "      <td>184444748.0</td>\n",
       "      <td>13167.0</td>\n",
       "      <td>0.0</td>\n",
       "      <td>53051458.0</td>\n",
       "      <td>41695736.0</td>\n",
       "      <td>83618675.0</td>\n",
       "      <td>37869789.0</td>\n",
       "      <td>81744701.0</td>\n",
       "      <td>10780173.0</td>\n",
       "      <td>118263554.0</td>\n",
       "      <td>19036516.0</td>\n",
       "      <td>58703995.0</td>\n",
       "      <td>86855772.0</td>\n",
       "      <td>66472173.0</td>\n",
       "      <td>61676660.0</td>\n",
       "      <td>6979024.0</td>\n",
       "      <td>133915.0</td>\n",
       "      <td>52452261.0</td>\n",
       "      <td>174982.0</td>\n",
       "      <td>11743023.0</td>\n",
       "      <td>24.72</td>\n",
       "      <td>39.065</td>\n",
       "      <td>17.45</td>\n",
       "      <td>55.42</td>\n",
       "      <td>12.07</td>\n",
       "      <td>43.8</td>\n",
       "      <td>21.23</td>\n",
       "      <td>8.03</td>\n",
       "      <td>44.52</td>\n",
       "      <td>37.42</td>\n",
       "      <td>24.50</td>\n",
       "      <td>13.49</td>\n",
       "      <td>56.25</td>\n",
       "      <td>32.5</td>\n",
       "      <td>76459.163462</td>\n",
       "      <td>14306.864377</td>\n",
       "      <td>19036.510269</td>\n",
       "      <td>2194.5</td>\n",
       "      <td>0.0</td>\n",
       "      <td>15080.005117</td>\n",
       "      <td>16351.26902</td>\n",
       "      <td>16470.095529</td>\n",
       "      <td>17379.435062</td>\n",
       "      <td>13878.557046</td>\n",
       "      <td>49908.208333</td>\n",
       "      <td>19766.597693</td>\n",
       "      <td>13646.248029</td>\n",
       "      <td>14276.263375</td>\n",
       "      <td>19005.639387</td>\n",
       "      <td>16684.78238</td>\n",
       "      <td>16295.022457</td>\n",
       "      <td>11095.427663</td>\n",
       "      <td>11159.583333</td>\n",
       "      <td>16725.848533</td>\n",
       "      <td>29163.666667</td>\n",
       "      <td>17345.676514</td>\n",
       "    </tr>\n",
       "    <tr>\n",
       "      <th>3</th>\n",
       "      <td>2023</td>\n",
       "      <td>30.52</td>\n",
       "      <td>23.40</td>\n",
       "      <td>12.00</td>\n",
       "      <td>15.70</td>\n",
       "      <td>23.40</td>\n",
       "      <td>11.90</td>\n",
       "      <td>4.10</td>\n",
       "      <td>30.10</td>\n",
       "      <td>60.20</td>\n",
       "      <td>24.35</td>\n",
       "      <td>35.50</td>\n",
       "      <td>36.000</td>\n",
       "      <td>32.5</td>\n",
       "      <td>32.5</td>\n",
       "      <td>23869</td>\n",
       "      <td>5753</td>\n",
       "      <td>21556</td>\n",
       "      <td>8230</td>\n",
       "      <td>18921</td>\n",
       "      <td>9224</td>\n",
       "      <td>15798</td>\n",
       "      <td>19884</td>\n",
       "      <td>15189</td>\n",
       "      <td>18581</td>\n",
       "      <td>6405</td>\n",
       "      <td>20572</td>\n",
       "      <td>13976</td>\n",
       "      <td>5580</td>\n",
       "      <td>30.52</td>\n",
       "      <td>23.40</td>\n",
       "      <td>12.00</td>\n",
       "      <td>15.70</td>\n",
       "      <td>23.40</td>\n",
       "      <td>11.90</td>\n",
       "      <td>4.10</td>\n",
       "      <td>30.10</td>\n",
       "      <td>60.20</td>\n",
       "      <td>24.35</td>\n",
       "      <td>35.50</td>\n",
       "      <td>36.000</td>\n",
       "      <td>32.5</td>\n",
       "      <td>32.5</td>\n",
       "      <td>23869</td>\n",
       "      <td>18581</td>\n",
       "      <td>20572</td>\n",
       "      <td>18921</td>\n",
       "      <td>6405</td>\n",
       "      <td>21556</td>\n",
       "      <td>19884</td>\n",
       "      <td>13976</td>\n",
       "      <td>8230</td>\n",
       "      <td>15798</td>\n",
       "      <td>15189</td>\n",
       "      <td>5753</td>\n",
       "      <td>9224</td>\n",
       "      <td>5580</td>\n",
       "      <td>10.594668</td>\n",
       "      <td>9.426628</td>\n",
       "      <td>12.525050</td>\n",
       "      <td>10.981535</td>\n",
       "      <td>11.120802</td>\n",
       "      <td>11.708483</td>\n",
       "      <td>9.925293</td>\n",
       "      <td>8.626761</td>\n",
       "      <td>10.876623</td>\n",
       "      <td>8.829864</td>\n",
       "      <td>9.564293</td>\n",
       "      <td>10.530859</td>\n",
       "      <td>6.427504</td>\n",
       "      <td>7.653061</td>\n",
       "      <td>30.52</td>\n",
       "      <td>23.40</td>\n",
       "      <td>12.00</td>\n",
       "      <td>15.70</td>\n",
       "      <td>23.40</td>\n",
       "      <td>11.90</td>\n",
       "      <td>4.10</td>\n",
       "      <td>30.10</td>\n",
       "      <td>60.20</td>\n",
       "      <td>24.35</td>\n",
       "      <td>35.50</td>\n",
       "      <td>36.000</td>\n",
       "      <td>32.5</td>\n",
       "      <td>32.5</td>\n",
       "      <td>30.52</td>\n",
       "      <td>36.000</td>\n",
       "      <td>11.90</td>\n",
       "      <td>60.20</td>\n",
       "      <td>15.70</td>\n",
       "      <td>32.5</td>\n",
       "      <td>24.35</td>\n",
       "      <td>4.10</td>\n",
       "      <td>35.50</td>\n",
       "      <td>23.40</td>\n",
       "      <td>23.40</td>\n",
       "      <td>12.00</td>\n",
       "      <td>30.10</td>\n",
       "      <td>32.5</td>\n",
       "      <td>7951753.0</td>\n",
       "      <td>82493380.0</td>\n",
       "      <td>184444748.0</td>\n",
       "      <td>13167.0</td>\n",
       "      <td>0.0</td>\n",
       "      <td>53051458.0</td>\n",
       "      <td>41695736.0</td>\n",
       "      <td>83618675.0</td>\n",
       "      <td>37869789.0</td>\n",
       "      <td>81744701.0</td>\n",
       "      <td>10780173.0</td>\n",
       "      <td>118263554.0</td>\n",
       "      <td>19036516.0</td>\n",
       "      <td>58703995.0</td>\n",
       "      <td>86855772.0</td>\n",
       "      <td>66472173.0</td>\n",
       "      <td>61676660.0</td>\n",
       "      <td>6979024.0</td>\n",
       "      <td>133915.0</td>\n",
       "      <td>52452261.0</td>\n",
       "      <td>174982.0</td>\n",
       "      <td>11743023.0</td>\n",
       "      <td>30.52</td>\n",
       "      <td>36.000</td>\n",
       "      <td>11.90</td>\n",
       "      <td>60.20</td>\n",
       "      <td>15.70</td>\n",
       "      <td>32.5</td>\n",
       "      <td>24.35</td>\n",
       "      <td>4.10</td>\n",
       "      <td>35.50</td>\n",
       "      <td>23.40</td>\n",
       "      <td>23.40</td>\n",
       "      <td>12.00</td>\n",
       "      <td>30.10</td>\n",
       "      <td>32.5</td>\n",
       "      <td>76459.163462</td>\n",
       "      <td>14306.864377</td>\n",
       "      <td>19036.510269</td>\n",
       "      <td>2194.5</td>\n",
       "      <td>0.0</td>\n",
       "      <td>15080.005117</td>\n",
       "      <td>16351.26902</td>\n",
       "      <td>16470.095529</td>\n",
       "      <td>17379.435062</td>\n",
       "      <td>13878.557046</td>\n",
       "      <td>49908.208333</td>\n",
       "      <td>19766.597693</td>\n",
       "      <td>13646.248029</td>\n",
       "      <td>14276.263375</td>\n",
       "      <td>19005.639387</td>\n",
       "      <td>16684.78238</td>\n",
       "      <td>16295.022457</td>\n",
       "      <td>11095.427663</td>\n",
       "      <td>11159.583333</td>\n",
       "      <td>16725.848533</td>\n",
       "      <td>29163.666667</td>\n",
       "      <td>17345.676514</td>\n",
       "    </tr>\n",
       "  </tbody>\n",
       "</table>\n",
       "</div>"
      ],
      "text/plain": [
       "   Year  고운동_x_x  아름동_x_x  종촌동_x_x  도담동_x_x  어진동_x_x  다정동_x_x  새롬동_x_x  \\\n",
       "0  2020    38.85    45.45    17.70    21.70    26.00    40.70    13.20   \n",
       "1  2021    25.90    34.65    22.00    12.75    17.35    44.85     1.35   \n",
       "2  2022    24.72    37.42    13.49    12.07    24.50    17.45     8.03   \n",
       "3  2023    30.52    23.40    12.00    15.70    23.40    11.90     4.10   \n",
       "\n",
       "   한솔동_x_x  대평동_x_x  보람동_x_x  소담동_x_x  나성동_x_x  반곡동_x_x  해밀동_x_x  고운동_유동인구  \\\n",
       "0    30.10    49.30    61.35    55.10   42.130     55.1     32.5     23474   \n",
       "1    59.55    66.30    50.80    32.60   39.065     43.8     32.5     23384   \n",
       "2    56.25    55.42    21.23    44.52   39.065     43.8     32.5     23726   \n",
       "3    30.10    60.20    24.35    35.50   36.000     32.5     32.5     23869   \n",
       "\n",
       "   나성동_유동인구  다정동_유동인구  대평동_유동인구  도담동_유동인구  반곡동_유동인구  보람동_유동인구  새롬동_유동인구  \\\n",
       "0      5175     19325      7933     18915      9134     15837     19813   \n",
       "1      5966     21357      8263     18883      9052     15758     19606   \n",
       "2      5980     21301      8119     18901      9007     15581     19565   \n",
       "3      5753     21556      8230     18921      9224     15798     19884   \n",
       "\n",
       "   소담동_유동인구  아름동_유동인구  어진동_유동인구  종촌동_유동인구  한솔동_유동인구  해밀동_유동인구  고운동_x_y  \\\n",
       "0     13759     17987      6291     20567     14220      2478    38.85   \n",
       "1     15099     18055      6539     20540     14038      5526    25.90   \n",
       "2     14858     18204      6455     20464     13762      5548    24.72   \n",
       "3     15189     18581      6405     20572     13976      5580    30.52   \n",
       "\n",
       "   아름동_x_y  종촌동_x_y  도담동_x_y  어진동_x_y  다정동_x_y  새롬동_x_y  한솔동_x_y  대평동_x_y  \\\n",
       "0    45.45    17.70    21.70    26.00    40.70    13.20    30.10    49.30   \n",
       "1    34.65    22.00    12.75    17.35    44.85     1.35    59.55    66.30   \n",
       "2    37.42    13.49    12.07    24.50    17.45     8.03    56.25    55.42   \n",
       "3    23.40    12.00    15.70    23.40    11.90     4.10    30.10    60.20   \n",
       "\n",
       "   보람동_x_y  소담동_x_y  나성동_x_y  반곡동_x_y  해밀동_x_y  고운동_인구  아름동_인구  종촌동_인구  \\\n",
       "0    61.35    55.10   42.130     55.1     32.5   23474   17987   20567   \n",
       "1    50.80    32.60   39.065     43.8     32.5   23384   18055   20540   \n",
       "2    21.23    44.52   39.065     43.8     32.5   23726   18204   20464   \n",
       "3    24.35    35.50   36.000     32.5     32.5   23869   18581   20572   \n",
       "\n",
       "   도담동_인구  어진동_인구  다정동_인구  새롬동_인구  한솔동_인구  대평동_인구  보람동_인구  소담동_인구  나성동_인구  \\\n",
       "0   18915    6291   19325   19813   14220    7933   15837   13759    5175   \n",
       "1   18883    6539   21357   19606   14038    8263   15758   15099    5966   \n",
       "2   18901    6455   21301   19565   13762    8119   15581   14858    5980   \n",
       "3   18921    6405   21556   19884   13976    8230   15798   15189    5753   \n",
       "\n",
       "   반곡동_인구  해밀동_인구      고운동_x     아름동_x      종촌동_x      도담동_x      어진동_x  \\\n",
       "0    9134    2478   6.571429  6.519559   8.105263   9.036743   5.385330   \n",
       "1    9052    5526   7.822410  7.722772   9.907121   8.673978   4.632663   \n",
       "2    9007    5548   8.403361  7.631318   7.619048   7.568113   6.039650   \n",
       "3    9224    5580  10.594668  9.426628  12.525050  10.981535  11.120802   \n",
       "\n",
       "       다정동_x      새롬동_x     한솔동_x      대평동_x     보람동_x     소담동_x      나성동_x  \\\n",
       "0   5.619413   7.354555  7.155635   9.852217  6.342183  4.489338   5.471956   \n",
       "1   7.393484   8.559047  9.106830   9.703947  6.617647  7.500000   7.496653   \n",
       "2  11.177885  11.064278  6.486486  12.160000  7.636364  6.380638  12.457770   \n",
       "3  11.708483   9.925293  8.626761  10.876623  8.829864  9.564293  10.530859   \n",
       "\n",
       "      반곡동_x     해밀동_x  고운동_폐업률  아름동_폐업률  종촌동_폐업률  도담동_폐업률  어진동_폐업률  다정동_폐업률  \\\n",
       "0  2.034429  0.549451    38.85    45.45    17.70    21.70    26.00    40.70   \n",
       "1  3.692308  2.688172    25.90    34.65    22.00    12.75    17.35    44.85   \n",
       "2  5.722892  5.235602    24.72    37.42    13.49    12.07    24.50    17.45   \n",
       "3  6.427504  7.653061    30.52    23.40    12.00    15.70    23.40    11.90   \n",
       "\n",
       "   새롬동_폐업률  한솔동_폐업률  대평동_폐업률  보람동_폐업률  소담동_폐업률  나성동_폐업률  반곡동_폐업률  해밀동_폐업률  \\\n",
       "0    13.20    30.10    49.30    61.35    55.10   42.130     55.1     32.5   \n",
       "1     1.35    59.55    66.30    50.80    32.60   39.065     43.8     32.5   \n",
       "2     8.03    56.25    55.42    21.23    44.52   39.065     43.8     32.5   \n",
       "3     4.10    30.10    60.20    24.35    35.50   36.000     32.5     32.5   \n",
       "\n",
       "   고운동_sum  나성동_sum  다정동_sum  대평동_sum  도담동_sum  반곡동_sum  보람동_sum  새롬동_sum  \\\n",
       "0    38.85   42.130    40.70    49.30    21.70     55.1    61.35    13.20   \n",
       "1    25.90   39.065    44.85    66.30    12.75     43.8    50.80     1.35   \n",
       "2    24.72   39.065    17.45    55.42    12.07     43.8    21.23     8.03   \n",
       "3    30.52   36.000    11.90    60.20    15.70     32.5    24.35     4.10   \n",
       "\n",
       "   소담동_sum  아름동_sum  어진동_sum  종촌동_sum  한솔동_sum  해밀동_sum    가람동_총매출  \\\n",
       "0    55.10    45.45    26.00    17.70    30.10     32.5  7951753.0   \n",
       "1    32.60    34.65    17.35    22.00    59.55     32.5  7951753.0   \n",
       "2    44.52    37.42    24.50    13.49    56.25     32.5  7951753.0   \n",
       "3    35.50    23.40    23.40    12.00    30.10     32.5  7951753.0   \n",
       "\n",
       "      고운동_총매출      나성동_총매출  누리동_총매출  다솜동_총매출     다정동_총매출     대평동_총매출  \\\n",
       "0  82493380.0  184444748.0  13167.0      0.0  53051458.0  41695736.0   \n",
       "1  82493380.0  184444748.0  13167.0      0.0  53051458.0  41695736.0   \n",
       "2  82493380.0  184444748.0  13167.0      0.0  53051458.0  41695736.0   \n",
       "3  82493380.0  184444748.0  13167.0      0.0  53051458.0  41695736.0   \n",
       "\n",
       "      도담동_총매출     반곡동_총매출     보람동_총매출     산울동_총매출      새롬동_총매출     세종동_총매출  \\\n",
       "0  83618675.0  37869789.0  81744701.0  10780173.0  118263554.0  19036516.0   \n",
       "1  83618675.0  37869789.0  81744701.0  10780173.0  118263554.0  19036516.0   \n",
       "2  83618675.0  37869789.0  81744701.0  10780173.0  118263554.0  19036516.0   \n",
       "3  83618675.0  37869789.0  81744701.0  10780173.0  118263554.0  19036516.0   \n",
       "\n",
       "      소담동_총매출     아름동_총매출     어진동_총매출     종촌동_총매출    집현동_총매출   한별동_총매출  \\\n",
       "0  58703995.0  86855772.0  66472173.0  61676660.0  6979024.0  133915.0   \n",
       "1  58703995.0  86855772.0  66472173.0  61676660.0  6979024.0  133915.0   \n",
       "2  58703995.0  86855772.0  66472173.0  61676660.0  6979024.0  133915.0   \n",
       "3  58703995.0  86855772.0  66472173.0  61676660.0  6979024.0  133915.0   \n",
       "\n",
       "      한솔동_총매출   합강동_총매출     해밀동_총매출  고운동_mean  나성동_mean  다정동_mean  대평동_mean  \\\n",
       "0  52452261.0  174982.0  11743023.0     38.85    42.130     40.70     49.30   \n",
       "1  52452261.0  174982.0  11743023.0     25.90    39.065     44.85     66.30   \n",
       "2  52452261.0  174982.0  11743023.0     24.72    39.065     17.45     55.42   \n",
       "3  52452261.0  174982.0  11743023.0     30.52    36.000     11.90     60.20   \n",
       "\n",
       "   도담동_mean  반곡동_mean  보람동_mean  새롬동_mean  소담동_mean  아름동_mean  어진동_mean  \\\n",
       "0     21.70      55.1     61.35     13.20     55.10     45.45     26.00   \n",
       "1     12.75      43.8     50.80      1.35     32.60     34.65     17.35   \n",
       "2     12.07      43.8     21.23      8.03     44.52     37.42     24.50   \n",
       "3     15.70      32.5     24.35      4.10     35.50     23.40     23.40   \n",
       "\n",
       "   종촌동_mean  한솔동_mean  해밀동_mean      가람동_매출평균      고운동_매출평균      나성동_매출평균  \\\n",
       "0     17.70     30.10      32.5  76459.163462  14306.864377  19036.510269   \n",
       "1     22.00     59.55      32.5  76459.163462  14306.864377  19036.510269   \n",
       "2     13.49     56.25      32.5  76459.163462  14306.864377  19036.510269   \n",
       "3     12.00     30.10      32.5  76459.163462  14306.864377  19036.510269   \n",
       "\n",
       "   누리동_매출평균  다솜동_매출평균      다정동_매출평균     대평동_매출평균      도담동_매출평균      반곡동_매출평균  \\\n",
       "0    2194.5       0.0  15080.005117  16351.26902  16470.095529  17379.435062   \n",
       "1    2194.5       0.0  15080.005117  16351.26902  16470.095529  17379.435062   \n",
       "2    2194.5       0.0  15080.005117  16351.26902  16470.095529  17379.435062   \n",
       "3    2194.5       0.0  15080.005117  16351.26902  16470.095529  17379.435062   \n",
       "\n",
       "       보람동_매출평균      산울동_매출평균      새롬동_매출평균      세종동_매출평균      소담동_매출평균  \\\n",
       "0  13878.557046  49908.208333  19766.597693  13646.248029  14276.263375   \n",
       "1  13878.557046  49908.208333  19766.597693  13646.248029  14276.263375   \n",
       "2  13878.557046  49908.208333  19766.597693  13646.248029  14276.263375   \n",
       "3  13878.557046  49908.208333  19766.597693  13646.248029  14276.263375   \n",
       "\n",
       "       아름동_매출평균     어진동_매출평균      종촌동_매출평균      집현동_매출평균      한별동_매출평균  \\\n",
       "0  19005.639387  16684.78238  16295.022457  11095.427663  11159.583333   \n",
       "1  19005.639387  16684.78238  16295.022457  11095.427663  11159.583333   \n",
       "2  19005.639387  16684.78238  16295.022457  11095.427663  11159.583333   \n",
       "3  19005.639387  16684.78238  16295.022457  11095.427663  11159.583333   \n",
       "\n",
       "       한솔동_매출평균      합강동_매출평균      해밀동_매출평균  \n",
       "0  16725.848533  29163.666667  17345.676514  \n",
       "1  16725.848533  29163.666667  17345.676514  \n",
       "2  16725.848533  29163.666667  17345.676514  \n",
       "3  16725.848533  29163.666667  17345.676514  "
      ]
     },
     "execution_count": 188,
     "metadata": {},
     "output_type": "execute_result"
    }
   ],
   "source": [
    "merged_df"
   ]
  },
  {
   "cell_type": "code",
   "execution_count": null,
   "metadata": {},
   "outputs": [],
   "source": [
    "import numpy as np\n",
    "import pandas as pd\n",
    "from sklearn.preprocessing import MinMaxScaler\n",
    "import tensorflow.compat.v1 as tf\n",
    "tf.disable_v2_behavior()\n",
    "from tensorflow.keras.models import Sequential\n",
    "from tensorflow.keras.layers import LSTM, Dense\n",
    "\n",
    "# 데이터 전처리\n",
    "merged_df = merged_df.fillna(0)  # 결측치를 0으로 채움\n",
    "scaler = MinMaxScaler()\n",
    "scaled_data = scaler.fit_transform(merged_df.drop(columns=['Year']))\n",
    "\n",
    "# 입력 데이터와 출력 데이터 생성\n",
    "X = []\n",
    "y = []\n",
    "time_steps = 2  # 시계열 길이 설정\n",
    "\n",
    "for i in range(len(scaled_data) - time_steps):\n",
    "    X.append(scaled_data[i:i + time_steps])\n",
    "    y.append(scaled_data[i + time_steps, :])  # 모든 공실률 값 예측\n",
    "\n",
    "X = np.array(X)\n",
    "y = np.array(y)\n",
    "\n",
    "# 모델 구성\n",
    "model = Sequential()\n",
    "model.add(LSTM(units=50, return_sequences=True, input_shape=(X.shape[1], X.shape[2])))\n",
    "model.add(LSTM(units=50))\n",
    "model.add(Dense(units=y.shape[1]))  # 모든 행정동의 공실률을 예측하도록 출력 뉴런 수 조정\n",
    "\n",
    "model.compile(optimizer='adam', loss='mean_squared_error')\n",
    "\n",
    "# 모델 학습과정에서 loss를 저장하기 위해 history 콜백 사용\n",
    "history = model.fit(X, y, epochs=100, batch_size=32, validation_split=0.2)\n",
    "\n",
    "# 모델 예측\n",
    "predicted_vacancy_rates = model.predict(X)\n",
    "\n",
    "# 예측된 값을 원래 스케일로 되돌리기 위한 준비\n",
    "# 예측된 값에 빈 컬럼을 추가하여 원래 피처 수와 동일하게 맞춤\n",
    "predicted_vacancy_rates_full = np.zeros((predicted_vacancy_rates.shape[0], scaled_data.shape[1]))\n",
    "predicted_vacancy_rates_full[:, :predicted_vacancy_rates.shape[1]] = predicted_vacancy_rates\n",
    "\n",
    "# 예측된 값을 원래 스케일로 되돌림\n",
    "predicted_vacancy_rates_inversed = scaler.inverse_transform(predicted_vacancy_rates_full)\n",
    "\n",
    "# 첫 번째 피처만 가져오기 (공실률 예측 결과)\n",
    "predicted_vacancy_rates_final = predicted_vacancy_rates_inversed[:, :y.shape[1]]"
   ]
  },
  {
   "cell_type": "code",
   "execution_count": 199,
   "metadata": {},
   "outputs": [
    {
     "data": {
      "application/vnd.plotly.v1+json": {
       "config": {
        "plotlyServerURL": "https://plot.ly"
       },
       "data": [
        {
         "mode": "lines",
         "name": "Training Loss",
         "type": "scatter",
         "x": [
          1,
          2,
          3,
          4,
          5,
          6,
          7,
          8,
          9,
          10,
          11,
          12,
          13,
          14,
          15,
          16,
          17,
          18,
          19,
          20,
          21,
          22,
          23,
          24,
          25,
          26,
          27,
          28,
          29,
          30,
          31,
          32,
          33,
          34,
          35,
          36,
          37,
          38,
          39,
          40,
          41,
          42,
          43,
          44,
          45,
          46,
          47,
          48,
          49,
          50,
          51,
          52,
          53,
          54,
          55,
          56,
          57,
          58,
          59,
          60,
          61,
          62,
          63,
          64,
          65,
          66,
          67,
          68,
          69,
          70,
          71,
          72,
          73,
          74,
          75,
          76,
          77,
          78,
          79,
          80,
          81,
          82,
          83,
          84,
          85,
          86,
          87,
          88,
          89,
          90,
          91,
          92,
          93,
          94,
          95,
          96,
          97,
          98,
          99,
          100
         ],
         "y": [
          0.20167885720729828,
          0.19779835641384125,
          0.19394120573997498,
          0.18991157412528992,
          0.18556340038776398,
          0.18080700933933258,
          0.17557263374328613,
          0.1697954535484314,
          0.16342149674892426,
          0.15641364455223083,
          0.14875079691410065,
          0.14043337106704712,
          0.13149043917655945,
          0.12198412418365479,
          0.11201196908950806,
          0.10171007364988327,
          0.09125696122646332,
          0.08086519688367844,
          0.0707683116197586,
          0.061215389519929886,
          0.05245880037546158,
          0.044718366116285324,
          0.038129936903715134,
          0.032703835517168045,
          0.028316402807831764,
          0.024744609370827675,
          0.021732272580266,
          0.01905873417854309,
          0.016574028879404068,
          0.014200077392160892,
          0.011926108039915562,
          0.009788878262043,
          0.00784263201057911,
          0.0061422004364430904,
          0.004736915696412325,
          0.0036566220223903656,
          0.002899583661928773,
          0.002431766828522086,
          0.002196836518123746,
          0.0021261943038553,
          0.00215032696723938,
          0.0022095765452831984,
          0.002259330591186881,
          0.002270808909088373,
          0.002230030484497547,
          0.0021356744691729546,
          0.0019959607161581516,
          0.001824860810302198,
          0.0016383897745981812,
          0.0014517195522785187,
          0.0012770097237080336,
          0.001122149871662259,
          0.000990294269286096,
          0.0008807338890619576,
          0.0007903542718850076,
          0.0007147263968363404,
          0.000648975488729775,
          0.0005888435989618301,
          0.0005314180161803961,
          0.00047532282769680023,
          0.0004206302110105753,
          0.00036839558742940426,
          0.00032017999910749495,
          0.0002775433531496674,
          0.00024152279365807772,
          0.00021234989981167018,
          0.0001894785527838394,
          0.00017182565352413803,
          0.0001580634998390451,
          0.00014683509652968496,
          0.0001369703095406294,
          0.00012760267418343574,
          0.00011819959036074579,
          0.000108577027276624,
          0.00009882865560939535,
          0.0000891887248144485,
          0.00007995404303073883,
          0.00007143685797927901,
          0.00006386094173649326,
          0.000057304314395878464,
          0.000051715636800508946,
          0.00004693112714448944,
          0.000042712781578302383,
          0.00003883300814777613,
          0.00003512113107717596,
          0.000031487194064538926,
          0.00002792937812046148,
          0.000024522731109755114,
          0.000021386324078775942,
          0.00001863654688349925,
          0.000016352239981642924,
          0.000014551973436027765,
          0.000013191906873544212,
          0.000012182840691821184,
          0.000011410088518459816,
          0.000010756990377558395,
          0.000010130712325917557,
          0.000009474998478253838,
          0.00000877060756465653,
          0.000008025958777579945
         ]
        },
        {
         "mode": "lines",
         "name": "Validation Loss",
         "type": "scatter",
         "x": [
          1,
          2,
          3,
          4,
          5,
          6,
          7,
          8,
          9,
          10,
          11,
          12,
          13,
          14,
          15,
          16,
          17,
          18,
          19,
          20,
          21,
          22,
          23,
          24,
          25,
          26,
          27,
          28,
          29,
          30,
          31,
          32,
          33,
          34,
          35,
          36,
          37,
          38,
          39,
          40,
          41,
          42,
          43,
          44,
          45,
          46,
          47,
          48,
          49,
          50,
          51,
          52,
          53,
          54,
          55,
          56,
          57,
          58,
          59,
          60,
          61,
          62,
          63,
          64,
          65,
          66,
          67,
          68,
          69,
          70,
          71,
          72,
          73,
          74,
          75,
          76,
          77,
          78,
          79,
          80,
          81,
          82,
          83,
          84,
          85,
          86,
          87,
          88,
          89,
          90,
          91,
          92,
          93,
          94,
          95,
          96,
          97,
          98,
          99,
          100
         ],
         "y": [
          0.2637551426887512,
          0.2614268660545349,
          0.25894400477409363,
          0.2561910152435303,
          0.2530997395515442,
          0.24961967766284943,
          0.24570666253566742,
          0.24132107198238373,
          0.2364535629749298,
          0.2311280518770218,
          0.22537432610988617,
          0.21925155818462372,
          0.21284161508083344,
          0.20623204112052917,
          0.19957414269447327,
          0.1931086778640747,
          0.1870916336774826,
          0.18174788355827332,
          0.17738087475299835,
          0.17427872121334076,
          0.17252570390701294,
          0.17222259938716888,
          0.1731206625699997,
          0.17470219731330872,
          0.176611065864563,
          0.17837445437908173,
          0.179820716381073,
          0.18092003464698792,
          0.18153592944145203,
          0.18178538978099823,
          0.18154926598072052,
          0.18090415000915527,
          0.18001826107501984,
          0.17894606292247772,
          0.1778837889432907,
          0.1769261211156845,
          0.17604705691337585,
          0.1753057986497879,
          0.17470479011535645,
          0.1741694211959839,
          0.17370399832725525,
          0.17330455780029297,
          0.17290279269218445,
          0.17249110341072083,
          0.17209941148757935,
          0.17171157896518707,
          0.17133735120296478,
          0.1710212230682373,
          0.17074723541736603,
          0.1704789400100708,
          0.17022357881069183,
          0.16997046768665314,
          0.16969914734363556,
          0.16944369673728943,
          0.16922785341739655,
          0.16903267800807953,
          0.16886283457279205,
          0.16871491074562073,
          0.16855385899543762,
          0.16838394105434418,
          0.16822423040866852,
          0.1680677831172943,
          0.16793109476566315,
          0.16783377528190613,
          0.16776356101036072,
          0.16772609949111938,
          0.16773483157157898,
          0.16777722537517548,
          0.16785338521003723,
          0.1679675281047821,
          0.16809959709644318,
          0.16824376583099365,
          0.16840381920337677,
          0.16856558620929718,
          0.1687271147966385,
          0.16888797283172607,
          0.16902737319469452,
          0.1691385954618454,
          0.16922031342983246,
          0.16926437616348267,
          0.16928423941135406,
          0.16929084062576294,
          0.16928377747535706,
          0.1692725419998169,
          0.16925284266471863,
          0.16921822726726532,
          0.1691751778125763,
          0.16911986470222473,
          0.1690567284822464,
          0.16899386048316956,
          0.16892915964126587,
          0.16887164115905762,
          0.1688259094953537,
          0.16879285871982574,
          0.16878008842468262,
          0.1687823086977005,
          0.16879698634147644,
          0.16882170736789703,
          0.16884806752204895,
          0.16887784004211426
         ]
        }
       ],
       "layout": {
        "legend": {
         "x": 0,
         "y": 1
        },
        "template": {
         "data": {
          "bar": [
           {
            "error_x": {
             "color": "#2a3f5f"
            },
            "error_y": {
             "color": "#2a3f5f"
            },
            "marker": {
             "line": {
              "color": "#E5ECF6",
              "width": 0.5
             },
             "pattern": {
              "fillmode": "overlay",
              "size": 10,
              "solidity": 0.2
             }
            },
            "type": "bar"
           }
          ],
          "barpolar": [
           {
            "marker": {
             "line": {
              "color": "#E5ECF6",
              "width": 0.5
             },
             "pattern": {
              "fillmode": "overlay",
              "size": 10,
              "solidity": 0.2
             }
            },
            "type": "barpolar"
           }
          ],
          "carpet": [
           {
            "aaxis": {
             "endlinecolor": "#2a3f5f",
             "gridcolor": "white",
             "linecolor": "white",
             "minorgridcolor": "white",
             "startlinecolor": "#2a3f5f"
            },
            "baxis": {
             "endlinecolor": "#2a3f5f",
             "gridcolor": "white",
             "linecolor": "white",
             "minorgridcolor": "white",
             "startlinecolor": "#2a3f5f"
            },
            "type": "carpet"
           }
          ],
          "choropleth": [
           {
            "colorbar": {
             "outlinewidth": 0,
             "ticks": ""
            },
            "type": "choropleth"
           }
          ],
          "contour": [
           {
            "colorbar": {
             "outlinewidth": 0,
             "ticks": ""
            },
            "colorscale": [
             [
              0,
              "#0d0887"
             ],
             [
              0.1111111111111111,
              "#46039f"
             ],
             [
              0.2222222222222222,
              "#7201a8"
             ],
             [
              0.3333333333333333,
              "#9c179e"
             ],
             [
              0.4444444444444444,
              "#bd3786"
             ],
             [
              0.5555555555555556,
              "#d8576b"
             ],
             [
              0.6666666666666666,
              "#ed7953"
             ],
             [
              0.7777777777777778,
              "#fb9f3a"
             ],
             [
              0.8888888888888888,
              "#fdca26"
             ],
             [
              1,
              "#f0f921"
             ]
            ],
            "type": "contour"
           }
          ],
          "contourcarpet": [
           {
            "colorbar": {
             "outlinewidth": 0,
             "ticks": ""
            },
            "type": "contourcarpet"
           }
          ],
          "heatmap": [
           {
            "colorbar": {
             "outlinewidth": 0,
             "ticks": ""
            },
            "colorscale": [
             [
              0,
              "#0d0887"
             ],
             [
              0.1111111111111111,
              "#46039f"
             ],
             [
              0.2222222222222222,
              "#7201a8"
             ],
             [
              0.3333333333333333,
              "#9c179e"
             ],
             [
              0.4444444444444444,
              "#bd3786"
             ],
             [
              0.5555555555555556,
              "#d8576b"
             ],
             [
              0.6666666666666666,
              "#ed7953"
             ],
             [
              0.7777777777777778,
              "#fb9f3a"
             ],
             [
              0.8888888888888888,
              "#fdca26"
             ],
             [
              1,
              "#f0f921"
             ]
            ],
            "type": "heatmap"
           }
          ],
          "heatmapgl": [
           {
            "colorbar": {
             "outlinewidth": 0,
             "ticks": ""
            },
            "colorscale": [
             [
              0,
              "#0d0887"
             ],
             [
              0.1111111111111111,
              "#46039f"
             ],
             [
              0.2222222222222222,
              "#7201a8"
             ],
             [
              0.3333333333333333,
              "#9c179e"
             ],
             [
              0.4444444444444444,
              "#bd3786"
             ],
             [
              0.5555555555555556,
              "#d8576b"
             ],
             [
              0.6666666666666666,
              "#ed7953"
             ],
             [
              0.7777777777777778,
              "#fb9f3a"
             ],
             [
              0.8888888888888888,
              "#fdca26"
             ],
             [
              1,
              "#f0f921"
             ]
            ],
            "type": "heatmapgl"
           }
          ],
          "histogram": [
           {
            "marker": {
             "pattern": {
              "fillmode": "overlay",
              "size": 10,
              "solidity": 0.2
             }
            },
            "type": "histogram"
           }
          ],
          "histogram2d": [
           {
            "colorbar": {
             "outlinewidth": 0,
             "ticks": ""
            },
            "colorscale": [
             [
              0,
              "#0d0887"
             ],
             [
              0.1111111111111111,
              "#46039f"
             ],
             [
              0.2222222222222222,
              "#7201a8"
             ],
             [
              0.3333333333333333,
              "#9c179e"
             ],
             [
              0.4444444444444444,
              "#bd3786"
             ],
             [
              0.5555555555555556,
              "#d8576b"
             ],
             [
              0.6666666666666666,
              "#ed7953"
             ],
             [
              0.7777777777777778,
              "#fb9f3a"
             ],
             [
              0.8888888888888888,
              "#fdca26"
             ],
             [
              1,
              "#f0f921"
             ]
            ],
            "type": "histogram2d"
           }
          ],
          "histogram2dcontour": [
           {
            "colorbar": {
             "outlinewidth": 0,
             "ticks": ""
            },
            "colorscale": [
             [
              0,
              "#0d0887"
             ],
             [
              0.1111111111111111,
              "#46039f"
             ],
             [
              0.2222222222222222,
              "#7201a8"
             ],
             [
              0.3333333333333333,
              "#9c179e"
             ],
             [
              0.4444444444444444,
              "#bd3786"
             ],
             [
              0.5555555555555556,
              "#d8576b"
             ],
             [
              0.6666666666666666,
              "#ed7953"
             ],
             [
              0.7777777777777778,
              "#fb9f3a"
             ],
             [
              0.8888888888888888,
              "#fdca26"
             ],
             [
              1,
              "#f0f921"
             ]
            ],
            "type": "histogram2dcontour"
           }
          ],
          "mesh3d": [
           {
            "colorbar": {
             "outlinewidth": 0,
             "ticks": ""
            },
            "type": "mesh3d"
           }
          ],
          "parcoords": [
           {
            "line": {
             "colorbar": {
              "outlinewidth": 0,
              "ticks": ""
             }
            },
            "type": "parcoords"
           }
          ],
          "pie": [
           {
            "automargin": true,
            "type": "pie"
           }
          ],
          "scatter": [
           {
            "fillpattern": {
             "fillmode": "overlay",
             "size": 10,
             "solidity": 0.2
            },
            "type": "scatter"
           }
          ],
          "scatter3d": [
           {
            "line": {
             "colorbar": {
              "outlinewidth": 0,
              "ticks": ""
             }
            },
            "marker": {
             "colorbar": {
              "outlinewidth": 0,
              "ticks": ""
             }
            },
            "type": "scatter3d"
           }
          ],
          "scattercarpet": [
           {
            "marker": {
             "colorbar": {
              "outlinewidth": 0,
              "ticks": ""
             }
            },
            "type": "scattercarpet"
           }
          ],
          "scattergeo": [
           {
            "marker": {
             "colorbar": {
              "outlinewidth": 0,
              "ticks": ""
             }
            },
            "type": "scattergeo"
           }
          ],
          "scattergl": [
           {
            "marker": {
             "colorbar": {
              "outlinewidth": 0,
              "ticks": ""
             }
            },
            "type": "scattergl"
           }
          ],
          "scattermapbox": [
           {
            "marker": {
             "colorbar": {
              "outlinewidth": 0,
              "ticks": ""
             }
            },
            "type": "scattermapbox"
           }
          ],
          "scatterpolar": [
           {
            "marker": {
             "colorbar": {
              "outlinewidth": 0,
              "ticks": ""
             }
            },
            "type": "scatterpolar"
           }
          ],
          "scatterpolargl": [
           {
            "marker": {
             "colorbar": {
              "outlinewidth": 0,
              "ticks": ""
             }
            },
            "type": "scatterpolargl"
           }
          ],
          "scatterternary": [
           {
            "marker": {
             "colorbar": {
              "outlinewidth": 0,
              "ticks": ""
             }
            },
            "type": "scatterternary"
           }
          ],
          "surface": [
           {
            "colorbar": {
             "outlinewidth": 0,
             "ticks": ""
            },
            "colorscale": [
             [
              0,
              "#0d0887"
             ],
             [
              0.1111111111111111,
              "#46039f"
             ],
             [
              0.2222222222222222,
              "#7201a8"
             ],
             [
              0.3333333333333333,
              "#9c179e"
             ],
             [
              0.4444444444444444,
              "#bd3786"
             ],
             [
              0.5555555555555556,
              "#d8576b"
             ],
             [
              0.6666666666666666,
              "#ed7953"
             ],
             [
              0.7777777777777778,
              "#fb9f3a"
             ],
             [
              0.8888888888888888,
              "#fdca26"
             ],
             [
              1,
              "#f0f921"
             ]
            ],
            "type": "surface"
           }
          ],
          "table": [
           {
            "cells": {
             "fill": {
              "color": "#EBF0F8"
             },
             "line": {
              "color": "white"
             }
            },
            "header": {
             "fill": {
              "color": "#C8D4E3"
             },
             "line": {
              "color": "white"
             }
            },
            "type": "table"
           }
          ]
         },
         "layout": {
          "annotationdefaults": {
           "arrowcolor": "#2a3f5f",
           "arrowhead": 0,
           "arrowwidth": 1
          },
          "autotypenumbers": "strict",
          "coloraxis": {
           "colorbar": {
            "outlinewidth": 0,
            "ticks": ""
           }
          },
          "colorscale": {
           "diverging": [
            [
             0,
             "#8e0152"
            ],
            [
             0.1,
             "#c51b7d"
            ],
            [
             0.2,
             "#de77ae"
            ],
            [
             0.3,
             "#f1b6da"
            ],
            [
             0.4,
             "#fde0ef"
            ],
            [
             0.5,
             "#f7f7f7"
            ],
            [
             0.6,
             "#e6f5d0"
            ],
            [
             0.7,
             "#b8e186"
            ],
            [
             0.8,
             "#7fbc41"
            ],
            [
             0.9,
             "#4d9221"
            ],
            [
             1,
             "#276419"
            ]
           ],
           "sequential": [
            [
             0,
             "#0d0887"
            ],
            [
             0.1111111111111111,
             "#46039f"
            ],
            [
             0.2222222222222222,
             "#7201a8"
            ],
            [
             0.3333333333333333,
             "#9c179e"
            ],
            [
             0.4444444444444444,
             "#bd3786"
            ],
            [
             0.5555555555555556,
             "#d8576b"
            ],
            [
             0.6666666666666666,
             "#ed7953"
            ],
            [
             0.7777777777777778,
             "#fb9f3a"
            ],
            [
             0.8888888888888888,
             "#fdca26"
            ],
            [
             1,
             "#f0f921"
            ]
           ],
           "sequentialminus": [
            [
             0,
             "#0d0887"
            ],
            [
             0.1111111111111111,
             "#46039f"
            ],
            [
             0.2222222222222222,
             "#7201a8"
            ],
            [
             0.3333333333333333,
             "#9c179e"
            ],
            [
             0.4444444444444444,
             "#bd3786"
            ],
            [
             0.5555555555555556,
             "#d8576b"
            ],
            [
             0.6666666666666666,
             "#ed7953"
            ],
            [
             0.7777777777777778,
             "#fb9f3a"
            ],
            [
             0.8888888888888888,
             "#fdca26"
            ],
            [
             1,
             "#f0f921"
            ]
           ]
          },
          "colorway": [
           "#636efa",
           "#EF553B",
           "#00cc96",
           "#ab63fa",
           "#FFA15A",
           "#19d3f3",
           "#FF6692",
           "#B6E880",
           "#FF97FF",
           "#FECB52"
          ],
          "font": {
           "color": "#2a3f5f"
          },
          "geo": {
           "bgcolor": "white",
           "lakecolor": "white",
           "landcolor": "#E5ECF6",
           "showlakes": true,
           "showland": true,
           "subunitcolor": "white"
          },
          "hoverlabel": {
           "align": "left"
          },
          "hovermode": "closest",
          "mapbox": {
           "style": "light"
          },
          "paper_bgcolor": "white",
          "plot_bgcolor": "#E5ECF6",
          "polar": {
           "angularaxis": {
            "gridcolor": "white",
            "linecolor": "white",
            "ticks": ""
           },
           "bgcolor": "#E5ECF6",
           "radialaxis": {
            "gridcolor": "white",
            "linecolor": "white",
            "ticks": ""
           }
          },
          "scene": {
           "xaxis": {
            "backgroundcolor": "#E5ECF6",
            "gridcolor": "white",
            "gridwidth": 2,
            "linecolor": "white",
            "showbackground": true,
            "ticks": "",
            "zerolinecolor": "white"
           },
           "yaxis": {
            "backgroundcolor": "#E5ECF6",
            "gridcolor": "white",
            "gridwidth": 2,
            "linecolor": "white",
            "showbackground": true,
            "ticks": "",
            "zerolinecolor": "white"
           },
           "zaxis": {
            "backgroundcolor": "#E5ECF6",
            "gridcolor": "white",
            "gridwidth": 2,
            "linecolor": "white",
            "showbackground": true,
            "ticks": "",
            "zerolinecolor": "white"
           }
          },
          "shapedefaults": {
           "line": {
            "color": "#2a3f5f"
           }
          },
          "ternary": {
           "aaxis": {
            "gridcolor": "white",
            "linecolor": "white",
            "ticks": ""
           },
           "baxis": {
            "gridcolor": "white",
            "linecolor": "white",
            "ticks": ""
           },
           "bgcolor": "#E5ECF6",
           "caxis": {
            "gridcolor": "white",
            "linecolor": "white",
            "ticks": ""
           }
          },
          "title": {
           "x": 0.05
          },
          "xaxis": {
           "automargin": true,
           "gridcolor": "white",
           "linecolor": "white",
           "ticks": "",
           "title": {
            "standoff": 15
           },
           "zerolinecolor": "white",
           "zerolinewidth": 2
          },
          "yaxis": {
           "automargin": true,
           "gridcolor": "white",
           "linecolor": "white",
           "ticks": "",
           "title": {
            "standoff": 15
           },
           "zerolinecolor": "white",
           "zerolinewidth": 2
          }
         }
        },
        "title": {
         "text": "Model Loss"
        },
        "xaxis": {
         "title": {
          "text": "Epoch"
         }
        },
        "yaxis": {
         "title": {
          "text": "Loss"
         }
        }
       }
      }
     },
     "metadata": {},
     "output_type": "display_data"
    }
   ],
   "source": [
    "# 학습 과정 시각화 (loss 및 val_loss)\n",
    "loss_trace = go.Scatter(\n",
    "    x=list(range(1, len(history.history['loss']) + 1)),\n",
    "    y=history.history['loss'],\n",
    "    mode='lines',\n",
    "    name='Training Loss'\n",
    ")\n",
    "\n",
    "val_loss_trace = go.Scatter(\n",
    "    x=list(range(1, len(history.history['val_loss']) + 1)),\n",
    "    y=history.history['val_loss'],\n",
    "    mode='lines',\n",
    "    name='Validation Loss'\n",
    ")\n",
    "\n",
    "layout = go.Layout(\n",
    "    title='Model Loss',\n",
    "    xaxis=dict(title='Epoch'),\n",
    "    yaxis=dict(title='Loss'),\n",
    "    legend=dict(x=0, y=1)\n",
    ")\n",
    "\n",
    "fig = go.Figure(data=[loss_trace, val_loss_trace], layout=layout)\n",
    "\n",
    "# Display plot\n",
    "fig.show()"
   ]
  },
  {
   "cell_type": "code",
   "execution_count": 191,
   "metadata": {},
   "outputs": [
    {
     "data": {
      "text/html": [
       "<div>\n",
       "<style scoped>\n",
       "    .dataframe tbody tr th:only-of-type {\n",
       "        vertical-align: middle;\n",
       "    }\n",
       "\n",
       "    .dataframe tbody tr th {\n",
       "        vertical-align: top;\n",
       "    }\n",
       "\n",
       "    .dataframe thead th {\n",
       "        text-align: right;\n",
       "    }\n",
       "</style>\n",
       "<table border=\"1\" class=\"dataframe\">\n",
       "  <thead>\n",
       "    <tr style=\"text-align: right;\">\n",
       "      <th></th>\n",
       "      <th>Year</th>\n",
       "      <th>고운동</th>\n",
       "      <th>아름동</th>\n",
       "      <th>종촌동</th>\n",
       "      <th>도담동</th>\n",
       "      <th>어진동</th>\n",
       "      <th>다정동</th>\n",
       "      <th>새롬동</th>\n",
       "      <th>한솔동</th>\n",
       "      <th>보람동</th>\n",
       "      <th>소담동</th>\n",
       "      <th>나성동</th>\n",
       "      <th>반곡동</th>\n",
       "      <th>해밀동</th>\n",
       "    </tr>\n",
       "  </thead>\n",
       "  <tbody>\n",
       "    <tr>\n",
       "      <th>0</th>\n",
       "      <td>2024</td>\n",
       "      <td>24.98</td>\n",
       "      <td>37.28</td>\n",
       "      <td>13.70</td>\n",
       "      <td>12.00</td>\n",
       "      <td>24.54</td>\n",
       "      <td>17.82</td>\n",
       "      <td>8.01</td>\n",
       "      <td>55.72</td>\n",
       "      <td>55.53</td>\n",
       "      <td>20.19</td>\n",
       "      <td>44.77</td>\n",
       "      <td>39.09</td>\n",
       "      <td>43.73</td>\n",
       "    </tr>\n",
       "    <tr>\n",
       "      <th>1</th>\n",
       "      <td>2025</td>\n",
       "      <td>30.47</td>\n",
       "      <td>23.39</td>\n",
       "      <td>11.85</td>\n",
       "      <td>15.75</td>\n",
       "      <td>23.34</td>\n",
       "      <td>11.91</td>\n",
       "      <td>4.11</td>\n",
       "      <td>30.48</td>\n",
       "      <td>60.07</td>\n",
       "      <td>25.20</td>\n",
       "      <td>35.37</td>\n",
       "      <td>35.91</td>\n",
       "      <td>32.61</td>\n",
       "    </tr>\n",
       "  </tbody>\n",
       "</table>\n",
       "</div>"
      ],
      "text/plain": [
       "   Year    고운동    아름동    종촌동    도담동    어진동    다정동   새롬동    한솔동    보람동    소담동  \\\n",
       "0  2024  24.98  37.28  13.70  12.00  24.54  17.82  8.01  55.72  55.53  20.19   \n",
       "1  2025  30.47  23.39  11.85  15.75  23.34  11.91  4.11  30.48  60.07  25.20   \n",
       "\n",
       "     나성동    반곡동    해밀동  \n",
       "0  44.77  39.09  43.73  \n",
       "1  35.37  35.91  32.61  "
      ]
     },
     "execution_count": 191,
     "metadata": {},
     "output_type": "execute_result"
    }
   ],
   "source": [
    "# Assuming column names correspond to the vacancy rate features\n",
    "vacancy_columns = ['고운동', '아름동', '종촌동', '도담동', '어진동', '다정동', '새롬동', '한솔동', '보람동', '소담동', '나성동', '반곡동', '해밀동']\n",
    "\n",
    "# Extracting the last two rows for 2024 and 2025\n",
    "predicted_2024_2025 = predicted_vacancy_rates_final[-2:, :len(vacancy_columns)]\n",
    "\n",
    "# Creating a DataFrame with appropriate year labels\n",
    "predicted_df = pd.DataFrame(predicted_2024_2025, columns=vacancy_columns)\n",
    "predicted_df['Year'] = [2024, 2025]\n",
    "\n",
    "# Rearranging columns to have 'Year' first\n",
    "predicted_df = predicted_df[['Year'] + vacancy_columns]\n",
    "\n",
    "# Rounding the predictions to two decimal places\n",
    "predicted_df = predicted_df.round(2)\n",
    "predicted_df"
   ]
  },
  {
   "cell_type": "code",
   "execution_count": 203,
   "metadata": {},
   "outputs": [],
   "source": [
    "predicted_df.to_csv(\"predicted_vacancy_rates.csv\", index=False)"
   ]
  }
 ],
 "metadata": {
  "kernelspec": {
   "display_name": "Python 3.8.16 ('GIS')",
   "language": "python",
   "name": "python3"
  },
  "language_info": {
   "codemirror_mode": {
    "name": "ipython",
    "version": 3
   },
   "file_extension": ".py",
   "mimetype": "text/x-python",
   "name": "python",
   "nbconvert_exporter": "python",
   "pygments_lexer": "ipython3",
   "version": "3.8.16"
  },
  "orig_nbformat": 4,
  "vscode": {
   "interpreter": {
    "hash": "4c2ab1d16d29501e38a3ee1978e97de755e76d74519759c8e0a07f6b08052ab1"
   }
  }
 },
 "nbformat": 4,
 "nbformat_minor": 2
}
