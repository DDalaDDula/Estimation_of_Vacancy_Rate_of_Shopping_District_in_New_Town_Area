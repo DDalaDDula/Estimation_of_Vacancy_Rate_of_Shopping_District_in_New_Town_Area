{
 "cells": [
  {
   "attachments": {},
   "cell_type": "markdown",
   "metadata": {},
   "source": [
    "## 기본설정 및 함수정의"
   ]
  },
  {
   "cell_type": "code",
   "execution_count": 1,
   "metadata": {},
   "outputs": [
    {
     "name": "stderr",
     "output_type": "stream",
     "text": [
      "c:\\Users\\HJK\\anaconda3\\envs\\GIS\\lib\\site-packages\\geopandas\\_compat.py:124: UserWarning:\n",
      "\n",
      "The Shapely GEOS version (3.11.2-CAPI-1.17.2) is incompatible with the GEOS version PyGEOS was compiled with (3.10.4-CAPI-1.16.2). Conversions between both will be slow.\n",
      "\n",
      "C:\\Users\\HJK\\AppData\\Local\\Temp\\ipykernel_20392\\1290931384.py:23: DeprecationWarning:\n",
      "\n",
      "Shapely 2.0 is installed, but because PyGEOS is also installed, GeoPandas still uses PyGEOS by default. However, starting with version 0.14, the default will switch to Shapely. To force to use Shapely 2.0 now, you can either uninstall PyGEOS or set the environment variable USE_PYGEOS=0. You can do this before starting the Python process, or in your code before importing geopandas:\n",
      "\n",
      "import os\n",
      "os.environ['USE_PYGEOS'] = '0'\n",
      "import geopandas\n",
      "\n",
      "In the next release, GeoPandas will switch to using Shapely by default, even if PyGEOS is installed. If you only have PyGEOS installed to get speed-ups, this switch should be smooth. However, if you are using PyGEOS directly (calling PyGEOS functions on geometries from GeoPandas), this will then stop working and you are encouraged to migrate from PyGEOS to Shapely 2.0 (https://shapely.readthedocs.io/en/latest/migration_pygeos.html).\n",
      "\n"
     ]
    }
   ],
   "source": [
    "import pandas as pd\n",
    "import numpy as np\n",
    "import plotly.express as px\n",
    "import plotly.graph_objects as go\n",
    "import plotly.graph_objs as go\n",
    "import plotly.offline as offline\n",
    "from folium.plugins import HeatMapWithTime\n",
    "from plotly.subplots import make_subplots\n",
    "import folium\n",
    "from folium import plugins\n",
    "from folium.plugins import HeatMap\n",
    "from folium import FeatureGroup\n",
    "import json\n",
    "import math\n",
    "import re\n",
    "from datetime import datetime\n",
    "import os\n",
    "import glob\n",
    "import subprocess\n",
    "from bs4 import BeautifulSoup as bs\n",
    "from shapely.geometry import Point, Polygon, LineString\n",
    "from shapely.ops import unary_union\n",
    "import geopandas as gpd\n",
    "from geopandas import GeoSeries\n",
    "import pyproj\n",
    "from tqdm import tqdm\n",
    "from keplergl import KeplerGl\n",
    "\n",
    "# 모든 열이 생략되지 않도록 설정\n",
    "pd.set_option('display.max_columns', None)\n",
    "\n",
    "# tqdm의 pandas 적용\n",
    "tqdm.pandas()\n",
    "\n",
    "# 아산시청 위도, 경도\n",
    "Asan = [36.789882248764656, 127.00274491353838]\n",
    "\n",
    "# Point를만드는 함수\n",
    "def make_point(x):\n",
    "    try:\n",
    "        return Point(x)\n",
    "    except Exception as e:\n",
    "        print(f\"An error occurred: {e}\")\n",
    "        return None\n",
    "# Polygon을 만드는 함수\n",
    "def make_pol(x):\n",
    "    try:\n",
    "        return Polygon(x[0])\n",
    "    except:\n",
    "        return Polygon(x[0][0])\n",
    "    \n",
    "# Linestring을 만드는 함수\n",
    "def make_lin(x):\n",
    "    try:\n",
    "        return LineString(x)\n",
    "    except:\n",
    "        return LineString(x[0])\n",
    "\n",
    "# 데이터프레임을 GeoPandas 데이터프레임으로 변환하는 함수 정의\n",
    "def geo_transform(DataFrame) :\n",
    "    # csv to geopandas\n",
    "    # lon, lat data를 geometry로 변경\n",
    "    DataFrame['lat'] = DataFrame['lat'].astype(float)\n",
    "    DataFrame['lon'] = DataFrame['lon'].astype(float)\n",
    "    DataFrame['geometry'] = DataFrame.apply(lambda row : Point([row['lon'], row['lat']]), axis=1) # 위도 및 경도롤 GeoPandas Point 객체로 변환\n",
    "    DataFrame = gpd.GeoDataFrame(DataFrame, geometry='geometry')\n",
    "    DataFrame.crs = {'init':'epsg:4326'} # geopandas 데이터프레임의 좌표계를 EPSG 4326으로 설정\n",
    "    DataFrame = DataFrame.to_crs({'init':'epsg:4326'}) # 데이터프레임의 좌표계를 자체 좌표계에서 EPSG 4326으로 변환\n",
    "    return DataFrame"
   ]
  },
  {
   "cell_type": "markdown",
   "metadata": {},
   "source": [
    "#### 아산시 행정경계 (출처 - 통계지리정보서비스 2023년 센서스용 행정구역경계(읍면동))"
   ]
  },
  {
   "cell_type": "code",
   "execution_count": 2,
   "metadata": {},
   "outputs": [],
   "source": [
    "# shp to geodataframe convert\n",
    "shapefile_path = \"SBJ_2405_001/_census_data_2023_bnd_dong_bnd_dong_34040_2023_2023/bnd_dong_34040_2023_2023_2Q.shp\"\n",
    "asan_gdf = gpd.read_file(shapefile_path)\n",
    "asan_gdf = asan_gdf.to_crs(epsg=4326) #EPSG4326 형식으로 변환\n",
    "\n",
    "# 행정동 구분에 따라 색 구분하는 함수\n",
    "def hjd_color(name):\n",
    "    if name[-1] == '읍':\n",
    "        return 'green'\n",
    "    elif name[-1] == '면':\n",
    "        return 'yellow'\n",
    "    elif name[-1] == '동':\n",
    "        return 'red'\n",
    "\n",
    "asan_gdf['color'] = asan_gdf['ADM_NM'].apply(hjd_color)"
   ]
  },
  {
   "attachments": {},
   "cell_type": "markdown",
   "metadata": {},
   "source": [
    "#### 격자(매핑용)"
   ]
  },
  {
   "cell_type": "code",
   "execution_count": 3,
   "metadata": {},
   "outputs": [],
   "source": [
    "# GeoJSON 파일 불러오기\n",
    "with open('SBJ_2405_001/12.아산시_격자(매핑용).geojson', encoding=\"UTF8\") as geojson_file:\n",
    "    geojson_data = json.load(geojson_file)\n",
    "grid_map_df = pd.json_normalize(geojson_data['features'])\n",
    "grid_map_df['geometry'] = grid_map_df['geometry.coordinates'].apply(lambda x : make_pol(x))\n",
    "# grid_map_df 데이터프레임을 GeoDataFrame으로 변환\n",
    "grid_map_df = gpd.GeoDataFrame(grid_map_df, geometry='geometry')"
   ]
  },
  {
   "attachments": {},
   "cell_type": "markdown",
   "metadata": {},
   "source": [
    "#### 아산시 상세 도로망"
   ]
  },
  {
   "cell_type": "code",
   "execution_count": 4,
   "metadata": {},
   "outputs": [],
   "source": [
    "# GeoJSON 파일 불러오기\n",
    "with open('SBJ_2405_001/4.아산시_상세도로망.geojson', encoding=\"UTF8\") as geojson_file:\n",
    "    geojson_data = json.load(geojson_file)\n",
    "roadsystem_df = pd.json_normalize(geojson_data['features'])\n",
    "roadsystem_df['geometry'] = roadsystem_df['geometry.coordinates'].apply(lambda x : make_lin(x))\n",
    "roadsystem_df['properties.link_id'] = roadsystem_df['properties.link_id'].astype(str)\n",
    "# roadsystem_df 데이터프레임을 GeoDataFrame으로 변환\n",
    "roadsystem_df = gpd.GeoDataFrame(roadsystem_df, geometry='geometry')"
   ]
  },
  {
   "cell_type": "markdown",
   "metadata": {},
   "source": [
    "#### 아산시 약국현황"
   ]
  },
  {
   "cell_type": "code",
   "execution_count": 5,
   "metadata": {},
   "outputs": [
    {
     "name": "stderr",
     "output_type": "stream",
     "text": [
      "c:\\Users\\HJK\\anaconda3\\envs\\GIS\\lib\\site-packages\\pyproj\\crs\\crs.py:141: FutureWarning:\n",
      "\n",
      "'+init=<authority>:<code>' syntax is deprecated. '<authority>:<code>' is the preferred initialization method. When making the change, be mindful of axis order changes: https://pyproj4.github.io/pyproj/stable/gotchas.html#axis-order-changes-in-proj-6\n",
      "\n",
      "c:\\Users\\HJK\\anaconda3\\envs\\GIS\\lib\\site-packages\\pyproj\\crs\\crs.py:141: FutureWarning:\n",
      "\n",
      "'+init=<authority>:<code>' syntax is deprecated. '<authority>:<code>' is the preferred initialization method. When making the change, be mindful of axis order changes: https://pyproj4.github.io/pyproj/stable/gotchas.html#axis-order-changes-in-proj-6\n",
      "\n"
     ]
    }
   ],
   "source": [
    "# 약국 데이터프레임을 GeoPandas 데이터프레임으로 변환\n",
    "pharmacy_df = pd.read_csv('SBJ_2405_001/23.아산시_약국현황.csv')\n",
    "pharmacy_df = geo_transform(pharmacy_df)"
   ]
  },
  {
   "cell_type": "markdown",
   "metadata": {},
   "source": [
    "#### 아산시 AED위치정보"
   ]
  },
  {
   "cell_type": "code",
   "execution_count": 6,
   "metadata": {},
   "outputs": [
    {
     "name": "stderr",
     "output_type": "stream",
     "text": [
      "c:\\Users\\HJK\\anaconda3\\envs\\GIS\\lib\\site-packages\\pyproj\\crs\\crs.py:141: FutureWarning:\n",
      "\n",
      "'+init=<authority>:<code>' syntax is deprecated. '<authority>:<code>' is the preferred initialization method. When making the change, be mindful of axis order changes: https://pyproj4.github.io/pyproj/stable/gotchas.html#axis-order-changes-in-proj-6\n",
      "\n",
      "c:\\Users\\HJK\\anaconda3\\envs\\GIS\\lib\\site-packages\\pyproj\\crs\\crs.py:141: FutureWarning:\n",
      "\n",
      "'+init=<authority>:<code>' syntax is deprecated. '<authority>:<code>' is the preferred initialization method. When making the change, be mindful of axis order changes: https://pyproj4.github.io/pyproj/stable/gotchas.html#axis-order-changes-in-proj-6\n",
      "\n"
     ]
    }
   ],
   "source": [
    "AED_df = pd.read_csv('SBJ_2405_001/8.아산시_자동심장충격기(AED)위치정보.csv')\n",
    "AED_df = geo_transform(AED_df)"
   ]
  },
  {
   "cell_type": "markdown",
   "metadata": {},
   "source": [
    "#### 아산시 119 안전센터"
   ]
  },
  {
   "cell_type": "code",
   "execution_count": 7,
   "metadata": {},
   "outputs": [
    {
     "name": "stderr",
     "output_type": "stream",
     "text": [
      "c:\\Users\\HJK\\anaconda3\\envs\\GIS\\lib\\site-packages\\pyproj\\crs\\crs.py:141: FutureWarning:\n",
      "\n",
      "'+init=<authority>:<code>' syntax is deprecated. '<authority>:<code>' is the preferred initialization method. When making the change, be mindful of axis order changes: https://pyproj4.github.io/pyproj/stable/gotchas.html#axis-order-changes-in-proj-6\n",
      "\n",
      "c:\\Users\\HJK\\anaconda3\\envs\\GIS\\lib\\site-packages\\pyproj\\crs\\crs.py:141: FutureWarning:\n",
      "\n",
      "'+init=<authority>:<code>' syntax is deprecated. '<authority>:<code>' is the preferred initialization method. When making the change, be mindful of axis order changes: https://pyproj4.github.io/pyproj/stable/gotchas.html#axis-order-changes-in-proj-6\n",
      "\n"
     ]
    }
   ],
   "source": [
    "df_119 = pd.read_csv('SBJ_2405_001/24.아산시_119안전센터정보.csv')\n",
    "df_119 = geo_transform(df_119)"
   ]
  },
  {
   "cell_type": "markdown",
   "metadata": {},
   "source": [
    "#### 아산시 병원진료과목정보"
   ]
  },
  {
   "cell_type": "code",
   "execution_count": 8,
   "metadata": {},
   "outputs": [],
   "source": [
    "# 병원 데이터프레임을\n",
    "treatment_df = pd.read_csv('SBJ_2405_001/22.아산시_병원진료과목정보.csv')"
   ]
  },
  {
   "cell_type": "code",
   "execution_count": 9,
   "metadata": {},
   "outputs": [
    {
     "name": "stderr",
     "output_type": "stream",
     "text": [
      "100%|██████████| 331/331 [00:00<00:00, 3464.40it/s]\n"
     ]
    }
   ],
   "source": [
    "# 병원별 진료과목 list mapping한 dict생성\n",
    "hos_dic = {}\n",
    "for hos in tqdm(treatment_df['mdcl_inst'].unique()):\n",
    "    subset = treatment_df[treatment_df['mdcl_inst'] == hos]\n",
    "    hos_dic[hos] = subset['mdcl_mjr_nm'].tolist()"
   ]
  },
  {
   "cell_type": "markdown",
   "metadata": {},
   "source": [
    "#### 아산시 병원정보"
   ]
  },
  {
   "cell_type": "code",
   "execution_count": 10,
   "metadata": {},
   "outputs": [
    {
     "name": "stderr",
     "output_type": "stream",
     "text": [
      "c:\\Users\\HJK\\anaconda3\\envs\\GIS\\lib\\site-packages\\pyproj\\crs\\crs.py:141: FutureWarning:\n",
      "\n",
      "'+init=<authority>:<code>' syntax is deprecated. '<authority>:<code>' is the preferred initialization method. When making the change, be mindful of axis order changes: https://pyproj4.github.io/pyproj/stable/gotchas.html#axis-order-changes-in-proj-6\n",
      "\n",
      "c:\\Users\\HJK\\anaconda3\\envs\\GIS\\lib\\site-packages\\pyproj\\crs\\crs.py:141: FutureWarning:\n",
      "\n",
      "'+init=<authority>:<code>' syntax is deprecated. '<authority>:<code>' is the preferred initialization method. When making the change, be mindful of axis order changes: https://pyproj4.github.io/pyproj/stable/gotchas.html#axis-order-changes-in-proj-6\n",
      "\n"
     ]
    }
   ],
   "source": [
    "# 병원 데이터프레임을 GeoPandas 데이터프레임으로 변환\n",
    "hospital_df = pd.read_csv('SBJ_2405_001/21.아산시_병원정보.csv')\n",
    "hospital_df = geo_transform(hospital_df)\n",
    "# 병원별 진료과목 mapping\n",
    "hospital_df['mjr'] = hospital_df['mdcl_inst'].map(hos_dic)\n",
    "# Update 'mjr' column where it is null with 'mdcl_gbn' column value as a list\n",
    "hospital_df.loc[hospital_df['mjr'].isnull(), 'mjr'] = hospital_df['mdcl_gbn'].apply(lambda x: [x])"
   ]
  },
  {
   "cell_type": "markdown",
   "metadata": {},
   "source": [
    "#### 119구급출동이력"
   ]
  },
  {
   "cell_type": "code",
   "execution_count": 11,
   "metadata": {},
   "outputs": [
    {
     "name": "stderr",
     "output_type": "stream",
     "text": [
      "100%|██████████| 53598/53598 [00:22<00:00, 2410.85it/s]\n"
     ]
    },
    {
     "data": {
      "text/html": [
       "<div>\n",
       "<style scoped>\n",
       "    .dataframe tbody tr th:only-of-type {\n",
       "        vertical-align: middle;\n",
       "    }\n",
       "\n",
       "    .dataframe tbody tr th {\n",
       "        vertical-align: top;\n",
       "    }\n",
       "\n",
       "    .dataframe thead th {\n",
       "        text-align: right;\n",
       "    }\n",
       "</style>\n",
       "<table border=\"1\" class=\"dataframe\">\n",
       "  <thead>\n",
       "    <tr style=\"text-align: right;\">\n",
       "      <th></th>\n",
       "      <th>frstn_nm</th>\n",
       "      <th>sfcntr_nm</th>\n",
       "      <th>rslt_gbn</th>\n",
       "      <th>ptnt_type</th>\n",
       "      <th>smptm1</th>\n",
       "      <th>sgg_nm</th>\n",
       "      <th>emd_nm</th>\n",
       "      <th>accdnt_plc</th>\n",
       "      <th>ptnt_age</th>\n",
       "      <th>ptnt_gndr</th>\n",
       "      <th>trnsfr_gbn</th>\n",
       "      <th>hpt_nm</th>\n",
       "      <th>gid</th>\n",
       "      <th>geometry</th>\n",
       "      <th>신고시각</th>\n",
       "      <th>출동시각</th>\n",
       "      <th>도착시각</th>\n",
       "      <th>접촉시각</th>\n",
       "      <th>귀소시각</th>\n",
       "      <th>병원도착시각</th>\n",
       "    </tr>\n",
       "  </thead>\n",
       "  <tbody>\n",
       "    <tr>\n",
       "      <th>0</th>\n",
       "      <td>아산소방서</td>\n",
       "      <td>아산119구조구급센터</td>\n",
       "      <td>취소</td>\n",
       "      <td>질병외</td>\n",
       "      <td>0</td>\n",
       "      <td>아산시</td>\n",
       "      <td>온양6동</td>\n",
       "      <td>0</td>\n",
       "      <td>미확인</td>\n",
       "      <td>미확인</td>\n",
       "      <td>미이송</td>\n",
       "      <td>0</td>\n",
       "      <td>다바569639</td>\n",
       "      <td>POLYGON ((127.01704 36.77224, 127.01703 36.773...</td>\n",
       "      <td>2021-01-01 00:47:00</td>\n",
       "      <td>2021-01-01 00:53:00</td>\n",
       "      <td>NaT</td>\n",
       "      <td>NaT</td>\n",
       "      <td>2021-01-01 00:55:00</td>\n",
       "      <td>NaT</td>\n",
       "    </tr>\n",
       "    <tr>\n",
       "      <th>1</th>\n",
       "      <td>아산소방서</td>\n",
       "      <td>아산119구조구급센터</td>\n",
       "      <td>정상</td>\n",
       "      <td>질병</td>\n",
       "      <td>두통</td>\n",
       "      <td>아산시</td>\n",
       "      <td>온양1동</td>\n",
       "      <td>집</td>\n",
       "      <td>60대</td>\n",
       "      <td>여</td>\n",
       "      <td>이송</td>\n",
       "      <td>아산충무병원</td>\n",
       "      <td>다바552660</td>\n",
       "      <td>POLYGON ((126.99787 36.79109, 126.99786 36.791...</td>\n",
       "      <td>2021-01-01 10:08:00</td>\n",
       "      <td>2021-01-01 10:10:00</td>\n",
       "      <td>2021-01-01 10:16:00</td>\n",
       "      <td>2021-01-01 10:20:00</td>\n",
       "      <td>2021-01-01 10:55:00</td>\n",
       "      <td>2021-01-01 10:40:00</td>\n",
       "    </tr>\n",
       "    <tr>\n",
       "      <th>2</th>\n",
       "      <td>아산소방서</td>\n",
       "      <td>아산119구조구급센터</td>\n",
       "      <td>정상</td>\n",
       "      <td>질병</td>\n",
       "      <td>기타</td>\n",
       "      <td>아산시</td>\n",
       "      <td>온양5동</td>\n",
       "      <td>기타(생활치료센터)</td>\n",
       "      <td>20대</td>\n",
       "      <td>여</td>\n",
       "      <td>이송</td>\n",
       "      <td>서울특별시서남병원</td>\n",
       "      <td>다바543609</td>\n",
       "      <td>POLYGON ((126.98808 36.74507, 126.98808 36.745...</td>\n",
       "      <td>2021-01-01 11:26:00</td>\n",
       "      <td>2021-01-01 12:15:00</td>\n",
       "      <td>2021-01-01 12:28:00</td>\n",
       "      <td>2021-01-01 12:31:00</td>\n",
       "      <td>2021-01-01 16:10:00</td>\n",
       "      <td>2021-01-01 14:10:00</td>\n",
       "    </tr>\n",
       "    <tr>\n",
       "      <th>3</th>\n",
       "      <td>아산소방서</td>\n",
       "      <td>아산119구조구급센터</td>\n",
       "      <td>정상</td>\n",
       "      <td>질병외</td>\n",
       "      <td>0</td>\n",
       "      <td>아산시</td>\n",
       "      <td>온양4동</td>\n",
       "      <td>상업시설</td>\n",
       "      <td>미확인</td>\n",
       "      <td>미확인</td>\n",
       "      <td>소방활동</td>\n",
       "      <td>0</td>\n",
       "      <td>다바533669</td>\n",
       "      <td>POLYGON ((126.97652 36.79911, 126.97651 36.800...</td>\n",
       "      <td>2021-01-01 11:41:00</td>\n",
       "      <td>2021-01-01 11:43:00</td>\n",
       "      <td>2021-01-01 11:50:00</td>\n",
       "      <td>NaT</td>\n",
       "      <td>2021-01-01 12:30:00</td>\n",
       "      <td>NaT</td>\n",
       "    </tr>\n",
       "    <tr>\n",
       "      <th>4</th>\n",
       "      <td>신창119안전센터</td>\n",
       "      <td>선장119지역대</td>\n",
       "      <td>정상</td>\n",
       "      <td>질병</td>\n",
       "      <td>기타</td>\n",
       "      <td>아산시</td>\n",
       "      <td>온양5동</td>\n",
       "      <td>기타(생활치료센터)</td>\n",
       "      <td>20대</td>\n",
       "      <td>남</td>\n",
       "      <td>이송</td>\n",
       "      <td>충청남도 천안의료원</td>\n",
       "      <td>다바543609</td>\n",
       "      <td>POLYGON ((126.98808 36.74507, 126.98808 36.745...</td>\n",
       "      <td>2021-01-01 12:11:00</td>\n",
       "      <td>2021-01-01 12:16:00</td>\n",
       "      <td>2021-01-01 12:31:00</td>\n",
       "      <td>2021-01-01 12:35:00</td>\n",
       "      <td>2021-01-01 14:50:00</td>\n",
       "      <td>2021-01-01 13:10:00</td>\n",
       "    </tr>\n",
       "    <tr>\n",
       "      <th>...</th>\n",
       "      <td>...</td>\n",
       "      <td>...</td>\n",
       "      <td>...</td>\n",
       "      <td>...</td>\n",
       "      <td>...</td>\n",
       "      <td>...</td>\n",
       "      <td>...</td>\n",
       "      <td>...</td>\n",
       "      <td>...</td>\n",
       "      <td>...</td>\n",
       "      <td>...</td>\n",
       "      <td>...</td>\n",
       "      <td>...</td>\n",
       "      <td>...</td>\n",
       "      <td>...</td>\n",
       "      <td>...</td>\n",
       "      <td>...</td>\n",
       "      <td>...</td>\n",
       "      <td>...</td>\n",
       "      <td>...</td>\n",
       "    </tr>\n",
       "    <tr>\n",
       "      <th>57773</th>\n",
       "      <td>아산소방서</td>\n",
       "      <td>탕정119안전센터</td>\n",
       "      <td>정상</td>\n",
       "      <td>질병외</td>\n",
       "      <td>0</td>\n",
       "      <td>아산시</td>\n",
       "      <td>배방읍</td>\n",
       "      <td>집</td>\n",
       "      <td>미확인</td>\n",
       "      <td>미확인</td>\n",
       "      <td>미이송</td>\n",
       "      <td>0</td>\n",
       "      <td>다바597638</td>\n",
       "      <td>POLYGON ((127.04842 36.77146, 127.04841 36.772...</td>\n",
       "      <td>2023-12-31 21:39:00</td>\n",
       "      <td>2023-12-31 21:43:00</td>\n",
       "      <td>2023-12-31 21:55:00</td>\n",
       "      <td>NaT</td>\n",
       "      <td>2023-12-31 22:17:00</td>\n",
       "      <td>NaT</td>\n",
       "    </tr>\n",
       "    <tr>\n",
       "      <th>57777</th>\n",
       "      <td>신창119안전센터</td>\n",
       "      <td>선장119지역대</td>\n",
       "      <td>정상</td>\n",
       "      <td>질병외</td>\n",
       "      <td>기타</td>\n",
       "      <td>아산시</td>\n",
       "      <td>선장면</td>\n",
       "      <td>집</td>\n",
       "      <td>70대</td>\n",
       "      <td>여</td>\n",
       "      <td>이송</td>\n",
       "      <td>아산충무병원</td>\n",
       "      <td>다바443671</td>\n",
       "      <td>POLYGON ((126.87562 36.80042, 126.87561 36.801...</td>\n",
       "      <td>2023-12-31 23:11:00</td>\n",
       "      <td>2023-12-31 23:13:00</td>\n",
       "      <td>2023-12-31 23:17:00</td>\n",
       "      <td>2023-12-31 23:19:00</td>\n",
       "      <td>2024-01-01 00:32:00</td>\n",
       "      <td>2023-12-31 23:50:00</td>\n",
       "    </tr>\n",
       "    <tr>\n",
       "      <th>57784</th>\n",
       "      <td>아산소방서</td>\n",
       "      <td>아산119구조구급센터</td>\n",
       "      <td>정상</td>\n",
       "      <td>질병</td>\n",
       "      <td>흉통</td>\n",
       "      <td>아산시</td>\n",
       "      <td>신창면</td>\n",
       "      <td>집</td>\n",
       "      <td>60대</td>\n",
       "      <td>남</td>\n",
       "      <td>이송</td>\n",
       "      <td>순천향대학교부속 천안병원</td>\n",
       "      <td>다바512657</td>\n",
       "      <td>POLYGON ((126.95305 36.78819, 126.95305 36.789...</td>\n",
       "      <td>2023-12-31 06:58:00</td>\n",
       "      <td>2023-12-31 06:59:00</td>\n",
       "      <td>2023-12-31 07:10:00</td>\n",
       "      <td>2023-12-31 07:10:00</td>\n",
       "      <td>2023-12-31 08:12:00</td>\n",
       "      <td>2023-12-31 07:33:00</td>\n",
       "    </tr>\n",
       "    <tr>\n",
       "      <th>57786</th>\n",
       "      <td>아산소방서</td>\n",
       "      <td>배방119안전센터</td>\n",
       "      <td>취소</td>\n",
       "      <td>질병외</td>\n",
       "      <td>0</td>\n",
       "      <td>아산시</td>\n",
       "      <td>온양5동</td>\n",
       "      <td>0</td>\n",
       "      <td>미확인</td>\n",
       "      <td>미확인</td>\n",
       "      <td>미이송</td>\n",
       "      <td>0</td>\n",
       "      <td>다바550635</td>\n",
       "      <td>POLYGON ((126.99577 36.76854, 126.99577 36.769...</td>\n",
       "      <td>2023-12-31 08:27:00</td>\n",
       "      <td>2023-12-31 08:27:00</td>\n",
       "      <td>NaT</td>\n",
       "      <td>NaT</td>\n",
       "      <td>2023-12-31 08:28:00</td>\n",
       "      <td>NaT</td>\n",
       "    </tr>\n",
       "    <tr>\n",
       "      <th>57787</th>\n",
       "      <td>아산소방서</td>\n",
       "      <td>장재119안전센터</td>\n",
       "      <td>정상</td>\n",
       "      <td>질병</td>\n",
       "      <td>전신쇠약</td>\n",
       "      <td>아산시</td>\n",
       "      <td>온양3동</td>\n",
       "      <td>기타(성당)</td>\n",
       "      <td>10대</td>\n",
       "      <td>남</td>\n",
       "      <td>이송</td>\n",
       "      <td>의료법인 영서의료재단 천안충무병원</td>\n",
       "      <td>다바562662</td>\n",
       "      <td>POLYGON ((127.00906 36.79294, 127.00906 36.793...</td>\n",
       "      <td>2023-12-31 08:27:00</td>\n",
       "      <td>2023-12-31 08:29:00</td>\n",
       "      <td>2023-12-31 08:31:00</td>\n",
       "      <td>2023-12-31 08:31:00</td>\n",
       "      <td>2023-12-31 09:04:00</td>\n",
       "      <td>2023-12-31 08:39:00</td>\n",
       "    </tr>\n",
       "  </tbody>\n",
       "</table>\n",
       "<p>53598 rows × 20 columns</p>\n",
       "</div>"
      ],
      "text/plain": [
       "        frstn_nm    sfcntr_nm rslt_gbn ptnt_type smptm1 sgg_nm emd_nm  \\\n",
       "0          아산소방서  아산119구조구급센터       취소       질병외      0    아산시   온양6동   \n",
       "1          아산소방서  아산119구조구급센터       정상        질병     두통    아산시   온양1동   \n",
       "2          아산소방서  아산119구조구급센터       정상        질병     기타    아산시   온양5동   \n",
       "3          아산소방서  아산119구조구급센터       정상       질병외      0    아산시   온양4동   \n",
       "4      신창119안전센터     선장119지역대       정상        질병     기타    아산시   온양5동   \n",
       "...          ...          ...      ...       ...    ...    ...    ...   \n",
       "57773      아산소방서    탕정119안전센터       정상       질병외      0    아산시    배방읍   \n",
       "57777  신창119안전센터     선장119지역대       정상       질병외     기타    아산시    선장면   \n",
       "57784      아산소방서  아산119구조구급센터       정상        질병     흉통    아산시    신창면   \n",
       "57786      아산소방서    배방119안전센터       취소       질병외      0    아산시   온양5동   \n",
       "57787      아산소방서    장재119안전센터       정상        질병   전신쇠약    아산시   온양3동   \n",
       "\n",
       "       accdnt_plc ptnt_age ptnt_gndr trnsfr_gbn              hpt_nm       gid  \\\n",
       "0               0      미확인       미확인        미이송                   0  다바569639   \n",
       "1               집      60대         여         이송              아산충무병원  다바552660   \n",
       "2      기타(생활치료센터)      20대         여         이송           서울특별시서남병원  다바543609   \n",
       "3            상업시설      미확인       미확인       소방활동                   0  다바533669   \n",
       "4      기타(생활치료센터)      20대         남         이송          충청남도 천안의료원  다바543609   \n",
       "...           ...      ...       ...        ...                 ...       ...   \n",
       "57773           집      미확인       미확인        미이송                   0  다바597638   \n",
       "57777           집      70대         여         이송              아산충무병원  다바443671   \n",
       "57784           집      60대         남         이송       순천향대학교부속 천안병원  다바512657   \n",
       "57786           0      미확인       미확인        미이송                   0  다바550635   \n",
       "57787      기타(성당)      10대         남         이송  의료법인 영서의료재단 천안충무병원  다바562662   \n",
       "\n",
       "                                                geometry                 신고시각  \\\n",
       "0      POLYGON ((127.01704 36.77224, 127.01703 36.773...  2021-01-01 00:47:00   \n",
       "1      POLYGON ((126.99787 36.79109, 126.99786 36.791...  2021-01-01 10:08:00   \n",
       "2      POLYGON ((126.98808 36.74507, 126.98808 36.745...  2021-01-01 11:26:00   \n",
       "3      POLYGON ((126.97652 36.79911, 126.97651 36.800...  2021-01-01 11:41:00   \n",
       "4      POLYGON ((126.98808 36.74507, 126.98808 36.745...  2021-01-01 12:11:00   \n",
       "...                                                  ...                  ...   \n",
       "57773  POLYGON ((127.04842 36.77146, 127.04841 36.772...  2023-12-31 21:39:00   \n",
       "57777  POLYGON ((126.87562 36.80042, 126.87561 36.801...  2023-12-31 23:11:00   \n",
       "57784  POLYGON ((126.95305 36.78819, 126.95305 36.789...  2023-12-31 06:58:00   \n",
       "57786  POLYGON ((126.99577 36.76854, 126.99577 36.769...  2023-12-31 08:27:00   \n",
       "57787  POLYGON ((127.00906 36.79294, 127.00906 36.793...  2023-12-31 08:27:00   \n",
       "\n",
       "                      출동시각                 도착시각                 접촉시각  \\\n",
       "0      2021-01-01 00:53:00                  NaT                  NaT   \n",
       "1      2021-01-01 10:10:00  2021-01-01 10:16:00  2021-01-01 10:20:00   \n",
       "2      2021-01-01 12:15:00  2021-01-01 12:28:00  2021-01-01 12:31:00   \n",
       "3      2021-01-01 11:43:00  2021-01-01 11:50:00                  NaT   \n",
       "4      2021-01-01 12:16:00  2021-01-01 12:31:00  2021-01-01 12:35:00   \n",
       "...                    ...                  ...                  ...   \n",
       "57773  2023-12-31 21:43:00  2023-12-31 21:55:00                  NaT   \n",
       "57777  2023-12-31 23:13:00  2023-12-31 23:17:00  2023-12-31 23:19:00   \n",
       "57784  2023-12-31 06:59:00  2023-12-31 07:10:00  2023-12-31 07:10:00   \n",
       "57786  2023-12-31 08:27:00                  NaT                  NaT   \n",
       "57787  2023-12-31 08:29:00  2023-12-31 08:31:00  2023-12-31 08:31:00   \n",
       "\n",
       "                      귀소시각               병원도착시각  \n",
       "0      2021-01-01 00:55:00                  NaT  \n",
       "1      2021-01-01 10:55:00  2021-01-01 10:40:00  \n",
       "2      2021-01-01 16:10:00  2021-01-01 14:10:00  \n",
       "3      2021-01-01 12:30:00                  NaT  \n",
       "4      2021-01-01 14:50:00  2021-01-01 13:10:00  \n",
       "...                    ...                  ...  \n",
       "57773  2023-12-31 22:17:00                  NaT  \n",
       "57777  2024-01-01 00:32:00  2023-12-31 23:50:00  \n",
       "57784  2023-12-31 08:12:00  2023-12-31 07:33:00  \n",
       "57786  2023-12-31 08:28:00                  NaT  \n",
       "57787  2023-12-31 09:04:00  2023-12-31 08:39:00  \n",
       "\n",
       "[53598 rows x 20 columns]"
      ]
     },
     "execution_count": 11,
     "metadata": {},
     "output_type": "execute_result"
    }
   ],
   "source": [
    "# 격자 ID와 격자 폴리곤 각각을 매핑한 딕셔너리 생성\n",
    "map_dic = {}\n",
    "for _, row in grid_map_df.iterrows():\n",
    "    map_dic[row['properties.gid']] = row['geometry']\n",
    "\n",
    "# 'geometry' 열 값이 특정 폴리곤 내에 있는지 확인하고 'emd_nm' 값을 변경하는 함수\n",
    "def update_emd_nm(row, polygons, names):\n",
    "    for polygon, name in zip(polygons, names):\n",
    "        if row.geometry.intersects(polygon):\n",
    "            return name\n",
    "    return row.emd_nm\n",
    "\n",
    "# 119구급출동이력 데이터프레임\n",
    "df_emer119 = pd.read_csv('SBJ_2405_001/28.아산시_119구급출동이력.csv')\n",
    "df_emer119 = df_emer119[df_emer119['sgg_nm'] == '아산시']\n",
    "df_emer119['emd_nm'] = df_emer119['emd_nm'].replace('배방면', '배방읍') # 배방면 -> 배방읍 변경됨\n",
    "\n",
    "# map_dic(격자:폴리곤)에 df_emer119의 gid를 매핑하여 'geometry' column 생성\n",
    "geometry_lst = []\n",
    "for _, row in df_emer119.iterrows():\n",
    "    try:\n",
    "        geometry_lst.append(map_dic[row['gid']])\n",
    "    except:\n",
    "        geometry_lst.append(None)\n",
    "df_emer119['geometry'] = geometry_lst\n",
    "df_emer119 = df_emer119[~df_emer119['geometry'].isnull()]\n",
    "df_emer119 = gpd.GeoDataFrame(df_emer119, geometry='geometry')\n",
    "\n",
    "# 'geometry' 열 값이 특정 폴리곤 내에 있는지 확인하고 'emd_nm' 값 변경\n",
    "polygons = asan_gdf['geometry'].tolist()\n",
    "names = asan_gdf['ADM_NM'].tolist()\n",
    "df_emer119['emd_nm'] = df_emer119.progress_apply(update_emd_nm, axis=1, polygons=polygons, names=names)\n",
    "\n",
    "# NaN 값을 0으로 대체\n",
    "df_emer119 = df_emer119.fillna(0)\n",
    "\n",
    "# 날짜 컬럼을 정수로 변환\n",
    "df_emer119['arrv_ymd'] = df_emer119['arrv_ymd'].astype(int)\n",
    "df_emer119['cntct_ymd'] = df_emer119['cntct_ymd'].astype(int)\n",
    "df_emer119['hm_ymd'] = df_emer119['hm_ymd'].astype(int)\n",
    "df_emer119['hpt_arrv_ymd'] = df_emer119['hpt_arrv_ymd'].astype(int)\n",
    "\n",
    "# 날짜와 시간 컬럼을 문자열로 변환\n",
    "for col in df_emer119.columns[:-1]:\n",
    "    df_emer119[col] = df_emer119[col].astype(str)\n",
    "\n",
    "# 시간 형식을 'HH:MM:SS'로 변환하는 함수\n",
    "def format_time(time_str):\n",
    "    if time_str == '0':\n",
    "        return '00:00:00'\n",
    "    parts = time_str.split(':')\n",
    "    if len(parts) == 2:\n",
    "        return f\"{int(parts[0]):02}:{int(parts[1]):02}:00\"\n",
    "    return f\"{int(parts[0]):02}:{int(parts[1]):02}:{int(parts[2]):02}\"\n",
    "\n",
    "# 날짜와 시간 컬럼을 통합하여 새로운 시간 컬럼 생성 함수\n",
    "def combine_datetime(date_col, time_col):\n",
    "    formatted_date = date_col.apply(lambda x: pd.to_datetime(x, format='%Y%m%d', errors='coerce'))\n",
    "    formatted_time = time_col.apply(lambda x: format_time(x))\n",
    "    combined = formatted_date.astype(str) + ' ' + formatted_time\n",
    "    combined = combined.replace('NaT 00:00:00', np.nan)\n",
    "    return pd.to_datetime(combined, errors='coerce')\n",
    "\n",
    "df_emer119['신고시각'] = combine_datetime(df_emer119['rpt_ymd'], df_emer119['rpt_tm'])\n",
    "df_emer119['출동시각'] = combine_datetime(df_emer119['mv_ymd'], df_emer119['mv_tm'])\n",
    "df_emer119['도착시각'] = combine_datetime(df_emer119['arrv_ymd'], df_emer119['arrv_tm'])\n",
    "df_emer119['접촉시각'] = combine_datetime(df_emer119['cntct_ymd'], df_emer119['cntct_tm'])\n",
    "df_emer119['귀소시각'] = combine_datetime(df_emer119['hm_ymd'], df_emer119['hm_tm'])\n",
    "df_emer119['병원도착시각'] = combine_datetime(df_emer119['hpt_arrv_ymd'], df_emer119['hpt_arrv_tm'])\n",
    "df_emer119['신고시각'] = df_emer119['신고시각'].astype(str)\n",
    "df_emer119['출동시각'] = df_emer119['출동시각'].astype(str)\n",
    "df_emer119['도착시각'] = df_emer119['도착시각'].astype(str)\n",
    "df_emer119['접촉시각'] = df_emer119['접촉시각'].astype(str)\n",
    "df_emer119['귀소시각'] = df_emer119['귀소시각'].astype(str)\n",
    "df_emer119['병원도착시각'] = df_emer119['병원도착시각'].astype(str)\n",
    "\n",
    "# 불필요한 컬럼 제거\n",
    "df_emer119.drop(columns=['rpt_ymd', 'rpt_tm', 'mv_ymd', 'mv_tm', 'arrv_ymd', 'arrv_tm', 'cntct_ymd', 'cntct_tm', 'hm_ymd', 'hm_tm', 'hpt_arrv_ymd', 'hpt_arrv_tm'], inplace=True)\n",
    "\n",
    "df_emer119"
   ]
  },
  {
   "cell_type": "code",
   "execution_count": 12,
   "metadata": {},
   "outputs": [],
   "source": [
    "# 'emd_nm' 값의 개수 세기\n",
    "emd_nm_counts = df_emer119['emd_nm'].value_counts().reset_index()\n",
    "emd_nm_counts.columns = ['emd_nm', 'count']\n",
    "hjd_119_dic = {key:value for key, value in zip(emd_nm_counts['emd_nm'], emd_nm_counts['count'])}\n",
    "asan_gdf['119'] = asan_gdf['ADM_NM'].map(hjd_119_dic)"
   ]
  },
  {
   "cell_type": "code",
   "execution_count": 13,
   "metadata": {},
   "outputs": [],
   "source": [
    "# 진료과목을 개별 행으로 분리\n",
    "hospital_exploded = hospital_df.explode('mjr').reset_index(drop=True)\n",
    "hospital_exploded['mjr'] = hospital_exploded['mjr'].astype(str)"
   ]
  },
  {
   "cell_type": "markdown",
   "metadata": {},
   "source": [
    "### 의료불균형 분석"
   ]
  },
  {
   "cell_type": "markdown",
   "metadata": {},
   "source": [
    "#### 격자별 고령화정도 가중치 변환"
   ]
  },
  {
   "cell_type": "code",
   "execution_count": 14,
   "metadata": {},
   "outputs": [],
   "source": [
    "respop_df = pd.read_csv('SBJ_2405_001/1.아산시_거주인구(격자).csv')\n",
    "\n",
    "#아산시 grid ID 리스트 와 매핑 & respop_df 필터링\n",
    "grid_id = grid_map_df['properties.gid'].tolist() # gid는 전부 unique한 값\n",
    "grid_respop = respop_df[respop_df['gid'].isin(grid_id)]\n",
    "grid_respop = grid_respop.fillna(0)\n",
    "grid_respop = pd.concat([grid_respop.iloc[:, :2], grid_respop.iloc[:, 2:].astype(int)], axis=1)\n",
    "grid_respop['year'] = grid_respop['year'].astype(str)\n",
    "\n",
    "# 성별구분 없이 통합 및 세대별 인구수 데이터프레임으로 변환\n",
    "columns = ['gid', 'year']\n",
    "for i in range(2, len(grid_respop.columns)):\n",
    "    age = f'{grid_respop.columns[i][2:4]}대' if grid_respop.columns[i][2] != '1' else f'{grid_respop.columns[i][2:5]}대'\n",
    "    sex = '남' if grid_respop.columns[i][0] != 'm' else '여'\n",
    "    columns.append('%s_%s'%(age, sex))\n",
    "grid_respop.columns = columns\n",
    "# 인구 column & 고령인구 column & 고령인구 비율(%) column 생성\n",
    "grid_respop['인구'] = grid_respop.iloc[:, 2:].sum(axis=1)\n",
    "grid_respop =  grid_respop[grid_respop['인구'] != 0] # 거주인구가 없는 격자 필터링(제외)\n",
    "grid_respop['고령인구'] = grid_respop.iloc[:, 10:-1].sum(axis=1)\n",
    "grid_respop['고령인구_비율'] = grid_respop.iloc[:, -1] / grid_respop.iloc[:, -2]\n",
    "grid_respop = grid_respop.fillna(0) # NaN값 0으로 대체\n",
    "grid_respop['고령인구_비율'] = grid_respop['고령인구_비율'].apply(lambda x : round(x*100, 2))\n",
    "\n",
    "# 격자별 평균 고령인구 비율 계산\n",
    "avg_old_age_ratio = grid_respop.groupby('gid')['고령인구_비율'].mean()\n",
    "\n",
    "# 가중치 계산\n",
    "weights = avg_old_age_ratio / 100\n",
    "\n",
    "grid_map_df_c = grid_map_df.copy()\n",
    "# grid_map_df_c에 '고령인구비율_가중치' column 추가\n",
    "grid_map_df_c['고령인구비율_가중치'] = grid_map_df_c['properties.gid'].map(lambda x: weights[x] if x in weights.index else float(0))"
   ]
  },
  {
   "cell_type": "markdown",
   "metadata": {},
   "source": [
    "#### 격자별 의료시설간 거리 가중치 변환"
   ]
  },
  {
   "cell_type": "markdown",
   "metadata": {},
   "source": [
    "##### 약국"
   ]
  },
  {
   "cell_type": "code",
   "execution_count": 16,
   "metadata": {},
   "outputs": [],
   "source": [
    "# 격자의 중심점 좌표 추출\n",
    "grid_coords = np.array(list(zip(grid_map_df.geometry.centroid.x, grid_map_df.geometry.centroid.y)))"
   ]
  },
  {
   "cell_type": "code",
   "execution_count": 17,
   "metadata": {},
   "outputs": [],
   "source": [
    "from sklearn.neighbors import NearestNeighbors\n",
    "# 약국의 좌표 추출\n",
    "pharmacy_coords = np.array(list(zip(pharmacy_df.geometry.x, pharmacy_df.geometry.y)))\n",
    "\n",
    "# KNN 모델 생성 및 학습 (k=1 사용하여 가장 가까운 약국 찾기)\n",
    "knn = NearestNeighbors(n_neighbors=1)\n",
    "knn.fit(pharmacy_coords)\n",
    "\n",
    "# 각 격자와 가장 가까운 약국 간의 거리 계산\n",
    "distances, indices = knn.kneighbors(grid_coords)\n",
    "\n",
    "# 거리를 km 단위로 변환 (EPSG:4326의 경우, 1도 ≈ 111,000m이므로 111을 곱하여 km단위로 변환)\n",
    "distances_km = distances * 111\n",
    "\n",
    "# 결과를 DataFrame에 추가\n",
    "grid_map_df_c['nearest_pharmacy_distance_weight'] = distances_km"
   ]
  },
  {
   "cell_type": "markdown",
   "metadata": {},
   "source": [
    "##### AED"
   ]
  },
  {
   "cell_type": "code",
   "execution_count": 18,
   "metadata": {},
   "outputs": [],
   "source": [
    "# AED의 좌표 추출\n",
    "AED_coords = np.array(list(zip(AED_df.geometry.x, AED_df.geometry.y)))\n",
    "\n",
    "# KNN 모델 생성 및 학습 (k=1 사용하여 가장 가까운 약국 찾기)\n",
    "knn = NearestNeighbors(n_neighbors=1)\n",
    "knn.fit(AED_coords)\n",
    "\n",
    "# 각 격자와 가장 가까운 약국 간의 거리 계산\n",
    "distances, indices = knn.kneighbors(grid_coords)\n",
    "\n",
    "# 거리를 km 단위로 변환 (EPSG:4326의 경우, 1도 ≈ 111,000m이므로 111을 곱하여 km단위로 변환)\n",
    "distances_km = distances * 111\n",
    "\n",
    "# 결과를 DataFrame에 추가\n",
    "grid_map_df_c['nearest_AED_distance_weight'] = distances_km"
   ]
  },
  {
   "cell_type": "markdown",
   "metadata": {},
   "source": [
    "##### 119안전센터"
   ]
  },
  {
   "cell_type": "code",
   "execution_count": 19,
   "metadata": {},
   "outputs": [],
   "source": [
    "# 119안전센터의 좌표 추출\n",
    "coords_119 = np.array(list(zip(df_119.geometry.x, df_119.geometry.y)))\n",
    "\n",
    "# KNN 모델 생성 및 학습 (k=1 사용하여 가장 가까운 약국 찾기)\n",
    "knn = NearestNeighbors(n_neighbors=1)\n",
    "knn.fit(coords_119)\n",
    "\n",
    "# 각 격자와 가장 가까운 약국 간의 거리 계산\n",
    "distances, indices = knn.kneighbors(grid_coords)\n",
    "\n",
    "# 거리를 km 단위로 변환 (EPSG:4326의 경우, 1도 ≈ 111,000m이므로 111을 곱하여 km단위로 변환)\n",
    "distances_km = distances * 111\n",
    "\n",
    "# 결과를 DataFrame에 추가\n",
    "grid_map_df_c['nearest_119_distance_weight'] = distances_km"
   ]
  },
  {
   "cell_type": "markdown",
   "metadata": {},
   "source": [
    "#### 격자별 병원진료과목별 거리계산 알고리즘"
   ]
  },
  {
   "cell_type": "code",
   "execution_count": 20,
   "metadata": {},
   "outputs": [],
   "source": [
    "# 격자의 중심점 추출\n",
    "grid_coords = np.array(list(zip(grid_map_df_c.geometry.centroid.x, grid_map_df_c.geometry.centroid.y)))\n",
    "\n",
    "# 각 진료분과별로 병원희소성을 고려한 'Neighbors' 열 생성\n",
    "unique_departments = dict(hospital_exploded['mjr'].value_counts())\n",
    "hospital_exploded['Neighbors'] = hospital_exploded['mjr'].map(lambda x: min(unique_departments[x], 3))\n",
    "\n",
    "for dept in unique_departments:\n",
    "    # 해당 진료분과의 의료시설 좌표 추출\n",
    "    dept_hospitals = hospital_exploded[hospital_exploded['mjr'] == dept]\n",
    "    dept_coords = np.array(list(zip(dept_hospitals.geometry.x, dept_hospitals.geometry.y)))\n",
    "    \n",
    "    if len(dept_coords) == 0:\n",
    "        continue\n",
    "    \n",
    "    # KNN 모델 생성 및 학습 (Neighbors 열을 사용하여 가장 가까운 Neighbors개 의료시설 찾기)\n",
    "    knn = NearestNeighbors(n_neighbors=dept_hospitals['Neighbors'].iloc[0])\n",
    "    knn.fit(dept_coords)\n",
    "    \n",
    "    # 각 격자와 해당 진료분과 의료시설 간의 거리 계산\n",
    "    distances, indices = knn.kneighbors(grid_coords)\n",
    "    \n",
    "    # 각 격자에 대해 Neighbors 개수만큼 거리의 평균 계산\n",
    "    avg_distances = np.mean(distances[:, :dept_hospitals['Neighbors'].iloc[0]], axis=1)\n",
    "    \n",
    "    # 거리를 km 단위로 변환 (EPSG:4326의 경우, 1도 ≈ 111,000m이므로 111을 곱하여 km단위로 변환)\n",
    "    avg_distances_km = avg_distances * 111\n",
    "    \n",
    "    # 결과를 DataFrame에 추가\n",
    "    column_name = f'distance_to_{dept}'\n",
    "    grid_map_df_c[column_name] = avg_distances_km"
   ]
  },
  {
   "cell_type": "markdown",
   "metadata": {},
   "source": [
    "#### 격자별 도로 접근성 가중치 변환"
   ]
  },
  {
   "cell_type": "code",
   "execution_count": 21,
   "metadata": {},
   "outputs": [],
   "source": [
    "# GeoJSON 파일 불러오기\n",
    "with open('SBJ_2405_001/14.아산시_표준노드정보.geojson', encoding=\"UTF8\") as geojson_file:\n",
    "    geojson_data = json.load(geojson_file)\n",
    "node_df = pd.json_normalize(geojson_data['features'])\n",
    "node_df['geometry'] = node_df['geometry.coordinates'].apply(lambda x : make_point(x))\n",
    "# node_df 데이터프레임을 GeoDataFrame으로 변환\n",
    "node_df = gpd.GeoDataFrame(node_df, geometry='geometry')"
   ]
  },
  {
   "cell_type": "code",
   "execution_count": 22,
   "metadata": {},
   "outputs": [],
   "source": [
    "# 도로 데이터에서 도로(노드)에 대한 LineString 정보 추출\n",
    "coords_node = np.array(list(zip(node_df.geometry.x, node_df.geometry.y)))\n",
    "\n",
    "# KNN 모델 생성 및 학습 (주도로까지의 최단 거리 계산)\n",
    "knn = NearestNeighbors(n_neighbors=1)\n",
    "knn.fit(coords_node)\n",
    "\n",
    "# 각 격자의 중심점과 가장 가까운 주도로까지의 거리 계산\n",
    "distances, indices = knn.kneighbors(grid_coords)\n",
    "\n",
    "# 거리를 km 단위로 변환 (예시에서는 간단하게 유클리디안 거리를 사용했으므로, 다른 메트릭을 사용할 경우에는 단위 변환을 조정해야 할 수 있습니다)\n",
    "distances_km = distances * 111\n",
    "\n",
    "# 결과를 격자 데이터프레임에 추가\n",
    "grid_map_df_c['distance_to_nearest_road'] = distances_km"
   ]
  },
  {
   "cell_type": "markdown",
   "metadata": {},
   "source": [
    "#### 격자별 응급환자 신고 & 출동 & 병원도착시간 계산 및 가중치 변환 알고리즘"
   ]
  },
  {
   "cell_type": "code",
   "execution_count": 149,
   "metadata": {},
   "outputs": [
    {
     "name": "stderr",
     "output_type": "stream",
     "text": [
      "c:\\Users\\HJK\\anaconda3\\envs\\GIS\\lib\\site-packages\\geopandas\\geodataframe.py:1538: SettingWithCopyWarning:\n",
      "\n",
      "\n",
      "A value is trying to be set on a copy of a slice from a DataFrame.\n",
      "Try using .loc[row_indexer,col_indexer] = value instead\n",
      "\n",
      "See the caveats in the documentation: https://pandas.pydata.org/pandas-docs/stable/user_guide/indexing.html#returning-a-view-versus-a-copy\n",
      "\n",
      "c:\\Users\\HJK\\anaconda3\\envs\\GIS\\lib\\site-packages\\geopandas\\geodataframe.py:1538: SettingWithCopyWarning:\n",
      "\n",
      "\n",
      "A value is trying to be set on a copy of a slice from a DataFrame.\n",
      "Try using .loc[row_indexer,col_indexer] = value instead\n",
      "\n",
      "See the caveats in the documentation: https://pandas.pydata.org/pandas-docs/stable/user_guide/indexing.html#returning-a-view-versus-a-copy\n",
      "\n"
     ]
    }
   ],
   "source": [
    "# NaT 문자열을 NaT로 변환\n",
    "for col in df_emer119.columns[14:]:\n",
    "    df_emer119[col] = pd.to_datetime(df_emer119[col], errors='coerce')\n",
    "\n",
    "# datetime값이 NaT(결측값)인 row들 제거\n",
    "datetime_columns = ['신고시각', '출동시각', '도착시각', '접촉시각', '귀소시각', '병원도착시각']\n",
    "\n",
    "# 모든 datetime 열에서 NaT 값을 가진 행 제거\n",
    "datetime_columns = df_emer119.columns.tolist()\n",
    "df_emer119_cleaned = df_emer119.dropna(subset=datetime_columns)\n",
    "\n",
    "# timedelta 계산하여 의료불균형 가중치로 변환\n",
    "# 신고시각과 접촉시각의 시간차이 계산하여 가중치 구하기(시간단위)\n",
    "df_emer119_cleaned['신고시각_접촉시각_시간차이'] = (df_emer119_cleaned['접촉시각'] - df_emer119_cleaned['신고시각']).dt.total_seconds() / 3600\n",
    "# 접촉시각과 병원도착시각의 시간차이 계산하여 가중치 구하기(시간단위)\n",
    "df_emer119_cleaned['접촉시각_병원도착시각_시간차이'] = (df_emer119_cleaned['병원도착시각'] - df_emer119_cleaned['접촉시각']).dt.total_seconds() / 3600\n",
    "\n",
    "# gid 별 평균 계산\n",
    "avg_times = df_emer119_cleaned.groupby('gid').agg({\n",
    "    '신고시각_접촉시각_시간차이': 'mean',\n",
    "    '접촉시각_병원도착시각_시간차이': 'mean'\n",
    "}).to_dict(orient='index')\n",
    "\n",
    "# avg_times을 기반으로 '신고-접촉시간_가중치'와 '접촉-병원도착시간_가중치' column 추가\n",
    "grid_map_df_c['신고-접촉시간_가중치'] = grid_map_df_c['properties.gid'].map(lambda x: avg_times[x]['신고시각_접촉시각_시간차이'] if x in avg_times else float('nan'))\n",
    "grid_map_df_c['접촉-병원도착시간_가중치'] = grid_map_df_c['properties.gid'].map(lambda x: avg_times[x]['접촉시각_병원도착시각_시간차이'] if x in avg_times else float('nan'))"
   ]
  },
  {
   "cell_type": "markdown",
   "metadata": {},
   "source": [
    "#### 모델활용 격자단위 의료취약지역 도출"
   ]
  },
  {
   "cell_type": "code",
   "execution_count": null,
   "metadata": {},
   "outputs": [],
   "source": [
    "# 시간_가중치 column을 기준으로 하위 75% 이하인 값을 NaN 값을 포함하여 75% 값으로 대체\n",
    "threshold = grid_map_df_c['신고-접촉시간_가중치'].quantile(0.75)\n",
    "grid_map_df_c['신고-접촉시간_가중치'] = grid_map_df_c['신고-접촉시간_가중치'].apply(lambda x: threshold if pd.isna(x) or x <= threshold else x)\n",
    "threshold = grid_map_df_c['접촉-병원도착시간_가중치'].quantile(0.75)\n",
    "grid_map_df_c['접촉-병원도착시간_가중치'] = grid_map_df_c['접촉-병원도착시간_가중치'].apply(lambda x: threshold if pd.isna(x) or x <= threshold else x)"
   ]
  },
  {
   "cell_type": "code",
   "execution_count": null,
   "metadata": {},
   "outputs": [],
   "source": [
    "import matplotlib.pyplot as plt\n",
    "from sklearn.cluster import KMeans\n",
    "from sklearn.preprocessing import StandardScaler\n",
    "\n",
    "# 데이터 준비 (예시로 간단하게 특성을 설정합니다)\n",
    "features = grid_map_df_c[grid_map_df_c.columns[5:]]\n",
    "\n",
    "# 데이터 정규화\n",
    "scaler = StandardScaler()\n",
    "scaled_features = scaler.fit_transform(features)\n",
    "\n",
    "# 클러스터 개수 범위 설정\n",
    "k_range = range(1, 15)\n",
    "\n",
    "# 각 클러스터 개수에 대한 WCSS 계산\n",
    "wcss = []\n",
    "for k in k_range:\n",
    "    kmeans = KMeans(n_clusters=k, random_state=42)\n",
    "    kmeans.fit(scaled_features)\n",
    "    wcss.append(kmeans.inertia_)\n",
    "\n",
    "# 엘보우 방법을 위한 그래프 그리기\n",
    "plt.figure(figsize=(10, 8))\n",
    "plt.plot(k_range, wcss, marker='o')\n",
    "plt.xlabel('Number of Clusters (K)')\n",
    "plt.ylabel('WCSS')\n",
    "plt.title('Elbow Method for Optimal K')\n",
    "plt.show()\n"
   ]
  },
  {
   "cell_type": "code",
   "execution_count": null,
   "metadata": {},
   "outputs": [],
   "source": [
    "# 적절한 클러스터 개수를 엘보우 그래프를 통해 확인\n",
    "optimal_k = 8\n",
    "\n",
    "# K-means 모델 생성 및 학습\n",
    "kmeans = KMeans(n_clusters=optimal_k, random_state=42)\n",
    "kmeans.fit(scaled_features)\n",
    "\n",
    "# 클러스터링 결과 확인\n",
    "grid_map_df_c['cluster'] = kmeans.labels_"
   ]
  },
  {
   "cell_type": "code",
   "execution_count": 191,
   "metadata": {},
   "outputs": [
    {
     "name": "stdout",
     "output_type": "stream",
     "text": [
      "User Guide: https://docs.kepler.gl/docs/keplergl-jupyter\n",
      "Map saved to visualization/4. 아산시 의료불균형 분석/격자별 가중치 시각화 keplerGL.html!\n"
     ]
    }
   ],
   "source": [
    "#### 격자별 가중치 시각화\n",
    "# 맵 객체 생성 및 데이터 로드\n",
    "weight_map = KeplerGl(height=800)\n",
    "weight_map.add_data(data=grid_map_df_c, name=\"가중치데이터\")\n",
    "weight_map.add_data(data=asan_gdf, name=\"아산시 데이터\")\n",
    "# 맵 출력 및 상세설정\n",
    "weight_map.save_to_html(file_name=\"visualization/4. 아산시 의료불균형 분석/격자별 가중치 시각화 keplerGL.html\")"
   ]
  },
  {
   "cell_type": "code",
   "execution_count": 195,
   "metadata": {},
   "outputs": [],
   "source": [
    "# 의료취약 군집번호는 4,5,6,7 -> 4이상인 군집들만 필터링\n",
    "grid_map_vulnerable = grid_map_df_c[grid_map_df_c['cluster'] >= 4]\n",
    "grid_map_vulnerable = grid_map_vulnerable[['properties.gid', 'geometry']]\n",
    "grid_map_vulnerable.rename(columns={'properties.gid': 'gid'}, inplace=True)\n",
    "grid_map_vulnerable.to_csv(\"아산시_의료취약지역.csv\")"
   ]
  }
 ],
 "metadata": {
  "kernelspec": {
   "display_name": "Python 3.8.16 ('GIS')",
   "language": "python",
   "name": "python3"
  },
  "language_info": {
   "codemirror_mode": {
    "name": "ipython",
    "version": 3
   },
   "file_extension": ".py",
   "mimetype": "text/x-python",
   "name": "python",
   "nbconvert_exporter": "python",
   "pygments_lexer": "ipython3",
   "version": "3.8.16"
  },
  "orig_nbformat": 4,
  "vscode": {
   "interpreter": {
    "hash": "4c2ab1d16d29501e38a3ee1978e97de755e76d74519759c8e0a07f6b08052ab1"
   }
  }
 },
 "nbformat": 4,
 "nbformat_minor": 2
}
