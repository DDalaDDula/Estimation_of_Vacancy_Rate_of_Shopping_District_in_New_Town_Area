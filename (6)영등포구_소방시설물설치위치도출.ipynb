{
 "cells": [
  {
   "attachments": {},
   "cell_type": "markdown",
   "metadata": {},
   "source": [
    "## 기본설정 및 함수정의"
   ]
  },
  {
   "cell_type": "code",
   "execution_count": 1,
   "metadata": {},
   "outputs": [
    {
     "name": "stderr",
     "output_type": "stream",
     "text": [
      "c:\\Users\\HJK\\anaconda3\\envs\\GIS\\lib\\site-packages\\geopandas\\_compat.py:124: UserWarning:\n",
      "\n",
      "The Shapely GEOS version (3.11.2-CAPI-1.17.2) is incompatible with the GEOS version PyGEOS was compiled with (3.10.4-CAPI-1.16.2). Conversions between both will be slow.\n",
      "\n",
      "C:\\Users\\HJK\\AppData\\Local\\Temp\\ipykernel_20076\\4035485422.py:23: DeprecationWarning:\n",
      "\n",
      "Shapely 2.0 is installed, but because PyGEOS is also installed, GeoPandas still uses PyGEOS by default. However, starting with version 0.14, the default will switch to Shapely. To force to use Shapely 2.0 now, you can either uninstall PyGEOS or set the environment variable USE_PYGEOS=0. You can do this before starting the Python process, or in your code before importing geopandas:\n",
      "\n",
      "import os\n",
      "os.environ['USE_PYGEOS'] = '0'\n",
      "import geopandas\n",
      "\n",
      "In the next release, GeoPandas will switch to using Shapely by default, even if PyGEOS is installed. If you only have PyGEOS installed to get speed-ups, this switch should be smooth. However, if you are using PyGEOS directly (calling PyGEOS functions on geometries from GeoPandas), this will then stop working and you are encouraged to migrate from PyGEOS to Shapely 2.0 (https://shapely.readthedocs.io/en/latest/migration_pygeos.html).\n",
      "\n"
     ]
    }
   ],
   "source": [
    "import pandas as pd\n",
    "import numpy as np\n",
    "import plotly.express as px\n",
    "import plotly.graph_objects as go\n",
    "import plotly.graph_objs as go\n",
    "import plotly.offline as offline\n",
    "from folium.plugins import HeatMapWithTime\n",
    "from plotly.subplots import make_subplots\n",
    "import folium\n",
    "from folium import plugins\n",
    "from folium.plugins import HeatMap\n",
    "from folium import FeatureGroup\n",
    "import json\n",
    "import math\n",
    "import re\n",
    "from datetime import datetime\n",
    "import os\n",
    "import glob\n",
    "import subprocess\n",
    "from bs4 import BeautifulSoup as bs\n",
    "from shapely.geometry import Point, Polygon, LineString\n",
    "from shapely.ops import unary_union\n",
    "import geopandas as gpd\n",
    "from geopandas import GeoSeries\n",
    "import pyproj\n",
    "from tqdm import tqdm\n",
    "from keplergl import KeplerGl\n",
    "\n",
    "# 모든 열이 생략되지 않도록 설정\n",
    "pd.set_option('display.max_columns', None)\n",
    "\n",
    "# 영등포역 위도, 경도\n",
    "ydp = [37.51569886583137, 126.90768824079629]\n",
    "\n",
    "# Point를만드는 함수\n",
    "def make_point(x):\n",
    "    try:\n",
    "        return Point(x)\n",
    "    except Exception as e:\n",
    "        print(f\"An error occurred: {e}\")\n",
    "        return None\n",
    "# Polygon을 만드는 함수\n",
    "def make_pol(x):\n",
    "    try:\n",
    "        return Polygon(x[0])\n",
    "    except:\n",
    "        return Polygon(x[0][0])\n",
    "    \n",
    "# Linestring을 만드는 함수\n",
    "def make_lin(x):\n",
    "    try:\n",
    "        return LineString(x)\n",
    "    except:\n",
    "        return LineString(x[0])\n",
    "\n",
    "# 데이터프레임을 GeoPandas 데이터프레임으로 변환하는 함수 정의\n",
    "def geo_transform(DataFrame) :\n",
    "    # csv to geopandas\n",
    "    # lon, lat data를 geometry로 변경\n",
    "    DataFrame['lat'] = DataFrame['lat'].astype(float)\n",
    "    DataFrame['lon'] = DataFrame['lon'].astype(float)\n",
    "    DataFrame['geometry'] = DataFrame.apply(lambda row : Point([row['lon'], row['lat']]), axis=1) # 위도 및 경도롤 GeoPandas Point 객체로 변환\n",
    "    DataFrame = gpd.GeoDataFrame(DataFrame, geometry='geometry')\n",
    "    DataFrame.crs = {'init':'epsg:4326'} # geopandas 데이터프레임의 좌표계를 EPSG 4326으로 설정\n",
    "    DataFrame = DataFrame.to_crs({'init':'epsg:4326'}) # 데이터프레임의 좌표계를 자체 좌표계에서 EPSG 4326으로 변환\n",
    "    return DataFrame"
   ]
  },
  {
   "cell_type": "markdown",
   "metadata": {},
   "source": [
    "#### 영등포구 행정경계 (출처 - 통계지리정보서비스 2023년 센서스용 행정구역경계(읍면동))"
   ]
  },
  {
   "cell_type": "code",
   "execution_count": 2,
   "metadata": {},
   "outputs": [],
   "source": [
    "# shp to geodataframe convert\n",
    "shapefile_path = \"SBJ_2406_001/_census_data_2023_bnd_dong_bnd_dong_11190_2023_2023\\\\bnd_dong_11190_2023_2023_2Q.shp\"\n",
    "ydp_gdf = gpd.read_file(shapefile_path)\n",
    "ydp_gdf = ydp_gdf.to_crs(epsg=4326) #EPSG4326 형식으로 변환"
   ]
  },
  {
   "attachments": {},
   "cell_type": "markdown",
   "metadata": {},
   "source": [
    "#### 격자(매핑용)"
   ]
  },
  {
   "cell_type": "code",
   "execution_count": 3,
   "metadata": {},
   "outputs": [],
   "source": [
    "# GeoJSON 파일 불러오기\n",
    "with open('SBJ_2406_001/19.영등포_격자(매핑용).geojson', encoding=\"UTF8\") as geojson_file:\n",
    "    geojson_data = json.load(geojson_file)\n",
    "grid_map_df = pd.json_normalize(geojson_data['features'])\n",
    "grid_map_df['geometry'] = grid_map_df['geometry.coordinates'].apply(lambda x : make_pol(x))\n",
    "grid_map_df.drop(columns=\"geometry.coordinates\", axis=1, inplace=True)\n",
    "# grid_map_df 데이터프레임을 GeoDataFrame으로 변환\n",
    "grid_map_df = gpd.GeoDataFrame(grid_map_df, geometry='geometry')"
   ]
  },
  {
   "attachments": {},
   "cell_type": "markdown",
   "metadata": {},
   "source": [
    "#### 영등포구 상세 도로망"
   ]
  },
  {
   "cell_type": "code",
   "execution_count": 4,
   "metadata": {},
   "outputs": [],
   "source": [
    "# GeoJSON 파일 불러오기\n",
    "with open('SBJ_2406_001/6.영등포_상세도로망.geojson', encoding=\"UTF8\") as geojson_file:\n",
    "    geojson_data = json.load(geojson_file)\n",
    "roadsystem_df = pd.json_normalize(geojson_data['features'])\n",
    "roadsystem_df['geometry'] = roadsystem_df['geometry.coordinates'].apply(lambda x : make_lin(x))\n",
    "roadsystem_df['properties.link_id'] = roadsystem_df['properties.link_id'].astype(str)\n",
    "roadsystem_df.drop(columns=\"geometry.coordinates\", axis=1, inplace=True)\n",
    "# roadsystem_df 데이터프레임을 GeoDataFrame으로 변환\n",
    "roadsystem_df = gpd.GeoDataFrame(roadsystem_df, geometry='geometry')"
   ]
  },
  {
   "cell_type": "code",
   "execution_count": 22,
   "metadata": {},
   "outputs": [
    {
     "name": "stderr",
     "output_type": "stream",
     "text": [
      "C:\\Users\\HJK\\AppData\\Local\\Temp\\ipykernel_20076\\2243823324.py:15: UserWarning:\n",
      "\n",
      "`keep_geom_type=True` in overlay resulted in 4898 dropped geometries of different geometry types than df1 has. Set `keep_geom_type=False` to retain all geometries\n",
      "\n"
     ]
    }
   ],
   "source": [
    "from shapely import wkt\n",
    "# 화재취약지역 데이터프레임을 GeoPandas 데이터프레임으로 변환\n",
    "firefighting_vulnerable_df = pd.read_csv('visualization/화재취약지역.csv')\n",
    "# 문자열을 폴리곤 객체로 변환\n",
    "firefighting_vulnerable_df['geometry'] = firefighting_vulnerable_df['geometry'].apply(wkt.loads)\n",
    "firefighting_vulnerable_df = gpd.GeoDataFrame(firefighting_vulnerable_df, geometry='geometry')\n",
    "\n",
    "# 소방차진입 난이도 높은지역 데이터프레임을 GeoPandas 데이터프레임으로 변환\n",
    "firefighting_car_vulnerable_df = pd.read_csv('visualization/소방차진입 난이도 높은지역.csv')\n",
    "# 문자열을 폴리곤 객체로 변환\n",
    "firefighting_car_vulnerable_df['geometry'] = firefighting_car_vulnerable_df['geometry'].apply(wkt.loads)\n",
    "firefighting_car_vulnerable_df = gpd.GeoDataFrame(firefighting_car_vulnerable_df, geometry='geometry')\n",
    "\n",
    "# 공간 조인하여 겹치는 부분만 남김\n",
    "intersection_gdf = gpd.overlay(firefighting_vulnerable_df, firefighting_car_vulnerable_df, how='intersection')"
   ]
  },
  {
   "cell_type": "code",
   "execution_count": null,
   "metadata": {},
   "outputs": [],
   "source": [
    "# 맵 객체 생성 및 데이터 로드\n",
    "install_map = KeplerGl(height=800)\n",
    "install_map.add_data(data=intersection_gdf, name=\"소방시설물 설치위치(격자)\")\n",
    "install_map.add_data(data=ydp_gdf, name=\"영등포구 행정동 데이터\")\n",
    "install_map"
   ]
  },
  {
   "cell_type": "code",
   "execution_count": 29,
   "metadata": {},
   "outputs": [
    {
     "name": "stderr",
     "output_type": "stream",
     "text": [
      "C:\\Users\\HJK\\AppData\\Local\\Temp\\ipykernel_20076\\1652623135.py:2: SettingWithCopyWarning:\n",
      "\n",
      "\n",
      "A value is trying to be set on a copy of a slice from a DataFrame\n",
      "\n",
      "See the caveats in the documentation: https://pandas.pydata.org/pandas-docs/stable/user_guide/indexing.html#returning-a-view-versus-a-copy\n",
      "\n"
     ]
    }
   ],
   "source": [
    "intersection_gdf = intersection_gdf[['gid_1', 'geometry']]\n",
    "intersection_gdf.rename(columns={'gid_1' : 'gid'}, inplace=True)\n",
    "intersection_gdf.to_csv(\"소방시설물 설치위치(격자단위).csv\", index=False)"
   ]
  }
 ],
 "metadata": {
  "kernelspec": {
   "display_name": "Python 3.8.16 ('GIS')",
   "language": "python",
   "name": "python3"
  },
  "language_info": {
   "codemirror_mode": {
    "name": "ipython",
    "version": 3
   },
   "file_extension": ".py",
   "mimetype": "text/x-python",
   "name": "python",
   "nbconvert_exporter": "python",
   "pygments_lexer": "ipython3",
   "version": "3.8.16"
  },
  "orig_nbformat": 4,
  "vscode": {
   "interpreter": {
    "hash": "4c2ab1d16d29501e38a3ee1978e97de755e76d74519759c8e0a07f6b08052ab1"
   }
  }
 },
 "nbformat": 4,
 "nbformat_minor": 2
}
