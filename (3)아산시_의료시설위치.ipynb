{
 "cells": [
  {
   "attachments": {},
   "cell_type": "markdown",
   "metadata": {},
   "source": [
    "## 기본설정 및 함수정의"
   ]
  },
  {
   "cell_type": "code",
   "execution_count": 6,
   "metadata": {},
   "outputs": [],
   "source": [
    "import pandas as pd\n",
    "import numpy as np\n",
    "import plotly.express as px\n",
    "import plotly.graph_objects as go\n",
    "import plotly.graph_objs as go\n",
    "import plotly.offline as offline\n",
    "from folium.plugins import HeatMapWithTime\n",
    "from plotly.subplots import make_subplots\n",
    "import folium\n",
    "from folium import plugins\n",
    "from folium.plugins import HeatMap\n",
    "from folium import FeatureGroup\n",
    "import json\n",
    "import math\n",
    "import re\n",
    "from datetime import datetime\n",
    "import os\n",
    "import glob\n",
    "import subprocess\n",
    "from bs4 import BeautifulSoup as bs\n",
    "from shapely.geometry import Point, Polygon, LineString\n",
    "from shapely.ops import unary_union\n",
    "import geopandas as gpd\n",
    "from geopandas import GeoSeries\n",
    "import pyproj\n",
    "from tqdm import tqdm\n",
    "from keplergl import KeplerGl\n",
    "\n",
    "# 모든 열이 생략되지 않도록 설정\n",
    "pd.set_option('display.max_columns', None)\n",
    "\n",
    "# 아산시청 위도, 경도\n",
    "Asan = [36.789882248764656, 127.00274491353838]\n",
    "\n",
    "# Polygon을 만드는 함수\n",
    "def make_pol(x):\n",
    "    try:\n",
    "        return Polygon(x[0])\n",
    "    except:\n",
    "        return Polygon(x[0][0])\n",
    "    \n",
    "# Linestring을 만드는 함수\n",
    "def make_lin(x):\n",
    "    try:\n",
    "        return LineString(x)\n",
    "    except:\n",
    "        return LineString(x[0])\n",
    "\n",
    "# 데이터프레임을 GeoPandas 데이터프레임으로 변환하는 함수 정의\n",
    "def geo_transform(DataFrame) :\n",
    "    # csv to geopandas\n",
    "    # lon, lat data를 geometry로 변경\n",
    "    DataFrame['lat'] = DataFrame['lat'].astype(float)\n",
    "    DataFrame['lon'] = DataFrame['lon'].astype(float)\n",
    "    DataFrame['geometry'] = DataFrame.apply(lambda row : Point([row['lon'], row['lat']]), axis=1) # 위도 및 경도롤 GeoPandas Point 객체로 변환\n",
    "    DataFrame = gpd.GeoDataFrame(DataFrame, geometry='geometry')\n",
    "    DataFrame.crs = {'init':'epsg:4326'} # geopandas 데이터프레임의 좌표계를 EPSG 4326으로 설정\n",
    "    DataFrame = DataFrame.to_crs({'init':'epsg:4326'}) # 데이터프레임의 좌표계를 자체 좌표계에서 EPSG 4326으로 변환\n",
    "    return DataFrame"
   ]
  },
  {
   "cell_type": "markdown",
   "metadata": {},
   "source": [
    "#### 아산시 행정경계 (출처 - 통계지리정보서비스 2023년 센서스용 행정구역경계(읍면동))"
   ]
  },
  {
   "cell_type": "code",
   "execution_count": 5,
   "metadata": {},
   "outputs": [],
   "source": [
    "# shp to geodataframe convert\n",
    "shapefile_path = \"SBJ_2405_001/_census_data_2023_bnd_dong_bnd_dong_34040_2023_2023/bnd_dong_34040_2023_2023_2Q.shp\"\n",
    "asan_gdf = gpd.read_file(shapefile_path)\n",
    "asan_gdf = asan_gdf.to_crs(epsg=4326) #EPSG4326 형식으로 변환\n",
    "\n",
    "# 행정동 구분에 따라 색 구분하는 함수\n",
    "def hjd_color(name):\n",
    "    if name[-1] == '읍':\n",
    "        return 'green'\n",
    "    elif name[-1] == '면':\n",
    "        return 'yellow'\n",
    "    elif name[-1] == '동':\n",
    "        return 'red'\n",
    "\n",
    "asan_gdf['color'] = asan_gdf['ADM_NM'].apply(hjd_color)"
   ]
  },
  {
   "attachments": {},
   "cell_type": "markdown",
   "metadata": {},
   "source": [
    "#### 격자(매핑용)"
   ]
  },
  {
   "cell_type": "code",
   "execution_count": 3,
   "metadata": {},
   "outputs": [],
   "source": [
    "# GeoJSON 파일 불러오기\n",
    "with open('SBJ_2405_001/12.아산시_격자(매핑용).geojson', encoding=\"UTF8\") as geojson_file:\n",
    "    geojson_data = json.load(geojson_file)\n",
    "grid_map_df = pd.json_normalize(geojson_data['features'])\n",
    "grid_map_df['geometry'] = grid_map_df['geometry.coordinates'].apply(lambda x : make_pol(x))\n",
    "# grid_map_df 데이터프레임을 GeoDataFrame으로 변환\n",
    "grid_map_df = gpd.GeoDataFrame(grid_map_df, geometry='geometry')"
   ]
  },
  {
   "attachments": {},
   "cell_type": "markdown",
   "metadata": {},
   "source": [
    "#### 아산시 상세 도로망"
   ]
  },
  {
   "cell_type": "code",
   "execution_count": 4,
   "metadata": {},
   "outputs": [],
   "source": [
    "# GeoJSON 파일 불러오기\n",
    "with open('SBJ_2405_001/4.아산시_상세도로망.geojson', encoding=\"UTF8\") as geojson_file:\n",
    "    geojson_data = json.load(geojson_file)\n",
    "roadsystem_df = pd.json_normalize(geojson_data['features'])\n",
    "roadsystem_df['geometry'] = roadsystem_df['geometry.coordinates'].apply(lambda x : make_lin(x))\n",
    "roadsystem_df['properties.link_id'] = roadsystem_df['properties.link_id'].astype(str)\n",
    "# roadsystem_df 데이터프레임을 GeoDataFrame으로 변환\n",
    "roadsystem_df = gpd.GeoDataFrame(roadsystem_df, geometry='geometry')"
   ]
  },
  {
   "cell_type": "code",
   "execution_count": null,
   "metadata": {},
   "outputs": [],
   "source": [
    "# map 생성\n",
    "m = folium.Map(location=Asan, tiles='cartodbpositron', zoom_start=11)\n",
    "\n",
    "# 통합도로망 추가\n",
    "folium.TileLayer('cartodbpositron', overlay=False).add_to(m)\n",
    "grid_layer = folium.GeoJson(\n",
    "    unary_union(asan_gdf['geometry']),\n",
    "    name=\"아산시 행정동\",\n",
    "    style_function=lambda feature: {\n",
    "        'fillColor': 'none',\n",
    "        'color': 'black',\n",
    "        'weight': 1\n",
    "    }\n",
    ")\n",
    "grid_layer.add_to(m)\n",
    "roal_geojson = roadsystem_df['geometry'].to_json()\n",
    "roal_layer = folium.GeoJson(\n",
    "    roal_geojson,\n",
    "    name=\"도로망\",\n",
    "    style_function=lambda feature: {\n",
    "        'fillColor': 'none',\n",
    "        'color': 'gray',\n",
    "        'weight': 3\n",
    "    })\n",
    "roal_layer.add_to(m)\n",
    "# 맵 출력\n",
    "m"
   ]
  },
  {
   "attachments": {},
   "cell_type": "markdown",
   "metadata": {},
   "source": [
    "#### 아산시 병원진료과목정보"
   ]
  },
  {
   "cell_type": "code",
   "execution_count": 8,
   "metadata": {},
   "outputs": [],
   "source": [
    "# 병원 데이터프레임을\n",
    "treatment_df = pd.read_csv('SBJ_2405_001/22.아산시_병원진료과목정보.csv')"
   ]
  },
  {
   "cell_type": "code",
   "execution_count": 10,
   "metadata": {},
   "outputs": [
    {
     "name": "stderr",
     "output_type": "stream",
     "text": [
      "100%|██████████| 331/331 [00:00<00:00, 3036.76it/s]\n"
     ]
    }
   ],
   "source": [
    "# 병원별 진료과목 list mapping한 dict생성\n",
    "hos_dic = {}\n",
    "for hos in tqdm(treatment_df['mdcl_inst'].unique()):\n",
    "    subset = treatment_df[treatment_df['mdcl_inst'] == hos]\n",
    "    hos_dic[hos] = subset['mdcl_mjr_nm'].tolist()"
   ]
  },
  {
   "cell_type": "markdown",
   "metadata": {},
   "source": [
    "#### 아산시 병원정보"
   ]
  },
  {
   "cell_type": "code",
   "execution_count": null,
   "metadata": {},
   "outputs": [],
   "source": [
    "# 병원 데이터프레임을 GeoPandas 데이터프레임으로 변환\n",
    "hospital_df = pd.read_csv('SBJ_2405_001/21.아산시_병원정보.csv')\n",
    "hospital_df = geo_transform(hospital_df)\n",
    "# 병원별 진료과목 mapping\n",
    "hospital_df['mjr'] = hospital_df['mdcl_inst'].map(hos_dic)\n",
    "# Update 'mjr' column where it is null with 'mdcl_gbn' column value as a list\n",
    "hospital_df.loc[hospital_df['mjr'].isnull(), 'mjr'] = hospital_df['mdcl_gbn'].apply(lambda x: [x])\n"
   ]
  },
  {
   "cell_type": "markdown",
   "metadata": {},
   "source": [
    "#### 아산시 약국현황"
   ]
  },
  {
   "cell_type": "code",
   "execution_count": null,
   "metadata": {},
   "outputs": [],
   "source": [
    "# 약국 데이터프레임을 GeoPandas 데이터프레임으로 변환\n",
    "pharmacy_df = pd.read_csv('SBJ_2405_001/23.아산시_약국현황.csv')\n",
    "pharmacy_df = geo_transform(pharmacy_df)"
   ]
  },
  {
   "cell_type": "markdown",
   "metadata": {},
   "source": [
    "#### 아산시 AED위치정보"
   ]
  },
  {
   "cell_type": "code",
   "execution_count": null,
   "metadata": {},
   "outputs": [],
   "source": [
    "AED_df = pd.read_csv('SBJ_2405_001/8.아산시_자동심장충격기(AED)위치정보.csv')\n",
    "AED_df = geo_transform(AED_df)"
   ]
  },
  {
   "cell_type": "markdown",
   "metadata": {},
   "source": [
    "#### 아산시 119 안전센터"
   ]
  },
  {
   "cell_type": "code",
   "execution_count": null,
   "metadata": {},
   "outputs": [],
   "source": [
    "df_119 = pd.read_csv('SBJ_2405_001/24.아산시_119안전센터정보.csv')\n",
    "df_119 = geo_transform(df_119)"
   ]
  },
  {
   "cell_type": "markdown",
   "metadata": {},
   "source": [
    "## 시설위치 시각화"
   ]
  },
  {
   "cell_type": "code",
   "execution_count": null,
   "metadata": {},
   "outputs": [],
   "source": [
    "# 지도 생성\n",
    "m = folium.Map(location=Asan, tiles='cartodbpositron', zoom_start=11)\n",
    "\n",
    "# 기본 배경지도를 항상 표시하도록 설정 및 통합도로망 추가\n",
    "folium.TileLayer('cartodbpositron', overlay=False).add_to(m)\n",
    "grid_geojson = roadsystem_df['geometry'].to_json()\n",
    "grid_layer = folium.GeoJson(\n",
    "    grid_geojson,\n",
    "    name=\"도로망\",\n",
    "    style_function=lambda feature: {\n",
    "        'fillColor': 'none',\n",
    "        'color': 'gray',\n",
    "        'weight': 3\n",
    "    }\n",
    ")\n",
    "grid_layer.add_to(m)\n",
    "\n",
    "# 행정구역 polygon 추가\n",
    "for _, row in asan_gdf.iterrows() :\n",
    "    folium.GeoJson(\n",
    "        row['geometry'],\n",
    "        name=row['ADM_NM'],\n",
    "        style_function=lambda feature: {\n",
    "            'fillColor': 'none',\n",
    "            'color': 'black',\n",
    "            'weight': 1\n",
    "        }).add_to(m)\n",
    "\n",
    "# 병원 위치 mapping\n",
    "m_hospital = folium.FeatureGroup(name=\"병원\", overlay=True)\n",
    "for _, row in hospital_df.iterrows() :\n",
    "    folium.Circle(location=(row['lat'], row['lon']), radius=5, color='red', weight = 3,\n",
    "            fill='red', name=\"병원\").add_to(m_hospital)\n",
    "m_hospital.add_to(m)\n",
    "\n",
    "# 약국 위치 mapping\n",
    "m_pharmacy = folium.FeatureGroup(name=\"약국\", overlay=True)\n",
    "for _, row in pharmacy_df.iterrows() :\n",
    "    folium.Circle(location=(row['lat'], row['lon']), radius=5, color='green', weight = 3,\n",
    "            fill='red', name=\"약국\").add_to(m_pharmacy)\n",
    "m_pharmacy.add_to(m)\n",
    "\n",
    "# AED 위치 매핑\n",
    "m_AED = folium.FeatureGroup(name=\"AED\", overlay=True)\n",
    "for _, row in AED_df.iterrows() :\n",
    "    folium.Circle(location=(row['lat'], row['lon']), radius=5, color='blue', weight = 3,\n",
    "            fill='red', name=\"AED\").add_to(m_AED)\n",
    "m_AED.add_to(m)\n",
    "\n",
    "# 119 위치 매핑\n",
    "m_119 = folium.FeatureGroup(name=\"119\", overlay=True)\n",
    "for _, row in df_119.iterrows() :\n",
    "    folium.Circle(location=(row['lat'], row['lon']), radius=5, color='orange', weight = 5,\n",
    "            fill='red', name=\"119\").add_to(m_119)\n",
    "m_119.add_to(m)\n",
    "\n",
    "# LayerControl을 사용하여 연도 선택\n",
    "folium.LayerControl(collapsed=False).add_to(m)\n",
    "\n",
    "# 지도 출력\n",
    "m"
   ]
  },
  {
   "cell_type": "code",
   "execution_count": 22,
   "metadata": {},
   "outputs": [],
   "source": [
    "m.save(\"visualization/4. 아산시 의료불균형 분석/아산시 의료시설위치 시각화.html\")"
   ]
  }
 ],
 "metadata": {
  "kernelspec": {
   "display_name": "Python 3.8.16 ('GIS')",
   "language": "python",
   "name": "python3"
  },
  "language_info": {
   "codemirror_mode": {
    "name": "ipython",
    "version": 3
   },
   "file_extension": ".py",
   "mimetype": "text/x-python",
   "name": "python",
   "nbconvert_exporter": "python",
   "pygments_lexer": "ipython3",
   "version": "3.8.16"
  },
  "orig_nbformat": 4,
  "vscode": {
   "interpreter": {
    "hash": "4c2ab1d16d29501e38a3ee1978e97de755e76d74519759c8e0a07f6b08052ab1"
   }
  }
 },
 "nbformat": 4,
 "nbformat_minor": 2
}
