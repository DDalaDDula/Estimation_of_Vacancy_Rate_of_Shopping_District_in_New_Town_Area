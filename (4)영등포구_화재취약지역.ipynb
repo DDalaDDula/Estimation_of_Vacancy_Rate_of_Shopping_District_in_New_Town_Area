{
 "cells": [
  {
   "attachments": {},
   "cell_type": "markdown",
   "metadata": {},
   "source": [
    "## 기본설정 및 함수정의"
   ]
  },
  {
   "cell_type": "code",
   "execution_count": 1,
   "metadata": {},
   "outputs": [
    {
     "name": "stderr",
     "output_type": "stream",
     "text": [
      "c:\\Users\\HJK\\anaconda3\\envs\\GIS\\lib\\site-packages\\geopandas\\_compat.py:124: UserWarning:\n",
      "\n",
      "The Shapely GEOS version (3.11.2-CAPI-1.17.2) is incompatible with the GEOS version PyGEOS was compiled with (3.10.4-CAPI-1.16.2). Conversions between both will be slow.\n",
      "\n",
      "C:\\Users\\HJK\\AppData\\Local\\Temp\\ipykernel_13464\\4035485422.py:23: DeprecationWarning:\n",
      "\n",
      "Shapely 2.0 is installed, but because PyGEOS is also installed, GeoPandas still uses PyGEOS by default. However, starting with version 0.14, the default will switch to Shapely. To force to use Shapely 2.0 now, you can either uninstall PyGEOS or set the environment variable USE_PYGEOS=0. You can do this before starting the Python process, or in your code before importing geopandas:\n",
      "\n",
      "import os\n",
      "os.environ['USE_PYGEOS'] = '0'\n",
      "import geopandas\n",
      "\n",
      "In the next release, GeoPandas will switch to using Shapely by default, even if PyGEOS is installed. If you only have PyGEOS installed to get speed-ups, this switch should be smooth. However, if you are using PyGEOS directly (calling PyGEOS functions on geometries from GeoPandas), this will then stop working and you are encouraged to migrate from PyGEOS to Shapely 2.0 (https://shapely.readthedocs.io/en/latest/migration_pygeos.html).\n",
      "\n"
     ]
    }
   ],
   "source": [
    "import pandas as pd\n",
    "import numpy as np\n",
    "import plotly.express as px\n",
    "import plotly.graph_objects as go\n",
    "import plotly.graph_objs as go\n",
    "import plotly.offline as offline\n",
    "from folium.plugins import HeatMapWithTime\n",
    "from plotly.subplots import make_subplots\n",
    "import folium\n",
    "from folium import plugins\n",
    "from folium.plugins import HeatMap\n",
    "from folium import FeatureGroup\n",
    "import json\n",
    "import math\n",
    "import re\n",
    "from datetime import datetime\n",
    "import os\n",
    "import glob\n",
    "import subprocess\n",
    "from bs4 import BeautifulSoup as bs\n",
    "from shapely.geometry import Point, Polygon, LineString\n",
    "from shapely.ops import unary_union\n",
    "import geopandas as gpd\n",
    "from geopandas import GeoSeries\n",
    "import pyproj\n",
    "from tqdm import tqdm\n",
    "from keplergl import KeplerGl\n",
    "\n",
    "# 모든 열이 생략되지 않도록 설정\n",
    "pd.set_option('display.max_columns', None)\n",
    "\n",
    "# 영등포역 위도, 경도\n",
    "ydp = [37.51569886583137, 126.90768824079629]\n",
    "\n",
    "# Point를만드는 함수\n",
    "def make_point(x):\n",
    "    try:\n",
    "        return Point(x)\n",
    "    except Exception as e:\n",
    "        print(f\"An error occurred: {e}\")\n",
    "        return None\n",
    "# Polygon을 만드는 함수\n",
    "def make_pol(x):\n",
    "    try:\n",
    "        return Polygon(x[0])\n",
    "    except:\n",
    "        return Polygon(x[0][0])\n",
    "    \n",
    "# Linestring을 만드는 함수\n",
    "def make_lin(x):\n",
    "    try:\n",
    "        return LineString(x)\n",
    "    except:\n",
    "        return LineString(x[0])\n",
    "\n",
    "# 데이터프레임을 GeoPandas 데이터프레임으로 변환하는 함수 정의\n",
    "def geo_transform(DataFrame) :\n",
    "    # csv to geopandas\n",
    "    # lon, lat data를 geometry로 변경\n",
    "    DataFrame['lat'] = DataFrame['lat'].astype(float)\n",
    "    DataFrame['lon'] = DataFrame['lon'].astype(float)\n",
    "    DataFrame['geometry'] = DataFrame.apply(lambda row : Point([row['lon'], row['lat']]), axis=1) # 위도 및 경도롤 GeoPandas Point 객체로 변환\n",
    "    DataFrame = gpd.GeoDataFrame(DataFrame, geometry='geometry')\n",
    "    DataFrame.crs = {'init':'epsg:4326'} # geopandas 데이터프레임의 좌표계를 EPSG 4326으로 설정\n",
    "    DataFrame = DataFrame.to_crs({'init':'epsg:4326'}) # 데이터프레임의 좌표계를 자체 좌표계에서 EPSG 4326으로 변환\n",
    "    return DataFrame"
   ]
  },
  {
   "cell_type": "markdown",
   "metadata": {},
   "source": [
    "#### 영등포구 행정경계 (출처 - 통계지리정보서비스 2023년 센서스용 행정구역경계(읍면동))"
   ]
  },
  {
   "cell_type": "code",
   "execution_count": 2,
   "metadata": {},
   "outputs": [],
   "source": [
    "# shp to geodataframe convert\n",
    "shapefile_path = \"SBJ_2406_001/_census_data_2023_bnd_dong_bnd_dong_11190_2023_2023\\\\bnd_dong_11190_2023_2023_2Q.shp\"\n",
    "ydp_gdf = gpd.read_file(shapefile_path)\n",
    "ydp_gdf = ydp_gdf.to_crs(epsg=4326) #EPSG4326 형식으로 변환"
   ]
  },
  {
   "attachments": {},
   "cell_type": "markdown",
   "metadata": {},
   "source": [
    "#### 격자(매핑용)"
   ]
  },
  {
   "cell_type": "code",
   "execution_count": 3,
   "metadata": {},
   "outputs": [],
   "source": [
    "# GeoJSON 파일 불러오기\n",
    "with open('SBJ_2406_001/19.영등포_격자(매핑용).geojson', encoding=\"UTF8\") as geojson_file:\n",
    "    geojson_data = json.load(geojson_file)\n",
    "grid_map_df = pd.json_normalize(geojson_data['features'])\n",
    "grid_map_df['geometry'] = grid_map_df['geometry.coordinates'].apply(lambda x : make_pol(x))\n",
    "grid_map_df.drop(columns=\"geometry.coordinates\", axis=1, inplace=True)\n",
    "# grid_map_df 데이터프레임을 GeoDataFrame으로 변환\n",
    "grid_map_df = gpd.GeoDataFrame(grid_map_df, geometry='geometry')"
   ]
  },
  {
   "attachments": {},
   "cell_type": "markdown",
   "metadata": {},
   "source": [
    "#### 영등포구 상세 도로망"
   ]
  },
  {
   "cell_type": "code",
   "execution_count": 4,
   "metadata": {},
   "outputs": [],
   "source": [
    "# GeoJSON 파일 불러오기\n",
    "with open('SBJ_2406_001/6.영등포_상세도로망.geojson', encoding=\"UTF8\") as geojson_file:\n",
    "    geojson_data = json.load(geojson_file)\n",
    "roadsystem_df = pd.json_normalize(geojson_data['features'])\n",
    "roadsystem_df['geometry'] = roadsystem_df['geometry.coordinates'].apply(lambda x : make_lin(x))\n",
    "roadsystem_df['properties.link_id'] = roadsystem_df['properties.link_id'].astype(str)\n",
    "roadsystem_df.drop(columns=\"geometry.coordinates\", axis=1, inplace=True)\n",
    "# roadsystem_df 데이터프레임을 GeoDataFrame으로 변환\n",
    "roadsystem_df = gpd.GeoDataFrame(roadsystem_df, geometry='geometry')"
   ]
  },
  {
   "cell_type": "markdown",
   "metadata": {},
   "source": [
    "#### 도로명주소(도로)"
   ]
  },
  {
   "cell_type": "code",
   "execution_count": 5,
   "metadata": {},
   "outputs": [],
   "source": [
    "# GeoJSON 파일 불러오기\n",
    "with open('SBJ_2406_001/7.영등포_도로명주소(도로).geojson', encoding=\"UTF8\") as geojson_file:\n",
    "    geojson_data = json.load(geojson_file)\n",
    "roadname_df = pd.json_normalize(geojson_data['features'])\n",
    "roadname_df['geometry.coordinates'] = roadname_df['geometry.coordinates'].apply(lambda x : make_lin(x))\n",
    "roadname_df.rename(columns={'geometry.coordinates' : 'geometry'}, inplace=True)\n",
    "# roadname_df 데이터프레임을 GeoDataFrame으로 변환\n",
    "roadname_df = gpd.GeoDataFrame(roadname_df, geometry='geometry')"
   ]
  },
  {
   "cell_type": "markdown",
   "metadata": {},
   "source": [
    "#### 도로명주소(건물)"
   ]
  },
  {
   "cell_type": "code",
   "execution_count": 6,
   "metadata": {},
   "outputs": [],
   "source": [
    "# GeoJSON 파일 불러오기\n",
    "with open('SBJ_2406_001/11.영등포_도로명주소(건물).geojson', encoding=\"UTF8\") as geojson_file:\n",
    "    geojson_data = json.load(geojson_file)\n",
    "building_df = pd.json_normalize(geojson_data['features'])\n",
    "building_df['geometry.coordinates'] = building_df['geometry.coordinates'].apply(lambda x : make_pol(x))\n",
    "building_df.rename(columns={'geometry.coordinates' : 'geometry'}, inplace=True)\n",
    "# building_df 데이터프레임을 GeoDataFrame으로 변환\n",
    "building_df = gpd.GeoDataFrame(building_df, geometry='geometry')"
   ]
  },
  {
   "cell_type": "markdown",
   "metadata": {},
   "source": [
    "#### 소방용수시설 시각화"
   ]
  },
  {
   "cell_type": "code",
   "execution_count": 7,
   "metadata": {},
   "outputs": [
    {
     "name": "stderr",
     "output_type": "stream",
     "text": [
      "c:\\Users\\HJK\\anaconda3\\envs\\GIS\\lib\\site-packages\\pyproj\\crs\\crs.py:141: FutureWarning:\n",
      "\n",
      "'+init=<authority>:<code>' syntax is deprecated. '<authority>:<code>' is the preferred initialization method. When making the change, be mindful of axis order changes: https://pyproj4.github.io/pyproj/stable/gotchas.html#axis-order-changes-in-proj-6\n",
      "\n",
      "c:\\Users\\HJK\\anaconda3\\envs\\GIS\\lib\\site-packages\\pyproj\\crs\\crs.py:141: FutureWarning:\n",
      "\n",
      "'+init=<authority>:<code>' syntax is deprecated. '<authority>:<code>' is the preferred initialization method. When making the change, be mindful of axis order changes: https://pyproj4.github.io/pyproj/stable/gotchas.html#axis-order-changes-in-proj-6\n",
      "\n"
     ]
    }
   ],
   "source": [
    "# 소방용수시설 데이터프레임을 GeoPandas 데이터프레임으로 변환\n",
    "firefighting_water_df = pd.read_csv('SBJ_2406_001/22.영등포_소방용수시설.csv')\n",
    "firefighting_water_df.dropna(inplace=True)\n",
    "firefighting_water_df = geo_transform(firefighting_water_df)"
   ]
  },
  {
   "cell_type": "markdown",
   "metadata": {},
   "source": [
    "#### 소방서 위치정보"
   ]
  },
  {
   "cell_type": "code",
   "execution_count": 8,
   "metadata": {},
   "outputs": [
    {
     "name": "stderr",
     "output_type": "stream",
     "text": [
      "c:\\Users\\HJK\\anaconda3\\envs\\GIS\\lib\\site-packages\\pyproj\\crs\\crs.py:141: FutureWarning:\n",
      "\n",
      "'+init=<authority>:<code>' syntax is deprecated. '<authority>:<code>' is the preferred initialization method. When making the change, be mindful of axis order changes: https://pyproj4.github.io/pyproj/stable/gotchas.html#axis-order-changes-in-proj-6\n",
      "\n",
      "c:\\Users\\HJK\\anaconda3\\envs\\GIS\\lib\\site-packages\\pyproj\\crs\\crs.py:141: FutureWarning:\n",
      "\n",
      "'+init=<authority>:<code>' syntax is deprecated. '<authority>:<code>' is the preferred initialization method. When making the change, be mindful of axis order changes: https://pyproj4.github.io/pyproj/stable/gotchas.html#axis-order-changes-in-proj-6\n",
      "\n"
     ]
    }
   ],
   "source": [
    "# 소방서 데이터프레임을 GeoPandas 데이터프레임으로 변환\n",
    "firehouse_df = pd.read_csv('SBJ_2406_001/23.영등포_소방서위치정보.csv')\n",
    "firehouse_df = geo_transform(firehouse_df)"
   ]
  },
  {
   "cell_type": "markdown",
   "metadata": {},
   "source": [
    "#### 격자 - 고령화 가중치 mapping"
   ]
  },
  {
   "cell_type": "code",
   "execution_count": 9,
   "metadata": {},
   "outputs": [],
   "source": [
    "respop_df = pd.read_csv('SBJ_2406_001/1.영등포_성연령별_거주인구(격자).csv')\n",
    "\n",
    "#grid ID 리스트 와 매핑 & respop_df 필터링\n",
    "grid_id = grid_map_df['properties.gid'].tolist() # gid는 전부 unique한 값\n",
    "grid_respop = respop_df[respop_df['gid'].isin(grid_id)]\n",
    "grid_respop = grid_respop.fillna(0)\n",
    "grid_respop = pd.concat([grid_respop.iloc[:, :2], grid_respop.iloc[:, 2:].astype(int)], axis=1)\n",
    "grid_respop['year'] = grid_respop['year'].astype(str)\n",
    "\n",
    "# 성별구분 없이 통합 및 세대별 인구수 데이터프레임으로 변환\n",
    "columns = ['gid', 'year']\n",
    "for i in range(2, len(grid_respop.columns)):\n",
    "    age = f'{grid_respop.columns[i][2:4]}대' if grid_respop.columns[i][2] != '1' else f'{grid_respop.columns[i][2:5]}대'\n",
    "    sex = '남' if grid_respop.columns[i][0] != 'm' else '여'\n",
    "    columns.append('%s_%s'%(age, sex))\n",
    "grid_respop.columns = columns\n",
    "# 인구 column & 고령인구 column & 고령인구 비율(%) column 생성\n",
    "grid_respop['인구'] = grid_respop.iloc[:, 2:].sum(axis=1)\n",
    "grid_respop['고령인구'] = grid_respop.iloc[:, 10:-1].sum(axis=1)\n",
    "grid_respop['고령인구_비율'] = grid_respop.iloc[:, -1] / grid_respop.iloc[:, -2]\n",
    "grid_respop = grid_respop.fillna(0) # NaN값 0으로 대체\n",
    "grid_respop['고령인구_비율'] = grid_respop['고령인구_비율'].apply(lambda x : round(x*100, 2))\n",
    "\n",
    "# 격자별 평균 고령인구 비율 계산\n",
    "avg_old_age_ratio = grid_respop.groupby('gid')['고령인구_비율'].mean()\n",
    "\n",
    "# 가중치 계산\n",
    "weights = avg_old_age_ratio / 100\n",
    "\n",
    "# grid_map_df_c에 '고령인구비율_가중치' column 추가\n",
    "grid_map_df['oldpop_rate_weight'] = grid_map_df['properties.gid'].map(lambda x: weights[x] if x in weights.index else float(0))"
   ]
  },
  {
   "cell_type": "markdown",
   "metadata": {},
   "source": [
    "#### 출동현황(구조, 구급, 화재) -> 격자별 화재발생건수, 출동시간 변환"
   ]
  },
  {
   "cell_type": "code",
   "execution_count": 37,
   "metadata": {},
   "outputs": [
    {
     "name": "stderr",
     "output_type": "stream",
     "text": [
      "C:\\Users\\HJK\\AppData\\Local\\Temp\\ipykernel_13464\\3994671560.py:24: DtypeWarning:\n",
      "\n",
      "Columns (11) have mixed types. Specify dtype option on import or set low_memory=False.\n",
      "\n",
      "c:\\Users\\HJK\\anaconda3\\envs\\GIS\\lib\\site-packages\\pyproj\\crs\\crs.py:141: FutureWarning:\n",
      "\n",
      "'+init=<authority>:<code>' syntax is deprecated. '<authority>:<code>' is the preferred initialization method. When making the change, be mindful of axis order changes: https://pyproj4.github.io/pyproj/stable/gotchas.html#axis-order-changes-in-proj-6\n",
      "\n",
      "c:\\Users\\HJK\\anaconda3\\envs\\GIS\\lib\\site-packages\\pyproj\\crs\\crs.py:141: FutureWarning:\n",
      "\n",
      "'+init=<authority>:<code>' syntax is deprecated. '<authority>:<code>' is the preferred initialization method. When making the change, be mindful of axis order changes: https://pyproj4.github.io/pyproj/stable/gotchas.html#axis-order-changes-in-proj-6\n",
      "\n",
      "c:\\Users\\HJK\\anaconda3\\envs\\GIS\\lib\\site-packages\\IPython\\core\\interactiveshell.py:3445: FutureWarning:\n",
      "\n",
      "The `op` parameter is deprecated and will be removed in a future release. Please use the `predicate` parameter instead.\n",
      "\n",
      "C:\\Users\\HJK\\AppData\\Local\\Temp\\ipykernel_13464\\3994671560.py:48: UserWarning:\n",
      "\n",
      "CRS mismatch between the CRS of left geometries and the CRS of right geometries.\n",
      "Use `to_crs()` to reproject one of the input geometries to match the CRS of the other.\n",
      "\n",
      "Left CRS: +init=epsg:4326 +type=crs\n",
      "Right CRS: None\n",
      "\n",
      "\n",
      "c:\\Users\\HJK\\anaconda3\\envs\\GIS\\lib\\site-packages\\IPython\\core\\interactiveshell.py:3445: FutureWarning:\n",
      "\n",
      "The `op` parameter is deprecated and will be removed in a future release. Please use the `predicate` parameter instead.\n",
      "\n",
      "C:\\Users\\HJK\\AppData\\Local\\Temp\\ipykernel_13464\\3994671560.py:59: UserWarning:\n",
      "\n",
      "CRS mismatch between the CRS of left geometries and the CRS of right geometries.\n",
      "Use `to_crs()` to reproject one of the input geometries to match the CRS of the other.\n",
      "\n",
      "Left CRS: +init=epsg:4326 +type=crs\n",
      "Right CRS: None\n",
      "\n",
      "\n"
     ]
    }
   ],
   "source": [
    "# 날짜와 시간을 결합하여 datetime 형식으로 변환하는 함수\n",
    "def to_datetime(date, time):\n",
    "    date_str = str(date)\n",
    "    time_str = str(int(time)).zfill(6)  # 시간 형식이 6자리가 되도록 0을 앞에 추가\n",
    "    datetime_str = f\"{date_str} {time_str[:2]}:{time_str[2:4]}:{time_str[4:]}\"\n",
    "    return datetime.strptime(datetime_str, \"%Y%m%d %H:%M:%S\")\n",
    "\n",
    "# 구조출동현황 데이터 로드 및 화재 필터링\n",
    "helf_df = pd.read_csv('SBJ_2406_001/3.영등포_구조출동현황.csv')\n",
    "helf_df = helf_df[helf_df['acdnt_cause'] == '화재']\n",
    "helf_df = helf_df.dropna(subset=['dclr_ymd', 'dclr_tm', 'spt_arvl_ymd', 'spt_arvl_tm'])\n",
    "helf_df['spt_arvl_ymd'] = helf_df['spt_arvl_ymd'].astype(int)\n",
    "helf_df['spt_arvl_tm'] = helf_df['spt_arvl_tm'].astype(int)\n",
    "# 신고 시각과 현장 도착 시각을 datetime 형식으로 변환\n",
    "helf_df['dclr_datetime'] = helf_df.apply(lambda row: to_datetime(row['dclr_ymd'], row['dclr_tm']), axis=1)\n",
    "helf_df['spt_arvl_datetime'] = helf_df.apply(lambda row: to_datetime(row['spt_arvl_ymd'], row['spt_arvl_tm']), axis=1)\n",
    "# 신고 시각과 현장 도착 시각 사이의 시간 차이를 계산\n",
    "helf_df['response_time'] = helf_df['spt_arvl_datetime'] - helf_df['dclr_datetime']\n",
    "helf_df['response_time'] = helf_df['response_time'].dt.total_seconds() / 3600\n",
    "helf_df = helf_df[helf_df['response_time'] > 0]\n",
    "helf_df = helf_df[['lon', 'lat', 'response_time']]\n",
    "\n",
    "# 구급출동현황 데이터 로드 및 화재 필터링\n",
    "rescue_df = pd.read_csv('SBJ_2406_001/4.영등포_구급출동현황.csv')\n",
    "rescue_df = rescue_df[rescue_df['ocrn_type_etc_detail_nm'].str.contains('화재', na=False)]\n",
    "rescue_df = rescue_df.dropna(subset=['dclr_ymd', 'dclr_tm', 'spt_arvl_ymd', 'spt_arvl_tm'])\n",
    "rescue_df['spt_arvl_ymd'] = rescue_df['spt_arvl_ymd'].astype(int)\n",
    "rescue_df['spt_arvl_tm'] = rescue_df['spt_arvl_tm'].astype(int)\n",
    "# 신고 시각과 현장 도착 시각을 datetime 형식으로 변환\n",
    "rescue_df['dclr_datetime'] = rescue_df.apply(lambda row: to_datetime(row['dclr_ymd'], row['dclr_tm']), axis=1)\n",
    "rescue_df['spt_arvl_datetime'] = rescue_df.apply(lambda row: to_datetime(row['spt_arvl_ymd'], row['spt_arvl_tm']), axis=1)\n",
    "# 신고 시각과 현장 도착 시각 사이의 시간 차이를 계산\n",
    "rescue_df['response_time'] = rescue_df['spt_arvl_datetime'] - rescue_df['dclr_datetime']\n",
    "rescue_df['response_time'] = rescue_df['response_time'].dt.total_seconds() / 3600\n",
    "rescue_df = rescue_df[['lon', 'lat', 'response_time']]\n",
    "\n",
    "# 화재출동현황 데이터 로드\n",
    "fire_df = pd.read_csv('SBJ_2406_001/21.영등포_화재출동현황.csv')\n",
    "fire_df['response_time'] = pd.to_timedelta(fire_df['dsp_rqr_tm']).dt.total_seconds() / 3600\n",
    "fire_df = fire_df[['lon', 'lat', 'response_time']]\n",
    "\n",
    "# firefighting_df 데이터프레임 생성 후 GeoDataFrame으로 변환\n",
    "firefighting_df = pd.concat([helf_df, rescue_df, fire_df])\n",
    "firefighting_df = geo_transform(firefighting_df)\n",
    "firefighting_df = gpd.GeoDataFrame(firefighting_df, geometry='geometry')\n",
    "\n",
    "# 공간 조인 수행\n",
    "joined = gpd.sjoin(firefighting_df, grid_map_df, how=\"inner\", op='within')\n",
    "# 각 격자 내의 화재발생 포인트 개수 계산\n",
    "grid_fire_counts = joined.groupby(joined.index_right).size()\n",
    "# 결과를 grid_map_df에 추가\n",
    "grid_map_df['fire_count'] = grid_fire_counts\n",
    "# NaN 값을 0으로 대체\n",
    "grid_map_df['fire_count'] = grid_map_df['fire_count'].fillna(0)\n",
    "# 평균 도착 시간을 계산할 새로운 열 생성\n",
    "grid_map_df['rescue_time'] = 0.0  # 초기값 설정\n",
    "\n",
    "# 공간 조인을 수행하여 rbuilding_df의 'geometry'가 grid_map_df의 'geometry'에 포함되는 행들을 찾습니다.\n",
    "joined = gpd.sjoin(firefighting_df, grid_map_df, how=\"inner\", op=\"within\")\n",
    "# 각 grid_map_df의 'geometry'별로 'use_weight'의 평균을 계산합니다.\n",
    "mean_weights = joined.groupby('index_right')['response_time'].mean()\n",
    "# 원래 grid_map_df에 'response_time' 열을 추가하고, 계산된 평균 값을 할당합니다.\n",
    "grid_map_df['rescue_time'] = grid_map_df.index.map(mean_weights)\n",
    "# NaN 값을 0으로 대체\n",
    "grid_map_df['rescue_time'] = grid_map_df['rescue_time'].fillna(0)"
   ]
  },
  {
   "cell_type": "markdown",
   "metadata": {},
   "source": [
    "#### 격자별 소방시설 거리계산"
   ]
  },
  {
   "cell_type": "code",
   "execution_count": 11,
   "metadata": {},
   "outputs": [],
   "source": [
    "# 격자의 중심점 좌표 추출\n",
    "grid_coords = np.array(list(zip(grid_map_df.geometry.centroid.x, grid_map_df.geometry.centroid.y)))"
   ]
  },
  {
   "cell_type": "markdown",
   "metadata": {},
   "source": [
    "##### 소방서 거리계산(KNN)"
   ]
  },
  {
   "cell_type": "code",
   "execution_count": 12,
   "metadata": {},
   "outputs": [],
   "source": [
    "from sklearn.neighbors import NearestNeighbors\n",
    "# 소방서의 좌표 추출\n",
    "firehouse_coords = np.array(list(zip(firehouse_df.geometry.x, firehouse_df.geometry.y)))\n",
    "\n",
    "# KNN 모델 생성 및 학습 (k=1 사용하여 가장 가까운 소방서 찾기)\n",
    "knn = NearestNeighbors(n_neighbors=1)\n",
    "knn.fit(firehouse_coords)\n",
    "\n",
    "# 각 격자와 가장 가까운 소방서 간의 거리 계산\n",
    "distances, indices = knn.kneighbors(grid_coords)\n",
    "\n",
    "# 거리를 km 단위로 변환 (EPSG:4326의 경우, 1도 ≈ 111,000m이므로 111을 곱하여 km단위로 변환)\n",
    "distances_km = distances * 111\n",
    "\n",
    "# 결과를 DataFrame에 추가\n",
    "grid_map_df['nearest_firehouse_distance_weight'] = distances_km"
   ]
  },
  {
   "cell_type": "markdown",
   "metadata": {},
   "source": [
    "##### 소방용수시설 거리계산(KNN)"
   ]
  },
  {
   "cell_type": "code",
   "execution_count": 13,
   "metadata": {},
   "outputs": [],
   "source": [
    "from sklearn.neighbors import NearestNeighbors\n",
    "# 소방용수시설의 좌표 추출\n",
    "firefighting_water_coords = np.array(list(zip(firefighting_water_df.geometry.x, firefighting_water_df.geometry.y)))\n",
    "\n",
    "# KNN 모델 생성 및 학습 (k=1 사용하여 가장 가까운 소방용수시설 찾기)\n",
    "knn = NearestNeighbors(n_neighbors=3)\n",
    "knn.fit(firefighting_water_coords)\n",
    "\n",
    "# 각 격자와 가장 가까운 소방용수시설 간의 거리 계산\n",
    "distances, indices = knn.kneighbors(grid_coords)\n",
    "\n",
    "# 각 격자에 대해 Neighbors 개수만큼 거리의 평균 계산\n",
    "avg_distances = np.mean(distances, axis=1)\n",
    "\n",
    "# 거리를 km 단위로 변환 (EPSG:4326의 경우, 1도 ≈ 111,000m이므로 111을 곱하여 km단위로 변환)\n",
    "distances_km = avg_distances * 111\n",
    "\n",
    "# 결과를 DataFrame에 추가\n",
    "grid_map_df['nearest_firefighting_water_distance_weight'] = distances_km"
   ]
  },
  {
   "cell_type": "markdown",
   "metadata": {},
   "source": [
    "#### 담배소매업위치정보"
   ]
  },
  {
   "cell_type": "code",
   "execution_count": 14,
   "metadata": {},
   "outputs": [
    {
     "name": "stderr",
     "output_type": "stream",
     "text": [
      "c:\\Users\\HJK\\anaconda3\\envs\\GIS\\lib\\site-packages\\pyproj\\crs\\crs.py:141: FutureWarning:\n",
      "\n",
      "'+init=<authority>:<code>' syntax is deprecated. '<authority>:<code>' is the preferred initialization method. When making the change, be mindful of axis order changes: https://pyproj4.github.io/pyproj/stable/gotchas.html#axis-order-changes-in-proj-6\n",
      "\n",
      "c:\\Users\\HJK\\anaconda3\\envs\\GIS\\lib\\site-packages\\pyproj\\crs\\crs.py:141: FutureWarning:\n",
      "\n",
      "'+init=<authority>:<code>' syntax is deprecated. '<authority>:<code>' is the preferred initialization method. When making the change, be mindful of axis order changes: https://pyproj4.github.io/pyproj/stable/gotchas.html#axis-order-changes-in-proj-6\n",
      "\n"
     ]
    }
   ],
   "source": [
    "# 상권정보 데이터프레임을 GeoPandas 데이터프레임으로 변환\n",
    "tabacco_df = pd.read_csv('SBJ_2406_001/20.영등포_담배소매업위치정보.csv')\n",
    "tabacco_df = geo_transform(tabacco_df)"
   ]
  },
  {
   "cell_type": "code",
   "execution_count": 15,
   "metadata": {},
   "outputs": [
    {
     "name": "stderr",
     "output_type": "stream",
     "text": [
      "c:\\Users\\HJK\\anaconda3\\envs\\GIS\\lib\\site-packages\\IPython\\core\\interactiveshell.py:3445: FutureWarning:\n",
      "\n",
      "The `op` parameter is deprecated and will be removed in a future release. Please use the `predicate` parameter instead.\n",
      "\n",
      "C:\\Users\\HJK\\AppData\\Local\\Temp\\ipykernel_13464\\3308196553.py:2: UserWarning:\n",
      "\n",
      "CRS mismatch between the CRS of left geometries and the CRS of right geometries.\n",
      "Use `to_crs()` to reproject one of the input geometries to match the CRS of the other.\n",
      "\n",
      "Left CRS: +init=epsg:4326 +type=crs\n",
      "Right CRS: None\n",
      "\n",
      "\n"
     ]
    }
   ],
   "source": [
    "# 공간 조인 수행\n",
    "joined = gpd.sjoin(tabacco_df, grid_map_df, how=\"inner\", op='within')\n",
    "# 각 격자 내의 담배소매업 점 개수 계산\n",
    "grid_tabacco_counts = joined.groupby(joined.index_right).size()\n",
    "# 결과를 grid_map_df에 추가\n",
    "grid_map_df['tabacco_count'] = grid_tabacco_counts\n",
    "# NaN 값을 0으로 대체\n",
    "grid_map_df['tabacco_count'] = grid_map_df['tabacco_count'].fillna(0)"
   ]
  },
  {
   "cell_type": "code",
   "execution_count": 16,
   "metadata": {},
   "outputs": [
    {
     "name": "stdout",
     "output_type": "stream",
     "text": [
      "상관계수: 0.38040422338737556\n"
     ]
    }
   ],
   "source": [
    "# 격자별 화재 발생 건수와 담배소매업 개수의 상관계수 계산\n",
    "correlation = grid_map_df['fire_count'].corr(grid_map_df['tabacco_count'])\n",
    "\n",
    "# 결과 출력\n",
    "print(\"상관계수:\", correlation)"
   ]
  },
  {
   "cell_type": "markdown",
   "metadata": {},
   "source": [
    "#### 주차민원위치정보"
   ]
  },
  {
   "cell_type": "code",
   "execution_count": 17,
   "metadata": {},
   "outputs": [
    {
     "name": "stderr",
     "output_type": "stream",
     "text": [
      "c:\\Users\\HJK\\anaconda3\\envs\\GIS\\lib\\site-packages\\pyproj\\crs\\crs.py:141: FutureWarning:\n",
      "\n",
      "'+init=<authority>:<code>' syntax is deprecated. '<authority>:<code>' is the preferred initialization method. When making the change, be mindful of axis order changes: https://pyproj4.github.io/pyproj/stable/gotchas.html#axis-order-changes-in-proj-6\n",
      "\n",
      "c:\\Users\\HJK\\anaconda3\\envs\\GIS\\lib\\site-packages\\pyproj\\crs\\crs.py:141: FutureWarning:\n",
      "\n",
      "'+init=<authority>:<code>' syntax is deprecated. '<authority>:<code>' is the preferred initialization method. When making the change, be mindful of axis order changes: https://pyproj4.github.io/pyproj/stable/gotchas.html#axis-order-changes-in-proj-6\n",
      "\n",
      "c:\\Users\\HJK\\anaconda3\\envs\\GIS\\lib\\site-packages\\IPython\\core\\interactiveshell.py:3445: FutureWarning:\n",
      "\n",
      "The `op` parameter is deprecated and will be removed in a future release. Please use the `predicate` parameter instead.\n",
      "\n",
      "C:\\Users\\HJK\\AppData\\Local\\Temp\\ipykernel_13464\\619703896.py:5: UserWarning:\n",
      "\n",
      "CRS mismatch between the CRS of left geometries and the CRS of right geometries.\n",
      "Use `to_crs()` to reproject one of the input geometries to match the CRS of the other.\n",
      "\n",
      "Left CRS: +init=epsg:4326 +type=crs\n",
      "Right CRS: None\n",
      "\n",
      "\n"
     ]
    }
   ],
   "source": [
    "parking_petition_df = pd.read_csv('SBJ_2406_001/30.영등포_주차민원위치정보.csv')\n",
    "parking_petition_df = geo_transform(parking_petition_df)\n",
    "\n",
    "# 공간 조인 수행\n",
    "joined = gpd.sjoin(parking_petition_df, grid_map_df, how=\"inner\", op='within')\n",
    "# 각 격자 내의 불법 주정차 점 개수 계산\n",
    "grid_parking_counts = joined.groupby(joined.index_right).size()\n",
    "# 결과를 grid_map_df에 추가\n",
    "grid_map_df['parking_petition_count'] = grid_parking_counts\n",
    "# NaN 값을 0으로 대체\n",
    "grid_map_df['parking_petition_count'] = grid_map_df['parking_petition_count'].fillna(0)"
   ]
  },
  {
   "cell_type": "markdown",
   "metadata": {},
   "source": [
    "#### 불법주정차 단속이력 시각화"
   ]
  },
  {
   "cell_type": "code",
   "execution_count": 18,
   "metadata": {},
   "outputs": [
    {
     "name": "stderr",
     "output_type": "stream",
     "text": [
      "c:\\Users\\HJK\\anaconda3\\envs\\GIS\\lib\\site-packages\\pyproj\\crs\\crs.py:141: FutureWarning:\n",
      "\n",
      "'+init=<authority>:<code>' syntax is deprecated. '<authority>:<code>' is the preferred initialization method. When making the change, be mindful of axis order changes: https://pyproj4.github.io/pyproj/stable/gotchas.html#axis-order-changes-in-proj-6\n",
      "\n",
      "c:\\Users\\HJK\\anaconda3\\envs\\GIS\\lib\\site-packages\\pyproj\\crs\\crs.py:141: FutureWarning:\n",
      "\n",
      "'+init=<authority>:<code>' syntax is deprecated. '<authority>:<code>' is the preferred initialization method. When making the change, be mindful of axis order changes: https://pyproj4.github.io/pyproj/stable/gotchas.html#axis-order-changes-in-proj-6\n",
      "\n",
      "c:\\Users\\HJK\\anaconda3\\envs\\GIS\\lib\\site-packages\\IPython\\core\\interactiveshell.py:3445: FutureWarning:\n",
      "\n",
      "The `op` parameter is deprecated and will be removed in a future release. Please use the `predicate` parameter instead.\n",
      "\n",
      "C:\\Users\\HJK\\AppData\\Local\\Temp\\ipykernel_13464\\3060736572.py:5: UserWarning:\n",
      "\n",
      "CRS mismatch between the CRS of left geometries and the CRS of right geometries.\n",
      "Use `to_crs()` to reproject one of the input geometries to match the CRS of the other.\n",
      "\n",
      "Left CRS: +init=epsg:4326 +type=crs\n",
      "Right CRS: None\n",
      "\n",
      "\n"
     ]
    }
   ],
   "source": [
    "illegal_parking_df = pd.read_csv('SBJ_2406_001/24.영등포_불법주정차단속이력.csv')\n",
    "illegal_parking_df = geo_transform(illegal_parking_df)\n",
    "\n",
    "# 공간 조인 수행\n",
    "joined = gpd.sjoin(illegal_parking_df, grid_map_df, how=\"inner\", op='within')\n",
    "# 각 격자 내의 불법 주정차 점 개수 계산\n",
    "grid_illegal_parking_counts = joined.groupby(joined.index_right).size()\n",
    "# 결과를 grid_map_df에 추가\n",
    "grid_map_df['illegal_parking_count'] = grid_illegal_parking_counts\n",
    "# NaN 값을 0으로 대체\n",
    "grid_map_df['illegal_parking_count'] = grid_map_df['illegal_parking_count'].fillna(0)"
   ]
  },
  {
   "cell_type": "markdown",
   "metadata": {},
   "source": [
    "#### 건물노후도"
   ]
  },
  {
   "cell_type": "code",
   "execution_count": 19,
   "metadata": {},
   "outputs": [],
   "source": [
    "# GeoJSON 파일 불러오기\n",
    "with open('SBJ_2406_001/12.영등포_건물노후도.geojson', encoding=\"UTF8\") as geojson_file:\n",
    "    geojson_data = json.load(geojson_file)\n",
    "building_oldness_df = pd.json_normalize(geojson_data['features'])\n",
    "building_oldness_df['geometry.coordinates'] = building_oldness_df['geometry.coordinates'].apply(lambda x : make_pol(x))\n",
    "building_oldness_df.rename(columns={'geometry.coordinates' : 'geometry'}, inplace=True)\n",
    "# building_oldness_df 데이터프레임을 GeoDataFrame으로 변환\n",
    "building_oldness_df = gpd.GeoDataFrame(building_oldness_df, geometry='geometry')\n",
    "building_oldness_df['properties.old_year'] = building_oldness_df['properties.old_year'].astype(float)\n",
    "building_oldness_df = building_oldness_df[['properties.emd_nm', 'properties.strct_nm', 'properties.usage_nm', 'properties.old_year', 'geometry']]"
   ]
  },
  {
   "cell_type": "code",
   "execution_count": 20,
   "metadata": {},
   "outputs": [
    {
     "name": "stderr",
     "output_type": "stream",
     "text": [
      "c:\\Users\\HJK\\anaconda3\\envs\\GIS\\lib\\site-packages\\IPython\\core\\interactiveshell.py:3445: FutureWarning:\n",
      "\n",
      "The `op` parameter is deprecated and will be removed in a future release. Please use the `predicate` parameter instead.\n",
      "\n",
      "C:\\Users\\HJK\\AppData\\Local\\Temp\\ipykernel_13464\\1096118345.py:2: UserWarning:\n",
      "\n",
      "CRS mismatch between the CRS of left geometries and the CRS of right geometries.\n",
      "Use `to_crs()` to reproject one of the input geometries to match the CRS of the other.\n",
      "\n",
      "Left CRS: +init=epsg:4326 +type=crs\n",
      "Right CRS: None\n",
      "\n",
      "\n"
     ]
    }
   ],
   "source": [
    "# 공간 조인 수행\n",
    "joined = gpd.sjoin(firefighting_df, building_oldness_df, how=\"inner\", op='within')\n",
    "# 노후 건물 화재발생 건수 계산\n",
    "old_firefighting_counts = joined.groupby(joined.index_right).size()\n",
    "\n",
    "# 결과를 grid_map_df에 추가\n",
    "building_oldness_df['firefighting_counts'] = old_firefighting_counts\n",
    "# NaN 값을 0으로 대체\n",
    "building_oldness_df['firefighting_counts'] = building_oldness_df['firefighting_counts'].fillna(0)"
   ]
  },
  {
   "cell_type": "code",
   "execution_count": null,
   "metadata": {},
   "outputs": [],
   "source": [
    "# 맵 객체 생성 및 데이터 로드\n",
    "ydp_oldfirefighting_map = KeplerGl(height=1000, width=1500)\n",
    "ydp_oldfirefighting_map.add_data(data=firefighting_df, name=\"영등포구 화재출동 데이터\")\n",
    "ydp_oldfirefighting_map.add_data(data=building_oldness_df, name=\"영등포구 건물노후도-화재 데이터\")\n",
    "ydp_oldfirefighting_map.add_data(data=ydp_gdf, name=\"영등포구 행정동 데이터\")\n",
    "ydp_oldfirefighting_map.add_data(data=roadname_df, name=\"영등포구 도로망 데이터\")\n",
    "\n",
    "# 맵 출력 및 상세설정\n",
    "ydp_oldfirefighting_map"
   ]
  },
  {
   "cell_type": "code",
   "execution_count": null,
   "metadata": {},
   "outputs": [],
   "source": [
    "# 맵 저장\n",
    "ydp_oldfirefighting_map.save_to_html(file_name=\"visualization/영등포구 건물 및 소방관련/영등포구 노후도 별 화재 시각화 map.html\")"
   ]
  },
  {
   "cell_type": "code",
   "execution_count": 21,
   "metadata": {},
   "outputs": [
    {
     "name": "stdout",
     "output_type": "stream",
     "text": [
      "피어슨 상관계수: -0.0175857527440659\n",
      "p-value: 0.011970278079434094\n"
     ]
    }
   ],
   "source": [
    "from scipy.stats import pearsonr\n",
    "building_oldness_df_n = building_oldness_df.dropna(subset=['properties.old_year', 'firefighting_counts'])\n",
    "# 상관계수 계산\n",
    "old_year = building_oldness_df_n['properties.old_year']\n",
    "fire_counts = building_oldness_df_n['firefighting_counts']\n",
    "\n",
    "# 피어슨 상관계수 계산\n",
    "correlation, p_value = pearsonr(old_year, fire_counts)\n",
    "\n",
    "print(f'피어슨 상관계수: {correlation}')\n",
    "print(f'p-value: {p_value}')"
   ]
  },
  {
   "cell_type": "markdown",
   "metadata": {},
   "source": [
    "#### 건물용도 및 구조"
   ]
  },
  {
   "cell_type": "code",
   "execution_count": 72,
   "metadata": {},
   "outputs": [],
   "source": [
    "# 표제부 데이터프레임 로드 후 지번 - 건물구조, 지번 - 건물용도 dict생성\n",
    "pyo_df = pd.read_csv('SBJ_2406_001/14.영등포_건축물대장_표제부.csv')\n",
    "pyo_df['plot_lctn'] = pyo_df['plot_lctn'].apply(lambda x : x.split(\" 영등포구 \")[-1])\n",
    "pyo_df['plot_lctn'] = pyo_df['plot_lctn'].apply(lambda x : x.strip(\"번지\"))\n",
    "jibun_strct_dic = dict(zip(pyo_df['plot_lctn'], pyo_df['strct_nm']))\n",
    "jibun_use_dic = dict(zip(pyo_df['plot_lctn'], pyo_df['use_nm']))\n",
    "\n",
    "# 지번 - 법정동 코드 dict 생성\n",
    "pyo_df['plot_lctn'] = pyo_df['plot_lctn'].apply(lambda x : x.split(\" \")[0])\n",
    "pyo_df['emd_cd'] = pyo_df['emd_cd'].astype(str)\n",
    "pyo_df['emd_cd'] = pyo_df['emd_cd'].apply(lambda x : x[:3])\n",
    "jibun_emd_dic = dict(zip(pyo_df['emd_cd'], pyo_df['plot_lctn']))\n",
    "\n",
    "# GeoJSON 파일 불러오기\n",
    "with open('SBJ_2406_001/11.영등포_도로명주소(건물).geojson', encoding=\"UTF8\") as geojson_file:\n",
    "    geojson_data = json.load(geojson_file)\n",
    "rbuilding_df = pd.json_normalize(geojson_data['features'])\n",
    "rbuilding_df['geometry.coordinates'] = rbuilding_df['geometry.coordinates'].apply(lambda x : make_pol(x))\n",
    "rbuilding_df.rename(columns={'geometry.coordinates' : 'geometry'}, inplace=True)\n",
    "rbuilding_df.rename(columns={'properties.GRO_FLO_CO' : 'GRO_FLO_CO'}, inplace=True)\n",
    "rbuilding_df.rename(columns={'properties.LNBR_MNNM' : 'LNBR_MNNM'}, inplace=True)\n",
    "rbuilding_df.rename(columns={'properties.LNBR_SLNO' : 'LNBR_SLNO'}, inplace=True)\n",
    "# rbuilding_df 데이터프레임을 GeoDataFrame으로 변환\n",
    "rbuilding_df = gpd.GeoDataFrame(rbuilding_df, geometry='geometry')\n",
    "rbuilding_df['properties.EMD_CD'] = rbuilding_df['properties.EMD_CD'].astype(str)\n",
    "rbuilding_df['LNBR_MNNM'] = rbuilding_df['LNBR_MNNM'].astype(str)\n",
    "rbuilding_df['LNBR_SLNO'] = rbuilding_df['LNBR_SLNO'].astype(str)\n",
    "rbuilding_df['EMD_NM'] = rbuilding_df['properties.EMD_CD'].map(jibun_emd_dic)\n",
    "\n",
    "# plot_lctn 열 생성 함수 정의\n",
    "def create_plot_lctn(row):\n",
    "    if row['LNBR_SLNO'] == '0':\n",
    "        return f\"{row['EMD_NM']} {row['LNBR_MNNM']}\"\n",
    "    else:\n",
    "        return f\"{row['EMD_NM']} {row['LNBR_MNNM']}-{row['LNBR_SLNO']}\"\n",
    "# 새로운 열 추가\n",
    "rbuilding_df['plot_lctn'] = rbuilding_df.apply(create_plot_lctn, axis=1)\n",
    "rbuilding_df['strct'] = rbuilding_df['plot_lctn'].map(jibun_strct_dic)\n",
    "rbuilding_df['use'] = rbuilding_df['plot_lctn'].map(jibun_use_dic)\n",
    "rbuilding_df = rbuilding_df[['plot_lctn', 'strct', 'use', 'GRO_FLO_CO', 'geometry']]"
   ]
  },
  {
   "cell_type": "code",
   "execution_count": 73,
   "metadata": {},
   "outputs": [
    {
     "name": "stderr",
     "output_type": "stream",
     "text": [
      "c:\\Users\\HJK\\anaconda3\\envs\\GIS\\lib\\site-packages\\IPython\\core\\interactiveshell.py:3445: FutureWarning:\n",
      "\n",
      "The `op` parameter is deprecated and will be removed in a future release. Please use the `predicate` parameter instead.\n",
      "\n",
      "C:\\Users\\HJK\\AppData\\Local\\Temp\\ipykernel_13464\\869721783.py:2: UserWarning:\n",
      "\n",
      "CRS mismatch between the CRS of left geometries and the CRS of right geometries.\n",
      "Use `to_crs()` to reproject one of the input geometries to match the CRS of the other.\n",
      "\n",
      "Left CRS: +init=epsg:4326 +type=crs\n",
      "Right CRS: None\n",
      "\n",
      "\n"
     ]
    }
   ],
   "source": [
    "# 공간 조인 수행\n",
    "joined = gpd.sjoin(firefighting_df, rbuilding_df, how=\"inner\", op='within')\n",
    "# 건물내 화재발생 건수 계산\n",
    "firefighting_counts = joined.groupby(joined.index_right).size()\n",
    "\n",
    "# 결과를 grid_map_df에 추가\n",
    "rbuilding_df['firefighting_counts'] = firefighting_counts\n",
    "# NaN 값을 0으로 대체\n",
    "rbuilding_df['firefighting_counts'] = rbuilding_df['firefighting_counts'].fillna(0)"
   ]
  },
  {
   "cell_type": "code",
   "execution_count": 74,
   "metadata": {},
   "outputs": [],
   "source": [
    "# 건물 구조별 합산 화재 발생 건수 계산 및 내림차순 정렬\n",
    "grouped_df = rbuilding_df.groupby('strct')['firefighting_counts'].sum().sort_values(ascending=False).reset_index()\n",
    "# Min-Max 스케일링\n",
    "min_count = grouped_df['firefighting_counts'].min()\n",
    "max_count = grouped_df['firefighting_counts'].max()\n",
    "grouped_df['min_max_scaled'] = (grouped_df['firefighting_counts'] - min_count) / (max_count - min_count)\n",
    "strct_dic = dict(zip(grouped_df['strct'], grouped_df['min_max_scaled']))\n",
    "rbuilding_df['strct_weight'] = rbuilding_df['strct'].map(strct_dic)"
   ]
  },
  {
   "cell_type": "code",
   "execution_count": 75,
   "metadata": {},
   "outputs": [],
   "source": [
    "# 건물 용도별 합산 화재 발생 건수 계산 및 내림차순 정렬\n",
    "grouped_df = rbuilding_df.groupby('use')['firefighting_counts'].sum().sort_values(ascending=False).reset_index()\n",
    "# Min-Max 스케일링\n",
    "min_count = grouped_df['firefighting_counts'].min()\n",
    "max_count = grouped_df['firefighting_counts'].max()\n",
    "grouped_df['min_max_scaled'] = (grouped_df['firefighting_counts'] - min_count) / (max_count - min_count)\n",
    "use_dic = dict(zip(grouped_df['use'], grouped_df['min_max_scaled']))\n",
    "rbuilding_df['use_weight'] = rbuilding_df['use'].map(use_dic)"
   ]
  },
  {
   "cell_type": "code",
   "execution_count": null,
   "metadata": {},
   "outputs": [],
   "source": [
    "# 맵 객체 생성 및 데이터 로드\n",
    "ydp_firefighting_map = KeplerGl(height=1000, width=1500)\n",
    "ydp_firefighting_map.add_data(data=firefighting_df, name=\"영등포구 화재출동 데이터\")\n",
    "ydp_firefighting_map.add_data(data=rbuilding_df, name=\"영등포구 건물화재 데이터\")\n",
    "ydp_firefighting_map.add_data(data=ydp_gdf, name=\"영등포구 행정동 데이터\")\n",
    "ydp_firefighting_map.add_data(data=roadname_df, name=\"영등포구 도로망 데이터\")\n",
    "\n",
    "# 맵 출력 및 상세설정\n",
    "ydp_firefighting_map"
   ]
  },
  {
   "cell_type": "code",
   "execution_count": 74,
   "metadata": {},
   "outputs": [
    {
     "name": "stdout",
     "output_type": "stream",
     "text": [
      "Map saved to visualization/영등포구 건물 및 소방관련/영등포구 건축물 화재 시각화 map.html!\n"
     ]
    }
   ],
   "source": [
    "# 맵 저장\n",
    "ydp_firefighting_map.save_to_html(file_name=\"visualization/영등포구 건물 및 소방관련/영등포구 건축물 화재 시각화 map.html\")"
   ]
  },
  {
   "cell_type": "code",
   "execution_count": 76,
   "metadata": {},
   "outputs": [
    {
     "name": "stderr",
     "output_type": "stream",
     "text": [
      "c:\\Users\\HJK\\anaconda3\\envs\\GIS\\lib\\site-packages\\IPython\\core\\interactiveshell.py:3445: FutureWarning:\n",
      "\n",
      "The `op` parameter is deprecated and will be removed in a future release. Please use the `predicate` parameter instead.\n",
      "\n"
     ]
    }
   ],
   "source": [
    "# 공간 조인을 수행하여 rbuilding_df의 'geometry'가 grid_map_df의 'geometry'에 포함되는 행들을 찾습니다.\n",
    "joined = gpd.sjoin(rbuilding_df, grid_map_df, how=\"inner\", op=\"within\")\n",
    "\n",
    "# 각 grid_map_df의 'geometry'별로 'strct_weight'의 평균을 계산합니다.\n",
    "mean_weights = joined.groupby('index_right')['strct_weight_left'].mean()\n",
    "\n",
    "# 원래 grid_map_df에 'strct_weight' 열을 추가하고, 계산된 평균 값을 할당합니다.\n",
    "grid_map_df['strct_weight'] = grid_map_df.index.map(mean_weights)"
   ]
  },
  {
   "cell_type": "code",
   "execution_count": 77,
   "metadata": {},
   "outputs": [
    {
     "name": "stderr",
     "output_type": "stream",
     "text": [
      "c:\\Users\\HJK\\anaconda3\\envs\\GIS\\lib\\site-packages\\IPython\\core\\interactiveshell.py:3445: FutureWarning:\n",
      "\n",
      "The `op` parameter is deprecated and will be removed in a future release. Please use the `predicate` parameter instead.\n",
      "\n"
     ]
    }
   ],
   "source": [
    "# 공간 조인을 수행하여 rbuilding_df의 'geometry'가 grid_map_df의 'geometry'에 포함되는 행들을 찾습니다.\n",
    "joined = gpd.sjoin(rbuilding_df, grid_map_df, how=\"inner\", op=\"within\")\n",
    "\n",
    "# 각 grid_map_df의 'geometry'별로 'use_weight'의 평균을 계산합니다.\n",
    "mean_weights = joined.groupby('index_right')['use_weight_left'].mean()\n",
    "\n",
    "# 원래 grid_map_df에 'use_weight' 열을 추가하고, 계산된 평균 값을 할당합니다.\n",
    "grid_map_df['use_weight'] = grid_map_df.index.map(mean_weights)"
   ]
  },
  {
   "cell_type": "code",
   "execution_count": 78,
   "metadata": {},
   "outputs": [],
   "source": [
    "# 건물에너지 데이터프레임을 GeoPandas 데이터프레임으로 변환\n",
    "electric_power_df = pd.read_csv('SBJ_2406_001/16.영등포_건물에너지(전기).csv')\n",
    "electric_power_df['plot_lctn'] = electric_power_df['plot_lctn'].apply(lambda x : x.split(\" 영등포구 \")[-1])\n",
    "electric_power_df['plot_lctn'] = electric_power_df['plot_lctn'].apply(lambda x : x.strip(\"번지\"))\n",
    "electric_power_df = electric_power_df[['plot_lctn', 'usage', 'use_ym']]\n",
    "electric_power_df['use_ym'] = electric_power_df['use_ym'].astype(str)\n",
    "electric_power_df['use_ym'] = pd.to_datetime(electric_power_df['use_ym'], format='%Y%m')\n",
    "electric_power_df = electric_power_df.sort_values(by='use_ym')\n",
    "electric_power_df['use_ym'] = electric_power_df['use_ym'].astype(str)\n",
    "\n",
    "gas_power_df = pd.read_csv('SBJ_2406_001/17.영등포_건물에너지(가스).csv')\n",
    "gas_power_df['plot_lctn'] = gas_power_df['plot_lctn'].apply(lambda x : x.split(\" 영등포구 \")[-1])\n",
    "gas_power_df['plot_lctn'] = gas_power_df['plot_lctn'].apply(lambda x : x.strip(\"번지\"))\n",
    "gas_power_df = gas_power_df[['plot_lctn', 'usage', 'use_ym']]\n",
    "gas_power_df['use_ym'] = gas_power_df['use_ym'].astype(str)\n",
    "gas_power_df['use_ym'] = pd.to_datetime(gas_power_df['use_ym'], format='%Y%m')\n",
    "gas_power_df = gas_power_df.sort_values(by='use_ym')\n",
    "gas_power_df['use_ym'] = gas_power_df['use_ym'].astype(str)"
   ]
  },
  {
   "cell_type": "code",
   "execution_count": 79,
   "metadata": {},
   "outputs": [],
   "source": [
    "# 건물 : polygon 구조를 가지는 dict생성(mapping 목적)\n",
    "building_polygon_dic = dict(zip(rbuilding_df['plot_lctn'], rbuilding_df['geometry']))\n",
    "\n",
    "# 지번별 평균 전기사용량 계산\n",
    "average_e_usage = electric_power_df.groupby('plot_lctn')['usage'].mean().reset_index()\n",
    "average_e_usage_dic = dict(zip(average_e_usage['plot_lctn'], average_e_usage['usage']))\n",
    "rbuilding_df['average_e_usage'] = rbuilding_df['plot_lctn'].map(average_e_usage_dic)\n",
    "\n",
    "# 지번별 평균 가스사용량 계산\n",
    "average_g_usage = gas_power_df.groupby('plot_lctn')['usage'].mean().reset_index()\n",
    "average_g_usage_dic = dict(zip(average_g_usage['plot_lctn'], average_g_usage['usage']))\n",
    "rbuilding_df['average_g_usage'] = rbuilding_df['plot_lctn'].map(average_g_usage_dic)"
   ]
  },
  {
   "cell_type": "code",
   "execution_count": 80,
   "metadata": {},
   "outputs": [],
   "source": [
    "# 'use' 열별 'average_e_usage'의 평균을 계산하여 NaN 값을 대체\n",
    "rbuilding_df['average_e_usage'] = rbuilding_df.groupby('use')['average_e_usage'].transform(\n",
    "    lambda x: x.fillna(x.mean())\n",
    ")\n",
    "rbuilding_df['average_g_usage'] = rbuilding_df.groupby('use')['average_g_usage'].transform(\n",
    "    lambda x: x.fillna(x.mean())\n",
    ")"
   ]
  },
  {
   "cell_type": "code",
   "execution_count": 81,
   "metadata": {},
   "outputs": [
    {
     "name": "stderr",
     "output_type": "stream",
     "text": [
      "c:\\Users\\HJK\\anaconda3\\envs\\GIS\\lib\\site-packages\\IPython\\core\\interactiveshell.py:3445: FutureWarning:\n",
      "\n",
      "The `op` parameter is deprecated and will be removed in a future release. Please use the `predicate` parameter instead.\n",
      "\n"
     ]
    }
   ],
   "source": [
    "# 공간 조인을 수행하여 rbuilding_df의 'geometry'가 grid_map_df의 'geometry'에 포함되는 행들을 찾습니다.\n",
    "joined = gpd.sjoin(rbuilding_df, grid_map_df, how=\"inner\", op=\"within\")\n",
    "\n",
    "# 각 grid_map_df의 'geometry'별로 'average_e_usage'의 평균을 계산합니다.\n",
    "mean_weights = joined.groupby('index_right')['average_e_usage_left'].mean()\n",
    "\n",
    "# 원래 grid_map_df에 'average_e_usage' 열을 추가하고, 계산된 평균 값을 할당합니다.\n",
    "grid_map_df['average_e_usage'] = grid_map_df.index.map(mean_weights)"
   ]
  },
  {
   "cell_type": "code",
   "execution_count": 82,
   "metadata": {},
   "outputs": [
    {
     "name": "stderr",
     "output_type": "stream",
     "text": [
      "c:\\Users\\HJK\\anaconda3\\envs\\GIS\\lib\\site-packages\\IPython\\core\\interactiveshell.py:3445: FutureWarning:\n",
      "\n",
      "The `op` parameter is deprecated and will be removed in a future release. Please use the `predicate` parameter instead.\n",
      "\n"
     ]
    }
   ],
   "source": [
    "# 공간 조인을 수행하여 rbuilding_df의 'geometry'가 grid_map_df의 'geometry'에 포함되는 행들을 찾습니다.\n",
    "joined = gpd.sjoin(rbuilding_df, grid_map_df, how=\"inner\", op=\"within\")\n",
    "\n",
    "# 각 grid_map_df의 'geometry'별로 'average_g_usage'의 평균을 계산합니다.\n",
    "mean_weights = joined.groupby('index_right')['average_g_usage_left'].mean()\n",
    "\n",
    "# 원래 grid_map_df에 'average_g_usage' 열을 추가하고, 계산된 평균 값을 할당합니다.\n",
    "grid_map_df['average_g_usage'] = grid_map_df.index.map(mean_weights)"
   ]
  },
  {
   "cell_type": "markdown",
   "metadata": {},
   "source": [
    "#### K-Means Clustering 활용 화재취약지 도출"
   ]
  },
  {
   "cell_type": "code",
   "execution_count": 90,
   "metadata": {},
   "outputs": [],
   "source": [
    "# 건축물 구조 & 용도 가중치 column을 기준으로 하위 75% 이하인 값을 NaN 값을 포함하여 75% 값으로 대체\n",
    "threshold = grid_map_df['strct_weight'].quantile(0.25)\n",
    "grid_map_df['strct_weight'] = grid_map_df['strct_weight'].apply(lambda x: threshold if pd.isna(x) or x <= threshold else x)\n",
    "threshold = grid_map_df['use_weight'].quantile(0.25)\n",
    "grid_map_df['use_weight'] = grid_map_df['use_weight'].apply(lambda x: threshold if pd.isna(x) or x <= threshold else x)\n",
    "# 평균 전기 & 가스 사용량 column을 기준으로 하위 75% 이하인 값을 NaN 값을 포함하여 75% 값으로 대체\n",
    "threshold = grid_map_df['average_e_usage'].quantile(0.25)\n",
    "grid_map_df['average_e_usage'] = grid_map_df['average_e_usage'].apply(lambda x: threshold if pd.isna(x) or x <= threshold else x)\n",
    "threshold = grid_map_df['average_g_usage'].quantile(0.25)\n",
    "grid_map_df['average_g_usage'] = grid_map_df['average_g_usage'].apply(lambda x: threshold if pd.isna(x) or x <= threshold else x)"
   ]
  },
  {
   "cell_type": "code",
   "execution_count": 92,
   "metadata": {},
   "outputs": [
    {
     "name": "stderr",
     "output_type": "stream",
     "text": [
      "c:\\Users\\HJK\\anaconda3\\envs\\GIS\\lib\\site-packages\\sklearn\\cluster\\_kmeans.py:1412: FutureWarning:\n",
      "\n",
      "The default value of `n_init` will change from 10 to 'auto' in 1.4. Set the value of `n_init` explicitly to suppress the warning\n",
      "\n",
      "c:\\Users\\HJK\\anaconda3\\envs\\GIS\\lib\\site-packages\\sklearn\\cluster\\_kmeans.py:1436: UserWarning:\n",
      "\n",
      "KMeans is known to have a memory leak on Windows with MKL, when there are less chunks than available threads. You can avoid it by setting the environment variable OMP_NUM_THREADS=11.\n",
      "\n",
      "c:\\Users\\HJK\\anaconda3\\envs\\GIS\\lib\\site-packages\\sklearn\\cluster\\_kmeans.py:1412: FutureWarning:\n",
      "\n",
      "The default value of `n_init` will change from 10 to 'auto' in 1.4. Set the value of `n_init` explicitly to suppress the warning\n",
      "\n",
      "c:\\Users\\HJK\\anaconda3\\envs\\GIS\\lib\\site-packages\\sklearn\\cluster\\_kmeans.py:1436: UserWarning:\n",
      "\n",
      "KMeans is known to have a memory leak on Windows with MKL, when there are less chunks than available threads. You can avoid it by setting the environment variable OMP_NUM_THREADS=11.\n",
      "\n",
      "c:\\Users\\HJK\\anaconda3\\envs\\GIS\\lib\\site-packages\\sklearn\\cluster\\_kmeans.py:1412: FutureWarning:\n",
      "\n",
      "The default value of `n_init` will change from 10 to 'auto' in 1.4. Set the value of `n_init` explicitly to suppress the warning\n",
      "\n",
      "c:\\Users\\HJK\\anaconda3\\envs\\GIS\\lib\\site-packages\\sklearn\\cluster\\_kmeans.py:1436: UserWarning:\n",
      "\n",
      "KMeans is known to have a memory leak on Windows with MKL, when there are less chunks than available threads. You can avoid it by setting the environment variable OMP_NUM_THREADS=11.\n",
      "\n",
      "c:\\Users\\HJK\\anaconda3\\envs\\GIS\\lib\\site-packages\\sklearn\\cluster\\_kmeans.py:1412: FutureWarning:\n",
      "\n",
      "The default value of `n_init` will change from 10 to 'auto' in 1.4. Set the value of `n_init` explicitly to suppress the warning\n",
      "\n",
      "c:\\Users\\HJK\\anaconda3\\envs\\GIS\\lib\\site-packages\\sklearn\\cluster\\_kmeans.py:1436: UserWarning:\n",
      "\n",
      "KMeans is known to have a memory leak on Windows with MKL, when there are less chunks than available threads. You can avoid it by setting the environment variable OMP_NUM_THREADS=11.\n",
      "\n",
      "c:\\Users\\HJK\\anaconda3\\envs\\GIS\\lib\\site-packages\\sklearn\\cluster\\_kmeans.py:1412: FutureWarning:\n",
      "\n",
      "The default value of `n_init` will change from 10 to 'auto' in 1.4. Set the value of `n_init` explicitly to suppress the warning\n",
      "\n",
      "c:\\Users\\HJK\\anaconda3\\envs\\GIS\\lib\\site-packages\\sklearn\\cluster\\_kmeans.py:1436: UserWarning:\n",
      "\n",
      "KMeans is known to have a memory leak on Windows with MKL, when there are less chunks than available threads. You can avoid it by setting the environment variable OMP_NUM_THREADS=11.\n",
      "\n",
      "c:\\Users\\HJK\\anaconda3\\envs\\GIS\\lib\\site-packages\\sklearn\\cluster\\_kmeans.py:1412: FutureWarning:\n",
      "\n",
      "The default value of `n_init` will change from 10 to 'auto' in 1.4. Set the value of `n_init` explicitly to suppress the warning\n",
      "\n",
      "c:\\Users\\HJK\\anaconda3\\envs\\GIS\\lib\\site-packages\\sklearn\\cluster\\_kmeans.py:1436: UserWarning:\n",
      "\n",
      "KMeans is known to have a memory leak on Windows with MKL, when there are less chunks than available threads. You can avoid it by setting the environment variable OMP_NUM_THREADS=11.\n",
      "\n",
      "c:\\Users\\HJK\\anaconda3\\envs\\GIS\\lib\\site-packages\\sklearn\\cluster\\_kmeans.py:1412: FutureWarning:\n",
      "\n",
      "The default value of `n_init` will change from 10 to 'auto' in 1.4. Set the value of `n_init` explicitly to suppress the warning\n",
      "\n",
      "c:\\Users\\HJK\\anaconda3\\envs\\GIS\\lib\\site-packages\\sklearn\\cluster\\_kmeans.py:1436: UserWarning:\n",
      "\n",
      "KMeans is known to have a memory leak on Windows with MKL, when there are less chunks than available threads. You can avoid it by setting the environment variable OMP_NUM_THREADS=11.\n",
      "\n",
      "c:\\Users\\HJK\\anaconda3\\envs\\GIS\\lib\\site-packages\\sklearn\\cluster\\_kmeans.py:1412: FutureWarning:\n",
      "\n",
      "The default value of `n_init` will change from 10 to 'auto' in 1.4. Set the value of `n_init` explicitly to suppress the warning\n",
      "\n",
      "c:\\Users\\HJK\\anaconda3\\envs\\GIS\\lib\\site-packages\\sklearn\\cluster\\_kmeans.py:1436: UserWarning:\n",
      "\n",
      "KMeans is known to have a memory leak on Windows with MKL, when there are less chunks than available threads. You can avoid it by setting the environment variable OMP_NUM_THREADS=11.\n",
      "\n",
      "c:\\Users\\HJK\\anaconda3\\envs\\GIS\\lib\\site-packages\\sklearn\\cluster\\_kmeans.py:1412: FutureWarning:\n",
      "\n",
      "The default value of `n_init` will change from 10 to 'auto' in 1.4. Set the value of `n_init` explicitly to suppress the warning\n",
      "\n",
      "c:\\Users\\HJK\\anaconda3\\envs\\GIS\\lib\\site-packages\\sklearn\\cluster\\_kmeans.py:1436: UserWarning:\n",
      "\n",
      "KMeans is known to have a memory leak on Windows with MKL, when there are less chunks than available threads. You can avoid it by setting the environment variable OMP_NUM_THREADS=11.\n",
      "\n",
      "c:\\Users\\HJK\\anaconda3\\envs\\GIS\\lib\\site-packages\\sklearn\\cluster\\_kmeans.py:1412: FutureWarning:\n",
      "\n",
      "The default value of `n_init` will change from 10 to 'auto' in 1.4. Set the value of `n_init` explicitly to suppress the warning\n",
      "\n",
      "c:\\Users\\HJK\\anaconda3\\envs\\GIS\\lib\\site-packages\\sklearn\\cluster\\_kmeans.py:1436: UserWarning:\n",
      "\n",
      "KMeans is known to have a memory leak on Windows with MKL, when there are less chunks than available threads. You can avoid it by setting the environment variable OMP_NUM_THREADS=11.\n",
      "\n",
      "c:\\Users\\HJK\\anaconda3\\envs\\GIS\\lib\\site-packages\\sklearn\\cluster\\_kmeans.py:1412: FutureWarning:\n",
      "\n",
      "The default value of `n_init` will change from 10 to 'auto' in 1.4. Set the value of `n_init` explicitly to suppress the warning\n",
      "\n",
      "c:\\Users\\HJK\\anaconda3\\envs\\GIS\\lib\\site-packages\\sklearn\\cluster\\_kmeans.py:1436: UserWarning:\n",
      "\n",
      "KMeans is known to have a memory leak on Windows with MKL, when there are less chunks than available threads. You can avoid it by setting the environment variable OMP_NUM_THREADS=11.\n",
      "\n",
      "c:\\Users\\HJK\\anaconda3\\envs\\GIS\\lib\\site-packages\\sklearn\\cluster\\_kmeans.py:1412: FutureWarning:\n",
      "\n",
      "The default value of `n_init` will change from 10 to 'auto' in 1.4. Set the value of `n_init` explicitly to suppress the warning\n",
      "\n",
      "c:\\Users\\HJK\\anaconda3\\envs\\GIS\\lib\\site-packages\\sklearn\\cluster\\_kmeans.py:1436: UserWarning:\n",
      "\n",
      "KMeans is known to have a memory leak on Windows with MKL, when there are less chunks than available threads. You can avoid it by setting the environment variable OMP_NUM_THREADS=11.\n",
      "\n",
      "c:\\Users\\HJK\\anaconda3\\envs\\GIS\\lib\\site-packages\\sklearn\\cluster\\_kmeans.py:1412: FutureWarning:\n",
      "\n",
      "The default value of `n_init` will change from 10 to 'auto' in 1.4. Set the value of `n_init` explicitly to suppress the warning\n",
      "\n",
      "c:\\Users\\HJK\\anaconda3\\envs\\GIS\\lib\\site-packages\\sklearn\\cluster\\_kmeans.py:1436: UserWarning:\n",
      "\n",
      "KMeans is known to have a memory leak on Windows with MKL, when there are less chunks than available threads. You can avoid it by setting the environment variable OMP_NUM_THREADS=11.\n",
      "\n",
      "c:\\Users\\HJK\\anaconda3\\envs\\GIS\\lib\\site-packages\\sklearn\\cluster\\_kmeans.py:1412: FutureWarning:\n",
      "\n",
      "The default value of `n_init` will change from 10 to 'auto' in 1.4. Set the value of `n_init` explicitly to suppress the warning\n",
      "\n",
      "c:\\Users\\HJK\\anaconda3\\envs\\GIS\\lib\\site-packages\\sklearn\\cluster\\_kmeans.py:1436: UserWarning:\n",
      "\n",
      "KMeans is known to have a memory leak on Windows with MKL, when there are less chunks than available threads. You can avoid it by setting the environment variable OMP_NUM_THREADS=11.\n",
      "\n",
      "c:\\Users\\HJK\\anaconda3\\envs\\GIS\\lib\\site-packages\\sklearn\\cluster\\_kmeans.py:1412: FutureWarning:\n",
      "\n",
      "The default value of `n_init` will change from 10 to 'auto' in 1.4. Set the value of `n_init` explicitly to suppress the warning\n",
      "\n",
      "c:\\Users\\HJK\\anaconda3\\envs\\GIS\\lib\\site-packages\\sklearn\\cluster\\_kmeans.py:1436: UserWarning:\n",
      "\n",
      "KMeans is known to have a memory leak on Windows with MKL, when there are less chunks than available threads. You can avoid it by setting the environment variable OMP_NUM_THREADS=11.\n",
      "\n",
      "c:\\Users\\HJK\\anaconda3\\envs\\GIS\\lib\\site-packages\\sklearn\\cluster\\_kmeans.py:1412: FutureWarning:\n",
      "\n",
      "The default value of `n_init` will change from 10 to 'auto' in 1.4. Set the value of `n_init` explicitly to suppress the warning\n",
      "\n",
      "c:\\Users\\HJK\\anaconda3\\envs\\GIS\\lib\\site-packages\\sklearn\\cluster\\_kmeans.py:1436: UserWarning:\n",
      "\n",
      "KMeans is known to have a memory leak on Windows with MKL, when there are less chunks than available threads. You can avoid it by setting the environment variable OMP_NUM_THREADS=11.\n",
      "\n",
      "c:\\Users\\HJK\\anaconda3\\envs\\GIS\\lib\\site-packages\\sklearn\\cluster\\_kmeans.py:1412: FutureWarning:\n",
      "\n",
      "The default value of `n_init` will change from 10 to 'auto' in 1.4. Set the value of `n_init` explicitly to suppress the warning\n",
      "\n",
      "c:\\Users\\HJK\\anaconda3\\envs\\GIS\\lib\\site-packages\\sklearn\\cluster\\_kmeans.py:1436: UserWarning:\n",
      "\n",
      "KMeans is known to have a memory leak on Windows with MKL, when there are less chunks than available threads. You can avoid it by setting the environment variable OMP_NUM_THREADS=11.\n",
      "\n",
      "c:\\Users\\HJK\\anaconda3\\envs\\GIS\\lib\\site-packages\\sklearn\\cluster\\_kmeans.py:1412: FutureWarning:\n",
      "\n",
      "The default value of `n_init` will change from 10 to 'auto' in 1.4. Set the value of `n_init` explicitly to suppress the warning\n",
      "\n",
      "c:\\Users\\HJK\\anaconda3\\envs\\GIS\\lib\\site-packages\\sklearn\\cluster\\_kmeans.py:1436: UserWarning:\n",
      "\n",
      "KMeans is known to have a memory leak on Windows with MKL, when there are less chunks than available threads. You can avoid it by setting the environment variable OMP_NUM_THREADS=11.\n",
      "\n",
      "c:\\Users\\HJK\\anaconda3\\envs\\GIS\\lib\\site-packages\\sklearn\\cluster\\_kmeans.py:1412: FutureWarning:\n",
      "\n",
      "The default value of `n_init` will change from 10 to 'auto' in 1.4. Set the value of `n_init` explicitly to suppress the warning\n",
      "\n",
      "c:\\Users\\HJK\\anaconda3\\envs\\GIS\\lib\\site-packages\\sklearn\\cluster\\_kmeans.py:1436: UserWarning:\n",
      "\n",
      "KMeans is known to have a memory leak on Windows with MKL, when there are less chunks than available threads. You can avoid it by setting the environment variable OMP_NUM_THREADS=11.\n",
      "\n",
      "c:\\Users\\HJK\\anaconda3\\envs\\GIS\\lib\\site-packages\\sklearn\\cluster\\_kmeans.py:1412: FutureWarning:\n",
      "\n",
      "The default value of `n_init` will change from 10 to 'auto' in 1.4. Set the value of `n_init` explicitly to suppress the warning\n",
      "\n",
      "c:\\Users\\HJK\\anaconda3\\envs\\GIS\\lib\\site-packages\\sklearn\\cluster\\_kmeans.py:1436: UserWarning:\n",
      "\n",
      "KMeans is known to have a memory leak on Windows with MKL, when there are less chunks than available threads. You can avoid it by setting the environment variable OMP_NUM_THREADS=11.\n",
      "\n",
      "c:\\Users\\HJK\\anaconda3\\envs\\GIS\\lib\\site-packages\\sklearn\\cluster\\_kmeans.py:1412: FutureWarning:\n",
      "\n",
      "The default value of `n_init` will change from 10 to 'auto' in 1.4. Set the value of `n_init` explicitly to suppress the warning\n",
      "\n",
      "c:\\Users\\HJK\\anaconda3\\envs\\GIS\\lib\\site-packages\\sklearn\\cluster\\_kmeans.py:1436: UserWarning:\n",
      "\n",
      "KMeans is known to have a memory leak on Windows with MKL, when there are less chunks than available threads. You can avoid it by setting the environment variable OMP_NUM_THREADS=11.\n",
      "\n",
      "c:\\Users\\HJK\\anaconda3\\envs\\GIS\\lib\\site-packages\\sklearn\\cluster\\_kmeans.py:1412: FutureWarning:\n",
      "\n",
      "The default value of `n_init` will change from 10 to 'auto' in 1.4. Set the value of `n_init` explicitly to suppress the warning\n",
      "\n",
      "c:\\Users\\HJK\\anaconda3\\envs\\GIS\\lib\\site-packages\\sklearn\\cluster\\_kmeans.py:1436: UserWarning:\n",
      "\n",
      "KMeans is known to have a memory leak on Windows with MKL, when there are less chunks than available threads. You can avoid it by setting the environment variable OMP_NUM_THREADS=11.\n",
      "\n",
      "c:\\Users\\HJK\\anaconda3\\envs\\GIS\\lib\\site-packages\\sklearn\\cluster\\_kmeans.py:1412: FutureWarning:\n",
      "\n",
      "The default value of `n_init` will change from 10 to 'auto' in 1.4. Set the value of `n_init` explicitly to suppress the warning\n",
      "\n",
      "c:\\Users\\HJK\\anaconda3\\envs\\GIS\\lib\\site-packages\\sklearn\\cluster\\_kmeans.py:1436: UserWarning:\n",
      "\n",
      "KMeans is known to have a memory leak on Windows with MKL, when there are less chunks than available threads. You can avoid it by setting the environment variable OMP_NUM_THREADS=11.\n",
      "\n",
      "c:\\Users\\HJK\\anaconda3\\envs\\GIS\\lib\\site-packages\\sklearn\\cluster\\_kmeans.py:1412: FutureWarning:\n",
      "\n",
      "The default value of `n_init` will change from 10 to 'auto' in 1.4. Set the value of `n_init` explicitly to suppress the warning\n",
      "\n",
      "c:\\Users\\HJK\\anaconda3\\envs\\GIS\\lib\\site-packages\\sklearn\\cluster\\_kmeans.py:1436: UserWarning:\n",
      "\n",
      "KMeans is known to have a memory leak on Windows with MKL, when there are less chunks than available threads. You can avoid it by setting the environment variable OMP_NUM_THREADS=11.\n",
      "\n",
      "c:\\Users\\HJK\\anaconda3\\envs\\GIS\\lib\\site-packages\\sklearn\\cluster\\_kmeans.py:1412: FutureWarning:\n",
      "\n",
      "The default value of `n_init` will change from 10 to 'auto' in 1.4. Set the value of `n_init` explicitly to suppress the warning\n",
      "\n",
      "c:\\Users\\HJK\\anaconda3\\envs\\GIS\\lib\\site-packages\\sklearn\\cluster\\_kmeans.py:1436: UserWarning:\n",
      "\n",
      "KMeans is known to have a memory leak on Windows with MKL, when there are less chunks than available threads. You can avoid it by setting the environment variable OMP_NUM_THREADS=11.\n",
      "\n",
      "c:\\Users\\HJK\\anaconda3\\envs\\GIS\\lib\\site-packages\\sklearn\\cluster\\_kmeans.py:1412: FutureWarning:\n",
      "\n",
      "The default value of `n_init` will change from 10 to 'auto' in 1.4. Set the value of `n_init` explicitly to suppress the warning\n",
      "\n",
      "c:\\Users\\HJK\\anaconda3\\envs\\GIS\\lib\\site-packages\\sklearn\\cluster\\_kmeans.py:1436: UserWarning:\n",
      "\n",
      "KMeans is known to have a memory leak on Windows with MKL, when there are less chunks than available threads. You can avoid it by setting the environment variable OMP_NUM_THREADS=11.\n",
      "\n",
      "c:\\Users\\HJK\\anaconda3\\envs\\GIS\\lib\\site-packages\\sklearn\\cluster\\_kmeans.py:1412: FutureWarning:\n",
      "\n",
      "The default value of `n_init` will change from 10 to 'auto' in 1.4. Set the value of `n_init` explicitly to suppress the warning\n",
      "\n",
      "c:\\Users\\HJK\\anaconda3\\envs\\GIS\\lib\\site-packages\\sklearn\\cluster\\_kmeans.py:1436: UserWarning:\n",
      "\n",
      "KMeans is known to have a memory leak on Windows with MKL, when there are less chunks than available threads. You can avoid it by setting the environment variable OMP_NUM_THREADS=11.\n",
      "\n",
      "c:\\Users\\HJK\\anaconda3\\envs\\GIS\\lib\\site-packages\\sklearn\\cluster\\_kmeans.py:1412: FutureWarning:\n",
      "\n",
      "The default value of `n_init` will change from 10 to 'auto' in 1.4. Set the value of `n_init` explicitly to suppress the warning\n",
      "\n",
      "c:\\Users\\HJK\\anaconda3\\envs\\GIS\\lib\\site-packages\\sklearn\\cluster\\_kmeans.py:1436: UserWarning:\n",
      "\n",
      "KMeans is known to have a memory leak on Windows with MKL, when there are less chunks than available threads. You can avoid it by setting the environment variable OMP_NUM_THREADS=11.\n",
      "\n",
      "c:\\Users\\HJK\\anaconda3\\envs\\GIS\\lib\\site-packages\\sklearn\\cluster\\_kmeans.py:1412: FutureWarning:\n",
      "\n",
      "The default value of `n_init` will change from 10 to 'auto' in 1.4. Set the value of `n_init` explicitly to suppress the warning\n",
      "\n",
      "c:\\Users\\HJK\\anaconda3\\envs\\GIS\\lib\\site-packages\\sklearn\\cluster\\_kmeans.py:1436: UserWarning:\n",
      "\n",
      "KMeans is known to have a memory leak on Windows with MKL, when there are less chunks than available threads. You can avoid it by setting the environment variable OMP_NUM_THREADS=11.\n",
      "\n"
     ]
    },
    {
     "data": {
      "image/png": "[encoded data removed]",
      "text/plain": [
       "<Figure size 1000x800 with 1 Axes>"
      ]
     },
     "metadata": {},
     "output_type": "display_data"
    }
   ],
   "source": [
    "import matplotlib.pyplot as plt\n",
    "from sklearn.cluster import KMeans\n",
    "from sklearn.preprocessing import StandardScaler\n",
    "\n",
    "# 데이터 준비 (예시로 간단하게 특성을 설정합니다)\n",
    "features = grid_map_df[grid_map_df.columns[5:]]\n",
    "\n",
    "# 데이터 정규화\n",
    "scaler = StandardScaler()\n",
    "scaled_features = scaler.fit_transform(features)\n",
    "\n",
    "# 클러스터 개수 범위 설정\n",
    "k_range = range(1, 30)\n",
    "\n",
    "# 각 클러스터 개수에 대한 WCSS 계산\n",
    "wcss = []\n",
    "for k in k_range:\n",
    "    kmeans = KMeans(n_clusters=k, random_state=42)\n",
    "    kmeans.fit(scaled_features)\n",
    "    wcss.append(kmeans.inertia_)\n",
    "\n",
    "# 엘보우 방법을 위한 그래프 그리기\n",
    "plt.figure(figsize=(10, 8))\n",
    "plt.plot(k_range, wcss, marker='o')\n",
    "plt.xlabel('Number of Clusters (K)')\n",
    "plt.ylabel('WCSS')\n",
    "plt.title('Elbow Method for Optimal K')\n",
    "plt.show()\n"
   ]
  },
  {
   "cell_type": "code",
   "execution_count": 107,
   "metadata": {},
   "outputs": [
    {
     "name": "stderr",
     "output_type": "stream",
     "text": [
      "c:\\Users\\HJK\\anaconda3\\envs\\GIS\\lib\\site-packages\\sklearn\\cluster\\_kmeans.py:1412: FutureWarning:\n",
      "\n",
      "The default value of `n_init` will change from 10 to 'auto' in 1.4. Set the value of `n_init` explicitly to suppress the warning\n",
      "\n",
      "c:\\Users\\HJK\\anaconda3\\envs\\GIS\\lib\\site-packages\\sklearn\\cluster\\_kmeans.py:1436: UserWarning:\n",
      "\n",
      "KMeans is known to have a memory leak on Windows with MKL, when there are less chunks than available threads. You can avoid it by setting the environment variable OMP_NUM_THREADS=11.\n",
      "\n"
     ]
    }
   ],
   "source": [
    "# 적절한 클러스터 개수를 엘보우 그래프를 통해 확인합니다.\n",
    "optimal_k = 16  # 예시로 5를 선택합니다. 실제 그래프를 보고 결정하세요.\n",
    "\n",
    "# K-means 모델 생성 및 학습\n",
    "kmeans = KMeans(n_clusters=optimal_k, random_state=42)\n",
    "kmeans.fit(scaled_features)\n",
    "\n",
    "# 클러스터링 결과 확인\n",
    "grid_map_df['cluster'] = kmeans.labels_"
   ]
  },
  {
   "cell_type": "code",
   "execution_count": null,
   "metadata": {},
   "outputs": [],
   "source": [
    "#### 격자별 가중치 시각화\n",
    "# 맵 객체 생성 및 데이터 로드\n",
    "weight_map = KeplerGl(height=800)\n",
    "weight_map.add_data(data=grid_map_df, name=\"화재취약지역 가중치데이터\")\n",
    "weight_map.add_data(data=ydp_gdf, name=\"영등포구 행정동 데이터\")\n",
    "weight_map"
   ]
  },
  {
   "cell_type": "code",
   "execution_count": 98,
   "metadata": {},
   "outputs": [
    {
     "name": "stdout",
     "output_type": "stream",
     "text": [
      "Map saved to visualization/화재취약지역 시각화 keplerGL.html!\n"
     ]
    }
   ],
   "source": [
    "# 맵 출력 및 상세설정\n",
    "weight_map.save_to_html(file_name=\"visualization/화재취약지역 시각화 keplerGL.html\")"
   ]
  },
  {
   "cell_type": "code",
   "execution_count": 113,
   "metadata": {},
   "outputs": [],
   "source": [
    "# 화재취약 군집번호 필터링\n",
    "grid_map_vulnerable = grid_map_df[grid_map_df['cluster'].isin([2,6,7,9,11,12,13,14,15])]\n",
    "grid_map_vulnerable = grid_map_vulnerable[['properties.gid', 'geometry', 'cluster']]\n",
    "grid_map_vulnerable.rename(columns={'properties.gid': 'gid'}, inplace=True)\n",
    "grid_map_vulnerable.to_csv(\"visualization/화재취약지역.csv\", index=False)"
   ]
  },
  {
   "cell_type": "code",
   "execution_count": null,
   "metadata": {},
   "outputs": [],
   "source": [
    "#### 격자별 가중치 시각화\n",
    "# 맵 객체 생성 및 데이터 로드\n",
    "vulnerable_map = KeplerGl(height=800)\n",
    "vulnerable_map.add_data(data=grid_map_vulnerable, name=\"화재취약지역\")\n",
    "vulnerable_map.add_data(data=ydp_gdf, name=\"영등포구 행정동 데이터\")\n",
    "vulnerable_map"
   ]
  },
  {
   "cell_type": "code",
   "execution_count": 1,
   "metadata": {},
   "outputs": [
    {
     "ename": "NameError",
     "evalue": "name 'grid_map_df' is not defined",
     "output_type": "error",
     "traceback": [
      "\u001b[1;31m---------------------------------------------------------------------------\u001b[0m",
      "\u001b[1;31mNameError\u001b[0m                                 Traceback (most recent call last)",
      "Cell \u001b[1;32mIn[1], line 1\u001b[0m\n\u001b[1;32m----> 1\u001b[0m \u001b[43mgrid_map_df\u001b[49m\n",
      "\u001b[1;31mNameError\u001b[0m: name 'grid_map_df' is not defined"
     ]
    }
   ],
   "source": [
    "grid_map_df"
   ]
  }
 ],
 "metadata": {
  "kernelspec": {
   "display_name": "Python 3.8.16 ('GIS')",
   "language": "python",
   "name": "python3"
  },
  "language_info": {
   "codemirror_mode": {
    "name": "ipython",
    "version": 3
   },
   "file_extension": ".py",
   "mimetype": "text/x-python",
   "name": "python",
   "nbconvert_exporter": "python",
   "pygments_lexer": "ipython3",
   "version": "3.8.16"
  },
  "orig_nbformat": 4,
  "vscode": {
   "interpreter": {
    "hash": "4c2ab1d16d29501e38a3ee1978e97de755e76d74519759c8e0a07f6b08052ab1"
   }
  }
 },
 "nbformat": 4,
 "nbformat_minor": 2
}
