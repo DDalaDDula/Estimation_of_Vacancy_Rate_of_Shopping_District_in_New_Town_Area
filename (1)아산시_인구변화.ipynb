{
 "cells": [
  {
   "attachments": {},
   "cell_type": "markdown",
   "metadata": {},
   "source": [
    "## 기본설정 및 함수정의"
   ]
  },
  {
   "cell_type": "code",
   "execution_count": 1,
   "metadata": {},
   "outputs": [
    {
     "name": "stderr",
     "output_type": "stream",
     "text": [
      "c:\\Users\\HJK\\anaconda3\\envs\\GIS\\lib\\site-packages\\geopandas\\_compat.py:124: UserWarning:\n",
      "\n",
      "The Shapely GEOS version (3.11.2-CAPI-1.17.2) is incompatible with the GEOS version PyGEOS was compiled with (3.10.4-CAPI-1.16.2). Conversions between both will be slow.\n",
      "\n",
      "C:\\Users\\HJK\\AppData\\Local\\Temp\\ipykernel_23660\\2165361242.py:23: DeprecationWarning:\n",
      "\n",
      "Shapely 2.0 is installed, but because PyGEOS is also installed, GeoPandas still uses PyGEOS by default. However, starting with version 0.14, the default will switch to Shapely. To force to use Shapely 2.0 now, you can either uninstall PyGEOS or set the environment variable USE_PYGEOS=0. You can do this before starting the Python process, or in your code before importing geopandas:\n",
      "\n",
      "import os\n",
      "os.environ['USE_PYGEOS'] = '0'\n",
      "import geopandas\n",
      "\n",
      "In the next release, GeoPandas will switch to using Shapely by default, even if PyGEOS is installed. If you only have PyGEOS installed to get speed-ups, this switch should be smooth. However, if you are using PyGEOS directly (calling PyGEOS functions on geometries from GeoPandas), this will then stop working and you are encouraged to migrate from PyGEOS to Shapely 2.0 (https://shapely.readthedocs.io/en/latest/migration_pygeos.html).\n",
      "\n"
     ]
    }
   ],
   "source": [
    "import pandas as pd\n",
    "import numpy as np\n",
    "import plotly.express as px\n",
    "import plotly.graph_objects as go\n",
    "import plotly.graph_objs as go\n",
    "import plotly.offline as offline\n",
    "from folium.plugins import HeatMapWithTime\n",
    "from plotly.subplots import make_subplots\n",
    "import folium\n",
    "from folium import plugins\n",
    "from folium.plugins import HeatMap\n",
    "from folium import FeatureGroup\n",
    "import json\n",
    "import math\n",
    "import re\n",
    "from datetime import datetime\n",
    "import os\n",
    "import glob\n",
    "import subprocess\n",
    "from bs4 import BeautifulSoup as bs\n",
    "from shapely.geometry import Point, Polygon, LineString\n",
    "from shapely.ops import unary_union\n",
    "import geopandas as gpd\n",
    "from geopandas import GeoSeries\n",
    "import pyproj\n",
    "from tqdm import tqdm\n",
    "from keplergl import KeplerGl\n",
    "\n",
    "# 모든 열이 생략되지 않도록 설정\n",
    "pd.set_option('display.max_columns', None)\n",
    "\n",
    "# 아산시청 위도, 경도\n",
    "Asan = [36.789882248764656, 127.00274491353838]\n",
    "\n",
    "# Polygon을 만드는 함수\n",
    "def make_pol(x):\n",
    "    try:\n",
    "        return Polygon(x[0])\n",
    "    except:\n",
    "        return Polygon(x[0][0])\n",
    "    \n",
    "# Linestring을 만드는 함수\n",
    "def make_lin(x):\n",
    "    try:\n",
    "        return LineString(x)\n",
    "    except:\n",
    "        return LineString(x[0])\n",
    "\n",
    "# 데이터프레임을 GeoPandas 데이터프레임으로 변환하는 함수 정의\n",
    "def geo_transform(DataFrame) :\n",
    "    # csv to geopandas\n",
    "    # lon, lat data를 geometry로 변경\n",
    "    DataFrame['lat'] = DataFrame['lat'].astype(float)\n",
    "    DataFrame['lon'] = DataFrame['lon'].astype(float)\n",
    "    DataFrame['geometry'] = DataFrame.apply(lambda row : Point([row['lon'], row['lat']]), axis=1) # 위도 및 경도롤 GeoPandas Point 객체로 변환\n",
    "    DataFrame = gpd.GeoDataFrame(DataFrame, geometry='geometry')\n",
    "    DataFrame.crs = {'init':'epsg:4326'} # geopandas 데이터프레임의 좌표계를 EPSG 4326으로 설정\n",
    "    DataFrame = DataFrame.to_crs({'init':'epsg:4326'}) # 데이터프레임의 좌표계를 자체 좌표계에서 EPSG 4326으로 변환\n",
    "    return DataFrame"
   ]
  },
  {
   "cell_type": "markdown",
   "metadata": {},
   "source": [
    "#### 아산시 행정경계 (출처 - 통계지리정보서비스 2023년 센서스용 행정구역경계(읍면동))"
   ]
  },
  {
   "cell_type": "code",
   "execution_count": 8,
   "metadata": {},
   "outputs": [],
   "source": [
    "# shp to geodataframe convert\n",
    "shapefile_path = \"SBJ_2405_001/_census_data_2023_bnd_dong_bnd_dong_34040_2023_2023/bnd_dong_34040_2023_2023_2Q.shp\"\n",
    "asan_gdf = gpd.read_file(shapefile_path)\n",
    "asan_gdf = asan_gdf.to_crs(epsg=4326) #EPSG4326 형식으로 변환\n",
    "\n",
    "# 행정동 구분에 따라 색 구분하는 함수\n",
    "def hjd_color(name):\n",
    "    if name[-1] == '읍':\n",
    "        return 'green'\n",
    "    elif name[-1] == '면':\n",
    "        return 'yellow'\n",
    "    elif name[-1] == '동':\n",
    "        return 'red'\n",
    "\n",
    "asan_gdf['color'] = asan_gdf['ADM_NM'].apply(hjd_color)"
   ]
  },
  {
   "cell_type": "code",
   "execution_count": null,
   "metadata": {},
   "outputs": [],
   "source": [
    "# map 생성\n",
    "m = folium.Map(location=Asan, tiles='cartodbpositron', zoom_start=11)\n",
    "\n",
    "# 필터링된 원도심 grid(격자) 추가\n",
    "folium.TileLayer('cartodbpositron', overlay=False).add_to(m)\n",
    "for _, row in asan_gdf.iterrows() :\n",
    "    color = row['color']\n",
    "    folium.GeoJson(\n",
    "        row['geometry'],\n",
    "        name=row['ADM_NM'],\n",
    "        style_function=lambda feature, color=color:{\n",
    "            'fillColor': color,\n",
    "            'color': 'black',\n",
    "            'weight': 1\n",
    "        }).add_to(m)\n",
    "# 맵 출력\n",
    "m"
   ]
  },
  {
   "cell_type": "code",
   "execution_count": 68,
   "metadata": {},
   "outputs": [],
   "source": [
    "m.save(\"visualization/아산시 행정경계.html\")"
   ]
  },
  {
   "attachments": {},
   "cell_type": "markdown",
   "metadata": {},
   "source": [
    "#### 격자(매핑용)"
   ]
  },
  {
   "cell_type": "code",
   "execution_count": 11,
   "metadata": {},
   "outputs": [],
   "source": [
    "# GeoJSON 파일 불러오기\n",
    "with open('SBJ_2405_001/12.아산시_격자(매핑용).geojson', encoding=\"UTF8\") as geojson_file:\n",
    "    geojson_data = json.load(geojson_file)\n",
    "grid_map_df = pd.json_normalize(geojson_data['features'])\n",
    "grid_map_df['geometry'] = grid_map_df['geometry.coordinates'].apply(lambda x : make_pol(x))\n",
    "# grid_map_df 데이터프레임을 GeoDataFrame으로 변환\n",
    "grid_map_df = gpd.GeoDataFrame(grid_map_df, geometry='geometry')"
   ]
  },
  {
   "cell_type": "code",
   "execution_count": null,
   "metadata": {},
   "outputs": [],
   "source": [
    "# map 생성\n",
    "m = folium.Map(location=Asan, tiles='cartodbpositron', zoom_start=11)\n",
    "\n",
    "# 필터링된 원도심 grid(격자) 추가\n",
    "\n",
    "for _, row in asan_gdf.iterrows() :\n",
    "    color = row['color']\n",
    "    folium.GeoJson(\n",
    "        row['geometry'],\n",
    "        name=row['ADM_NM'],\n",
    "        style_function=lambda feature, color=color:{\n",
    "            'fillColor': color,\n",
    "            'color': 'black',\n",
    "            'weight': 1\n",
    "        }).add_to(m)\n",
    "\n",
    "folium.TileLayer('cartodbpositron', overlay=False).add_to(m)\n",
    "grid_geojson = grid_map_df['geometry'].to_json()\n",
    "grid_layer = folium.GeoJson(\n",
    "    grid_geojson,\n",
    "    name=\"격자\",\n",
    "    style_function=lambda feature: {\n",
    "        'fillColor': 'none',\n",
    "        'color': 'black',\n",
    "        'weight': 0.3\n",
    "    }\n",
    ")\n",
    "grid_layer.add_to(m)\n",
    "# 맵 출력\n",
    "m"
   ]
  },
  {
   "cell_type": "code",
   "execution_count": 74,
   "metadata": {},
   "outputs": [],
   "source": [
    "m.save(\"visualization/아산시 격자.html\")"
   ]
  },
  {
   "attachments": {},
   "cell_type": "markdown",
   "metadata": {},
   "source": [
    "#### 아산시 상세 도로망"
   ]
  },
  {
   "cell_type": "code",
   "execution_count": 12,
   "metadata": {},
   "outputs": [],
   "source": [
    "# GeoJSON 파일 불러오기\n",
    "with open('SBJ_2405_001/4.아산시_상세도로망.geojson', encoding=\"UTF8\") as geojson_file:\n",
    "    geojson_data = json.load(geojson_file)\n",
    "roadsystem_df = pd.json_normalize(geojson_data['features'])\n",
    "roadsystem_df['geometry'] = roadsystem_df['geometry.coordinates'].apply(lambda x : make_lin(x))\n",
    "roadsystem_df['properties.link_id'] = roadsystem_df['properties.link_id'].astype(str)\n",
    "# roadsystem_df 데이터프레임을 GeoDataFrame으로 변환\n",
    "roadsystem_df = gpd.GeoDataFrame(roadsystem_df, geometry='geometry')"
   ]
  },
  {
   "cell_type": "code",
   "execution_count": null,
   "metadata": {},
   "outputs": [],
   "source": [
    "# map 생성\n",
    "m = folium.Map(location=Asan, tiles='cartodbpositron', zoom_start=11)\n",
    "\n",
    "# 통합도로망 추가\n",
    "folium.TileLayer('cartodbpositron', overlay=False).add_to(m)\n",
    "grid_layer = folium.GeoJson(\n",
    "    unary_union(asan_gdf['geometry']),\n",
    "    name=\"아산시 행정동\",\n",
    "    style_function=lambda feature: {\n",
    "        'fillColor': 'none',\n",
    "        'color': 'black',\n",
    "        'weight': 1\n",
    "    }\n",
    ")\n",
    "grid_layer.add_to(m)\n",
    "roal_geojson = roadsystem_df['geometry'].to_json()\n",
    "roal_layer = folium.GeoJson(\n",
    "    roal_geojson,\n",
    "    name=\"도로망\",\n",
    "    style_function=lambda feature: {\n",
    "        'fillColor': 'none',\n",
    "        'color': 'gray',\n",
    "        'weight': 3\n",
    "    })\n",
    "roal_layer.add_to(m)\n",
    "# 맵 출력\n",
    "m"
   ]
  },
  {
   "cell_type": "code",
   "execution_count": 78,
   "metadata": {},
   "outputs": [],
   "source": [
    "m.save(\"visualization/아산시 도로망.html\")"
   ]
  },
  {
   "attachments": {},
   "cell_type": "markdown",
   "metadata": {},
   "source": [
    "## 아산시 주민등록인구 현황"
   ]
  },
  {
   "cell_type": "code",
   "execution_count": 13,
   "metadata": {},
   "outputs": [
    {
     "data": {
      "text/html": [
       "<div>\n",
       "<style scoped>\n",
       "    .dataframe tbody tr th:only-of-type {\n",
       "        vertical-align: middle;\n",
       "    }\n",
       "\n",
       "    .dataframe tbody tr th {\n",
       "        vertical-align: top;\n",
       "    }\n",
       "\n",
       "    .dataframe thead th {\n",
       "        text-align: right;\n",
       "    }\n",
       "</style>\n",
       "<table border=\"1\" class=\"dataframe\">\n",
       "  <thead>\n",
       "    <tr style=\"text-align: right;\">\n",
       "      <th></th>\n",
       "      <th>adm_cd</th>\n",
       "      <th>adm_nm</th>\n",
       "      <th>year</th>\n",
       "      <th>m_pop</th>\n",
       "      <th>fm_pop</th>\n",
       "      <th>tot_pop</th>\n",
       "    </tr>\n",
       "  </thead>\n",
       "  <tbody>\n",
       "    <tr>\n",
       "      <th>0</th>\n",
       "      <td>4420025000</td>\n",
       "      <td>염치읍</td>\n",
       "      <td>202101</td>\n",
       "      <td>3411</td>\n",
       "      <td>3106</td>\n",
       "      <td>6517</td>\n",
       "    </tr>\n",
       "    <tr>\n",
       "      <th>1</th>\n",
       "      <td>4420025300</td>\n",
       "      <td>배방읍</td>\n",
       "      <td>202101</td>\n",
       "      <td>39078</td>\n",
       "      <td>36929</td>\n",
       "      <td>76007</td>\n",
       "    </tr>\n",
       "    <tr>\n",
       "      <th>2</th>\n",
       "      <td>4420031000</td>\n",
       "      <td>송악면</td>\n",
       "      <td>202101</td>\n",
       "      <td>2174</td>\n",
       "      <td>2072</td>\n",
       "      <td>4246</td>\n",
       "    </tr>\n",
       "    <tr>\n",
       "      <th>3</th>\n",
       "      <td>4420033000</td>\n",
       "      <td>탕정면</td>\n",
       "      <td>202101</td>\n",
       "      <td>11783</td>\n",
       "      <td>9959</td>\n",
       "      <td>21742</td>\n",
       "    </tr>\n",
       "    <tr>\n",
       "      <th>4</th>\n",
       "      <td>4420035000</td>\n",
       "      <td>음봉면</td>\n",
       "      <td>202101</td>\n",
       "      <td>10815</td>\n",
       "      <td>9175</td>\n",
       "      <td>19990</td>\n",
       "    </tr>\n",
       "    <tr>\n",
       "      <th>...</th>\n",
       "      <td>...</td>\n",
       "      <td>...</td>\n",
       "      <td>...</td>\n",
       "      <td>...</td>\n",
       "      <td>...</td>\n",
       "      <td>...</td>\n",
       "    </tr>\n",
       "    <tr>\n",
       "      <th>607</th>\n",
       "      <td>4420058000</td>\n",
       "      <td>온양2동</td>\n",
       "      <td>202312</td>\n",
       "      <td>5390</td>\n",
       "      <td>4710</td>\n",
       "      <td>10100</td>\n",
       "    </tr>\n",
       "    <tr>\n",
       "      <th>608</th>\n",
       "      <td>4420059000</td>\n",
       "      <td>온양3동</td>\n",
       "      <td>202312</td>\n",
       "      <td>19547</td>\n",
       "      <td>19569</td>\n",
       "      <td>39116</td>\n",
       "    </tr>\n",
       "    <tr>\n",
       "      <th>609</th>\n",
       "      <td>4420060000</td>\n",
       "      <td>온양4동</td>\n",
       "      <td>202312</td>\n",
       "      <td>8590</td>\n",
       "      <td>8339</td>\n",
       "      <td>16929</td>\n",
       "    </tr>\n",
       "    <tr>\n",
       "      <th>610</th>\n",
       "      <td>4420061000</td>\n",
       "      <td>온양5동</td>\n",
       "      <td>202312</td>\n",
       "      <td>10603</td>\n",
       "      <td>10104</td>\n",
       "      <td>20707</td>\n",
       "    </tr>\n",
       "    <tr>\n",
       "      <th>611</th>\n",
       "      <td>4420062000</td>\n",
       "      <td>온양6동</td>\n",
       "      <td>202312</td>\n",
       "      <td>13322</td>\n",
       "      <td>13499</td>\n",
       "      <td>26821</td>\n",
       "    </tr>\n",
       "  </tbody>\n",
       "</table>\n",
       "<p>612 rows × 6 columns</p>\n",
       "</div>"
      ],
      "text/plain": [
       "         adm_cd adm_nm    year  m_pop  fm_pop  tot_pop\n",
       "0    4420025000    염치읍  202101   3411    3106     6517\n",
       "1    4420025300    배방읍  202101  39078   36929    76007\n",
       "2    4420031000    송악면  202101   2174    2072     4246\n",
       "3    4420033000    탕정면  202101  11783    9959    21742\n",
       "4    4420035000    음봉면  202101  10815    9175    19990\n",
       "..          ...    ...     ...    ...     ...      ...\n",
       "607  4420058000   온양2동  202312   5390    4710    10100\n",
       "608  4420059000   온양3동  202312  19547   19569    39116\n",
       "609  4420060000   온양4동  202312   8590    8339    16929\n",
       "610  4420061000   온양5동  202312  10603   10104    20707\n",
       "611  4420062000   온양6동  202312  13322   13499    26821\n",
       "\n",
       "[612 rows x 6 columns]"
      ]
     },
     "execution_count": 13,
     "metadata": {},
     "output_type": "execute_result"
    }
   ],
   "source": [
    "# 주민등록인구 data load\n",
    "pop_df = pd.read_csv('SBJ_2405_001/2.아산시_주민등록인구현황.csv')\n",
    "pop_df['year'] = pop_df['year'].astype(str)\n",
    "pop_df['adm_nm'] = pop_df['adm_nm'].apply(lambda x:x.split(\" \")[-1])\n",
    "# 남성인구와 여성인구를 더하여 tot_pop(종합인구) column 생성\n",
    "pop_df['tot_pop'] = pop_df.iloc[:,3:5].sum(axis=1)\n",
    "pop_df"
   ]
  },
  {
   "cell_type": "code",
   "execution_count": 36,
   "metadata": {},
   "outputs": [
    {
     "data": {
      "text/plain": [
       "91.7561221066756"
      ]
     },
     "execution_count": 36,
     "metadata": {},
     "output_type": "execute_result"
    }
   ],
   "source": [
    "pop_last_df = pop_df[pop_df['year'] == '202312'].sort_values(by='tot_pop', ascending=False)\n",
    "(pop_last_df['tot_pop'].iloc[:11].sum() / pop_last_df['tot_pop'].sum()) * 100"
   ]
  },
  {
   "cell_type": "code",
   "execution_count": 14,
   "metadata": {},
   "outputs": [],
   "source": [
    "# target값 list 생성 및 평균값 높은 target순으로 정렬\n",
    "targets = []\n",
    "for target in pop_df['adm_nm'].unique():\n",
    "    pop_hjd = pop_df[pop_df['adm_nm'] == (target)]\n",
    "    targets.append([target,pop_hjd['tot_pop'].mean()])\n",
    "targets = sorted(targets, key=lambda x : x[1], reverse=True)\n",
    "targets = [target[0] for target in targets]\n",
    "\n",
    "# 행정동별 시계열 인구추이 dict생성\n",
    "hjd_pop_dic = {}\n",
    "for target in targets:\n",
    "    pop_hjd = pop_df[pop_df['adm_nm'] == (target)]\n",
    "    pop_hjd = pop_hjd[['year', 'm_pop', 'fm_pop', 'tot_pop']].reset_index(drop=True)\n",
    "    pop_hjd.rename(columns = {'m_pop' : '%s_남'%target, 'fm_pop' : '%s_여'%target, 'tot_pop' : '%s_총합'%target}, inplace = True)\n",
    "    hjd_pop_dic[target] = pop_hjd"
   ]
  },
  {
   "cell_type": "code",
   "execution_count": null,
   "metadata": {},
   "outputs": [],
   "source": [
    "colors =px.colors.sequential.Plasma\n",
    "colors = colors * 2\n",
    "# map 생성\n",
    "m = folium.Map(location=Asan, tiles='cartodbpositron', zoom_start=11)\n",
    "\n",
    "# 필터링된 원도심 grid(격자) 추가\n",
    "folium.TileLayer('cartodbpositron', overlay=False).add_to(m)\n",
    "for i, row in asan_gdf.iterrows() :\n",
    "    color = colors[i]\n",
    "    folium.GeoJson(\n",
    "        row['geometry'],\n",
    "        name=row['ADM_NM'],\n",
    "        style_function=lambda feature, color=color:{\n",
    "            'fillColor': color,\n",
    "            'color': 'black',\n",
    "            'weight': 1\n",
    "        }).add_to(m)\n",
    "# 맵 출력\n",
    "m"
   ]
  },
  {
   "cell_type": "code",
   "execution_count": 16,
   "metadata": {},
   "outputs": [
    {
     "data": {
      "text/plain": [
       "['염치읍',\n",
       " '배방읍',\n",
       " '송악면',\n",
       " '탕정면',\n",
       " '음봉면',\n",
       " '둔포면',\n",
       " '영인면',\n",
       " '인주면',\n",
       " '선장면',\n",
       " '도고면',\n",
       " '신창면',\n",
       " '온양1동',\n",
       " '온양2동',\n",
       " '온양3동',\n",
       " '온양4동',\n",
       " '온양5동',\n",
       " '온양6동']"
      ]
     },
     "execution_count": 16,
     "metadata": {},
     "output_type": "execute_result"
    }
   ],
   "source": [
    "asan_gdf['ADM_NM'].tolist()"
   ]
  },
  {
   "cell_type": "code",
   "execution_count": 17,
   "metadata": {},
   "outputs": [],
   "source": [
    "asan_high_lst = ['배방읍','탕정면','음봉면','둔포면','신창면','온양1동','온양2동','온양3동','온양4동','온양5동','온양6동']"
   ]
  },
  {
   "cell_type": "code",
   "execution_count": 34,
   "metadata": {},
   "outputs": [
    {
     "data": {
      "text/html": [
       "<div style=\"width:100%;\"><div style=\"position:relative;width:100%;height:0;padding-bottom:60%;\"><span style=\"color:#565656\">Make this Notebook Trusted to load map: File -> Trust Notebook</span><iframe srcdoc=\"&lt;!DOCTYPE html&gt;\n",
       "&lt;html&gt;\n",
       "&lt;head&gt;\n",
       "    \n",
       "    &lt;meta http-equiv=&quot;content-type&quot; content=&quot;text/html; charset=UTF-8&quot; /&gt;\n",
       "    \n",
       "        &lt;script&gt;\n",
       "            L_NO_TOUCH = false;\n",
       "            L_DISABLE_3D = false;\n",
       "        &lt;/script&gt;\n",
       "    \n",
       "    &lt;style&gt;html, body {width: 100%;height: 100%;margin: 0;padding: 0;}&lt;/style&gt;\n",
       "    &lt;style&gt;#map {position:absolute;top:0;bottom:0;right:0;left:0;}&lt;/style&gt;\n",
       "    &lt;script src=&quot;https://cdn.jsdelivr.net/npm/leaflet@1.9.3/dist/leaflet.js&quot;&gt;&lt;/script&gt;\n",
       "    &lt;script src=&quot;https://code.jquery.com/jquery-1.12.4.min.js&quot;&gt;&lt;/script&gt;\n",
       "    &lt;script src=&quot;https://cdn.jsdelivr.net/npm/bootstrap@5.2.2/dist/js/bootstrap.bundle.min.js&quot;&gt;&lt;/script&gt;\n",
       "    &lt;script src=&quot;https://cdnjs.cloudflare.com/ajax/libs/Leaflet.awesome-markers/2.0.2/leaflet.awesome-markers.js&quot;&gt;&lt;/script&gt;\n",
       "    &lt;link rel=&quot;stylesheet&quot; href=&quot;https://cdn.jsdelivr.net/npm/leaflet@1.9.3/dist/leaflet.css&quot;/&gt;\n",
       "    &lt;link rel=&quot;stylesheet&quot; href=&quot;https://cdn.jsdelivr.net/npm/bootstrap@5.2.2/dist/css/bootstrap.min.css&quot;/&gt;\n",
       "    &lt;link rel=&quot;stylesheet&quot; href=&quot;https://netdna.bootstrapcdn.com/bootstrap/3.0.0/css/bootstrap.min.css&quot;/&gt;\n",
       "    &lt;link rel=&quot;stylesheet&quot; href=&quot;https://cdn.jsdelivr.net/npm/@fortawesome/fontawesome-free@6.2.0/css/all.min.css&quot;/&gt;\n",
       "    &lt;link rel=&quot;stylesheet&quot; href=&quot;https://cdnjs.cloudflare.com/ajax/libs/Leaflet.awesome-markers/2.0.2/leaflet.awesome-markers.css&quot;/&gt;\n",
       "    &lt;link rel=&quot;stylesheet&quot; href=&quot;https://cdn.jsdelivr.net/gh/python-visualization/folium/folium/templates/leaflet.awesome.rotate.min.css&quot;/&gt;\n",
       "    \n",
       "            &lt;meta name=&quot;viewport&quot; content=&quot;width=device-width,\n",
       "                initial-scale=1.0, maximum-scale=1.0, user-scalable=no&quot; /&gt;\n",
       "            &lt;style&gt;\n",
       "                #map_ab3531dfb2a4b421ee56c7d5f162f888 {\n",
       "                    position: relative;\n",
       "                    width: 100.0%;\n",
       "                    height: 100.0%;\n",
       "                    left: 0.0%;\n",
       "                    top: 0.0%;\n",
       "                }\n",
       "                .leaflet-container { font-size: 1rem; }\n",
       "            &lt;/style&gt;\n",
       "        \n",
       "&lt;/head&gt;\n",
       "&lt;body&gt;\n",
       "    \n",
       "    \n",
       "            &lt;div class=&quot;folium-map&quot; id=&quot;map_ab3531dfb2a4b421ee56c7d5f162f888&quot; &gt;&lt;/div&gt;\n",
       "        \n",
       "&lt;/body&gt;\n",
       "&lt;script&gt;\n",
       "    \n",
       "    \n",
       "            var map_ab3531dfb2a4b421ee56c7d5f162f888 = L.map(\n",
       "                &quot;map_ab3531dfb2a4b421ee56c7d5f162f888&quot;,\n",
       "                {\n",
       "                    center: [36.789882248764656, 127.00274491353838],\n",
       "                    crs: L.CRS.EPSG3857,\n",
       "                    zoom: 11,\n",
       "                    zoomControl: true,\n",
       "                    preferCanvas: false,\n",
       "                }\n",
       "            );\n",
       "\n",
       "            \n",
       "\n",
       "        \n",
       "    \n",
       "            var tile_layer_fe02d5135fb6a1e732a17a1db6b261cd = L.tileLayer(\n",
       "                &quot;https://cartodb-basemaps-{s}.global.ssl.fastly.net/light_all/{z}/{x}/{y}.png&quot;,\n",
       "                {&quot;attribution&quot;: &quot;\\u0026copy; \\u003ca target=\\&quot;_blank\\&quot; href=\\&quot;http://www.openstreetmap.org/copyright\\&quot;\\u003eOpenStreetMap\\u003c/a\\u003e contributors \\u0026copy; \\u003ca target=\\&quot;_blank\\&quot; href=\\&quot;http://cartodb.com/attributions\\&quot;\\u003eCartoDB\\u003c/a\\u003e, CartoDB \\u003ca target=\\&quot;_blank\\&quot; href =\\&quot;http://cartodb.com/attributions\\&quot;\\u003eattributions\\u003c/a\\u003e&quot;, &quot;detectRetina&quot;: false, &quot;maxNativeZoom&quot;: 18, &quot;maxZoom&quot;: 18, &quot;minZoom&quot;: 0, &quot;noWrap&quot;: false, &quot;opacity&quot;: 1, &quot;subdomains&quot;: &quot;abc&quot;, &quot;tms&quot;: false}\n",
       "            ).addTo(map_ab3531dfb2a4b421ee56c7d5f162f888);\n",
       "        \n",
       "    \n",
       "            var tile_layer_fa4506e171f5cf201f55a10d8504479f = L.tileLayer(\n",
       "                &quot;https://cartodb-basemaps-{s}.global.ssl.fastly.net/light_all/{z}/{x}/{y}.png&quot;,\n",
       "                {&quot;attribution&quot;: &quot;\\u0026copy; \\u003ca target=\\&quot;_blank\\&quot; href=\\&quot;http://www.openstreetmap.org/copyright\\&quot;\\u003eOpenStreetMap\\u003c/a\\u003e contributors \\u0026copy; \\u003ca target=\\&quot;_blank\\&quot; href=\\&quot;http://cartodb.com/attributions\\&quot;\\u003eCartoDB\\u003c/a\\u003e, CartoDB \\u003ca target=\\&quot;_blank\\&quot; href =\\&quot;http://cartodb.com/attributions\\&quot;\\u003eattributions\\u003c/a\\u003e&quot;, &quot;detectRetina&quot;: false, &quot;maxNativeZoom&quot;: 18, &quot;maxZoom&quot;: 18, &quot;minZoom&quot;: 0, &quot;noWrap&quot;: false, &quot;opacity&quot;: 1, &quot;subdomains&quot;: &quot;abc&quot;, &quot;tms&quot;: false}\n",
       "            ).addTo(map_ab3531dfb2a4b421ee56c7d5f162f888);\n",
       "        \n",
       "    \n",
       "        function geo_json_422c9c2c7daf7bd7400666400dc0dcf7_styler(feature) {\n",
       "            switch(feature.id) {\n",
       "                default:\n",
       "                    return {&quot;color&quot;: &quot;black&quot;, &quot;fillColor&quot;: &quot;#0d0887&quot;, &quot;weight&quot;: 1};\n",
       "            }\n",
       "        }\n",
       "\n",
       "        function geo_json_422c9c2c7daf7bd7400666400dc0dcf7_onEachFeature(feature, layer) {\n",
       "            layer.on({\n",
       "            });\n",
       "        };\n",
       "        var geo_json_422c9c2c7daf7bd7400666400dc0dcf7 = L.geoJson(null, {\n",
       "                onEachFeature: geo_json_422c9c2c7daf7bd7400666400dc0dcf7_onEachFeature,\n",
       "            \n",
       "                style: geo_json_422c9c2c7daf7bd7400666400dc0dcf7_styler,\n",
       "        });\n",
       "\n",
       "        function geo_json_422c9c2c7daf7bd7400666400dc0dcf7_add (data) {\n",
       "            geo_json_422c9c2c7daf7bd7400666400dc0dcf7\n",
       "                .addData(data)\n",
       "                .addTo(map_ab3531dfb2a4b421ee56c7d5f162f888);\n",
       "        }\n",
       "            geo_json_422c9c2c7daf7bd7400666400dc0dcf7_add({&quot;features&quot;: [{&quot;geometry&quot;: {&quot;coordinates&quot;: [[[126.96830856186094, 36.84757202137991], [126.96846188177135, 36.8472465803676], [126.96848784799441, 36.84719146430672], [126.96847711966443, 36.84715838161063], [126.96839276343891, 36.84689831137867], [126.96829558881547, 36.846640154326785], [126.96823619963959, 36.846301442690795], [126.96806774480937, 36.845341354784765], [126.96821655943047, 36.844353414083166], [126.96867073608468, 36.843500136460406], [126.96869143032949, 36.84345850236362], [126.96871430723338, 36.843412480715855], [126.96886780644367, 36.84311720423548], [126.9687458549162, 36.8427017390187], [126.9687587404263, 36.84270648417052], [126.96875639106783, 36.84269929988599], [126.96836943203591, 36.84151574144919], [126.96840868696303, 36.84150273409068], [126.96863898785217, 36.84142642774132], [126.96886061527645, 36.841355797424875], [126.9689733920837, 36.84131983912673], [126.96900821918412, 36.84130873730135], [126.96907029288158, 36.84128894812089], [126.96930000486427, 36.84121571362199], [126.96951313980891, 36.840811397201996], [126.96955431988668, 36.84073327144486], [126.9697531021559, 36.840809296393054], [126.96978745598562, 36.8408309583577], [126.96978939233081, 36.84083217855071], [126.96978990047718, 36.84083216639368], [126.96981161595251, 36.84083167729306], [126.96984492555859, 36.840830929790904], [126.96999049533132, 36.840870534384806], [126.96999216620654, 36.84087186877742], [126.96999486621645, 36.84087261820567], [126.9700518395977, 36.840901756647824], [126.97007199433214, 36.84091306961914], [126.97010473345941, 36.84093145200855], [126.97018384570764, 36.84099482901342], [126.97018960961896, 36.84100243414438], [126.97019060542665, 36.841003266119024], [126.97019191348122, 36.84100435730166], [126.97022637927905, 36.84105095391756], [126.9703103851414, 36.84116180890534], [126.97034730686174, 36.841212207952594], [126.97035872021577, 36.84121231288802], [126.97039485110172, 36.841212645125545], [126.97042327410037, 36.841264293568194], [126.97050188209586, 36.84140122333266], [126.97049787524035, 36.84140278123187], [126.97049448243013, 36.841406373748114], [126.97051713474715, 36.84145742854724], [126.97052161351255, 36.84145834995072], [126.97053227263828, 36.84145626097197], [126.97069547368591, 36.84175723029199], [126.97072972746372, 36.841801159307174], [126.97093273130452, 36.84202086253253], [126.97098367435933, 36.84207829383463], [126.97106832817101, 36.842178929548275], [126.9712854327515, 36.842064242973144], [126.97134287964438, 36.84203196128762], [126.9716886463116, 36.841798068659415], [126.97190160102294, 36.84171768184155], [126.97254523704603, 36.841474713904276], [126.97300177021624, 36.84152769244622], [126.97312066516089, 36.84119639517414], [126.97328320666936, 36.840881913999695], [126.97342314826074, 36.840748431469756], [126.97351184842215, 36.840663820582044], [126.97563158696194, 36.8410986945144], [126.97651927807485, 36.84127976980289], [126.97678920634112, 36.84136065582813], [126.97690082229653, 36.84136319150109], [126.97703529012861, 36.84132865153114], [126.97715800690622, 36.84129713189277], [126.97787598250683, 36.841756052877756], [126.97789639792921, 36.84177129241478], [126.97804855136702, 36.841884873356626], [126.97833508934086, 36.84178230849647], [126.97895458053713, 36.84156056255611], [126.97933553868928, 36.84118360182984], [126.97937169909326, 36.841147819117815], [126.97939104907675, 36.84109771796404], [126.97942835505317, 36.841001129791266], [126.97945391412225, 36.840934941375444], [126.97946212663925, 36.840913684928914], [126.9796390576164, 36.84041534637234], [126.97969247729856, 36.839191473965364], [126.97998806229872, 36.838953792795074], [126.980020210808, 36.83892794440436], [126.98002704027188, 36.838832279210465], [126.98008056923291, 36.83808240732797], [126.98195025167074, 36.837420898151095], [126.98221351811367, 36.83712581353833], [126.98243217394393, 36.83718593367604], [126.98288312335241, 36.83730994606977], [126.98328411852144, 36.837420217795454], [126.98348934193832, 36.83746710551679], [126.983692461724, 36.837432228782504], [126.98391234219703, 36.83729786210116], [126.9844540586789, 36.837955779210624], [126.98408804168648, 36.83850680456161], [126.98410827479442, 36.838561601796414], [126.98420674464981, 36.83863867814645], [126.98428509786552, 36.83868052835406], [126.98445911281088, 36.838734178776825], [126.98450395273323, 36.83894066266173], [126.98455803489084, 36.83894383229408], [126.98486510553177, 36.83946912794081], [126.98488581178141, 36.839529584631784], [126.98546921400668, 36.83969296336525], [126.98572094510446, 36.839852869468245], [126.9858365178348, 36.83991192439991], [126.98629187231317, 36.84013495175857], [126.98664238262289, 36.840538075710384], [126.98701390976575, 36.84129117176678], [126.98718160095885, 36.84138216712489], [126.98730806307626, 36.8417370716395], [126.987446418104, 36.841993701782265], [126.98816958276886, 36.84216287658081], [126.98836632062822, 36.84194237251909], [126.98823339109347, 36.84181095029945], [126.9882994966871, 36.84138027355983], [126.98830692880131, 36.84133186125451], [126.98884301857713, 36.84053422171362], [126.99025187120236, 36.839807968493986], [126.9907012026484, 36.83957759050641], [126.99074235179029, 36.839566583299074], [126.99105013123639, 36.839484258673416], [126.99175907101257, 36.8392645540125], [126.9917829828157, 36.83925714348707], [126.99233827305748, 36.83921539500605], [126.99294335213338, 36.83912534886568], [126.99372512164025, 36.839082780145375], [126.99424058845418, 36.83903732487258], [126.99481644551905, 36.838994754444315], [126.99507496707248, 36.839013872823685], [126.99574147145384, 36.83915466792896], [126.99621093377351, 36.83916408803132], [126.99668175442136, 36.83921680362878], [126.99669945437009, 36.83884796605725], [126.99701569473362, 36.83853626062127], [126.99722133567619, 36.83810151543715], [126.99726418570783, 36.83803856575206], [126.9977101451889, 36.83762668698503], [126.99787428825866, 36.8374697748692], [126.99822387659955, 36.83720450042208], [126.99878013990876, 36.836683759616925], [126.99910211836671, 36.8367177385464], [126.99951934505819, 36.83676176500386], [127.00058979784303, 36.83712602926081], [127.00086972732264, 36.83697774125881], [127.0013023834082, 36.836748543810245], [127.00164938046224, 36.83664388096999], [127.00179229611209, 36.836669886637175], [127.0020875091639, 36.83672360083966], [127.00225677848448, 36.836682370179396], [127.00258094669196, 36.83660340877024], [127.0028267670359, 36.836378715459105], [127.00289399201223, 36.83615555751174], [127.00327591303068, 36.835858868442], [127.00350937057378, 36.83567750741316], [127.00356216110468, 36.8356364969516], [127.00363159231276, 36.835561599807164], [127.00395401728369, 36.83521378178789], [127.00462110937357, 36.83454526684937], [127.00482672228442, 36.834442293376746], [127.00507986117614, 36.83397650720475], [127.00509604477828, 36.83394727355833], [127.00511174840881, 36.833918906917845], [127.00477863056817, 36.83339242196854], [127.00455190462297, 36.8330573787385], [127.00450013785849, 36.83298087795965], [127.00428156555645, 36.83268588033161], [127.00429383289968, 36.832461154514206], [127.00448045479041, 36.83217632141481], [127.00451670958255, 36.83137502498443], [127.00474346701279, 36.83106055281634], [127.00493775311791, 36.830885355651986], [127.00498903809195, 36.83083910977869], [127.00498739993978, 36.830799912923325], [127.0049754278891, 36.83051358668837], [127.00497982332745, 36.83034499966362], [127.00513398913735, 36.83010311282185], [127.00551572835889, 36.83007569388666], [127.00567031686352, 36.83006459068692], [127.0060942511212, 36.82990797328134], [127.00638721790777, 36.8298656331943], [127.00662486862232, 36.82983128597281], [127.00682622873278, 36.82979762611025], [127.00683764328055, 36.82979571909157], [127.00683925471938, 36.82979449618483], [127.00727605615596, 36.829462877113194], [127.00740113262502, 36.82936276725431], [127.00791645318287, 36.828994127204396], [127.00797165303109, 36.82905718016216], [127.00803472801879, 36.82912922979233], [127.00803998363243, 36.82913523182061], [127.00805465726336, 36.82915199116968], [127.00815036860237, 36.82923621205341], [127.00821125208749, 36.82928978882961], [127.00826474906911, 36.829338463538946], [127.00832302119713, 36.82939148497609], [127.00842016651342, 36.829479872708], [127.00843043836512, 36.829519844422144], [127.00842520633968, 36.82953976848347], [127.00840981523021, 36.82960340197592], [127.00840774877943, 36.82961194828244], [127.0084004688417, 36.82967888219759], [127.00839274115877, 36.82974936781334], [127.00839468392546, 36.82980414491576], [127.00841050415875, 36.82984836921773], [127.00843335380485, 36.82990758860879], [127.00845486999883, 36.82994877689985], [127.00859345782423, 36.83013018792872], [127.00861624894085, 36.83016247323706], [127.00862173336617, 36.83017023943918], [127.00864700366108, 36.830223782385005], [127.00869319619339, 36.83032568493046], [127.00869311674542, 36.830360556656295], [127.00869266745391, 36.83055497974915], [127.00872366962867, 36.83062234409731], [127.0088587061623, 36.830729629356156], [127.00886895644767, 36.83073777401381], [127.00902196202243, 36.83079832773989], [127.009172918937, 36.830887508568345], [127.00927178808256, 36.831107110106515], [127.0092745121368, 36.83111674352583], [127.00932208043888, 36.83128491235536], [127.00936337145546, 36.83143092443425], [127.00940009836525, 36.83154744715864], [127.00940243735072, 36.831554868607526], [127.00941679155224, 36.83160930205217], [127.00943189777627, 36.83167100976735], [127.00945449133275, 36.83172118986202], [127.00947058051332, 36.83176788331688], [127.00948769982807, 36.83176968474623], [127.00948281110533, 36.831755879463664], [127.00950782795438, 36.83174249684076], [127.00952169840416, 36.83176644813789], [127.00952418386454, 36.831765508253056], [127.00965897799848, 36.831714643199206], [127.00978223588054, 36.83166747508891], [127.00984374110186, 36.83164393915431], [127.01030373628817, 36.831574357912174], [127.01033622133258, 36.83156928307152], [127.01034719441996, 36.83156769662132], [127.01038198794602, 36.83156235001983], [127.01086925140345, 36.83127491503119], [127.01095958345364, 36.83122153620101], [127.01169265400752, 36.830906243859765], [127.01210039962469, 36.83094835181682], [127.01267563295649, 36.83063768993868], [127.01285318812403, 36.83063876370896], [127.01287875058424, 36.83063893154263], [127.01339630823409, 36.830360143429544], [127.0134312243897, 36.83034133403714], [127.01367713963144, 36.83020542286089], [127.01395658155258, 36.83012871005832], [127.01450513378867, 36.83015429721436], [127.01453135329264, 36.83015552027993], [127.0146640192214, 36.830161705025446], [127.01466477145443, 36.830161740548554], [127.01471905662751, 36.830164311328396], [127.01492359151298, 36.830126848345756], [127.01515568834981, 36.830084333844866], [127.01563753564776, 36.82999605982935], [127.01611845371511, 36.83017054475779], [127.01646338778798, 36.83025160101539], [127.01678221046483, 36.83036266612096], [127.01695445737674, 36.83037999074969], [127.01786375842381, 36.83066876269223], [127.01800414163495, 36.83063262623497], [127.01825408677699, 36.83045648075039], [127.01845473185057, 36.83037498306131], [127.01906546465516, 36.830144916240315], [127.01968725189407, 36.83007826609012], [127.01969384806117, 36.830076812539346], [127.01991416599697, 36.830028257266285], [127.02005985934332, 36.830137321721935], [127.02018251305941, 36.83034349923761], [127.02027347614735, 36.83049640410169], [127.02032996609668, 36.830565130335074], [127.0203524712374, 36.83055062829459], [127.02050607634739, 36.83081875423669], [127.02056053310166, 36.830913801994484], [127.02073845362692, 36.83100474821086], [127.02076960780525, 36.83102070161539], [127.02111342123776, 36.831071018133976], [127.02138528103876, 36.8311702745541], [127.02148225337272, 36.83120567035564], [127.02165474840885, 36.83112400169003], [127.02189753943959, 36.83100905231247], [127.02240351353596, 36.830769541474176], [127.02250183709978, 36.830741969496664], [127.02319651959074, 36.83054706178182], [127.02374113350233, 36.830426573874256], [127.0240450295938, 36.830404358223504], [127.02449243173533, 36.83019686720988], [127.02508969344751, 36.83007502952752], [127.0255092094149, 36.83000594703563], [127.02646907051167, 36.829636127490716], [127.02678925562992, 36.829194177701524], [127.02697696703825, 36.828782017969374], [127.02709936099411, 36.828462419707826], [127.02718104569453, 36.828249116486134], [127.02743802136344, 36.82789715323938], [127.0277118570293, 36.82814826671777], [127.02787744635422, 36.82842837345937], [127.0281466884279, 36.828701645411755], [127.02831971711204, 36.82900026638803], [127.02880829586962, 36.82956166787337], [127.02909417970123, 36.82986864429245], [127.02940239178845, 36.830316220789996], [127.02940591305469, 36.83032188507924], [127.02982162792134, 36.83099064086414], [127.03022826238093, 36.83148436424729], [127.03058690109525, 36.83179556383748], [127.03075630709296, 36.831955376286544], [127.03107308770494, 36.832369750752235], [127.03159846562954, 36.83270171093592], [127.03172578267231, 36.833005566306426], [127.03233256240947, 36.83343973040249], [127.0323419919438, 36.83344647795944], [127.03253884800256, 36.8334030318979], [127.03272811942375, 36.83336125946007], [127.03273270489694, 36.83331407704569], [127.03275621655071, 36.833072062575376], [127.03282269143071, 36.83238781103184], [127.03370918879976, 36.83206429543192], [127.03389411524459, 36.83203694186013], [127.03444033194857, 36.831765155244874], [127.03455371346726, 36.831234969057256], [127.0352471342833, 36.83108865215797], [127.03592660026474, 36.83046605688047], [127.0364380996759, 36.8300878685046], [127.03671311598777, 36.82988452344164], [127.03677163550701, 36.82984125597874], [127.03678537250666, 36.82982192268778], [127.03782489425916, 36.8283589435577], [127.03895905502519, 36.82759796858371], [127.0390900931059, 36.82751004509809], [127.03918258098821, 36.82726222236849], [127.03923736600316, 36.82707969231401], [127.03938378986108, 36.82659184624421], [127.03985176249263, 36.82582104649546], [127.04012985099284, 36.8253670773316], [127.04024400928677, 36.82518071617703], [127.04025642814645, 36.82516044345404], [127.0402981863149, 36.82515388000272], [127.04031330701709, 36.82515150451489], [127.04199725322209, 36.82488686478734], [127.04249109194329, 36.82399862679658], [127.04251133072783, 36.823962224319445], [127.04279312118638, 36.82345537240101], [127.04282204853895, 36.8234033412796], [127.04292689950306, 36.82273131521679], [127.04294328382069, 36.82262874136233], [127.04298183824869, 36.822387373507], [127.04288227756345, 36.82201666306416], [127.04286073498521, 36.821936449298775], [127.04277184440569, 36.821605499975576], [127.04271543147829, 36.821395460560645], [127.04278718274325, 36.82122185526935], [127.04295937330853, 36.82080518897936], [127.04295457155943, 36.82077548177133], [127.04295851133503, 36.819910790988224], [127.04315044800438, 36.81916297050864], [127.04316729719193, 36.81898670920642], [127.04325483166721, 36.81841956225885], [127.04326761241519, 36.8183367435118], [127.04326202424673, 36.81784876761175], [127.0432580827134, 36.8175044694987], [127.04342000802374, 36.81732444904671], [127.04370816604293, 36.817004089915294], [127.04369516272304, 36.816704449709384], [127.04367991865394, 36.81635317231314], [127.04367290816849, 36.81619162311259], [127.04367248809612, 36.81618192716968], [127.04366638176165, 36.816173291161434], [127.04351618079707, 36.81596090697488], [127.04347785849585, 36.81591181764053], [127.04324746276929, 36.81561669725042], [127.04329031960656, 36.81540711307594], [127.04333717743215, 36.8149754237715], [127.04338763413789, 36.814934963346566], [127.04375609627326, 36.81444908453022], [127.04389489903726, 36.81406587676575], [127.04391408133026, 36.81397643504802], [127.04426988207946, 36.81334644313727], [127.04440012641189, 36.81311582324218], [127.04455070121827, 36.813148957272674], [127.04457814048672, 36.81311995951845], [127.04458509977992, 36.813098897337774], [127.04462631402009, 36.81306677556743], [127.04472576010964, 36.81300142883852], [127.0444493069861, 36.812642754223816], [127.04442520583133, 36.81252808770513], [127.04448937021056, 36.81231646796476], [127.0445698827665, 36.812101984640634], [127.04477164784367, 36.81153600887331], [127.04480143998184, 36.81143765424732], [127.04481715131173, 36.811385786478205], [127.04487085144824, 36.81116088753766], [127.04489073406086, 36.811005655872776], [127.04491949275939, 36.81073217892356], [127.04491221850051, 36.81057693707112], [127.04491148492565, 36.81056127764255], [127.04488907519989, 36.810390021955804], [127.0448642394254, 36.810186390821144], [127.04485671985502, 36.81012905599184], [127.04486139737541, 36.80979680876824], [127.04488092296175, 36.809507124173614], [127.04489956643533, 36.80944297523554], [127.04490165177384, 36.80944220074514], [127.04491978201135, 36.80937857629393], [127.04500675367511, 36.809258949471094], [127.0450447063131, 36.8092081259001], [127.04504562348957, 36.80920696832336], [127.04514385657747, 36.809124030787814], [127.04523886267847, 36.80908227412519], [127.04541666627183, 36.809005525365635], [127.04561597980221, 36.808919486905566], [127.0456172114929, 36.80891822415324], [127.04568978506411, 36.80884329047611], [127.04576885671547, 36.80876164583393], [127.04594088280246, 36.808584153640645], [127.04604560003965, 36.8084760730296], [127.04608938894307, 36.80842982919531], [127.0464586330661, 36.80803671939657], [127.04645402004773, 36.808006082673415], [127.04645472101883, 36.80800204047715], [127.04643964962573, 36.807882051307885], [127.0464709756552, 36.807848428972235], [127.0464990715671, 36.80781827576526], [127.04546428841037, 36.80701973511356], [127.04513133869905, 36.80684958361003], [127.04492373924265, 36.806762000034226], [127.0445688453589, 36.80642804444832], [127.04433695187814, 36.80622303582175], [127.04422382092937, 36.80612302115579], [127.04419787793611, 36.80610008583497], [127.04416934431158, 36.80607486528301], [127.04416180627301, 36.80596178915544], [127.04415578330149, 36.805871509654786], [127.04417274009683, 36.80536768669268], [127.04400028502597, 36.805192303744505], [127.04377605441721, 36.80496425850804], [127.0437400177357, 36.80492760554138], [127.04373688982587, 36.80492443300689], [127.04371638199584, 36.80490359900965], [127.04361033745711, 36.80479585653608], [127.04354535436858, 36.80468997173118], [127.04343463665516, 36.80451767531608], [127.04336999236466, 36.804416737147086], [127.04330273263491, 36.804310935413085], [127.0432228444652, 36.8041836735511], [127.04312311396497, 36.804024807586494], [127.04310921375158, 36.80400266289541], [127.04310903049102, 36.804002375525634], [127.0431204037827, 36.803975860266966], [127.0431291204581, 36.80395553868126], [127.04312038542214, 36.80384931259167], [127.04311454532328, 36.80377829620976], [127.04312308063878, 36.803703583155446], [127.0431588347401, 36.803390596742105], [127.04316297146842, 36.80335432687452], [127.04316319377885, 36.803352380564675], [127.04318684019533, 36.80314535987043], [127.04318919130924, 36.80312491466581], [127.04318746168546, 36.803115841089905], [127.04318897590262, 36.803074929420696], [127.04324358217762, 36.80308116453934], [127.0432705185168, 36.803014382905644], [127.04328723281922, 36.80298736168142], [127.04341884320088, 36.80249711316941], [127.04346741256029, 36.802423269520304], [127.04347773939881, 36.802414352205496], [127.04358423138557, 36.80232238601918], [127.04366143396675, 36.802255719652294], [127.04366367286788, 36.802253782881586], [127.04366405136382, 36.80224062474921], [127.04353067222267, 36.80221649092096], [127.04320425948501, 36.80221523768237], [127.04306986409043, 36.8021652039541], [127.04300426872118, 36.8021407854524], [127.0430404354089, 36.801836981096315], [127.04307566939285, 36.80168975038415], [127.04321122632709, 36.80161088448641], [127.04322507683364, 36.801602826299614], [127.04332837198291, 36.80156638189921], [127.04341566278202, 36.80133185114907], [127.04353123126933, 36.80115729695534], [127.04365126817586, 36.801194600474815], [127.04388504367961, 36.80119830260164], [127.0438940689738, 36.80117726636912], [127.04389080054803, 36.80110424237535], [127.04386735938252, 36.800548209920755], [127.04385717256211, 36.80030655113937], [127.04385715356302, 36.800306163436474], [127.04384944120756, 36.80012321394502], [127.04413819806518, 36.799962490020434], [127.04441147241559, 36.799611148934886], [127.04447823375638, 36.79959266138162], [127.04452131086113, 36.799580732299674], [127.04485661112106, 36.79952259851696], [127.04486472458184, 36.79952127015556], [127.04489850357993, 36.799515734605706], [127.04503646948079, 36.79949312904122], [127.04520059787845, 36.799466233225836], [127.04518340555077, 36.798983427346144], [127.04524389679933, 36.79862970364079], [127.0453085382691, 36.79825171026599], [127.0450885231441, 36.79778288210833], [127.0450902687481, 36.79734364603675], [127.04516844222634, 36.79720174960791], [127.04517774365584, 36.797184867369936], [127.04518458177371, 36.79717245599624], [127.04542790866472, 36.79673078816366], [127.04543751249976, 36.79671335806677], [127.04548485681501, 36.79627845733111], [127.04548736711192, 36.79625540111674], [127.04548859733927, 36.79624410684466], [127.04549238421059, 36.79620931030938], [127.04550542913822, 36.79621180132722], [127.04550629014544, 36.796211965078236], [127.04550732269946, 36.796204721238176], [127.04551484039357, 36.796152010604565], [127.0455175185789, 36.796136203717765], [127.04552783810607, 36.7960754032162], [127.04552867556075, 36.7960706358586], [127.04556065093811, 36.795889141497895], [127.045576708639, 36.79589184775019], [127.04558959513707, 36.79589401542867], [127.0455931694934, 36.795894616840215], [127.04559484036386, 36.79588045037639], [127.04559228736066, 36.79588000251027], [127.04556334216043, 36.795874919436244], [127.04558265659404, 36.79579309324635], [127.0455723854235, 36.79579980057547], [127.04560726726936, 36.795509910605105], [127.04560987780968, 36.7955082059899], [127.0456112482868, 36.795495554643075], [127.04569647465716, 36.79544499785625], [127.04577412834868, 36.79539725891801], [127.04588869680867, 36.79532682673895], [127.04605946676642, 36.79521663975418], [127.04624079139549, 36.795125306384044], [127.04628478997103, 36.794935184656055], [127.0463177280594, 36.794792859721504], [127.0466942299315, 36.794701615495605], [127.04681364434374, 36.79462242600862], [127.04735445402876, 36.79426377626593], [127.04770689418493, 36.79416500645671], [127.04795532120991, 36.79409538499447], [127.04796564912172, 36.79409249087435], [127.04800469510992, 36.79408154942207], [127.04831905658742, 36.79399345518423], [127.04841742703248, 36.79395173202883], [127.04835515036301, 36.79389005703407], [127.04833225905698, 36.79386768225616], [127.0482796224838, 36.793816232200456], [127.0481803075651, 36.793670475503184], [127.04816207465709, 36.79364371742872], [127.04810631945107, 36.79356184538171], [127.04798615830728, 36.79342695492125], [127.0479823600955, 36.79342269097449], [127.04786619925547, 36.793292459948134], [127.04774855162137, 36.793160479717486], [127.04771710280359, 36.79312573661512], [127.04769155276375, 36.793098865905456], [127.04765806428372, 36.79306255549408], [127.04761762564587, 36.79301629078971], [127.04758487507505, 36.792979736162124], [127.04757118823696, 36.792969263149914], [127.04743585777776, 36.79287179018835], [127.04715258124769, 36.792667759471826], [127.0471090235229, 36.792637535131426], [127.04683536656047, 36.79248814751777], [127.04634456308922, 36.792292044824904], [127.04624449203206, 36.79226176867866], [127.0460715995597, 36.79221518288166], [127.0460225521712, 36.79220346052649], [127.04573850616302, 36.79215871804222], [127.0456313851055, 36.79213969180168], [127.04557613088362, 36.79212602362578], [127.0454660949767, 36.7921038976762], [127.04528661030824, 36.79206910918244], [127.04519265727436, 36.792057267092304], [127.04512369124036, 36.7920471269009], [127.04505652394023, 36.792029633976924], [127.04502020922135, 36.79202062824932], [127.04495641359863, 36.792004817681914], [127.04476978606701, 36.79195756084501], [127.04457629798812, 36.791881919114644], [127.04449313472921, 36.79184940208454], [127.04449230265783, 36.79184909239945], [127.04449226234081, 36.79184965476016], [127.0444626639172, 36.79183874364156], [127.04446270637997, 36.79183819751549], [127.0444127984867, 36.79182272110102], [127.04425493550832, 36.79180522466476], [127.04395773198945, 36.79181007127738], [127.0436301779451, 36.79183804050746], [127.04337177050772, 36.79189774089582], [127.04329493115411, 36.79193439699515], [127.04328546984647, 36.791938788669945], [127.04328340550404, 36.791939691224535], [127.0432620824707, 36.79194991310927], [127.04323578255098, 36.791962458789584], [127.04323425428674, 36.79196311910454], [127.04312651172908, 36.79201455585439], [127.04288369845302, 36.79220032385088], [127.0428208258678, 36.792271234949794], [127.04270034519936, 36.79240717268006], [127.04257048195635, 36.79262107808192], [127.04255325261254, 36.79264797287531], [127.04252993563223, 36.79275012930908], [127.04250498703155, 36.79285956871694], [127.04246655554677, 36.793003129037096], [127.04239433833584, 36.793160180518086], [127.04238555240643, 36.79317894408977], [127.04226210189451, 36.79344951651855], [127.04205645216673, 36.79366427629762], [127.0418794194728, 36.7938029630345], [127.0415570625548, 36.793954530323525], [127.04132520123606, 36.79406062242], [127.04119054638144, 36.7941222771897], [127.04101199122469, 36.79421980842629], [127.04100686915315, 36.79422257238758], [127.04074310502573, 36.794364903558524], [127.04064583863038, 36.79442518399472], [127.04055692723112, 36.79447887445493], [127.04049117849165, 36.79451870685349], [127.04043293258307, 36.79455464322216], [127.04033157408149, 36.79459285592707], [127.04019099907097, 36.79464478870438], [127.04002995787424, 36.79471037870701], [127.03946032722197, 36.794846493589986], [127.03900759480676, 36.794896413577156], [127.03845443638602, 36.79487492470531], [127.03765022190456, 36.79473609460889], [127.03729334183184, 36.79463943268791], [127.03703923190967, 36.79457698193772], [127.03685240667636, 36.794531069531445], [127.03680077806571, 36.79451838137872], [127.03659915716214, 36.794466948071914], [127.03653401549235, 36.7944503272465], [127.03649585000703, 36.794440588732094], [127.03616562000263, 36.79440554150529], [127.03570735984896, 36.79436929773037], [127.03549519931568, 36.79437913550987], [127.03547075214074, 36.79437630859215], [127.034996446334, 36.794321472487], [127.03494376838455, 36.7943153817621], [127.03493655898725, 36.7943153697999], [127.0349342107563, 36.79431518393099], [127.03481460741135, 36.794305788101546], [127.03466673564039, 36.79429416672273], [127.03455835598228, 36.79428564749974], [127.03441261865433, 36.79427843511352], [127.03410991047838, 36.79442544536445], [127.03404540727952, 36.794463030813034], [127.03377428706814, 36.794621012180926], [127.03373072933893, 36.79467433260682], [127.03368806749569, 36.79472925753147], [127.03368669379442, 36.79473102442738], [127.0336364985141, 36.794731020538244], [127.0334791667708, 36.79473145104678], [127.03294836166506, 36.794874083782474], [127.03279454244827, 36.79491438638092], [127.03261315081593, 36.79496108360806], [127.03235861495175, 36.795028724315536], [127.03232009808116, 36.795039583372734], [127.03230329375141, 36.79504327280194], [127.0320553668508, 36.795167915074074], [127.03162431785599, 36.79538376910521], [127.03147362376991, 36.795513592406515], [127.03123772046372, 36.79567919422858], [127.0311144868701, 36.79577705835982], [127.03108304015028, 36.795789374609186], [127.03058948466779, 36.79609028587142], [127.03055916418657, 36.79611602023024], [127.03040311243493, 36.79619495852606], [127.03029440349219, 36.79624845673061], [127.03020378531501, 36.796260183878545], [127.03011709009365, 36.7962708392883], [127.0300864387269, 36.79628647941233], [127.03009971579566, 36.79631272664636], [127.03014437112635, 36.7963573831612], [127.03013264483278, 36.79640169433864], [127.03005665993908, 36.796477081162756], [127.02987478890867, 36.79654082260431], [127.02966798303548, 36.79665973760623], [127.0294141464702, 36.796760144795854], [127.0291400437641, 36.79687437000138], [127.02890742496417, 36.79697363590787], [127.02889319921218, 36.796953723889914], [127.02870637953941, 36.796818946711866], [127.02865007397031, 36.79677832532781], [127.02830471117834, 36.796741593491156], [127.02792529736026, 36.796737434268984], [127.02704479945939, 36.79695921780625], [127.02644647120934, 36.79720582352], [127.02592519661076, 36.79767163248521], [127.02556775666308, 36.7979325857996], [127.02556477622188, 36.79793456795114], [127.02534799595219, 36.79807874331731], [127.02508322963845, 36.7981278439031], [127.02497950975496, 36.79814239762592], [127.02440014289587, 36.79822369315472], [127.02381971636692, 36.79828439396112], [127.02257091183502, 36.798329262082426], [127.021711267079, 36.79826057645402], [127.02122259977797, 36.798253962389026], [127.02068208712423, 36.79825168257489], [127.020232501752, 36.798289743472345], [127.01965410911406, 36.798387287619214], [127.0194792284555, 36.79841678026991], [127.01906088761837, 36.798438523852525], [127.01847406617455, 36.79843796414863], [127.0183974126444, 36.79843789087035], [127.01817720331128, 36.798442463665175], [127.01800939280817, 36.79847178086559], [127.01760052111904, 36.79854854881985], [127.01691581789055, 36.79858417933192], [127.01625921262105, 36.798592174911036], [127.01568788941513, 36.79855189278055], [127.01483828686948, 36.79842539467763], [127.01414426974726, 36.79816375301661], [127.01363328692703, 36.79804674407479], [127.01306580093456, 36.79792033914283], [127.01259771682768, 36.79791267953698], [127.01208454287749, 36.79794170842809], [127.01201582333103, 36.79794559487172], [127.01126660517288, 36.79788129290915], [127.01099829299258, 36.79776941451996], [127.01094393438682, 36.797746748159526], [127.01073437665282, 36.79768627516521], [127.01042007088608, 36.79759557367311], [127.0103760225668, 36.7975942547019], [127.00949659984506, 36.79756790346002], [127.00943451826677, 36.797566042810445], [127.00915941739001, 36.797552669542284], [127.00858497891534, 36.79751336272449], [127.00845950426255, 36.797471775323366], [127.00837359139925, 36.797444581839954], [127.00784371956155, 36.79727686537368], [127.00753970497445, 36.79718432832499], [127.00689948856586, 36.79699141274287], [127.00639745202751, 36.79683206625782], [127.00622613189883, 36.7968219618863], [127.0059734767944, 36.79680166104676], [127.00564138526627, 36.79679966279341], [127.00505539096888, 36.796796248523115], [127.00504735987536, 36.79679621329972], [127.00444579235229, 36.79679357138295], [127.00419165913611, 36.796814347539055], [127.00382103086169, 36.79684447940929], [127.00347719661609, 36.79687199775652], [127.00319207139268, 36.796893899031794], [127.00271006825065, 36.79692789460641], [127.00213474332233, 36.79695857147306], [127.00186654643224, 36.796974606088774], [127.00152322590796, 36.79699513188232], [127.00116627824808, 36.79698247162753], [127.00079512302159, 36.79695601235817], [127.00078002043854, 36.79695592192508], [127.00077309548497, 36.79695988814762], [127.00057728013128, 36.797071226239154], [127.0003941054864, 36.797175378346715], [127.0002242073311, 36.79727198120659], [127.00000384041577, 36.79739878165512], [126.99995168270128, 36.79742865234718], [126.99980768883617, 36.797541487996654], [126.99962283660699, 36.79777051885659], [126.9991301437716, 36.79839744686128], [126.99883484078241, 36.7986802793818], [126.99865257549074, 36.798824542317426], [126.99851270856485, 36.79899141396604], [126.99842699115416, 36.79900432566304], [126.99839726257923, 36.79901035367987], [126.99833841537205, 36.79901894703742], [126.998188177674, 36.7990450759055], [126.9981201279238, 36.79907387359546], [126.99792488715863, 36.7991627433972], [126.9978349874851, 36.79920531860296], [126.99760160440624, 36.79931346237604], [126.99757920655841, 36.7993253373964], [126.99747795431855, 36.79937534471737], [126.99740898603464, 36.79941013465182], [126.99731951092868, 36.79944322966438], [126.997248639361, 36.79946014986141], [126.99708591876961, 36.79948129175516], [126.99695527811157, 36.79949649865899], [126.99664550100366, 36.799534621652484], [126.99637921115048, 36.79957184262691], [126.995966939967, 36.79962167431962], [126.99580994468924, 36.79961987304369], [126.99545971918789, 36.79961716185916], [126.99519256797906, 36.799615040259084], [126.9949991165266, 36.79957236226489], [126.994691029526, 36.79948611783342], [126.99450288953616, 36.799336351511435], [126.99445474427063, 36.799297899582406], [126.99442217362383, 36.79927204418299], [126.99433814190324, 36.79921492719849], [126.9941573268017, 36.79910515334715], [126.99411998062169, 36.79908244169085], [126.99397076229012, 36.79899121343563], [126.99396346863298, 36.798975661004576], [126.99389643154458, 36.79884452652839], [126.99384701741631, 36.79874653810313], [126.99380814272986, 36.798674059055216], [126.99379147450863, 36.798632481125786], [126.99373265363236, 36.79846672745752], [126.99315114244978, 36.79856827064146], [126.99308910046753, 36.798579056372425], [126.99302360425585, 36.79859044484954], [126.99284454743149, 36.79862406238636], [126.99260920630185, 36.7986686780986], [126.9924607923039, 36.7986951410502], [126.99231881231954, 36.79871957594329], [126.99230866127498, 36.798721928702875], [126.99224956413667, 36.79873061894348], [126.99182411506628, 36.798804854762395], [126.99181476027277, 36.79880612732272], [126.99181399729885, 36.798806917350554], [126.99181230724759, 36.79880720761229], [126.99115339499649, 36.798920717039735], [126.99075367011251, 36.79898841709134], [126.99074725833675, 36.798966743698884], [126.99073916691898, 36.798939385697615], [126.99072193556809, 36.798845967182146], [126.99071770689538, 36.79879254097349], [126.99071757321472, 36.79879173809863], [126.99071832437215, 36.7987907028292], [126.99069918989767, 36.79868202159493], [126.99066454642227, 36.79858075789018], [126.99065410696056, 36.798554886255594], [126.99057790085996, 36.798567142504375], [126.99055782659676, 36.79852525205542], [126.99052042677162, 36.79844720901702], [126.99046400049511, 36.798431074493315], [126.9903609524901, 36.798403760354226], [126.9901244513991, 36.798326982320496], [126.98982719871965, 36.79824443890557], [126.98962739768967, 36.79822344120401], [126.98942516776017, 36.79818369131493], [126.98926747354487, 36.798153920424234], [126.98924311595378, 36.79814815103009], [126.9892416482709, 36.79800218156518], [126.98923548863971, 36.79792235215668], [126.98923977857687, 36.797863411260785], [126.98920950632272, 36.797703127248816], [126.98916806050477, 36.797489219454], [126.98911539578118, 36.79721605171429], [126.9889793717376, 36.797278629307286], [126.98888470720061, 36.79731790676912], [126.98863875937073, 36.79741986704597], [126.98850467802862, 36.79744539147506], [126.98821261787256, 36.797493288300586], [126.98758888615158, 36.797598053591514], [126.98734239772968, 36.7976394557415], [126.9868288770328, 36.79772308755749], [126.98629948649142, 36.79782800968535], [126.98597281035126, 36.797887502959256], [126.98569225348355, 36.797939559377205], [126.9855700172164, 36.797953537087544], [126.98519619233585, 36.79799549635642], [126.9848440297273, 36.79813224519314], [126.98461556484928, 36.79822016853802], [126.98413687630249, 36.79839968223677], [126.98398777031113, 36.798459105327225], [126.98390646407951, 36.79851731520221], [126.9833396409421, 36.798898882970626], [126.98322027840865, 36.79897702786903], [126.98289749191598, 36.799235873690826], [126.98284534772498, 36.799280570477634], [126.98257159252054, 36.79951522958438], [126.98222266943903, 36.799772816770144], [126.98204781684241, 36.79994124198685], [126.9820364188307, 36.79999519718774], [126.98199250496795, 36.80048045449658], [126.9818670814313, 36.80085272612023], [126.98119711766087, 36.80119730318161], [126.98080508953625, 36.801361589585575], [126.98077893971991, 36.80137781894448], [126.98062894785983, 36.801470907132256], [126.98014680596556, 36.801787462280295], [126.97991667217127, 36.80194108581096], [126.97970145189748, 36.80208696205938], [126.97952137056872, 36.80220349584363], [126.97949670310203, 36.8022192518255], [126.97943185837238, 36.80229279778958], [126.97942993120806, 36.802294978105095], [126.97935186828661, 36.80238349715108], [126.9792148820432, 36.80238533674251], [126.97918092866372, 36.80238579023718], [126.9791763649306, 36.802385817127856], [126.9791783391628, 36.802405160339205], [126.97911677745293, 36.80246511923981], [126.979102367199, 36.80246229224268], [126.97900763327198, 36.80241199576716], [126.97895460508816, 36.80244868916218], [126.97891844351449, 36.80245639508858], [126.97878387945462, 36.80248505248389], [126.97867049045631, 36.80252137302923], [126.97862859121834, 36.802531943804624], [126.97844721835483, 36.802561320508254], [126.97829991837311, 36.80258517981032], [126.97838408126046, 36.80259363147847], [126.97833458367394, 36.80263761307727], [126.97833262126747, 36.80263638929834], [126.97816946964743, 36.80278243342407], [126.97798980978172, 36.802940010288886], [126.97755569716415, 36.803331841161025], [126.97710906232662, 36.80373497016934], [126.97691933818473, 36.803906212365526], [126.97689569992689, 36.80392261597028], [126.97666356547587, 36.80457426584538], [126.97660325954644, 36.804736427678854], [126.97651864967652, 36.804963944863246], [126.97636784515392, 36.80535718195879], [126.97570940427488, 36.80584303380888], [126.97517340097008, 36.80619738523802], [126.97522279864833, 36.806197395884666], [126.9751753806818, 36.806243386549056], [126.9749855107036, 36.80642754826192], [126.97434125525092, 36.807177824824976], [126.97401089483316, 36.807502795965505], [126.9738546255902, 36.80765330682924], [126.97347699013888, 36.808164406550425], [126.97329833349714, 36.808395182810955], [126.9729455919821, 36.8088749101786], [126.97277892088294, 36.809050764031554], [126.97277890952107, 36.80908659345585], [126.97245648713358, 36.80951615938937], [126.97243747674277, 36.80954148634327], [126.97238694589079, 36.80960664243433], [126.97223285959674, 36.80980111601173], [126.97187632518379, 36.81008847398807], [126.97149214318367, 36.81039811201253], [126.97127247204841, 36.81050397669701], [126.97111951898516, 36.81057768691888], [126.97109345592929, 36.8105952171016], [126.97108113875795, 36.810598898875185], [126.97052181483458, 36.81076595483797], [126.97016392723886, 36.81085308803872], [126.96991837394694, 36.81086029530944], [126.96984119546691, 36.8108562192197], [126.96978921931226, 36.810851862410495], [126.96948188541744, 36.81083184684983], [126.96883332476601, 36.81063341143747], [126.96841438178974, 36.81051275399346], [126.96782715306243, 36.810359707156124], [126.9671751933565, 36.81019383440746], [126.96654585083448, 36.81017475605444], [126.96634155519735, 36.81016576597701], [126.96568641147641, 36.81013693338158], [126.96567295293515, 36.81013737502548], [126.96555820429997, 36.81014114674095], [126.96529878519213, 36.810154432831155], [126.96480077753304, 36.81017993507819], [126.96468215344215, 36.810186079180205], [126.96447655234083, 36.81022016803802], [126.96439542778859, 36.810264801804976], [126.96429950598245, 36.81029796718665], [126.96399343086624, 36.81036584184003], [126.96330316700335, 36.81052856855452], [126.96296456365093, 36.81067681760552], [126.96287260301816, 36.81078504630296], [126.96275232056608, 36.81092199371503], [126.96273991565603, 36.81093929078646], [126.96243331831471, 36.81136671914256], [126.96249063049274, 36.812052684811285], [126.9629234911414, 36.81293215976666], [126.96306191736547, 36.8131394319835], [126.96324336521161, 36.81339887281146], [126.96329009881782, 36.813440365206056], [126.9633305308813, 36.81346975498742], [126.96342647073752, 36.81354756023911], [126.96349496450895, 36.81360309812611], [126.96352100959777, 36.81362741802751], [126.96362163673612, 36.81371608342275], [126.96365866817503, 36.813747945783334], [126.96374856102618, 36.81382529260269], [126.96382481513307, 36.81389107162405], [126.9639551783441, 36.814003532329224], [126.96405541646027, 36.814047466958044], [126.96427066046971, 36.81414168206375], [126.96431940007723, 36.814163170676856], [126.96436664108019, 36.81418396380448], [126.964610021571, 36.81429007268643], [126.96481894690936, 36.814381553972375], [126.96503843767634, 36.81455163384376], [126.96540487194196, 36.81483540265003], [126.96550778199477, 36.814914578925425], [126.9656754216823, 36.8150612390002], [126.96572587850862, 36.81513164796943], [126.96578164079207, 36.8152096458029], [126.9658036169232, 36.81524046988682], [126.96583362492592, 36.815326030633685], [126.96586411294454, 36.8154128699953], [126.96586092060387, 36.81547988460825], [126.96584244365955, 36.81585937751439], [126.96583831714746, 36.815934969822905], [126.96536737061984, 36.816387452364516], [126.96528622833159, 36.81643441235822], [126.96525176563894, 36.816454314865986], [126.96521383225243, 36.816473172288156], [126.96519441611794, 36.8164846723307], [126.96460022917628, 36.81663995050792], [126.96460925182242, 36.8166622734112], [126.96465649245333, 36.816779142185986], [126.96466540389041, 36.816801177919764], [126.96460187039524, 36.81683894970628], [126.96451878197857, 36.81686368393458], [126.96423311170273, 36.816948723664716], [126.96417832056538, 36.81696677461692], [126.96381153941238, 36.81708027018539], [126.96373186298739, 36.8170843352562], [126.9633142337257, 36.81711018182471], [126.96317442976225, 36.817085283482044], [126.96304592520264, 36.81706233627492], [126.96299710890607, 36.81705418299096], [126.96295734814133, 36.81704657359876], [126.96285137834593, 36.817027697979846], [126.96284262705514, 36.81702613678509], [126.9627541176641, 36.817010329190424], [126.9621287142576, 36.81662639736422], [126.96193673561018, 36.81651002844437], [126.96156332654631, 36.81637277315974], [126.96151183690216, 36.81635612262488], [126.96134107300014, 36.81630164747032], [126.9612993888344, 36.81628811704016], [126.96125346835737, 36.81627305295062], [126.96067337750831, 36.81608827268789], [126.96059178067202, 36.8160572836087], [126.96013456271571, 36.81584775404981], [126.95984981100827, 36.8157140022863], [126.95977690162098, 36.81567985192782], [126.95961842387273, 36.81560563586731], [126.95943537565385, 36.81551979446378], [126.95924965247671, 36.81536481128182], [126.9591753832627, 36.81530283352377], [126.9590292385158, 36.815180844924654], [126.95890235319808, 36.81508235108354], [126.9588982924426, 36.81508169437257], [126.95889711974336, 36.81508073168627], [126.9587795034015, 36.814984162137655], [126.95873997293424, 36.81495169914293], [126.95709351552954, 36.81460610667667], [126.95668251195723, 36.81455144548357], [126.95622244672958, 36.81448823084994], [126.95596606479602, 36.81445820608192], [126.95568759789018, 36.81444281673689], [126.95525564348466, 36.8144151129294], [126.95503716632007, 36.81439966331352], [126.95481780658557, 36.814384888950826], [126.95460477188057, 36.81437842580345], [126.95443478048338, 36.81437818691492], [126.95354972822767, 36.81439317102243], [126.95317651220783, 36.81439894835132], [126.95301714021024, 36.81438991835841], [126.95267760899164, 36.814371206760235], [126.95205385209756, 36.81432760629856], [126.95160664339467, 36.81433881789121], [126.9509215562428, 36.81430953229065], [126.95066982562511, 36.81431822805917], [126.95052296434545, 36.814306018080515], [126.95001658305891, 36.814263917403174], [126.94989795593408, 36.814295773460856], [126.94963647792756, 36.81436600875336], [126.9494860528932, 36.814403069192906], [126.94942515376178, 36.814418063380266], [126.94927539557187, 36.81444620940386], [126.94927352294206, 36.81444656221653], [126.94902947288153, 36.81449873681364], [126.94902905067845, 36.8144988268063], [126.94893725662105, 36.81451850310634], [126.94865515334135, 36.8146254463337], [126.94863059735445, 36.81462734814245], [126.94856526652521, 36.81463240889307], [126.94862372912974, 36.814461016887805], [126.94862604247713, 36.81445424142829], [126.94858593690499, 36.81444194796598], [126.94848323538326, 36.81441046600303], [126.94828889646571, 36.81437121554927], [126.94823526033615, 36.81437335736347], [126.94821877226839, 36.814374015548154], [126.94821833488687, 36.814374033350774], [126.94791372479791, 36.81438575561204], [126.94789845466322, 36.81438636441769], [126.94760685512443, 36.814397994851504], [126.94760521551966, 36.8143980593519], [126.94756314736105, 36.814399287332336], [126.94749540434267, 36.814401480466756], [126.9474933767892, 36.81440154857191], [126.94743520973599, 36.81440450642918], [126.94695661085125, 36.814393733942325], [126.94695754309139, 36.8143935011941], [126.94685591633589, 36.814391320252064], [126.94679200007478, 36.81439083181694], [126.94662564501044, 36.814387897908794], [126.94618941115736, 36.81439541806828], [126.94600068946187, 36.8143980069291], [126.94473180007387, 36.81451709138743], [126.94445372944766, 36.81458710977414], [126.94409283779214, 36.81470300775397], [126.94396401028283, 36.81474792011195], [126.94377051910834, 36.81482770842084], [126.94352514295434, 36.81492889224674], [126.94312959001034, 36.81518324242719], [126.9429705263505, 36.81528448309754], [126.94273323283679, 36.815446403770615], [126.94240136492242, 36.81564412098478], [126.94208037730075, 36.81584217677491], [126.94189438554295, 36.81595562700601], [126.9415890228993, 36.81614188978189], [126.94120815995079, 36.81634342649224], [126.94092378110845, 36.81646811194287], [126.94034845751594, 36.8167203615955], [126.93982244870362, 36.816949492985664], [126.93955966376132, 36.817048251759466], [126.93921524031992, 36.81718784326402], [126.93911594589702, 36.817210975140945], [126.93889865778226, 36.81720281410137], [126.93869267063772, 36.81720735527486], [126.93851283132285, 36.81720863909069], [126.93843922129956, 36.8172173331221], [126.93831338307976, 36.817232197000216], [126.93823057621607, 36.81725325693749], [126.9381337979814, 36.81730928868895], [126.93804525644066, 36.817446083083404], [126.93801090507183, 36.81750249266493], [126.93790998649277, 36.817668204934925], [126.93781116892411, 36.81784368803703], [126.9377681671815, 36.81792261113332], [126.93772821452309, 36.81810614303384], [126.93762123771354, 36.818389241327935], [126.937582608148, 36.818491467888855], [126.93732677212492, 36.819305375877704], [126.93721898281224, 36.81963101330759], [126.93712603919421, 36.819934112327175], [126.93702525617793, 36.82004019836593], [126.9369581827832, 36.82011220476177], [126.93692558408492, 36.82014000280916], [126.93679819713142, 36.82024862557518], [126.93656097003625, 36.82040403629634], [126.9363136651383, 36.82052262108539], [126.93618113040529, 36.820600024727284], [126.93589894294516, 36.82088897922537], [126.9354533313528, 36.82126468157994], [126.93528187567338, 36.82142445129762], [126.93509765389057, 36.82158464509724], [126.93481248647568, 36.821774303454376], [126.93450105109119, 36.82198097650816], [126.93414179098632, 36.8220330014774], [126.93380599146406, 36.82205465338468], [126.93354485767838, 36.822108831277916], [126.93309436496368, 36.822039837666544], [126.93307687341625, 36.82203675241851], [126.93178353712806, 36.821808683484285], [126.93140035709082, 36.82174946139664], [126.93109991265482, 36.82167161860041], [126.93078451810632, 36.82160312731666], [126.93023044125152, 36.82145340446112], [126.92997336087434, 36.82139126265601], [126.92881115993885, 36.82116147867299], [126.92818814271361, 36.82103814334599], [126.92794175915606, 36.82098936672624], [126.92733645128317, 36.82067465880834], [126.92707622135832, 36.82059467557074], [126.92661058627228, 36.82010485984857], [126.92631894376527, 36.819826613766864], [126.92612114602716, 36.8196781754645], [126.9258988408256, 36.81954687962131], [126.9255731347632, 36.819356341321964], [126.92517855240496, 36.81910471636555], [126.92502269344598, 36.81894748241376], [126.92493444856456, 36.81890907547282], [126.92482962226647, 36.81886238319635], [126.92469553468227, 36.81880305866514], [126.9243678229121, 36.818707789626984], [126.92435495697822, 36.81870702420709], [126.92401779456961, 36.81866975150729], [126.92361410438473, 36.81864313154508], [126.92353434190883, 36.81863995217799], [126.92307585615801, 36.81862431312244], [126.92275223710911, 36.818617169760216], [126.92234012067351, 36.81861082342275], [126.92189473852766, 36.818671440067], [126.92172939047009, 36.81872493627889], [126.92156170616849, 36.818812916066385], [126.92135058350381, 36.818942216187736], [126.92131882350593, 36.818972905898825], [126.92129851688426, 36.81899122925848], [126.9212775751447, 36.81900812882663], [126.92113832815494, 36.81912534905667], [126.92104997001292, 36.81920790165075], [126.92102857445636, 36.81922817221797], [126.92101029806715, 36.81924518026989], [126.92060606925271, 36.81962145922967], [126.92020151045274, 36.81999041894042], [126.92015782820873, 36.820026199323124], [126.91990674622544, 36.820214214000366], [126.91986907967745, 36.82024265330796], [126.91959700492617, 36.820380092312696], [126.91920189438596, 36.820540072002046], [126.91916813122222, 36.820553726421636], [126.91913444828323, 36.820567446128386], [126.91910013664248, 36.82058097344813], [126.91861535891923, 36.820990061637715], [126.91828746567424, 36.821267877205955], [126.91822756802219, 36.821320883706875], [126.91819847049405, 36.82132187176669], [126.91812042013063, 36.82138456659408], [126.91804252758037, 36.82144713413454], [126.91798762266698, 36.82149465524261], [126.9181978921463, 36.82194839048887], [126.91815195375, 36.82195489057527], [126.91810235902592, 36.82196240762334], [126.91705293880081, 36.822121927517244], [126.9170024033157, 36.82213045273071], [126.91590902331954, 36.8222969153469], [126.91584915954903, 36.82230708177325], [126.91579924158015, 36.82231369661665], [126.91470169302993, 36.822484146317485], [126.91464618991486, 36.82249324283874], [126.91354613744835, 36.822664363642424], [126.91348469372834, 36.82267372599822], [126.9134279789999, 36.822683749881946], [126.91234075894725, 36.822851472033726], [126.91228278765784, 36.82286067424296], [126.91226005678992, 36.82276422143598], [126.91221019775918, 36.822556335299154], [126.91207998310608, 36.822022252843794], [126.9109857309218, 36.82219895145778], [126.91086989676532, 36.82171122329963], [126.91076431423441, 36.82126507950782], [126.91065878007885, 36.820817168978536], [126.91064559495545, 36.8207617866417], [126.9105768973032, 36.82047325403158], [126.91055999073913, 36.82040926235296], [126.91053878038139, 36.82031989316142], [126.9105381219108, 36.82031773902147], [126.91044627449884, 36.82033401471162], [126.9104232823259, 36.82033808888146], [126.91038378557533, 36.82024157779795], [126.9103424349399, 36.820140901791305], [126.91027688565629, 36.82000457754557], [126.91020335302099, 36.819869174616855], [126.91007988842986, 36.81966088093916], [126.9100075389462, 36.819538825315036], [126.9099262319113, 36.81945900892962], [126.90985055605529, 36.81938471932258], [126.90977875971562, 36.819314238648055], [126.90951019369476, 36.81932523361591], [126.90842006739449, 36.81936986228978], [126.90789502164326, 36.81957813039699], [126.90751480021291, 36.81972895047165], [126.90740527654077, 36.819736645819496], [126.90679936665342, 36.81977921494587], [126.90580069536423, 36.82024459972611], [126.90569915717437, 36.82029191635781], [126.90626787788581, 36.820697537221704], [126.90644058831141, 36.82082190982773], [126.90645774400483, 36.820834042527615], [126.90664175448222, 36.820965462942205], [126.90696520909236, 36.82090196796464], [126.90698733671967, 36.82099196975753], [126.90700257122174, 36.82105344573625], [126.90708263805581, 36.82137640054316], [126.90718718408755, 36.82180850847263], [126.90726419540701, 36.822139661959255], [126.90729169051116, 36.8222560778646], [126.9073942714612, 36.82269496012224], [126.90749947283386, 36.82314490176525], [126.90760159713246, 36.823581646864746], [126.90770679983541, 36.82403172168948], [126.90780896070655, 36.82446867407262], [126.90784841505331, 36.824635733672174], [126.90791183341204, 36.82490303369227], [126.90792740851153, 36.824970267911866], [126.9079706513819, 36.8251547660573], [126.90798335506842, 36.8252081486223], [126.90803130581448, 36.825410365758295], [126.90809733322091, 36.825691110330986], [126.90809632943235, 36.825692446700344], [126.90804038633404, 36.825766992636616], [126.90803609924421, 36.825772702749084], [126.90803896400931, 36.825786851838444], [126.9080527148977, 36.82587171122903], [126.90808400604878, 36.82607851131858], [126.90870621489098, 36.82615957407352], [126.9089805573297, 36.82640809558711], [126.90903471216993, 36.826665167863354], [126.90911992735633, 36.82680049061176], [126.9092812826102, 36.82691182885638], [126.90937830703172, 36.82696943970233], [126.90945874021257, 36.82701741443972], [126.9094682748809, 36.827022538793315], [126.90959976538271, 36.82701563037007], [126.90975273449736, 36.827044583765876], [126.90989139153528, 36.82707111313536], [126.9100805057184, 36.82712206072168], [126.91018633517145, 36.82715579897553], [126.91028784467476, 36.82715601040451], [126.91036348154084, 36.827138803525074], [126.91053156232108, 36.82704382120224], [126.91062354261308, 36.82701682243706], [126.91086950808096, 36.8269433323561], [126.91088363798657, 36.826939111436765], [126.91095622209173, 36.82692513789931], [126.91103087167399, 36.82691789580284], [126.91103928449495, 36.82695060262607], [126.91093757352552, 36.82695125443623], [126.91093358949502, 36.827002875492624], [126.91092892470978, 36.82705172931245], [126.91092250228638, 36.827118929865335], [126.91091185635545, 36.82723300141545], [126.91087388987832, 36.82763987283047], [126.91084830981993, 36.82779222910769], [126.91084511573347, 36.827820369345844], [126.9108444470808, 36.82782626155242], [126.91080569838913, 36.82816804754105], [126.91071319034573, 36.82928601769278], [126.9110679173284, 36.8295673418314], [126.91137558737877, 36.82980994341612], [126.9117290484806, 36.83008616428397], [126.91180177443661, 36.830143970231966], [126.91180911030703, 36.830150158054266], [126.91196162170621, 36.83027881452527], [126.91213013803059, 36.83042097260453], [126.91214292871852, 36.830430346076014], [126.91215698397578, 36.83044064708567], [126.91217111731771, 36.830451002567024], [126.91216898963093, 36.830452666951565], [126.91112823347424, 36.831265538743246], [126.91091398085486, 36.831437071785786], [126.91095077214806, 36.83151312052757], [126.91117561020329, 36.83197788682705], [126.91149188155354, 36.83271542401041], [126.91167266777823, 36.83310544977339], [126.91160791355409, 36.833731296069786], [126.91165181953299, 36.83380724997291], [126.91178817544106, 36.83404313223372], [126.91278162114826, 36.834395018429035], [126.9129323054538, 36.834690687907944], [126.91309133064662, 36.83500272550758], [126.91311123447731, 36.83505878426279], [126.91311918497689, 36.8350811849927], [126.91318682516984, 36.83527171136716], [126.9132332162295, 36.83529660773569], [126.91402545346767, 36.83589356761246], [126.91360855646936, 36.836347776103224], [126.91339623865709, 36.83656819984224], [126.91335296437221, 36.83662819806403], [126.91329460058019, 36.83669683706622], [126.91330403553879, 36.83671432496604], [126.91336950543521, 36.83683566107018], [126.91343104765893, 36.836949708430495], [126.91350627601949, 36.83708911627996], [126.9135521110787, 36.83727894887827], [126.91356089287422, 36.83731531539681], [126.913561092904, 36.837316143918564], [126.9135628149328, 36.83732327209898], [126.91359542450384, 36.83745829952586], [126.91371392036861, 36.83794897397154], [126.91375970214166, 36.838138571825695], [126.91377593754687, 36.83820581382592], [126.91382294865289, 36.83828932737142], [126.91419031178468, 36.83856268674648], [126.91437096993141, 36.83869711640944], [126.91439361031362, 36.83918499754095], [126.91469896185886, 36.83967023771186], [126.91500257015984, 36.83997403105248], [126.91458940118824, 36.84044987962198], [126.91464764902933, 36.84078252706489], [126.91461704933135, 36.84128804691013], [126.9145986236032, 36.841592443818016], [126.91459644223688, 36.84169881723527], [126.91491622625313, 36.84214014763531], [126.91470374358843, 36.84267312282297], [126.91467427272948, 36.84274704295162], [126.91416200122053, 36.84284154127362], [126.91388897944479, 36.84289190290816], [126.91392508303066, 36.84294245953055], [126.91467678679331, 36.8439949752141], [126.91534242451509, 36.844534040322536], [126.91539168217747, 36.84457393028394], [126.91547872543144, 36.84459158867843], [126.9155711049375, 36.844610327943506], [126.91598445634575, 36.84469626118356], [126.9163458596644, 36.84477092940617], [126.91687913387734, 36.84488019913493], [126.91841319105137, 36.845537065115394], [126.9187939241184, 36.84563497700634], [126.91888946546064, 36.845599449045984], [126.919047798696, 36.84564272644007], [126.91924469054041, 36.8458314179304], [126.91920403914513, 36.845962276213804], [126.9191645028774, 36.84602279953066], [126.9194902115226, 36.846418592389135], [126.92006301385739, 36.84668745026594], [126.92025372820952, 36.84722468023657], [126.92070808277943, 36.84722749376258], [126.92096287303767, 36.84722907223885], [126.92139492599772, 36.84723174746485], [126.92225254592297, 36.84723705266929], [126.92274220500356, 36.84724007867577], [126.92306377540767, 36.84696627103163], [126.92338103807587, 36.846696128545716], [126.92412307878723, 36.846651221925235], [126.92497518728526, 36.84659964772981], [126.92591277954828, 36.84622766198232], [126.92685309150205, 36.84627735664869], [126.92816652800106, 36.84572804386186], [126.92925834280679, 36.8450345233995], [126.92991373531083, 36.84488556221812], [126.92994176664995, 36.844887510364195], [126.9324175235117, 36.84505952321854], [126.93252294451122, 36.845066846898895], [126.93254259337499, 36.84507072679898], [126.93268407323053, 36.84509837175395], [126.93268467801892, 36.845098794717686], [126.93276676110658, 36.84511501052938], [126.93303177359677, 36.845167361943986], [126.93365879312981, 36.84475533749196], [126.93389722502563, 36.84459865917043], [126.93393425451191, 36.84456522027302], [126.93403719844382, 36.844472260265654], [126.93431655585418, 36.84462923677644], [126.93449017758918, 36.844735898944556], [126.93511100519427, 36.84578386845742], [126.9351583564441, 36.84586380001565], [126.93590233092098, 36.84680459954868], [126.93821386205362, 36.84734002429706], [126.93845396242997, 36.847380649610976], [126.93935608480882, 36.84753329053013], [126.93967518018387, 36.847183110776314], [126.94022563471022, 36.84591717962726], [126.94064650308057, 36.845411136194315], [126.94069748395407, 36.845349838281216], [126.94072954517821, 36.84531520740481], [126.94079046201607, 36.845226994596025], [126.94104574511066, 36.84487744288243], [126.94111862725865, 36.844772178352684], [126.94144744683395, 36.844134493361366], [126.94169697995778, 36.84351583254666], [126.94180266345754, 36.8431787304415], [126.94218711780213, 36.84303185445253], [126.94242043330375, 36.84248118292513], [126.94218028696416, 36.84166920851025], [126.94222681877633, 36.84111273150746], [126.94193941635157, 36.84074319965981], [126.94319087452344, 36.84038549810025], [126.94335626066311, 36.840190968711106], [126.9445229268628, 36.839608665858194], [126.945609520244, 36.83943745822659], [126.94597845910519, 36.83896158337192], [126.94600741702912, 36.838924233991136], [126.94631907877627, 36.83873148530374], [126.94668936721982, 36.83850247626458], [126.94710340761479, 36.838256711351], [126.9475581383234, 36.83817512147386], [126.94771641833238, 36.83814672180707], [126.94798693925094, 36.83828166586561], [126.9489959340085, 36.83876031207101], [126.95005598299394, 36.83835162161736], [126.9509743868748, 36.838164919996004], [126.95147867853558, 36.838265290089176], [126.95203485756221, 36.83874510722794], [126.9524291143312, 36.83867854291606], [126.95276419847593, 36.83868810692714], [126.95304850531845, 36.83879383267903], [126.9539007770118, 36.84012254260663], [126.95423745308184, 36.840341139340204], [126.95494562095017, 36.84115138929608], [126.95528908786532, 36.84138782693649], [126.95545035672882, 36.8415809597885], [126.95574987221912, 36.84179186927345], [126.95594039095553, 36.84244275380709], [126.95628386574887, 36.842553221015244], [126.95688282652456, 36.84274585227068], [126.95688985692733, 36.84279496683288], [126.95692518019233, 36.84304171771499], [126.95687616301569, 36.84377877244674], [126.95686909189918, 36.84388510825418], [126.95660395087066, 36.84396206359677], [126.95640316416205, 36.844020340603976], [126.95618465766847, 36.84469606362752], [126.95667805406909, 36.845169329910924], [126.95702236133513, 36.84549958253468], [126.95702413721637, 36.8455020696472], [126.95750014784859, 36.84616850158121], [126.95760720221243, 36.84633911985619], [126.95817360546039, 36.84693392617487], [126.95842108474403, 36.84703161232495], [126.9589115274419, 36.84722520288693], [126.95933596255844, 36.84774599156282], [126.95986698233072, 36.84773134277879], [126.96055196466685, 36.84771311208092], [126.96069691305668, 36.84773678749858], [126.96085243445216, 36.84776218739852], [126.96087941847716, 36.84776659529384], [126.96089470810911, 36.84776158583688], [126.96170798530744, 36.84749515211737], [126.961938263277, 36.84741970978347], [126.9619554785636, 36.847414070675065], [126.9619624039644, 36.84741658102069], [126.96223305789917, 36.847514661615755], [126.96224702553708, 36.84751966116788], [126.96235790292947, 36.84755935253366], [126.96241996074355, 36.847581569189124], [126.96243159671924, 36.84758573604855], [126.96249807513043, 36.84760953577623], [126.96257307857368, 36.847621572160016], [126.96261905269982, 36.84762911062578], [126.96271162680618, 36.847638424627064], [126.96287376827833, 36.84765473989876], [126.96298917515462, 36.847793100959144], [126.96301572968963, 36.84782493950539], [126.96301515313445, 36.84782686781739], [126.96301468880606, 36.847828145785904], [126.96301536435685, 36.84782906291273], [126.96301967178042, 36.84782966470987], [126.96303245747637, 36.847844904767214], [126.96303675837235, 36.84784996873598], [126.9630479444903, 36.847863139037564], [126.96310729633424, 36.84793731018359], [126.96338974628694, 36.84822017476681], [126.96387546330003, 36.84827691875978], [126.96439858467858, 36.848518952074755], [126.96446910373739, 36.84855157972646], [126.9646541417665, 36.8487786422799], [126.96473364783164, 36.84887403888146], [126.96477461494877, 36.84892530517771], [126.96483906606721, 36.849035051790885], [126.96501238386625, 36.849325359363064], [126.9650863355276, 36.84944760669797], [126.96553111129771, 36.8502304275053], [126.96695873185703, 36.85098907092153], [126.96733940414502, 36.851239311931984], [126.96740678712708, 36.851283606637814], [126.96807863388561, 36.85146779281238], [126.96865797623363, 36.85147212541322], [126.96860435156084, 36.85101776892827], [126.96858682039351, 36.85083806850404], [126.96848986953248, 36.849844244539504], [126.96848814021513, 36.84982653764333], [126.96846098756771, 36.84945568391199], [126.96847316421541, 36.849191134301066], [126.96860242205796, 36.84889865458767], [126.96866283558573, 36.848761948548734], [126.96882516710258, 36.848394624345644], [126.96872845430018, 36.84825097078562], [126.96828515370655, 36.847592496902976], [126.9682757523181, 36.84757852736974], [126.96830856186094, 36.84757202137991]]], &quot;type&quot;: &quot;Polygon&quot;}, &quot;id&quot;: &quot;0&quot;, &quot;type&quot;: &quot;Feature&quot;}], &quot;type&quot;: &quot;FeatureCollection&quot;});\n",
       "\n",
       "        \n",
       "    \n",
       "        function geo_json_16d870be960c0dfbd0a2d21974415e80_styler(feature) {\n",
       "            switch(feature.id) {\n",
       "                default:\n",
       "                    return {&quot;color&quot;: &quot;black&quot;, &quot;fillColor&quot;: &quot;#7201a8&quot;, &quot;weight&quot;: 1};\n",
       "            }\n",
       "        }\n",
       "\n",
       "        function geo_json_16d870be960c0dfbd0a2d21974415e80_onEachFeature(feature, layer) {\n",
       "            layer.on({\n",
       "            });\n",
       "        };\n",
       "        var geo_json_16d870be960c0dfbd0a2d21974415e80 = L.geoJson(null, {\n",
       "                onEachFeature: geo_json_16d870be960c0dfbd0a2d21974415e80_onEachFeature,\n",
       "            \n",
       "                style: geo_json_16d870be960c0dfbd0a2d21974415e80_styler,\n",
       "        });\n",
       "\n",
       "        function geo_json_16d870be960c0dfbd0a2d21974415e80_add (data) {\n",
       "            geo_json_16d870be960c0dfbd0a2d21974415e80\n",
       "                .addData(data)\n",
       "                .addTo(map_ab3531dfb2a4b421ee56c7d5f162f888);\n",
       "        }\n",
       "            geo_json_16d870be960c0dfbd0a2d21974415e80_add({&quot;features&quot;: [{&quot;geometry&quot;: {&quot;coordinates&quot;: [[[126.99936052895718, 36.745203240037235], [126.9996554827415, 36.74487294262957], [127.00007487191952, 36.74487482241396], [127.0010884556958, 36.744888842710075], [127.00132210409268, 36.745087954764415], [127.00174087147862, 36.745505020603154], [127.00177165922351, 36.74553568236109], [127.00192728221931, 36.745492560144655], [127.0031700358646, 36.745148191364], [127.00321040092196, 36.745136871522156], [127.0046559110147, 36.74497585808916], [127.00475383525175, 36.744962575904076], [127.00483120013126, 36.744952081984906], [127.00494489595049, 36.74492556855389], [127.00513495420277, 36.7448942756665], [127.00509875152163, 36.7448638104087], [127.00528940172539, 36.74480552965983], [127.00538234728397, 36.744788468922835], [127.0056126141896, 36.74474911735433], [127.00588422902709, 36.74468548009015], [127.00598514060529, 36.74474395025165], [127.00603076703604, 36.74470998467544], [127.00613966330187, 36.74478836891708], [127.00623440564057, 36.7448593906042], [127.00631785023174, 36.744901388426044], [127.00639534734599, 36.7449415657875], [127.00652369258286, 36.74500803535921], [127.00671162079986, 36.745105059286395], [127.00672203933372, 36.74511049327666], [127.00681831146747, 36.74516070765066], [127.00694399244529, 36.745226321949474], [127.0070283662645, 36.74526992233469], [127.00716056478771, 36.74533412104866], [127.00730388217731, 36.745403239009725], [127.00753212310286, 36.74551455100219], [127.00765140389983, 36.74557291727585], [127.00766633829886, 36.74558022509669], [127.00781221939056, 36.74565217285705], [127.00815571185447, 36.74584484756795], [127.00878642747884, 36.74581669630211], [127.00885510396833, 36.745727211173005], [127.0095287915248, 36.74484938299518], [127.00976018017576, 36.74454426856765], [127.00998430462099, 36.74445153228593], [127.01043708922187, 36.74426418040798], [127.01040494838641, 36.74402320179042], [127.01036582582098, 36.74372986936016], [127.01036093871966, 36.7436841914733], [127.0103536657895, 36.74363109907416], [127.01032391740647, 36.74345686987251], [127.01037723732979, 36.743319439813455], [127.01050350669746, 36.74299398136887], [127.01080459630577, 36.7421172734035], [127.01083539726342, 36.742029014215326], [127.01082773199062, 36.74194593542974], [127.0108263946408, 36.7419314522797], [127.01082450740451, 36.741880772736984], [127.01081555332985, 36.741812983038436], [127.01080841461606, 36.741756014868656], [127.0108486426753, 36.74173935153165], [127.0108844779423, 36.74172935004008], [127.01101550053586, 36.741692785656056], [127.01125745051117, 36.74163027440885], [127.01149003442634, 36.74159947229223], [127.01156830966146, 36.74158994048274], [127.01167988303894, 36.7415779922887], [127.01173434193721, 36.741574211396966], [127.01173966107245, 36.741574427938744], [127.01190491380078, 36.741586983635194], [127.01199224507762, 36.74158292997944], [127.01208536058029, 36.741601880321255], [127.01220658051872, 36.74165361156245], [127.01247925815152, 36.74177178698823], [127.0127398897157, 36.741887321635254], [127.0130845486751, 36.74191274395377], [127.01340606543351, 36.74193760188612], [127.01361350912524, 36.741955522004176], [127.01404390151365, 36.742113226079155], [127.01422917352261, 36.74218352030687], [127.0143744229409, 36.7422269745469], [127.0146144497457, 36.74230019061167], [127.01464306866397, 36.74230892000823], [127.01487157147506, 36.742375666461506], [127.01493859928492, 36.74239810690265], [127.01510430155393, 36.74246848226684], [127.01525899606699, 36.742532724015355], [127.01556354845582, 36.74266132244186], [127.01567131152413, 36.74278744621636], [127.01572792081187, 36.742853698661406], [127.01590480093323, 36.74306076364673], [127.01602218070414, 36.74319574442493], [127.01610490578229, 36.74303211915542], [127.01613505340386, 36.742968518427354], [127.01613524186408, 36.74296811713673], [127.01621025775306, 36.74280984583959], [127.01625648577469, 36.742721602880266], [127.01625593638614, 36.74271918830566], [127.0162896360962, 36.74271102993448], [127.01631523841502, 36.742915110259624], [127.01636744205923, 36.743059507597614], [127.0164247052678, 36.74312628161664], [127.01646587887619, 36.743141297979875], [127.01647802192721, 36.743165447292874], [127.01656265874044, 36.74334192811668], [127.01663334083212, 36.74348918955204], [127.0166922894566, 36.74358523028786], [127.01675948394849, 36.743656375150714], [127.01684811635084, 36.74370133809925], [127.01693632500174, 36.743740652436365], [127.01696773333266, 36.74375464998626], [127.017031472172, 36.74378242343561], [127.01709075773395, 36.74383123718278], [127.01710823882568, 36.74384443716797], [127.01720006774038, 36.7439091965456], [127.01735041983375, 36.74401472524035], [127.0175053863455, 36.74412399012726], [127.01754470396295, 36.74415360605568], [127.01759204103611, 36.744131809236066], [127.01761569982436, 36.74407646997782], [127.01766263261558, 36.744109957009684], [127.01767904947907, 36.744121407346256], [127.01774515643505, 36.74416750973984], [127.01789974235919, 36.74416906461203], [127.01829500842526, 36.74417362929057], [127.01830376509018, 36.744173729642], [127.01832115208778, 36.74416582559172], [127.018501393476, 36.7440838791384], [127.01862938379826, 36.74402569122444], [127.01913854613642, 36.74379420155268], [127.0203385976746, 36.74324858722672], [127.02107012308684, 36.7429159818086], [127.02184812483544, 36.74269066081773], [127.02200511878013, 36.74264519377749], [127.0235078486261, 36.742225546339704], [127.02555456967744, 36.741653950183824], [127.02677131736932, 36.74131412186204], [127.02848522647646, 36.740885204852404], [127.02936242037741, 36.74066566878268], [127.02940649847821, 36.7406546359698], [127.02940760458142, 36.7406543590839], [127.029415567363, 36.74065013381239], [127.02957030765506, 36.74056802456658], [127.03097277902782, 36.73982381166127], [127.03130558238298, 36.739653949156896], [127.03155730444215, 36.73952421572171], [127.03199963019732, 36.73931088954484], [127.03223201991312, 36.73916562377168], [127.03245025323218, 36.73901593698583], [127.03325392497466, 36.73851406602725], [127.03347760895062, 36.738367744978], [127.03359191651417, 36.73830169847421], [127.03367652910849, 36.73822931713844], [127.03401699829733, 36.737287549972386], [127.03409823112041, 36.737062852793], [127.03422948480336, 36.73650660692105], [127.03440421088044, 36.735766107254854], [127.0346442696304, 36.73474407612507], [127.03475737223621, 36.73429569203968], [127.03477882843272, 36.73421062440218], [127.03479821454651, 36.73413377011871], [127.03500087160786, 36.73348045909931], [127.03536122384781, 36.732371263612734], [127.03607999945112, 36.73070727034577], [127.03604997627738, 36.7303136809172], [127.03597112182747, 36.72929472957122], [127.03550211752194, 36.727835543826174], [127.03540031101038, 36.72751879335402], [127.0351519103912, 36.72676543003422], [127.03519201992519, 36.72614896444998], [127.03531005401514, 36.72487043436895], [127.03532690826457, 36.72417518246274], [127.03528283692266, 36.723305777969514], [127.03529450803687, 36.7226068582749], [127.0353494677174, 36.7224026467794], [127.03573329985912, 36.72097641265062], [127.03570187009758, 36.719789973416866], [127.03570546950819, 36.719536497512436], [127.03571934017221, 36.71855949460245], [127.03573573345504, 36.717404739040006], [127.03576027188029, 36.71673145271039], [127.03488136652051, 36.71441302531077], [127.03600253676176, 36.712584306514096], [127.03694073507013, 36.711403339732314], [127.03734697347674, 36.71104909760834], [127.03741470334457, 36.71099003542182], [127.03753849312062, 36.71088208836124], [127.0379406119177, 36.71068332148502], [127.0381733975537, 36.7105625450296], [127.03898048504082, 36.710406580424554], [127.03964324778141, 36.70992974070619], [127.04025809048659, 36.70932699916078], [127.04081568386928, 36.70870801786642], [127.04126417858954, 36.70841083276092], [127.04151270501171, 36.70822037012764], [127.04156394205677, 36.70818064995621], [127.04163344841176, 36.70814518477178], [127.04257423805768, 36.707975587784205], [127.04331231898267, 36.70763873694428], [127.0437123362325, 36.70709467034646], [127.04417701105872, 36.706503648461464], [127.04514824180694, 36.70582639285364], [127.04602970636729, 36.70534848269074], [127.04671510118945, 36.70498818023518], [127.04754461260295, 36.70442610429089], [127.04866983493659, 36.703686347967675], [127.04868201104112, 36.703678342108], [127.04909249972943, 36.70338388936354], [127.04911484955986, 36.70337350963054], [127.04911052167972, 36.70331097379723], [127.04907091247314, 36.70273823429026], [127.0486002733358, 36.70200851275093], [127.04852933976018, 36.701533767689206], [127.04800914538214, 36.70095584356016], [127.04677596116717, 36.69986905804871], [127.04603950048971, 36.69930784276461], [127.04564242209473, 36.69870985264023], [127.04535616260573, 36.698045670366234], [127.04477983744906, 36.697561465395424], [127.0443128860255, 36.697169140521396], [127.04345081546808, 36.69640518827006], [127.04317683870151, 36.69607327675957], [127.04275484830862, 36.69588897809749], [127.04222482415445, 36.695774270722794], [127.04150045094877, 36.69544840888152], [127.04122021899305, 36.694835460008306], [127.04105072046669, 36.694672188605445], [127.04083644181203, 36.69448584485287], [127.03944024126554, 36.6935708118948], [127.03921534380449, 36.69338602065955], [127.03914106812577, 36.69332499048473], [127.03890992401423, 36.69313506399383], [127.03835656059775, 36.6929482233936], [127.03833582859436, 36.69294122143647], [127.03792324848065, 36.69263665117909], [127.0374946245014, 36.692416847453806], [127.03696288997979, 36.692281281317875], [127.03658010064278, 36.69212454167514], [127.0361026559489, 36.69180928789582], [127.0354844876279, 36.69153293840936], [127.03450009065688, 36.69132003770441], [127.03364676314324, 36.690966867882686], [127.0321312666522, 36.69039476697995], [127.03138471914042, 36.69020042953104], [127.03091116515539, 36.69007715332793], [127.03021488920334, 36.68977911086646], [127.02947227804628, 36.68949824557591], [127.02871590107556, 36.68881216656817], [127.02782970353648, 36.68779915955042], [127.02780779887098, 36.68777087253992], [127.02778381302996, 36.687739898969966], [127.02777506518579, 36.68772859936331], [127.02736709052816, 36.687201705372736], [127.0266043277592, 36.686635570182425], [127.02606719378699, 36.685893226834324], [127.02602208359083, 36.68583087748859], [127.02598607458555, 36.68557353777536], [127.02597582593155, 36.68550028312781], [127.02575473450007, 36.68534015871057], [127.02573871479865, 36.68532855774181], [127.02568260306758, 36.68517061637913], [127.02556673402134, 36.68484446918932], [127.0255027055303, 36.68466424220438], [127.0254472087261, 36.684508023194354], [127.02492371246677, 36.68419471171177], [127.02475801870958, 36.68386883727848], [127.02468473494818, 36.683724704296196], [127.02459486106108, 36.68354793989305], [127.02428452404821, 36.68339536688721], [127.02422823802311, 36.68328641785697], [127.02400958822442, 36.68286316629821], [127.02360182475748, 36.68207382858257], [127.02359518849165, 36.682060986560415], [127.0231895621126, 36.68181494235822], [127.02269070059394, 36.681383903112916], [127.02266618626946, 36.68135252521401], [127.02217028544796, 36.68071772635801], [127.02189439720145, 36.67990056638864], [127.02185190757884, 36.679188406629336], [127.02188860827488, 36.67884409114294], [127.02190578921945, 36.67868292002101], [127.02141081325342, 36.67828847845663], [127.02062493660388, 36.67775384828829], [127.02016880981587, 36.677491468302875], [127.01965969297662, 36.67723651470971], [127.01953526240216, 36.67717420076438], [127.01943916099711, 36.67659411981136], [127.01987392243873, 36.675475348058626], [127.01995012819778, 36.67527924102655], [127.01927974144611, 36.67506279148576], [127.01871783790342, 36.67497262640778], [127.01852231134744, 36.67494125232326], [127.01830519232226, 36.67482441561693], [127.01670864816725, 36.67324174961058], [127.01565397319239, 36.672433678813064], [127.01560281944865, 36.6723111259315], [127.01524706609167, 36.67145884833414], [127.0153258014867, 36.67091450140995], [127.01525496675578, 36.67068670207042], [127.01541780481772, 36.670334958550434], [127.01571918086627, 36.66867291243173], [127.01515294433734, 36.668047816526766], [127.0150616288581, 36.667624690161404], [127.01504723045436, 36.66755795415958], [127.01502368674144, 36.66744886885412], [127.01529380759803, 36.667004184573926], [127.0154235712539, 36.666457583776555], [127.01483866162683, 36.66582404625831], [127.01373164118958, 36.66480841938057], [127.0131484880458, 36.664029857015144], [127.01191591055797, 36.663441978954445], [127.01182407781776, 36.66283682715482], [127.01158581647911, 36.662452182024175], [127.01116667642654, 36.662068950510424], [127.01116309424157, 36.66137198342468], [127.01162265263164, 36.66081803649263], [127.01070020362467, 36.660427810916794], [127.01015888032846, 36.659732296947574], [127.00940575918584, 36.65896892251337], [127.00899626973757, 36.65872987228247], [127.00845638991274, 36.65823624766117], [127.00836387826942, 36.657273722228105], [127.00917735999445, 36.65714498342659], [127.00923126243953, 36.65692405851856], [127.00936202999765, 36.6563880690987], [127.0093892495067, 36.65627650788393], [127.00865242722139, 36.65561422862561], [127.00750828783806, 36.65517837148751], [127.00742577665278, 36.65481622981294], [127.00740305497098, 36.654718242605554], [127.00723665434279, 36.65419925497163], [127.00640303153637, 36.653087804194946], [127.00620886738254, 36.652872667536656], [127.0059367917481, 36.652928151749414], [127.00540082659826, 36.65261897508466], [127.0051159928582, 36.65246212522621], [127.00458399444658, 36.65252150598297], [127.0044018049513, 36.652541840157994], [127.0038273807497, 36.6526066761917], [127.00371802340503, 36.65261901810746], [127.00356546884214, 36.65230277937465], [127.00354121841065, 36.652066834236926], [127.0035292918766, 36.65195077228921], [127.00313490875276, 36.651611785460865], [127.00271583835186, 36.651251570635004], [127.00205689186735, 36.65133948031188], [127.00203399054313, 36.651342535268775], [127.00173323051075, 36.65158152539528], [127.0017309960183, 36.651583300089136], [127.00157902454937, 36.65157482586498], [127.0015063856493, 36.65157077351821], [127.00133205520666, 36.65156105150376], [127.00090410446889, 36.65147009948626], [126.99974606485246, 36.65210594214154], [126.99916854591845, 36.65199864365297], [126.99880945421258, 36.65192948758079], [126.9985063386875, 36.65187110988722], [126.9983876206314, 36.65184824594622], [126.99812848982528, 36.65149342849703], [126.99777882643195, 36.65142526552351], [126.99755192462409, 36.651382627533835], [126.99704513989386, 36.65128739231954], [126.9967116819461, 36.65122472699588], [126.99598862166886, 36.65092676395525], [126.99568964619222, 36.65086958297742], [126.9955292323815, 36.65084873116719], [126.9953961374016, 36.65067559327128], [126.995127017211, 36.65032549762964], [126.9947406953689, 36.649967835741926], [126.99322688781047, 36.64867406134233], [126.99299763852437, 36.648622509743035], [126.99257669423396, 36.64861966802354], [126.99221324121167, 36.6486157284951], [126.99197472781886, 36.6486131420248], [126.99191828679476, 36.64861173207196], [126.99168998924614, 36.64866780773692], [126.99074534129277, 36.64889982887301], [126.99026103064477, 36.64901878006389], [126.989451871923, 36.648724140173144], [126.98911271584745, 36.648880931098255], [126.9886156859335, 36.64911070019707], [126.98781192925593, 36.64991740046286], [126.98760132579599, 36.65008971699473], [126.9872791554479, 36.65082550524554], [126.98699466103207, 36.65081499233338], [126.98666755688542, 36.65080290232796], [126.98568705719289, 36.6509173903604], [126.98524041422918, 36.65096098154701], [126.9852334334372, 36.650972173070464], [126.98473313316583, 36.65177417998393], [126.98454322268779, 36.65179386981703], [126.98438806717388, 36.65180995510874], [126.9841662451951, 36.65183295167787], [126.98388005216054, 36.65185317542624], [126.98288168531005, 36.65192371732766], [126.98269384726626, 36.651865114707206], [126.98250515893382, 36.651725130123765], [126.98246339223392, 36.65175666291219], [126.98248676700113, 36.651937451855716], [126.98222965392327, 36.65215959272542], [126.98193357127548, 36.6524087694614], [126.98179566656346, 36.652532643046776], [126.98136384826402, 36.652635362059094], [126.98115152362888, 36.652688267762095], [126.9806335313511, 36.65283010548394], [126.98006330069622, 36.652968264751884], [126.97967130545955, 36.6530979282327], [126.97866274196335, 36.653431527256124], [126.97847873682994, 36.65349565570741], [126.97809824485456, 36.65362825991468], [126.97811024466864, 36.65370811192311], [126.97817131977914, 36.6541145957361], [126.97752635679402, 36.65515161286926], [126.97747297836118, 36.65537616567777], [126.97735399392704, 36.65587670672457], [126.97740533124401, 36.65599962580595], [126.97746820216842, 36.656150168262116], [126.97752160161988, 36.65622925174283], [126.97784758828045, 36.65671203421211], [126.97787180735757, 36.656780642369604], [126.97798031732633, 36.657088017485705], [126.9781068764352, 36.65744651180915], [126.97811202855429, 36.657713114071555], [126.97812219533557, 36.65823950814753], [126.9778569289049, 36.65875984866595], [126.97786551861691, 36.65892505080596], [126.97787707728632, 36.65914734611547], [126.97797594516622, 36.659311252769946], [126.97784013410542, 36.659373178966824], [126.97806963884122, 36.65983195299189], [126.97829523754167, 36.66045940589895], [126.9786122967605, 36.66090975119246], [126.9782032480526, 36.661458588754115], [126.97814811180305, 36.66153256723221], [126.97775055266115, 36.66200304697364], [126.97742751631694, 36.66221587301799], [126.97696760439283, 36.66250554540816], [126.97692139801788, 36.66275559967611], [126.97695430854424, 36.66313238574306], [126.97672268313994, 36.66326864077414], [126.97631038807366, 36.66332458665046], [126.97564525409398, 36.66373671025163], [126.97503907089342, 36.6645625911869], [126.97495336221967, 36.66467936289003], [126.97511591572241, 36.665084069961125], [126.97517303939877, 36.66522628722761], [126.97450999370707, 36.66660091397787], [126.97367191093882, 36.66713323291318], [126.97356219670466, 36.667305330517756], [126.9735076747681, 36.66739085474634], [126.97337581174232, 36.66762144790894], [126.97313370211265, 36.667746422364196], [126.97222140019021, 36.66852033154991], [126.97200283118796, 36.66894203530971], [126.97191216779912, 36.6691169625953], [126.97169221623247, 36.66928924834394], [126.97157894038088, 36.66932893206104], [126.97143094329641, 36.66965808523372], [126.9713891740984, 36.67011933424288], [126.97047514716125, 36.67072708061918], [126.97011868770785, 36.672203148131736], [126.96998754585465, 36.67272745131095], [126.96983262612541, 36.6728859543576], [126.96924971413213, 36.67349940237251], [126.96898859691768, 36.67377419351384], [126.96881418480874, 36.67395773886979], [126.9688759897975, 36.67473694753096], [126.96889068847732, 36.674922243130574], [126.96877151141359, 36.67524717419889], [126.96860194981974, 36.67566446511534], [126.968599145601, 36.67570867385343], [126.96852290045744, 36.67658837555426], [126.96858878054579, 36.67672887418071], [126.96875849095713, 36.6770908178131], [126.96766591529409, 36.6792470213219], [126.9676750666094, 36.67932277036386], [126.96768417814121, 36.67939828574294], [126.96770764929116, 36.67959283818909], [126.96778346183926, 36.68022110591124], [126.96780909085295, 36.680433434330645], [126.96786450610946, 36.6805339301942], [126.96814812751927, 36.68104827838213], [126.96813693141516, 36.68106769403808], [126.9681144822084, 36.68110634840183], [126.96795411805768, 36.681382477468844], [126.96794594241419, 36.68139656623233], [126.96767509711397, 36.68186308601825], [126.96777256912033, 36.682202962313184], [126.96793306864228, 36.68276259536745], [126.96759299968501, 36.68328909918987], [126.9675710858669, 36.6834068065955], [126.96765797841273, 36.68418996170996], [126.96768981393068, 36.68486381675769], [126.96771428076325, 36.68538171257163], [126.96782249648136, 36.686588960858735], [126.96905116454948, 36.68779145539053], [126.97234336773015, 36.690860637764686], [126.97233932383968, 36.69090006225101], [126.97176125054372, 36.69158894954269], [126.97074269872425, 36.692802712571925], [126.9696656200893, 36.69385196640985], [126.96954423824975, 36.69397019816375], [126.96777245812673, 36.694693427962314], [126.9667129422151, 36.69540416313563], [126.96484496247288, 36.69604536225219], [126.9628166247041, 36.696455381764544], [126.96276970977469, 36.69646486367093], [126.96184800126423, 36.69665097419403], [126.96177229323918, 36.696662782985555], [126.96174246293252, 36.69666747734504], [126.9615615893358, 36.6966959367844], [126.96131976019184, 36.696733873259475], [126.96067304074403, 36.6973601695359], [126.96043143542049, 36.69759414048726], [126.96038213408511, 36.69759046619018], [126.9603800272188, 36.69759031060175], [126.96028963981188, 36.69758367529398], [126.96024522635841, 36.69758028092016], [126.96016812460866, 36.697561663815115], [126.96015502540341, 36.697555468965255], [126.96012093558862, 36.697539120247804], [126.95951620910802, 36.69741078632063], [126.95901568256255, 36.69730471785764], [126.9573334852382, 36.6979058840437], [126.9572449979556, 36.69793739838921], [126.95702621616043, 36.6980155991984], [126.95702463902857, 36.698017002817565], [126.95691432750286, 36.69811327145389], [126.95663016257191, 36.69836126397235], [126.95653534028271, 36.69844401407306], [126.95620452753143, 36.698732526751336], [126.95471697806022, 36.69889781230946], [126.95457226849278, 36.699105625909226], [126.95441597360916, 36.699330078880685], [126.9539487031023, 36.700001102761426], [126.95343242222398, 36.700742347406624], [126.95326248192947, 36.7009895182487], [126.95310273591595, 36.701209203668455], [126.95310096099763, 36.70121164212238], [126.95306542019435, 36.70128061849819], [126.95294080276318, 36.70147514709407], [126.95248815807139, 36.70238380448846], [126.95241556253507, 36.70252953140773], [126.95241049145002, 36.7025326289941], [126.95235794248731, 36.70256484042769], [126.95205836512967, 36.702748471971965], [126.95186576752035, 36.70286779002687], [126.95134267051864, 36.703192113295756], [126.95133292895537, 36.703198153364916], [126.95129863793501, 36.7032201058309], [126.9512836061493, 36.70322178631469], [126.95108772431902, 36.70324245564699], [126.95105224835764, 36.70324619907012], [126.950365144209, 36.70335657336988], [126.95027473441858, 36.70337033885686], [126.95024659903895, 36.703408536094976], [126.95008761242586, 36.70362437063203], [126.94998297671384, 36.70376641603127], [126.94996194311567, 36.703761147987464], [126.94959782128754, 36.70366994764932], [126.9494151227343, 36.70362424359974], [126.94912578013228, 36.70355174709439], [126.94833903507825, 36.70335427140087], [126.94812342107949, 36.70328351317483], [126.94803767463378, 36.70325537363398], [126.94643577909439, 36.70272966657918], [126.94484794173934, 36.70311808937536], [126.94379454318346, 36.702949470888285], [126.94377758004303, 36.70294665114933], [126.94340366210858, 36.70257926315614], [126.94301072889542, 36.7021932867311], [126.94260379961936, 36.70179355365714], [126.94247475280328, 36.701666787835514], [126.94244913068395, 36.70164161943228], [126.94201435311015, 36.701516092897734], [126.941579156318, 36.70148152354403], [126.94122194750058, 36.70145289519275], [126.94063381127319, 36.701798120166835], [126.94061438315171, 36.70182683825032], [126.94048973890831, 36.70200981105025], [126.94039101121638, 36.7021547947428], [126.94021173774196, 36.70241827185417], [126.94016569830751, 36.702485841838985], [126.93992819494498, 36.70276675145322], [126.93969587625033, 36.702903667020934], [126.93971462020099, 36.702934588409214], [126.940442880671, 36.70412738084218], [126.94050237215696, 36.7042641781013], [126.94096528372243, 36.705328624393836], [126.94129948467561, 36.705896175574395], [126.94149628285535, 36.7062483516395], [126.94158624253524, 36.70628726303301], [126.94220670592611, 36.70655562923171], [126.94232683934848, 36.70697386175868], [126.94131972731539, 36.707192537865964], [126.94110518215788, 36.70755833022197], [126.94054086166238, 36.7085204632855], [126.94030573794024, 36.70892132391251], [126.9399185798313, 36.7092162108453], [126.93957648939885, 36.70947676595911], [126.93949426851879, 36.709855261455594], [126.93947785901251, 36.70993079808205], [126.93947424554686, 36.70997015747994], [126.93939136365616, 36.71039480164993], [126.93936645820791, 36.71051130632044], [126.9392374279474, 36.71111489743792], [126.94021153042931, 36.711793409961516], [126.94026075770708, 36.71182769914427], [126.94030797136502, 36.71217419186431], [126.94034281318213, 36.71242987857119], [126.94055648195098, 36.71291724091618], [126.94129939593954, 36.71392122575268], [126.94155366994084, 36.714264847447396], [126.94173372454735, 36.71451474945903], [126.94182693610674, 36.71464412259819], [126.94158110875533, 36.715308320544544], [126.94147989546373, 36.71559378059529], [126.94124540215799, 36.71625588539209], [126.94124451633247, 36.716273681735004], [126.94129496018019, 36.716541528202264], [126.94130873189509, 36.716614662694504], [126.94136426963082, 36.716862596035064], [126.94140096399789, 36.71713566595064], [126.94140951706197, 36.71719932488525], [126.94143555903015, 36.717393121484335], [126.94145090291217, 36.71750897694987], [126.94146805564331, 36.717585954934755], [126.94152188914343, 36.71782754821934], [126.9417050641902, 36.71862466280107], [126.94211574924623, 36.71873484085066], [126.9427147404364, 36.71871581662544], [126.9429001900652, 36.719025343815865], [126.94341117515924, 36.71931090688828], [126.94363957870632, 36.719956219827765], [126.94367827843327, 36.72006556011001], [126.94388421233414, 36.72046043018138], [126.94404703139045, 36.72051379173219], [126.94439222050771, 36.720626922952704], [126.94435027082707, 36.72082712463274], [126.9442166994139, 36.72146455471706], [126.94422452286516, 36.72147506095559], [126.94452296707341, 36.721875808471864], [126.94460200393085, 36.72235200721101], [126.94518403047068, 36.722991230017044], [126.94524517705769, 36.72314548659509], [126.94527980127546, 36.723232838423556], [126.94530353014451, 36.72329270043468], [126.94411780816068, 36.72424237290972], [126.94398184561759, 36.72508141813283], [126.94384906885776, 36.72592178148712], [126.94330789361075, 36.72624197326434], [126.94307336163693, 36.726389597388895], [126.94292315873192, 36.72651576948913], [126.94207778961021, 36.727660975892874], [126.94204159580585, 36.72771000676989], [126.9418469577898, 36.727979434822856], [126.94182008406223, 36.72801663514565], [126.94180848659204, 36.72803268825794], [126.94272869929809, 36.72951659167868], [126.94273864928637, 36.72953201376964], [126.94275835982033, 36.72956210884042], [126.94299508437754, 36.729923580293836], [126.94353637572853, 36.73075011155789], [126.94376487632901, 36.7308010004186], [126.94426210980944, 36.73079236312849], [126.94484323648746, 36.731062444501745], [126.94505097438773, 36.732100341872815], [126.94521663754898, 36.732403247805664], [126.94532859331801, 36.732607954724344], [126.94545296145091, 36.73327513634911], [126.94541686460406, 36.73336729144163], [126.9452544308553, 36.73378201895908], [126.94522233857826, 36.733916206619874], [126.94594780626359, 36.73432867560911], [126.94621448193203, 36.73448029300702], [126.94631780760434, 36.73539967758057], [126.94631181326874, 36.73547142121646], [126.94629894334314, 36.73550898333493], [126.94619409404713, 36.73582023318951], [126.94606170102307, 36.73607338654254], [126.94594160834922, 36.73638031204753], [126.94580753516753, 36.73657059229017], [126.94568638161483, 36.73673133185155], [126.9450908372917, 36.73715775578148], [126.94532455693701, 36.73758290438027], [126.94590451140414, 36.73821815718057], [126.94606399271737, 36.73858803921552], [126.94628230399206, 36.73938980983776], [126.94658699681638, 36.73981827713173], [126.94666320988014, 36.73991492118291], [126.9468968028658, 36.740544898072116], [126.94706428775088, 36.7412113040268], [126.94711619103003, 36.741416478210795], [126.94718193861542, 36.741676378226124], [126.947190761577, 36.74190020197405], [126.94796972746924, 36.74178069694344], [126.94994052889574, 36.74100548212507], [126.95012537945252, 36.74093276738297], [126.95027180121451, 36.74087517099276], [126.95043597038294, 36.74088218002956], [126.95065293507811, 36.74090256518517], [126.95152495458754, 36.74062430988912], [126.95158001569513, 36.74036929962867], [126.95167785223914, 36.739916215168044], [126.95232992439065, 36.73913330837973], [126.95236598072839, 36.739092441155755], [126.95345832700104, 36.73852555337965], [126.95347035728277, 36.73851879891601], [126.95370343686898, 36.73792359467991], [126.95390946736791, 36.73739745731662], [126.95410558633557, 36.7374415122954], [126.95423718605686, 36.73747107292212], [126.95454150867293, 36.737554355950536], [126.95462507476456, 36.73757722522656], [126.95471185970256, 36.73760550900453], [126.95515790557191, 36.737744842347134], [126.95589891431739, 36.7376933509143], [126.95634507029975, 36.7374172030549], [126.95676797846552, 36.737093272172686], [126.95683103645547, 36.73704497248805], [126.9569428359666, 36.73691433484099], [126.9571631415369, 36.73671405938626], [126.95716989600047, 36.73670792052463], [126.95765519726962, 36.736880853734256], [126.95773829373773, 36.736922748748], [126.95809350667717, 36.73710183397665], [126.9581214422622, 36.73711591775599], [126.9581445807021, 36.73712251550455], [126.95834018898805, 36.737178291133034], [126.95854993446079, 36.73724303369119], [126.95875741376476, 36.73730707504698], [126.95918721735023, 36.73751099821161], [126.95957356799079, 36.7377608796472], [126.95996711379206, 36.73767247389182], [126.96064072873979, 36.73770666187763], [126.96082805825434, 36.737638865475375], [126.96088050614998, 36.73761988370788], [126.96094433336934, 36.73759678325363], [126.96117680405114, 36.737305360805955], [126.9612866335477, 36.73711776779044], [126.96173157577209, 36.73639589756293], [126.96184288756992, 36.736213144391144], [126.96299071528989, 36.736211202171944], [126.96300547517356, 36.736211176821136], [126.9631447532202, 36.73621093976625], [126.96313858926295, 36.73655729885049], [126.96440542944926, 36.73634616323182], [126.96559244763515, 36.73572055016807], [126.96592474149689, 36.735600932677706], [126.96648620605457, 36.73539881682547], [126.967389598572, 36.735073607706276], [126.96740043469434, 36.735076036086156], [126.96742119327529, 36.73506950496513], [126.96756807912534, 36.73502329645309], [126.96772679291418, 36.73497372407928], [126.96775783367524, 36.734964029644054], [126.96784508899371, 36.7349367770887], [126.9681063472979, 36.73473259504894], [126.96842369346172, 36.734487867731616], [126.96872851916339, 36.73424788670497], [126.96880751549578, 36.734185695168854], [126.96915424426808, 36.73374939711142], [126.96950398221524, 36.73372065625913], [126.97022263190225, 36.733331574465744], [126.97091373043676, 36.73263616442567], [126.97092225517547, 36.73262758785019], [126.97095557952548, 36.7326188456641], [126.97101230305533, 36.73260396387356], [126.97121567999089, 36.73255060800852], [126.97133031063608, 36.73257932433099], [126.97204313749766, 36.7327578917082], [126.97271409255158, 36.733096992870074], [126.97286739702814, 36.73295770212353], [126.97337454732221, 36.732496907632076], [126.97355600908438, 36.732552460472846], [126.97391803369405, 36.73266329091026], [126.97463893111727, 36.73343626262792], [126.9747652499445, 36.73379468314551], [126.97560522730238, 36.734085298841386], [126.97636343967264, 36.73406721282553], [126.97716346541712, 36.734726996695045], [126.97906626113577, 36.73588497950702], [126.98014546860985, 36.73645226774134], [126.98015972889404, 36.73642701127741], [126.98019336833642, 36.73642279147691], [126.98028984196428, 36.7364106895512], [126.98029070063563, 36.73641058151835], [126.9803570761638, 36.73640222803658], [126.98051167621857, 36.73638276948532], [126.98140848056129, 36.736269894922245], [126.9816696669496, 36.736113751043234], [126.98230918392693, 36.7357314273296], [126.98243032418448, 36.73554607056447], [126.9824345353277, 36.73553958204875], [126.98245476440738, 36.735536846607594], [126.98283453708267, 36.735485514350614], [126.98347475512097, 36.73539897315537], [126.9852210361279, 36.73472081873398], [126.98637967575202, 36.73441881812795], [126.98736907361625, 36.73423625721568], [126.98823702477853, 36.734008265325215], [126.9886123374497, 36.73398953774016], [126.98857055227494, 36.73554130883259], [126.99011403441537, 36.73651086865616], [126.9903929469557, 36.73657798258188], [126.99094369566355, 36.73665916800102], [126.99220482739372, 36.73684588510992], [126.99308176696846, 36.73697571259925], [126.99382909961038, 36.73750044596796], [126.99420957184456, 36.737767586968836], [126.99555482126051, 36.737802282606694], [126.99555458561626, 36.73781193457864], [126.99589278700564, 36.73824397232736], [126.99595744781709, 36.73837898032003], [126.99596600991414, 36.73839708389942], [126.99613867943415, 36.738473345866886], [126.99757057454262, 36.73910573926215], [126.99762948359874, 36.739236007354286], [126.9983535269318, 36.74084297419194], [126.99836354598229, 36.74086520887364], [126.99847011157864, 36.74110627543998], [126.99878372993344, 36.7418157231035], [126.99871527107025, 36.74273184079952], [126.99864458148917, 36.7431528496267], [126.99861266517291, 36.743346299083434], [126.99859905928567, 36.74342717411874], [126.99850787159565, 36.74396911184823], [126.99851459624789, 36.74411727186549], [126.99849934211635, 36.74419095700376], [126.9986517408276, 36.745889077826234], [126.9986670609877, 36.746059790961255], [126.99876846984154, 36.74586623405193], [126.99877620605633, 36.74585757104058], [126.99936052895718, 36.745203240037235]]], &quot;type&quot;: &quot;Polygon&quot;}, &quot;id&quot;: &quot;0&quot;, &quot;type&quot;: &quot;Feature&quot;}], &quot;type&quot;: &quot;FeatureCollection&quot;});\n",
       "\n",
       "        \n",
       "    \n",
       "        function geo_json_3c24b3a42ea9e7294a200c45fbdf8856_styler(feature) {\n",
       "            switch(feature.id) {\n",
       "                default:\n",
       "                    return {&quot;color&quot;: &quot;black&quot;, &quot;fillColor&quot;: &quot;#ed7953&quot;, &quot;weight&quot;: 1};\n",
       "            }\n",
       "        }\n",
       "\n",
       "        function geo_json_3c24b3a42ea9e7294a200c45fbdf8856_onEachFeature(feature, layer) {\n",
       "            layer.on({\n",
       "            });\n",
       "        };\n",
       "        var geo_json_3c24b3a42ea9e7294a200c45fbdf8856 = L.geoJson(null, {\n",
       "                onEachFeature: geo_json_3c24b3a42ea9e7294a200c45fbdf8856_onEachFeature,\n",
       "            \n",
       "                style: geo_json_3c24b3a42ea9e7294a200c45fbdf8856_styler,\n",
       "        });\n",
       "\n",
       "        function geo_json_3c24b3a42ea9e7294a200c45fbdf8856_add (data) {\n",
       "            geo_json_3c24b3a42ea9e7294a200c45fbdf8856\n",
       "                .addData(data)\n",
       "                .addTo(map_ab3531dfb2a4b421ee56c7d5f162f888);\n",
       "        }\n",
       "            geo_json_3c24b3a42ea9e7294a200c45fbdf8856_add({&quot;features&quot;: [{&quot;geometry&quot;: {&quot;coordinates&quot;: [[[126.99003376698427, 36.922724498810815], [126.99007475484427, 36.92271224745199], [126.99021180903854, 36.922720324915566], [126.99029929260327, 36.922747480447384], [126.99037994606729, 36.922772513458], [126.99037477865626, 36.922730415455355], [126.99035830218148, 36.922592609421095], [126.99035162954371, 36.92253679398375], [126.99034122817932, 36.92244978517927], [126.99029730582392, 36.922418828609864], [126.99027952048887, 36.92240549204162], [126.99043526841608, 36.922358821785906], [126.99049328143553, 36.922342164935074], [126.9905454164453, 36.922321689566814], [126.99068036801954, 36.92226868999441], [126.99073876459431, 36.92224566325572], [126.99131676921267, 36.92192847667777], [126.99182286655316, 36.921654995410876], [126.99187981583081, 36.9216235694622], [126.9919308172289, 36.921596819983336], [126.9920452061313, 36.92154024050156], [126.99205338189374, 36.92153549780349], [126.99213902566957, 36.921485804947366], [126.9921748168679, 36.92146503722595], [126.99232488894566, 36.921378851511086], [126.99242078004146, 36.92135567407742], [126.99249573372703, 36.92138850584226], [126.99280770025103, 36.92144849708171], [126.99299707395546, 36.921453872218585], [126.99322941889679, 36.92146572787769], [126.99327097697133, 36.921468248920135], [126.99345375175906, 36.921479331975526], [126.99369811901957, 36.92146674211653], [126.99432730565879, 36.92100276387334], [126.99446065192627, 36.920904430285134], [126.99451244956995, 36.920866380759215], [126.99456230438105, 36.92082976345311], [126.99484869537905, 36.92061255428939], [126.99497455412212, 36.920518289848445], [126.99522136734765, 36.92033408468544], [126.99515609515778, 36.92021040665846], [126.9950793331206, 36.92006666947384], [126.99484743311895, 36.91962065442021], [126.99466014093058, 36.919239583089414], [126.9946176016181, 36.91917599084332], [126.99451546781334, 36.91902626069726], [126.9944641102023, 36.918942393420444], [126.99440511203446, 36.918836700256215], [126.99434582209132, 36.91872897215839], [126.99433108994472, 36.91869669358981], [126.994318175121, 36.91866497443998], [126.99420233001793, 36.91838741476161], [126.99416692302908, 36.9182785803183], [126.9941378684712, 36.91815985881569], [126.99404370832396, 36.917970309291604], [126.99403139229061, 36.91791698320437], [126.99402102774897, 36.91785987935597], [126.9940034793235, 36.9178348742309], [126.99391334140809, 36.91771870858382], [126.99387982361584, 36.9176744093739], [126.99382098555714, 36.917557327721106], [126.9937355562666, 36.91738824189896], [126.99363090805645, 36.91717828006852], [126.99361460565926, 36.917154356521515], [126.99361503241624, 36.91715433490306], [126.99353185359335, 36.91703214451296], [126.99344579677772, 36.916936395616744], [126.99344547582008, 36.91693603727564], [126.99332535635617, 36.91680449807229], [126.99329048363433, 36.91674450955994], [126.99314294050444, 36.9164887709877], [126.99310670953939, 36.9164315134134], [126.99269798315838, 36.91579899100361], [126.99256696168115, 36.91545422513132], [126.99254492387116, 36.91537903694603], [126.9925362027308, 36.915349282626195], [126.99253904604858, 36.91520648770864], [126.99254019337496, 36.91514108188932], [126.99254019999145, 36.91514076100284], [126.99254475370385, 36.91486586647841], [126.99256309242783, 36.91475378149362], [126.9925855544841, 36.91466864751987], [126.99259995019719, 36.914613538707506], [126.99260962098656, 36.914529073052606], [126.99261340839855, 36.914489128125716], [126.9926284308185, 36.91442108803673], [126.99248049400776, 36.91437757433231], [126.99234575170746, 36.914337940762614], [126.99233332314382, 36.91428898239952], [126.99233010813981, 36.91424084766646], [126.99232576486767, 36.91416036602884], [126.99232476700745, 36.914141880316876], [126.99232339936722, 36.91413176024722], [126.99231148159512, 36.91404334416162], [126.9922918143657, 36.913911064841734], [126.99243996044314, 36.91389234924346], [126.99244241547477, 36.91383629158583], [126.99244529365235, 36.91377058845879], [126.99242751151048, 36.91372143595339], [126.99240314185614, 36.91368177276687], [126.99239615815891, 36.913670406340046], [126.99235230022853, 36.91358563624094], [126.99236358978074, 36.91350543233526], [126.99236649139522, 36.91348481784246], [126.99235726892549, 36.913475868539734], [126.99234915521994, 36.913467993089476], [126.99235375415677, 36.913459416550744], [126.99237224312817, 36.913424932305844], [126.99236028993242, 36.91334423965461], [126.99227887544883, 36.91317899017673], [126.99220903002548, 36.91300032608938], [126.99215714130914, 36.9129034007374], [126.99211077342348, 36.91281328865771], [126.99205950619967, 36.91268870053108], [126.99202162184937, 36.91259743477705], [126.99195942895626, 36.912447579220505], [126.99189049322824, 36.91229140629965], [126.99180001985809, 36.91214298919649], [126.99170303150274, 36.91198303808542], [126.99168489256859, 36.911989140791476], [126.99166792824111, 36.91199484827854], [126.99162407578956, 36.91191053044223], [126.99159374045395, 36.91185109086148], [126.99159336901027, 36.911845150542966], [126.9915874686384, 36.911750772699065], [126.99158811411475, 36.911711025279956], [126.99157369986541, 36.91166200603716], [126.99158443146135, 36.911635333091944], [126.99158363654135, 36.911619114471506], [126.99157451636759, 36.91159750563024], [126.99148655122599, 36.91134405705892], [126.99151205096415, 36.911053972547606], [126.99161803371793, 36.910727146938285], [126.99166186671017, 36.9105256845056], [126.99166429300418, 36.91051361009414], [126.99170253411279, 36.91042704553691], [126.99168686655347, 36.91035579667027], [126.99171865406113, 36.91038713895326], [126.99203313869943, 36.91032260269715], [126.99210870276723, 36.91030709996768], [126.99190379590966, 36.90982674790712], [126.9920323051117, 36.9097880484557], [126.99198331621557, 36.90967501931749], [126.99198541817157, 36.90965360993092], [126.99198635970671, 36.90964400453465], [126.99202182919039, 36.90928221089445], [126.99203170432783, 36.90918146956098], [126.99203300820997, 36.90916817338663], [126.99203882948017, 36.90910878932445], [126.99208043577916, 36.90912333807605], [126.99226455423492, 36.9091877149555], [126.99226502228491, 36.90912488250547], [126.99253972807011, 36.90880835928436], [126.99283772103641, 36.90864460928022], [126.99295233898208, 36.90858294735541], [126.99297046079393, 36.90857318810743], [126.99332291745769, 36.90838840957349], [126.99334465672854, 36.90837701244167], [126.99347688785198, 36.90840904038882], [126.99347951712153, 36.9084096772029], [126.9937295136707, 36.90847184107006], [126.99394414546128, 36.908496706950295], [126.99397702290217, 36.908502078987986], [126.99435871941289, 36.90846044549353], [126.9943651681016, 36.90845658049125], [126.99441525424795, 36.90842655010081], [126.99522918428694, 36.907790958993104], [126.99535285202572, 36.90762145158952], [126.99592593246966, 36.907642061249575], [126.99608307829172, 36.90765407170421], [126.99631342929248, 36.90768496214653], [126.99650854784036, 36.90779046526067], [126.99651347951888, 36.90779365024051], [126.99651569944491, 36.907795083934936], [126.99657840152217, 36.90782690390138], [126.9965788055869, 36.907826911022234], [126.99672115242602, 36.90790129576364], [126.99680623467141, 36.90794575675611], [126.99687063768137, 36.90791363871395], [126.99712939803487, 36.90768469754646], [126.99726031578837, 36.90761568692822], [126.99731713031159, 36.90758985747713], [126.99763003839684, 36.907447611118684], [126.99793383732583, 36.90732144150992], [126.99798810042344, 36.90733373758412], [126.99851855553905, 36.907453901564935], [126.99856694325844, 36.90746486547619], [126.99857211641246, 36.90745689147207], [126.99858966548703, 36.907429868030775], [126.99862442731838, 36.907437844706955], [126.9992179715849, 36.90757394796574], [126.99964445998091, 36.907671666118944], [126.99982302983248, 36.90771258292965], [127.0001253076388, 36.90778183509871], [127.00053102464693, 36.90734646748173], [127.00103279623285, 36.90712729940189], [127.0012655792746, 36.9072005819296], [127.0013882711287, 36.90723920650685], [127.00149943399563, 36.90717685111396], [127.00150821272229, 36.90717192818434], [127.00168394943206, 36.907073351143254], [127.00171905868912, 36.907077641451785], [127.00209827529685, 36.9071239755558], [127.00233420606013, 36.907152802580924], [127.00243439700034, 36.90716504381062], [127.00247737719003, 36.907164018570626], [127.0026395765194, 36.907160148094164], [127.00268039120598, 36.90702702190083], [127.0027194879057, 36.90689949009448], [127.0028519031355, 36.906690057451975], [127.00288793996572, 36.90663648737329], [127.00323228334584, 36.90612494264935], [127.00328223272359, 36.906063640304495], [127.00343825590689, 36.90587218678645], [127.00357151259172, 36.90570866934986], [127.00381296025864, 36.90543793292031], [127.00395684610125, 36.905270146898665], [127.00400400379992, 36.90521647686025], [127.004130865928, 36.90498403801586], [127.00429367553045, 36.904685746795714], [127.00430261545033, 36.90466936872764], [127.00438488078352, 36.90451864547004], [127.00441233347944, 36.904452505360226], [127.00442880176249, 36.90431377990277], [127.00447556161089, 36.90391983299229], [127.00452284043759, 36.903518802817544], [127.00458456398475, 36.90297970571719], [127.00458621275521, 36.90296531466076], [127.00458937493589, 36.902937676822575], [127.00467134605003, 36.90233371108745], [127.00472650428873, 36.9020542991252], [127.00473092326112, 36.90203920566491], [127.00473802378174, 36.90199649398888], [127.00480405729597, 36.901788754595806], [127.00480613113037, 36.901782222329416], [127.00481251558189, 36.90175269405023], [127.00481438771607, 36.90174402451019], [127.00483615135049, 36.90164335491235], [127.00485583461787, 36.90155230591146], [127.00487773934925, 36.90145097522723], [127.00488090966572, 36.90143282244867], [127.0048815823304, 36.90143294604592], [127.00494099895259, 36.901088694263095], [127.00489407946489, 36.9010472701038], [127.00479341706006, 36.90095839144539], [127.00479337401802, 36.90073646183784], [127.00560333250064, 36.90021858665526], [127.00561785817585, 36.90020929907387], [127.00569683143561, 36.900171404424086], [127.00584405949512, 36.900117760449334], [127.0059016671995, 36.90009676910841], [127.00598225587414, 36.90007429215282], [127.00621369260318, 36.9000097297087], [127.00627033998359, 36.89999560684236], [127.00633202556045, 36.89998031316715], [127.00649246441822, 36.89993596312382], [127.00680914820005, 36.89987761658891], [127.00720330710392, 36.8998049925066], [127.00725974838168, 36.89979459309868], [127.00730363916183, 36.89979705757956], [127.00770101927468, 36.89981936956657], [127.00842321311745, 36.89986689670092], [127.00852758204384, 36.89978289155117], [127.00857305111265, 36.89974052402417], [127.00881030518019, 36.89951944937248], [127.00887962789048, 36.89949942448927], [127.00912528650176, 36.8994284571582], [127.00958887927646, 36.899294532197125], [127.00988717615428, 36.89908230352053], [127.00991555770246, 36.89904678090118], [127.01005720678367, 36.89886953622577], [127.01005730739405, 36.898569013342836], [127.01020074376453, 36.898321257283264], [127.01045252751891, 36.89809430762932], [127.01054010977386, 36.8981210358412], [127.0105446861951, 36.898123603991806], [127.01058064289367, 36.89809621643904], [127.01060711723436, 36.8980688889783], [127.01060871029551, 36.898067245887844], [127.01063043931381, 36.898044815380324], [127.01079459481255, 36.8979911141506], [127.01080293168282, 36.89799044714817], [127.0110683989077, 36.897611133654884], [127.011122506041, 36.89753382083395], [127.0111531615779, 36.897490015731485], [127.01120058779902, 36.89742296272555], [127.01120446340691, 36.897418206396395], [127.01087009811071, 36.89714689139872], [127.01098218664134, 36.897013343307535], [127.01148503584965, 36.89665432722253], [127.01179480158925, 36.89677471973499], [127.0118625915535, 36.89684047232995], [127.01185112575509, 36.89680094173882], [127.01183047126696, 36.89672984429825], [127.0117334927889, 36.896395276691756], [127.01168028162635, 36.896150725531214], [127.01162330838726, 36.89545914263022], [127.01158506721265, 36.8953602172114], [127.01158032599258, 36.8953479524301], [127.01154643141771, 36.895259828005344], [127.01150797170565, 36.89516070694752], [127.0114785334356, 36.89508484250869], [127.01145519517658, 36.895059163410394], [127.01134252083247, 36.89477568814014], [127.01131620592975, 36.894732104797455], [127.01108076065098, 36.89431763581233], [127.01099257030933, 36.89416238939874], [127.01086381470624, 36.8939135893363], [127.01086366165806, 36.89391330204522], [127.01056836020862, 36.89339455646594], [127.010433062866, 36.89338565527706], [127.01035072583657, 36.89338023723872], [127.01031371560501, 36.89328545411257], [127.01031051901069, 36.89327565119265], [127.01030805993224, 36.893268108542706], [127.0101727710489, 36.892894347026356], [127.01007662530166, 36.89262872782792], [127.00999672269329, 36.8925010414934], [127.00989789178458, 36.89234312172567], [127.00977249088699, 36.89214463878341], [127.00957623413632, 36.89183722592314], [127.00846643166473, 36.89011024475054], [127.00830246376773, 36.889856408465356], [127.00837350555882, 36.889679313200524], [127.00783092571274, 36.88926810251607], [127.00789049413613, 36.88888608013908], [127.00689383795867, 36.88828677836657], [127.00736240900345, 36.88761720607502], [127.00745882560537, 36.88747942598547], [127.00753090064998, 36.887447524891044], [127.0080787127669, 36.88720504645926], [127.00829065956044, 36.88676824947142], [127.00852369746043, 36.8862879793878], [127.00872285351421, 36.88589693857981], [127.0090327649648, 36.88579539631467], [127.00906843404611, 36.88578370943155], [127.00907401190229, 36.88578188269785], [127.00938049219631, 36.8855959224841], [127.00955214126927, 36.88521507564546], [127.00962815142249, 36.88504642854325], [127.0097211048916, 36.884784996411824], [127.00988385197837, 36.884584204231786], [127.00998211152994, 36.88446297303215], [127.01003355254396, 36.884259628431685], [127.01023864165712, 36.8834488809883], [127.01050813063432, 36.88329898380981], [127.01052274609815, 36.88329085342364], [127.01092721949075, 36.883206480618504], [127.0112376982664, 36.88318243082932], [127.01197014350623, 36.88303303087505], [127.01209663757585, 36.88293624220274], [127.01224369074939, 36.88282371910698], [127.01249415805424, 36.88263206340239], [127.01256316563402, 36.88257925818714], [127.01257036184555, 36.88256958267592], [127.01270686315537, 36.88238605163681], [127.01350235949691, 36.88245746611152], [127.01348614929078, 36.88201482301287], [127.01345092511077, 36.8815611079267], [127.0134003464965, 36.88083282339827], [127.01331845802285, 36.88070859070809], [127.01304586873019, 36.88029505797262], [127.01294454400151, 36.880126635523496], [127.0127844753207, 36.879860539617816], [127.01275843172267, 36.87981624366175], [127.01271185584176, 36.87948243789663], [127.01266227499858, 36.87923768865388], [127.0126194945524, 36.87915149304252], [127.01252640890687, 36.878927399666196], [127.01247981306486, 36.87881781189227], [127.01232813266769, 36.8784610654465], [127.01226884846703, 36.878330863388705], [127.01222732595545, 36.878249569477525], [127.0122648415078, 36.87808028647978], [127.01226855389893, 36.87805709292483], [127.01228240211806, 36.87797055985509], [127.01224882828392, 36.8777067039875], [127.01222579692381, 36.87752662187407], [127.0122384074013, 36.8774697360964], [127.01231588491632, 36.87709849520631], [127.01232625156806, 36.87703888683505], [127.01234271131328, 36.8769594787221], [127.01234578589572, 36.87694464081027], [127.0122976852744, 36.876814994849425], [127.01228430093542, 36.876779024252144], [127.0121137019964, 36.87639434490241], [127.01201072933192, 36.87611022057824], [127.01194064782355, 36.87591684344812], [127.01182454963099, 36.87575222290135], [127.01166070216046, 36.87555683417673], [127.01159118604643, 36.87549127792777], [127.01157761471408, 36.87548863859003], [127.01153625535142, 36.87546542026332], [127.01148041922443, 36.87543339111246], [127.011371949455, 36.875408966546864], [127.01132456559215, 36.87539829683839], [127.01126522605423, 36.87537197920813], [127.011242584086, 36.87536193675998], [127.01124101157257, 36.87536043207853], [127.01119981897469, 36.87531899415917], [127.01116652957049, 36.87529702044722], [127.01096070789656, 36.87516899132449], [127.01093570487595, 36.87514457265068], [127.01092058866593, 36.87514385238356], [127.01081066102103, 36.87508332714091], [127.01013632114905, 36.87472302975386], [127.00994017589476, 36.874332427529474], [127.00964827646976, 36.873847280387416], [127.0088927640682, 36.873389339962166], [127.0092047882234, 36.87297960064808], [127.00930475492774, 36.872856793826834], [127.00957810309325, 36.87252098241356], [127.00990447623872, 36.87157273802191], [127.01000635450161, 36.87104723044411], [127.01003424221493, 36.87088376049155], [127.00997853763802, 36.86988105608632], [127.00996480373504, 36.869633865091096], [127.00952067312893, 36.86893670049495], [127.00953234799654, 36.86868786995756], [127.00930963282477, 36.86841059924261], [127.00919743101741, 36.86827091004599], [127.00911931319588, 36.867749826644925], [127.00906106827375, 36.86736129027013], [127.00909279651754, 36.86670687748906], [127.00924528388477, 36.86641443192273], [127.00929291833157, 36.866323077835084], [127.00905045337244, 36.86645618584419], [127.00894464969866, 36.86651426754002], [127.0085701496603, 36.86681372414568], [127.00828664889306, 36.86675257788515], [127.00801234356213, 36.86669341254774], [127.00797187988721, 36.86668468483919], [127.00796461718959, 36.86667688063515], [127.00767535659436, 36.86636599192742], [127.00742733023785, 36.866103136999264], [127.00732069466497, 36.86598925245255], [127.00694576248162, 36.865672165372565], [127.00674642344251, 36.865554951556305], [127.00652669561913, 36.86541833639965], [127.00625883387391, 36.86488596286358], [127.00620052283334, 36.8647801495312], [127.00557464448431, 36.864672607553075], [127.00556144386721, 36.86467022147969], [127.0055273411679, 36.86466660901111], [127.00552799091363, 36.86466588694513], [127.00545267343855, 36.86465767323972], [127.0053954361704, 36.864651429582416], [127.00521197519973, 36.86463141274043], [127.00519948841891, 36.86462915580206], [127.00480800146707, 36.86455838207097], [127.00422548597874, 36.86462310483137], [127.00394697020155, 36.86478167139731], [127.00367783329752, 36.86493489478728], [127.00356125007454, 36.864922835034896], [127.00314846941424, 36.86488013553244], [127.00274024475618, 36.86489257035466], [127.00256073723217, 36.86489803744315], [127.00252096599898, 36.86482479552499], [127.00249650885179, 36.86477975207196], [127.0024068697864, 36.864800371694045], [127.00239689016756, 36.86480266648255], [127.00237432305238, 36.86479575340382], [127.0019885664952, 36.864677588725954], [127.00160210055434, 36.864914630522165], [127.00135840870182, 36.865064097112395], [127.00023966030867, 36.86518558382928], [127.00009493138633, 36.8651923833395], [126.99926369267087, 36.86523143649239], [126.99917324778968, 36.86523899542154], [126.99908818466153, 36.86523830882937], [126.99857268893098, 36.86539282586768], [126.99828204249634, 36.865479945403266], [126.99786621461655, 36.86551407623906], [126.9976637428571, 36.86527982891836], [126.99743104286246, 36.86501093497018], [126.99740308260873, 36.86497909458474], [126.9974004522973, 36.864976097847496], [126.99739147772158, 36.8649787372145], [126.99737066558173, 36.86498485481158], [126.99733283502194, 36.86499597561623], [126.99712525066735, 36.865056996738225], [126.99708888503832, 36.865088691230014], [126.9970769369324, 36.865099102945265], [126.99690840595855, 36.86525248960769], [126.99662979779043, 36.865295767883865], [126.9966093325372, 36.86530011996681], [126.99657469572907, 36.865307487781905], [126.99619650355935, 36.86538794102828], [126.99614596637603, 36.86535678170266], [126.9957522877541, 36.8651140490518], [126.99538970918083, 36.864982453939305], [126.99507518205989, 36.86471203607663], [126.99506959737045, 36.86470724185898], [126.99488650247555, 36.86468143953553], [126.99463821402979, 36.86464644798383], [126.99385386926728, 36.86452345512608], [126.99361428495364, 36.8644907557433], [126.99352245276388, 36.86445477867653], [126.9932769215404, 36.86435039672394], [126.99265754252723, 36.864178099137696], [126.99265227149753, 36.86417662890364], [126.9926199320535, 36.8641567400076], [126.99119727044632, 36.86334873786793], [126.99077633726216, 36.86304613092537], [126.99049469681246, 36.86267660077921], [126.99024755104494, 36.862372905031215], [126.99023968595124, 36.86236323115281], [126.98937170194355, 36.8617387931417], [126.98896762489355, 36.861399624303786], [126.98861292828894, 36.861102223576374], [126.9885229558678, 36.86091288448478], [126.98780498821438, 36.86055135666907], [126.98773147656922, 36.86057333463201], [126.98744983409138, 36.860590310016015], [126.98737501087355, 36.86059482093876], [126.9871388109962, 36.860609056426895], [126.98702324379667, 36.860538179410135], [126.98693537530048, 36.86052263590067], [126.98681509708919, 36.86050136158434], [126.98642476512845, 36.860882153568134], [126.9862135779884, 36.861006483475215], [126.98605233881774, 36.86110140540883], [126.9860280633775, 36.860920623847804], [126.98585129320948, 36.86081896681772], [126.98577386158742, 36.860707417684374], [126.98568485826787, 36.86060191586316], [126.98556511270627, 36.860602466786546], [126.98508708018517, 36.86036178204444], [126.98480619559804, 36.86025352086542], [126.98461770838172, 36.860276049592095], [126.98415589089429, 36.86017847412256], [126.98401160250761, 36.860147988084776], [126.98387582973022, 36.86017827520673], [126.98378497855072, 36.86019854199978], [126.98273730343193, 36.86004352748981], [126.98256963342013, 36.860361164158704], [126.98223673271698, 36.860698758480964], [126.9821637545546, 36.86077276542447], [126.98185672648366, 36.860990933195616], [126.98172369782897, 36.8609916242672], [126.98168525979594, 36.860991824450515], [126.98164514005593, 36.86099203351361], [126.98109879951922, 36.861012351865455], [126.98090224101495, 36.86092276532359], [126.98069818882816, 36.8608458129443], [126.98048127832973, 36.860678728960636], [126.98004804925873, 36.86043743736326], [126.9789459472202, 36.86023895549729], [126.97854932017326, 36.86016253070627], [126.97776419211826, 36.86005363168453], [126.97760292653163, 36.86008494807634], [126.97742192519667, 36.860113512784935], [126.97697681302073, 36.860394898103735], [126.97651078314985, 36.86029371548658], [126.97555896498261, 36.860451537933145], [126.97542074040534, 36.86047445771751], [126.97526696530109, 36.86050633224094], [126.97494928580757, 36.860276526293006], [126.97470676920321, 36.86020219364427], [126.97468735508913, 36.86019624298811], [126.97469824588272, 36.860158868178246], [126.974701173348, 36.86009731544573], [126.97470949308698, 36.86006876171336], [126.97471122052148, 36.860032401105784], [126.97471532054213, 36.859946059974845], [126.97473094433566, 36.859617397744664], [126.97475097117292, 36.8591961107548], [126.97478766197148, 36.859078319472324], [126.97479509476258, 36.85898361674279], [126.9746312140612, 36.858485093533154], [126.97460455099069, 36.858376099896766], [126.97378621918233, 36.85795661226311], [126.97354737788551, 36.85784552321839], [126.97260213787129, 36.8574407232996], [126.97258312256984, 36.85721327243157], [126.9725367329273, 36.85665843804742], [126.97248710024083, 36.856245542973596], [126.97278385814343, 36.85592658015712], [126.97287815286629, 36.8558599680262], [126.97301350123934, 36.8555454197957], [126.97313740347542, 36.855257465841284], [126.97297423118182, 36.85499486283322], [126.97285118918577, 36.85479684647426], [126.97280933032745, 36.85472947184227], [126.97276938205457, 36.854665176022536], [126.97261440036641, 36.85441589446518], [126.97250270592603, 36.854444081330136], [126.97250874904417, 36.85438674500424], [126.97243733532487, 36.854323551639816], [126.97167330607533, 36.85364747682787], [126.9710012841476, 36.85338408313866], [126.97074730654008, 36.85328453362072], [126.97073435748736, 36.85327945666803], [126.97060827675146, 36.853230041810605], [126.97022623265528, 36.85298673554802], [126.97009064528787, 36.85290038484918], [126.96989594188996, 36.85277638526351], [126.96982265236136, 36.85266210915538], [126.96936590931274, 36.85194994677182], [126.96936116596298, 36.85189682451626], [126.96928921987121, 36.85186413209693], [126.96912037640811, 36.851787410786194], [126.96865797623363, 36.85147212541322], [126.96807863388561, 36.85146779281238], [126.96740678712708, 36.851283606637814], [126.96733940414502, 36.851239311931984], [126.96695873185703, 36.85098907092153], [126.96553111129771, 36.8502304275053], [126.9650863355276, 36.84944760669797], [126.96501238386625, 36.849325359363064], [126.96483906606721, 36.849035051790885], [126.96477461494877, 36.84892530517771], [126.96473364783164, 36.84887403888146], [126.9646541417665, 36.8487786422799], [126.96446910373739, 36.84855157972646], [126.96439858467858, 36.848518952074755], [126.96387546330003, 36.84827691875978], [126.96338974628694, 36.84822017476681], [126.96310729633424, 36.84793731018359], [126.9630479444903, 36.847863139037564], [126.96303675837235, 36.84784996873598], [126.96303245747637, 36.847844904767214], [126.96301967178042, 36.84782966470987], [126.96301536435685, 36.84782906291273], [126.96301468880606, 36.847828145785904], [126.96301515313445, 36.84782686781739], [126.96301572968963, 36.84782493950539], [126.96298917515462, 36.847793100959144], [126.96287376827833, 36.84765473989876], [126.96271162680618, 36.847638424627064], [126.96261905269982, 36.84762911062578], [126.96257307857368, 36.847621572160016], [126.96249807513043, 36.84760953577623], [126.96243159671924, 36.84758573604855], [126.96241996074355, 36.847581569189124], [126.96235790292947, 36.84755935253366], [126.96224702553708, 36.84751966116788], [126.96223305789917, 36.847514661615755], [126.9619624039644, 36.84741658102069], [126.9619554785636, 36.847414070675065], [126.961938263277, 36.84741970978347], [126.96170798530744, 36.84749515211737], [126.96089470810911, 36.84776158583688], [126.96087941847716, 36.84776659529384], [126.96085243445216, 36.84776218739852], [126.96069691305668, 36.84773678749858], [126.96055196466685, 36.84771311208092], [126.95986698233072, 36.84773134277879], [126.95933596255844, 36.84774599156282], [126.9589115274419, 36.84722520288693], [126.95842108474403, 36.84703161232495], [126.95817360546039, 36.84693392617487], [126.95760720221243, 36.84633911985619], [126.95750014784859, 36.84616850158121], [126.95702413721637, 36.8455020696472], [126.95702236133513, 36.84549958253468], [126.95667805406909, 36.845169329910924], [126.95618465766847, 36.84469606362752], [126.95640316416205, 36.844020340603976], [126.95660395087066, 36.84396206359677], [126.95686909189918, 36.84388510825418], [126.95687616301569, 36.84377877244674], [126.95692518019233, 36.84304171771499], [126.95688985692733, 36.84279496683288], [126.95688282652456, 36.84274585227068], [126.95628386574887, 36.842553221015244], [126.95594039095553, 36.84244275380709], [126.95574987221912, 36.84179186927345], [126.95545035672882, 36.8415809597885], [126.95528908786532, 36.84138782693649], [126.95494562095017, 36.84115138929608], [126.95423745308184, 36.840341139340204], [126.9539007770118, 36.84012254260663], [126.95304850531845, 36.83879383267903], [126.95276419847593, 36.83868810692714], [126.9524291143312, 36.83867854291606], [126.95203485756221, 36.83874510722794], [126.95147867853558, 36.838265290089176], [126.9509743868748, 36.838164919996004], [126.95005598299394, 36.83835162161736], [126.9489959340085, 36.83876031207101], [126.94798693925094, 36.83828166586561], [126.94771641833238, 36.83814672180707], [126.9475581383234, 36.83817512147386], [126.94710340761479, 36.838256711351], [126.94668936721982, 36.83850247626458], [126.94631907877627, 36.83873148530374], [126.94600741702912, 36.838924233991136], [126.94597845910519, 36.83896158337192], [126.945609520244, 36.83943745822659], [126.9445229268628, 36.839608665858194], [126.94335626066311, 36.840190968711106], [126.94319087452344, 36.84038549810025], [126.94193941635157, 36.84074319965981], [126.94222681877633, 36.84111273150746], [126.94218028696416, 36.84166920851025], [126.94242043330375, 36.84248118292513], [126.94218711780213, 36.84303185445253], [126.94180266345754, 36.8431787304415], [126.94169697995778, 36.84351583254666], [126.94144744683395, 36.844134493361366], [126.94111862725865, 36.844772178352684], [126.94104574511066, 36.84487744288243], [126.94079046201607, 36.845226994596025], [126.94072954517821, 36.84531520740481], [126.94069748395407, 36.845349838281216], [126.94064650308057, 36.845411136194315], [126.94022563471022, 36.84591717962726], [126.93967518018387, 36.847183110776314], [126.93935608480882, 36.84753329053013], [126.93845396242997, 36.847380649610976], [126.93821386205362, 36.84734002429706], [126.93590233092098, 36.84680459954868], [126.9351583564441, 36.84586380001565], [126.93511100519427, 36.84578386845742], [126.93449017758918, 36.844735898944556], [126.93431655585418, 36.84462923677644], [126.93403719844382, 36.844472260265654], [126.93393425451191, 36.84456522027302], [126.93389722502563, 36.84459865917043], [126.93365879312981, 36.84475533749196], [126.93303177359677, 36.845167361943986], [126.93276676110658, 36.84511501052938], [126.93268467801892, 36.845098794717686], [126.93268407323053, 36.84509837175395], [126.93254259337499, 36.84507072679898], [126.93252294451122, 36.845066846898895], [126.9324175235117, 36.84505952321854], [126.92994176664995, 36.844887510364195], [126.92991373531083, 36.84488556221812], [126.92925834280679, 36.8450345233995], [126.92816652800106, 36.84572804386186], [126.92685309150205, 36.84627735664869], [126.92591277954828, 36.84622766198232], [126.92497518728526, 36.84659964772981], [126.92412307878723, 36.846651221925235], [126.92338103807587, 36.846696128545716], [126.92306377540767, 36.84696627103163], [126.92274220500356, 36.84724007867577], [126.92225254592297, 36.84723705266929], [126.92139492599772, 36.84723174746485], [126.92096287303767, 36.84722907223885], [126.92070808277943, 36.84722749376258], [126.92025372820952, 36.84722468023657], [126.91977737392048, 36.847332584045375], [126.91908534757525, 36.84754424234831], [126.91876664101468, 36.847641719922606], [126.91879034145396, 36.84773343965186], [126.91883442188627, 36.84814264256751], [126.91948023822049, 36.84946534481337], [126.91960869346343, 36.84972842641513], [126.9198245195849, 36.85026567305147], [126.9200853028014, 36.850493145263236], [126.9199579746316, 36.850708524696756], [126.91987232106281, 36.850853411857905], [126.91985263642087, 36.850975433765356], [126.91978349155687, 36.85140394789899], [126.91940726600104, 36.85163219945939], [126.92023773410415, 36.85238232901096], [126.92045257447054, 36.85273831990183], [126.92108662704575, 36.85295812406316], [126.92238322372025, 36.85340759458937], [126.92279063524145, 36.853547878028735], [126.92302649753448, 36.85363760341311], [126.92354179040862, 36.85386567566739], [126.92369302997702, 36.85393260986571], [126.92363244426731, 36.853924765550296], [126.92360701720719, 36.85398788995162], [126.9235015906345, 36.8540594119389], [126.92332460821598, 36.85408968060874], [126.92338304573403, 36.85417848670599], [126.92346760922969, 36.85421555894601], [126.92374317632353, 36.85420007948592], [126.92382306490796, 36.854170304155495], [126.9240368124857, 36.85442185000856], [126.92412838237952, 36.85449384553433], [126.9241670370965, 36.854578879280645], [126.92416494488607, 36.854997159178374], [126.9244044423162, 36.85546085602901], [126.92444844737459, 36.85554605620781], [126.92444915120612, 36.85554733787478], [126.92447270912201, 36.85559030877365], [126.92452179264252, 36.855679837044846], [126.92453142132449, 36.85580634836765], [126.92453423538251, 36.855864465983316], [126.92455195205973, 36.856230543067504], [126.92462177471221, 36.8567855841066], [126.92462271689689, 36.85679308153543], [126.9245796533896, 36.85719927641835], [126.92441569302213, 36.857492772334794], [126.92439955708895, 36.85752165423729], [126.92440815983763, 36.85756716692576], [126.92447392441959, 36.85791507614408], [126.92468198984986, 36.858298212371096], [126.92469522174535, 36.85832257774882], [126.92472827062572, 36.85907939454605], [126.92464283160236, 36.859407635808125], [126.92469576761765, 36.85993778503481], [126.92458421101978, 36.86013886545741], [126.92440687050063, 36.86047653424106], [126.92440571760017, 36.86047873180508], [126.92418714571254, 36.86080293119861], [126.92415346037433, 36.861078166770724], [126.92412940173197, 36.861294297537164], [126.92411885065654, 36.8613905917166], [126.92406989773161, 36.86146084440263], [126.92400112344721, 36.86155955177445], [126.92368060450993, 36.86195534691943], [126.92402897349768, 36.86225506250092], [126.92425931682074, 36.86288453851395], [126.92437226984688, 36.8628721587912], [126.92442510657773, 36.862943207413956], [126.92446009245006, 36.863036357889165], [126.92453904389306, 36.8633788534106], [126.92450093753412, 36.863524049497784], [126.9246809651266, 36.86358875638613], [126.92496283266318, 36.863719976212046], [126.92507884469384, 36.863799589260566], [126.92588062536167, 36.86374853222639], [126.92600370109065, 36.863919578403504], [126.92615592071448, 36.864131123116714], [126.92631669673402, 36.864583971422036], [126.92637452090575, 36.86465248312175], [126.9264559451223, 36.86474895268999], [126.92652525323881, 36.865387620606334], [126.92647520221658, 36.86571236107493], [126.92657626358111, 36.86589888286415], [126.9266622206924, 36.86605752555866], [126.92670203599333, 36.86613100915416], [126.92675865689006, 36.86623523933688], [126.92680343834026, 36.86631708706952], [126.92682489060455, 36.866357186083455], [126.92684825043193, 36.866400853219], [126.92693640632488, 36.86645091036691], [126.9270835409683, 36.86653444317117], [126.927757673533, 36.8669171708426], [126.92778066549468, 36.86693022456614], [126.9277758164248, 36.86693444885493], [126.92703604047938, 36.867579009689386], [126.9269471429925, 36.86765645739558], [126.9269418224055, 36.867663113292], [126.92667122169932, 36.868001528822255], [126.92638650262116, 36.86825825105344], [126.92598899716056, 36.86864306485797], [126.92590673119254, 36.868713955993606], [126.92548815263385, 36.86907466246987], [126.92530846522514, 36.86922950662012], [126.92512879742029, 36.86938433255778], [126.92469859990165, 36.869174560461765], [126.92466940025705, 36.869145460935044], [126.92421796460197, 36.86869556059035], [126.92416299562164, 36.86867431933603], [126.92385584291404, 36.868555627840976], [126.92372959784706, 36.86849655855181], [126.92366459491787, 36.868467780971145], [126.92350739381915, 36.86839818563916], [126.92331080993866, 36.8684026785007], [126.92322993805482, 36.868410061975744], [126.92221118022039, 36.86850307969134], [126.92108588452501, 36.868805353399615], [126.91951424710702, 36.869239149280254], [126.91891663932903, 36.86888417675536], [126.91881390167046, 36.868823151066664], [126.91764693158245, 36.868033244154404], [126.91741289205133, 36.86806627474022], [126.91691570706551, 36.86813644117096], [126.91670099715066, 36.86824544742363], [126.91552559582759, 36.8688432548556], [126.91525830537408, 36.86893024249678], [126.91490595159509, 36.8690449198034], [126.91455344886766, 36.86918412557105], [126.9143239619503, 36.869271535290856], [126.91421674386989, 36.86934249904736], [126.91407643293665, 36.869434802740926], [126.91403777774482, 36.86946023136167], [126.91400570564343, 36.86948132941248], [126.91398917518357, 36.8696172730294], [126.91397981337913, 36.86969425572638], [126.91394934667181, 36.87000397694121], [126.91406017310644, 36.87040972127613], [126.91433303598377, 36.87059407846168], [126.91428398452486, 36.87071819527545], [126.91440682965612, 36.870857667090114], [126.91457194012591, 36.87104512559212], [126.91473071635325, 36.87142410703002], [126.9141288177453, 36.87165506750015], [126.91366990814448, 36.87201899644178], [126.9138580948227, 36.87233387058165], [126.91386600487586, 36.8725429988973], [126.91389294374318, 36.8732553287325], [126.91452460075983, 36.87380171840053], [126.91475152596843, 36.8739980088007], [126.9151211535505, 36.874391686461905], [126.91540599093307, 36.87471336726936], [126.91545738205265, 36.87472464837644], [126.91571214693968, 36.87478055782914], [126.91630494841083, 36.87582971385566], [126.91629714583414, 36.87588453589463], [126.91627066320402, 36.87607057839917], [126.91622501589919, 36.876391327568854], [126.91606499533354, 36.87651045389508], [126.91575570575255, 36.8767455838437], [126.91547814187825, 36.87695659481498], [126.9156836664262, 36.877102915397145], [126.91604443166125, 36.87735975529526], [126.91626558439248, 36.87758305242118], [126.91653739094876, 36.87785748639826], [126.91699710010025, 36.87798821153378], [126.91700671138572, 36.87793838695522], [126.9171819528226, 36.87805443718686], [126.91749075511838, 36.8782585733778], [126.91775217446906, 36.87842081528857], [126.91776286481777, 36.87842745004067], [126.91785130913871, 36.878487391538705], [126.91789543650309, 36.87851729238717], [126.9183409646138, 36.87864617422845], [126.9185842649416, 36.878707193941494], [126.91878147814218, 36.878788124315214], [126.9187998084181, 36.87879587627446], [126.91910450733666, 36.87892169201207], [126.91916207942721, 36.87894551203469], [126.919515089496, 36.87909194999272], [126.91965460888305, 36.879149940089505], [126.91970914458786, 36.87917231712518], [126.91986501988141, 36.87923597762285], [126.9200104583404, 36.87929686460601], [126.9203656221404, 36.879445609245494], [126.92038837170128, 36.87945513132476], [126.92038427932164, 36.879464490032824], [126.92042272189241, 36.87947976957206], [126.92042504441936, 36.879480693164744], [126.92037642699275, 36.87974062483336], [126.92021212310799, 36.87983520016627], [126.92014955545403, 36.87985486918274], [126.9200138357376, 36.879897535890386], [126.91995801161127, 36.87993119213512], [126.91983063791335, 36.8800079849271], [126.91970631384577, 36.88006817337391], [126.91957554411684, 36.880104045194365], [126.91935732493666, 36.8801417053809], [126.91921419847466, 36.88018434399415], [126.91897191695737, 36.88022218334778], [126.91887501012015, 36.880237318978836], [126.91881531835605, 36.88025232463949], [126.91859362418543, 36.880308056684775], [126.91830763271213, 36.88037995387794], [126.91824072180857, 36.88041200815514], [126.91814323172156, 36.88045871084537], [126.91800914944679, 36.8804748843018], [126.9179997374075, 36.88047601910385], [126.9177739598932, 36.88053143033414], [126.91744817599674, 36.88059536721493], [126.91745756443066, 36.88062245667731], [126.91746413743299, 36.880641422911665], [126.91745286952141, 36.880646082248845], [126.91745068304019, 36.880652657509415], [126.91746737934572, 36.880706561207944], [126.91747949566232, 36.8807066206011], [126.91748623265124, 36.880705180658744], [126.91753465964743, 36.880844906283365], [126.91755405374333, 36.88090086767523], [126.91758827086555, 36.88095244855875], [126.91760790785393, 36.88098204918819], [126.9176596577137, 36.88103653029431], [126.91812314373108, 36.881283332815265], [126.91829172128546, 36.88133677744944], [126.91862606132037, 36.88123810767944], [126.91878740996167, 36.88120246400616], [126.91892446125858, 36.88118912392473], [126.91925766988558, 36.881171802517926], [126.91927076963516, 36.88117048010766], [126.91976972239536, 36.88112007086126], [126.92000971484073, 36.8811142976533], [126.92031160752408, 36.881062673592425], [126.92043104259884, 36.88103365078564], [126.92057317635552, 36.88104083792478], [126.92085853746502, 36.88095320374989], [126.92099952129716, 36.880964652229906], [126.92103301425456, 36.88096650472512], [126.9212406039163, 36.88096868960048], [126.92138636035524, 36.88095439747852], [126.92154891089761, 36.880897220303005], [126.92170200794972, 36.88084337011909], [126.92181839087718, 36.88081482144844], [126.9218265425804, 36.880817727714216], [126.92183498528533, 36.880821626988194], [126.92188593114959, 36.88084411536867], [126.92196334391096, 36.88084989882624], [126.92207255317389, 36.88083874361109], [126.92233306997495, 36.88076929887813], [126.92236434024717, 36.880770067470074], [126.92242047494848, 36.88077587160014], [126.92250784135422, 36.88078935637517], [126.92257426476364, 36.88081440586835], [126.92268155275436, 36.880849764498286], [126.92292892383286, 36.8809205740189], [126.92295333148422, 36.880926972028384], [126.92301613464663, 36.88094343813509], [126.92305537539956, 36.88095063651175], [126.92322473391744, 36.8809790880057], [126.92324679377505, 36.88098224737537], [126.92338335376031, 36.88104454749079], [126.92354128249308, 36.88111659480104], [126.9236490238653, 36.88114698777877], [126.92376468884473, 36.881161984485026], [126.92404415443616, 36.88120031127957], [126.92418919851467, 36.88125727354976], [126.92466912381987, 36.881319219807544], [126.92491298233767, 36.88139560078377], [126.9251408862733, 36.88151186167502], [126.92527257358189, 36.88154608839281], [126.9254462216708, 36.88162745084558], [126.92550420349052, 36.88163845479341], [126.92556683879745, 36.88165051606988], [126.92573552096947, 36.88168330570226], [126.9259224070597, 36.88175262858802], [126.92619477590222, 36.88182412359787], [126.92638683062636, 36.8818626411833], [126.92663001295587, 36.88193626956668], [126.92666785831791, 36.8819477094465], [126.92669393178008, 36.88195442121818], [126.92700605633102, 36.88204891640678], [126.92757818484479, 36.88226812222631], [126.92773900598414, 36.88230321131253], [126.92778961757342, 36.882314317477785], [126.92783188286829, 36.8823148581268], [126.92784945943984, 36.88231527448651], [126.92792744802951, 36.88236657636468], [126.92802468238266, 36.88240966308051], [126.92837303158252, 36.882513774409716], [126.92877590083727, 36.88277062676281], [126.92883527144295, 36.88279482935927], [126.92887624280243, 36.88281244405841], [126.92890161880455, 36.88282216463426], [126.92893403590095, 36.8828345116063], [126.92895726470097, 36.88293155414888], [126.92900407018566, 36.8829821880382], [126.92922009785396, 36.883107959232], [126.92948340512916, 36.88330617023636], [126.92950229058063, 36.88332104104668], [126.92961878875177, 36.88344548989492], [126.92981237640365, 36.88354273505054], [126.92982225210923, 36.88354899521616], [126.92987730694512, 36.883586289048495], [126.93006611249918, 36.883711627013625], [126.93026088275406, 36.883827488407626], [126.93031586710482, 36.883855293056286], [126.93070073249653, 36.88405103354608], [126.93089343634448, 36.88404034413429], [126.93093545802104, 36.88403785545355], [126.9309805661263, 36.88403561050486], [126.9311016631307, 36.884028915618934], [126.93111109827615, 36.88402712003129], [126.93137859277277, 36.883985294863926], [126.9314135644705, 36.88393957668905], [126.93147868998176, 36.883931270437145], [126.93151856054556, 36.88398915385836], [126.93164634589179, 36.88399211246994], [126.93168514081745, 36.88401103190661], [126.93174778955392, 36.88415947728935], [126.93186912495054, 36.88415091676433], [126.9319870216549, 36.88414936556507], [126.93201427862513, 36.88415038647941], [126.93210849981797, 36.884153948591184], [126.93242870294938, 36.88421432852358], [126.93250106042258, 36.88420959533874], [126.93254896036746, 36.8842064688911], [126.93269072726707, 36.88422961887573], [126.93282819947325, 36.8842893578044], [126.93283313454631, 36.884291521396584], [126.93297304379689, 36.88434617680475], [126.93303435602452, 36.88430664337182], [126.93314624803662, 36.88427429054056], [126.93322037274666, 36.88431650014618], [126.93328464214885, 36.88444561098234], [126.9334533654995, 36.884445862021195], [126.93345960253805, 36.88444587192498], [126.93351512806811, 36.884445905862805], [126.93356526872562, 36.884446024083545], [126.9336026712286, 36.88451894381771], [126.93359938644411, 36.88453643428351], [126.93358339933465, 36.88462156656212], [126.93356435174346, 36.88472328892258], [126.93365969409423, 36.88472983173267], [126.93368022168949, 36.88473128534114], [126.93369132953252, 36.884726064806216], [126.93369771938445, 36.88473273712718], [126.93371678856343, 36.8847338286086], [126.9337771333001, 36.884737467744884], [126.93411038891645, 36.884757113017464], [126.93420001072785, 36.88476239857714], [126.9342074408537, 36.884762841408865], [126.93432256749851, 36.88476969423195], [126.93429369791053, 36.88479495780475], [126.93425007950596, 36.88483312659706], [126.93427757686108, 36.8849321085013], [126.93424416117537, 36.88503387795079], [126.934158440169, 36.885145636984134], [126.93404983925909, 36.88521394897096], [126.93369248808223, 36.885422529078156], [126.93364523721198, 36.88545011175481], [126.9334394880549, 36.88553490373932], [126.933470252022, 36.885653082399536], [126.9334203677538, 36.885715661061745], [126.93339170078143, 36.88581243182937], [126.93339930615885, 36.886001782968506], [126.93343878785004, 36.88624780326057], [126.93346000688015, 36.88632766092646], [126.93346829203911, 36.886358816603206], [126.93352918986182, 36.88647581376698], [126.93362199012793, 36.88659526165076], [126.93372937782927, 36.886733478609514], [126.93375242724309, 36.88678862003124], [126.93381367450617, 36.88681645470705], [126.93382249419994, 36.88689014140703], [126.93384020382955, 36.88700855522686], [126.93384473737697, 36.887045366712215], [126.9338811795821, 36.88712604502534], [126.9339272612169, 36.88724176164443], [126.93391144850939, 36.88792825049191], [126.93390667490189, 36.88813551742866], [126.93348544710557, 36.888518168442594], [126.93350691840001, 36.88854361950979], [126.9333727664455, 36.88862725440616], [126.93317171671943, 36.88877770985918], [126.93310188495785, 36.88883975508789], [126.93295206782321, 36.888915172892155], [126.9328898823458, 36.88898031219157], [126.93285832517878, 36.88906943912621], [126.9327627573663, 36.88918184056387], [126.93267207394749, 36.88940305010451], [126.9327077120149, 36.88940613553129], [126.93270745288063, 36.88940657600333], [126.93270784553732, 36.88940659410398], [126.9327895559489, 36.88941101183862], [126.93280023704571, 36.889459326314174], [126.93265314829628, 36.8896247500394], [126.93257606037848, 36.88971144733581], [126.93254853267237, 36.889747646009276], [126.93260774993588, 36.88987746495585], [126.93256349540945, 36.88992404415388], [126.93245682058455, 36.89003698904124], [126.9324080980207, 36.89008858412588], [126.93227222799474, 36.89023244423863], [126.93225879907224, 36.89024666621184], [126.93220888577092, 36.89029928677826], [126.93218982900247, 36.89031997407391], [126.93181838487811, 36.890723231351984], [126.9318083336729, 36.89073414488666], [126.93177790149593, 36.89076812634743], [126.93166480718257, 36.89092859834506], [126.93164827185284, 36.89116318755619], [126.9316911879726, 36.891267955267566], [126.93174592787501, 36.891360106965806], [126.93208314209636, 36.89163484857809], [126.93226092313057, 36.89178109072746], [126.93243871824325, 36.89192734169152], [126.93266537174114, 36.89210913355185], [126.93313951732164, 36.89249293027212], [126.93323215012575, 36.89256790919166], [126.93331553423558, 36.89263513836259], [126.93337889687565, 36.89268622624699], [126.93387579608972, 36.893114771773696], [126.93392656045984, 36.89314244645845], [126.93397664883442, 36.893144944097166], [126.93409851501966, 36.89307185291536], [126.93447831694017, 36.892861292888234], [126.93468142259616, 36.89284589991581], [126.9347846214842, 36.89280932877015], [126.93496823415187, 36.892787308893155], [126.93507810885804, 36.89274822715611], [126.93530145622725, 36.892624029154796], [126.93555341000022, 36.89243647951216], [126.93569973397139, 36.89235776964626], [126.93574750732694, 36.892275238270244], [126.93585457674291, 36.892431754689866], [126.93550635570149, 36.89268742615326], [126.93513620442707, 36.89295134873813], [126.93555149867213, 36.89305485403267], [126.93565780641121, 36.89309539765234], [126.93564694450949, 36.893116456147204], [126.93565480612352, 36.893126696062346], [126.93588930280656, 36.89319220894119], [126.935901242996, 36.89318780166194], [126.93590834112207, 36.89317582267808], [126.93598350842824, 36.89319820365244], [126.93601468485524, 36.89326338742331], [126.93593403782839, 36.893573571083785], [126.93593367725181, 36.89360182973079], [126.93592328378682, 36.8936068158728], [126.93587458658571, 36.89362843214989], [126.93446489732838, 36.89359471107117], [126.93348157076672, 36.89357117396206], [126.93326771246433, 36.89356543776325], [126.93312214053428, 36.89356153420155], [126.92899417413871, 36.89345072252185], [126.92787296786966, 36.89341817040627], [126.92571091422012, 36.89339348133792], [126.9257152167958, 36.893364170869106], [126.92572078105137, 36.89333033943387], [126.92551625533986, 36.89331557485547], [126.92550820163709, 36.89331557017175], [126.92513792703981, 36.89331529558264], [126.9249151004, 36.89333831119157], [126.92479236226664, 36.89339895594645], [126.92477535072751, 36.89352541322703], [126.92480899983963, 36.89363403454093], [126.92525779923994, 36.893700005212125], [126.92526743388767, 36.89370141660468], [126.92539300893193, 36.893698621880795], [126.92539997389319, 36.893700141146084], [126.92533683707869, 36.893920143888735], [126.92521751276115, 36.89391339362619], [126.92519406146948, 36.89391628019427], [126.92504861556237, 36.893934153504055], [126.92496911988562, 36.893932247171605], [126.92496980591304, 36.89398681683967], [126.92503169667472, 36.894068946031965], [126.92511109353258, 36.89411307919525], [126.92512596682364, 36.89417141523516], [126.92513837169064, 36.89422008303781], [126.92521866394175, 36.89433192809026], [126.92517518906314, 36.894483423969646], [126.9251766009607, 36.894483423588504], [126.92491622010853, 36.89539529615176], [126.92501351578719, 36.89505363757018], [126.92506475347335, 36.894873704447356], [126.92490760080582, 36.89492733538447], [126.92481721966521, 36.89505046633643], [126.92479026860558, 36.89509851275559], [126.92464652882188, 36.895133995457094], [126.92448050980865, 36.89519078302403], [126.92433207135299, 36.895223008195934], [126.92418524366367, 36.89526161421155], [126.9240698693468, 36.895370301284046], [126.9239787232421, 36.895350939903395], [126.92384212568669, 36.895333802787746], [126.92371601278664, 36.89533313350269], [126.92352549757015, 36.89538348899239], [126.92337439204944, 36.89542252397034], [126.92330134289851, 36.89547982052048], [126.9232625933801, 36.895512252164885], [126.92317225419353, 36.89560222145264], [126.92312844655568, 36.89569916842225], [126.9230630330787, 36.89570462187511], [126.92248670822318, 36.8956501115247], [126.92236045280286, 36.89536447140317], [126.92226485041121, 36.89514928576314], [126.92225120969299, 36.89511858109003], [126.92192257181203, 36.89516298705758], [126.92018824802626, 36.895397315813334], [126.92017416165262, 36.89539921943754], [126.91701489215072, 36.90535132800181], [126.91676808376346, 36.90612869398879], [126.91674272489313, 36.9062085221801], [126.92083980890294, 36.90820051052935], [126.92664910635625, 36.9110245477129], [126.92665701194133, 36.91102839266354], [126.92665734301751, 36.91102855381689], [126.93160746585751, 36.91343477452216], [126.93308803476836, 36.914154346619846], [126.93485886235838, 36.91501494752856], [126.93962571458218, 36.91733135319492], [126.94274023028741, 36.91802447299865], [126.94497366600788, 36.91852145533332], [126.95218937753708, 36.920126757518986], [126.95224351717486, 36.92013879986091], [126.95420020057385, 36.92057352202681], [126.95468133288688, 36.920715587968076], [126.95612631480313, 36.921142237503766], [126.9563190620858, 36.921199156275435], [126.95641479273316, 36.92122742645368], [126.96523727119268, 36.92383230112804], [126.96661720495578, 36.92416168829148], [126.97177139291281, 36.925391811097526], [126.97374548076498, 36.92586288596515], [126.97848898964948, 36.92770440555994], [126.97978288259573, 36.92820667107087], [126.98427168550623, 36.93153833432248], [126.98485910631294, 36.931974318940384], [126.98535448227828, 36.9323406890587], [126.98537291272022, 36.93235432030834], [126.98555104201503, 36.93248605812078], [126.98555158935292, 36.93248615243864], [126.98555284262468, 36.93248245834458], [126.98835854213317, 36.924222485689754], [126.98838463215446, 36.92414566699415], [126.9883981298937, 36.92397698374473], [126.9888145073836, 36.923667704054175], [126.98893017142485, 36.92361332721334], [126.9892379190581, 36.92335436957873], [126.98935569935773, 36.923254945414016], [126.9895830277078, 36.923084961668124], [126.98979982738992, 36.9229187940469], [126.9898826852284, 36.92285528614962], [126.99003376698427, 36.922724498810815]]], &quot;type&quot;: &quot;Polygon&quot;}, &quot;id&quot;: &quot;0&quot;, &quot;type&quot;: &quot;Feature&quot;}], &quot;type&quot;: &quot;FeatureCollection&quot;});\n",
       "\n",
       "        \n",
       "    \n",
       "        function geo_json_af93d6a689dcfd5ec24024c256e8e9b0_styler(feature) {\n",
       "            switch(feature.id) {\n",
       "                default:\n",
       "                    return {&quot;color&quot;: &quot;black&quot;, &quot;fillColor&quot;: &quot;#fb9f3a&quot;, &quot;weight&quot;: 1};\n",
       "            }\n",
       "        }\n",
       "\n",
       "        function geo_json_af93d6a689dcfd5ec24024c256e8e9b0_onEachFeature(feature, layer) {\n",
       "            layer.on({\n",
       "            });\n",
       "        };\n",
       "        var geo_json_af93d6a689dcfd5ec24024c256e8e9b0 = L.geoJson(null, {\n",
       "                onEachFeature: geo_json_af93d6a689dcfd5ec24024c256e8e9b0_onEachFeature,\n",
       "            \n",
       "                style: geo_json_af93d6a689dcfd5ec24024c256e8e9b0_styler,\n",
       "        });\n",
       "\n",
       "        function geo_json_af93d6a689dcfd5ec24024c256e8e9b0_add (data) {\n",
       "            geo_json_af93d6a689dcfd5ec24024c256e8e9b0\n",
       "                .addData(data)\n",
       "                .addTo(map_ab3531dfb2a4b421ee56c7d5f162f888);\n",
       "        }\n",
       "            geo_json_af93d6a689dcfd5ec24024c256e8e9b0_add({&quot;features&quot;: [{&quot;geometry&quot;: {&quot;coordinates&quot;: [[[126.92192257181203, 36.89516298705758], [126.92225120969299, 36.89511858109003], [126.92226485041121, 36.89514928576314], [126.92236045280286, 36.89536447140317], [126.92248670822318, 36.8956501115247], [126.9230630330787, 36.89570462187511], [126.92312844655568, 36.89569916842225], [126.92317225419353, 36.89560222145264], [126.9232625933801, 36.895512252164885], [126.92330134289851, 36.89547982052048], [126.92337439204944, 36.89542252397034], [126.92352549757015, 36.89538348899239], [126.92371601278664, 36.89533313350269], [126.92384212568669, 36.895333802787746], [126.9239787232421, 36.895350939903395], [126.9240698693468, 36.895370301284046], [126.92418524366367, 36.89526161421155], [126.92433207135299, 36.895223008195934], [126.92448050980865, 36.89519078302403], [126.92464652882188, 36.895133995457094], [126.92479026860558, 36.89509851275559], [126.92481721966521, 36.89505046633643], [126.92490760080582, 36.89492733538447], [126.92506475347335, 36.894873704447356], [126.92501351578719, 36.89505363757018], [126.92491622010853, 36.89539529615176], [126.9251766009607, 36.894483423588504], [126.92517518906314, 36.894483423969646], [126.92521866394175, 36.89433192809026], [126.92513837169064, 36.89422008303781], [126.92512596682364, 36.89417141523516], [126.92511109353258, 36.89411307919525], [126.92503169667472, 36.894068946031965], [126.92496980591304, 36.89398681683967], [126.92496911988562, 36.893932247171605], [126.92504861556237, 36.893934153504055], [126.92519406146948, 36.89391628019427], [126.92521751276115, 36.89391339362619], [126.92533683707869, 36.893920143888735], [126.92539997389319, 36.893700141146084], [126.92539300893193, 36.893698621880795], [126.92526743388767, 36.89370141660468], [126.92525779923994, 36.893700005212125], [126.92480899983963, 36.89363403454093], [126.92477535072751, 36.89352541322703], [126.92479236226664, 36.89339895594645], [126.9249151004, 36.89333831119157], [126.92513792703981, 36.89331529558264], [126.92550820163709, 36.89331557017175], [126.92551625533986, 36.89331557485547], [126.92572078105137, 36.89333033943387], [126.9257152167958, 36.893364170869106], [126.92571091422012, 36.89339348133792], [126.92787296786966, 36.89341817040627], [126.92899417413871, 36.89345072252185], [126.93312214053428, 36.89356153420155], [126.93326771246433, 36.89356543776325], [126.93348157076672, 36.89357117396206], [126.93446489732838, 36.89359471107117], [126.93587458658571, 36.89362843214989], [126.93592328378682, 36.8936068158728], [126.93593367725181, 36.89360182973079], [126.93593403782839, 36.893573571083785], [126.93601468485524, 36.89326338742331], [126.93598350842824, 36.89319820365244], [126.93590834112207, 36.89317582267808], [126.935901242996, 36.89318780166194], [126.93588930280656, 36.89319220894119], [126.93565480612352, 36.893126696062346], [126.93564694450949, 36.893116456147204], [126.93565780641121, 36.89309539765234], [126.93555149867213, 36.89305485403267], [126.93513620442707, 36.89295134873813], [126.93550635570149, 36.89268742615326], [126.93585457674291, 36.892431754689866], [126.93574750732694, 36.892275238270244], [126.93569973397139, 36.89235776964626], [126.93555341000022, 36.89243647951216], [126.93530145622725, 36.892624029154796], [126.93507810885804, 36.89274822715611], [126.93496823415187, 36.892787308893155], [126.9347846214842, 36.89280932877015], [126.93468142259616, 36.89284589991581], [126.93447831694017, 36.892861292888234], [126.93409851501966, 36.89307185291536], [126.93397664883442, 36.893144944097166], [126.93392656045984, 36.89314244645845], [126.93387579608972, 36.893114771773696], [126.93337889687565, 36.89268622624699], [126.93331553423558, 36.89263513836259], [126.93323215012575, 36.89256790919166], [126.93313951732164, 36.89249293027212], [126.93266537174114, 36.89210913355185], [126.93243871824325, 36.89192734169152], [126.93226092313057, 36.89178109072746], [126.93208314209636, 36.89163484857809], [126.93174592787501, 36.891360106965806], [126.9316911879726, 36.891267955267566], [126.93164827185284, 36.89116318755619], [126.93166480718257, 36.89092859834506], [126.93177790149593, 36.89076812634743], [126.9318083336729, 36.89073414488666], [126.93181838487811, 36.890723231351984], [126.93218982900247, 36.89031997407391], [126.93220888577092, 36.89029928677826], [126.93225879907224, 36.89024666621184], [126.93227222799474, 36.89023244423863], [126.9324080980207, 36.89008858412588], [126.93245682058455, 36.89003698904124], [126.93256349540945, 36.88992404415388], [126.93260774993588, 36.88987746495585], [126.93254853267237, 36.889747646009276], [126.93257606037848, 36.88971144733581], [126.93265314829628, 36.8896247500394], [126.93280023704571, 36.889459326314174], [126.9327895559489, 36.88941101183862], [126.93270784553732, 36.88940659410398], [126.93270745288063, 36.88940657600333], [126.9327077120149, 36.88940613553129], [126.93267207394749, 36.88940305010451], [126.9327627573663, 36.88918184056387], [126.93285832517878, 36.88906943912621], [126.9328898823458, 36.88898031219157], [126.93295206782321, 36.888915172892155], [126.93310188495785, 36.88883975508789], [126.93317171671943, 36.88877770985918], [126.9333727664455, 36.88862725440616], [126.93350691840001, 36.88854361950979], [126.93348544710557, 36.888518168442594], [126.93390667490189, 36.88813551742866], [126.93391144850939, 36.88792825049191], [126.9339272612169, 36.88724176164443], [126.9338811795821, 36.88712604502534], [126.93384473737697, 36.887045366712215], [126.93384020382955, 36.88700855522686], [126.93382249419994, 36.88689014140703], [126.93381367450617, 36.88681645470705], [126.93375242724309, 36.88678862003124], [126.93372937782927, 36.886733478609514], [126.93362199012793, 36.88659526165076], [126.93352918986182, 36.88647581376698], [126.93346829203911, 36.886358816603206], [126.93346000688015, 36.88632766092646], [126.93343878785004, 36.88624780326057], [126.93339930615885, 36.886001782968506], [126.93339170078143, 36.88581243182937], [126.9334203677538, 36.885715661061745], [126.933470252022, 36.885653082399536], [126.9334394880549, 36.88553490373932], [126.93364523721198, 36.88545011175481], [126.93369248808223, 36.885422529078156], [126.93404983925909, 36.88521394897096], [126.934158440169, 36.885145636984134], [126.93424416117537, 36.88503387795079], [126.93427757686108, 36.8849321085013], [126.93425007950596, 36.88483312659706], [126.93429369791053, 36.88479495780475], [126.93432256749851, 36.88476969423195], [126.9342074408537, 36.884762841408865], [126.93420001072785, 36.88476239857714], [126.93411038891645, 36.884757113017464], [126.9337771333001, 36.884737467744884], [126.93371678856343, 36.8847338286086], [126.93369771938445, 36.88473273712718], [126.93369132953252, 36.884726064806216], [126.93368022168949, 36.88473128534114], [126.93365969409423, 36.88472983173267], [126.93356435174346, 36.88472328892258], [126.93358339933465, 36.88462156656212], [126.93359938644411, 36.88453643428351], [126.9336026712286, 36.88451894381771], [126.93356526872562, 36.884446024083545], [126.93351512806811, 36.884445905862805], [126.93345960253805, 36.88444587192498], [126.9334533654995, 36.884445862021195], [126.93328464214885, 36.88444561098234], [126.93322037274666, 36.88431650014618], [126.93314624803662, 36.88427429054056], [126.93303435602452, 36.88430664337182], [126.93297304379689, 36.88434617680475], [126.93283313454631, 36.884291521396584], [126.93282819947325, 36.8842893578044], [126.93269072726707, 36.88422961887573], [126.93254896036746, 36.8842064688911], [126.93250106042258, 36.88420959533874], [126.93242870294938, 36.88421432852358], [126.93210849981797, 36.884153948591184], [126.93201427862513, 36.88415038647941], [126.9319870216549, 36.88414936556507], [126.93186912495054, 36.88415091676433], [126.93174778955392, 36.88415947728935], [126.93168514081745, 36.88401103190661], [126.93164634589179, 36.88399211246994], [126.93151856054556, 36.88398915385836], [126.93147868998176, 36.883931270437145], [126.9314135644705, 36.88393957668905], [126.93137859277277, 36.883985294863926], [126.93111109827615, 36.88402712003129], [126.9311016631307, 36.884028915618934], [126.9309805661263, 36.88403561050486], [126.93093545802104, 36.88403785545355], [126.93089343634448, 36.88404034413429], [126.93070073249653, 36.88405103354608], [126.93031586710482, 36.883855293056286], [126.93026088275406, 36.883827488407626], [126.93006611249918, 36.883711627013625], [126.92987730694512, 36.883586289048495], [126.92982225210923, 36.88354899521616], [126.92981237640365, 36.88354273505054], [126.92961878875177, 36.88344548989492], [126.92950229058063, 36.88332104104668], [126.92948340512916, 36.88330617023636], [126.92922009785396, 36.883107959232], [126.92900407018566, 36.8829821880382], [126.92895726470097, 36.88293155414888], [126.92893403590095, 36.8828345116063], [126.92890161880455, 36.88282216463426], [126.92887624280243, 36.88281244405841], [126.92883527144295, 36.88279482935927], [126.92877590083727, 36.88277062676281], [126.92837303158252, 36.882513774409716], [126.92802468238266, 36.88240966308051], [126.92792744802951, 36.88236657636468], [126.92784945943984, 36.88231527448651], [126.92783188286829, 36.8823148581268], [126.92778961757342, 36.882314317477785], [126.92773900598414, 36.88230321131253], [126.92757818484479, 36.88226812222631], [126.92700605633102, 36.88204891640678], [126.92669393178008, 36.88195442121818], [126.92666785831791, 36.8819477094465], [126.92663001295587, 36.88193626956668], [126.92638683062636, 36.8818626411833], [126.92619477590222, 36.88182412359787], [126.9259224070597, 36.88175262858802], [126.92573552096947, 36.88168330570226], [126.92556683879745, 36.88165051606988], [126.92550420349052, 36.88163845479341], [126.9254462216708, 36.88162745084558], [126.92527257358189, 36.88154608839281], [126.9251408862733, 36.88151186167502], [126.92491298233767, 36.88139560078377], [126.92466912381987, 36.881319219807544], [126.92418919851467, 36.88125727354976], [126.92404415443616, 36.88120031127957], [126.92376468884473, 36.881161984485026], [126.9236490238653, 36.88114698777877], [126.92354128249308, 36.88111659480104], [126.92338335376031, 36.88104454749079], [126.92324679377505, 36.88098224737537], [126.92322473391744, 36.8809790880057], [126.92305537539956, 36.88095063651175], [126.92301613464663, 36.88094343813509], [126.92295333148422, 36.880926972028384], [126.92292892383286, 36.8809205740189], [126.92268155275436, 36.880849764498286], [126.92257426476364, 36.88081440586835], [126.92250784135422, 36.88078935637517], [126.92242047494848, 36.88077587160014], [126.92236434024717, 36.880770067470074], [126.92233306997495, 36.88076929887813], [126.92207255317389, 36.88083874361109], [126.92196334391096, 36.88084989882624], [126.92188593114959, 36.88084411536867], [126.92183498528533, 36.880821626988194], [126.9218265425804, 36.880817727714216], [126.92181839087718, 36.88081482144844], [126.92170200794972, 36.88084337011909], [126.92154891089761, 36.880897220303005], [126.92138636035524, 36.88095439747852], [126.9212406039163, 36.88096868960048], [126.92103301425456, 36.88096650472512], [126.92099952129716, 36.880964652229906], [126.92085853746502, 36.88095320374989], [126.92057317635552, 36.88104083792478], [126.92043104259884, 36.88103365078564], [126.92031160752408, 36.881062673592425], [126.92000971484073, 36.8811142976533], [126.91976972239536, 36.88112007086126], [126.91927076963516, 36.88117048010766], [126.91925766988558, 36.881171802517926], [126.91892446125858, 36.88118912392473], [126.91878740996167, 36.88120246400616], [126.91862606132037, 36.88123810767944], [126.91829172128546, 36.88133677744944], [126.91812314373108, 36.881283332815265], [126.9176596577137, 36.88103653029431], [126.91760790785393, 36.88098204918819], [126.91758827086555, 36.88095244855875], [126.91755405374333, 36.88090086767523], [126.91753465964743, 36.880844906283365], [126.91748623265124, 36.880705180658744], [126.91747949566232, 36.8807066206011], [126.91746737934572, 36.880706561207944], [126.91745068304019, 36.880652657509415], [126.91745286952141, 36.880646082248845], [126.91746413743299, 36.880641422911665], [126.91745756443066, 36.88062245667731], [126.91744817599674, 36.88059536721493], [126.9177739598932, 36.88053143033414], [126.9179997374075, 36.88047601910385], [126.91800914944679, 36.8804748843018], [126.91814323172156, 36.88045871084537], [126.91824072180857, 36.88041200815514], [126.91830763271213, 36.88037995387794], [126.91859362418543, 36.880308056684775], [126.91881531835605, 36.88025232463949], [126.91887501012015, 36.880237318978836], [126.91897191695737, 36.88022218334778], [126.91921419847466, 36.88018434399415], [126.91935732493666, 36.8801417053809], [126.91957554411684, 36.880104045194365], [126.91970631384577, 36.88006817337391], [126.91983063791335, 36.8800079849271], [126.91995801161127, 36.87993119213512], [126.9200138357376, 36.879897535890386], [126.92014955545403, 36.87985486918274], [126.92021212310799, 36.87983520016627], [126.92037642699275, 36.87974062483336], [126.92042504441936, 36.879480693164744], [126.92042272189241, 36.87947976957206], [126.92038427932164, 36.879464490032824], [126.92038837170128, 36.87945513132476], [126.9203656221404, 36.879445609245494], [126.9200104583404, 36.87929686460601], [126.91986501988141, 36.87923597762285], [126.91970914458786, 36.87917231712518], [126.91965460888305, 36.879149940089505], [126.919515089496, 36.87909194999272], [126.91916207942721, 36.87894551203469], [126.91910450733666, 36.87892169201207], [126.9187998084181, 36.87879587627446], [126.91878147814218, 36.878788124315214], [126.9185842649416, 36.878707193941494], [126.9183409646138, 36.87864617422845], [126.91789543650309, 36.87851729238717], [126.91785130913871, 36.878487391538705], [126.91776286481777, 36.87842745004067], [126.91775217446906, 36.87842081528857], [126.91749075511838, 36.8782585733778], [126.9171819528226, 36.87805443718686], [126.91700671138572, 36.87793838695522], [126.91699710010025, 36.87798821153378], [126.91653739094876, 36.87785748639826], [126.91626558439248, 36.87758305242118], [126.91604443166125, 36.87735975529526], [126.9156836664262, 36.877102915397145], [126.91547814187825, 36.87695659481498], [126.91575570575255, 36.8767455838437], [126.91606499533354, 36.87651045389508], [126.91622501589919, 36.876391327568854], [126.91627066320402, 36.87607057839917], [126.91629714583414, 36.87588453589463], [126.91630494841083, 36.87582971385566], [126.91571214693968, 36.87478055782914], [126.91545738205265, 36.87472464837644], [126.91540599093307, 36.87471336726936], [126.9151211535505, 36.874391686461905], [126.91475152596843, 36.8739980088007], [126.91452460075983, 36.87380171840053], [126.91389294374318, 36.8732553287325], [126.91386600487586, 36.8725429988973], [126.9138580948227, 36.87233387058165], [126.91366990814448, 36.87201899644178], [126.9141288177453, 36.87165506750015], [126.91473071635325, 36.87142410703002], [126.91457194012591, 36.87104512559212], [126.91440682965612, 36.870857667090114], [126.91428398452486, 36.87071819527545], [126.91433303598377, 36.87059407846168], [126.91406017310644, 36.87040972127613], [126.91394934667181, 36.87000397694121], [126.91397981337913, 36.86969425572638], [126.91398917518357, 36.8696172730294], [126.91400570564343, 36.86948132941248], [126.91403777774482, 36.86946023136167], [126.91407643293665, 36.869434802740926], [126.91421674386989, 36.86934249904736], [126.9143239619503, 36.869271535290856], [126.91455344886766, 36.86918412557105], [126.91490595159509, 36.8690449198034], [126.91525830537408, 36.86893024249678], [126.91552559582759, 36.8688432548556], [126.91670099715066, 36.86824544742363], [126.91691570706551, 36.86813644117096], [126.91741289205133, 36.86806627474022], [126.91764693158245, 36.868033244154404], [126.91881390167046, 36.868823151066664], [126.91891663932903, 36.86888417675536], [126.91951424710702, 36.869239149280254], [126.92108588452501, 36.868805353399615], [126.92221118022039, 36.86850307969134], [126.92322993805482, 36.868410061975744], [126.92331080993866, 36.8684026785007], [126.92350739381915, 36.86839818563916], [126.92366459491787, 36.868467780971145], [126.92372959784706, 36.86849655855181], [126.92385584291404, 36.868555627840976], [126.92416299562164, 36.86867431933603], [126.92421796460197, 36.86869556059035], [126.92466940025705, 36.869145460935044], [126.92469859990165, 36.869174560461765], [126.92512879742029, 36.86938433255778], [126.92530846522514, 36.86922950662012], [126.92548815263385, 36.86907466246987], [126.92590673119254, 36.868713955993606], [126.92598899716056, 36.86864306485797], [126.92638650262116, 36.86825825105344], [126.92667122169932, 36.868001528822255], [126.9269418224055, 36.867663113292], [126.9269471429925, 36.86765645739558], [126.92703604047938, 36.867579009689386], [126.9277758164248, 36.86693444885493], [126.92778066549468, 36.86693022456614], [126.927757673533, 36.8669171708426], [126.9270835409683, 36.86653444317117], [126.92693640632488, 36.86645091036691], [126.92684825043193, 36.866400853219], [126.92682489060455, 36.866357186083455], [126.92680343834026, 36.86631708706952], [126.92675865689006, 36.86623523933688], [126.92670203599333, 36.86613100915416], [126.9266622206924, 36.86605752555866], [126.92657626358111, 36.86589888286415], [126.92647520221658, 36.86571236107493], [126.92652525323881, 36.865387620606334], [126.9264559451223, 36.86474895268999], [126.92637452090575, 36.86465248312175], [126.92631669673402, 36.864583971422036], [126.92615592071448, 36.864131123116714], [126.92600370109065, 36.863919578403504], [126.92588062536167, 36.86374853222639], [126.92507884469384, 36.863799589260566], [126.92496283266318, 36.863719976212046], [126.9246809651266, 36.86358875638613], [126.92450093753412, 36.863524049497784], [126.92453904389306, 36.8633788534106], [126.92446009245006, 36.863036357889165], [126.92442510657773, 36.862943207413956], [126.92437226984688, 36.8628721587912], [126.92425931682074, 36.86288453851395], [126.92402897349768, 36.86225506250092], [126.92368060450993, 36.86195534691943], [126.92400112344721, 36.86155955177445], [126.92406989773161, 36.86146084440263], [126.92411885065654, 36.8613905917166], [126.92412940173197, 36.861294297537164], [126.92415346037433, 36.861078166770724], [126.92418714571254, 36.86080293119861], [126.92440571760017, 36.86047873180508], [126.92440687050063, 36.86047653424106], [126.92458421101978, 36.86013886545741], [126.92469576761765, 36.85993778503481], [126.92464283160236, 36.859407635808125], [126.92472827062572, 36.85907939454605], [126.92469522174535, 36.85832257774882], [126.92468198984986, 36.858298212371096], [126.92447392441959, 36.85791507614408], [126.92440815983763, 36.85756716692576], [126.92439955708895, 36.85752165423729], [126.92441569302213, 36.857492772334794], [126.9245796533896, 36.85719927641835], [126.92462271689689, 36.85679308153543], [126.92462177471221, 36.8567855841066], [126.92455195205973, 36.856230543067504], [126.92453423538251, 36.855864465983316], [126.92453142132449, 36.85580634836765], [126.92452179264252, 36.855679837044846], [126.92447270912201, 36.85559030877365], [126.92444915120612, 36.85554733787478], [126.92444844737459, 36.85554605620781], [126.9244044423162, 36.85546085602901], [126.92416494488607, 36.854997159178374], [126.9241670370965, 36.854578879280645], [126.92412838237952, 36.85449384553433], [126.9240368124857, 36.85442185000856], [126.92382306490796, 36.854170304155495], [126.92374317632353, 36.85420007948592], [126.92346760922969, 36.85421555894601], [126.92338304573403, 36.85417848670599], [126.92332460821598, 36.85408968060874], [126.9235015906345, 36.8540594119389], [126.92360701720719, 36.85398788995162], [126.92363244426731, 36.853924765550296], [126.92369302997702, 36.85393260986571], [126.92354179040862, 36.85386567566739], [126.92302649753448, 36.85363760341311], [126.92279063524145, 36.853547878028735], [126.92238322372025, 36.85340759458937], [126.92108662704575, 36.85295812406316], [126.92045257447054, 36.85273831990183], [126.92023773410415, 36.85238232901096], [126.91940726600104, 36.85163219945939], [126.91978349155687, 36.85140394789899], [126.91985263642087, 36.850975433765356], [126.91987232106281, 36.850853411857905], [126.9199579746316, 36.850708524696756], [126.9200853028014, 36.850493145263236], [126.9198245195849, 36.85026567305147], [126.91960869346343, 36.84972842641513], [126.91948023822049, 36.84946534481337], [126.91883442188627, 36.84814264256751], [126.91879034145396, 36.84773343965186], [126.91876664101468, 36.847641719922606], [126.91908534757525, 36.84754424234831], [126.91977737392048, 36.847332584045375], [126.92025372820952, 36.84722468023657], [126.92006301385739, 36.84668745026594], [126.9194902115226, 36.846418592389135], [126.9191645028774, 36.84602279953066], [126.91920403914513, 36.845962276213804], [126.91924469054041, 36.8458314179304], [126.919047798696, 36.84564272644007], [126.91888946546064, 36.845599449045984], [126.9187939241184, 36.84563497700634], [126.91841319105137, 36.845537065115394], [126.91687913387734, 36.84488019913493], [126.9163458596644, 36.84477092940617], [126.91598445634575, 36.84469626118356], [126.9155711049375, 36.844610327943506], [126.91547872543144, 36.84459158867843], [126.91539168217747, 36.84457393028394], [126.91534242451509, 36.844534040322536], [126.91467678679331, 36.8439949752141], [126.91392508303066, 36.84294245953055], [126.91388897944479, 36.84289190290816], [126.91416200122053, 36.84284154127362], [126.91467427272948, 36.84274704295162], [126.91470374358843, 36.84267312282297], [126.91491622625313, 36.84214014763531], [126.91459644223688, 36.84169881723527], [126.9145986236032, 36.841592443818016], [126.91461704933135, 36.84128804691013], [126.91464764902933, 36.84078252706489], [126.91458940118824, 36.84044987962198], [126.91500257015984, 36.83997403105248], [126.91469896185886, 36.83967023771186], [126.91439361031362, 36.83918499754095], [126.91437096993141, 36.83869711640944], [126.91419031178468, 36.83856268674648], [126.91382294865289, 36.83828932737142], [126.91377593754687, 36.83820581382592], [126.91375970214166, 36.838138571825695], [126.91371392036861, 36.83794897397154], [126.91359542450384, 36.83745829952586], [126.9135628149328, 36.83732327209898], [126.913561092904, 36.837316143918564], [126.91356089287422, 36.83731531539681], [126.9135521110787, 36.83727894887827], [126.91350627601949, 36.83708911627996], [126.91343104765893, 36.836949708430495], [126.91336950543521, 36.83683566107018], [126.91330403553879, 36.83671432496604], [126.91329460058019, 36.83669683706622], [126.91335296437221, 36.83662819806403], [126.91339623865709, 36.83656819984224], [126.91360855646936, 36.836347776103224], [126.91402545346767, 36.83589356761246], [126.9132332162295, 36.83529660773569], [126.91318682516984, 36.83527171136716], [126.91311918497689, 36.8350811849927], [126.91311123447731, 36.83505878426279], [126.91309133064662, 36.83500272550758], [126.9129323054538, 36.834690687907944], [126.91278162114826, 36.834395018429035], [126.91178817544106, 36.83404313223372], [126.91165181953299, 36.83380724997291], [126.91160791355409, 36.833731296069786], [126.91167266777823, 36.83310544977339], [126.91149188155354, 36.83271542401041], [126.91117561020329, 36.83197788682705], [126.91095077214806, 36.83151312052757], [126.91091398085486, 36.831437071785786], [126.91112823347424, 36.831265538743246], [126.91216898963093, 36.830452666951565], [126.91217111731771, 36.830451002567024], [126.91215698397578, 36.83044064708567], [126.91214292871852, 36.830430346076014], [126.91213013803059, 36.83042097260453], [126.91196162170621, 36.83027881452527], [126.91180911030703, 36.830150158054266], [126.91180177443661, 36.830143970231966], [126.9117290484806, 36.83008616428397], [126.91137558737877, 36.82980994341612], [126.9110679173284, 36.8295673418314], [126.91071319034573, 36.82928601769278], [126.91080569838913, 36.82816804754105], [126.9108444470808, 36.82782626155242], [126.91084511573347, 36.827820369345844], [126.91084830981993, 36.82779222910769], [126.91087388987832, 36.82763987283047], [126.91091185635545, 36.82723300141545], [126.91092250228638, 36.827118929865335], [126.91092892470978, 36.82705172931245], [126.91093358949502, 36.827002875492624], [126.91093757352552, 36.82695125443623], [126.91103928449495, 36.82695060262607], [126.91103087167399, 36.82691789580284], [126.91095622209173, 36.82692513789931], [126.91088363798657, 36.826939111436765], [126.91086950808096, 36.8269433323561], [126.91062354261308, 36.82701682243706], [126.91053156232108, 36.82704382120224], [126.91036348154084, 36.827138803525074], [126.91028784467476, 36.82715601040451], [126.91018633517145, 36.82715579897553], [126.9100805057184, 36.82712206072168], [126.90989139153528, 36.82707111313536], [126.90975273449736, 36.827044583765876], [126.90959976538271, 36.82701563037007], [126.9094682748809, 36.827022538793315], [126.90945874021257, 36.82701741443972], [126.90937830703172, 36.82696943970233], [126.9092812826102, 36.82691182885638], [126.90911992735633, 36.82680049061176], [126.90903471216993, 36.826665167863354], [126.9089805573297, 36.82640809558711], [126.90870621489098, 36.82615957407352], [126.90808400604878, 36.82607851131858], [126.9080527148977, 36.82587171122903], [126.90803896400931, 36.825786851838444], [126.90803609924421, 36.825772702749084], [126.90804038633404, 36.825766992636616], [126.90809632943235, 36.825692446700344], [126.90809733322091, 36.825691110330986], [126.90803130581448, 36.825410365758295], [126.90798335506842, 36.8252081486223], [126.9079706513819, 36.8251547660573], [126.90792740851153, 36.824970267911866], [126.90791183341204, 36.82490303369227], [126.90784841505331, 36.824635733672174], [126.90780896070655, 36.82446867407262], [126.90770679983541, 36.82403172168948], [126.90760159713246, 36.823581646864746], [126.90749947283386, 36.82314490176525], [126.9073942714612, 36.82269496012224], [126.90729169051116, 36.8222560778646], [126.90726419540701, 36.822139661959255], [126.90718718408755, 36.82180850847263], [126.90708263805581, 36.82137640054316], [126.90700257122174, 36.82105344573625], [126.90698733671967, 36.82099196975753], [126.90696520909236, 36.82090196796464], [126.90664175448222, 36.820965462942205], [126.90645774400483, 36.820834042527615], [126.90644058831141, 36.82082190982773], [126.90626787788581, 36.820697537221704], [126.90569915717437, 36.82029191635781], [126.90517746617991, 36.82053348714391], [126.90450282945338, 36.82033555272097], [126.90429211641137, 36.82027352817414], [126.90331580167776, 36.81998613281831], [126.90318978173099, 36.8199490364722], [126.90245698111161, 36.82016499971548], [126.9023226693681, 36.82020393288441], [126.90169506943927, 36.82039038541156], [126.89928273236185, 36.820574035451685], [126.89909513242667, 36.820648187874085], [126.8988492775097, 36.8207697794042], [126.89867314725099, 36.82088289598559], [126.89850871541374, 36.82099833773906], [126.89842929839932, 36.821045116392035], [126.89837279225436, 36.82107395294583], [126.89808830204608, 36.82121913862501], [126.89777687720162, 36.82135584513079], [126.89746592764422, 36.821537622413274], [126.89717832190799, 36.8217948158305], [126.89707025222144, 36.821943691424146], [126.89695263358433, 36.822147696597554], [126.89682583451291, 36.82248527245784], [126.89682888929856, 36.82273495333631], [126.89686910391303, 36.82296658084054], [126.89696399953651, 36.82320306865496], [126.89706548369342, 36.82334017906964], [126.89707362945462, 36.82335180948814], [126.89716102490002, 36.82351394129856], [126.89564399046485, 36.82417612637885], [126.89466538583288, 36.82445549264864], [126.89431226531836, 36.82455629804717], [126.8934810926219, 36.82469527900413], [126.89283255812798, 36.824804236335474], [126.89216265033907, 36.824872268378215], [126.89152093688348, 36.824936753975265], [126.89105670800514, 36.82501263813387], [126.89066225942015, 36.82511348241171], [126.89015365119963, 36.825268231064626], [126.88969598975301, 36.825541520752], [126.88944375747093, 36.825765027050096], [126.88926929139973, 36.825942099880635], [126.88915791103409, 36.826054514282845], [126.88894509533046, 36.82627203800215], [126.88857754715221, 36.826620091484905], [126.88841427403288, 36.82685756575829], [126.88811799972015, 36.82728847827168], [126.88808747243894, 36.82732307945649], [126.8880577928075, 36.827352056313096], [126.88798248285714, 36.82741824291833], [126.88792799346857, 36.82745634456516], [126.88786484484137, 36.82749952727712], [126.8877283584769, 36.82759324648128], [126.8876306553734, 36.827649201420584], [126.8874685892987, 36.82773489363697], [126.88738114145168, 36.82777653922615], [126.88728236763173, 36.82782805139964], [126.88709789145507, 36.82781760107879], [126.88697627105758, 36.82781061883455], [126.88612255855162, 36.828124970279376], [126.88579562690683, 36.8282457696979], [126.88565183300155, 36.828300390526735], [126.88535002830383, 36.82841603241002], [126.88516444476389, 36.82849898566339], [126.88516848746796, 36.828524328420144], [126.88490485148812, 36.8286384195107], [126.88485395383525, 36.82864386780628], [126.8845163311398, 36.828663899700274], [126.88384747084437, 36.82865159757299], [126.88367124564657, 36.82865327138619], [126.88363963539727, 36.828661799346854], [126.88350669326374, 36.828814350112765], [126.88346895248198, 36.828857665809394], [126.88342658461343, 36.82887725826863], [126.88309701703088, 36.828813699994235], [126.88266281417542, 36.828714796033104], [126.88266169933749, 36.828714541443354], [126.882590923856, 36.82872923003255], [126.88254125005568, 36.82879808837107], [126.88216026469259, 36.82874982137246], [126.88206699107317, 36.82873564356327], [126.88179511702138, 36.828917708643], [126.88158234387976, 36.82910992438176], [126.88141564761054, 36.82927727937499], [126.88131613778322, 36.829400522237336], [126.88119658619479, 36.82959646212863], [126.88114682203619, 36.82978602227605], [126.88113331769217, 36.82994871129302], [126.88111543824395, 36.829992432493114], [126.88119354974624, 36.83001079421416], [126.88118414333404, 36.830047856311296], [126.88122002046792, 36.830172128160726], [126.88124951430596, 36.83062980914122], [126.88125342198886, 36.830690428807586], [126.88120429486227, 36.83070920282444], [126.88114796657078, 36.83073682767339], [126.88114518665856, 36.830687121465324], [126.8811364525748, 36.830530996489586], [126.88113104277166, 36.83044275566589], [126.8811330805637, 36.830279702287655], [126.88109953699808, 36.830067882543794], [126.8807384462815, 36.83002492133147], [126.88064057031244, 36.83001394563477], [126.88052397663454, 36.83000847577325], [126.88038761147382, 36.82996703030809], [126.88017990885668, 36.82994053392935], [126.87992891808155, 36.82986991965155], [126.87970674891106, 36.829789944874385], [126.87949168620513, 36.82974623620129], [126.87941882493577, 36.82974601818714], [126.87930817265092, 36.82972086154734], [126.87918154638247, 36.82965975435231], [126.87910819650918, 36.829594286367026], [126.8789473818815, 36.82949850534994], [126.87889717375117, 36.82946986170695], [126.8788574901763, 36.82942965869387], [126.87878578732945, 36.82939244166343], [126.87871961654699, 36.829386398728204], [126.87861069930935, 36.829333985133225], [126.87846464708917, 36.82929566356286], [126.87842428202148, 36.8292817991279], [126.8783067691922, 36.829501510871644], [126.87811092084075, 36.8299397831149], [126.8780536045347, 36.830066400784126], [126.87803455196341, 36.8301764136916], [126.87795048955617, 36.830665993320416], [126.87793771013868, 36.830750477401416], [126.87784880994253, 36.83141660470769], [126.87782504149779, 36.83189256856571], [126.87774544575383, 36.83188287064963], [126.87763115842984, 36.83188557177198], [126.87747116433687, 36.8318835838994], [126.87722559220876, 36.831870054294924], [126.87700143259808, 36.831827189508154], [126.8766656938067, 36.83178832416224], [126.87633947616736, 36.83175056251331], [126.87628595882197, 36.8317443664393], [126.87613563788297, 36.83169548523097], [126.87600408001767, 36.83159890184069], [126.87575530430502, 36.83165959789397], [126.87565160806, 36.831466048624506], [126.8755992314054, 36.83115450170024], [126.87561964299945, 36.83103889291858], [126.87558082881102, 36.83078172435357], [126.87562084322398, 36.830640617232774], [126.87565315394279, 36.830474064877095], [126.87571417481438, 36.830270472889296], [126.8757737133375, 36.83018552601011], [126.87596805175407, 36.82996663654666], [126.87608512971606, 36.82983287488304], [126.87606165465255, 36.82978537128939], [126.87609835980064, 36.82976134184168], [126.87617161184592, 36.829598518010116], [126.87622128611633, 36.82957401569646], [126.87627205710415, 36.829385953940054], [126.8763411906122, 36.82923778765852], [126.87639671885721, 36.82906757433415], [126.87650304450142, 36.82898862372388], [126.87672219293202, 36.82861250887982], [126.87676729889263, 36.828543648880306], [126.87685368835959, 36.82840655603702], [126.87664085179559, 36.82845818083521], [126.8760542555574, 36.82861135479441], [126.87568228834758, 36.828706405875515], [126.87549721238108, 36.82875424764795], [126.87507316871492, 36.82886071332887], [126.87468301048608, 36.82895961762933], [126.87418368247431, 36.829093870813296], [126.87403872861229, 36.82913083179654], [126.87317380499948, 36.829357456470774], [126.87308897536073, 36.82938132863459], [126.87279886565125, 36.82946295770986], [126.87239464092235, 36.82957841929094], [126.8716933544485, 36.829792288451955], [126.8716131169098, 36.829811791942475], [126.87154368079555, 36.8297021146953], [126.87152272149329, 36.82967368024028], [126.87149353045263, 36.8296749556411], [126.87107690278732, 36.829810646088774], [126.87107535802868, 36.82981113191401], [126.87076409369853, 36.82990910824444], [126.8704765799242, 36.830001838650524], [126.87042162572635, 36.83011728166273], [126.87041245688485, 36.8301890356739], [126.87040986335911, 36.83020446924496], [126.87039756161501, 36.83024635593854], [126.87038264343217, 36.83033739584231], [126.87044192093023, 36.83052124021788], [126.870548445587, 36.8307967709099], [126.87056088826446, 36.830869908583495], [126.87058560282243, 36.831015139137385], [126.87068788036562, 36.831159563287166], [126.87073489890332, 36.831210183549366], [126.87090018405044, 36.83125713329997], [126.8710009042861, 36.83128205049928], [126.87104940965223, 36.83132149146883], [126.87112069490784, 36.83137851946916], [126.8711875959931, 36.83185311160037], [126.87125715551103, 36.83198405495386], [126.87125612065635, 36.83207871467807], [126.87125280670175, 36.83233373986488], [126.87125238132651, 36.832367080561184], [126.87125635880034, 36.832394100114286], [126.87135621268342, 36.83240996905597], [126.87172649389768, 36.832609770026075], [126.87182209531231, 36.8326605239736], [126.87192011357774, 36.83276188736788], [126.87198858817206, 36.83289821884571], [126.87219784172571, 36.83321941731037], [126.87216244692965, 36.83328227622401], [126.87225462001481, 36.83341181853901], [126.87228735339161, 36.83345919865277], [126.87212374968823, 36.83355462796919], [126.87193573945225, 36.833698779664275], [126.87186670809734, 36.83375829668883], [126.8718156996878, 36.83380227410205], [126.87179597124123, 36.83381928304341], [126.86941364454074, 36.8334754145389], [126.86627199862876, 36.83509386399438], [126.86384479579148, 36.83633324743046], [126.86329880773523, 36.83661202844869], [126.86127279952332, 36.837646466545465], [126.86054942487895, 36.83801579161004], [126.85822914230945, 36.83805659721899], [126.85278197189757, 36.83815221795318], [126.85137306372066, 36.838176901609465], [126.84999367055416, 36.83820105204736], [126.8453526211025, 36.838282185091295], [126.84501276241504, 36.8381101228545], [126.8446620295613, 36.83787725814238], [126.84347368922624, 36.83717591025561], [126.84333355771076, 36.837584047084256], [126.84309538031658, 36.83832163969634], [126.83693896956576, 36.838428895251816], [126.83667565828722, 36.83843347512994], [126.83667527766238, 36.83843339548151], [126.83654941977285, 36.842310197903736], [126.8382451041674, 36.85142572671653], [126.83854469180218, 36.85303601085382], [126.83888846623054, 36.85343296501288], [126.8390097133434, 36.85393013895658], [126.83898111821497, 36.85394080633601], [126.83901807614743, 36.854286931772705], [126.83880319190337, 36.85428945604936], [126.83889237387183, 36.85469957732406], [126.83906654071389, 36.855104742562], [126.83927289978917, 36.8552843963477], [126.83912272208687, 36.85538388001707], [126.83968732346344, 36.85608891942751], [126.83937795547021, 36.85615494424608], [126.83927554496762, 36.85685005477183], [126.8400604987183, 36.86105782822291], [126.8403115719732, 36.862402301546595], [126.84143136412276, 36.86840251114185], [126.84160737615521, 36.869345558791466], [126.84228115658574, 36.87295537188069], [126.84314762786823, 36.87759707017849], [126.84480215110037, 36.88389508051066], [126.84483728987645, 36.88402876548442], [126.84485746068087, 36.88410550483899], [126.84488731124182, 36.884218912404734], [126.84488735107938, 36.88421924074996], [126.84491754886871, 36.884335098542365], [126.84491906344373, 36.884340921205215], [126.84491927203845, 36.88434172464024], [126.8449245256728, 36.88434045912836], [126.84528678548226, 36.884253185595746], [126.84628282039745, 36.883999855583674], [126.84704680206268, 36.88379551406737], [126.84738601111452, 36.8837152036127], [126.84782885290521, 36.883611542065466], [126.84784043208624, 36.883611466791095], [126.8478721803532, 36.883613858576645], [126.84788600615003, 36.883617210297444], [126.84790433890205, 36.883625802505044], [126.84805018429788, 36.8837005914858], [126.84806184629412, 36.883708463776316], [126.84807946148453, 36.88371329119503], [126.84812564559503, 36.88370193215135], [126.84827969135621, 36.88364557505414], [126.84831209971873, 36.88363526358475], [126.84832918550777, 36.88363160907883], [126.84835469039066, 36.88362762213244], [126.84838019102477, 36.883631530005744], [126.84840761834833, 36.883642710472934], [126.84843280955394, 36.88364632096458], [126.84845914748729, 36.88364677727482], [126.84849437982864, 36.8836400906218], [126.84852406016905, 36.8836307034427], [126.8485678358996, 36.88360984422382], [126.84865972183123, 36.883561698760175], [126.8486828773139, 36.88354867360573], [126.84871495847972, 36.88354490111203], [126.84873477827817, 36.883544629327616], [126.84876631672336, 36.88355322887239], [126.84879416162839, 36.8835617540814], [126.84881477278317, 36.88356502388758], [126.84884344243476, 36.883562851658375], [126.848868045306, 36.88356068418198], [126.84888523770651, 36.8835611209341], [126.84889916895159, 36.88356950317399], [126.84892279531229, 36.883582957773484], [126.84895412985325, 36.88358835061551], [126.84898257368094, 36.88358766449857], [126.8490148650882, 36.88358397781148], [126.84905952312783, 36.88357760765053], [126.84908991568155, 36.883574465831096], [126.8491280014192, 36.883563438840625], [126.84920208222286, 36.883535175042226], [126.84928654311757, 36.88349314709425], [126.8493470108732, 36.88345865720421], [126.8494075458756, 36.88341808650784], [126.84942080756046, 36.88340910140082], [126.84943448181393, 36.883403071682544], [126.84945867653828, 36.88340376844196], [126.84947450070116, 36.88340463572028], [126.84949763375752, 36.883405079664115], [126.84952639201607, 36.8834051523511], [126.8495493383969, 36.883397440797744], [126.8495732237576, 36.883383278235186], [126.84964050131292, 36.883333884928994], [126.84964961771807, 36.88332489513821], [126.84966007992408, 36.88332076248244], [126.84967912555499, 36.88331702836292], [126.84970846062781, 36.88331418348273], [126.84975044859355, 36.88331300158602], [126.84976979053098, 36.8833190533502], [126.84978550296196, 36.88332515556441], [126.84980495705986, 36.883329361778586], [126.8498377672992, 36.883329052713485], [126.84986943360897, 36.88331781007256], [126.8498903412044, 36.88330278920533], [126.84991086512578, 36.88328722536878], [126.84993140374682, 36.883270985525776], [126.8499548602263, 36.88326424844107], [126.8499829355001, 36.883264663435874], [126.84999999766916, 36.883264306043046], [126.85001617086552, 36.883263974434406], [126.85005287700544, 36.88325733684525], [126.85008323992238, 36.88324655036051], [126.85011165829054, 36.88322952064695], [126.85013860790077, 36.88321260368784], [126.85016817920403, 36.883201738933636], [126.85020477040817, 36.883199919790414], [126.85024310228073, 36.883199534435754], [126.85028386541178, 36.883195098650354], [126.85032068263868, 36.88318858778771], [126.85036122359506, 36.88318017539129], [126.85046565174619, 36.883150803860445], [126.85050000147345, 36.88314175541042], [126.85054354643208, 36.883137448322216], [126.85059676151994, 36.88313056905819], [126.8506736038387, 36.88311797751693], [126.85072641411107, 36.88310615787015], [126.85079064465494, 36.88308916319975], [126.85087265818578, 36.88306512799887], [126.85093251125876, 36.883047188062996], [126.85100021640699, 36.88302562751059], [126.85107339768777, 36.88300247242088], [126.8511378263844, 36.882987503288106], [126.85118290445888, 36.882980234978135], [126.8512308635448, 36.88297623118584], [126.85128535061286, 36.882967539441914], [126.85133617249187, 36.882951708057625], [126.85137804809403, 36.88293380137343], [126.85142419738996, 36.88290972868189], [126.85147255896143, 36.88288413378713], [126.8515192879866, 36.882862891152], [126.85156257780767, 36.882849715688785], [126.85161901861724, 36.88283502902881], [126.85168292194642, 36.88282377068384], [126.85174923437867, 36.88282062762978], [126.85180455325622, 36.88281971424198], [126.85184867856424, 36.882812831708414], [126.85188845103885, 36.88279758164775], [126.85193044643547, 36.88277662853834], [126.85196163297816, 36.882767917582065], [126.85199822397449, 36.88276795305707], [126.85204792855647, 36.88276187250967], [126.85210678885466, 36.88274343437721], [126.85215308744625, 36.882729543129074], [126.85222483955981, 36.88270891619985], [126.85228948541214, 36.8826907673272], [126.85237002213329, 36.88266796162271], [126.85242993277927, 36.882652428099306], [126.8524846498063, 36.88263639388896], [126.85250820992034, 36.88262610517073], [126.8525334684186, 36.882616413443365], [126.85256769617075, 36.8826148439153], [126.85260880929061, 36.88261940925954], [126.85264525203952, 36.88261652665267], [126.85268417087143, 36.882611710402166], [126.85273398210708, 36.882601750330366], [126.85288216972518, 36.88255622854824], [126.85291420891971, 36.88254405863374], [126.85294289038947, 36.88252473459191], [126.8529498920383, 36.88252001669443], [126.8529778731942, 36.882484475447704], [126.85299070438226, 36.882446644971964], [126.8530007490291, 36.88240897420327], [126.85300289252922, 36.8823791588734], [126.85301146135647, 36.882345632122174], [126.85302343879442, 36.8823233342937], [126.85305139252482, 36.88229954411132], [126.8531044271042, 36.88227725344197], [126.8534713080076, 36.88218772458519], [126.85399111114482, 36.88205327949244], [126.85473649976404, 36.881865988587904], [126.85553802074662, 36.88166430747016], [126.85643063073135, 36.88143745733741], [126.85736147079868, 36.88120635588019], [126.85832013973136, 36.880963321611155], [126.85930125225816, 36.88071460428528], [126.86010827946757, 36.88050724097603], [126.86107968881083, 36.8802696868552], [126.86188374698683, 36.880067922291175], [126.86191787060577, 36.880065763564694], [126.86193853272744, 36.880065021739014], [126.86196588080274, 36.88006504417477], [126.86198638189616, 36.880066663263264], [126.86200493831677, 36.880072469037856], [126.86203819424033, 36.88008424016206], [126.86212996260255, 36.8801509745928], [126.8621497298099, 36.88015610715403], [126.86217254467844, 36.880156384658534], [126.86218932322706, 36.88015361172174], [126.86220604938302, 36.88014310590242], [126.86223252444077, 36.880125051413245], [126.86226805299466, 36.880103457750835], [126.86230288952164, 36.8800803387242], [126.86233919652318, 36.88006174562219], [126.86237080673526, 36.880049311223786], [126.86240774272959, 36.8800381998671], [126.86244971094504, 36.88002619962792], [126.86248463186713, 36.880020185026495], [126.86251629642855, 36.88001497686763], [126.86254441544368, 36.88001458683796], [126.86258621367726, 36.880017363935735], [126.86262265625419, 36.880017820819575], [126.8626685080798, 36.880016216969985], [126.86270436793114, 36.88001387982832], [126.86273896249061, 36.88001310801164], [126.86278028504447, 36.88001344317883], [126.86281073757034, 36.88001608363828], [126.86284079577425, 36.880023506848346], [126.8628754285448, 36.88003650567811], [126.86289322598078, 36.88005155607578], [126.86289973203199, 36.88006533259085], [126.86289309223338, 36.88007711133823], [126.86287624125275, 36.88009022897461], [126.86284887823976, 36.880107400839265], [126.8628377701886, 36.88012052582353], [126.8628365820216, 36.88014603396558], [126.8628325602944, 36.880160897069835], [126.86281655102118, 36.88018129026957], [126.86257348789596, 36.88047758633929], [126.86240317802557, 36.880660138459355], [126.86216506978784, 36.880915365152454], [126.86215969516859, 36.88092773117786], [126.8621550976672, 36.880938675287666], [126.86215350836108, 36.88095032244504], [126.8621550788147, 36.88095497331777], [126.86216149558015, 36.880967874989786], [126.86237546176842, 36.881098467183264], [126.86239154048513, 36.881082175996134], [126.86240406986484, 36.881082758848365], [126.86241143274023, 36.88108039690244], [126.86242617272543, 36.88107315084162], [126.86256777715177, 36.88091867800068], [126.86257910513818, 36.88089909266356], [126.8626104503523, 36.88085215306083], [126.86263864357821, 36.88082369780854], [126.86282311773442, 36.88063751455895], [126.86318009843295, 36.880317413752636], [126.86328690115387, 36.88023155364485], [126.86335792394044, 36.88016161960583], [126.8633747655101, 36.88015260162471], [126.86339175700297, 36.8801487731646], [126.86340809656254, 36.88014967379859], [126.86342759784532, 36.88015927589273], [126.86363477457971, 36.88029804884625], [126.86390949109136, 36.88045947211692], [126.86397089149617, 36.88050438985646], [126.8640857957522, 36.880571940719044], [126.86420876055547, 36.880655856167664], [126.86421778960866, 36.880667987449215], [126.86421745029507, 36.8806823871265], [126.86421785376223, 36.880703292002316], [126.86422236377538, 36.88074807289785], [126.86422712218057, 36.88076370417909], [126.86423193857703, 36.8807793790397], [126.86423923418423, 36.88079134779981], [126.86426952797885, 36.880823467909025], [126.8643226456304, 36.88084560489913], [126.86440034376223, 36.880861896755114], [126.86442484668204, 36.88086296891712], [126.86445733528872, 36.880860717785175], [126.86448184610254, 36.88086002494746], [126.86450781493959, 36.88085996370195], [126.86452107093416, 36.88086196188015], [126.86454466288428, 36.8808659894928], [126.86464258223396, 36.88089632386261], [126.86472384419547, 36.8809161592132], [126.86474729534042, 36.88091795225119], [126.86476447871853, 36.88092050324943], [126.86477861993103, 36.880926178619625], [126.86486960918353, 36.88097981598399], [126.8648770798677, 36.88098231144914], [126.8648864326347, 36.880980845203965], [126.86489222540807, 36.88097755343526], [126.86490184470541, 36.88096829291309], [126.8650232860291, 36.88104042109149], [126.86514471863524, 36.88111254549349], [126.8651234278744, 36.88112006338671], [126.86512231209122, 36.881129055653986], [126.86512624496547, 36.88113789099877], [126.86513339108681, 36.88114381020651], [126.86519038895757, 36.88117984619301], [126.86520026301828, 36.88119104981913], [126.86520875273753, 36.881204106632985], [126.865233676773, 36.8812494869208], [126.8652439151431, 36.88125680725947], [126.86526783139713, 36.8812639716884], [126.8652843282418, 36.88127111811929], [126.86531995920281, 36.88128673756404], [126.86533461482799, 36.88129562295838], [126.86535024880233, 36.88132351063663], [126.86535738470477, 36.88133500792052], [126.86536435996356, 36.88134232344222], [126.86537508399998, 36.88134845284954], [126.86540046589508, 36.88135642015378], [126.86541592318572, 36.88135630257654], [126.86543312033395, 36.88135530546278], [126.86545036674107, 36.88135215235213], [126.86546474092695, 36.881342706236495], [126.86547626472611, 36.881340602496905], [126.86548781061572, 36.881344237475695], [126.8655011225474, 36.881347083202215], [126.86551053396228, 36.88134667010952], [126.86551915008212, 36.881346085101015], [126.86552687961277, 36.88134469848055], [126.86553624387739, 36.88134049004885], [126.86561183572358, 36.88138387272701], [126.86560772671143, 36.88141151434839], [126.86569605293319, 36.88145459716416], [126.86578104036845, 36.88148946615372], [126.86591448366944, 36.88153144643416], [126.86601394945467, 36.881568449609446], [126.86613993547242, 36.881609591171575], [126.86649359827805, 36.88171963429523], [126.86701965414564, 36.881891487395905], [126.86727993591539, 36.881982042699896], [126.86748842164579, 36.882057155836804], [126.86783263868095, 36.88220955410718], [126.86838354891076, 36.88245863762959], [126.86873575378172, 36.882618519880594], [126.86898523016207, 36.882726685991486], [126.86914982961405, 36.88278844533814], [126.8693784181002, 36.88286591189102], [126.86974771052104, 36.88298130715556], [126.8702544126637, 36.883122695257214], [126.87061078470306, 36.88321650006933], [126.87117954761442, 36.883378197962244], [126.87167932350401, 36.88351313767732], [126.87217489265126, 36.88365086377592], [126.87275623157306, 36.883808035827606], [126.87330283603872, 36.88396231211799], [126.87379606307321, 36.88411602337868], [126.87435075621771, 36.88427907970012], [126.87495411490366, 36.884450844983036], [126.87499997115812, 36.88446358922319], [126.87516351638143, 36.88450952696513], [126.87527724219066, 36.88454213162248], [126.8754281747333, 36.88458389390431], [126.87601543228561, 36.884752390684284], [126.87686117986465, 36.88499656812971], [126.87728792445907, 36.885119829635435], [126.87787883819743, 36.88528020354301], [126.87812239570421, 36.88535151350552], [126.8781288217306, 36.885408480625244], [126.87833808666291, 36.88542954079446], [126.87841765405702, 36.885437958255174], [126.8784387864994, 36.88544414633888], [126.87902073178773, 36.885606216471686], [126.87960412557143, 36.88577126068361], [126.88023372850694, 36.885945627820654], [126.88076117949537, 36.88609529159007], [126.88132066904774, 36.88625111805227], [126.88154801892523, 36.88631717133904], [126.88149941777827, 36.886452728349575], [126.88140429350543, 36.886697110838575], [126.8813629007646, 36.886804877689265], [126.8812938144054, 36.886990724154956], [126.88124610955994, 36.887103547653155], [126.88121167783856, 36.88720001230975], [126.88118889487534, 36.887213586621286], [126.88116059759966, 36.88727550917393], [126.88116986581262, 36.88729514404432], [126.88115041122241, 36.88737046485137], [126.8811495645562, 36.887372474270734], [126.88113148217404, 36.887415429517574], [126.88113366517278, 36.88741859414239], [126.88115238626303, 36.88742330884464], [126.88118017894061, 36.88743030997641], [126.88118375989511, 36.88742851131122], [126.8811988264121, 36.88739297727473], [126.88124765616297, 36.8873157306907], [126.88126569522889, 36.88730594478058], [126.8812897824789, 36.88723921541071], [126.88128442560763, 36.887228568492965], [126.88128863754137, 36.8872181102205], [126.88132226794296, 36.88712470087488], [126.88144571323019, 36.88683943571141], [126.88149755046265, 36.88671732531025], [126.8815942694291, 36.8864777755813], [126.88164048855879, 36.886375402766674], [126.88165185237551, 36.88633334096056], [126.88166018787409, 36.88631639930015], [126.88180428614471, 36.88634900973068], [126.88194824097815, 36.8864233759973], [126.88222692139526, 36.88650649068762], [126.88231644402883, 36.886525817912414], [126.88235142910955, 36.886542388041164], [126.88242574417663, 36.88662489417026], [126.88253920593787, 36.88674596919156], [126.88258047366504, 36.88677810740934], [126.88261985726457, 36.88679393408453], [126.88266223532123, 36.886804140466644], [126.88283372054715, 36.88682739610261], [126.8832305155861, 36.886887529212494], [126.88371237225667, 36.886951980208195], [126.88386556835546, 36.88697186364872], [126.88396295077213, 36.88698575500881], [126.88406598157458, 36.88699640692583], [126.88420118447901, 36.88700870565526], [126.88437419169298, 36.8870205853075], [126.8845749849232, 36.88703249503582], [126.88481793046286, 36.88704868096517], [126.88508850032994, 36.8870671547916], [126.88547370742204, 36.88708536814152], [126.88610192964458, 36.8871246190944], [126.88647355396589, 36.887150116630536], [126.8870560735703, 36.887183191447036], [126.8870808531573, 36.887154442355275], [126.88711716001627, 36.887156883235235], [126.88712593848052, 36.88719164678721], [126.88764146850207, 36.88722164723696], [126.88837157953517, 36.887266280827504], [126.88909466659847, 36.88730439964132], [126.88930148545377, 36.88731546517477], [126.88950744143581, 36.88735090641515], [126.88978080765106, 36.887406355823856], [126.89027949456059, 36.887516359002014], [126.89032468379003, 36.88737870212458], [126.89042265317029, 36.88738532375231], [126.8907944949804, 36.88740837499562], [126.89119999433827, 36.8874306455941], [126.8916551776689, 36.88745908266308], [126.89211452773206, 36.88748545335966], [126.8925698162275, 36.88751316811129], [126.89303221833093, 36.88753939220937], [126.89356324495522, 36.887570176308024], [126.89406727098378, 36.88760098261553], [126.89457021128595, 36.88763091406367], [126.89552684655477, 36.88768005789705], [126.89622293673469, 36.887714657065736], [126.89661580335806, 36.88773503670291], [126.89703687836858, 36.88775687789876], [126.89812626291172, 36.88781498207158], [126.89906253601323, 36.887867639763925], [126.89999999699035, 36.88791666866192], [126.90006435291815, 36.88791979529325], [126.9011294305749, 36.88797439223924], [126.90187851353741, 36.88802051867332], [126.90242290263778, 36.88803853893829], [126.90250983826536, 36.88804194366178], [126.9029582904185, 36.888077183447884], [126.9034176367693, 36.88810359879615], [126.90356996510747, 36.88811453539369], [126.90367571886398, 36.88814012275508], [126.90396236517238, 36.88821235329203], [126.9044667922461, 36.88833972371531], [126.9052046029531, 36.88852377871561], [126.9052984011925, 36.888548239281214], [126.90578666673889, 36.88867865304662], [126.9058078882414, 36.88868128321587], [126.90581830895532, 36.888681923067004], [126.90586758985194, 36.88868384797392], [126.90587952036206, 36.88868661196444], [126.90588880584892, 36.88868921669486], [126.90617148109347, 36.88885362738677], [126.90665586818427, 36.88913325983775], [126.90683219668992, 36.88924233355791], [126.90684658261007, 36.88924860551701], [126.90685092945272, 36.88925363745338], [126.90685165943034, 36.88926140435188], [126.90684802547304, 36.88927099021988], [126.90684308185702, 36.88927752807072], [126.90681625300134, 36.88931004632718], [126.90680933586464, 36.88934276854792], [126.90681127731847, 36.88938860956652], [126.9068152284558, 36.889395469464425], [126.90682430882998, 36.889400811691466], [126.9068360622762, 36.88940327181634], [126.90686363694537, 36.88940316787478], [126.90688049670575, 36.8894053325692], [126.90689413272267, 36.88940931831764], [126.90690037649911, 36.889413440245306], [126.90690774918512, 36.889420764335505], [126.90691663797683, 36.88942824202669], [126.90692324972989, 36.88943267047859], [126.9069938468979, 36.88946859929268], [126.90702206317793, 36.88947550455607], [126.90705749738787, 36.889480145339924], [126.90708422870748, 36.889481419957356], [126.90712081232772, 36.88947935789521], [126.90716365916178, 36.889477164809534], [126.90719608358388, 36.889475406494014], [126.9072186431344, 36.889474837544654], [126.90724137703018, 36.88947929772754], [126.90725478732321, 36.889493032350565], [126.90725760416464, 36.88950232588893], [126.90725700657302, 36.889513138459186], [126.90725470870247, 36.88952120034859], [126.9072535432378, 36.889529111035166], [126.90725332008695, 36.889537942291625], [126.90725500190332, 36.889548306494774], [126.907269629452, 36.889577045449506], [126.90727396233275, 36.889583598941776], [126.90728342366275, 36.889590769363984], [126.90730481503337, 36.88960224149797], [126.90732448561498, 36.88961506803184], [126.90733751513368, 36.88962986625552], [126.90734259175593, 36.88964357552865], [126.90734027664125, 36.88965590117388], [126.90733077465345, 36.889665021488454], [126.90731938243368, 36.88966895987607], [126.90730326059716, 36.889671208799086], [126.90728430212505, 36.88967223923841], [126.90726232638619, 36.889668996192086], [126.90723769725014, 36.88966376934396], [126.90722083876025, 36.88966114136307], [126.90717246674849, 36.88967017952907], [126.90715691036559, 36.88967593247013], [126.9071430283406, 36.889690980461246], [126.9071310058284, 36.889715470460985], [126.90712162888646, 36.88974179458064], [126.90712421255466, 36.8897658562518], [126.9071328728452, 36.889784604468964], [126.90714927634434, 36.889810372117374], [126.90716894769132, 36.889824264189784], [126.90718959374445, 36.88983024462179], [126.90721498643015, 36.88983455401112], [126.90724587872262, 36.8898370554853], [126.90728263953258, 36.88983880557223], [126.90731619348125, 36.88983903063167], [126.90734880866515, 36.889837875392644], [126.90739109323886, 36.889833240108295], [126.90743034091291, 36.88982890156458], [126.90746770790791, 36.8898207567386], [126.90750357545707, 36.88980971979651], [126.90753356691292, 36.889795767114805], [126.90755064897374, 36.88978834864733], [126.90764381112099, 36.88970021897701], [126.90764856016845, 36.88969794216071], [126.90765689353411, 36.889699175414485], [126.90786634688772, 36.889823697643536], [126.90842195200418, 36.89015160586042], [126.90855962233697, 36.890232855224916], [126.90926974148577, 36.89065163520917], [126.90974802657408, 36.89095011903203], [126.91004897684442, 36.8911587172333], [126.91029512829972, 36.89137100548211], [126.91064056831922, 36.891718699743436], [126.91087276887846, 36.89203054720389], [126.91105346028675, 36.89232599040412], [126.91118525432489, 36.89261996325381], [126.91126161676908, 36.89287470802908], [126.91131151106222, 36.893133549396715], [126.91134744151162, 36.89331994086798], [126.91139226049741, 36.893600802798346], [126.91139126576664, 36.89361663446968], [126.91138382383666, 36.893631082034325], [126.9113762048586, 36.893640815963046], [126.91135572481463, 36.89364548675954], [126.91133201538915, 36.89365153338564], [126.91131246347602, 36.893656060935754], [126.91121440248658, 36.8936732253686], [126.91117381435281, 36.893680601790756], [126.91114650093911, 36.89368740396025], [126.91111557353871, 36.89369480480119], [126.91108276085646, 36.893701592321335], [126.91105372928885, 36.89370823090497], [126.91103304489084, 36.89371641446817], [126.91101879605225, 36.89372749652562], [126.91100870584975, 36.893740420115975], [126.91100334781076, 36.89375532870879], [126.91099949889517, 36.89377481691475], [126.91099887349505, 36.89379369369351], [126.91100355357905, 36.893811513233956], [126.9110145055159, 36.89382783140572], [126.91102735892403, 36.893839734706255], [126.91111539575235, 36.893876602082656], [126.91130535681992, 36.893932863312536], [126.91131481706243, 36.893939124749394], [126.91131934249717, 36.893945525799914], [126.91132236641349, 36.893951322654154], [126.91132252566821, 36.893958937053505], [126.91118610466033, 36.894548071576295], [126.91103674443531, 36.89521620572177], [126.91089263003018, 36.895840189371306], [126.91075899816876, 36.896446087678164], [126.91059395145146, 36.897215132135976], [126.91034252277068, 36.89832903889214], [126.91015186439523, 36.89916503547087], [126.909958366782, 36.899969800479944], [126.9099523174102, 36.90000065032843], [126.9098731923982, 36.900403749405655], [126.90978628122781, 36.90082464930995], [126.9096950124399, 36.90123934536058], [126.90961062232059, 36.901589173291164], [126.90965825608983, 36.90159560650918], [126.90970527851262, 36.90160184556452], [126.91019385194473, 36.90166638508569], [126.91032129068752, 36.90168308319523], [126.91313223178683, 36.90366424315379], [126.91502248154735, 36.904996322905234], [126.91674272489313, 36.9062085221801], [126.91676808376346, 36.90612869398879], [126.91701489215072, 36.90535132800181], [126.92017416165262, 36.89539921943754], [126.92018824802626, 36.895397315813334], [126.92192257181203, 36.89516298705758]]], &quot;type&quot;: &quot;Polygon&quot;}, &quot;id&quot;: &quot;0&quot;, &quot;type&quot;: &quot;Feature&quot;}], &quot;type&quot;: &quot;FeatureCollection&quot;});\n",
       "\n",
       "        \n",
       "    \n",
       "        function geo_json_3f1eb4751076253ae1838aa0e6322ecb_styler(feature) {\n",
       "            switch(feature.id) {\n",
       "                default:\n",
       "                    return {&quot;color&quot;: &quot;black&quot;, &quot;fillColor&quot;: &quot;#fdca26&quot;, &quot;weight&quot;: 1};\n",
       "            }\n",
       "        }\n",
       "\n",
       "        function geo_json_3f1eb4751076253ae1838aa0e6322ecb_onEachFeature(feature, layer) {\n",
       "            layer.on({\n",
       "            });\n",
       "        };\n",
       "        var geo_json_3f1eb4751076253ae1838aa0e6322ecb = L.geoJson(null, {\n",
       "                onEachFeature: geo_json_3f1eb4751076253ae1838aa0e6322ecb_onEachFeature,\n",
       "            \n",
       "                style: geo_json_3f1eb4751076253ae1838aa0e6322ecb_styler,\n",
       "        });\n",
       "\n",
       "        function geo_json_3f1eb4751076253ae1838aa0e6322ecb_add (data) {\n",
       "            geo_json_3f1eb4751076253ae1838aa0e6322ecb\n",
       "                .addData(data)\n",
       "                .addTo(map_ab3531dfb2a4b421ee56c7d5f162f888);\n",
       "        }\n",
       "            geo_json_3f1eb4751076253ae1838aa0e6322ecb_add({&quot;features&quot;: [{&quot;geometry&quot;: {&quot;coordinates&quot;: [[[126.84333355771076, 36.837584047084256], [126.84347368922624, 36.83717591025561], [126.8446620295613, 36.83787725814238], [126.84501276241504, 36.8381101228545], [126.8453526211025, 36.838282185091295], [126.84999367055416, 36.83820105204736], [126.85137306372066, 36.838176901609465], [126.85278197189757, 36.83815221795318], [126.85822914230945, 36.83805659721899], [126.86054942487895, 36.83801579161004], [126.86127279952332, 36.837646466545465], [126.86329880773523, 36.83661202844869], [126.86384479579148, 36.83633324743046], [126.86627199862876, 36.83509386399438], [126.86941364454074, 36.8334754145389], [126.87179597124123, 36.83381928304341], [126.8718156996878, 36.83380227410205], [126.87186670809734, 36.83375829668883], [126.87193573945225, 36.833698779664275], [126.87212374968823, 36.83355462796919], [126.87228735339161, 36.83345919865277], [126.87225462001481, 36.83341181853901], [126.87216244692965, 36.83328227622401], [126.87219784172571, 36.83321941731037], [126.87198858817206, 36.83289821884571], [126.87192011357774, 36.83276188736788], [126.87182209531231, 36.8326605239736], [126.87172649389768, 36.832609770026075], [126.87135621268342, 36.83240996905597], [126.87125635880034, 36.832394100114286], [126.87125238132651, 36.832367080561184], [126.87125280670175, 36.83233373986488], [126.87125612065635, 36.83207871467807], [126.87125715551103, 36.83198405495386], [126.8711875959931, 36.83185311160037], [126.87112069490784, 36.83137851946916], [126.87104940965223, 36.83132149146883], [126.8710009042861, 36.83128205049928], [126.87090018405044, 36.83125713329997], [126.87073489890332, 36.831210183549366], [126.87068788036562, 36.831159563287166], [126.87058560282243, 36.831015139137385], [126.87056088826446, 36.830869908583495], [126.870548445587, 36.8307967709099], [126.87044192093023, 36.83052124021788], [126.87038264343217, 36.83033739584231], [126.87039756161501, 36.83024635593854], [126.87040986335911, 36.83020446924496], [126.87041245688485, 36.8301890356739], [126.87042162572635, 36.83011728166273], [126.8704765799242, 36.830001838650524], [126.87076409369853, 36.82990910824444], [126.87107535802868, 36.82981113191401], [126.87107690278732, 36.829810646088774], [126.87149353045263, 36.8296749556411], [126.87152272149329, 36.82967368024028], [126.87154368079555, 36.8297021146953], [126.8716131169098, 36.829811791942475], [126.8716933544485, 36.829792288451955], [126.87239464092235, 36.82957841929094], [126.87279886565125, 36.82946295770986], [126.87308897536073, 36.82938132863459], [126.87317380499948, 36.829357456470774], [126.87403872861229, 36.82913083179654], [126.87418368247431, 36.829093870813296], [126.87468301048608, 36.82895961762933], [126.87507316871492, 36.82886071332887], [126.87549721238108, 36.82875424764795], [126.87568228834758, 36.828706405875515], [126.8760542555574, 36.82861135479441], [126.87664085179559, 36.82845818083521], [126.87685368835959, 36.82840655603702], [126.87676729889263, 36.828543648880306], [126.87672219293202, 36.82861250887982], [126.87650304450142, 36.82898862372388], [126.87639671885721, 36.82906757433415], [126.8763411906122, 36.82923778765852], [126.87627205710415, 36.829385953940054], [126.87622128611633, 36.82957401569646], [126.87617161184592, 36.829598518010116], [126.87609835980064, 36.82976134184168], [126.87606165465255, 36.82978537128939], [126.87608512971606, 36.82983287488304], [126.87596805175407, 36.82996663654666], [126.8757737133375, 36.83018552601011], [126.87571417481438, 36.830270472889296], [126.87565315394279, 36.830474064877095], [126.87562084322398, 36.830640617232774], [126.87558082881102, 36.83078172435357], [126.87561964299945, 36.83103889291858], [126.8755992314054, 36.83115450170024], [126.87565160806, 36.831466048624506], [126.87575530430502, 36.83165959789397], [126.87600408001767, 36.83159890184069], [126.87613563788297, 36.83169548523097], [126.87628595882197, 36.8317443664393], [126.87633947616736, 36.83175056251331], [126.8766656938067, 36.83178832416224], [126.87700143259808, 36.831827189508154], [126.87722559220876, 36.831870054294924], [126.87747116433687, 36.8318835838994], [126.87763115842984, 36.83188557177198], [126.87774544575383, 36.83188287064963], [126.87782504149779, 36.83189256856571], [126.87784880994253, 36.83141660470769], [126.87793771013868, 36.830750477401416], [126.87795048955617, 36.830665993320416], [126.87803455196341, 36.8301764136916], [126.8780536045347, 36.830066400784126], [126.87811092084075, 36.8299397831149], [126.8783067691922, 36.829501510871644], [126.87842428202148, 36.8292817991279], [126.87846464708917, 36.82929566356286], [126.87861069930935, 36.829333985133225], [126.87871961654699, 36.829386398728204], [126.87878578732945, 36.82939244166343], [126.8788574901763, 36.82942965869387], [126.87889717375117, 36.82946986170695], [126.8789473818815, 36.82949850534994], [126.87910819650918, 36.829594286367026], [126.87918154638247, 36.82965975435231], [126.87930817265092, 36.82972086154734], [126.87941882493577, 36.82974601818714], [126.87949168620513, 36.82974623620129], [126.87970674891106, 36.829789944874385], [126.87992891808155, 36.82986991965155], [126.88017990885668, 36.82994053392935], [126.88038761147382, 36.82996703030809], [126.88052397663454, 36.83000847577325], [126.88064057031244, 36.83001394563477], [126.8807384462815, 36.83002492133147], [126.88109953699808, 36.830067882543794], [126.8811330805637, 36.830279702287655], [126.88113104277166, 36.83044275566589], [126.8811364525748, 36.830530996489586], [126.88114518665856, 36.830687121465324], [126.88114796657078, 36.83073682767339], [126.88120429486227, 36.83070920282444], [126.88125342198886, 36.830690428807586], [126.88124951430596, 36.83062980914122], [126.88122002046792, 36.830172128160726], [126.88118414333404, 36.830047856311296], [126.88119354974624, 36.83001079421416], [126.88111543824395, 36.829992432493114], [126.88113331769217, 36.82994871129302], [126.88114682203619, 36.82978602227605], [126.88119658619479, 36.82959646212863], [126.88131613778322, 36.829400522237336], [126.88141564761054, 36.82927727937499], [126.88158234387976, 36.82910992438176], [126.88179511702138, 36.828917708643], [126.88206699107317, 36.82873564356327], [126.88216026469259, 36.82874982137246], [126.88254125005568, 36.82879808837107], [126.882590923856, 36.82872923003255], [126.88266169933749, 36.828714541443354], [126.88266281417542, 36.828714796033104], [126.88309701703088, 36.828813699994235], [126.88342658461343, 36.82887725826863], [126.88346895248198, 36.828857665809394], [126.88350669326374, 36.828814350112765], [126.88363963539727, 36.828661799346854], [126.88367124564657, 36.82865327138619], [126.88384747084437, 36.82865159757299], [126.8845163311398, 36.828663899700274], [126.88485395383525, 36.82864386780628], [126.88490485148812, 36.8286384195107], [126.88516848746796, 36.828524328420144], [126.88516444476389, 36.82849898566339], [126.88535002830383, 36.82841603241002], [126.88565183300155, 36.828300390526735], [126.88579562690683, 36.8282457696979], [126.88612255855162, 36.828124970279376], [126.88697627105758, 36.82781061883455], [126.88617515467247, 36.827771817592335], [126.88632566450552, 36.827469752674794], [126.88633012635894, 36.8274609071939], [126.8863500388524, 36.82742136760082], [126.88639997753911, 36.82732244910108], [126.88644849559122, 36.82728880298102], [126.88642759579892, 36.827151473914476], [126.8864260983281, 36.827072751172764], [126.88642306650553, 36.82691262276694], [126.88641421732136, 36.82684824929963], [126.88639250747697, 36.82676492038173], [126.88638300070274, 36.82672841649456], [126.88637905234977, 36.82666201119521], [126.88637856575956, 36.82662549255902], [126.8863779840727, 36.82658178523239], [126.8863862381415, 36.82653475566991], [126.88638558033105, 36.82650984868843], [126.88636217989303, 36.826432384914845], [126.88622415183886, 36.82641140057195], [126.8861626945313, 36.826170412935205], [126.88611651369159, 36.82594666061787], [126.88608905599705, 36.82590718477573], [126.8860086486514, 36.825827926555824], [126.88601810719123, 36.82579296289509], [126.88609007418457, 36.8256688526044], [126.88605871933476, 36.82563437232661], [126.88602097552926, 36.82559199295529], [126.88597829149346, 36.8255408782039], [126.88581060310723, 36.825326387170904], [126.8857962710809, 36.825301890924045], [126.88575930771061, 36.8252323348339], [126.88575609968197, 36.825226294740254], [126.8857216027235, 36.825224421790885], [126.88549401607874, 36.82521116991884], [126.88549117472856, 36.82518564045692], [126.88546372300814, 36.82495900083765], [126.88542994330663, 36.82468013425866], [126.8854804700278, 36.8246666121577], [126.88551143500172, 36.82466170420831], [126.8855709077622, 36.824659089030085], [126.88561868787036, 36.82465698853416], [126.88561126412306, 36.82462200978241], [126.88559441849713, 36.82454756172113], [126.88558913430414, 36.82453024451064], [126.88556636735892, 36.82445562341712], [126.88549210402371, 36.82366463475976], [126.88552139577239, 36.823663073373666], [126.88554905870251, 36.8236615991175], [126.88554394456841, 36.82362694780067], [126.88554150697183, 36.8235851437471], [126.88550069844759, 36.82318998734795], [126.88554798615766, 36.82318428572261], [126.88570737625004, 36.82322509782752], [126.88572626743148, 36.82322906266504], [126.88576188344324, 36.82305321229689], [126.88574682592025, 36.82302694904253], [126.88574159285231, 36.823017833537925], [126.88572997896942, 36.822997582747824], [126.88563279066526, 36.82298240313596], [126.88561406405661, 36.82298731486158], [126.88554242094769, 36.823098629543225], [126.88554098475745, 36.8231293202749], [126.88549725696926, 36.82313098014148], [126.88545766563989, 36.822725005316], [126.88545256292551, 36.8226749157275], [126.88544626669196, 36.822614229673974], [126.88538833469703, 36.822617867799835], [126.88530427464245, 36.82172680267594], [126.88530032530483, 36.82167664331346], [126.88524852851558, 36.82118978073764], [126.88520528559705, 36.82078333429694], [126.88520196253549, 36.82074348360088], [126.88519729359439, 36.82068770083308], [126.88532802430814, 36.82067879421994], [126.88537294369888, 36.82067573429798], [126.8855846524002, 36.82066134321346], [126.88574228776858, 36.820651134635675], [126.88566903602303, 36.81985551012704], [126.88566013270471, 36.819758801039995], [126.88572512458771, 36.81975453937655], [126.88586172712573, 36.81974557956774], [126.88585608665011, 36.81969626605171], [126.88584307412596, 36.819579447713124], [126.88575885916032, 36.81882335302345], [126.8857551564394, 36.818758867186546], [126.88575435741157, 36.81868740105112], [126.88575129594264, 36.818651830016314], [126.88579559388037, 36.8186486567409], [126.88611835305583, 36.81862792045916], [126.8860328180164, 36.817798236777946], [126.88602652272243, 36.817744156579806], [126.88620039287564, 36.8177335119499], [126.88620113098935, 36.81773346708128], [126.8864620375737, 36.81771729284577], [126.88636250787162, 36.816829654560095], [126.88635902954445, 36.81677998260403], [126.88621458433272, 36.81678889712083], [126.88594543211163, 36.81680550602085], [126.88594491979367, 36.81680058503076], [126.88584777992405, 36.81586757924147], [126.88579808825192, 36.81587274394729], [126.88579381973639, 36.81587318705132], [126.88534398975692, 36.81590075505598], [126.88501364311637, 36.81592057023002], [126.8850096035658, 36.815872772160034], [126.88500783669495, 36.81585566059513], [126.88497746004393, 36.815561571068], [126.88453091556885, 36.81545035938643], [126.88452443162917, 36.81546200509418], [126.88450662210963, 36.81546854222373], [126.88439458777566, 36.81544246730274], [126.88438830791405, 36.81543478683776], [126.88440186149143, 36.81540528382946], [126.88440493444357, 36.81539844686716], [126.88437543888699, 36.815388888376724], [126.88434407746503, 36.815375719802596], [126.88430292673695, 36.81535237537849], [126.88425629396919, 36.81533009151321], [126.88425780071906, 36.8151131422301], [126.88419168867189, 36.81500355059245], [126.88417843442139, 36.81500716350122], [126.88414931572667, 36.81501328323134], [126.88413165014062, 36.815005781770665], [126.88408318480873, 36.81486073704173], [126.88408541549053, 36.81484763781486], [126.88411317514979, 36.81483985418452], [126.8840978530458, 36.81480377967631], [126.8840796597468, 36.814754399222615], [126.88406287912943, 36.814705579577165], [126.88405883215934, 36.81466942283664], [126.88404623367659, 36.814639613126666], [126.88403132681215, 36.81460433584431], [126.88403935746197, 36.81460170732824], [126.88408259302251, 36.81458755484709], [126.88424723632212, 36.814485585580194], [126.88430787600706, 36.81439984292896], [126.88445700871203, 36.81402451834268], [126.88445933102867, 36.81397923938826], [126.8844355350948, 36.813075607969026], [126.8844346288168, 36.8130230086939], [126.8844337614628, 36.81298375117762], [126.88443278427208, 36.81293944854132], [126.88437839215517, 36.812941837086505], [126.88437419559087, 36.812908672407396], [126.88435103376526, 36.81272991444367], [126.88439092362528, 36.81272741297516], [126.88438340570085, 36.812653434778944], [126.88431837017697, 36.81201345145168], [126.88427758504625, 36.81161205956757], [126.88426222325695, 36.811460897668525], [126.88423219594966, 36.811165446560494], [126.88419669699975, 36.81081635024292], [126.88417396624956, 36.810569336098304], [126.88415365296709, 36.81037492005117], [126.88458442683408, 36.8103744078616], [126.88468302193066, 36.8103742888351], [126.88460351725412, 36.81033402943055], [126.8845339507036, 36.81028585072454], [126.88440900883423, 36.81028581882375], [126.88414355945073, 36.81028551175697], [126.88414290419817, 36.81026710241453], [126.88414110059553, 36.81021598406767], [126.8841394338891, 36.81016876973819], [126.88413845877096, 36.810131509272544], [126.88413804689799, 36.81010790879755], [126.88410106575886, 36.80908768611207], [126.88378470831049, 36.80909429380145], [126.88322896036608, 36.80910831331561], [126.88298958237242, 36.809114167847085], [126.88255064376928, 36.80912434419532], [126.88243539141219, 36.80912748138108], [126.88198846187187, 36.80913845972275], [126.88191495613302, 36.809140232189016], [126.88187883655824, 36.809140853964024], [126.88180147057827, 36.80710833648367], [126.88178534567548, 36.80666653853665], [126.88177343922517, 36.806340359984596], [126.88176549740794, 36.80615885170024], [126.88173535529599, 36.80533027352814], [126.8817267303953, 36.80527669472651], [126.881686360018, 36.80435284046213], [126.88168528183566, 36.80432576227668], [126.88165865004916, 36.803563792783635], [126.8816537212443, 36.80342280438254], [126.88165150413991, 36.803300360446244], [126.88161325872991, 36.802408823363265], [126.88161111805698, 36.80238339832691], [126.88160744021573, 36.80233974683012], [126.88160553252806, 36.80229064350405], [126.88179009363837, 36.802350590823735], [126.88191324892655, 36.80238162269045], [126.88211411353795, 36.80240647934301], [126.8822045205447, 36.802397882141186], [126.88225810191874, 36.802392791379106], [126.88227502780602, 36.80239012263482], [126.88238595835836, 36.80230523331802], [126.88269374096618, 36.80215875954842], [126.88310192947509, 36.80188191409501], [126.88311616813972, 36.801907629028], [126.88323664626212, 36.801776799633075], [126.88334851962979, 36.801668308705175], [126.8833701462538, 36.80165338992122], [126.88342984492542, 36.80161898246942], [126.8834682032469, 36.80159622298374], [126.88351604984636, 36.80158320514814], [126.88358714227998, 36.80156386415344], [126.88366959369216, 36.80153176865347], [126.88371715551573, 36.8014921670584], [126.88379970457689, 36.8014487063869], [126.88388546399123, 36.80143071586557], [126.88395053442274, 36.80141416321713], [126.88400308155957, 36.80139646392002], [126.8839870185546, 36.80142299357436], [126.88418179939109, 36.80140131619552], [126.88444039161882, 36.80137358285547], [126.88449441546963, 36.80134334989496], [126.88452461407437, 36.801327420554934], [126.88458597556799, 36.80131990261147], [126.88466611731158, 36.80132617315382], [126.8848184551639, 36.801340145960474], [126.88489702983736, 36.801353143938556], [126.884960860977, 36.80137770705484], [126.8850564934264, 36.801395904407755], [126.88515520273239, 36.80140333614826], [126.8851936048486, 36.801394092796144], [126.88522441234868, 36.80140715191868], [126.88526291048254, 36.801423481612034], [126.88527251247281, 36.80140976777615], [126.8852948076127, 36.80141830443656], [126.88529480172434, 36.80141539449846], [126.88530090754674, 36.80141667006927], [126.88529467785244, 36.80143089353372], [126.88535283732429, 36.80145093605979], [126.88535339524273, 36.801452379473666], [126.88577590243314, 36.80160205889775], [126.88600297114255, 36.801725369982485], [126.88601493589573, 36.80172684163244], [126.88602857006406, 36.801714095083305], [126.88603470150646, 36.80168997846911], [126.88636487241459, 36.80149340669592], [126.8868765082558, 36.80117594653081], [126.88713690982286, 36.80101659288413], [126.88715282548345, 36.801004187893774], [126.88726537207341, 36.80091645189074], [126.88731795116907, 36.80087546480989], [126.88753685543747, 36.8006938233746], [126.8877147978386, 36.80055568238408], [126.88784235833361, 36.80046386378611], [126.8881128508805, 36.800289281982316], [126.88831815162214, 36.80017509014968], [126.8883373730463, 36.80013429703493], [126.8883656077316, 36.80012835919688], [126.88839844826929, 36.80012145162982], [126.88854340959855, 36.80013219416913], [126.88899308392517, 36.8001655207698], [126.88928012435208, 36.79996021484636], [126.88955947587979, 36.79983851331531], [126.88958389471611, 36.79982155059203], [126.88960323774916, 36.79981138585683], [126.88961144753448, 36.7998068702154], [126.88963532019089, 36.799793753907544], [126.88972012259968, 36.799745939399074], [126.8897882813109, 36.79970940142417], [126.88992794832501, 36.79963429622588], [126.89031983769236, 36.799423554270035], [126.8904685591586, 36.79934357287786], [126.89052473350186, 36.79931336079369], [126.89086016105668, 36.79913308726611], [126.89087788445369, 36.799123572090835], [126.8911122292733, 36.79899762847538], [126.89116992806638, 36.79898718206621], [126.89122074338592, 36.798977984073005], [126.89149923740909, 36.79892756634071], [126.89196029434851, 36.798844098222915], [126.89207703904931, 36.798544336042525], [126.89210198659555, 36.798208444650804], [126.89210243685152, 36.79820792230289], [126.8925058559794, 36.79774087858903], [126.89251980668806, 36.797724727183564], [126.89286365892612, 36.79735893815402], [126.89291901698644, 36.797300048935554], [126.8930492355308, 36.79721281763641], [126.89334679956615, 36.79701347980182], [126.89336536121664, 36.797001044190424], [126.8935423214795, 36.79694980442369], [126.89378672789933, 36.79687902919549], [126.89386958604982, 36.796871525857185], [126.893858297803, 36.79654642366679], [126.89460387474516, 36.796546573717215], [126.89512756039638, 36.79655129888335], [126.89522142019179, 36.79655214578188], [126.89554007663826, 36.79631846848697], [126.89585658709288, 36.796102889746024], [126.89630307427754, 36.79586760056009], [126.89657400847321, 36.79589427761019], [126.89691109837653, 36.79585883818181], [126.89697367342163, 36.79582935500138], [126.89706301770822, 36.79578726085124], [126.89724548836426, 36.7957012922006], [126.89730256317398, 36.79560210533808], [126.89733542432641, 36.795545002107325], [126.89736386043037, 36.795495592942444], [126.89757356240628, 36.79513116196518], [126.89770766214389, 36.7949204289168], [126.89812740556064, 36.79440641555611], [126.89819031233934, 36.79431024158191], [126.8982192251793, 36.794255353733156], [126.89824227626981, 36.79421158908455], [126.89826841963962, 36.79416196976714], [126.89827082031881, 36.794157411509715], [126.89829342321401, 36.79413139072637], [126.89833241498518, 36.79408650234948], [126.89851152042682, 36.79405751581361], [126.89870572643086, 36.7940210186595], [126.89919647261551, 36.793928798383156], [126.89946224298284, 36.79399939434695], [126.89951787037754, 36.79395874710487], [126.89992252787862, 36.79369991759567], [126.90045686873323, 36.793689519429826], [126.90055101045735, 36.79368769520737], [126.90084572058983, 36.7936818873353], [126.9008508750945, 36.793681785293195], [126.90093859563824, 36.79368007445439], [126.90119408279351, 36.79373354470854], [126.9012292204039, 36.79374063039488], [126.90151272530915, 36.79379780718599], [126.90168198780746, 36.793831940676846], [126.90194698336484, 36.79388913149911], [126.90198082818395, 36.79389643582847], [126.90200667225922, 36.79390201419266], [126.90201442750255, 36.793788525073474], [126.90201955737999, 36.79371343217466], [126.9020382383236, 36.79343991664666], [126.90228985577014, 36.79320201849948], [126.90240419260822, 36.79299410143941], [126.9024536654012, 36.79289298436933], [126.90247125727649, 36.792857026947985], [126.90250886685857, 36.79278015723522], [126.90306496384547, 36.7923634691748], [126.90298910375087, 36.79228423587164], [126.90220488362762, 36.791465216170565], [126.90336587455246, 36.79144638333173], [126.9035263303625, 36.79143330559165], [126.90380549999301, 36.791439264820866], [126.9041815656236, 36.79146108232287], [126.90489569951032, 36.79159539811775], [126.90518148030739, 36.79164632682073], [126.90567767296822, 36.79163338137469], [126.90637173567707, 36.79136576004477], [126.90639260597355, 36.79135900949441], [126.90681197319674, 36.790865408125995], [126.90718708537351, 36.79042388743307], [126.90724605475617, 36.79037571696695], [126.90729239273044, 36.79027921389289], [126.90735540213724, 36.79014799386019], [126.90737681455975, 36.790117950276766], [126.90740498292023, 36.79005883577379], [126.90740672594401, 36.790055175510815], [126.9074427409646, 36.78996768783774], [126.90746351282817, 36.78995444608528], [126.90744667461455, 36.78987633713366], [126.90744780053573, 36.789730131148005], [126.90744783362032, 36.7897258349488], [126.90744890393, 36.78972482343252], [126.90753744814526, 36.7896411563664], [126.90770654935582, 36.789525053767775], [126.90770459010606, 36.789509922900876], [126.90769404710741, 36.789428484677394], [126.90775479896271, 36.78923042423707], [126.90776507044568, 36.78900260399236], [126.9077652457051, 36.789002258703825], [126.90802727453384, 36.788488107446305], [126.90802927193306, 36.788488669081254], [126.90806056531586, 36.788427042257204], [126.90820280859532, 36.78814691415417], [126.9083786340413, 36.787804351805136], [126.90827288105896, 36.78761503628333], [126.90817828224719, 36.78740942905686], [126.90837062491718, 36.786619191037], [126.90847513866025, 36.786351077028314], [126.90858008822315, 36.78630469763269], [126.90861997752371, 36.78630009657347], [126.90873278663305, 36.786249795093845], [126.9088697565825, 36.78620243154714], [126.90898725225672, 36.786128794436], [126.90916067626598, 36.786054154946754], [126.90929143371193, 36.78599403501681], [126.90968163331361, 36.78573278130309], [126.90968516588042, 36.785730738092255], [126.90979244163103, 36.78566872518998], [126.90988191818566, 36.78564288068711], [126.91034825559841, 36.78550818729622], [126.91046775606812, 36.78540631042965], [126.91047300401941, 36.78540183634064], [126.9106537708528, 36.78526389792954], [126.91082978796923, 36.7850479989099], [126.91103983632867, 36.78478668478789], [126.91105057424635, 36.78477333140916], [126.91106171496037, 36.784759478810734], [126.9112501524736, 36.78452504527402], [126.91125892566915, 36.78451535651099], [126.91128410922158, 36.78448653159601], [126.91158431874473, 36.78416512587095], [126.91159224376729, 36.78411362126592], [126.91161540313608, 36.78396311230048], [126.9117118087595, 36.783336571606085], [126.91171581552301, 36.78330824403647], [126.91176431267863, 36.78296517454123], [126.91202053470495, 36.782891820043965], [126.91243614334883, 36.78277283426974], [126.91243886675353, 36.782773114554615], [126.91257782796289, 36.78278736966979], [126.91258290300469, 36.7827878905357], [126.9125951068495, 36.78278914253323], [126.9127442294001, 36.78280444104287], [126.91290366335625, 36.78282079809299], [126.91298211605753, 36.78282884950307], [126.91303612524823, 36.78283321406504], [126.91340163895705, 36.78286274426652], [126.91348422866227, 36.782869420282466], [126.91352073145093, 36.78287333952411], [126.91383464788196, 36.78290705640231], [126.91395209341115, 36.78291966779755], [126.91399806494077, 36.782926694908575], [126.9142226010615, 36.78296101971986], [126.91444456577092, 36.78298336002771], [126.91448745593873, 36.78298767099993], [126.9147462697684, 36.78287056278028], [126.91493106263276, 36.78278531723526], [126.91499492660618, 36.78276648426363], [126.91520088885035, 36.782705737783786], [126.91540992821255, 36.78264469596449], [126.91547985713491, 36.782623507266464], [126.91603398156518, 36.78300644414059], [126.91616085535212, 36.7830937623793], [126.9161750518671, 36.78312102377407], [126.91695820532803, 36.782909532527746], [126.91702166268165, 36.78287419970705], [126.91699091809548, 36.78284865121896], [126.91703236587135, 36.78282087114812], [126.91713946129056, 36.78274909323419], [126.9172327894772, 36.78283010880469], [126.9173421483804, 36.78292504207887], [126.91753812064574, 36.78309513064283], [126.91758116790636, 36.78312877125836], [126.91806106791475, 36.783398811100895], [126.91843886459158, 36.783567492429526], [126.9190620403812, 36.78370066001978], [126.91991410956352, 36.784346439691504], [126.92069331764074, 36.78445900932087], [126.92148596898718, 36.784573507063705], [126.9218740436304, 36.78462956268803], [126.92189740138082, 36.78456905104356], [126.92193427358816, 36.784473521946786], [126.9219676596286, 36.78438702838427], [126.9224613487608, 36.78429760698767], [126.92260450620864, 36.78430886710268], [126.92296274721718, 36.784337047168975], [126.92343280221546, 36.78457299642518], [126.9240836064598, 36.784543054624486], [126.92416259893783, 36.784452400126746], [126.92433366238616, 36.784234803675716], [126.92436855461395, 36.78420368455939], [126.92451910556592, 36.78410868306294], [126.92455119752609, 36.78408843280362], [126.92526626526808, 36.783982964320764], [126.92545645003788, 36.783954911852256], [126.92554978052061, 36.78394179738872], [126.92566026274004, 36.7834081239452], [126.92583329264286, 36.7827412708261], [126.92602506707011, 36.781601544316075], [126.92613166441411, 36.78124229362577], [126.9261107714284, 36.781242766162784], [126.92605365301766, 36.7811702761648], [126.92595852915814, 36.7810495547483], [126.92596841441839, 36.7810229876468], [126.9261057344737, 36.78065395467174], [126.92615984885089, 36.78050852120962], [126.92624753000761, 36.7804047782403], [126.92625856989655, 36.78037633622733], [126.92628625314184, 36.78030499631052], [126.92639399353463, 36.78002744323587], [126.92644916257925, 36.77988531767109], [126.92644744792396, 36.779691911215885], [126.92645483326594, 36.77944041143877], [126.92649315148918, 36.77813530377582], [126.92649674914966, 36.778012806778925], [126.9265111616517, 36.77752197149408], [126.92612806585682, 36.77679605558731], [126.92609889151203, 36.776740774097014], [126.92618629163483, 36.7764507530113], [126.92619033695185, 36.776437834711835], [126.92627993260437, 36.77615174369592], [126.92659408947306, 36.77514857472947], [126.92651637868387, 36.775092623063], [126.92646491484743, 36.77505556997934], [126.92642726380359, 36.77492100176603], [126.92641577448997, 36.774895573757114], [126.92641343738681, 36.77489040070424], [126.92621938984205, 36.7744600794615], [126.92615140378159, 36.77431611220687], [126.92583264715553, 36.77375673360824], [126.92582783842468, 36.773588944260275], [126.92580333314072, 36.77302739389558], [126.92566894142338, 36.77290251253933], [126.92507164014341, 36.77250442540171], [126.92495752248033, 36.77239288553289], [126.92485646573105, 36.77231501890364], [126.92475270010952, 36.77225869491181], [126.92469528219337, 36.77224863276569], [126.92465391192215, 36.77224138504872], [126.92384462430319, 36.77210732399847], [126.92338507548591, 36.77205547010167], [126.9232410618227, 36.77219893241439], [126.92316181241381, 36.772277878865566], [126.92287248007824, 36.77257177556067], [126.92274751211649, 36.77256781220105], [126.92253325512047, 36.77256101563484], [126.92215773193824, 36.77234797912256], [126.92186324531782, 36.77234581820237], [126.92115639354108, 36.77204177691757], [126.92074720285788, 36.77201602446955], [126.9205272650538, 36.772031149098645], [126.91959125231786, 36.77199625736691], [126.9194088777149, 36.77221728276449], [126.91889677104264, 36.772100388422196], [126.91877786192181, 36.7720732449947], [126.91826128472427, 36.77195387770299], [126.91815491572265, 36.77192929924109], [126.91809326366739, 36.772059149317364], [126.91786422099312, 36.77254154717869], [126.91739299301577, 36.77353400069241], [126.91714346997979, 36.773507916068404], [126.91620480505449, 36.77351799834552], [126.91582728195684, 36.7731304465383], [126.91564797451377, 36.77265796498473], [126.91521393251107, 36.77255144447885], [126.91474488604538, 36.77243633051844], [126.91395313367762, 36.77193497792204], [126.91383634395561, 36.77182546781227], [126.91365288783899, 36.77165344783524], [126.9136140941374, 36.77162822477166], [126.91344836449512, 36.77152051756787], [126.91325818944657, 36.77147578124961], [126.9131143392433, 36.771458463126976], [126.9130435303097, 36.771449939318224], [126.91290660652878, 36.77141391908576], [126.91274034866308, 36.77109357812196], [126.91261064522982, 36.770888199044016], [126.91241472271258, 36.770670353665885], [126.91221411913958, 36.77044730502021], [126.9120660579002, 36.77055150204947], [126.91199526604721, 36.77060132047189], [126.91164346181041, 36.77084887929124], [126.91145389783765, 36.770982270640715], [126.91114079785105, 36.771611647031904], [126.91113024829129, 36.771632851336975], [126.91108428089439, 36.77172523480746], [126.91095280768236, 36.77180758531501], [126.91092652468618, 36.77181309653837], [126.91048835508856, 36.77190499388369], [126.91034200481482, 36.772026528746316], [126.91023151327981, 36.772118287351795], [126.91004459797718, 36.77227351037175], [126.9100269671482, 36.77228815105716], [126.91001227590982, 36.772285337750084], [126.90973739658338, 36.772232709784674], [126.90918800826765, 36.77212752951349], [126.90911050419062, 36.772112690516735], [126.90900100645605, 36.77209053671684], [126.9089148359191, 36.77207310159387], [126.90828050695923, 36.77194475655706], [126.9081456464668, 36.77191746908868], [126.90787114705024, 36.77160974966095], [126.90725065303127, 36.7713976030109], [126.90665416822941, 36.77119366261446], [126.90616280547293, 36.770841549324246], [126.90589471239633, 36.77086540854422], [126.90513793493803, 36.770932754248335], [126.90490947454475, 36.77094237697137], [126.9047767092385, 36.77094796895332], [126.90412075233067, 36.77063893936143], [126.9037881239919, 36.77077942470002], [126.90368954489507, 36.77082105964178], [126.90360112914315, 36.770837776705555], [126.90303893249634, 36.77094406661606], [126.90296502458932, 36.77095997797654], [126.90266051667268, 36.77102553636949], [126.90170039923515, 36.771179670454686], [126.90156692531903, 36.771201097610906], [126.90152891240685, 36.77125587945145], [126.90149805012503, 36.77130035385831], [126.90141357693945, 36.77142209161287], [126.90107749798291, 36.771581596278835], [126.90094252166253, 36.771645656197464], [126.9009450616224, 36.77167925211236], [126.90096904501888, 36.7719964807195], [126.90095163938898, 36.77200155125073], [126.89949961885263, 36.772424573296355], [126.89852293408418, 36.77271409512838], [126.89849953012506, 36.772716399932314], [126.8983716749049, 36.772729599896564], [126.89797556328193, 36.7727594519571], [126.89782344237523, 36.772757598498195], [126.8977213259135, 36.772795175602226], [126.89769288665838, 36.77280314298867], [126.89723505699152, 36.77293140294106], [126.89703281931301, 36.77298114669719], [126.89594648910376, 36.77270795529832], [126.89556508997386, 36.77260272666851], [126.89532605037937, 36.77251042809269], [126.89515878439431, 36.77244584976796], [126.89508206452945, 36.772416225237606], [126.89484056161427, 36.7723229792467], [126.89476866588504, 36.77229521623596], [126.89464365167332, 36.77224694685669], [126.8945990503396, 36.772229730920934], [126.89457599779487, 36.77222269037088], [126.8945316276105, 36.77220914273858], [126.8940355643557, 36.77205762500984], [126.89403416252692, 36.77210646455516], [126.89400649476475, 36.77209896948753], [126.89397882700803, 36.77209147441351], [126.89388107852896, 36.77206600050008], [126.89378332786042, 36.77204052829827], [126.89379063096263, 36.772009293753534], [126.89377170117844, 36.77207296680044], [126.89370666856107, 36.772041468202715], [126.89369525116832, 36.771867173402406], [126.89370961544836, 36.771703942935716], [126.89373650438186, 36.77156270889093], [126.89366938069026, 36.77137646885097], [126.89369469924836, 36.771133832011685], [126.89366737583538, 36.7709602818596], [126.89358464694247, 36.77085873764099], [126.89357741329056, 36.77084985741315], [126.89357046372885, 36.77084132840073], [126.89355696803824, 36.770848451481875], [126.89352949357682, 36.770784610419156], [126.89339165963581, 36.77061341032116], [126.8933235677923, 36.77052835439566], [126.8932892130049, 36.77047284196682], [126.89324825656426, 36.77040561830171], [126.89323497843235, 36.770383432274734], [126.89319704405011, 36.77032005702695], [126.89317330993363, 36.77024830748639], [126.89311446632875, 36.77010907738625], [126.89311325935358, 36.770019106977735], [126.89311324559766, 36.77001800892506], [126.89311054037134, 36.76982640348325], [126.89314281157853, 36.76967449661414], [126.89313794866646, 36.76961903540709], [126.89313661166993, 36.76960697962542], [126.89313686302705, 36.76960664916903], [126.89313673756949, 36.76960522241375], [126.8931240630367, 36.769530356118395], [126.89313047709848, 36.76937307443035], [126.89321542999441, 36.76921742112852], [126.8932291040465, 36.769193886946425], [126.8932445772279, 36.76916727352394], [126.8932598124037, 36.76914100144166], [126.89326494955158, 36.769111324414354], [126.89327581132137, 36.76903457690939], [126.89322924337061, 36.768944135356456], [126.89308894934402, 36.76875801031255], [126.89306822166861, 36.76873052531739], [126.89306350964121, 36.76867299330525], [126.89304188181579, 36.76844071279645], [126.89296056482098, 36.76828331341444], [126.89290932391606, 36.768178828320835], [126.89288208318997, 36.768123898346715], [126.89274212687688, 36.768168051714646], [126.89257530500723, 36.7682171087396], [126.89247611973444, 36.768062260887156], [126.89245677172258, 36.76803236870919], [126.89243945172062, 36.7680056113579], [126.8923995014111, 36.767941776614336], [126.89230189103729, 36.7677904884228], [126.89221704518202, 36.76763555493359], [126.89220339901692, 36.76762290078534], [126.89220672862308, 36.767618415885124], [126.89218623472466, 36.7676085212895], [126.8921503823536, 36.76757663363744], [126.89209765560717, 36.767565754007194], [126.89203020444016, 36.767551923440664], [126.89185188736553, 36.76751755154274], [126.89176142517664, 36.767507250519564], [126.89133465973254, 36.76745936733765], [126.89127821828087, 36.76745209763342], [126.89104256004761, 36.76742257487714], [126.89084606714042, 36.76732562257735], [126.89080788163312, 36.76730604198], [126.8906150217202, 36.767508161291595], [126.89037168364942, 36.76762189814845], [126.89030770458946, 36.76775574234816], [126.89029401319453, 36.76778393487292], [126.89028110292739, 36.76781055023181], [126.89027515962385, 36.767822754437844], [126.89025516689856, 36.7679788359624], [126.89020735263247, 36.76804914124646], [126.89014135328306, 36.76809193617868], [126.89014025416641, 36.76809206756698], [126.89008135287942, 36.76809908910961], [126.88992508860265, 36.7680893544005], [126.88982692785784, 36.76806383358356], [126.88982529306037, 36.76806341052586], [126.88978675543817, 36.76805346804869], [126.88968324379233, 36.76802676038601], [126.88968265338632, 36.76802660771432], [126.8896635347779, 36.76801880392464], [126.88939255545104, 36.76790818131855], [126.88939011543488, 36.767908413993574], [126.88937485412922, 36.76790986815386], [126.8893736022342, 36.7679100492329], [126.88937297403149, 36.76791014156379], [126.88937087783766, 36.76791053646362], [126.88933724414808, 36.76791776124277], [126.88908539259161, 36.768029973348746], [126.8890832727602, 36.7680327822416], [126.88908187424252, 36.76803336642034], [126.88899752871328, 36.768068377022495], [126.88884033911977, 36.767923672616035], [126.88879046808795, 36.767874333528205], [126.8887597960577, 36.76778539260215], [126.88877309835489, 36.76762588024887], [126.88868762029408, 36.767588486469755], [126.8888136736595, 36.767415459915775], [126.88881183915318, 36.76741535493637], [126.88869917485317, 36.76741371778335], [126.88864001608589, 36.76741398532895], [126.88850625128676, 36.767383807399405], [126.88832638072246, 36.7674321333315], [126.88820169116522, 36.76737496502075], [126.88809573881458, 36.76732676515602], [126.88797092993913, 36.76726999083118], [126.88776221340746, 36.76726847703726], [126.88765914865301, 36.7672678005806], [126.88752921658623, 36.76725677394496], [126.88741906473906, 36.76724667475662], [126.88732552788215, 36.76729424472257], [126.88725594911422, 36.767402058417844], [126.887253182078, 36.76740283565178], [126.88724087636419, 36.76740629699539], [126.88724008319736, 36.767405999033116], [126.88716684600158, 36.7674274841022], [126.8871026757885, 36.767443884704996], [126.8870025013651, 36.767471957621005], [126.88695877698788, 36.767479701263994], [126.88686718704122, 36.76753598542946], [126.88665273136675, 36.767565623535624], [126.88667957860136, 36.767423175647835], [126.88667281315129, 36.76734073618334], [126.88667023926826, 36.76730938263184], [126.88668984314333, 36.76720216986145], [126.88669704884893, 36.76716939553502], [126.88670341328266, 36.76715277470486], [126.88671840461068, 36.767115704470946], [126.88674091444311, 36.76706004154007], [126.8867450784705, 36.76703241872059], [126.88674854211024, 36.76703055612101], [126.88677554798119, 36.76698408424262], [126.88691850778143, 36.76667737683538], [126.88693843300118, 36.766637827728594], [126.88692742282923, 36.76663901501336], [126.88691756548063, 36.76664007842694], [126.8869198466246, 36.76663361947554], [126.88694269330776, 36.766569104060174], [126.88697153886126, 36.766496430653405], [126.88702605300317, 36.76639856016265], [126.88706363898294, 36.76630802508696], [126.88707234203736, 36.76617943645443], [126.88705935753136, 36.76615276916763], [126.88693309071536, 36.76603766514225], [126.88685548599462, 36.765868469735864], [126.88676326617151, 36.76577810767871], [126.88661363091639, 36.765735484952785], [126.88642162310012, 36.76568492699169], [126.8863584718401, 36.76566529373808], [126.88617166694219, 36.76560302695375], [126.88588776040416, 36.76557187845093], [126.8855924379699, 36.76554731590917], [126.88542160925164, 36.76554290526633], [126.88525454023315, 36.76551273554665], [126.8851198531487, 36.7655023848622], [126.88497022745979, 36.76543770130403], [126.88484342194722, 36.76528705477445], [126.88487695184453, 36.76525261192518], [126.88518774978019, 36.765166976535845], [126.8853816519044, 36.765064142365574], [126.88554570225918, 36.76497934524922], [126.88560230474104, 36.76493888598591], [126.88562970966481, 36.76491738515878], [126.88562993047272, 36.76491695359633], [126.88563628832307, 36.76490453360493], [126.88563741501457, 36.7649023452598], [126.8856375379585, 36.76490210249941], [126.88565929246104, 36.76486838469579], [126.88561810276794, 36.76475463442682], [126.8855449459879, 36.76464243724131], [126.88541151089277, 36.76456383631236], [126.88531749581666, 36.76450845507865], [126.8852666001424, 36.76442521236307], [126.88525029335845, 36.76439854393535], [126.88522104662734, 36.764350692750654], [126.88516422991945, 36.764350087244836], [126.88500845318818, 36.76434796238904], [126.88492091885468, 36.76441075659869], [126.88475404852538, 36.764531647319195], [126.88474809594418, 36.764535959790265], [126.88462915466938, 36.76462212317802], [126.88451216855408, 36.7647047483972], [126.88451066539572, 36.76470581156008], [126.88450791339991, 36.76475182246213], [126.88457393875386, 36.76484769754315], [126.88443723513721, 36.76492859084269], [126.88435370444256, 36.7648565084892], [126.88423885130035, 36.76498926405583], [126.8841390454338, 36.765096221781896], [126.88408242670141, 36.76507219494998], [126.8839217528802, 36.76523834479625], [126.88379695054972, 36.76523953566108], [126.88378459817154, 36.7652376507275], [126.88319592877284, 36.765241211672866], [126.88314848528542, 36.765118595606694], [126.88310967281744, 36.765006735464326], [126.88309100697002, 36.764952936681304], [126.883090089237, 36.764950290633884], [126.88308570914623, 36.76493787820433], [126.88306109401975, 36.764868107082414], [126.88306037012717, 36.76486588031907], [126.88303103173709, 36.76477563228783], [126.88300208036968, 36.7646865924139], [126.88299475271272, 36.76463848295473], [126.88298980399118, 36.7645790147675], [126.88298757509345, 36.76454059904714], [126.88298263474043, 36.76445547343872], [126.8829809904205, 36.764367866064696], [126.88300150074404, 36.764329301435026], [126.88303132083244, 36.764273237183595], [126.8830388988831, 36.76426183510117], [126.88304432212169, 36.76425367793185], [126.88309282593482, 36.764168299387336], [126.8831004871827, 36.76415909730394], [126.88316095570379, 36.76408647518135], [126.88319463820945, 36.76404699440833], [126.88337237079962, 36.763871589344916], [126.88339303097607, 36.76365416415405], [126.88336679056518, 36.763435031907456], [126.88331350337053, 36.763382993656855], [126.88322621958328, 36.76329722125101], [126.88322535787484, 36.76329653527714], [126.88322311111853, 36.763294756760565], [126.88322063946258, 36.7632928003911], [126.88321492128304, 36.76328827063956], [126.88319438973348, 36.763283925517435], [126.8831530350063, 36.763281991124835], [126.88315215577317, 36.76330028087699], [126.88281787089393, 36.76337409356932], [126.88268904758694, 36.76340596989496], [126.88246782672495, 36.76343155390232], [126.88241009130857, 36.76342544338541], [126.88236435221613, 36.76335799640646], [126.88228679851642, 36.76338211360378], [126.88225721520357, 36.76339131179483], [126.88223920958214, 36.763397243691436], [126.88208205229235, 36.76344902440153], [126.88200521883871, 36.763494506244], [126.88191730990498, 36.763545997351954], [126.8817575847011, 36.76372806909143], [126.88174705495666, 36.763772735997705], [126.88172764234534, 36.76385510464007], [126.88168024204329, 36.76406524013852], [126.88166938005025, 36.764121972302924], [126.8816554620158, 36.764191759808064], [126.88163961449148, 36.76427774560136], [126.88162795749324, 36.764398041247304], [126.88160706135471, 36.76454038554765], [126.88158258729862, 36.764707184180345], [126.8815689820974, 36.764817522934266], [126.88155901542879, 36.76489835766202], [126.88155063332377, 36.76496632051149], [126.88153744078141, 36.76500182008507], [126.88152678056395, 36.765086413911455], [126.88151916065088, 36.76513870787146], [126.8814968249909, 36.765291990221364], [126.88149412708634, 36.76532043540272], [126.88140669629712, 36.76553082056746], [126.88140089706424, 36.765544186163865], [126.8813885313747, 36.765572694658594], [126.88125986143477, 36.76565328529574], [126.881143416701, 36.76567988582537], [126.88117571803868, 36.76575868489875], [126.88098446003853, 36.7658057018983], [126.88097249237727, 36.765808643307246], [126.88073847767946, 36.76586541122984], [126.88065077878233, 36.7658883909726], [126.88057606531878, 36.765964377602806], [126.8805139557588, 36.76603213995436], [126.88029389068338, 36.76631770073471], [126.88023518404634, 36.76639387869255], [126.88016264084374, 36.76649356681616], [126.88007305963345, 36.766629172365036], [126.87965379937188, 36.76704764404797], [126.8794273149988, 36.76712736742593], [126.87913027724754, 36.76716638713056], [126.87908259821621, 36.767172590977474], [126.87901878759514, 36.76718089755685], [126.87898767781128, 36.76718519020565], [126.87862811646961, 36.767232361440456], [126.87845866322456, 36.76732561429408], [126.87845940615595, 36.76735184534488], [126.878466308864, 36.76751031355637], [126.87847015897928, 36.76761025004162], [126.87847018128612, 36.767610818079916], [126.87847241704854, 36.76766199500417], [126.87847399712261, 36.767682794604184], [126.87848839543551, 36.76801458119821], [126.87849631658518, 36.76819708951913], [126.8785589451912, 36.76843783145445], [126.87856978458342, 36.76847951402908], [126.87857853737438, 36.76851317530328], [126.87849482048901, 36.76861486113185], [126.8783714907691, 36.768649200767506], [126.878308988138, 36.768666598736765], [126.8782974396412, 36.768666406775075], [126.8775794817932, 36.768654415229015], [126.87741974769266, 36.76873492925675], [126.87684056139642, 36.76902686640087], [126.87647593930133, 36.76916366405763], [126.87629511696679, 36.76923150324823], [126.87623571932437, 36.769232868560074], [126.87571372604569, 36.769244865897534], [126.87531356765989, 36.769173084158396], [126.87524246271074, 36.76916068166183], [126.87512183449807, 36.769139646231686], [126.8750844592339, 36.76913217330909], [126.87504039553617, 36.76912458410851], [126.87494680841272, 36.7691086612125], [126.87485550691386, 36.769071235943464], [126.87432119492297, 36.76885221490484], [126.87419432151071, 36.76880060773998], [126.87402052451542, 36.76876550273268], [126.87396343005238, 36.76876256643207], [126.87392558516771, 36.76876079693409], [126.87369235123539, 36.768749867787285], [126.87345579833489, 36.768755480574626], [126.8731096967907, 36.76885910326454], [126.87310226650763, 36.76890111554306], [126.87306114131323, 36.769133791710004], [126.87303713681331, 36.769269625607194], [126.87302038881096, 36.76936525103936], [126.87300188828586, 36.76939730149811], [126.8729529306936, 36.76945791202749], [126.87293000026737, 36.769486308034566], [126.87282760307798, 36.769612991683715], [126.87212456223881, 36.76996877581003], [126.87197424814555, 36.770044842904575], [126.87175649918991, 36.7700170568185], [126.87172161361401, 36.770012605069], [126.87157040754678, 36.76993704456464], [126.87132823761289, 36.76975045507758], [126.87127411910653, 36.76970875770359], [126.87122038161426, 36.76966075027848], [126.87119669517487, 36.769639485793284], [126.87093916728719, 36.769408446157904], [126.87086932561908, 36.7693457154726], [126.87062091198747, 36.76914451307271], [126.87043668985848, 36.76911554794241], [126.87033008811463, 36.76911852112124], [126.87027746568826, 36.769119255840366], [126.87024048043844, 36.76912005347922], [126.87009366920184, 36.76912320663115], [126.86990807090005, 36.7691581092255], [126.86983263244505, 36.7691723079463], [126.86970623337051, 36.769251421395396], [126.86942354022243, 36.76942815691909], [126.86940274037705, 36.769441146723494], [126.86935053399324, 36.769473690436314], [126.86916075990261, 36.769591976627645], [126.86894551864437, 36.769674674716235], [126.8684493431364, 36.76966609214726], [126.86824923049667, 36.769666787530724], [126.86813510684847, 36.769679346413234], [126.86809429482913, 36.76968382446313], [126.86796466757067, 36.7696975015813], [126.86783944758237, 36.769740479669025], [126.86783462927201, 36.769742132588924], [126.86729232572134, 36.76992839453401], [126.86706121683618, 36.77000706181115], [126.86694534557668, 36.77008409184193], [126.86688670457879, 36.77017022640614], [126.86672446311209, 36.770405917385865], [126.86673391767982, 36.77047571924637], [126.86673517875055, 36.77048560598387], [126.86674131984245, 36.770533758720475], [126.8667901362842, 36.7709452691664], [126.86679108140852, 36.77095324492436], [126.86672702250527, 36.77114515515542], [126.8666686610118, 36.771243769117355], [126.86632843374319, 36.77148593448598], [126.86609957028845, 36.77177543490529], [126.86602383814872, 36.771840147549945], [126.8659254046212, 36.771941491752706], [126.86569941774714, 36.77211704930547], [126.86542596621766, 36.77222430189852], [126.8648503235512, 36.77234994250421], [126.86476487606281, 36.77236151538266], [126.86456514174374, 36.772388568905235], [126.86439089593597, 36.77241472519867], [126.86397052456707, 36.772625019732516], [126.86379563220119, 36.772711162162814], [126.86336633159254, 36.77288292879842], [126.86311902895301, 36.772872197469596], [126.86302084923734, 36.772838220388394], [126.8628930865629, 36.77279400646128], [126.86274672192272, 36.77268817160752], [126.86252606225298, 36.77275430876243], [126.86202615382388, 36.77291644498313], [126.86187634167283, 36.77296412750286], [126.8614512414333, 36.77305813703912], [126.86136678524942, 36.77300948614961], [126.86136238246524, 36.77296613647275], [126.86137312759165, 36.77284710388016], [126.86144069604492, 36.772094383788975], [126.86144606129979, 36.77203870586479], [126.86151296804663, 36.77115587770472], [126.8615141133164, 36.77113316521191], [126.86151564247338, 36.77110280497468], [126.8615174584842, 36.771089200845324], [126.86152041217694, 36.7710546095798], [126.8615702828391, 36.770470737166875], [126.86159287634608, 36.770206192805524], [126.86160228923701, 36.770142333272574], [126.86169106817495, 36.77010414052472], [126.86221869875436, 36.77012512391527], [126.86281026431031, 36.77015689355702], [126.86287135524205, 36.76932236592594], [126.86288421024281, 36.76927435258267], [126.86288146545559, 36.76924396401906], [126.862916882246, 36.76867107976143], [126.8628831788106, 36.76866473147166], [126.8628882130477, 36.76835718853379], [126.86256377265019, 36.76833617558733], [126.86173589564798, 36.76830078260592], [126.86126519188845, 36.768272483607], [126.86062480685018, 36.768239288306006], [126.86020146339649, 36.76822003428018], [126.85989821303775, 36.76820815165783], [126.85949711803664, 36.76819243317262], [126.8595045141006, 36.7681295527381], [126.85952605948356, 36.76784143702738], [126.8595713459539, 36.767235820686274], [126.85955888843758, 36.76718867926777], [126.8595590618788, 36.7671559679389], [126.85963573990315, 36.76626774615519], [126.85951456221422, 36.76626265326154], [126.8585286940667, 36.766216940085165], [126.85817233949942, 36.7661975893166], [126.85756938036945, 36.766166312142325], [126.85740565085202, 36.766157933169424], [126.85685364101239, 36.76613237417874], [126.8568111091023, 36.766130159232624], [126.85631888558557, 36.7661045189085], [126.85629166429446, 36.766046724921836], [126.85628951365088, 36.7658219841477], [126.85629139572687, 36.76579681648863], [126.85633960876626, 36.76515170961925], [126.85633745005265, 36.76510836283974], [126.85960665882591, 36.76527315572097], [126.8596098384889, 36.765249458961925], [126.85960278116214, 36.76525009166328], [126.85966208674918, 36.764550899323815], [126.85966655032718, 36.76449836987679], [126.85991550461733, 36.764510101563815], [126.85997259077753, 36.764476915727016], [126.86000937070432, 36.7644555343644], [126.8600256625551, 36.764446001590095], [126.86004955584663, 36.76442535860708], [126.86124297937103, 36.76449031824555], [126.86116375263872, 36.764409664484575], [126.86107029265014, 36.764315713382324], [126.86081330001501, 36.76405729530516], [126.86083401979393, 36.76404665937871], [126.86090266480468, 36.764046263694325], [126.8608662469339, 36.764006787725094], [126.86109820688428, 36.76397536997116], [126.86113264557265, 36.76397088712718], [126.86119618255076, 36.76395792269359], [126.86137811982294, 36.763910287121234], [126.86150436936249, 36.763841059877414], [126.86158894621822, 36.763811513050904], [126.8618751551806, 36.763714213875225], [126.86196842865762, 36.76369492158655], [126.86211406190932, 36.76369506604652], [126.86222294491328, 36.76370176168476], [126.86250958726957, 36.763624511834806], [126.86256433620731, 36.763610068056785], [126.8627293891344, 36.76356570961494], [126.86279357222283, 36.763548790363046], [126.86287941519981, 36.763525640767625], [126.86305198715458, 36.7634794885644], [126.86300866015988, 36.76320779003326], [126.86298488510543, 36.76316415633304], [126.862956387532, 36.76313501810865], [126.86298127947741, 36.76298779643268], [126.86293159868544, 36.7629132444607], [126.86290088173399, 36.76286717027081], [126.86281654935088, 36.762798010946966], [126.86276238057167, 36.76271613662258], [126.86273288820048, 36.76264774331227], [126.86272906281356, 36.762638845214134], [126.8626923511703, 36.76258284259835], [126.86264642607604, 36.762511591947685], [126.86263562652117, 36.761998578123006], [126.86263527182685, 36.76198403381868], [126.86263475999009, 36.761964379179126], [126.86261293861624, 36.76181632856272], [126.86260851669834, 36.761691329617896], [126.86260760020512, 36.76164638135682], [126.8626069102117, 36.76162524015023], [126.86260781356985, 36.761584583588366], [126.86256523633678, 36.761465740951564], [126.86252850464413, 36.76140222357192], [126.86248585846722, 36.76134967414474], [126.86228122987463, 36.7612965126181], [126.86210485338434, 36.7612376445055], [126.86192814201152, 36.76105585440791], [126.86182408342181, 36.76100390028277], [126.86175548963679, 36.760970587466865], [126.8616320211429, 36.760875725771136], [126.86152404867438, 36.76072696026804], [126.86151383548928, 36.76070125882956], [126.8614996802925, 36.76066562013898], [126.86149595500363, 36.7606562988487], [126.8615025154355, 36.760607970546694], [126.86150502685271, 36.760589644653685], [126.86145946528352, 36.76052752369971], [126.86146996931505, 36.76039244169907], [126.86142747217194, 36.76020638415803], [126.86135352836935, 36.76014037155932], [126.86132392097402, 36.760059632622564], [126.86133410429541, 36.75995838623412], [126.86129397076935, 36.759939443797705], [126.86128656053103, 36.75993594780759], [126.86116989781279, 36.75991719305348], [126.86101883028111, 36.75988609808844], [126.86084132190616, 36.75985099722436], [126.86072494872445, 36.75979495365409], [126.86054848393645, 36.759726765238796], [126.86051129510179, 36.759712403375616], [126.86039253187886, 36.75964903035783], [126.86032640624298, 36.759597724155604], [126.86029519495514, 36.759573745096965], [126.86019397942161, 36.75948633404862], [126.86013794012655, 36.75924558894963], [126.86011108597137, 36.75920179927433], [126.86010077450408, 36.75915968694102], [126.8601670234993, 36.75908790269914], [126.86021093447586, 36.7590086026989], [126.86020974893364, 36.75895925742253], [126.86020230539982, 36.75891554329202], [126.8601627769658, 36.758856492206505], [126.8601595188263, 36.75882090293426], [126.86020286766924, 36.75869406934216], [126.86020248904563, 36.75864253423986], [126.86020208967129, 36.75858594361775], [126.86020099986189, 36.75857633176167], [126.86019632729827, 36.75853514220292], [126.86019194869016, 36.758485808599396], [126.86016041357662, 36.75842399153152], [126.8601508847343, 36.75840528179543], [126.86013048810818, 36.75830866862522], [126.86014266535604, 36.75822811441661], [126.86018309819154, 36.75814073662383], [126.86019852209296, 36.758107395093546], [126.86025429587727, 36.757922175568865], [126.86034406007784, 36.75766979039357], [126.86034842142988, 36.757562806489005], [126.86034497854529, 36.757537588462704], [126.86034234308008, 36.75751848309527], [126.8603138201624, 36.75731035485119], [126.86025886073145, 36.75727778696128], [126.86014089533181, 36.75720785531698], [126.86005531996341, 36.75704579688792], [126.86002782528605, 36.75695729293412], [126.85995101629779, 36.75683805603493], [126.85984702168948, 36.756638489419785], [126.85976777857061, 36.75658331896], [126.85974902840573, 36.75656909573537], [126.85973924178037, 36.75652994838905], [126.85972948365126, 36.7564889910556], [126.85964264175877, 36.75638299835895], [126.85946016533319, 36.75609892945846], [126.8594348295468, 36.75605998864909], [126.85937278130355, 36.756038828974305], [126.85934030692803, 36.75599585261885], [126.85931748453129, 36.75598555220562], [126.85923722906352, 36.75597356147086], [126.85923063929758, 36.75601317597259], [126.85921070002047, 36.75604658321829], [126.85922151316996, 36.756073530316705], [126.85888194913713, 36.756391847044796], [126.85879192535037, 36.75647582189359], [126.85873813610804, 36.75652462573271], [126.85869844790562, 36.756553952798825], [126.85851819464452, 36.75670612361275], [126.8583542159624, 36.75684627525301], [126.8580949027711, 36.7570051261816], [126.85775871575781, 36.75717721158302], [126.85763408589551, 36.757237454309816], [126.85756347633735, 36.75727156488835], [126.85748694771897, 36.7573082649181], [126.85747965345504, 36.75738521052297], [126.85744938317869, 36.75738482349527], [126.85297029961019, 36.757136890505194], [126.85167270795971, 36.7570651111565], [126.85114336897347, 36.75703582544179], [126.85109122415207, 36.75703269605152], [126.85108878430005, 36.757059005475035], [126.8510194224653, 36.75705479775686], [126.85098940642938, 36.75705297714618], [126.85095636331566, 36.757051152636194], [126.84849119005126, 36.756916238411236], [126.84543533569125, 36.75674887541341], [126.84543443762112, 36.75674882539973], [126.8454354407418, 36.75673150119141], [126.84543548066081, 36.75673075860543], [126.84543697502157, 36.75670730534736], [126.84543719683086, 36.75670414243206], [126.84550047689, 36.75580531887055], [126.84550051977247, 36.75580475479043], [126.84550337792142, 36.755760548330734], [126.84550340862113, 36.75576009957089], [126.8455551746095, 36.75496654849456], [126.84555772327458, 36.754929488929534], [126.84556448893699, 36.754857057499386], [126.84556953373558, 36.754797824844964], [126.8456492877413, 36.75389183472907], [126.84568747389244, 36.75339262217535], [126.84565645873575, 36.7533822605747], [126.84536356564234, 36.753290081291176], [126.84515601041616, 36.75322587462175], [126.84479398565114, 36.75314148793237], [126.84432736754304, 36.75303414230546], [126.8440206235251, 36.7529636230954], [126.8439141807292, 36.75290519833249], [126.84380845002474, 36.7528439450028], [126.843768418808, 36.75282024651782], [126.84372698984389, 36.75279624823606], [126.84369030478415, 36.75277479840106], [126.84319573297125, 36.75248692210725], [126.84317754622265, 36.752476469309855], [126.84316426895393, 36.752468847162405], [126.84315814999307, 36.752465182289534], [126.84314015395755, 36.75245417343463], [126.8431359502275, 36.75245134487392], [126.84312215156666, 36.75244259661985], [126.84305592812488, 36.752397740182566], [126.84258759024459, 36.75211805085969], [126.84246455856534, 36.752041013478916], [126.84220856522157, 36.75188100229357], [126.84214687378021, 36.751842623080776], [126.84206509950856, 36.751791546558046], [126.84197683893021, 36.75173708246791], [126.84193508943441, 36.75171139785622], [126.84189943390663, 36.75168967010376], [126.84186035489779, 36.75166374962851], [126.84166290338727, 36.75176255936551], [126.84135043169528, 36.75191870708351], [126.84104794392535, 36.75207205703033], [126.84113199191138, 36.75220226288677], [126.84115466972207, 36.752240322041914], [126.84116581607448, 36.75225920631749], [126.84118258321446, 36.75227921428678], [126.84118380123161, 36.752280620102056], [126.84108822849967, 36.75230020976704], [126.84101837750721, 36.7523144699241], [126.84096814796187, 36.752322285075955], [126.840869093646, 36.75233765265837], [126.84032035314937, 36.752517691736294], [126.84005419889564, 36.75260602688115], [126.83949732988052, 36.75282716885872], [126.83898930149955, 36.75303260380465], [126.83898824781458, 36.75303346155306], [126.83841940919821, 36.753530816008706], [126.83794853540718, 36.7539497554365], [126.83794644020611, 36.75395030989761], [126.83761670655976, 36.75489688062735], [126.8374140799717, 36.75547077402554], [126.83738202174455, 36.75556843667626], [126.83737244934099, 36.75562503129453], [126.837357350765, 36.75573173810499], [126.83729800872918, 36.75615235828617], [126.8372872335771, 36.75628441845764], [126.83728412635193, 36.75634973556532], [126.83728394316758, 36.756352276669965], [126.8372807166875, 36.756383530441695], [126.83727534913906, 36.75643759191538], [126.83722726943718, 36.756917367416555], [126.83726064440143, 36.75701652670566], [126.83733506931151, 36.75723796904576], [126.83735088975116, 36.75728755286038], [126.83737517399742, 36.757363088237206], [126.837398349725, 36.75743517204519], [126.83760781284882, 36.75808820212088], [126.83761337428119, 36.75810539151906], [126.83762814827625, 36.758152155099715], [126.83764552516128, 36.75820708960062], [126.8376910712329, 36.75834992745743], [126.83772947813327, 36.75847275636086], [126.83775555834328, 36.7587160908461], [126.83780308545855, 36.75916079254834], [126.83780895715746, 36.7592010719152], [126.83780210323417, 36.75922265985114], [126.83780171448818, 36.75923034716129], [126.83780098835477, 36.75924105068959], [126.8378002679112, 36.759253438181176], [126.83791477881537, 36.76012316981372], [126.83792133712912, 36.76017273805063], [126.83798211041291, 36.76063341508322], [126.83784251482986, 36.760584319905654], [126.8372721236793, 36.76038275757866], [126.83706543802738, 36.76030982632293], [126.8369956759542, 36.76028522973812], [126.83649243226036, 36.760107400126955], [126.83632334958725, 36.760047755688696], [126.83625449518544, 36.760023454004106], [126.8361097113016, 36.76003816940278], [126.83576104742875, 36.760073448387956], [126.8351342743436, 36.76013732830416], [126.83501311085735, 36.760149823341976], [126.83496327850574, 36.76015483279294], [126.83472122047131, 36.760179281219685], [126.83445307189038, 36.760206498540164], [126.83430991423718, 36.76022093958549], [126.83409014077748, 36.760286241260744], [126.83356483440134, 36.76044178789116], [126.83352169815865, 36.76045470400567], [126.8334862203783, 36.76046533362898], [126.83347208732769, 36.76046955623262], [126.83345241885972, 36.76047542274059], [126.83340286419599, 36.76048999579995], [126.83320481250973, 36.7605527924692], [126.83296736891417, 36.76062792353279], [126.83280329584025, 36.76067978597792], [126.83277559987229, 36.760699740476646], [126.83275806607494, 36.76071266646877], [126.83156330768297, 36.761580978478975], [126.83098599147034, 36.76200054257413], [126.83087476918779, 36.76208137138278], [126.83095013982992, 36.76208504590889], [126.83138201490132, 36.762106097885095], [126.83154764455305, 36.76211416993293], [126.83186271213553, 36.762129524680304], [126.83217576732287, 36.762145171992174], [126.83215628277884, 36.76217499114901], [126.83204662492238, 36.76246544308911], [126.83205583779112, 36.76249840897489], [126.83201856562826, 36.762569308811145], [126.83188746776008, 36.76282707581191], [126.83177601922722, 36.76304966079805], [126.83155505243046, 36.763500179722826], [126.83150959385405, 36.76364204150028], [126.83149497796157, 36.76368735516756], [126.83144599179344, 36.76383905908112], [126.83138779897286, 36.7640417357429], [126.83127059674392, 36.76457431660104], [126.83122896034537, 36.764563872616435], [126.83111359179193, 36.764452414649], [126.83108770610052, 36.764592945740205], [126.83108121336771, 36.76462814374768], [126.83106634976546, 36.76470837495992], [126.83106611123513, 36.76470977989822], [126.83106581864631, 36.76471147480304], [126.8310379915677, 36.76486574945524], [126.83103317158896, 36.76489282207843], [126.83102310102947, 36.764949070715794], [126.83102297582121, 36.764950586269386], [126.83102275749299, 36.76495301898677], [126.83102267543862, 36.7649544680749], [126.83102255767713, 36.76495667418957], [126.83102090850909, 36.764977814997394], [126.83102004465076, 36.76498877911895], [126.83101987251702, 36.7649913112568], [126.83101600028391, 36.76503542501985], [126.83101268026053, 36.76507323706853], [126.83100353294512, 36.765177978683056], [126.83099544382402, 36.76527569484891], [126.83097727471328, 36.76549418797271], [126.83097584543007, 36.76551219833874], [126.83097404770604, 36.76553444349969], [126.83096318705044, 36.76568987904426], [126.83096175053623, 36.76571155831514], [126.83095905267136, 36.76582193966381], [126.8309588775609, 36.765825587793174], [126.83095887404252, 36.76582728252004], [126.83095701495547, 36.76587825689606], [126.83095512805735, 36.76593062657681], [126.83095496139492, 36.76593484988572], [126.83095308376505, 36.7659897635409], [126.83095290365753, 36.765993986774134], [126.83094920341264, 36.766086904787656], [126.83094919118028, 36.76608831280087], [126.8309498339358, 36.766116472646715], [126.83095014961464, 36.76612604974011], [126.83095031615774, 36.766130610266146], [126.83095048595973, 36.766135053620566], [126.83095062472871, 36.7661379102292], [126.83095065820186, 36.766138442279406], [126.8309508193183, 36.76614182186107], [126.83095130922906, 36.76615842772372], [126.83095246477957, 36.76619307916876], [126.83095801528106, 36.76629164006148], [126.83095903786601, 36.76630909629246], [126.83093712019766, 36.76640058310069], [126.83093759415597, 36.76642960018665], [126.83093804507337, 36.76646101142303], [126.83095357247089, 36.766437786963934], [126.83095901041962, 36.766429619658815], [126.83108381346857, 36.76624338186337], [126.831158908013, 36.76624912808082], [126.83118109013311, 36.766428533527936], [126.83118545955998, 36.766509080185095], [126.83118663953418, 36.76653215880866], [126.83118931894607, 36.7665823005056], [126.8311972111402, 36.76673070730318], [126.8312372486561, 36.76714809418778], [126.831291070053, 36.76750129156845], [126.83136670062916, 36.767808065456315], [126.83120298317058, 36.7679246866909], [126.83131651650635, 36.76833738614135], [126.83143579093779, 36.76869321392559], [126.83189744073685, 36.76971232486477], [126.83191561238256, 36.76975244274093], [126.83210247784642, 36.77016494915157], [126.83208897533291, 36.770178164478764], [126.83199443400007, 36.770278559369785], [126.83195655656509, 36.77031286540285], [126.83186168111739, 36.770400589184646], [126.83174066057587, 36.77052121897528], [126.83137818198931, 36.77076821614404], [126.8313084276621, 36.77081204432205], [126.83127478456412, 36.770834815409245], [126.83116805033407, 36.770907056994], [126.83110914545402, 36.77094692553528], [126.83105570512792, 36.770972756585465], [126.83102451850662, 36.77098877144696], [126.83095857094249, 36.771054565969834], [126.83092115507978, 36.77108259468899], [126.83071535873754, 36.77099113783156], [126.83060942938963, 36.770982827152054], [126.83053843749195, 36.77098694760381], [126.83051988557165, 36.770988038541844], [126.83041777864365, 36.77102337626937], [126.83031567807686, 36.77104998420408], [126.83009670175906, 36.77114541131867], [126.82987882418331, 36.77121521209801], [126.82976460809564, 36.77126601320911], [126.82955582514616, 36.7714149641462], [126.82938810701826, 36.77159861081857], [126.82934938471755, 36.77169317024059], [126.82929985917461, 36.77177165701005], [126.82924523288943, 36.77185605561992], [126.82915034406177, 36.77210935728558], [126.8291392118739, 36.77215805447929], [126.82909387030813, 36.77239312489875], [126.82909815696024, 36.77258968175364], [126.8291196896835, 36.77282344174944], [126.82912309742984, 36.77286624785669], [126.82910576953248, 36.77301744033852], [126.82913476319054, 36.77320051544582], [126.8291812988042, 36.77336757496357], [126.82923361840102, 36.773458041190075], [126.82924004192314, 36.77363573889747], [126.8292433816824, 36.77370050777732], [126.82927607285515, 36.77379828051898], [126.82932133389276, 36.77390900056619], [126.82935165819521, 36.77396874358308], [126.82941289852025, 36.77405247382561], [126.82943621777203, 36.77418908085693], [126.82950407165274, 36.77429111911342], [126.82958979688858, 36.77446132906429], [126.8296859126181, 36.77460732840198], [126.82981302751813, 36.7747480232293], [126.829888486781, 36.77481065082664], [126.82995539036008, 36.774872139421205], [126.83002209756624, 36.77493560287145], [126.8301418531677, 36.77500165290726], [126.83022247941234, 36.77502711877068], [126.83034419564872, 36.77507263718114], [126.83048743219149, 36.77512042205807], [126.83055515141295, 36.775128404265665], [126.83057428280095, 36.775184761197984], [126.8305612234502, 36.77530976882914], [126.83063920418479, 36.77542251866873], [126.83071913981328, 36.775598902664356], [126.83072472039254, 36.77560792161203], [126.83079359867777, 36.77572883964442], [126.83083403601766, 36.77580520438278], [126.83088961676778, 36.77583597372547], [126.83094273053248, 36.775878287681074], [126.8309958718717, 36.77591356677822], [126.83108119908287, 36.77595141931046], [126.8311798127612, 36.7759943640046], [126.83131676799547, 36.776037931601714], [126.8313883031466, 36.7760574662568], [126.83157577544878, 36.77606590093249], [126.83169599588427, 36.77607282348599], [126.83182830734967, 36.776073577533815], [126.83200826062412, 36.77605074814694], [126.83222400965691, 36.77603107801849], [126.83243145102492, 36.77760519702924], [126.83249289769739, 36.77816003123307], [126.83276099083122, 36.78057931156121], [126.83280466923732, 36.78082838263441], [126.83288905127148, 36.781309609276605], [126.83325213574824, 36.783380068822616], [126.83331420089378, 36.783733979516825], [126.83437533827555, 36.78517724520571], [126.83524395747135, 36.78617381942538], [126.8354369901857, 36.78639522794411], [126.83549539388632, 36.78643451344763], [126.83677943473664, 36.78729820024284], [126.83980203257815, 36.788383675654984], [126.84038549341118, 36.78847474352063], [126.84271411955933, 36.78883815167334], [126.84369835195058, 36.788865819960456], [126.84474340241151, 36.788895187179], [126.84595100471614, 36.78892917299552], [126.84775542191872, 36.788979922757385], [126.85335773774898, 36.78862661797368], [126.85365832994518, 36.78870474231701], [126.85507841459352, 36.7890738110052], [126.85649312480778, 36.789441463479704], [126.85761313362693, 36.79075188147015], [126.8586957309496, 36.792018476325666], [126.85872898678129, 36.79205738588994], [126.85873229477389, 36.792077104198505], [126.85906143308463, 36.79404021005206], [126.85877832258511, 36.79566186031794], [126.85871572033271, 36.79604947422689], [126.85871368033446, 36.7960621106818], [126.85871357403337, 36.79606276096124], [126.85807925097282, 36.79998998435217], [126.8579312476236, 36.80020860373252], [126.8578403039715, 36.80025354977838], [126.85778321772213, 36.80044721709398], [126.85788705887491, 36.800524783854726], [126.85790135663068, 36.80056225168795], [126.85625384961452, 36.803098715510096], [126.85592744986694, 36.803601214139505], [126.85512739032716, 36.804832880017784], [126.85512682704035, 36.80483374596736], [126.85266331147487, 36.80862596677819], [126.85230955052418, 36.80917049399344], [126.8516052399059, 36.81015798656771], [126.85028682334925, 36.81200641650127], [126.8482597949894, 36.816914832646944], [126.84713463754976, 36.81826614034509], [126.84603845162503, 36.81958259100699], [126.84576766908647, 36.81977625177824], [126.84520396044142, 36.82019509232087], [126.84503403261596, 36.82031314020767], [126.84479465464159, 36.82047586884462], [126.84474694004284, 36.82051466229283], [126.84467693041954, 36.82057792630559], [126.84457242808145, 36.82064311857003], [126.84437156250947, 36.82081406262015], [126.84427099963202, 36.82092473122341], [126.8441619813223, 36.821044701173975], [126.84380217235092, 36.82143507726072], [126.84375157177648, 36.82151469471416], [126.84371800777957, 36.821572095207], [126.84365398887189, 36.82170239217795], [126.84359665514872, 36.82189998885094], [126.84358895992638, 36.82207288296068], [126.84360300254605, 36.82239533456614], [126.84365932457231, 36.82251423794277], [126.84018043142919, 36.82675338508755], [126.8372477203734, 36.83032654310662], [126.83690950304477, 36.83122717620932], [126.83678231734905, 36.835140493999994], [126.83671316158093, 36.83726799349652], [126.83668438096342, 36.83815340348592], [126.83667527766238, 36.83843339548151], [126.83667565828722, 36.83843347512994], [126.83693896956576, 36.838428895251816], [126.84309538031658, 36.83832163969634], [126.84333355771076, 36.837584047084256]]], &quot;type&quot;: &quot;Polygon&quot;}, &quot;id&quot;: &quot;0&quot;, &quot;type&quot;: &quot;Feature&quot;}], &quot;type&quot;: &quot;FeatureCollection&quot;});\n",
       "\n",
       "        \n",
       "    \n",
       "        function geo_json_79f45af996d024a4e3df626bc0788ed7_styler(feature) {\n",
       "            switch(feature.id) {\n",
       "                default:\n",
       "                    return {&quot;color&quot;: &quot;black&quot;, &quot;fillColor&quot;: &quot;#f0f921&quot;, &quot;weight&quot;: 1};\n",
       "            }\n",
       "        }\n",
       "\n",
       "        function geo_json_79f45af996d024a4e3df626bc0788ed7_onEachFeature(feature, layer) {\n",
       "            layer.on({\n",
       "            });\n",
       "        };\n",
       "        var geo_json_79f45af996d024a4e3df626bc0788ed7 = L.geoJson(null, {\n",
       "                onEachFeature: geo_json_79f45af996d024a4e3df626bc0788ed7_onEachFeature,\n",
       "            \n",
       "                style: geo_json_79f45af996d024a4e3df626bc0788ed7_styler,\n",
       "        });\n",
       "\n",
       "        function geo_json_79f45af996d024a4e3df626bc0788ed7_add (data) {\n",
       "            geo_json_79f45af996d024a4e3df626bc0788ed7\n",
       "                .addData(data)\n",
       "                .addTo(map_ab3531dfb2a4b421ee56c7d5f162f888);\n",
       "        }\n",
       "            geo_json_79f45af996d024a4e3df626bc0788ed7_add({&quot;features&quot;: [{&quot;geometry&quot;: {&quot;coordinates&quot;: [[[126.91739299301577, 36.77353400069241], [126.91786422099312, 36.77254154717869], [126.91809326366739, 36.772059149317364], [126.91815491572265, 36.77192929924109], [126.91826128472427, 36.77195387770299], [126.91877786192181, 36.7720732449947], [126.91889677104264, 36.772100388422196], [126.9194088777149, 36.77221728276449], [126.91959125231786, 36.77199625736691], [126.9205272650538, 36.772031149098645], [126.92074720285788, 36.77201602446955], [126.92115639354108, 36.77204177691757], [126.92186324531782, 36.77234581820237], [126.92215773193824, 36.77234797912256], [126.92253325512047, 36.77256101563484], [126.92274751211649, 36.77256781220105], [126.92287248007824, 36.77257177556067], [126.92316181241381, 36.772277878865566], [126.9232410618227, 36.77219893241439], [126.92338507548591, 36.77205547010167], [126.92384462430319, 36.77210732399847], [126.92465391192215, 36.77224138504872], [126.92469528219337, 36.77224863276569], [126.92475270010952, 36.77225869491181], [126.92477732633316, 36.77221475760688], [126.92499001876138, 36.77183527758209], [126.92504493761753, 36.77173729417617], [126.9250311345742, 36.771638286306604], [126.92494044905146, 36.77098777290529], [126.92465355832923, 36.77045230215425], [126.92466401735973, 36.77032962009315], [126.92474924387236, 36.76932982437474], [126.92477680785173, 36.7690832879596], [126.92497762039818, 36.76888423622781], [126.92505732878675, 36.76880132247008], [126.92485410314185, 36.768510701233645], [126.92513376985157, 36.76815972603714], [126.92517087590718, 36.768115001538575], [126.92526253915443, 36.76801013160767], [126.92536126324272, 36.76789718071694], [126.92540731277577, 36.76784794693868], [126.92553984118928, 36.76767344122988], [126.92557142141077, 36.76762169274532], [126.92560744792156, 36.7675693076485], [126.9256171922717, 36.76754578497994], [126.92564660124883, 36.767474759873615], [126.9256482922349, 36.767470678990065], [126.9257089223838, 36.76735454741744], [126.92574075080235, 36.767280000219365], [126.9257988991638, 36.76713451752322], [126.92591547269643, 36.76685021880395], [126.92598761387107, 36.766483313443544], [126.92623528548208, 36.76658442115324], [126.92641175322237, 36.7666742376894], [126.92695709887563, 36.76695179998381], [126.92773882517855, 36.767059717969545], [126.92824720552099, 36.76716695755545], [126.92843851914718, 36.766951467373474], [126.92878370256521, 36.76656266795621], [126.92894690905044, 36.76647872988213], [126.9289611776749, 36.76647139192593], [126.9291497537348, 36.7663743959055], [126.92979369579555, 36.765592828209634], [126.92989273045015, 36.76547262717826], [126.93016968945675, 36.765434842990715], [126.93034687237851, 36.76541067038463], [126.9306708206655, 36.76536647341085], [126.93018149796926, 36.76456967072917], [126.92988772640847, 36.76434925403145], [126.92929947511227, 36.76360639146377], [126.92953567219648, 36.76318333568915], [126.9295447031283, 36.76268589223094], [126.93038758249935, 36.762114454226165], [126.93041085429297, 36.76199734615836], [126.93042639907068, 36.76191911739885], [126.93048908523188, 36.76160364819726], [126.93088261212766, 36.76128705931109], [126.9317280570507, 36.76093301613785], [126.93223324226116, 36.76074429353788], [126.93307624234647, 36.76041815647936], [126.93310660670353, 36.76017337443324], [126.93313520348838, 36.75994282532059], [126.93314787867585, 36.75979310518796], [126.93318848472094, 36.75956540059589], [126.9332272184804, 36.75934819095449], [126.93332570630291, 36.758978835039244], [126.93333792349073, 36.758877593574844], [126.93330931957412, 36.75882872764386], [126.9340216021742, 36.75768141498368], [126.9347149726082, 36.757619033834175], [126.93472289640714, 36.75759907873811], [126.93498899623114, 36.75688542495502], [126.93505698378223, 36.75670308343919], [126.93543946711854, 36.755712945639395], [126.9357936888411, 36.755506678848604], [126.93597262540325, 36.75498680880463], [126.9359524165427, 36.7548902253135], [126.93577746656977, 36.7540571139302], [126.93609926033918, 36.75373246665829], [126.93616908438634, 36.753650513350365], [126.93617315232952, 36.75364573861975], [126.93623214048549, 36.75361069139196], [126.93645792336828, 36.75347653892906], [126.93704752310587, 36.75269017028688], [126.93706341094581, 36.75266897621347], [126.93728560597535, 36.75237267431949], [126.93748833750828, 36.75182542120387], [126.93749057957636, 36.75181937573907], [126.93775728768814, 36.7516384134462], [126.93781432859932, 36.75159971247803], [126.9378345866505, 36.75158596523918], [126.93785763346847, 36.7515462021756], [126.9378788263777, 36.751509646788236], [126.93791258452491, 36.75145243500999], [126.93798585139814, 36.751328264863375], [126.93837346550595, 36.75123813437821], [126.93866985197221, 36.75092700101514], [126.93838167721643, 36.75000295398963], [126.93809817430405, 36.74908590377529], [126.93802264309214, 36.74889970210506], [126.93742130768426, 36.74849311267088], [126.93648649291826, 36.747873062036525], [126.9364196543362, 36.74778130230899], [126.9362358318041, 36.74756033795499], [126.93615779758534, 36.747096366231375], [126.93610693681578, 36.747006344334785], [126.93601429124533, 36.74686274119886], [126.93600451098027, 36.74684758442313], [126.9359786570361, 36.746807510584446], [126.93590431410352, 36.74669227499231], [126.93580634830661, 36.74654042867877], [126.93579001419462, 36.74651835719469], [126.93566138701331, 36.74634454622454], [126.9356001971277, 36.746261861756096], [126.93563569773796, 36.746261840818086], [126.93620261189741, 36.74626151720807], [126.9372837891395, 36.74622140262352], [126.93853244191466, 36.746402391181455], [126.93898137755554, 36.7462372102807], [126.93951581531843, 36.745785626180336], [126.94029530904375, 36.74591387987486], [126.94111547357019, 36.7455290733397], [126.94145459772507, 36.74517898070885], [126.9420569251681, 36.74491551762255], [126.94268697408609, 36.74515152328869], [126.94341954431036, 36.74542592458706], [126.94376305682182, 36.74474378593312], [126.94397812347655, 36.74425744930955], [126.94397992124746, 36.744247519907724], [126.94408483554682, 36.7436683073327], [126.9442496245244, 36.74346317591584], [126.94411876763684, 36.743011348429356], [126.94406741510522, 36.742834056252164], [126.944082588515, 36.74281849204104], [126.94460060724022, 36.74228706570937], [126.9455785770018, 36.74210008879733], [126.94638877848367, 36.7419640191864], [126.947190761577, 36.74190020197405], [126.94718193861542, 36.741676378226124], [126.94711619103003, 36.741416478210795], [126.94706428775088, 36.7412113040268], [126.9468968028658, 36.740544898072116], [126.94666320988014, 36.73991492118291], [126.94658699681638, 36.73981827713173], [126.94628230399206, 36.73938980983776], [126.94606399271737, 36.73858803921552], [126.94590451140414, 36.73821815718057], [126.94532455693701, 36.73758290438027], [126.9450908372917, 36.73715775578148], [126.94568638161483, 36.73673133185155], [126.94580753516753, 36.73657059229017], [126.94594160834922, 36.73638031204753], [126.94606170102307, 36.73607338654254], [126.94619409404713, 36.73582023318951], [126.94629894334314, 36.73550898333493], [126.94631181326874, 36.73547142121646], [126.94631780760434, 36.73539967758057], [126.94621448193203, 36.73448029300702], [126.94594780626359, 36.73432867560911], [126.94522233857826, 36.733916206619874], [126.9452544308553, 36.73378201895908], [126.94541686460406, 36.73336729144163], [126.94545296145091, 36.73327513634911], [126.94532859331801, 36.732607954724344], [126.94521663754898, 36.732403247805664], [126.94505097438773, 36.732100341872815], [126.94484323648746, 36.731062444501745], [126.94426210980944, 36.73079236312849], [126.94376487632901, 36.7308010004186], [126.94353637572853, 36.73075011155789], [126.94299508437754, 36.729923580293836], [126.94275835982033, 36.72956210884042], [126.94273864928637, 36.72953201376964], [126.94272869929809, 36.72951659167868], [126.94180848659204, 36.72803268825794], [126.94182008406223, 36.72801663514565], [126.9418469577898, 36.727979434822856], [126.94204159580585, 36.72771000676989], [126.94207778961021, 36.727660975892874], [126.94292315873192, 36.72651576948913], [126.94307336163693, 36.726389597388895], [126.94330789361075, 36.72624197326434], [126.94384906885776, 36.72592178148712], [126.94398184561759, 36.72508141813283], [126.94411780816068, 36.72424237290972], [126.94530353014451, 36.72329270043468], [126.94527980127546, 36.723232838423556], [126.94524517705769, 36.72314548659509], [126.94518403047068, 36.722991230017044], [126.94460200393085, 36.72235200721101], [126.94452296707341, 36.721875808471864], [126.94422452286516, 36.72147506095559], [126.9442166994139, 36.72146455471706], [126.94435027082707, 36.72082712463274], [126.94439222050771, 36.720626922952704], [126.94404703139045, 36.72051379173219], [126.94388421233414, 36.72046043018138], [126.94367827843327, 36.72006556011001], [126.94363957870632, 36.719956219827765], [126.94341117515924, 36.71931090688828], [126.9429001900652, 36.719025343815865], [126.9427147404364, 36.71871581662544], [126.94211574924623, 36.71873484085066], [126.9417050641902, 36.71862466280107], [126.94152188914343, 36.71782754821934], [126.94146805564331, 36.717585954934755], [126.94145090291217, 36.71750897694987], [126.94143555903015, 36.717393121484335], [126.94140951706197, 36.71719932488525], [126.94140096399789, 36.71713566595064], [126.94136426963082, 36.716862596035064], [126.94130873189509, 36.716614662694504], [126.94129496018019, 36.716541528202264], [126.94124451633247, 36.716273681735004], [126.94124540215799, 36.71625588539209], [126.94147989546373, 36.71559378059529], [126.94158110875533, 36.715308320544544], [126.94182693610674, 36.71464412259819], [126.94173372454735, 36.71451474945903], [126.94155366994084, 36.714264847447396], [126.94129939593954, 36.71392122575268], [126.94055648195098, 36.71291724091618], [126.94034281318213, 36.71242987857119], [126.94030797136502, 36.71217419186431], [126.94026075770708, 36.71182769914427], [126.94021153042931, 36.711793409961516], [126.9392374279474, 36.71111489743792], [126.93936645820791, 36.71051130632044], [126.93939136365616, 36.71039480164993], [126.93947424554686, 36.70997015747994], [126.93947785901251, 36.70993079808205], [126.93949426851879, 36.709855261455594], [126.93957648939885, 36.70947676595911], [126.9399185798313, 36.7092162108453], [126.94030573794024, 36.70892132391251], [126.94054086166238, 36.7085204632855], [126.94110518215788, 36.70755833022197], [126.94131972731539, 36.707192537865964], [126.94232683934848, 36.70697386175868], [126.94220670592611, 36.70655562923171], [126.94158624253524, 36.70628726303301], [126.94149628285535, 36.7062483516395], [126.94129948467561, 36.705896175574395], [126.94096528372243, 36.705328624393836], [126.94050237215696, 36.7042641781013], [126.940442880671, 36.70412738084218], [126.93971462020099, 36.702934588409214], [126.93969587625033, 36.702903667020934], [126.93966213268779, 36.70291377150688], [126.93962665383494, 36.70292433748412], [126.93957204541599, 36.702940600875216], [126.93946167724084, 36.70297348816009], [126.93928606910431, 36.70302605020051], [126.93911373901628, 36.70315099067763], [126.9391107715553, 36.7031532394009], [126.93903675515163, 36.70320699182237], [126.93871588513178, 36.703430128993766], [126.93868528190954, 36.70342448029669], [126.93839208424757, 36.703371096821456], [126.93739833948331, 36.70318218649208], [126.9369684161644, 36.70311126867578], [126.9367324713268, 36.70296808905424], [126.93636195984482, 36.70274317520785], [126.93615206531459, 36.70261887566892], [126.93575973603421, 36.70255191413316], [126.93550413497104, 36.7025084016152], [126.93532806289299, 36.702488877234266], [126.9350682466005, 36.70246029025343], [126.93467019880488, 36.702340669852575], [126.93423370032953, 36.70220553671213], [126.93396498183361, 36.70216060634338], [126.9335562259727, 36.702092510137916], [126.93348211283492, 36.70225241640301], [126.93324542208266, 36.70276283032022], [126.93298079228725, 36.70284602406286], [126.93237806490805, 36.70303547803869], [126.9315768058655, 36.7032771844701], [126.93109333304116, 36.703456277158956], [126.93109000312104, 36.703451771899616], [126.93108373005401, 36.7034455758317], [126.93100998163972, 36.70338441887826], [126.93100349987718, 36.70339681563707], [126.93099265012351, 36.703417650962315], [126.93104908146059, 36.7034708967574], [126.93104995325577, 36.70347230902807], [126.93093799389968, 36.703513910672235], [126.93051997040197, 36.70382033349718], [126.92979040639482, 36.70387030607229], [126.92965829064846, 36.70396990822896], [126.9293015007374, 36.704238622890045], [126.92893387336748, 36.704499445248274], [126.92872189435668, 36.7045409922669], [126.92869845768502, 36.70454125481382], [126.9283924541517, 36.704543321541536], [126.92816010973071, 36.70412246456076], [126.92815050133954, 36.704105283171], [126.92813515283837, 36.70407739172875], [126.9274917442084, 36.7038015941381], [126.92744821746425, 36.70378297669241], [126.9271498493024, 36.70347106615951], [126.92654426458537, 36.702803848269596], [126.92647544537144, 36.70272805787995], [126.92610616061408, 36.70271036726777], [126.92572830629362, 36.70250708715488], [126.92566557072382, 36.70247325685775], [126.92550827175955, 36.70236072220311], [126.92506832885293, 36.70204597766392], [126.92481957841376, 36.70161749672267], [126.92479933570117, 36.701582574934434], [126.92459519453934, 36.7015193127491], [126.9239688448977, 36.70132520896551], [126.92364850343175, 36.701163922586616], [126.92329127696681, 36.700982339356166], [126.92315361457202, 36.70103153122036], [126.92301596110956, 36.70108100242487], [126.92268488420613, 36.70097152329958], [126.92234316258507, 36.700863720636484], [126.92222639210465, 36.70082675964516], [126.92219546024558, 36.70081715846164], [126.9220542230357, 36.70077256926648], [126.92198831935521, 36.700751688473645], [126.92166223318596, 36.70090410388007], [126.92065789168919, 36.701373210987846], [126.9205749805745, 36.7014119351183], [126.920519347813, 36.70143780351549], [126.92034064554147, 36.7017374889473], [126.92017760429934, 36.70201091107003], [126.919916106392, 36.702224963512286], [126.91978552924705, 36.70233184791729], [126.91967059833792, 36.70242592636962], [126.91928692510953, 36.702512257608745], [126.91903554001223, 36.702568821081165], [126.91901488356287, 36.70257669111793], [126.91900299375695, 36.70258119816247], [126.91896836755147, 36.70259355426597], [126.91894069550408, 36.702603582436815], [126.91883962115267, 36.70264021541693], [126.91863408807181, 36.70271299943005], [126.91820567734904, 36.702865332832495], [126.9179091808905, 36.702971007556954], [126.91767687753533, 36.70305391779464], [126.91734154409826, 36.703173639014864], [126.91711907066612, 36.70322135762198], [126.9170535764685, 36.703235401037844], [126.91689659255427, 36.70326906677419], [126.9156976181734, 36.703387885622426], [126.91463841866279, 36.70313903092536], [126.91384909438118, 36.703610980670604], [126.91360605821458, 36.70363039333237], [126.91342990193232, 36.70364446656654], [126.91336081701643, 36.703751663040904], [126.91328732258192, 36.70386570337], [126.91311679774192, 36.70387232525984], [126.91250495743402, 36.70389609029779], [126.91195033500749, 36.703705592960546], [126.91184071537762, 36.70369734564199], [126.91163072159097, 36.70368141925054], [126.91126720828437, 36.70380729254232], [126.91107296573873, 36.703874508503716], [126.91106744519236, 36.70387641936381], [126.91068725484605, 36.70360438778498], [126.91060401080739, 36.70346493950728], [126.91060839916801, 36.7034570571064], [126.91069239321892, 36.7034052973808], [126.91068173294981, 36.70339825097378], [126.91067142268795, 36.70339345818127], [126.91058744636594, 36.70343732467098], [126.91045743080173, 36.70321982945345], [126.91041989990927, 36.703157001945854], [126.91020019027549, 36.70278737472798], [126.91019373401294, 36.702776663876975], [126.90985120590206, 36.7025553816942], [126.90971760683186, 36.702469070276635], [126.90949945765887, 36.70240836493543], [126.9092057928334, 36.702326478444995], [126.90917135793168, 36.70231687092347], [126.90913027911397, 36.702305297656565], [126.90857083398437, 36.70236371183317], [126.90825914367252, 36.70229730192513], [126.90804727675483, 36.70225235768336], [126.90785987758437, 36.7022124982827], [126.90750176679511, 36.70178165264017], [126.90750037138544, 36.70177996534725], [126.90678050747064, 36.70161436398591], [126.906592529622, 36.70162210837679], [126.90648498507976, 36.7016266205402], [126.90638199397485, 36.701630940759784], [126.90605401248418, 36.7016850467036], [126.90557329261996, 36.70176434447093], [126.90541707401198, 36.701767878830495], [126.90425133727399, 36.70179424275615], [126.9039893816163, 36.7019535274537], [126.90354139209079, 36.70222592877437], [126.90219388339338, 36.70226788751527], [126.90219090894117, 36.70227408553876], [126.9021884426088, 36.70227943512211], [126.90209009703761, 36.702486896888665], [126.9020225762448, 36.70262932600759], [126.90205184220207, 36.70270749016929], [126.90213288806616, 36.70292396789868], [126.90198865318628, 36.703171377786724], [126.90190799910363, 36.70334562237622], [126.90198673004339, 36.70357856569287], [126.90197786761418, 36.703940699111044], [126.90197608475287, 36.70442079886645], [126.90197573005332, 36.704515998120634], [126.90216633737954, 36.70461666385506], [126.90249804941426, 36.70479184482534], [126.90257330565504, 36.7054255113708], [126.90289023797676, 36.70617594651966], [126.90286161983946, 36.706543986387906], [126.90317905255688, 36.70678529983176], [126.90319357769633, 36.70787790969429], [126.90445673147738, 36.70935678123602], [126.90502807521744, 36.70949627443007], [126.90542768050948, 36.7095938325254], [126.90491711429962, 36.71023800895439], [126.90484472831544, 36.71026918962175], [126.90445186410521, 36.71043840914924], [126.90419724694127, 36.710689006607275], [126.9040619295892, 36.7108221835708], [126.9033414488666, 36.71149856812742], [126.90321895064899, 36.711524369031345], [126.90265695701834, 36.711642737071735], [126.9026570424605, 36.71164471713453], [126.90269485067837, 36.712510664939444], [126.90300220042103, 36.71326897668986], [126.90304177750642, 36.713366454865], [126.90304247896137, 36.71336841277496], [126.90282470305807, 36.714211623274956], [126.90292407584684, 36.71473350988752], [126.90234479262, 36.71505942205273], [126.90106456997749, 36.716843114284465], [126.899566755928, 36.71673989703392], [126.89936164369662, 36.71684898241574], [126.8990597350273, 36.717017970199024], [126.89904869994126, 36.71702415267249], [126.89903961519073, 36.71702921815181], [126.89893144502017, 36.71814200567727], [126.89888873356843, 36.71858195869917], [126.89888161360957, 36.71865531153563], [126.89947492531182, 36.71939952136937], [126.89938925187953, 36.71985563025391], [126.89931340693408, 36.72025939332653], [126.89869431865017, 36.720880350563505], [126.8986298041478, 36.72100912611587], [126.89841056525596, 36.72144672455371], [126.89833937255416, 36.72158882778291], [126.89835146093053, 36.72164237676619], [126.89839831665115, 36.72184992127174], [126.89823550465816, 36.72222599784859], [126.89821229782525, 36.72250843574869], [126.89821095887395, 36.72252475281333], [126.89824996229088, 36.72256638701302], [126.89830335433186, 36.72262338829115], [126.89850805502579, 36.722841814396006], [126.89863647379259, 36.72294132938675], [126.89872435707277, 36.72300954774846], [126.89795631724212, 36.72355320974483], [126.8979365408265, 36.723567277225726], [126.8975216103289, 36.72359493342441], [126.89715236371244, 36.72361954181825], [126.89646675700776, 36.723856031613806], [126.89620064873655, 36.72394786338912], [126.89614707592183, 36.72398898894002], [126.8955819607617, 36.72442269192961], [126.89551932019897, 36.72447077376721], [126.894804452476, 36.72449262385435], [126.89437327306523, 36.72450580076265], [126.89311151810247, 36.72398538081374], [126.89252501967957, 36.72427087025053], [126.89225982347156, 36.72439995560486], [126.89211684200042, 36.724463190182], [126.89207133077208, 36.724483422916634], [126.89165762709592, 36.7251298737101], [126.89163941910682, 36.72514281410145], [126.89157025571282, 36.72519231006631], [126.89079846459883, 36.72574240399692], [126.89050366695659, 36.72603526977933], [126.89001461165374, 36.72652085987201], [126.8886705241635, 36.72775693194263], [126.88860389519704, 36.728656121075595], [126.88854258179575, 36.72948357677377], [126.8878066976394, 36.730312192574516], [126.88777601674828, 36.7303552457804], [126.88706686513945, 36.730842285274676], [126.88664497196146, 36.731416907721865], [126.88662932468456, 36.73143822074337], [126.88637242027714, 36.7313851106803], [126.88614114336627, 36.73133729405823], [126.88598705157241, 36.731305501277824], [126.88570097569261, 36.73124647527446], [126.88528108635016, 36.73130238713098], [126.88524873705144, 36.73130668231386], [126.88480117627331, 36.731366122124456], [126.88404220142661, 36.73114480372074], [126.88325080584441, 36.73091402194738], [126.88289143817902, 36.73073710291065], [126.88238124209748, 36.73047893687901], [126.88179372265539, 36.73029226640895], [126.88113116710555, 36.730081744871896], [126.88054164516055, 36.729894724277244], [126.88026046273804, 36.72978901820693], [126.87975827553416, 36.72960022544609], [126.87938366313723, 36.729544783078104], [126.87899002633814, 36.72948651963635], [126.87861045995291, 36.72949035482288], [126.87811995814918, 36.7295044917369], [126.87767816291117, 36.72925369262285], [126.87760508457974, 36.72923192764968], [126.87729996862997, 36.72916374559664], [126.87721707501757, 36.72914592614518], [126.87702123496896, 36.729103485942915], [126.87646542998762, 36.72904430211672], [126.87608329421401, 36.728688258448884], [126.87584907601332, 36.72847596950972], [126.87565126941608, 36.728357198390526], [126.87561348395768, 36.728336147393165], [126.87546393003039, 36.72825281342047], [126.8751732803541, 36.728212795212606], [126.8749669191538, 36.72818442422411], [126.87489986510548, 36.72822321745564], [126.87459872033055, 36.72839804748804], [126.87414908962634, 36.72865182735099], [126.87407435379404, 36.72869400710105], [126.87399977636942, 36.728740667936364], [126.87395992963187, 36.72871669383078], [126.87360326103824, 36.72850257542433], [126.87325623235452, 36.72840420662307], [126.87281914020369, 36.72828040779445], [126.8725345051624, 36.72820687479533], [126.871881441972, 36.728152378121905], [126.87174128418313, 36.72808661362611], [126.87164532029223, 36.72804173133357], [126.8715647440766, 36.72800700502738], [126.87150863093498, 36.72798301272571], [126.87062489916016, 36.72838255239718], [126.8706008241319, 36.72839343923002], [126.8703691273083, 36.728554645769805], [126.87011994463454, 36.72872801748129], [126.86992469831699, 36.72873990387619], [126.86985017899259, 36.72874460625884], [126.86983862363219, 36.72874544113797], [126.86976393631835, 36.72875014257712], [126.86960398788202, 36.72878826238242], [126.8691400425632, 36.72887492152313], [126.86911687198901, 36.72887924655095], [126.86867398832713, 36.72897364373419], [126.86840561481964, 36.72903917192803], [126.86791171512706, 36.72915977165422], [126.86684141995222, 36.72943943346612], [126.86681395426191, 36.72944661268125], [126.86672661332142, 36.729581402485536], [126.86657031492364, 36.72983466219057], [126.86640085243866, 36.73011156201164], [126.86619140821284, 36.73054555484661], [126.86614666194096, 36.73067311226842], [126.86614342101531, 36.730682354888], [126.8660636133992, 36.73079686700082], [126.86600065051107, 36.73089817934808], [126.86589742999652, 36.73100928708038], [126.86589041933128, 36.7310171628145], [126.86582447814617, 36.73110580438737], [126.86581396121386, 36.73112086055698], [126.8657122460634, 36.731266462701704], [126.86508304226784, 36.73176220363668], [126.86509318158276, 36.73176392904823], [126.86519793880775, 36.73178176357554], [126.86523536572349, 36.73178799581926], [126.86515588462731, 36.73182255063881], [126.86514082629509, 36.73182900595663], [126.86512595830014, 36.731835467696634], [126.86510650415254, 36.73185402610636], [126.86507390500597, 36.731884967263944], [126.86504759381204, 36.73192971638733], [126.86504723864333, 36.731934221831594], [126.86504687218265, 36.73193928251979], [126.86501617066618, 36.731992469389844], [126.86473302081896, 36.73206254932607], [126.86374345043055, 36.73207289643928], [126.86371475903861, 36.732073197391024], [126.86370671712564, 36.732101227904735], [126.86367743926247, 36.73220326535881], [126.86359486728333, 36.7324061913586], [126.86343462213912, 36.73279939472768], [126.86332150000518, 36.73306341002436], [126.86322594240693, 36.73328435150382], [126.86312268668618, 36.73352277622927], [126.86310806994268, 36.73355652106966], [126.86290291283707, 36.734030775801465], [126.86287350378407, 36.73423602311767], [126.86286667730938, 36.734283881533344], [126.86285969350301, 36.73433288757531], [126.86290146856145, 36.73434869397803], [126.86292279003456, 36.734358298762764], [126.86294198709679, 36.734385634852366], [126.86296117061953, 36.73441325573003], [126.86304648015278, 36.734543729168394], [126.86306532464795, 36.734574166201256], [126.8630843075828, 36.73462092774216], [126.863103290308, 36.73466798856581], [126.86310167860549, 36.73468656639377], [126.8631000781552, 36.73470486662992], [126.86309362383304, 36.73478849186048], [126.8630858441868, 36.735030378802456], [126.86308176390213, 36.73515878359604], [126.86303001221302, 36.73524292181749], [126.86302965118121, 36.73524351124769], [126.86299105937042, 36.735306243329106], [126.86299552232268, 36.73534003076992], [126.86300123479928, 36.7353820012059], [126.863099320238, 36.735512209428954], [126.86315847582846, 36.73559478487262], [126.86316364767346, 36.73563984624183], [126.86316898519554, 36.735685189754804], [126.86315116435965, 36.7357707842556], [126.86304609936417, 36.735923004439094], [126.8629977011876, 36.7359902436499], [126.86292257515471, 36.73603521235389], [126.86277863702196, 36.73611924455941], [126.86269141156228, 36.73617405545336], [126.86270034986296, 36.7362582660861], [126.86270986030503, 36.73632529421311], [126.86271005856123, 36.73640780835579], [126.86270874804401, 36.73645171900881], [126.86270744607643, 36.73649622106964], [126.86269343117799, 36.73650747024828], [126.86264700415724, 36.73654401950229], [126.86261357463636, 36.73655609140339], [126.8625799636541, 36.736568164126055], [126.8624485464204, 36.736586870565425], [126.86237855065973, 36.736598620298686], [126.8623313013637, 36.73660645870799], [126.8622970693528, 36.73661425506933], [126.8622833523163, 36.736617378168866], [126.86218429591696, 36.736652458882155], [126.8621247602267, 36.736673791227325], [126.86199294346636, 36.73672179269651], [126.861884887903, 36.73680863582475], [126.86186209824616, 36.73682695403444], [126.8617732593919, 36.73689978492977], [126.8615973669968, 36.73704403538185], [126.86136152041901, 36.73715668475331], [126.86118493300054, 36.737197305438954], [126.86114187880935, 36.737212179303455], [126.86103001012066, 36.73725429202342], [126.86095818395819, 36.73731137486941], [126.86084553863496, 36.73740444316173], [126.86074841525468, 36.73746581801781], [126.86050172833959, 36.73762171029366], [126.86043325858533, 36.737654581229194], [126.8604305006287, 36.73765571127029], [126.86027203898558, 36.737720549446585], [126.86013136868362, 36.73782037163372], [126.86010770342533, 36.73784342831109], [126.86005582893917, 36.7378988401854], [126.86003164591696, 36.737922467395784], [126.85999090733284, 36.73799805445073], [126.85994352525917, 36.73808596667072], [126.85991373775424, 36.73820533011937], [126.8599621370391, 36.73833379520571], [126.85998719378213, 36.73840704250879], [126.86000096089298, 36.73844056997181], [126.86003016590597, 36.738534652633795], [126.86002749768556, 36.73856112697913], [126.8600133882125, 36.73862334064031], [126.85997935098904, 36.73867877086786], [126.85993689638426, 36.73874406112788], [126.85988958739956, 36.738784259082834], [126.85979586861923, 36.73885427848371], [126.85973930967354, 36.73888265346386], [126.85967242556845, 36.73891242602575], [126.85963722824135, 36.73892786626408], [126.85959025544216, 36.738972865314224], [126.85949036996634, 36.739072437414805], [126.85946177521446, 36.73910905072185], [126.85939654995745, 36.73919256125827], [126.8593763793243, 36.73921985004764], [126.85934358177306, 36.73926430509388], [126.85928552946444, 36.739439684761244], [126.85925439042293, 36.739720111140706], [126.85923308585164, 36.739798362704875], [126.8592248110669, 36.73982904733517], [126.85921229922893, 36.73987493491674], [126.85919522027493, 36.73993800148771], [126.85920069932354, 36.739995443577556], [126.8592116952545, 36.74011036041151], [126.85930114667826, 36.74026373792758], [126.85934021608541, 36.74033072708183], [126.85935464120642, 36.7404796963152], [126.85935007823261, 36.74048424939663], [126.85931204092078, 36.74052216943129], [126.85929872524974, 36.74053539076399], [126.8592594663079, 36.74057420206461], [126.8592456240224, 36.7405879812678], [126.85938974860163, 36.74088974593921], [126.85934855906974, 36.74102740706374], [126.85933463314011, 36.741087358922606], [126.85931100123159, 36.74118899460465], [126.85927504116957, 36.74123569166156], [126.85921771115206, 36.74130996668071], [126.85918206437739, 36.74137366704588], [126.8591580261983, 36.741416622272446], [126.85909971881352, 36.74153566959165], [126.85905949649727, 36.74162291140088], [126.8589707513936, 36.74183513611235], [126.85895935106085, 36.74185398385356], [126.85894794171703, 36.74187283695386], [126.8589249503654, 36.74191083068987], [126.85886879788886, 36.742003415238095], [126.85882618889231, 36.7420546107027], [126.85876727542, 36.742125213400996], [126.85861904267911, 36.74224556979626], [126.8586017132426, 36.74225596405052], [126.85857351211597, 36.742272539651395], [126.85846509888091, 36.74233662101007], [126.8583831226036, 36.74239340050406], [126.85831270629284, 36.742442311177946], [126.8582650449341, 36.74247548412939], [126.8582548874882, 36.74248251307272], [126.8581527884113, 36.74254180895582], [126.85805523771816, 36.74259857813751], [126.85800058011735, 36.74263172766402], [126.85796871252133, 36.74265113557723], [126.85793752635372, 36.74266995579673], [126.85793333398577, 36.74267248432558], [126.8578604613775, 36.742722526336046], [126.8577022781187, 36.742829060686375], [126.8576994860391, 36.742831032447114], [126.85766148870097, 36.74284590707458], [126.85755013360809, 36.742889425498866], [126.85751616566418, 36.74290600036207], [126.85749340329147, 36.742916940255455], [126.85742262194803, 36.742968666405], [126.85742140068506, 36.74296951259712], [126.85733966878807, 36.7430744579955], [126.85733390435287, 36.74316906814867], [126.85732793519423, 36.74326592905582], [126.85717624651265, 36.743460332975516], [126.8570821992452, 36.74360608050633], [126.85706781822138, 36.743631961415524], [126.85704279376908, 36.74372148418344], [126.85701795970085, 36.74381100436732], [126.8570137619725, 36.74381550704368], [126.85700954411224, 36.74382000600522], [126.85693644811971, 36.74389876692059], [126.85688314427296, 36.74395529823932], [126.85688210209493, 36.74395642665078], [126.85686367715171, 36.743982588570944], [126.85685333937498, 36.74399722839239], [126.85678001017705, 36.74409879322384], [126.85675888417126, 36.74416888517079], [126.85675971029349, 36.74419310841021], [126.85676054168916, 36.744215626105195], [126.85676070905556, 36.74422268368228], [126.85680034513705, 36.744264958503095], [126.85683252640123, 36.74427062957641], [126.85686452612457, 36.74427657911423], [126.8569140739622, 36.74425889690251], [126.85693176537487, 36.74425245688155], [126.85695767083328, 36.74424318737228], [126.85698304188165, 36.74423674917741], [126.85703380205271, 36.74422385303677], [126.85705951121905, 36.74423542613166], [126.85707402111835, 36.74424191394584], [126.85709761574037, 36.744252649865736], [126.85711731779743, 36.74428421204473], [126.85711994163489, 36.74428872092698], [126.85716197237446, 36.74436086149818], [126.85718938934366, 36.74438820501441], [126.85724525788173, 36.74444375400823], [126.85728597787792, 36.74447026969237], [126.85736168358285, 36.74449795509646], [126.85743499458108, 36.74449607026927], [126.85745283644178, 36.744494695416996], [126.85747506505449, 36.744492749280575], [126.85758530471412, 36.74448442896005], [126.85760208865482, 36.7444844582664], [126.85776112018624, 36.74448464236447], [126.8578471263063, 36.7445253046585], [126.85802490238453, 36.7446088633369], [126.85819225980279, 36.744648776093136], [126.85825398233396, 36.74466433111619], [126.8582553800782, 36.744664623517096], [126.85826902445747, 36.74466772782531], [126.85829525808455, 36.74467339347377], [126.85830802865937, 36.7446765092919], [126.85838626876891, 36.74464928862628], [126.85838908060987, 36.74464844739461], [126.85857941757729, 36.74455799455633], [126.85860007153056, 36.74455520857086], [126.85865012606638, 36.74454795291544], [126.85865572239737, 36.74454767116963], [126.85865885875783, 36.74454767545234], [126.85868321276914, 36.74456707282697], [126.85872577386607, 36.744600975536855], [126.85877314355876, 36.744719589623465], [126.85878182894035, 36.74475058193476], [126.85878566849367, 36.74476381270043], [126.8587912170409, 36.74478381727229], [126.8588058358225, 36.74483029627833], [126.85880861720734, 36.74483930969434], [126.85880767421926, 36.744875911327185], [126.85880729316497, 36.74488886153123], [126.85879739597962, 36.74494320443766], [126.85877456275627, 36.74499330565529], [126.85874949751715, 36.74502086721652], [126.8586692074028, 36.745109187418244], [126.85865663714732, 36.74512640978054], [126.8586006181629, 36.74520316512636], [126.8585783452799, 36.74523382831853], [126.85856481824213, 36.74526479466514], [126.85854021222721, 36.74532221879853], [126.85843180363557, 36.7455746811402], [126.85837580274135, 36.745672608286625], [126.8583435059865, 36.74572915975541], [126.8583405288878, 36.74573450742166], [126.85833754055757, 36.74573985863313], [126.85826811561624, 36.745910137068655], [126.85826258753066, 36.745967858734836], [126.85835782918043, 36.74621718397074], [126.85845070788494, 36.74632064290034], [126.85848655643302, 36.74632914046293], [126.85857645231674, 36.7463506490298], [126.85866440373842, 36.74636353084357], [126.858669498768, 36.74636427767236], [126.85872389302628, 36.74637221704338], [126.8587583605276, 36.7463773410102], [126.85887874759753, 36.74645970390517], [126.85894321910762, 36.74650398866013], [126.85899039966188, 36.74653616190365], [126.85900629103588, 36.746558980658016], [126.85903089505261, 36.746593927778676], [126.85900587610904, 36.74678314039221], [126.85902143045776, 36.74697604940244], [126.85897897523853, 36.747040484614956], [126.85896673052082, 36.74704412728164], [126.85892820422936, 36.747054228891734], [126.85890037691163, 36.747060944533615], [126.85876747299731, 36.747025585125705], [126.8586815954452, 36.747010271592266], [126.85862244785214, 36.7470178081773], [126.85858375063603, 36.74703579116649], [126.8585786732792, 36.74703803008202], [126.85850998427814, 36.747185217047566], [126.858508066063, 36.74718634976467], [126.8584604207288, 36.74721698251334], [126.85843046720953, 36.74723553904624], [126.8582314839046, 36.74735835442147], [126.85817403275529, 36.747393771430794], [126.85814144170823, 36.74741399940366], [126.85805895490265, 36.74746064878886], [126.85805649880501, 36.74746234111113], [126.8580078058208, 36.74748987239266], [126.85799537375203, 36.74749689624499], [126.85797278840181, 36.74750982760624], [126.8578699859937, 36.74756827379836], [126.85782250505467, 36.74759525083215], [126.85779904365751, 36.74760845147765], [126.85756769371571, 36.747726722545295], [126.85753863284663, 36.74774161831253], [126.85728836873139, 36.74787225757878], [126.85721200660926, 36.747911864751394], [126.85710551432025, 36.74796721995247], [126.85710027101865, 36.74796946511929], [126.85708713576643, 36.747975360048024], [126.85706332110456, 36.74798602912711], [126.85701936661347, 36.74800541291914], [126.85694673790648, 36.748018832702066], [126.85684557832803, 36.74803729969164], [126.85661464238484, 36.74802998082624], [126.85658647020426, 36.74802909831496], [126.85646959005149, 36.74803009072228], [126.85637980175684, 36.74804489576053], [126.85637857816103, 36.748045741928216], [126.85637263988076, 36.74804911193797], [126.8562564955112, 36.74811542826631], [126.85618166994111, 36.74827190539327], [126.85616148115348, 36.748313276167956], [126.85615199206605, 36.74833297411907], [126.85613620029699, 36.748359429603354], [126.8560796965463, 36.7484418657146], [126.85592817631975, 36.748540244692265], [126.85578715907084, 36.74863214832072], [126.85578557915572, 36.748633272007226], [126.85571435917616, 36.74864022253609], [126.85567096700055, 36.74864130372431], [126.8556613467239, 36.74864157075094], [126.85564436901508, 36.7486418321923], [126.85563910638422, 36.748641823527336], [126.85552376218601, 36.748582544167654], [126.85552340635041, 36.74858142622697], [126.85549346124499, 36.74850507223145], [126.85547634067196, 36.748493220793385], [126.8554506417944, 36.74847545615458], [126.8554258277867, 36.74845823898524], [126.85539875371352, 36.74843962491784], [126.85536202860916, 36.74842549473288], [126.85527723718894, 36.74839272685749], [126.8552429738423, 36.74837945735076], [126.85522671310923, 36.74837436431044], [126.8550651386429, 36.74832290751919], [126.85505379824633, 36.748311072924466], [126.85505205365074, 36.74830938674422], [126.85503040477114, 36.748288236428294], [126.85500524421474, 36.74826399307883], [126.85496211478281, 36.748221129021346], [126.85495250296937, 36.74821182608572], [126.85492435858157, 36.748203068134245], [126.85488553575169, 36.74819118910752], [126.8548089451735, 36.74816771979674], [126.85466153469334, 36.74812220238224], [126.85442303417797, 36.74804841289846], [126.85439293500289, 36.748048366790464], [126.8543628491035, 36.74804834057912], [126.85417966852118, 36.74804754487293], [126.85390736146256, 36.748079026036436], [126.85386990964643, 36.74808348506], [126.85380936080713, 36.74809045453155], [126.85362911081673, 36.748109661169536], [126.85346091963534, 36.748141549955285], [126.8534068373614, 36.74815161753366], [126.85339143572273, 36.74815469978816], [126.85332912173526, 36.74816589630771], [126.85330444448303, 36.74817036147199], [126.85326891394556, 36.74817679594061], [126.85326681625767, 36.74817847929363], [126.8532647073077, 36.7481801697971], [126.85326312736566, 36.74818129344996], [126.85320286114356, 36.74822824771718], [126.8531588793503, 36.748261696385356], [126.85313221148364, 36.74829405102754], [126.8531027618565, 36.74832977644258], [126.85307745905358, 36.74838606517028], [126.85305478432853, 36.7484367340255], [126.85302375247576, 36.74846850600789], [126.85289858465845, 36.74859619938904], [126.85288491004695, 36.74860997873451], [126.85287141235355, 36.74862376625218], [126.85276563847489, 36.74876301716369], [126.852575439506, 36.74876672779369], [126.85244141835165, 36.74877021018057], [126.85239873178537, 36.74877129221177], [126.85236146894414, 36.74876307899647], [126.85231617276335, 36.748753444606606], [126.85231390122303, 36.74875288415217], [126.85209875759257, 36.74863348584491], [126.85203809307775, 36.748612576888874], [126.8520358104667, 36.74861173511186], [126.85201517169695, 36.748607762653826], [126.8520015380227, 36.74860493173212], [126.85199979070018, 36.748604642762835], [126.8519934890451, 36.74860350685645], [126.85198544232672, 36.74860181335608], [126.85200317959682, 36.74857170366926], [126.8519802556614, 36.748567727775765], [126.85196381468607, 36.74856996942834], [126.85190833758027, 36.74857693670276], [126.85179354883661, 36.74860219792293], [126.85172768685312, 36.748616691663], [126.85166414755825, 36.74863604790131], [126.85155209516611, 36.74866997785681], [126.85130087852141, 36.74874906793843], [126.85124363294665, 36.74876701772041], [126.85118790846767, 36.748804405936184], [126.85114618195304, 36.74884658871998], [126.85111421355921, 36.748914970779275], [126.85107832938328, 36.74901574994311], [126.85105826758831, 36.74907175490195], [126.85100516098737, 36.74912068343114], [126.85099551407589, 36.74912969053502], [126.85099271071228, 36.74913109234745], [126.85095890663825, 36.7491476661971], [126.85091723238179, 36.74916844661125], [126.85082800238192, 36.749172281471715], [126.85081697045602, 36.74917282707073], [126.85068266874406, 36.749137458230564], [126.85062829693594, 36.74911795131788], [126.85059454872724, 36.749106087769086], [126.85041506979059, 36.749089530828954], [126.85029804142633, 36.749078676522295], [126.85023628540661, 36.74907324604738], [126.85018450542232, 36.74906867592824], [126.85013255743641, 36.74906410306616], [126.85004281232408, 36.74905584047734], [126.84976809872238, 36.74947054398351], [126.84968314322376, 36.749520285879484], [126.84966213588424, 36.74953236247422], [126.84961693368807, 36.74955962631195], [126.84961269579073, 36.7495621633077], [126.84959485711312, 36.74957282748688], [126.8495692421039, 36.749587714886886], [126.8495605310686, 36.74959278758894], [126.84946186918728, 36.74964959580322], [126.84911596500756, 36.74984875783324], [126.84910197557197, 36.74985673319066], [126.84909529376698, 36.749860544090474], [126.84879905678284, 36.74995675559162], [126.84872342167075, 36.749981158959365], [126.84870207600282, 36.74998816910437], [126.84869051358643, 36.749991821653744], [126.84855797792173, 36.75003557258954], [126.8484639545297, 36.75006643237204], [126.84834883729313, 36.750125639395854], [126.84817828546988, 36.75021334083523], [126.84815677975391, 36.750239257315506], [126.84811357641536, 36.75029125868779], [126.84805251313897, 36.750359031568166], [126.84803730770516, 36.750375919223245], [126.84799888314278, 36.75042261908162], [126.84799406457876, 36.75047470452029], [126.84797852047113, 36.75072277980909], [126.84796308717227, 36.75092015013943], [126.84798217710944, 36.751085761749735], [126.8479843733921, 36.7511018396772], [126.8479851012702, 36.75110716771245], [126.84798729002468, 36.751127047974045], [126.84798853350469, 36.75113843126431], [126.84799008419266, 36.751151372164905], [126.84798497086405, 36.75135187302366], [126.84798081906634, 36.75167147335688], [126.84801738387819, 36.75202972077659], [126.84801418243737, 36.75205167010832], [126.84801051680896, 36.75208081598745], [126.84800671849743, 36.75211107895456], [126.84798478117753, 36.75225120850654], [126.84798101557567, 36.7522752209004], [126.84794857391618, 36.752495391552735], [126.84778399240783, 36.752900112217766], [126.84773686585571, 36.75293047301357], [126.84764627940427, 36.752988928538365], [126.84758162642281, 36.753030510158844], [126.84755657826794, 36.7530465378656], [126.84741589076884, 36.75313703416001], [126.84723491872795, 36.75325337782217], [126.84709783937018, 36.75329318078585], [126.84692924013419, 36.75334195504585], [126.84680282686605, 36.75337868091732], [126.84672282156693, 36.75340195379689], [126.84662511579353, 36.75343026596931], [126.84614878783523, 36.753457246325446], [126.84601562294702, 36.75346523706352], [126.84593198915431, 36.75347012124387], [126.84592133904133, 36.75347074601036], [126.84588902751342, 36.753460006842516], [126.84586663303295, 36.75345265038833], [126.84582030277689, 36.75343738811544], [126.84574389239846, 36.75341194156718], [126.84569562595647, 36.75339540835363], [126.84568747389244, 36.75339262217535], [126.8456492877413, 36.75389183472907], [126.84556953373558, 36.754797824844964], [126.84556448893699, 36.754857057499386], [126.84555772327458, 36.754929488929534], [126.8455551746095, 36.75496654849456], [126.84550340862113, 36.75576009957089], [126.84550337792142, 36.755760548330734], [126.84550051977247, 36.75580475479043], [126.84550047689, 36.75580531887055], [126.84543719683086, 36.75670414243206], [126.84543697502157, 36.75670730534736], [126.84543548066081, 36.75673075860543], [126.8454354407418, 36.75673150119141], [126.84543443762112, 36.75674882539973], [126.84543533569125, 36.75674887541341], [126.84849119005126, 36.756916238411236], [126.85095636331566, 36.757051152636194], [126.85098940642938, 36.75705297714618], [126.8510194224653, 36.75705479775686], [126.85108878430005, 36.757059005475035], [126.85109122415207, 36.75703269605152], [126.85114336897347, 36.75703582544179], [126.85167270795971, 36.7570651111565], [126.85297029961019, 36.757136890505194], [126.85744938317869, 36.75738482349527], [126.85747965345504, 36.75738521052297], [126.85748694771897, 36.7573082649181], [126.85756347633735, 36.75727156488835], [126.85763408589551, 36.757237454309816], [126.85775871575781, 36.75717721158302], [126.8580949027711, 36.7570051261816], [126.8583542159624, 36.75684627525301], [126.85851819464452, 36.75670612361275], [126.85869844790562, 36.756553952798825], [126.85873813610804, 36.75652462573271], [126.85879192535037, 36.75647582189359], [126.85888194913713, 36.756391847044796], [126.85922151316996, 36.756073530316705], [126.85921070002047, 36.75604658321829], [126.85923063929758, 36.75601317597259], [126.85923722906352, 36.75597356147086], [126.85931748453129, 36.75598555220562], [126.85934030692803, 36.75599585261885], [126.85937278130355, 36.756038828974305], [126.8594348295468, 36.75605998864909], [126.85946016533319, 36.75609892945846], [126.85964264175877, 36.75638299835895], [126.85972948365126, 36.7564889910556], [126.85973924178037, 36.75652994838905], [126.85974902840573, 36.75656909573537], [126.85976777857061, 36.75658331896], [126.85984702168948, 36.756638489419785], [126.85995101629779, 36.75683805603493], [126.86002782528605, 36.75695729293412], [126.86005531996341, 36.75704579688792], [126.86014089533181, 36.75720785531698], [126.86025886073145, 36.75727778696128], [126.8603138201624, 36.75731035485119], [126.86034234308008, 36.75751848309527], [126.86034497854529, 36.757537588462704], [126.86034842142988, 36.757562806489005], [126.86034406007784, 36.75766979039357], [126.86025429587727, 36.757922175568865], [126.86019852209296, 36.758107395093546], [126.86018309819154, 36.75814073662383], [126.86014266535604, 36.75822811441661], [126.86013048810818, 36.75830866862522], [126.8601508847343, 36.75840528179543], [126.86016041357662, 36.75842399153152], [126.86019194869016, 36.758485808599396], [126.86019632729827, 36.75853514220292], [126.86020099986189, 36.75857633176167], [126.86020208967129, 36.75858594361775], [126.86020248904563, 36.75864253423986], [126.86020286766924, 36.75869406934216], [126.8601595188263, 36.75882090293426], [126.8601627769658, 36.758856492206505], [126.86020230539982, 36.75891554329202], [126.86020974893364, 36.75895925742253], [126.86021093447586, 36.7590086026989], [126.8601670234993, 36.75908790269914], [126.86010077450408, 36.75915968694102], [126.86011108597137, 36.75920179927433], [126.86013794012655, 36.75924558894963], [126.86019397942161, 36.75948633404862], [126.86029519495514, 36.759573745096965], [126.86032640624298, 36.759597724155604], [126.86039253187886, 36.75964903035783], [126.86051129510179, 36.759712403375616], [126.86054848393645, 36.759726765238796], [126.86072494872445, 36.75979495365409], [126.86084132190616, 36.75985099722436], [126.86101883028111, 36.75988609808844], [126.86116989781279, 36.75991719305348], [126.86128656053103, 36.75993594780759], [126.86129397076935, 36.759939443797705], [126.86133410429541, 36.75995838623412], [126.86132392097402, 36.760059632622564], [126.86135352836935, 36.76014037155932], [126.86142747217194, 36.76020638415803], [126.86146996931505, 36.76039244169907], [126.86145946528352, 36.76052752369971], [126.86150502685271, 36.760589644653685], [126.8615025154355, 36.760607970546694], [126.86149595500363, 36.7606562988487], [126.8614996802925, 36.76066562013898], [126.86151383548928, 36.76070125882956], [126.86152404867438, 36.76072696026804], [126.8616320211429, 36.760875725771136], [126.86175548963679, 36.760970587466865], [126.86182408342181, 36.76100390028277], [126.86192814201152, 36.76105585440791], [126.86210485338434, 36.7612376445055], [126.86228122987463, 36.7612965126181], [126.86248585846722, 36.76134967414474], [126.86252850464413, 36.76140222357192], [126.86256523633678, 36.761465740951564], [126.86260781356985, 36.761584583588366], [126.8626069102117, 36.76162524015023], [126.86260760020512, 36.76164638135682], [126.86260851669834, 36.761691329617896], [126.86261293861624, 36.76181632856272], [126.86263475999009, 36.761964379179126], [126.86263527182685, 36.76198403381868], [126.86263562652117, 36.761998578123006], [126.86264642607604, 36.762511591947685], [126.8626923511703, 36.76258284259835], [126.86272906281356, 36.762638845214134], [126.86273288820048, 36.76264774331227], [126.86276238057167, 36.76271613662258], [126.86281654935088, 36.762798010946966], [126.86290088173399, 36.76286717027081], [126.86293159868544, 36.7629132444607], [126.86298127947741, 36.76298779643268], [126.862956387532, 36.76313501810865], [126.86298488510543, 36.76316415633304], [126.86300866015988, 36.76320779003326], [126.86305198715458, 36.7634794885644], [126.86287941519981, 36.763525640767625], [126.86279357222283, 36.763548790363046], [126.8627293891344, 36.76356570961494], [126.86256433620731, 36.763610068056785], [126.86250958726957, 36.763624511834806], [126.86222294491328, 36.76370176168476], [126.86211406190932, 36.76369506604652], [126.86196842865762, 36.76369492158655], [126.8618751551806, 36.763714213875225], [126.86158894621822, 36.763811513050904], [126.86150436936249, 36.763841059877414], [126.86137811982294, 36.763910287121234], [126.86119618255076, 36.76395792269359], [126.86113264557265, 36.76397088712718], [126.86109820688428, 36.76397536997116], [126.8608662469339, 36.764006787725094], [126.86090266480468, 36.764046263694325], [126.86083401979393, 36.76404665937871], [126.86081330001501, 36.76405729530516], [126.86107029265014, 36.764315713382324], [126.86116375263872, 36.764409664484575], [126.86124297937103, 36.76449031824555], [126.86004955584663, 36.76442535860708], [126.8600256625551, 36.764446001590095], [126.86000937070432, 36.7644555343644], [126.85997259077753, 36.764476915727016], [126.85991550461733, 36.764510101563815], [126.85966655032718, 36.76449836987679], [126.85966208674918, 36.764550899323815], [126.85960278116214, 36.76525009166328], [126.8596098384889, 36.765249458961925], [126.85960665882591, 36.76527315572097], [126.85633745005265, 36.76510836283974], [126.85633960876626, 36.76515170961925], [126.85629139572687, 36.76579681648863], [126.85628951365088, 36.7658219841477], [126.85629166429446, 36.766046724921836], [126.85631888558557, 36.7661045189085], [126.8568111091023, 36.766130159232624], [126.85685364101239, 36.76613237417874], [126.85740565085202, 36.766157933169424], [126.85756938036945, 36.766166312142325], [126.85817233949942, 36.7661975893166], [126.8585286940667, 36.766216940085165], [126.85951456221422, 36.76626265326154], [126.85963573990315, 36.76626774615519], [126.8595590618788, 36.7671559679389], [126.85955888843758, 36.76718867926777], [126.8595713459539, 36.767235820686274], [126.85952605948356, 36.76784143702738], [126.8595045141006, 36.7681295527381], [126.85949711803664, 36.76819243317262], [126.85989821303775, 36.76820815165783], [126.86020146339649, 36.76822003428018], [126.86062480685018, 36.768239288306006], [126.86126519188845, 36.768272483607], [126.86173589564798, 36.76830078260592], [126.86256377265019, 36.76833617558733], [126.8628882130477, 36.76835718853379], [126.8628831788106, 36.76866473147166], [126.862916882246, 36.76867107976143], [126.86288146545559, 36.76924396401906], [126.86288421024281, 36.76927435258267], [126.86287135524205, 36.76932236592594], [126.86281026431031, 36.77015689355702], [126.86221869875436, 36.77012512391527], [126.86169106817495, 36.77010414052472], [126.86160228923701, 36.770142333272574], [126.86159287634608, 36.770206192805524], [126.8615702828391, 36.770470737166875], [126.86152041217694, 36.7710546095798], [126.8615174584842, 36.771089200845324], [126.86151564247338, 36.77110280497468], [126.8615141133164, 36.77113316521191], [126.86151296804663, 36.77115587770472], [126.86144606129979, 36.77203870586479], [126.86144069604492, 36.772094383788975], [126.86137312759165, 36.77284710388016], [126.86136238246524, 36.77296613647275], [126.86136678524942, 36.77300948614961], [126.8614512414333, 36.77305813703912], [126.86187634167283, 36.77296412750286], [126.86202615382388, 36.77291644498313], [126.86252606225298, 36.77275430876243], [126.86274672192272, 36.77268817160752], [126.8628930865629, 36.77279400646128], [126.86302084923734, 36.772838220388394], [126.86311902895301, 36.772872197469596], [126.86336633159254, 36.77288292879842], [126.86379563220119, 36.772711162162814], [126.86397052456707, 36.772625019732516], [126.86439089593597, 36.77241472519867], [126.86456514174374, 36.772388568905235], [126.86476487606281, 36.77236151538266], [126.8648503235512, 36.77234994250421], [126.86542596621766, 36.77222430189852], [126.86569941774714, 36.77211704930547], [126.8659254046212, 36.771941491752706], [126.86602383814872, 36.771840147549945], [126.86609957028845, 36.77177543490529], [126.86632843374319, 36.77148593448598], [126.8666686610118, 36.771243769117355], [126.86672702250527, 36.77114515515542], [126.86679108140852, 36.77095324492436], [126.8667901362842, 36.7709452691664], [126.86674131984245, 36.770533758720475], [126.86673517875055, 36.77048560598387], [126.86673391767982, 36.77047571924637], [126.86672446311209, 36.770405917385865], [126.86688670457879, 36.77017022640614], [126.86694534557668, 36.77008409184193], [126.86706121683618, 36.77000706181115], [126.86729232572134, 36.76992839453401], [126.86783462927201, 36.769742132588924], [126.86783944758237, 36.769740479669025], [126.86796466757067, 36.7696975015813], [126.86809429482913, 36.76968382446313], [126.86813510684847, 36.769679346413234], [126.86824923049667, 36.769666787530724], [126.8684493431364, 36.76966609214726], [126.86894551864437, 36.769674674716235], [126.86916075990261, 36.769591976627645], [126.86935053399324, 36.769473690436314], [126.86940274037705, 36.769441146723494], [126.86942354022243, 36.76942815691909], [126.86970623337051, 36.769251421395396], [126.86983263244505, 36.7691723079463], [126.86990807090005, 36.7691581092255], [126.87009366920184, 36.76912320663115], [126.87024048043844, 36.76912005347922], [126.87027746568826, 36.769119255840366], [126.87033008811463, 36.76911852112124], [126.87043668985848, 36.76911554794241], [126.87062091198747, 36.76914451307271], [126.87086932561908, 36.7693457154726], [126.87093916728719, 36.769408446157904], [126.87119669517487, 36.769639485793284], [126.87122038161426, 36.76966075027848], [126.87127411910653, 36.76970875770359], [126.87132823761289, 36.76975045507758], [126.87157040754678, 36.76993704456464], [126.87172161361401, 36.770012605069], [126.87175649918991, 36.7700170568185], [126.87197424814555, 36.770044842904575], [126.87212456223881, 36.76996877581003], [126.87282760307798, 36.769612991683715], [126.87293000026737, 36.769486308034566], [126.8729529306936, 36.76945791202749], [126.87300188828586, 36.76939730149811], [126.87302038881096, 36.76936525103936], [126.87303713681331, 36.769269625607194], [126.87306114131323, 36.769133791710004], [126.87310226650763, 36.76890111554306], [126.8731096967907, 36.76885910326454], [126.87345579833489, 36.768755480574626], [126.87369235123539, 36.768749867787285], [126.87392558516771, 36.76876079693409], [126.87396343005238, 36.76876256643207], [126.87402052451542, 36.76876550273268], [126.87419432151071, 36.76880060773998], [126.87432119492297, 36.76885221490484], [126.87485550691386, 36.769071235943464], [126.87494680841272, 36.7691086612125], [126.87504039553617, 36.76912458410851], [126.8750844592339, 36.76913217330909], [126.87512183449807, 36.769139646231686], [126.87524246271074, 36.76916068166183], [126.87531356765989, 36.769173084158396], [126.87571372604569, 36.769244865897534], [126.87623571932437, 36.769232868560074], [126.87629511696679, 36.76923150324823], [126.87647593930133, 36.76916366405763], [126.87684056139642, 36.76902686640087], [126.87741974769266, 36.76873492925675], [126.8775794817932, 36.768654415229015], [126.8782974396412, 36.768666406775075], [126.878308988138, 36.768666598736765], [126.8783714907691, 36.768649200767506], [126.87849482048901, 36.76861486113185], [126.87857853737438, 36.76851317530328], [126.87856978458342, 36.76847951402908], [126.8785589451912, 36.76843783145445], [126.87849631658518, 36.76819708951913], [126.87848839543551, 36.76801458119821], [126.87847399712261, 36.767682794604184], [126.87847241704854, 36.76766199500417], [126.87847018128612, 36.767610818079916], [126.87847015897928, 36.76761025004162], [126.878466308864, 36.76751031355637], [126.87845940615595, 36.76735184534488], [126.87845866322456, 36.76732561429408], [126.87862811646961, 36.767232361440456], [126.87898767781128, 36.76718519020565], [126.87901878759514, 36.76718089755685], [126.87908259821621, 36.767172590977474], [126.87913027724754, 36.76716638713056], [126.8794273149988, 36.76712736742593], [126.87965379937188, 36.76704764404797], [126.88007305963345, 36.766629172365036], [126.88016264084374, 36.76649356681616], [126.88023518404634, 36.76639387869255], [126.88029389068338, 36.76631770073471], [126.8805139557588, 36.76603213995436], [126.88057606531878, 36.765964377602806], [126.88065077878233, 36.7658883909726], [126.88073847767946, 36.76586541122984], [126.88097249237727, 36.765808643307246], [126.88098446003853, 36.7658057018983], [126.88117571803868, 36.76575868489875], [126.881143416701, 36.76567988582537], [126.88125986143477, 36.76565328529574], [126.8813885313747, 36.765572694658594], [126.88140089706424, 36.765544186163865], [126.88140669629712, 36.76553082056746], [126.88149412708634, 36.76532043540272], [126.8814968249909, 36.765291990221364], [126.88151916065088, 36.76513870787146], [126.88152678056395, 36.765086413911455], [126.88153744078141, 36.76500182008507], [126.88155063332377, 36.76496632051149], [126.88155901542879, 36.76489835766202], [126.8815689820974, 36.764817522934266], [126.88158258729862, 36.764707184180345], [126.88160706135471, 36.76454038554765], [126.88162795749324, 36.764398041247304], [126.88163961449148, 36.76427774560136], [126.8816554620158, 36.764191759808064], [126.88166938005025, 36.764121972302924], [126.88168024204329, 36.76406524013852], [126.88172764234534, 36.76385510464007], [126.88174705495666, 36.763772735997705], [126.8817575847011, 36.76372806909143], [126.88191730990498, 36.763545997351954], [126.88200521883871, 36.763494506244], [126.88208205229235, 36.76344902440153], [126.88223920958214, 36.763397243691436], [126.88225721520357, 36.76339131179483], [126.88228679851642, 36.76338211360378], [126.88236435221613, 36.76335799640646], [126.88241009130857, 36.76342544338541], [126.88246782672495, 36.76343155390232], [126.88268904758694, 36.76340596989496], [126.88281787089393, 36.76337409356932], [126.88315215577317, 36.76330028087699], [126.8831530350063, 36.763281991124835], [126.88319438973348, 36.763283925517435], [126.88321492128304, 36.76328827063956], [126.88322063946258, 36.7632928003911], [126.88322311111853, 36.763294756760565], [126.88322535787484, 36.76329653527714], [126.88322621958328, 36.76329722125101], [126.88331350337053, 36.763382993656855], [126.88336679056518, 36.763435031907456], [126.88339303097607, 36.76365416415405], [126.88337237079962, 36.763871589344916], [126.88319463820945, 36.76404699440833], [126.88316095570379, 36.76408647518135], [126.8831004871827, 36.76415909730394], [126.88309282593482, 36.764168299387336], [126.88304432212169, 36.76425367793185], [126.8830388988831, 36.76426183510117], [126.88303132083244, 36.764273237183595], [126.88300150074404, 36.764329301435026], [126.8829809904205, 36.764367866064696], [126.88298263474043, 36.76445547343872], [126.88298757509345, 36.76454059904714], [126.88298980399118, 36.7645790147675], [126.88299475271272, 36.76463848295473], [126.88300208036968, 36.7646865924139], [126.88303103173709, 36.76477563228783], [126.88306037012717, 36.76486588031907], [126.88306109401975, 36.764868107082414], [126.88308570914623, 36.76493787820433], [126.883090089237, 36.764950290633884], [126.88309100697002, 36.764952936681304], [126.88310967281744, 36.765006735464326], [126.88314848528542, 36.765118595606694], [126.88319592877284, 36.765241211672866], [126.88378459817154, 36.7652376507275], [126.88379695054972, 36.76523953566108], [126.8839217528802, 36.76523834479625], [126.88408242670141, 36.76507219494998], [126.8841390454338, 36.765096221781896], [126.88423885130035, 36.76498926405583], [126.88435370444256, 36.7648565084892], [126.88443723513721, 36.76492859084269], [126.88457393875386, 36.76484769754315], [126.88450791339991, 36.76475182246213], [126.88451066539572, 36.76470581156008], [126.88451216855408, 36.7647047483972], [126.88462915466938, 36.76462212317802], [126.88474809594418, 36.764535959790265], [126.88475404852538, 36.764531647319195], [126.88492091885468, 36.76441075659869], [126.88500845318818, 36.76434796238904], [126.88516422991945, 36.764350087244836], [126.88522104662734, 36.764350692750654], [126.88525029335845, 36.76439854393535], [126.8852666001424, 36.76442521236307], [126.88531749581666, 36.76450845507865], [126.88541151089277, 36.76456383631236], [126.8855449459879, 36.76464243724131], [126.88561810276794, 36.76475463442682], [126.88565929246104, 36.76486838469579], [126.8856375379585, 36.76490210249941], [126.88563741501457, 36.7649023452598], [126.88563628832307, 36.76490453360493], [126.88562993047272, 36.76491695359633], [126.88562970966481, 36.76491738515878], [126.88560230474104, 36.76493888598591], [126.88554570225918, 36.76497934524922], [126.8853816519044, 36.765064142365574], [126.88518774978019, 36.765166976535845], [126.88487695184453, 36.76525261192518], [126.88484342194722, 36.76528705477445], [126.88497022745979, 36.76543770130403], [126.8851198531487, 36.7655023848622], [126.88525454023315, 36.76551273554665], [126.88542160925164, 36.76554290526633], [126.8855924379699, 36.76554731590917], [126.88588776040416, 36.76557187845093], [126.88617166694219, 36.76560302695375], [126.8863584718401, 36.76566529373808], [126.88642162310012, 36.76568492699169], [126.88661363091639, 36.765735484952785], [126.88676326617151, 36.76577810767871], [126.88685548599462, 36.765868469735864], [126.88693309071536, 36.76603766514225], [126.88705935753136, 36.76615276916763], [126.88707234203736, 36.76617943645443], [126.88706363898294, 36.76630802508696], [126.88702605300317, 36.76639856016265], [126.88697153886126, 36.766496430653405], [126.88694269330776, 36.766569104060174], [126.8869198466246, 36.76663361947554], [126.88691756548063, 36.76664007842694], [126.88692742282923, 36.76663901501336], [126.88693843300118, 36.766637827728594], [126.88691850778143, 36.76667737683538], [126.88677554798119, 36.76698408424262], [126.88674854211024, 36.76703055612101], [126.8867450784705, 36.76703241872059], [126.88674091444311, 36.76706004154007], [126.88671840461068, 36.767115704470946], [126.88670341328266, 36.76715277470486], [126.88669704884893, 36.76716939553502], [126.88668984314333, 36.76720216986145], [126.88667023926826, 36.76730938263184], [126.88667281315129, 36.76734073618334], [126.88667957860136, 36.767423175647835], [126.88665273136675, 36.767565623535624], [126.88686718704122, 36.76753598542946], [126.88695877698788, 36.767479701263994], [126.8870025013651, 36.767471957621005], [126.8871026757885, 36.767443884704996], [126.88716684600158, 36.7674274841022], [126.88724008319736, 36.767405999033116], [126.88724087636419, 36.76740629699539], [126.887253182078, 36.76740283565178], [126.88725594911422, 36.767402058417844], [126.88732552788215, 36.76729424472257], [126.88741906473906, 36.76724667475662], [126.88752921658623, 36.76725677394496], [126.88765914865301, 36.7672678005806], [126.88776221340746, 36.76726847703726], [126.88797092993913, 36.76726999083118], [126.88809573881458, 36.76732676515602], [126.88820169116522, 36.76737496502075], [126.88832638072246, 36.7674321333315], [126.88850625128676, 36.767383807399405], [126.88864001608589, 36.76741398532895], [126.88869917485317, 36.76741371778335], [126.88881183915318, 36.76741535493637], [126.8888136736595, 36.767415459915775], [126.88868762029408, 36.767588486469755], [126.88877309835489, 36.76762588024887], [126.8887597960577, 36.76778539260215], [126.88879046808795, 36.767874333528205], [126.88884033911977, 36.767923672616035], [126.88899752871328, 36.768068377022495], [126.88908187424252, 36.76803336642034], [126.8890832727602, 36.7680327822416], [126.88908539259161, 36.768029973348746], [126.88933724414808, 36.76791776124277], [126.88937087783766, 36.76791053646362], [126.88937297403149, 36.76791014156379], [126.8893736022342, 36.7679100492329], [126.88937485412922, 36.76790986815386], [126.88939011543488, 36.767908413993574], [126.88939255545104, 36.76790818131855], [126.8896635347779, 36.76801880392464], [126.88968265338632, 36.76802660771432], [126.88968324379233, 36.76802676038601], [126.88978675543817, 36.76805346804869], [126.88982529306037, 36.76806341052586], [126.88982692785784, 36.76806383358356], [126.88992508860265, 36.7680893544005], [126.89008135287942, 36.76809908910961], [126.89014025416641, 36.76809206756698], [126.89014135328306, 36.76809193617868], [126.89020735263247, 36.76804914124646], [126.89025516689856, 36.7679788359624], [126.89027515962385, 36.767822754437844], [126.89028110292739, 36.76781055023181], [126.89029401319453, 36.76778393487292], [126.89030770458946, 36.76775574234816], [126.89037168364942, 36.76762189814845], [126.8906150217202, 36.767508161291595], [126.89080788163312, 36.76730604198], [126.89084606714042, 36.76732562257735], [126.89104256004761, 36.76742257487714], [126.89127821828087, 36.76745209763342], [126.89133465973254, 36.76745936733765], [126.89176142517664, 36.767507250519564], [126.89185188736553, 36.76751755154274], [126.89203020444016, 36.767551923440664], [126.89209765560717, 36.767565754007194], [126.8921503823536, 36.76757663363744], [126.89218623472466, 36.7676085212895], [126.89220672862308, 36.767618415885124], [126.89220339901692, 36.76762290078534], [126.89221704518202, 36.76763555493359], [126.89230189103729, 36.7677904884228], [126.8923995014111, 36.767941776614336], [126.89243945172062, 36.7680056113579], [126.89245677172258, 36.76803236870919], [126.89247611973444, 36.768062260887156], [126.89257530500723, 36.7682171087396], [126.89274212687688, 36.768168051714646], [126.89288208318997, 36.768123898346715], [126.89290932391606, 36.768178828320835], [126.89296056482098, 36.76828331341444], [126.89304188181579, 36.76844071279645], [126.89306350964121, 36.76867299330525], [126.89306822166861, 36.76873052531739], [126.89308894934402, 36.76875801031255], [126.89322924337061, 36.768944135356456], [126.89327581132137, 36.76903457690939], [126.89326494955158, 36.769111324414354], [126.8932598124037, 36.76914100144166], [126.8932445772279, 36.76916727352394], [126.8932291040465, 36.769193886946425], [126.89321542999441, 36.76921742112852], [126.89313047709848, 36.76937307443035], [126.8931240630367, 36.769530356118395], [126.89313673756949, 36.76960522241375], [126.89313686302705, 36.76960664916903], [126.89313661166993, 36.76960697962542], [126.89313794866646, 36.76961903540709], [126.89314281157853, 36.76967449661414], [126.89311054037134, 36.76982640348325], [126.89311324559766, 36.77001800892506], [126.89311325935358, 36.770019106977735], [126.89311446632875, 36.77010907738625], [126.89317330993363, 36.77024830748639], [126.89319704405011, 36.77032005702695], [126.89323497843235, 36.770383432274734], [126.89324825656426, 36.77040561830171], [126.8932892130049, 36.77047284196682], [126.8933235677923, 36.77052835439566], [126.89339165963581, 36.77061341032116], [126.89352949357682, 36.770784610419156], [126.89355696803824, 36.770848451481875], [126.89357046372885, 36.77084132840073], [126.89357741329056, 36.77084985741315], [126.89358464694247, 36.77085873764099], [126.89366737583538, 36.7709602818596], [126.89369469924836, 36.771133832011685], [126.89366938069026, 36.77137646885097], [126.89373650438186, 36.77156270889093], [126.89370961544836, 36.771703942935716], [126.89369525116832, 36.771867173402406], [126.89370666856107, 36.772041468202715], [126.89377170117844, 36.77207296680044], [126.89379063096263, 36.772009293753534], [126.89378332786042, 36.77204052829827], [126.89388107852896, 36.77206600050008], [126.89397882700803, 36.77209147441351], [126.89400649476475, 36.77209896948753], [126.89403416252692, 36.77210646455516], [126.8940355643557, 36.77205762500984], [126.8945316276105, 36.77220914273858], [126.89457599779487, 36.77222269037088], [126.8945990503396, 36.772229730920934], [126.89464365167332, 36.77224694685669], [126.89476866588504, 36.77229521623596], [126.89484056161427, 36.7723229792467], [126.89508206452945, 36.772416225237606], [126.89515878439431, 36.77244584976796], [126.89532605037937, 36.77251042809269], [126.89556508997386, 36.77260272666851], [126.89594648910376, 36.77270795529832], [126.89703281931301, 36.77298114669719], [126.89723505699152, 36.77293140294106], [126.89769288665838, 36.77280314298867], [126.8977213259135, 36.772795175602226], [126.89782344237523, 36.772757598498195], [126.89797556328193, 36.7727594519571], [126.8983716749049, 36.772729599896564], [126.89849953012506, 36.772716399932314], [126.89852293408418, 36.77271409512838], [126.89949961885263, 36.772424573296355], [126.90095163938898, 36.77200155125073], [126.90096904501888, 36.7719964807195], [126.9009450616224, 36.77167925211236], [126.90094252166253, 36.771645656197464], [126.90107749798291, 36.771581596278835], [126.90141357693945, 36.77142209161287], [126.90149805012503, 36.77130035385831], [126.90152891240685, 36.77125587945145], [126.90156692531903, 36.771201097610906], [126.90170039923515, 36.771179670454686], [126.90266051667268, 36.77102553636949], [126.90296502458932, 36.77095997797654], [126.90303893249634, 36.77094406661606], [126.90360112914315, 36.770837776705555], [126.90368954489507, 36.77082105964178], [126.9037881239919, 36.77077942470002], [126.90412075233067, 36.77063893936143], [126.9047767092385, 36.77094796895332], [126.90490947454475, 36.77094237697137], [126.90513793493803, 36.770932754248335], [126.90589471239633, 36.77086540854422], [126.90616280547293, 36.770841549324246], [126.90665416822941, 36.77119366261446], [126.90725065303127, 36.7713976030109], [126.90787114705024, 36.77160974966095], [126.9081456464668, 36.77191746908868], [126.90828050695923, 36.77194475655706], [126.9089148359191, 36.77207310159387], [126.90900100645605, 36.77209053671684], [126.90911050419062, 36.772112690516735], [126.90918800826765, 36.77212752951349], [126.90973739658338, 36.772232709784674], [126.91001227590982, 36.772285337750084], [126.9100269671482, 36.77228815105716], [126.91004459797718, 36.77227351037175], [126.91023151327981, 36.772118287351795], [126.91034200481482, 36.772026528746316], [126.91048835508856, 36.77190499388369], [126.91092652468618, 36.77181309653837], [126.91095280768236, 36.77180758531501], [126.91108428089439, 36.77172523480746], [126.91113024829129, 36.771632851336975], [126.91114079785105, 36.771611647031904], [126.91145389783765, 36.770982270640715], [126.91164346181041, 36.77084887929124], [126.91199526604721, 36.77060132047189], [126.9120660579002, 36.77055150204947], [126.91221411913958, 36.77044730502021], [126.91241472271258, 36.770670353665885], [126.91261064522982, 36.770888199044016], [126.91274034866308, 36.77109357812196], [126.91290660652878, 36.77141391908576], [126.9130435303097, 36.771449939318224], [126.9131143392433, 36.771458463126976], [126.91325818944657, 36.77147578124961], [126.91344836449512, 36.77152051756787], [126.9136140941374, 36.77162822477166], [126.91365288783899, 36.77165344783524], [126.91383634395561, 36.77182546781227], [126.91395313367762, 36.77193497792204], [126.91474488604538, 36.77243633051844], [126.91521393251107, 36.77255144447885], [126.91564797451377, 36.77265796498473], [126.91582728195684, 36.7731304465383], [126.91620480505449, 36.77351799834552], [126.91714346997979, 36.773507916068404], [126.91739299301577, 36.77353400069241]]], &quot;type&quot;: &quot;Polygon&quot;}, &quot;id&quot;: &quot;0&quot;, &quot;type&quot;: &quot;Feature&quot;}], &quot;type&quot;: &quot;FeatureCollection&quot;});\n",
       "\n",
       "        \n",
       "&lt;/script&gt;\n",
       "&lt;/html&gt;\" style=\"position:absolute;width:100%;height:100%;left:0;top:0;border:none !important;\" allowfullscreen webkitallowfullscreen mozallowfullscreen></iframe></div></div>"
      ],
      "text/plain": [
       "<folium.folium.Map at 0x10dbc66d2b0>"
      ]
     },
     "execution_count": 34,
     "metadata": {},
     "output_type": "execute_result"
    }
   ],
   "source": [
    "colors =px.colors.sequential.Plasma\n",
    "colors = colors * 2\n",
    "# map 생성\n",
    "m = folium.Map(location=Asan, tiles='cartodbpositron', zoom_start=11)\n",
    "\n",
    "# 필터링된 원도심 grid(격자) 추가\n",
    "folium.TileLayer('cartodbpositron', overlay=False).add_to(m)\n",
    "for i, row in asan_gdf.iterrows() :\n",
    "    color = colors[i]\n",
    "    if row['ADM_NM'] not in asan_high_lst:\n",
    "        folium.GeoJson(\n",
    "            row['geometry'],\n",
    "            name=row['ADM_NM'],\n",
    "            style_function=lambda feature, color=color:{\n",
    "                'fillColor': color,\n",
    "                'color': 'black',\n",
    "                'weight': 1\n",
    "            }).add_to(m)\n",
    "    else:\n",
    "        pass\n",
    "# 맵 출력\n",
    "m"
   ]
  },
  {
   "cell_type": "code",
   "execution_count": null,
   "metadata": {},
   "outputs": [],
   "source": [
    "# 빈 그래프\n",
    "fig = go.Figure()\n",
    "\n",
    "# for문을 통해 라인을 추가\n",
    "for target in targets:\n",
    "    fig.add_trace(go.Scatter(x=hjd_pop_dic[target]['year'], y=hjd_pop_dic[target]['%s_총합'%target],\n",
    "                             mode='lines+markers',\n",
    "                             name=target))\n",
    "# 색상 업데이트\n",
    "colors =px.colors.sequential.Plasma # 컬러맵\n",
    "for i, trace in enumerate(fig.data):\n",
    "    trace.line.color = colors[i % len(colors)]\n",
    "    \n",
    "# 그래프 타이틀 및 레이블 설정\n",
    "fig.update_layout(\n",
    "    title='<b>행정동별 시계열 인구변화</b>',\n",
    "    xaxis_title='연도',\n",
    "    yaxis_title='인구수',\n",
    "    width=1000,\n",
    "    height=600\n",
    ")\n",
    "\n",
    "# 그래프 표시\n",
    "fig.show()"
   ]
  },
  {
   "cell_type": "code",
   "execution_count": null,
   "metadata": {},
   "outputs": [],
   "source": [
    "# Subplot figure(4x5)\n",
    "fig = make_subplots(\n",
    "    rows=3, \n",
    "    cols=6, \n",
    "    subplot_titles=[\"<b>%s</b>\" % target for target in targets],\n",
    "    vertical_spacing=0.05,  # 세로 여백\n",
    "    horizontal_spacing=0.05  # 가로 여백\n",
    ")\n",
    "\n",
    "# 17개의 타겟 값에 대해 반복하여 그래프 추가\n",
    "for i in range(17):\n",
    "    df = hjd_pop_dic[targets[i]]\n",
    "    # 각 subplot에 trace 추가\n",
    "    row = (i // 6) + 1\n",
    "    col = (i % 6) + 1\n",
    "    fig.add_trace(go.Scatter(x=df['year'], y=df['%s_총합'%targets[i]], mode='lines', name='%s'%targets[i]), row=row, col=col)\n",
    "    fig.update_xaxes(\n",
    "        showticklabels=True, \n",
    "        showgrid=False, \n",
    "        tickmode='array',\n",
    "        tickvals=['202106', '202206', '202306'],  # x축에 표시할 값\n",
    "        ticktext=['2021', '2022', '2023'],  # x축에 표시할 텍스트\n",
    "    )\n",
    "    fig.update_yaxes(\n",
    "        showticklabels=True, \n",
    "        showgrid=True,\n",
    "    )\n",
    "# 색상 업데이트\n",
    "colors =px.colors.sequential.Plasma # 컬러맵\n",
    "for i, trace in enumerate(fig.data):\n",
    "    trace.line.color = colors[i % len(colors)]\n",
    "# 레이아웃 업데이트\n",
    "fig.update_layout(height=1000, width=2200)\n",
    "\n",
    "# 그래프 출력\n",
    "fig.show()"
   ]
  },
  {
   "cell_type": "code",
   "execution_count": null,
   "metadata": {},
   "outputs": [],
   "source": [
    "# Subplot figure(4x5)\n",
    "fig = make_subplots(\n",
    "    rows=3, \n",
    "    cols=6, \n",
    "    subplot_titles=[\"<b>%s</b>\" % target for target in targets],\n",
    "    vertical_spacing=0.05,  # 세로 여백\n",
    "    horizontal_spacing=0.05  # 가로 여백\n",
    ")\n",
    "\n",
    "# 17개의 타겟 값에 대해 반복하여 그래프 추가\n",
    "for i in range(17):\n",
    "    df = hjd_pop_dic[targets[i]]\n",
    "    # 각 subplot에 trace 추가\n",
    "    row = (i // 6) + 1\n",
    "    col = (i % 6) + 1\n",
    "    fig.add_trace(go.Scatter(x=df['year'], y=df['%s_남' % targets[i]], mode='lines', name='남성', line=dict(color='blue')), row=row, col=col)\n",
    "    fig.add_trace(go.Scatter(x=df['year'], y=df['%s_여' % targets[i]], mode='lines', name='여성', line=dict(color='red')), row=row, col=col)\n",
    "    fig.update_xaxes(\n",
    "        row=row,\n",
    "        col=col,\n",
    "        showticklabels=True, \n",
    "        showgrid=False, \n",
    "        tickmode='array',\n",
    "        tickvals=['202106', '202206', '202306'],  # x축에 표시할 값\n",
    "        ticktext=['2021', '2022', '2023'],  # x축에 표시할 텍스트\n",
    "    )\n",
    "    fig.update_yaxes(\n",
    "        row=row,\n",
    "        col=col,\n",
    "        showticklabels=True, \n",
    "        showgrid=True,\n",
    "    )\n",
    "\n",
    "fig.update_layout(height=1000, width=2200)\n",
    "\n",
    "# 그래프 출력\n",
    "fig.show()\n"
   ]
  },
  {
   "attachments": {},
   "cell_type": "markdown",
   "metadata": {},
   "source": [
    "### 아산시 거주인구 필터링"
   ]
  },
  {
   "attachments": {},
   "cell_type": "markdown",
   "metadata": {},
   "source": [
    "국제연합(UN)의 기준에 따르면 전체 인구에서 65세 이상이 차지하는 비율인 고령자 인구 비율이 7% 이상이면 고령화 사회, 14% 이상이면 고령 사회, 20% 이상이면 초고령 사회로 구분된다.\n",
    "\n",
    "국제 연합 기준(UN)과 국내 국민연금 수급연령(연금 지급개시연령) 및 근로자의 법상 정년(노동관계법령상 정년(60세) 의무규정)을 고려하여 60대를 기준으로 고령화 비율을 나누었다. "
   ]
  },
  {
   "cell_type": "code",
   "execution_count": 67,
   "metadata": {},
   "outputs": [],
   "source": [
    "respop_df = pd.read_csv('SBJ_2405_001/1.아산시_거주인구(격자).csv')\n",
    "\n",
    "#아산시 grid ID 리스트 와 매핑 & respop_df 필터링\n",
    "grid_id = grid_map_df['properties.gid'].tolist() # gid는 전부 unique한 값\n",
    "grid_respop = respop_df[respop_df['gid'].isin(grid_id)]\n",
    "grid_respop = grid_respop.fillna(0)\n",
    "grid_respop = pd.concat([grid_respop.iloc[:, :2], grid_respop.iloc[:, 2:].astype(int)], axis=1)\n",
    "grid_respop['year'] = grid_respop['year'].astype(str)\n",
    "\n",
    "# 성별구분 없이 통합 및 세대별 인구수 데이터프레임으로 변환\n",
    "columns = ['gid', 'year']\n",
    "for i in range(2, len(grid_respop.columns)):\n",
    "    age = f'{grid_respop.columns[i][2:4]}대' if grid_respop.columns[i][2] != '1' else f'{grid_respop.columns[i][2:5]}대'\n",
    "    sex = '남' if grid_respop.columns[i][0] != 'm' else '여'\n",
    "    columns.append('%s_%s'%(age, sex))\n",
    "grid_respop.columns = columns\n",
    "# 인구 column & 고령인구 column & 고령인구 비율(%) column 생성\n",
    "grid_respop['인구'] = grid_respop.iloc[:, 2:].sum(axis=1)\n",
    "grid_respop =  grid_respop[grid_respop['인구'] != 0] # 거주인구가 없는 격자 필터링(제외)\n",
    "grid_respop['고령인구'] = grid_respop.iloc[:, 10:-1].sum(axis=1)\n",
    "grid_respop['고령인구_비율'] = grid_respop.iloc[:, -1] / grid_respop.iloc[:, -2]\n",
    "grid_respop = grid_respop.fillna(0) # NaN값 0으로 대체\n",
    "grid_respop['고령인구_비율'] = grid_respop['고령인구_비율'].apply(lambda x : round(x*100, 2))"
   ]
  },
  {
   "cell_type": "code",
   "execution_count": 68,
   "metadata": {},
   "outputs": [
    {
     "data": {
      "text/html": [
       "<div>\n",
       "<style scoped>\n",
       "    .dataframe tbody tr th:only-of-type {\n",
       "        vertical-align: middle;\n",
       "    }\n",
       "\n",
       "    .dataframe tbody tr th {\n",
       "        vertical-align: top;\n",
       "    }\n",
       "\n",
       "    .dataframe thead th {\n",
       "        text-align: right;\n",
       "    }\n",
       "</style>\n",
       "<table border=\"1\" class=\"dataframe\">\n",
       "  <thead>\n",
       "    <tr style=\"text-align: right;\">\n",
       "      <th></th>\n",
       "      <th>gid</th>\n",
       "      <th>year</th>\n",
       "      <th>20대_여</th>\n",
       "      <th>20대_남</th>\n",
       "      <th>30대_여</th>\n",
       "      <th>30대_남</th>\n",
       "      <th>40대_여</th>\n",
       "      <th>40대_남</th>\n",
       "      <th>50대_여</th>\n",
       "      <th>50대_남</th>\n",
       "      <th>60대_여</th>\n",
       "      <th>60대_남</th>\n",
       "      <th>70대_여</th>\n",
       "      <th>70대_남</th>\n",
       "      <th>80대_여</th>\n",
       "      <th>80대_남</th>\n",
       "      <th>90대_여</th>\n",
       "      <th>90대_남</th>\n",
       "      <th>100대_여</th>\n",
       "      <th>100대_남</th>\n",
       "      <th>인구</th>\n",
       "      <th>고령인구</th>\n",
       "      <th>고령인구_비율</th>\n",
       "    </tr>\n",
       "  </thead>\n",
       "  <tbody>\n",
       "    <tr>\n",
       "      <th>3</th>\n",
       "      <td>다바553584</td>\n",
       "      <td>2023</td>\n",
       "      <td>0</td>\n",
       "      <td>0</td>\n",
       "      <td>0</td>\n",
       "      <td>0</td>\n",
       "      <td>7</td>\n",
       "      <td>0</td>\n",
       "      <td>0</td>\n",
       "      <td>0</td>\n",
       "      <td>0</td>\n",
       "      <td>0</td>\n",
       "      <td>0</td>\n",
       "      <td>0</td>\n",
       "      <td>0</td>\n",
       "      <td>0</td>\n",
       "      <td>0</td>\n",
       "      <td>0</td>\n",
       "      <td>0</td>\n",
       "      <td>0</td>\n",
       "      <td>7</td>\n",
       "      <td>0</td>\n",
       "      <td>0.00</td>\n",
       "    </tr>\n",
       "    <tr>\n",
       "      <th>16</th>\n",
       "      <td>다바568639</td>\n",
       "      <td>2023</td>\n",
       "      <td>21</td>\n",
       "      <td>7</td>\n",
       "      <td>8</td>\n",
       "      <td>11</td>\n",
       "      <td>17</td>\n",
       "      <td>18</td>\n",
       "      <td>24</td>\n",
       "      <td>26</td>\n",
       "      <td>11</td>\n",
       "      <td>9</td>\n",
       "      <td>0</td>\n",
       "      <td>0</td>\n",
       "      <td>0</td>\n",
       "      <td>0</td>\n",
       "      <td>0</td>\n",
       "      <td>0</td>\n",
       "      <td>0</td>\n",
       "      <td>0</td>\n",
       "      <td>152</td>\n",
       "      <td>20</td>\n",
       "      <td>13.16</td>\n",
       "    </tr>\n",
       "    <tr>\n",
       "      <th>26</th>\n",
       "      <td>다바562630</td>\n",
       "      <td>2023</td>\n",
       "      <td>24</td>\n",
       "      <td>12</td>\n",
       "      <td>26</td>\n",
       "      <td>19</td>\n",
       "      <td>32</td>\n",
       "      <td>30</td>\n",
       "      <td>38</td>\n",
       "      <td>42</td>\n",
       "      <td>25</td>\n",
       "      <td>22</td>\n",
       "      <td>9</td>\n",
       "      <td>0</td>\n",
       "      <td>0</td>\n",
       "      <td>6</td>\n",
       "      <td>0</td>\n",
       "      <td>0</td>\n",
       "      <td>0</td>\n",
       "      <td>0</td>\n",
       "      <td>285</td>\n",
       "      <td>62</td>\n",
       "      <td>21.75</td>\n",
       "    </tr>\n",
       "    <tr>\n",
       "      <th>55</th>\n",
       "      <td>다바561678</td>\n",
       "      <td>2023</td>\n",
       "      <td>16</td>\n",
       "      <td>8</td>\n",
       "      <td>8</td>\n",
       "      <td>7</td>\n",
       "      <td>20</td>\n",
       "      <td>16</td>\n",
       "      <td>20</td>\n",
       "      <td>21</td>\n",
       "      <td>12</td>\n",
       "      <td>9</td>\n",
       "      <td>0</td>\n",
       "      <td>11</td>\n",
       "      <td>0</td>\n",
       "      <td>0</td>\n",
       "      <td>0</td>\n",
       "      <td>0</td>\n",
       "      <td>0</td>\n",
       "      <td>0</td>\n",
       "      <td>148</td>\n",
       "      <td>32</td>\n",
       "      <td>21.62</td>\n",
       "    </tr>\n",
       "    <tr>\n",
       "      <th>68</th>\n",
       "      <td>다바554647</td>\n",
       "      <td>2023</td>\n",
       "      <td>0</td>\n",
       "      <td>0</td>\n",
       "      <td>6</td>\n",
       "      <td>0</td>\n",
       "      <td>0</td>\n",
       "      <td>0</td>\n",
       "      <td>9</td>\n",
       "      <td>8</td>\n",
       "      <td>17</td>\n",
       "      <td>17</td>\n",
       "      <td>10</td>\n",
       "      <td>0</td>\n",
       "      <td>0</td>\n",
       "      <td>10</td>\n",
       "      <td>0</td>\n",
       "      <td>0</td>\n",
       "      <td>0</td>\n",
       "      <td>0</td>\n",
       "      <td>77</td>\n",
       "      <td>54</td>\n",
       "      <td>70.13</td>\n",
       "    </tr>\n",
       "    <tr>\n",
       "      <th>...</th>\n",
       "      <td>...</td>\n",
       "      <td>...</td>\n",
       "      <td>...</td>\n",
       "      <td>...</td>\n",
       "      <td>...</td>\n",
       "      <td>...</td>\n",
       "      <td>...</td>\n",
       "      <td>...</td>\n",
       "      <td>...</td>\n",
       "      <td>...</td>\n",
       "      <td>...</td>\n",
       "      <td>...</td>\n",
       "      <td>...</td>\n",
       "      <td>...</td>\n",
       "      <td>...</td>\n",
       "      <td>...</td>\n",
       "      <td>...</td>\n",
       "      <td>...</td>\n",
       "      <td>...</td>\n",
       "      <td>...</td>\n",
       "      <td>...</td>\n",
       "      <td>...</td>\n",
       "      <td>...</td>\n",
       "    </tr>\n",
       "    <tr>\n",
       "      <th>136572</th>\n",
       "      <td>다바559657</td>\n",
       "      <td>2021</td>\n",
       "      <td>8</td>\n",
       "      <td>9</td>\n",
       "      <td>8</td>\n",
       "      <td>8</td>\n",
       "      <td>7</td>\n",
       "      <td>7</td>\n",
       "      <td>9</td>\n",
       "      <td>9</td>\n",
       "      <td>21</td>\n",
       "      <td>18</td>\n",
       "      <td>0</td>\n",
       "      <td>9</td>\n",
       "      <td>0</td>\n",
       "      <td>0</td>\n",
       "      <td>0</td>\n",
       "      <td>0</td>\n",
       "      <td>0</td>\n",
       "      <td>0</td>\n",
       "      <td>113</td>\n",
       "      <td>48</td>\n",
       "      <td>42.48</td>\n",
       "    </tr>\n",
       "    <tr>\n",
       "      <th>138104</th>\n",
       "      <td>다바631647</td>\n",
       "      <td>2021</td>\n",
       "      <td>10</td>\n",
       "      <td>15</td>\n",
       "      <td>13</td>\n",
       "      <td>0</td>\n",
       "      <td>0</td>\n",
       "      <td>0</td>\n",
       "      <td>0</td>\n",
       "      <td>0</td>\n",
       "      <td>0</td>\n",
       "      <td>0</td>\n",
       "      <td>0</td>\n",
       "      <td>0</td>\n",
       "      <td>0</td>\n",
       "      <td>0</td>\n",
       "      <td>0</td>\n",
       "      <td>0</td>\n",
       "      <td>0</td>\n",
       "      <td>0</td>\n",
       "      <td>38</td>\n",
       "      <td>0</td>\n",
       "      <td>0.00</td>\n",
       "    </tr>\n",
       "    <tr>\n",
       "      <th>141887</th>\n",
       "      <td>다바630647</td>\n",
       "      <td>2021</td>\n",
       "      <td>52</td>\n",
       "      <td>95</td>\n",
       "      <td>65</td>\n",
       "      <td>57</td>\n",
       "      <td>0</td>\n",
       "      <td>0</td>\n",
       "      <td>0</td>\n",
       "      <td>0</td>\n",
       "      <td>0</td>\n",
       "      <td>0</td>\n",
       "      <td>0</td>\n",
       "      <td>0</td>\n",
       "      <td>0</td>\n",
       "      <td>0</td>\n",
       "      <td>0</td>\n",
       "      <td>0</td>\n",
       "      <td>0</td>\n",
       "      <td>0</td>\n",
       "      <td>269</td>\n",
       "      <td>0</td>\n",
       "      <td>0.00</td>\n",
       "    </tr>\n",
       "    <tr>\n",
       "      <th>155079</th>\n",
       "      <td>다바649644</td>\n",
       "      <td>2021</td>\n",
       "      <td>0</td>\n",
       "      <td>0</td>\n",
       "      <td>0</td>\n",
       "      <td>0</td>\n",
       "      <td>0</td>\n",
       "      <td>0</td>\n",
       "      <td>0</td>\n",
       "      <td>0</td>\n",
       "      <td>6</td>\n",
       "      <td>0</td>\n",
       "      <td>0</td>\n",
       "      <td>0</td>\n",
       "      <td>0</td>\n",
       "      <td>0</td>\n",
       "      <td>0</td>\n",
       "      <td>0</td>\n",
       "      <td>0</td>\n",
       "      <td>0</td>\n",
       "      <td>6</td>\n",
       "      <td>6</td>\n",
       "      <td>100.00</td>\n",
       "    </tr>\n",
       "    <tr>\n",
       "      <th>161849</th>\n",
       "      <td>다바648644</td>\n",
       "      <td>2021</td>\n",
       "      <td>0</td>\n",
       "      <td>0</td>\n",
       "      <td>0</td>\n",
       "      <td>0</td>\n",
       "      <td>0</td>\n",
       "      <td>0</td>\n",
       "      <td>0</td>\n",
       "      <td>0</td>\n",
       "      <td>6</td>\n",
       "      <td>0</td>\n",
       "      <td>0</td>\n",
       "      <td>0</td>\n",
       "      <td>0</td>\n",
       "      <td>0</td>\n",
       "      <td>0</td>\n",
       "      <td>0</td>\n",
       "      <td>0</td>\n",
       "      <td>0</td>\n",
       "      <td>6</td>\n",
       "      <td>6</td>\n",
       "      <td>100.00</td>\n",
       "    </tr>\n",
       "  </tbody>\n",
       "</table>\n",
       "<p>3818 rows × 23 columns</p>\n",
       "</div>"
      ],
      "text/plain": [
       "             gid  year  20대_여  20대_남  30대_여  30대_남  40대_여  40대_남  50대_여  \\\n",
       "3       다바553584  2023      0      0      0      0      7      0      0   \n",
       "16      다바568639  2023     21      7      8     11     17     18     24   \n",
       "26      다바562630  2023     24     12     26     19     32     30     38   \n",
       "55      다바561678  2023     16      8      8      7     20     16     20   \n",
       "68      다바554647  2023      0      0      6      0      0      0      9   \n",
       "...          ...   ...    ...    ...    ...    ...    ...    ...    ...   \n",
       "136572  다바559657  2021      8      9      8      8      7      7      9   \n",
       "138104  다바631647  2021     10     15     13      0      0      0      0   \n",
       "141887  다바630647  2021     52     95     65     57      0      0      0   \n",
       "155079  다바649644  2021      0      0      0      0      0      0      0   \n",
       "161849  다바648644  2021      0      0      0      0      0      0      0   \n",
       "\n",
       "        50대_남  60대_여  60대_남  70대_여  70대_남  80대_여  80대_남  90대_여  90대_남  100대_여  \\\n",
       "3           0      0      0      0      0      0      0      0      0       0   \n",
       "16         26     11      9      0      0      0      0      0      0       0   \n",
       "26         42     25     22      9      0      0      6      0      0       0   \n",
       "55         21     12      9      0     11      0      0      0      0       0   \n",
       "68          8     17     17     10      0      0     10      0      0       0   \n",
       "...       ...    ...    ...    ...    ...    ...    ...    ...    ...     ...   \n",
       "136572      9     21     18      0      9      0      0      0      0       0   \n",
       "138104      0      0      0      0      0      0      0      0      0       0   \n",
       "141887      0      0      0      0      0      0      0      0      0       0   \n",
       "155079      0      6      0      0      0      0      0      0      0       0   \n",
       "161849      0      6      0      0      0      0      0      0      0       0   \n",
       "\n",
       "        100대_남   인구  고령인구  고령인구_비율  \n",
       "3            0    7     0     0.00  \n",
       "16           0  152    20    13.16  \n",
       "26           0  285    62    21.75  \n",
       "55           0  148    32    21.62  \n",
       "68           0   77    54    70.13  \n",
       "...        ...  ...   ...      ...  \n",
       "136572       0  113    48    42.48  \n",
       "138104       0   38     0     0.00  \n",
       "141887       0  269     0     0.00  \n",
       "155079       0    6     6   100.00  \n",
       "161849       0    6     6   100.00  \n",
       "\n",
       "[3818 rows x 23 columns]"
      ]
     },
     "execution_count": 68,
     "metadata": {},
     "output_type": "execute_result"
    }
   ],
   "source": [
    "grid_respop"
   ]
  },
  {
   "cell_type": "markdown",
   "metadata": {},
   "source": [
    "#### 거주인구 연령대별 분포"
   ]
  },
  {
   "cell_type": "code",
   "execution_count": null,
   "metadata": {},
   "outputs": [],
   "source": [
    "# 연령대별로 성별 통합\n",
    "grid_respop['20대'] = grid_respop['20대_여'] + grid_respop['20대_남']\n",
    "grid_respop['30대'] = grid_respop['30대_여'] + grid_respop['30대_남']\n",
    "grid_respop['40대'] = grid_respop['40대_여'] + grid_respop['40대_남']\n",
    "grid_respop['50대'] = grid_respop['50대_여'] + grid_respop['50대_남']\n",
    "grid_respop['60대'] = grid_respop['60대_여'] + grid_respop['60대_남']\n",
    "grid_respop['70대'] = grid_respop['70대_여'] + grid_respop['70대_남']\n",
    "grid_respop['80대'] = grid_respop['80대_여'] + grid_respop['80대_남']\n",
    "grid_respop['90대'] = grid_respop['90대_여'] + grid_respop['90대_남']\n",
    "grid_respop['100대'] = grid_respop['100대_여'] + grid_respop['100대_남']\n",
    "\n",
    "# 필요한 열만 선택\n",
    "age_totals = grid_respop[['year', '20대', '30대', '40대', '50대', '60대', '70대', '80대', '90대', '100대']]\n",
    "\n",
    "# 데이터프레임을 긴 형식으로 변환\n",
    "age_totals_melted = age_totals.melt(id_vars='year', var_name='Age Group', value_name='Count')\n",
    "\n",
    "# 연도별 연령대 분포 계산\n",
    "age_totals_yearly = age_totals_melted[['Age Group', 'Count']].groupby(['Age Group']).sum().reset_index()\n",
    "# 100대 연령대 제거\n",
    "age_totals_yearly = age_totals_yearly[age_totals_yearly['Age Group'] != '100대']\n",
    "\n",
    "# 연령대 종합 평균내기\n",
    "age_totals_yearly['Count'] = age_totals_yearly['Count'] / 3\n",
    "age_totals_yearly['Count'] = age_totals_yearly['Count'].astype(int)\n",
    "# 시각화\n",
    "fig = px.bar(\n",
    "    age_totals_yearly,\n",
    "    x='Age Group',\n",
    "    y='Count',\n",
    "    color='Count',\n",
    "    color_continuous_scale='Plasma_r',  # Plasma 색상 맵 사용\n",
    "    labels={'year': 'Year', 'Count': 'Population Count', 'Age Group': 'Age Group'},\n",
    ")\n",
    "fig.update_layout(height=600, width=1200)\n",
    "fig.show()\n"
   ]
  },
  {
   "attachments": {},
   "cell_type": "markdown",
   "metadata": {},
   "source": [
    "#### 아산시 거주인구 연도별 변화(line + marker graph)"
   ]
  },
  {
   "cell_type": "code",
   "execution_count": 144,
   "metadata": {},
   "outputs": [
    {
     "data": {
      "text/html": [
       "<div>\n",
       "<style scoped>\n",
       "    .dataframe tbody tr th:only-of-type {\n",
       "        vertical-align: middle;\n",
       "    }\n",
       "\n",
       "    .dataframe tbody tr th {\n",
       "        vertical-align: top;\n",
       "    }\n",
       "\n",
       "    .dataframe thead th {\n",
       "        text-align: right;\n",
       "    }\n",
       "</style>\n",
       "<table border=\"1\" class=\"dataframe\">\n",
       "  <thead>\n",
       "    <tr style=\"text-align: right;\">\n",
       "      <th></th>\n",
       "      <th>연도</th>\n",
       "      <th>종합인구</th>\n",
       "      <th>고령인구</th>\n",
       "      <th>비고령인구</th>\n",
       "      <th>고령인구 비율</th>\n",
       "      <th>비고령인구 비율</th>\n",
       "    </tr>\n",
       "  </thead>\n",
       "  <tbody>\n",
       "    <tr>\n",
       "      <th>0</th>\n",
       "      <td>2021</td>\n",
       "      <td>188186</td>\n",
       "      <td>33452</td>\n",
       "      <td>154734</td>\n",
       "      <td>17.78</td>\n",
       "      <td>82.22</td>\n",
       "    </tr>\n",
       "    <tr>\n",
       "      <th>1</th>\n",
       "      <td>2022</td>\n",
       "      <td>185931</td>\n",
       "      <td>35347</td>\n",
       "      <td>150584</td>\n",
       "      <td>19.01</td>\n",
       "      <td>80.99</td>\n",
       "    </tr>\n",
       "    <tr>\n",
       "      <th>2</th>\n",
       "      <td>2023</td>\n",
       "      <td>182558</td>\n",
       "      <td>37357</td>\n",
       "      <td>145201</td>\n",
       "      <td>20.46</td>\n",
       "      <td>79.54</td>\n",
       "    </tr>\n",
       "  </tbody>\n",
       "</table>\n",
       "</div>"
      ],
      "text/plain": [
       "     연도    종합인구   고령인구   비고령인구  고령인구 비율  비고령인구 비율\n",
       "0  2021  188186  33452  154734    17.78     82.22\n",
       "1  2022  185931  35347  150584    19.01     80.99\n",
       "2  2023  182558  37357  145201    20.46     79.54"
      ]
     },
     "execution_count": 144,
     "metadata": {},
     "output_type": "execute_result"
    }
   ],
   "source": [
    "year_lst = range(2021, 2024)\n",
    "year_pop = [] # 인구수 종합\n",
    "elder_pop = [] # 고령인구 종합\n",
    "elder_rate = [] # 고령인구 비율\n",
    "non_elder_pop = [] # 비고령인구 종합\n",
    "non_elder_rate = [] # 비고령인구 비율\n",
    "for year in year_lst:\n",
    "    # 해당 year의 인구수 종합\n",
    "    year_pop.append(grid_respop[grid_respop['year'] == str(year)]['인구'].sum())\n",
    "    # 해당 year의 고령인구 종합\n",
    "    elder_pop.append(grid_respop[grid_respop['year'] == str(year)]['고령인구'].sum())\n",
    "    # 해당 year의 고령인구 비율\n",
    "    rate = grid_respop[grid_respop['year'] == str(year)]['고령인구'].sum() / grid_respop[grid_respop['year'] == str(year)]['인구'].sum()\n",
    "    elder_rate.append(round(rate * 100, 2))\n",
    "    # 해당 year의 비고령인구 종합\n",
    "    non_elder = grid_respop[grid_respop['year'] == str(year)]['인구'].sum() - grid_respop[grid_respop['year'] == str(year)]['고령인구'].sum()\n",
    "    non_elder_pop.append(non_elder)\n",
    "    # 해당 year의 고령인구 비율\n",
    "    rate = non_elder / grid_respop[grid_respop['year'] == str(year)]['인구'].sum()\n",
    "    non_elder_rate.append(round(rate * 100, 2))\n",
    "\n",
    "pop_df = pd.DataFrame({'연도':year_lst, '종합인구':year_pop,'고령인구':elder_pop, '비고령인구':non_elder_pop, '고령인구 비율':elder_rate, '비고령인구 비율':non_elder_rate})\n",
    "pop_df"
   ]
  },
  {
   "cell_type": "code",
   "execution_count": 134,
   "metadata": {},
   "outputs": [
    {
     "data": {
      "application/vnd.plotly.v1+json": {
       "config": {
        "plotlyServerURL": "https://plot.ly"
       },
       "data": [
        {
         "hovertemplate": "연도=%{x}<br>종합인구=%{y}<extra></extra>",
         "legendgroup": "",
         "line": {
          "color": "#636efa",
          "dash": "solid"
         },
         "marker": {
          "symbol": "circle"
         },
         "mode": "lines+markers",
         "name": "",
         "orientation": "v",
         "showlegend": false,
         "type": "scatter",
         "x": [
          2021,
          2022,
          2023
         ],
         "xaxis": "x",
         "y": [
          188186,
          185931,
          182558
         ],
         "yaxis": "y"
        }
       ],
       "layout": {
        "annotations": [
         {
          "showarrow": false,
          "text": "188186명",
          "x": 2021,
          "y": 188586
         },
         {
          "showarrow": false,
          "text": "185931명",
          "x": 2022,
          "y": 186331
         },
         {
          "showarrow": false,
          "text": "182558명",
          "x": 2023,
          "y": 182958
         }
        ],
        "legend": {
         "tracegroupgap": 0
        },
        "template": {
         "data": {
          "bar": [
           {
            "error_x": {
             "color": "#2a3f5f"
            },
            "error_y": {
             "color": "#2a3f5f"
            },
            "marker": {
             "line": {
              "color": "#E5ECF6",
              "width": 0.5
             },
             "pattern": {
              "fillmode": "overlay",
              "size": 10,
              "solidity": 0.2
             }
            },
            "type": "bar"
           }
          ],
          "barpolar": [
           {
            "marker": {
             "line": {
              "color": "#E5ECF6",
              "width": 0.5
             },
             "pattern": {
              "fillmode": "overlay",
              "size": 10,
              "solidity": 0.2
             }
            },
            "type": "barpolar"
           }
          ],
          "carpet": [
           {
            "aaxis": {
             "endlinecolor": "#2a3f5f",
             "gridcolor": "white",
             "linecolor": "white",
             "minorgridcolor": "white",
             "startlinecolor": "#2a3f5f"
            },
            "baxis": {
             "endlinecolor": "#2a3f5f",
             "gridcolor": "white",
             "linecolor": "white",
             "minorgridcolor": "white",
             "startlinecolor": "#2a3f5f"
            },
            "type": "carpet"
           }
          ],
          "choropleth": [
           {
            "colorbar": {
             "outlinewidth": 0,
             "ticks": ""
            },
            "type": "choropleth"
           }
          ],
          "contour": [
           {
            "colorbar": {
             "outlinewidth": 0,
             "ticks": ""
            },
            "colorscale": [
             [
              0,
              "#0d0887"
             ],
             [
              0.1111111111111111,
              "#46039f"
             ],
             [
              0.2222222222222222,
              "#7201a8"
             ],
             [
              0.3333333333333333,
              "#9c179e"
             ],
             [
              0.4444444444444444,
              "#bd3786"
             ],
             [
              0.5555555555555556,
              "#d8576b"
             ],
             [
              0.6666666666666666,
              "#ed7953"
             ],
             [
              0.7777777777777778,
              "#fb9f3a"
             ],
             [
              0.8888888888888888,
              "#fdca26"
             ],
             [
              1,
              "#f0f921"
             ]
            ],
            "type": "contour"
           }
          ],
          "contourcarpet": [
           {
            "colorbar": {
             "outlinewidth": 0,
             "ticks": ""
            },
            "type": "contourcarpet"
           }
          ],
          "heatmap": [
           {
            "colorbar": {
             "outlinewidth": 0,
             "ticks": ""
            },
            "colorscale": [
             [
              0,
              "#0d0887"
             ],
             [
              0.1111111111111111,
              "#46039f"
             ],
             [
              0.2222222222222222,
              "#7201a8"
             ],
             [
              0.3333333333333333,
              "#9c179e"
             ],
             [
              0.4444444444444444,
              "#bd3786"
             ],
             [
              0.5555555555555556,
              "#d8576b"
             ],
             [
              0.6666666666666666,
              "#ed7953"
             ],
             [
              0.7777777777777778,
              "#fb9f3a"
             ],
             [
              0.8888888888888888,
              "#fdca26"
             ],
             [
              1,
              "#f0f921"
             ]
            ],
            "type": "heatmap"
           }
          ],
          "heatmapgl": [
           {
            "colorbar": {
             "outlinewidth": 0,
             "ticks": ""
            },
            "colorscale": [
             [
              0,
              "#0d0887"
             ],
             [
              0.1111111111111111,
              "#46039f"
             ],
             [
              0.2222222222222222,
              "#7201a8"
             ],
             [
              0.3333333333333333,
              "#9c179e"
             ],
             [
              0.4444444444444444,
              "#bd3786"
             ],
             [
              0.5555555555555556,
              "#d8576b"
             ],
             [
              0.6666666666666666,
              "#ed7953"
             ],
             [
              0.7777777777777778,
              "#fb9f3a"
             ],
             [
              0.8888888888888888,
              "#fdca26"
             ],
             [
              1,
              "#f0f921"
             ]
            ],
            "type": "heatmapgl"
           }
          ],
          "histogram": [
           {
            "marker": {
             "pattern": {
              "fillmode": "overlay",
              "size": 10,
              "solidity": 0.2
             }
            },
            "type": "histogram"
           }
          ],
          "histogram2d": [
           {
            "colorbar": {
             "outlinewidth": 0,
             "ticks": ""
            },
            "colorscale": [
             [
              0,
              "#0d0887"
             ],
             [
              0.1111111111111111,
              "#46039f"
             ],
             [
              0.2222222222222222,
              "#7201a8"
             ],
             [
              0.3333333333333333,
              "#9c179e"
             ],
             [
              0.4444444444444444,
              "#bd3786"
             ],
             [
              0.5555555555555556,
              "#d8576b"
             ],
             [
              0.6666666666666666,
              "#ed7953"
             ],
             [
              0.7777777777777778,
              "#fb9f3a"
             ],
             [
              0.8888888888888888,
              "#fdca26"
             ],
             [
              1,
              "#f0f921"
             ]
            ],
            "type": "histogram2d"
           }
          ],
          "histogram2dcontour": [
           {
            "colorbar": {
             "outlinewidth": 0,
             "ticks": ""
            },
            "colorscale": [
             [
              0,
              "#0d0887"
             ],
             [
              0.1111111111111111,
              "#46039f"
             ],
             [
              0.2222222222222222,
              "#7201a8"
             ],
             [
              0.3333333333333333,
              "#9c179e"
             ],
             [
              0.4444444444444444,
              "#bd3786"
             ],
             [
              0.5555555555555556,
              "#d8576b"
             ],
             [
              0.6666666666666666,
              "#ed7953"
             ],
             [
              0.7777777777777778,
              "#fb9f3a"
             ],
             [
              0.8888888888888888,
              "#fdca26"
             ],
             [
              1,
              "#f0f921"
             ]
            ],
            "type": "histogram2dcontour"
           }
          ],
          "mesh3d": [
           {
            "colorbar": {
             "outlinewidth": 0,
             "ticks": ""
            },
            "type": "mesh3d"
           }
          ],
          "parcoords": [
           {
            "line": {
             "colorbar": {
              "outlinewidth": 0,
              "ticks": ""
             }
            },
            "type": "parcoords"
           }
          ],
          "pie": [
           {
            "automargin": true,
            "type": "pie"
           }
          ],
          "scatter": [
           {
            "fillpattern": {
             "fillmode": "overlay",
             "size": 10,
             "solidity": 0.2
            },
            "type": "scatter"
           }
          ],
          "scatter3d": [
           {
            "line": {
             "colorbar": {
              "outlinewidth": 0,
              "ticks": ""
             }
            },
            "marker": {
             "colorbar": {
              "outlinewidth": 0,
              "ticks": ""
             }
            },
            "type": "scatter3d"
           }
          ],
          "scattercarpet": [
           {
            "marker": {
             "colorbar": {
              "outlinewidth": 0,
              "ticks": ""
             }
            },
            "type": "scattercarpet"
           }
          ],
          "scattergeo": [
           {
            "marker": {
             "colorbar": {
              "outlinewidth": 0,
              "ticks": ""
             }
            },
            "type": "scattergeo"
           }
          ],
          "scattergl": [
           {
            "marker": {
             "colorbar": {
              "outlinewidth": 0,
              "ticks": ""
             }
            },
            "type": "scattergl"
           }
          ],
          "scattermapbox": [
           {
            "marker": {
             "colorbar": {
              "outlinewidth": 0,
              "ticks": ""
             }
            },
            "type": "scattermapbox"
           }
          ],
          "scatterpolar": [
           {
            "marker": {
             "colorbar": {
              "outlinewidth": 0,
              "ticks": ""
             }
            },
            "type": "scatterpolar"
           }
          ],
          "scatterpolargl": [
           {
            "marker": {
             "colorbar": {
              "outlinewidth": 0,
              "ticks": ""
             }
            },
            "type": "scatterpolargl"
           }
          ],
          "scatterternary": [
           {
            "marker": {
             "colorbar": {
              "outlinewidth": 0,
              "ticks": ""
             }
            },
            "type": "scatterternary"
           }
          ],
          "surface": [
           {
            "colorbar": {
             "outlinewidth": 0,
             "ticks": ""
            },
            "colorscale": [
             [
              0,
              "#0d0887"
             ],
             [
              0.1111111111111111,
              "#46039f"
             ],
             [
              0.2222222222222222,
              "#7201a8"
             ],
             [
              0.3333333333333333,
              "#9c179e"
             ],
             [
              0.4444444444444444,
              "#bd3786"
             ],
             [
              0.5555555555555556,
              "#d8576b"
             ],
             [
              0.6666666666666666,
              "#ed7953"
             ],
             [
              0.7777777777777778,
              "#fb9f3a"
             ],
             [
              0.8888888888888888,
              "#fdca26"
             ],
             [
              1,
              "#f0f921"
             ]
            ],
            "type": "surface"
           }
          ],
          "table": [
           {
            "cells": {
             "fill": {
              "color": "#EBF0F8"
             },
             "line": {
              "color": "white"
             }
            },
            "header": {
             "fill": {
              "color": "#C8D4E3"
             },
             "line": {
              "color": "white"
             }
            },
            "type": "table"
           }
          ]
         },
         "layout": {
          "annotationdefaults": {
           "arrowcolor": "#2a3f5f",
           "arrowhead": 0,
           "arrowwidth": 1
          },
          "autotypenumbers": "strict",
          "coloraxis": {
           "colorbar": {
            "outlinewidth": 0,
            "ticks": ""
           }
          },
          "colorscale": {
           "diverging": [
            [
             0,
             "#8e0152"
            ],
            [
             0.1,
             "#c51b7d"
            ],
            [
             0.2,
             "#de77ae"
            ],
            [
             0.3,
             "#f1b6da"
            ],
            [
             0.4,
             "#fde0ef"
            ],
            [
             0.5,
             "#f7f7f7"
            ],
            [
             0.6,
             "#e6f5d0"
            ],
            [
             0.7,
             "#b8e186"
            ],
            [
             0.8,
             "#7fbc41"
            ],
            [
             0.9,
             "#4d9221"
            ],
            [
             1,
             "#276419"
            ]
           ],
           "sequential": [
            [
             0,
             "#0d0887"
            ],
            [
             0.1111111111111111,
             "#46039f"
            ],
            [
             0.2222222222222222,
             "#7201a8"
            ],
            [
             0.3333333333333333,
             "#9c179e"
            ],
            [
             0.4444444444444444,
             "#bd3786"
            ],
            [
             0.5555555555555556,
             "#d8576b"
            ],
            [
             0.6666666666666666,
             "#ed7953"
            ],
            [
             0.7777777777777778,
             "#fb9f3a"
            ],
            [
             0.8888888888888888,
             "#fdca26"
            ],
            [
             1,
             "#f0f921"
            ]
           ],
           "sequentialminus": [
            [
             0,
             "#0d0887"
            ],
            [
             0.1111111111111111,
             "#46039f"
            ],
            [
             0.2222222222222222,
             "#7201a8"
            ],
            [
             0.3333333333333333,
             "#9c179e"
            ],
            [
             0.4444444444444444,
             "#bd3786"
            ],
            [
             0.5555555555555556,
             "#d8576b"
            ],
            [
             0.6666666666666666,
             "#ed7953"
            ],
            [
             0.7777777777777778,
             "#fb9f3a"
            ],
            [
             0.8888888888888888,
             "#fdca26"
            ],
            [
             1,
             "#f0f921"
            ]
           ]
          },
          "colorway": [
           "#636efa",
           "#EF553B",
           "#00cc96",
           "#ab63fa",
           "#FFA15A",
           "#19d3f3",
           "#FF6692",
           "#B6E880",
           "#FF97FF",
           "#FECB52"
          ],
          "font": {
           "color": "#2a3f5f"
          },
          "geo": {
           "bgcolor": "white",
           "lakecolor": "white",
           "landcolor": "#E5ECF6",
           "showlakes": true,
           "showland": true,
           "subunitcolor": "white"
          },
          "hoverlabel": {
           "align": "left"
          },
          "hovermode": "closest",
          "mapbox": {
           "style": "light"
          },
          "paper_bgcolor": "white",
          "plot_bgcolor": "#E5ECF6",
          "polar": {
           "angularaxis": {
            "gridcolor": "white",
            "linecolor": "white",
            "ticks": ""
           },
           "bgcolor": "#E5ECF6",
           "radialaxis": {
            "gridcolor": "white",
            "linecolor": "white",
            "ticks": ""
           }
          },
          "scene": {
           "xaxis": {
            "backgroundcolor": "#E5ECF6",
            "gridcolor": "white",
            "gridwidth": 2,
            "linecolor": "white",
            "showbackground": true,
            "ticks": "",
            "zerolinecolor": "white"
           },
           "yaxis": {
            "backgroundcolor": "#E5ECF6",
            "gridcolor": "white",
            "gridwidth": 2,
            "linecolor": "white",
            "showbackground": true,
            "ticks": "",
            "zerolinecolor": "white"
           },
           "zaxis": {
            "backgroundcolor": "#E5ECF6",
            "gridcolor": "white",
            "gridwidth": 2,
            "linecolor": "white",
            "showbackground": true,
            "ticks": "",
            "zerolinecolor": "white"
           }
          },
          "shapedefaults": {
           "line": {
            "color": "#2a3f5f"
           }
          },
          "ternary": {
           "aaxis": {
            "gridcolor": "white",
            "linecolor": "white",
            "ticks": ""
           },
           "baxis": {
            "gridcolor": "white",
            "linecolor": "white",
            "ticks": ""
           },
           "bgcolor": "#E5ECF6",
           "caxis": {
            "gridcolor": "white",
            "linecolor": "white",
            "ticks": ""
           }
          },
          "title": {
           "x": 0.05
          },
          "xaxis": {
           "automargin": true,
           "gridcolor": "white",
           "linecolor": "white",
           "ticks": "",
           "title": {
            "standoff": 15
           },
           "zerolinecolor": "white",
           "zerolinewidth": 2
          },
          "yaxis": {
           "automargin": true,
           "gridcolor": "white",
           "linecolor": "white",
           "ticks": "",
           "title": {
            "standoff": 15
           },
           "zerolinecolor": "white",
           "zerolinewidth": 2
          }
         }
        },
        "title": {
         "text": "아산시 연도별 거주인구 추이"
        },
        "xaxis": {
         "anchor": "y",
         "domain": [
          0,
          1
         ],
         "range": [
          2020.5,
          2023.5
         ],
         "showgrid": false,
         "showticklabels": true,
         "tickmode": "array",
         "ticktext": [
          "2021",
          "2022",
          "2023"
         ],
         "tickvals": [
          2021,
          2022,
          2023
         ],
         "title": {
          "text": "연도"
         }
        },
        "yaxis": {
         "anchor": "x",
         "domain": [
          0,
          1
         ],
         "showgrid": true,
         "showticklabels": true,
         "title": {
          "text": "종합인구"
         }
        }
       }
      }
     },
     "metadata": {},
     "output_type": "display_data"
    }
   ],
   "source": [
    "fig = px.line(pop_df, x='연도', y='종합인구', labels={'x':'연도', 'y':'인구수'}, title='아산시 연도별 거주인구 추이')\n",
    "fig.update_traces(mode='lines+markers')\n",
    "\n",
    "# 각 마커 위에 주석을 추가합니다.\n",
    "for i in range(len(year_lst)):\n",
    "    fig.add_annotation(\n",
    "        x=pop_df['연도'][i],\n",
    "        y=pop_df['종합인구'][i] + 400,\n",
    "        text=f\"{pop_df['종합인구'][i]}명\",\n",
    "        showarrow=False,\n",
    "    )\n",
    "fig.update_xaxes(\n",
    "        showticklabels=True, \n",
    "        showgrid=False, \n",
    "        tickmode='array',\n",
    "        range=[2020.5, 2023.5],\n",
    "        tickvals=[2021, 2022, 2023],  # x축에 표시할 값\n",
    "        ticktext=['2021', '2022', '2023'],  # x축에 표시할 텍스트\n",
    "    )\n",
    "fig.update_yaxes(\n",
    "    showticklabels=True, \n",
    "    showgrid=True,\n",
    "    )\n",
    "fig.show()"
   ]
  },
  {
   "cell_type": "code",
   "execution_count": 135,
   "metadata": {},
   "outputs": [
    {
     "data": {
      "application/vnd.plotly.v1+json": {
       "config": {
        "plotlyServerURL": "https://plot.ly"
       },
       "data": [
        {
         "hovertemplate": "variable=고령인구<br>연도=%{x}<br>value=%{y}<extra></extra>",
         "legendgroup": "고령인구",
         "line": {
          "color": "#636efa",
          "dash": "solid"
         },
         "marker": {
          "symbol": "circle"
         },
         "mode": "lines+markers",
         "name": "고령인구",
         "orientation": "v",
         "showlegend": true,
         "type": "scatter",
         "x": [
          2021,
          2022,
          2023
         ],
         "xaxis": "x",
         "y": [
          33452,
          35347,
          37357
         ],
         "yaxis": "y"
        },
        {
         "hovertemplate": "variable=비고령인구<br>연도=%{x}<br>value=%{y}<extra></extra>",
         "legendgroup": "비고령인구",
         "line": {
          "color": "#EF553B",
          "dash": "solid"
         },
         "marker": {
          "symbol": "circle"
         },
         "mode": "lines+markers",
         "name": "비고령인구",
         "orientation": "v",
         "showlegend": true,
         "type": "scatter",
         "x": [
          2021,
          2022,
          2023
         ],
         "xaxis": "x",
         "y": [
          154734,
          150584,
          145201
         ],
         "yaxis": "y"
        }
       ],
       "layout": {
        "annotations": [
         {
          "showarrow": false,
          "text": "33452명",
          "x": 2021,
          "y": 40452
         },
         {
          "showarrow": false,
          "text": "35347명",
          "x": 2022,
          "y": 42347
         },
         {
          "showarrow": false,
          "text": "37357명",
          "x": 2023,
          "y": 44357
         },
         {
          "showarrow": false,
          "text": "154734명",
          "x": 2021,
          "y": 161734
         },
         {
          "showarrow": false,
          "text": "150584명",
          "x": 2022,
          "y": 157584
         },
         {
          "showarrow": false,
          "text": "145201명",
          "x": 2023,
          "y": 152201
         }
        ],
        "legend": {
         "title": {
          "text": "구분"
         },
         "tracegroupgap": 0,
         "x": 1,
         "y": 1
        },
        "template": {
         "data": {
          "bar": [
           {
            "error_x": {
             "color": "#2a3f5f"
            },
            "error_y": {
             "color": "#2a3f5f"
            },
            "marker": {
             "line": {
              "color": "#E5ECF6",
              "width": 0.5
             },
             "pattern": {
              "fillmode": "overlay",
              "size": 10,
              "solidity": 0.2
             }
            },
            "type": "bar"
           }
          ],
          "barpolar": [
           {
            "marker": {
             "line": {
              "color": "#E5ECF6",
              "width": 0.5
             },
             "pattern": {
              "fillmode": "overlay",
              "size": 10,
              "solidity": 0.2
             }
            },
            "type": "barpolar"
           }
          ],
          "carpet": [
           {
            "aaxis": {
             "endlinecolor": "#2a3f5f",
             "gridcolor": "white",
             "linecolor": "white",
             "minorgridcolor": "white",
             "startlinecolor": "#2a3f5f"
            },
            "baxis": {
             "endlinecolor": "#2a3f5f",
             "gridcolor": "white",
             "linecolor": "white",
             "minorgridcolor": "white",
             "startlinecolor": "#2a3f5f"
            },
            "type": "carpet"
           }
          ],
          "choropleth": [
           {
            "colorbar": {
             "outlinewidth": 0,
             "ticks": ""
            },
            "type": "choropleth"
           }
          ],
          "contour": [
           {
            "colorbar": {
             "outlinewidth": 0,
             "ticks": ""
            },
            "colorscale": [
             [
              0,
              "#0d0887"
             ],
             [
              0.1111111111111111,
              "#46039f"
             ],
             [
              0.2222222222222222,
              "#7201a8"
             ],
             [
              0.3333333333333333,
              "#9c179e"
             ],
             [
              0.4444444444444444,
              "#bd3786"
             ],
             [
              0.5555555555555556,
              "#d8576b"
             ],
             [
              0.6666666666666666,
              "#ed7953"
             ],
             [
              0.7777777777777778,
              "#fb9f3a"
             ],
             [
              0.8888888888888888,
              "#fdca26"
             ],
             [
              1,
              "#f0f921"
             ]
            ],
            "type": "contour"
           }
          ],
          "contourcarpet": [
           {
            "colorbar": {
             "outlinewidth": 0,
             "ticks": ""
            },
            "type": "contourcarpet"
           }
          ],
          "heatmap": [
           {
            "colorbar": {
             "outlinewidth": 0,
             "ticks": ""
            },
            "colorscale": [
             [
              0,
              "#0d0887"
             ],
             [
              0.1111111111111111,
              "#46039f"
             ],
             [
              0.2222222222222222,
              "#7201a8"
             ],
             [
              0.3333333333333333,
              "#9c179e"
             ],
             [
              0.4444444444444444,
              "#bd3786"
             ],
             [
              0.5555555555555556,
              "#d8576b"
             ],
             [
              0.6666666666666666,
              "#ed7953"
             ],
             [
              0.7777777777777778,
              "#fb9f3a"
             ],
             [
              0.8888888888888888,
              "#fdca26"
             ],
             [
              1,
              "#f0f921"
             ]
            ],
            "type": "heatmap"
           }
          ],
          "heatmapgl": [
           {
            "colorbar": {
             "outlinewidth": 0,
             "ticks": ""
            },
            "colorscale": [
             [
              0,
              "#0d0887"
             ],
             [
              0.1111111111111111,
              "#46039f"
             ],
             [
              0.2222222222222222,
              "#7201a8"
             ],
             [
              0.3333333333333333,
              "#9c179e"
             ],
             [
              0.4444444444444444,
              "#bd3786"
             ],
             [
              0.5555555555555556,
              "#d8576b"
             ],
             [
              0.6666666666666666,
              "#ed7953"
             ],
             [
              0.7777777777777778,
              "#fb9f3a"
             ],
             [
              0.8888888888888888,
              "#fdca26"
             ],
             [
              1,
              "#f0f921"
             ]
            ],
            "type": "heatmapgl"
           }
          ],
          "histogram": [
           {
            "marker": {
             "pattern": {
              "fillmode": "overlay",
              "size": 10,
              "solidity": 0.2
             }
            },
            "type": "histogram"
           }
          ],
          "histogram2d": [
           {
            "colorbar": {
             "outlinewidth": 0,
             "ticks": ""
            },
            "colorscale": [
             [
              0,
              "#0d0887"
             ],
             [
              0.1111111111111111,
              "#46039f"
             ],
             [
              0.2222222222222222,
              "#7201a8"
             ],
             [
              0.3333333333333333,
              "#9c179e"
             ],
             [
              0.4444444444444444,
              "#bd3786"
             ],
             [
              0.5555555555555556,
              "#d8576b"
             ],
             [
              0.6666666666666666,
              "#ed7953"
             ],
             [
              0.7777777777777778,
              "#fb9f3a"
             ],
             [
              0.8888888888888888,
              "#fdca26"
             ],
             [
              1,
              "#f0f921"
             ]
            ],
            "type": "histogram2d"
           }
          ],
          "histogram2dcontour": [
           {
            "colorbar": {
             "outlinewidth": 0,
             "ticks": ""
            },
            "colorscale": [
             [
              0,
              "#0d0887"
             ],
             [
              0.1111111111111111,
              "#46039f"
             ],
             [
              0.2222222222222222,
              "#7201a8"
             ],
             [
              0.3333333333333333,
              "#9c179e"
             ],
             [
              0.4444444444444444,
              "#bd3786"
             ],
             [
              0.5555555555555556,
              "#d8576b"
             ],
             [
              0.6666666666666666,
              "#ed7953"
             ],
             [
              0.7777777777777778,
              "#fb9f3a"
             ],
             [
              0.8888888888888888,
              "#fdca26"
             ],
             [
              1,
              "#f0f921"
             ]
            ],
            "type": "histogram2dcontour"
           }
          ],
          "mesh3d": [
           {
            "colorbar": {
             "outlinewidth": 0,
             "ticks": ""
            },
            "type": "mesh3d"
           }
          ],
          "parcoords": [
           {
            "line": {
             "colorbar": {
              "outlinewidth": 0,
              "ticks": ""
             }
            },
            "type": "parcoords"
           }
          ],
          "pie": [
           {
            "automargin": true,
            "type": "pie"
           }
          ],
          "scatter": [
           {
            "fillpattern": {
             "fillmode": "overlay",
             "size": 10,
             "solidity": 0.2
            },
            "type": "scatter"
           }
          ],
          "scatter3d": [
           {
            "line": {
             "colorbar": {
              "outlinewidth": 0,
              "ticks": ""
             }
            },
            "marker": {
             "colorbar": {
              "outlinewidth": 0,
              "ticks": ""
             }
            },
            "type": "scatter3d"
           }
          ],
          "scattercarpet": [
           {
            "marker": {
             "colorbar": {
              "outlinewidth": 0,
              "ticks": ""
             }
            },
            "type": "scattercarpet"
           }
          ],
          "scattergeo": [
           {
            "marker": {
             "colorbar": {
              "outlinewidth": 0,
              "ticks": ""
             }
            },
            "type": "scattergeo"
           }
          ],
          "scattergl": [
           {
            "marker": {
             "colorbar": {
              "outlinewidth": 0,
              "ticks": ""
             }
            },
            "type": "scattergl"
           }
          ],
          "scattermapbox": [
           {
            "marker": {
             "colorbar": {
              "outlinewidth": 0,
              "ticks": ""
             }
            },
            "type": "scattermapbox"
           }
          ],
          "scatterpolar": [
           {
            "marker": {
             "colorbar": {
              "outlinewidth": 0,
              "ticks": ""
             }
            },
            "type": "scatterpolar"
           }
          ],
          "scatterpolargl": [
           {
            "marker": {
             "colorbar": {
              "outlinewidth": 0,
              "ticks": ""
             }
            },
            "type": "scatterpolargl"
           }
          ],
          "scatterternary": [
           {
            "marker": {
             "colorbar": {
              "outlinewidth": 0,
              "ticks": ""
             }
            },
            "type": "scatterternary"
           }
          ],
          "surface": [
           {
            "colorbar": {
             "outlinewidth": 0,
             "ticks": ""
            },
            "colorscale": [
             [
              0,
              "#0d0887"
             ],
             [
              0.1111111111111111,
              "#46039f"
             ],
             [
              0.2222222222222222,
              "#7201a8"
             ],
             [
              0.3333333333333333,
              "#9c179e"
             ],
             [
              0.4444444444444444,
              "#bd3786"
             ],
             [
              0.5555555555555556,
              "#d8576b"
             ],
             [
              0.6666666666666666,
              "#ed7953"
             ],
             [
              0.7777777777777778,
              "#fb9f3a"
             ],
             [
              0.8888888888888888,
              "#fdca26"
             ],
             [
              1,
              "#f0f921"
             ]
            ],
            "type": "surface"
           }
          ],
          "table": [
           {
            "cells": {
             "fill": {
              "color": "#EBF0F8"
             },
             "line": {
              "color": "white"
             }
            },
            "header": {
             "fill": {
              "color": "#C8D4E3"
             },
             "line": {
              "color": "white"
             }
            },
            "type": "table"
           }
          ]
         },
         "layout": {
          "annotationdefaults": {
           "arrowcolor": "#2a3f5f",
           "arrowhead": 0,
           "arrowwidth": 1
          },
          "autotypenumbers": "strict",
          "coloraxis": {
           "colorbar": {
            "outlinewidth": 0,
            "ticks": ""
           }
          },
          "colorscale": {
           "diverging": [
            [
             0,
             "#8e0152"
            ],
            [
             0.1,
             "#c51b7d"
            ],
            [
             0.2,
             "#de77ae"
            ],
            [
             0.3,
             "#f1b6da"
            ],
            [
             0.4,
             "#fde0ef"
            ],
            [
             0.5,
             "#f7f7f7"
            ],
            [
             0.6,
             "#e6f5d0"
            ],
            [
             0.7,
             "#b8e186"
            ],
            [
             0.8,
             "#7fbc41"
            ],
            [
             0.9,
             "#4d9221"
            ],
            [
             1,
             "#276419"
            ]
           ],
           "sequential": [
            [
             0,
             "#0d0887"
            ],
            [
             0.1111111111111111,
             "#46039f"
            ],
            [
             0.2222222222222222,
             "#7201a8"
            ],
            [
             0.3333333333333333,
             "#9c179e"
            ],
            [
             0.4444444444444444,
             "#bd3786"
            ],
            [
             0.5555555555555556,
             "#d8576b"
            ],
            [
             0.6666666666666666,
             "#ed7953"
            ],
            [
             0.7777777777777778,
             "#fb9f3a"
            ],
            [
             0.8888888888888888,
             "#fdca26"
            ],
            [
             1,
             "#f0f921"
            ]
           ],
           "sequentialminus": [
            [
             0,
             "#0d0887"
            ],
            [
             0.1111111111111111,
             "#46039f"
            ],
            [
             0.2222222222222222,
             "#7201a8"
            ],
            [
             0.3333333333333333,
             "#9c179e"
            ],
            [
             0.4444444444444444,
             "#bd3786"
            ],
            [
             0.5555555555555556,
             "#d8576b"
            ],
            [
             0.6666666666666666,
             "#ed7953"
            ],
            [
             0.7777777777777778,
             "#fb9f3a"
            ],
            [
             0.8888888888888888,
             "#fdca26"
            ],
            [
             1,
             "#f0f921"
            ]
           ]
          },
          "colorway": [
           "#636efa",
           "#EF553B",
           "#00cc96",
           "#ab63fa",
           "#FFA15A",
           "#19d3f3",
           "#FF6692",
           "#B6E880",
           "#FF97FF",
           "#FECB52"
          ],
          "font": {
           "color": "#2a3f5f"
          },
          "geo": {
           "bgcolor": "white",
           "lakecolor": "white",
           "landcolor": "#E5ECF6",
           "showlakes": true,
           "showland": true,
           "subunitcolor": "white"
          },
          "hoverlabel": {
           "align": "left"
          },
          "hovermode": "closest",
          "mapbox": {
           "style": "light"
          },
          "paper_bgcolor": "white",
          "plot_bgcolor": "#E5ECF6",
          "polar": {
           "angularaxis": {
            "gridcolor": "white",
            "linecolor": "white",
            "ticks": ""
           },
           "bgcolor": "#E5ECF6",
           "radialaxis": {
            "gridcolor": "white",
            "linecolor": "white",
            "ticks": ""
           }
          },
          "scene": {
           "xaxis": {
            "backgroundcolor": "#E5ECF6",
            "gridcolor": "white",
            "gridwidth": 2,
            "linecolor": "white",
            "showbackground": true,
            "ticks": "",
            "zerolinecolor": "white"
           },
           "yaxis": {
            "backgroundcolor": "#E5ECF6",
            "gridcolor": "white",
            "gridwidth": 2,
            "linecolor": "white",
            "showbackground": true,
            "ticks": "",
            "zerolinecolor": "white"
           },
           "zaxis": {
            "backgroundcolor": "#E5ECF6",
            "gridcolor": "white",
            "gridwidth": 2,
            "linecolor": "white",
            "showbackground": true,
            "ticks": "",
            "zerolinecolor": "white"
           }
          },
          "shapedefaults": {
           "line": {
            "color": "#2a3f5f"
           }
          },
          "ternary": {
           "aaxis": {
            "gridcolor": "white",
            "linecolor": "white",
            "ticks": ""
           },
           "baxis": {
            "gridcolor": "white",
            "linecolor": "white",
            "ticks": ""
           },
           "bgcolor": "#E5ECF6",
           "caxis": {
            "gridcolor": "white",
            "linecolor": "white",
            "ticks": ""
           }
          },
          "title": {
           "x": 0.05
          },
          "xaxis": {
           "automargin": true,
           "gridcolor": "white",
           "linecolor": "white",
           "ticks": "",
           "title": {
            "standoff": 15
           },
           "zerolinecolor": "white",
           "zerolinewidth": 2
          },
          "yaxis": {
           "automargin": true,
           "gridcolor": "white",
           "linecolor": "white",
           "ticks": "",
           "title": {
            "standoff": 15
           },
           "zerolinecolor": "white",
           "zerolinewidth": 2
          }
         }
        },
        "title": {
         "text": "아산시 연도별 고령거주인구 vs 비고령거주인구 변화"
        },
        "xaxis": {
         "anchor": "y",
         "domain": [
          0,
          1
         ],
         "range": [
          2020.5,
          2023.5
         ],
         "showgrid": false,
         "showticklabels": true,
         "tickmode": "array",
         "ticktext": [
          "2021",
          "2022",
          "2023"
         ],
         "tickvals": [
          2021,
          2022,
          2023
         ],
         "title": {
          "text": "연도"
         }
        },
        "yaxis": {
         "anchor": "x",
         "domain": [
          0,
          1
         ],
         "showgrid": true,
         "showticklabels": true,
         "title": {
          "text": "value"
         }
        }
       }
      }
     },
     "metadata": {},
     "output_type": "display_data"
    }
   ],
   "source": [
    "fig = px.line(pop_df, x='연도', y=['고령인구', '비고령인구'], labels={'x':'연도', 'y':'인구수'}, title='아산시 연도별 고령거주인구 vs 비고령거주인구 변화')\n",
    "fig.update_traces(mode='lines+markers')\n",
    "\n",
    "# 각 마커 위에 주석을 추가\n",
    "for i in range(len(year_lst)):\n",
    "    fig.add_annotation(\n",
    "        x=pop_df['연도'][i],\n",
    "        y=pop_df['고령인구'][i] + 7000,\n",
    "        text=f\"{pop_df['고령인구'][i]}명\",\n",
    "        showarrow=False,\n",
    "    )\n",
    "\n",
    "for i in range(len(year_lst)):\n",
    "    fig.add_annotation(\n",
    "        x=pop_df['연도'][i],\n",
    "        y=pop_df['비고령인구'][i] + 7000,\n",
    "        text=f\"{pop_df['비고령인구'][i]}명\",\n",
    "        showarrow=False,\n",
    "    )\n",
    "\n",
    "fig.update_xaxes(\n",
    "        showticklabels=True, \n",
    "        showgrid=False, \n",
    "        tickmode='array',\n",
    "        range=[2020.5, 2023.5],\n",
    "        tickvals=[2021, 2022, 2023],  # x축에 표시할 값\n",
    "        ticktext=['2021', '2022', '2023'],  # x축에 표시할 텍스트\n",
    "    )\n",
    "fig.update_yaxes(\n",
    "    showticklabels=True, \n",
    "    showgrid=True,\n",
    "    )\n",
    "# 범례 위치 설정 및 범례 이름 변경\n",
    "fig.update_layout(\n",
    "    legend=dict(x=1, y=1),\n",
    "    legend_title_text='구분',\n",
    ")\n",
    "fig.show()"
   ]
  },
  {
   "cell_type": "code",
   "execution_count": 136,
   "metadata": {},
   "outputs": [
    {
     "data": {
      "application/vnd.plotly.v1+json": {
       "config": {
        "plotlyServerURL": "https://plot.ly"
       },
       "data": [
        {
         "hovertemplate": "variable=고령인구 비율<br>연도=%{x}<br>value=%{y}<extra></extra>",
         "legendgroup": "고령인구 비율",
         "line": {
          "color": "#636efa",
          "dash": "solid"
         },
         "marker": {
          "symbol": "circle"
         },
         "mode": "lines+markers",
         "name": "고령인구 비율",
         "orientation": "v",
         "showlegend": true,
         "type": "scatter",
         "x": [
          2021,
          2022,
          2023
         ],
         "xaxis": "x",
         "y": [
          17.78,
          19.01,
          20.46
         ],
         "yaxis": "y"
        },
        {
         "hovertemplate": "variable=비고령인구 비율<br>연도=%{x}<br>value=%{y}<extra></extra>",
         "legendgroup": "비고령인구 비율",
         "line": {
          "color": "#EF553B",
          "dash": "solid"
         },
         "marker": {
          "symbol": "circle"
         },
         "mode": "lines+markers",
         "name": "비고령인구 비율",
         "orientation": "v",
         "showlegend": true,
         "type": "scatter",
         "x": [
          2021,
          2022,
          2023
         ],
         "xaxis": "x",
         "y": [
          82.22,
          80.99,
          79.54
         ],
         "yaxis": "y"
        }
       ],
       "layout": {
        "annotations": [
         {
          "showarrow": false,
          "text": "17.78%",
          "x": 2021,
          "y": 21.78
         },
         {
          "showarrow": false,
          "text": "19.01%",
          "x": 2022,
          "y": 23.01
         },
         {
          "showarrow": false,
          "text": "20.46%",
          "x": 2023,
          "y": 24.46
         },
         {
          "showarrow": false,
          "text": "82.22%",
          "x": 2021,
          "y": 86.22
         },
         {
          "showarrow": false,
          "text": "80.99%",
          "x": 2022,
          "y": 84.99
         },
         {
          "showarrow": false,
          "text": "79.54%",
          "x": 2023,
          "y": 83.54
         }
        ],
        "legend": {
         "title": {
          "text": "구분"
         },
         "tracegroupgap": 0,
         "x": 1,
         "y": 1
        },
        "template": {
         "data": {
          "bar": [
           {
            "error_x": {
             "color": "#2a3f5f"
            },
            "error_y": {
             "color": "#2a3f5f"
            },
            "marker": {
             "line": {
              "color": "#E5ECF6",
              "width": 0.5
             },
             "pattern": {
              "fillmode": "overlay",
              "size": 10,
              "solidity": 0.2
             }
            },
            "type": "bar"
           }
          ],
          "barpolar": [
           {
            "marker": {
             "line": {
              "color": "#E5ECF6",
              "width": 0.5
             },
             "pattern": {
              "fillmode": "overlay",
              "size": 10,
              "solidity": 0.2
             }
            },
            "type": "barpolar"
           }
          ],
          "carpet": [
           {
            "aaxis": {
             "endlinecolor": "#2a3f5f",
             "gridcolor": "white",
             "linecolor": "white",
             "minorgridcolor": "white",
             "startlinecolor": "#2a3f5f"
            },
            "baxis": {
             "endlinecolor": "#2a3f5f",
             "gridcolor": "white",
             "linecolor": "white",
             "minorgridcolor": "white",
             "startlinecolor": "#2a3f5f"
            },
            "type": "carpet"
           }
          ],
          "choropleth": [
           {
            "colorbar": {
             "outlinewidth": 0,
             "ticks": ""
            },
            "type": "choropleth"
           }
          ],
          "contour": [
           {
            "colorbar": {
             "outlinewidth": 0,
             "ticks": ""
            },
            "colorscale": [
             [
              0,
              "#0d0887"
             ],
             [
              0.1111111111111111,
              "#46039f"
             ],
             [
              0.2222222222222222,
              "#7201a8"
             ],
             [
              0.3333333333333333,
              "#9c179e"
             ],
             [
              0.4444444444444444,
              "#bd3786"
             ],
             [
              0.5555555555555556,
              "#d8576b"
             ],
             [
              0.6666666666666666,
              "#ed7953"
             ],
             [
              0.7777777777777778,
              "#fb9f3a"
             ],
             [
              0.8888888888888888,
              "#fdca26"
             ],
             [
              1,
              "#f0f921"
             ]
            ],
            "type": "contour"
           }
          ],
          "contourcarpet": [
           {
            "colorbar": {
             "outlinewidth": 0,
             "ticks": ""
            },
            "type": "contourcarpet"
           }
          ],
          "heatmap": [
           {
            "colorbar": {
             "outlinewidth": 0,
             "ticks": ""
            },
            "colorscale": [
             [
              0,
              "#0d0887"
             ],
             [
              0.1111111111111111,
              "#46039f"
             ],
             [
              0.2222222222222222,
              "#7201a8"
             ],
             [
              0.3333333333333333,
              "#9c179e"
             ],
             [
              0.4444444444444444,
              "#bd3786"
             ],
             [
              0.5555555555555556,
              "#d8576b"
             ],
             [
              0.6666666666666666,
              "#ed7953"
             ],
             [
              0.7777777777777778,
              "#fb9f3a"
             ],
             [
              0.8888888888888888,
              "#fdca26"
             ],
             [
              1,
              "#f0f921"
             ]
            ],
            "type": "heatmap"
           }
          ],
          "heatmapgl": [
           {
            "colorbar": {
             "outlinewidth": 0,
             "ticks": ""
            },
            "colorscale": [
             [
              0,
              "#0d0887"
             ],
             [
              0.1111111111111111,
              "#46039f"
             ],
             [
              0.2222222222222222,
              "#7201a8"
             ],
             [
              0.3333333333333333,
              "#9c179e"
             ],
             [
              0.4444444444444444,
              "#bd3786"
             ],
             [
              0.5555555555555556,
              "#d8576b"
             ],
             [
              0.6666666666666666,
              "#ed7953"
             ],
             [
              0.7777777777777778,
              "#fb9f3a"
             ],
             [
              0.8888888888888888,
              "#fdca26"
             ],
             [
              1,
              "#f0f921"
             ]
            ],
            "type": "heatmapgl"
           }
          ],
          "histogram": [
           {
            "marker": {
             "pattern": {
              "fillmode": "overlay",
              "size": 10,
              "solidity": 0.2
             }
            },
            "type": "histogram"
           }
          ],
          "histogram2d": [
           {
            "colorbar": {
             "outlinewidth": 0,
             "ticks": ""
            },
            "colorscale": [
             [
              0,
              "#0d0887"
             ],
             [
              0.1111111111111111,
              "#46039f"
             ],
             [
              0.2222222222222222,
              "#7201a8"
             ],
             [
              0.3333333333333333,
              "#9c179e"
             ],
             [
              0.4444444444444444,
              "#bd3786"
             ],
             [
              0.5555555555555556,
              "#d8576b"
             ],
             [
              0.6666666666666666,
              "#ed7953"
             ],
             [
              0.7777777777777778,
              "#fb9f3a"
             ],
             [
              0.8888888888888888,
              "#fdca26"
             ],
             [
              1,
              "#f0f921"
             ]
            ],
            "type": "histogram2d"
           }
          ],
          "histogram2dcontour": [
           {
            "colorbar": {
             "outlinewidth": 0,
             "ticks": ""
            },
            "colorscale": [
             [
              0,
              "#0d0887"
             ],
             [
              0.1111111111111111,
              "#46039f"
             ],
             [
              0.2222222222222222,
              "#7201a8"
             ],
             [
              0.3333333333333333,
              "#9c179e"
             ],
             [
              0.4444444444444444,
              "#bd3786"
             ],
             [
              0.5555555555555556,
              "#d8576b"
             ],
             [
              0.6666666666666666,
              "#ed7953"
             ],
             [
              0.7777777777777778,
              "#fb9f3a"
             ],
             [
              0.8888888888888888,
              "#fdca26"
             ],
             [
              1,
              "#f0f921"
             ]
            ],
            "type": "histogram2dcontour"
           }
          ],
          "mesh3d": [
           {
            "colorbar": {
             "outlinewidth": 0,
             "ticks": ""
            },
            "type": "mesh3d"
           }
          ],
          "parcoords": [
           {
            "line": {
             "colorbar": {
              "outlinewidth": 0,
              "ticks": ""
             }
            },
            "type": "parcoords"
           }
          ],
          "pie": [
           {
            "automargin": true,
            "type": "pie"
           }
          ],
          "scatter": [
           {
            "fillpattern": {
             "fillmode": "overlay",
             "size": 10,
             "solidity": 0.2
            },
            "type": "scatter"
           }
          ],
          "scatter3d": [
           {
            "line": {
             "colorbar": {
              "outlinewidth": 0,
              "ticks": ""
             }
            },
            "marker": {
             "colorbar": {
              "outlinewidth": 0,
              "ticks": ""
             }
            },
            "type": "scatter3d"
           }
          ],
          "scattercarpet": [
           {
            "marker": {
             "colorbar": {
              "outlinewidth": 0,
              "ticks": ""
             }
            },
            "type": "scattercarpet"
           }
          ],
          "scattergeo": [
           {
            "marker": {
             "colorbar": {
              "outlinewidth": 0,
              "ticks": ""
             }
            },
            "type": "scattergeo"
           }
          ],
          "scattergl": [
           {
            "marker": {
             "colorbar": {
              "outlinewidth": 0,
              "ticks": ""
             }
            },
            "type": "scattergl"
           }
          ],
          "scattermapbox": [
           {
            "marker": {
             "colorbar": {
              "outlinewidth": 0,
              "ticks": ""
             }
            },
            "type": "scattermapbox"
           }
          ],
          "scatterpolar": [
           {
            "marker": {
             "colorbar": {
              "outlinewidth": 0,
              "ticks": ""
             }
            },
            "type": "scatterpolar"
           }
          ],
          "scatterpolargl": [
           {
            "marker": {
             "colorbar": {
              "outlinewidth": 0,
              "ticks": ""
             }
            },
            "type": "scatterpolargl"
           }
          ],
          "scatterternary": [
           {
            "marker": {
             "colorbar": {
              "outlinewidth": 0,
              "ticks": ""
             }
            },
            "type": "scatterternary"
           }
          ],
          "surface": [
           {
            "colorbar": {
             "outlinewidth": 0,
             "ticks": ""
            },
            "colorscale": [
             [
              0,
              "#0d0887"
             ],
             [
              0.1111111111111111,
              "#46039f"
             ],
             [
              0.2222222222222222,
              "#7201a8"
             ],
             [
              0.3333333333333333,
              "#9c179e"
             ],
             [
              0.4444444444444444,
              "#bd3786"
             ],
             [
              0.5555555555555556,
              "#d8576b"
             ],
             [
              0.6666666666666666,
              "#ed7953"
             ],
             [
              0.7777777777777778,
              "#fb9f3a"
             ],
             [
              0.8888888888888888,
              "#fdca26"
             ],
             [
              1,
              "#f0f921"
             ]
            ],
            "type": "surface"
           }
          ],
          "table": [
           {
            "cells": {
             "fill": {
              "color": "#EBF0F8"
             },
             "line": {
              "color": "white"
             }
            },
            "header": {
             "fill": {
              "color": "#C8D4E3"
             },
             "line": {
              "color": "white"
             }
            },
            "type": "table"
           }
          ]
         },
         "layout": {
          "annotationdefaults": {
           "arrowcolor": "#2a3f5f",
           "arrowhead": 0,
           "arrowwidth": 1
          },
          "autotypenumbers": "strict",
          "coloraxis": {
           "colorbar": {
            "outlinewidth": 0,
            "ticks": ""
           }
          },
          "colorscale": {
           "diverging": [
            [
             0,
             "#8e0152"
            ],
            [
             0.1,
             "#c51b7d"
            ],
            [
             0.2,
             "#de77ae"
            ],
            [
             0.3,
             "#f1b6da"
            ],
            [
             0.4,
             "#fde0ef"
            ],
            [
             0.5,
             "#f7f7f7"
            ],
            [
             0.6,
             "#e6f5d0"
            ],
            [
             0.7,
             "#b8e186"
            ],
            [
             0.8,
             "#7fbc41"
            ],
            [
             0.9,
             "#4d9221"
            ],
            [
             1,
             "#276419"
            ]
           ],
           "sequential": [
            [
             0,
             "#0d0887"
            ],
            [
             0.1111111111111111,
             "#46039f"
            ],
            [
             0.2222222222222222,
             "#7201a8"
            ],
            [
             0.3333333333333333,
             "#9c179e"
            ],
            [
             0.4444444444444444,
             "#bd3786"
            ],
            [
             0.5555555555555556,
             "#d8576b"
            ],
            [
             0.6666666666666666,
             "#ed7953"
            ],
            [
             0.7777777777777778,
             "#fb9f3a"
            ],
            [
             0.8888888888888888,
             "#fdca26"
            ],
            [
             1,
             "#f0f921"
            ]
           ],
           "sequentialminus": [
            [
             0,
             "#0d0887"
            ],
            [
             0.1111111111111111,
             "#46039f"
            ],
            [
             0.2222222222222222,
             "#7201a8"
            ],
            [
             0.3333333333333333,
             "#9c179e"
            ],
            [
             0.4444444444444444,
             "#bd3786"
            ],
            [
             0.5555555555555556,
             "#d8576b"
            ],
            [
             0.6666666666666666,
             "#ed7953"
            ],
            [
             0.7777777777777778,
             "#fb9f3a"
            ],
            [
             0.8888888888888888,
             "#fdca26"
            ],
            [
             1,
             "#f0f921"
            ]
           ]
          },
          "colorway": [
           "#636efa",
           "#EF553B",
           "#00cc96",
           "#ab63fa",
           "#FFA15A",
           "#19d3f3",
           "#FF6692",
           "#B6E880",
           "#FF97FF",
           "#FECB52"
          ],
          "font": {
           "color": "#2a3f5f"
          },
          "geo": {
           "bgcolor": "white",
           "lakecolor": "white",
           "landcolor": "#E5ECF6",
           "showlakes": true,
           "showland": true,
           "subunitcolor": "white"
          },
          "hoverlabel": {
           "align": "left"
          },
          "hovermode": "closest",
          "mapbox": {
           "style": "light"
          },
          "paper_bgcolor": "white",
          "plot_bgcolor": "#E5ECF6",
          "polar": {
           "angularaxis": {
            "gridcolor": "white",
            "linecolor": "white",
            "ticks": ""
           },
           "bgcolor": "#E5ECF6",
           "radialaxis": {
            "gridcolor": "white",
            "linecolor": "white",
            "ticks": ""
           }
          },
          "scene": {
           "xaxis": {
            "backgroundcolor": "#E5ECF6",
            "gridcolor": "white",
            "gridwidth": 2,
            "linecolor": "white",
            "showbackground": true,
            "ticks": "",
            "zerolinecolor": "white"
           },
           "yaxis": {
            "backgroundcolor": "#E5ECF6",
            "gridcolor": "white",
            "gridwidth": 2,
            "linecolor": "white",
            "showbackground": true,
            "ticks": "",
            "zerolinecolor": "white"
           },
           "zaxis": {
            "backgroundcolor": "#E5ECF6",
            "gridcolor": "white",
            "gridwidth": 2,
            "linecolor": "white",
            "showbackground": true,
            "ticks": "",
            "zerolinecolor": "white"
           }
          },
          "shapedefaults": {
           "line": {
            "color": "#2a3f5f"
           }
          },
          "ternary": {
           "aaxis": {
            "gridcolor": "white",
            "linecolor": "white",
            "ticks": ""
           },
           "baxis": {
            "gridcolor": "white",
            "linecolor": "white",
            "ticks": ""
           },
           "bgcolor": "#E5ECF6",
           "caxis": {
            "gridcolor": "white",
            "linecolor": "white",
            "ticks": ""
           }
          },
          "title": {
           "x": 0.05
          },
          "xaxis": {
           "automargin": true,
           "gridcolor": "white",
           "linecolor": "white",
           "ticks": "",
           "title": {
            "standoff": 15
           },
           "zerolinecolor": "white",
           "zerolinewidth": 2
          },
          "yaxis": {
           "automargin": true,
           "gridcolor": "white",
           "linecolor": "white",
           "ticks": "",
           "title": {
            "standoff": 15
           },
           "zerolinecolor": "white",
           "zerolinewidth": 2
          }
         }
        },
        "title": {
         "text": "연도별 원도심 구역 고령인구 비율 변화"
        },
        "xaxis": {
         "anchor": "y",
         "domain": [
          0,
          1
         ],
         "range": [
          2020.5,
          2023.5
         ],
         "showgrid": false,
         "showticklabels": true,
         "tickmode": "array",
         "ticktext": [
          "2021",
          "2022",
          "2023"
         ],
         "tickvals": [
          2021,
          2022,
          2023
         ],
         "title": {
          "text": "연도"
         }
        },
        "yaxis": {
         "anchor": "x",
         "domain": [
          0,
          1
         ],
         "showgrid": true,
         "showticklabels": true,
         "title": {
          "text": "value"
         }
        }
       }
      }
     },
     "metadata": {},
     "output_type": "display_data"
    }
   ],
   "source": [
    "fig = px.line(pop_df, x='연도', y=['고령인구 비율', '비고령인구 비율'], labels={'x':'연도', 'y':'인구비율(%)'}, title='연도별 원도심 구역 고령인구 비율 변화')\n",
    "fig.update_traces(mode='lines+markers')\n",
    "\n",
    "# 각 마커 위에 주석을 추가\n",
    "for i in range(len(year_lst)):\n",
    "    fig.add_annotation(\n",
    "        x=pop_df['연도'][i],\n",
    "        y=pop_df['고령인구 비율'][i] + 4,\n",
    "        text=f\"{pop_df['고령인구 비율'][i]}%\",\n",
    "        showarrow=False,\n",
    "    )\n",
    "\n",
    "for i in range(len(year_lst)):\n",
    "    fig.add_annotation(\n",
    "        x=pop_df['연도'][i],\n",
    "        y=pop_df['비고령인구 비율'][i] + 4,\n",
    "        text=f\"{pop_df['비고령인구 비율'][i]}%\",\n",
    "        showarrow=False,\n",
    "    )\n",
    "\n",
    "fig.update_xaxes(\n",
    "        showticklabels=True, \n",
    "        showgrid=False, \n",
    "        tickmode='array',\n",
    "        range=[2020.5, 2023.5],\n",
    "        tickvals=[2021, 2022, 2023],  # x축에 표시할 값\n",
    "        ticktext=['2021', '2022', '2023'],  # x축에 표시할 텍스트\n",
    "    )\n",
    "fig.update_yaxes(\n",
    "    showticklabels=True, \n",
    "    showgrid=True,\n",
    "    )\n",
    "# 범례 위치 설정 및 범례 이름 변경\n",
    "fig.update_layout(\n",
    "    legend=dict(x=1, y=1),\n",
    "    legend_title_text='구분',\n",
    ")\n",
    "fig.show()"
   ]
  },
  {
   "cell_type": "markdown",
   "metadata": {},
   "source": [
    "#### 아산시 거주인구 시각화(격자매핑)"
   ]
  },
  {
   "cell_type": "code",
   "execution_count": 137,
   "metadata": {},
   "outputs": [],
   "source": [
    "# 격자 ID와 격자 폴리곤 각각을 매핑한 딕셔너리 생성\n",
    "map_dic = {}\n",
    "for _, row in grid_map_df.iterrows():\n",
    "    map_dic[row['properties.gid']] = row['geometry']\n",
    "\n",
    "# 생성된 map_dic에 filtered_respop의 gid를 매핑하여 'geometry' column 생성\n",
    "geometry_lst = []\n",
    "for _, row in grid_respop.iterrows():\n",
    "    geometry_lst.append(map_dic[row['gid']])\n",
    "grid_respop['geometry'] = geometry_lst"
   ]
  },
  {
   "cell_type": "code",
   "execution_count": null,
   "metadata": {},
   "outputs": [],
   "source": [
    "# color 컬럼 생성 및 조건에 따라 값 설정\n",
    "def get_color(population, q75, q50, q25):\n",
    "    if population > q75:\n",
    "        return 'red'\n",
    "    elif population > q50:\n",
    "        return 'orange'\n",
    "    elif population > q25:\n",
    "        return 'yellow'\n",
    "    else:\n",
    "        return 'green'\n",
    "\n",
    "# 범례 생성\n",
    "legend_html = \"\"\"\n",
    "     <div style=\"position: fixed; \n",
    "     bottom: 50px; left: 50px; width: 350px; height: 130px; \n",
    "     border:2px solid grey; z-index:9999; font-size:14px;\n",
    "     background-color: rgba(255, 255, 255, 1);\n",
    "     \"> &nbsp; 거주인구 범례 <br>\n",
    "     &nbsp; <i style=\"background:red\">&nbsp;</i>&nbsp; 거주인구 상위 25% <br>\n",
    "     &nbsp; <i style=\"background:orange\">&nbsp;</i>&nbsp; 거주인구 상위 50% <br>\n",
    "     &nbsp; <i style=\"background:yellow\">&nbsp;</i>&nbsp; 거주인구 상위 75% <br>\n",
    "     &nbsp; <i style=\"background:green\">&nbsp;</i>&nbsp; 거주인구 상위 100%<br>\n",
    "     &nbsp; <i style=\"background:white\">&nbsp;</i>&nbsp; 거주민 없는 구역\n",
    "     </div>\n",
    "     \"\"\"\n",
    "\n",
    "# map 생성\n",
    "m = folium.Map(location=Asan, tiles='cartodbpositron', zoom_start=11)\n",
    "\n",
    "# 기본 배경지도를 항상 표시하도록 설정 및 기본 grid(격자) 추가\n",
    "folium.TileLayer('cartodbpositron').add_to(m)\n",
    "\n",
    "# 행정구역 polygon 추가\n",
    "for _, row in asan_gdf.iterrows() :\n",
    "    folium.GeoJson(\n",
    "        row['geometry'],\n",
    "        name=row['ADM_NM'],\n",
    "        style_function=lambda feature: {\n",
    "            'fillColor': 'none',\n",
    "            'color': 'black',\n",
    "            'weight': 1\n",
    "        }).add_to(m)\n",
    "\n",
    "# 연도별 레이어 추가. 체크해제(비활성화)된 상태로 표시되도록 함\n",
    "m_2021 = folium.FeatureGroup(name=\"2021년\", overlay=False)\n",
    "m_2022 = folium.FeatureGroup(name=\"2022년\", overlay=False)\n",
    "m_2023 = folium.FeatureGroup(name=\"2023년\", overlay=False)\n",
    "\n",
    "# 연도와 레이어를 매핑하려 dict 형식으로 저장\n",
    "year_lst = [str(year) for year in range(2021, 2024)]\n",
    "layers_lst = [m_2021, m_2022, m_2023]\n",
    "layers_dic = {}\n",
    "for year, layer in zip(year_lst, layers_lst):\n",
    "    layers_dic[year] = layer\n",
    "\n",
    "# 연도별 데이터프레임을 만들고 그 연도에 해당하는 레이어에 추가\n",
    "for year in year_lst:  # 2021부터 2023까지의 연도\n",
    "    filtered_grid_respop_year = grid_respop[grid_respop['year'] == year]\n",
    "    max_v = filtered_grid_respop_year['인구'].max()\n",
    "    # 인구의 상위 25%, 50%, 75%에 해당하는 값 계산\n",
    "    q25 = filtered_grid_respop_year['인구'].quantile(0.25)\n",
    "    q50 = filtered_grid_respop_year['인구'].quantile(0.50)\n",
    "    q75 = filtered_grid_respop_year['인구'].quantile(0.75)\n",
    "    filtered_grid_respop_year['color'] = filtered_grid_respop_year['인구'].apply(lambda x : get_color(x, q75, q50, q25))\n",
    "\n",
    "    # 'gid' 값을 기준으로 그룹화\n",
    "    for gid in tqdm(filtered_grid_respop_year['gid'].unique()):\n",
    "        subset = filtered_grid_respop_year[filtered_grid_respop_year['gid'] == gid].copy()\n",
    "        subset_pop = subset['인구'].iloc[0]\n",
    "        color = subset['color'].iloc[0]\n",
    "        folium.GeoJson(\n",
    "            filtered_grid_respop_year[filtered_grid_respop_year['gid'] == gid]['geometry'].iloc[0],\n",
    "            style_function=lambda feature, color=color: {\n",
    "                'fillColor': color,\n",
    "                'color': 'black',\n",
    "                'weight': 1}\n",
    "        ).add_to(layers_dic[year])\n",
    "    \n",
    "for layer_instance in layers_dic.values():\n",
    "    layer_instance.add_to(m)\n",
    "\n",
    "# LayerControl을 사용하여 연도 선택\n",
    "folium.LayerControl(collapsed=False).add_to(m)\n",
    "\n",
    "# 범례 추가\n",
    "m.get_root().html.add_child(folium.Element(legend_html))\n",
    "m"
   ]
  },
  {
   "cell_type": "code",
   "execution_count": null,
   "metadata": {},
   "outputs": [],
   "source": [
    "m.save(\"visualization/1. 아산시 인구변화 분석/아산시 거주인구 시각화(격자매핑).html\")"
   ]
  },
  {
   "cell_type": "markdown",
   "metadata": {},
   "source": [
    "#### 아산시 거주인구 HEATMAP - 연도선택"
   ]
  },
  {
   "cell_type": "code",
   "execution_count": null,
   "metadata": {},
   "outputs": [],
   "source": [
    "# 지도 생성\n",
    "m = folium.Map(location=Asan, tiles='cartodbpositron', zoom_start=11)\n",
    "\n",
    "roal_geojson = roadsystem_df['geometry'].to_json()\n",
    "roal_layer = folium.GeoJson(\n",
    "    roal_geojson,\n",
    "    name=\"도로망\",\n",
    "    style_function=lambda feature: {\n",
    "        'fillColor': 'none',\n",
    "        'color': 'gray',\n",
    "        'weight': 3\n",
    "    })\n",
    "roal_layer.add_to(m)\n",
    "\n",
    "# 행정구역 polygon 추가\n",
    "for _, row in asan_gdf.iterrows() :\n",
    "    folium.GeoJson(\n",
    "        row['geometry'],\n",
    "        name=row['ADM_NM'],\n",
    "        style_function=lambda feature: {\n",
    "            'fillColor': 'none',\n",
    "            'color': 'black',\n",
    "            'weight': 1\n",
    "        }).add_to(m)\n",
    "\n",
    "# 기본 배경지도를 항상 표시하도록 설정\n",
    "folium.TileLayer('cartodbpositron', overlay=False).add_to(m)\n",
    "\n",
    "# 연도별 레이어 추가. 체크해제(비활성화)된 상태로 표시되도록 함\n",
    "m_2021 = folium.FeatureGroup(name=\"2021년\", overlay=False)\n",
    "m_2022 = folium.FeatureGroup(name=\"2022년\", overlay=False)\n",
    "m_2023 = folium.FeatureGroup(name=\"2023년\", overlay=False)\n",
    "\n",
    "# 연도와 레이어를 매핑하려 dict 형식으로 저장\n",
    "year_lst = [str(year) for year in range(2021, 2024)]\n",
    "layers_lst = [m_2021, m_2022, m_2023]\n",
    "layers_dic = {}\n",
    "for year, layer in zip(year_lst, layers_lst):\n",
    "    layers_dic[year] = layer\n",
    "\n",
    "# 연도별 데이터프레임을 만들고 레이어 추가\n",
    "for year in year_lst:  # 2021부터 2023까지의 연도\n",
    "    subset = grid_respop[grid_respop['year'] == year]\n",
    "    # '인구'과 'geometry'을 사용하여 HeatMap 생성\n",
    "    heat_data = [[point.centroid.xy[1][0], point.centroid.xy[0][0], aging] for point, aging in zip(subset['geometry'], subset['인구'])]\n",
    "    HeatMap(heat_data, max_opacity=0.6, radius=20).add_to(layers_dic[year])\n",
    "\n",
    "for layer_instance in layers_dic.values():\n",
    "    layer_instance.add_to(m)\n",
    "\n",
    "# LayerControl을 사용하여 연도 선택\n",
    "folium.LayerControl(collapsed=False).add_to(m)\n",
    "\n",
    "# 지도 출력\n",
    "m"
   ]
  },
  {
   "cell_type": "code",
   "execution_count": null,
   "metadata": {},
   "outputs": [],
   "source": [
    "m.save(\"visualization/1. 아산시 인구변화 분석/아산시 거주인구 HEATMAP.html\")"
   ]
  },
  {
   "attachments": {},
   "cell_type": "markdown",
   "metadata": {},
   "source": [
    "#### 아산시 거주인구 고령화 정도 시각화(격자매핑)"
   ]
  },
  {
   "cell_type": "code",
   "execution_count": null,
   "metadata": {},
   "outputs": [],
   "source": [
    "#  고령화 정도에 따라 grid색상을 지정하는 함수\n",
    "def rate_color(rate):\n",
    "    if rate > 20:\n",
    "        return 'RGBA(255,0,1)' # 빨간색\n",
    "    elif 20 > rate >= 14:\n",
    "        return 'RGBA(255,165,1)' # 주황색\n",
    "    elif 14 > rate >= 7:\n",
    "        return 'RGBA(255,255,1)' # 노란색\n",
    "    elif 7 > rate >= 0:\n",
    "        return 'RGBA(0,128,1)' # 초록색\n",
    "\n",
    "# 범례 생성\n",
    "legend_html = \"\"\"\n",
    "     <div style=\"position: fixed; \n",
    "     bottom: 50px; left: 50px; width: 350px; height: 130px; \n",
    "     border:2px solid grey; z-index:9999; font-size:14px;\n",
    "     background-color: rgba(255, 255, 255, 1);\n",
    "     \"> &nbsp; 고령화 정도 범례 <br>\n",
    "     &nbsp; <i style=\"background:red\">&nbsp;</i>&nbsp; 초고령 구역 (60세 이상인구 20% 이상)<br>\n",
    "     &nbsp; <i style=\"background:orange\">&nbsp;</i>&nbsp; 고령 구역 (60세 이상인구 14% 이상 20% 이하)<br>\n",
    "     &nbsp; <i style=\"background:yellow\">&nbsp;</i>&nbsp; 고령화 구역 (60세 이상인구 7% 이상 14% 이하)<br>\n",
    "     &nbsp; <i style=\"background:green\">&nbsp;</i>&nbsp; 일반 구역 (60세 이상인구 7% 이하)<br>\n",
    "     &nbsp; <i style=\"background:white\">&nbsp;</i>&nbsp; 거주민 없는 구역\n",
    "     </div>\n",
    "     \"\"\"\n",
    "\n",
    "# map 생성\n",
    "m = folium.Map(location=Asan, tiles='cartodbpositron', zoom_start=11)\n",
    "\n",
    "# 기본 배경지도를 항상 표시하도록 설정 및 기본 grid(격자) 추가\n",
    "folium.TileLayer('cartodbpositron').add_to(m)\n",
    "\n",
    "# 행정구역 polygon 추가\n",
    "for _, row in asan_gdf.iterrows() :\n",
    "    folium.GeoJson(\n",
    "        row['geometry'],\n",
    "        name=row['ADM_NM'],\n",
    "        style_function=lambda feature: {\n",
    "            'fillColor': 'none',\n",
    "            'color': 'black',\n",
    "            'weight': 1\n",
    "        }).add_to(m)\n",
    "\n",
    "# 연도별 레이어 추가. 체크해제(비활성화)된 상태로 표시되도록 함\n",
    "m_2021 = folium.FeatureGroup(name=\"2021년\", overlay=False)\n",
    "m_2022 = folium.FeatureGroup(name=\"2022년\", overlay=False)\n",
    "m_2023 = folium.FeatureGroup(name=\"2023년\", overlay=False)\n",
    "\n",
    "# 연도와 레이어를 매핑하려 dict 형식으로 저장\n",
    "year_lst = [str(year) for year in range(2021, 2024)]\n",
    "layers_lst = [m_2021, m_2022, m_2023]\n",
    "layers_dic = {}\n",
    "for year, layer in zip(year_lst, layers_lst):\n",
    "    layers_dic[year] = layer\n",
    "\n",
    "# 연도별 데이터프레임을 만들고 그 연도에 해당하는 레이어에 추가\n",
    "for year in year_lst:  # 2021부터 2023까지의 연도\n",
    "    filtered_grid_respop_year = grid_respop[grid_respop['year'] == year]\n",
    "\n",
    "    # 'gid' 값을 기준으로 그룹화\n",
    "    for gid in tqdm(filtered_grid_respop_year['gid'].unique()):\n",
    "        subset = filtered_grid_respop_year[filtered_grid_respop_year['gid'] == gid].copy()\n",
    "        rate = subset['고령인구_비율'].iloc[0]\n",
    "        color = rate_color(rate)\n",
    "        subset['고령인구_비율'] = subset['고령인구_비율'].apply(lambda x: str(x) + '%')\n",
    "\n",
    "        # subset_popup 데이터프레임을 HTML로 변환하여 popup text에 저장(격자를 클릭하면 df 팝업됨)\n",
    "        subset_popup = subset.iloc[:, 1:-1].style.hide(axis='index').set_properties(\n",
    "            **{'border': '1px solid black'}).to_html()  # [['연도', '고령인구_비율']]\n",
    "        popup_text = f\"<div style='max-height: 200px; max-width: 700px; overflow-y: auto;'>{subset_popup}</div>\"\n",
    "        color = rate_color(rate)\n",
    "        folium.GeoJson(\n",
    "            filtered_grid_respop_year[filtered_grid_respop_year['gid'] == gid]['geometry'].iloc[0],\n",
    "            style_function=lambda feature, color=color: {\n",
    "                'fillColor': color,\n",
    "                'color': 'black',\n",
    "                'weight': 1}\n",
    "        ).add_to(layers_dic[year]).add_child(folium.Popup(popup_text, max_width=1200), name=str(year))\n",
    "    \n",
    "for layer_instance in layers_dic.values():\n",
    "    layer_instance.add_to(m)\n",
    "\n",
    "# LayerControl을 사용하여 연도 선택\n",
    "folium.LayerControl(collapsed=False).add_to(m)\n",
    "\n",
    "# 범례 추가\n",
    "m.get_root().html.add_child(folium.Element(legend_html))\n",
    "m"
   ]
  },
  {
   "cell_type": "code",
   "execution_count": null,
   "metadata": {},
   "outputs": [],
   "source": [
    "m.save(\"visualization/1. 아산시 인구변화 분석/아산시 고령화정도 시각화(격자매핑).html\")"
   ]
  },
  {
   "attachments": {},
   "cell_type": "markdown",
   "metadata": {},
   "source": [
    "#### 아산시 거주인구 고령화 정도 HEATMAP - 연도선택 가능"
   ]
  },
  {
   "cell_type": "code",
   "execution_count": null,
   "metadata": {},
   "outputs": [],
   "source": [
    "# 지도 생성\n",
    "m = folium.Map(location=Asan, tiles='cartodbpositron', zoom_start=11)\n",
    "\n",
    "roal_geojson = roadsystem_df['geometry'].to_json()\n",
    "roal_layer = folium.GeoJson(\n",
    "    roal_geojson,\n",
    "    name=\"도로망\",\n",
    "    style_function=lambda feature: {\n",
    "        'fillColor': 'none',\n",
    "        'color': 'gray',\n",
    "        'weight': 3\n",
    "    })\n",
    "roal_layer.add_to(m)\n",
    "\n",
    "# 행정구역 polygon 추가\n",
    "for _, row in asan_gdf.iterrows() :\n",
    "    folium.GeoJson(\n",
    "        row['geometry'],\n",
    "        name=row['ADM_NM'],\n",
    "        style_function=lambda feature: {\n",
    "            'fillColor': 'none',\n",
    "            'color': 'black',\n",
    "            'weight': 1\n",
    "        }).add_to(m)\n",
    "    \n",
    "# 기본 배경지도를 항상 표시하도록 설정\n",
    "folium.TileLayer('cartodbpositron', overlay=False).add_to(m)\n",
    "\n",
    "# 연도별 레이어 추가. 체크해제(비활성화)된 상태로 표시되도록 함\n",
    "m_2021 = folium.FeatureGroup(name=\"2021년\", overlay=False)\n",
    "m_2022 = folium.FeatureGroup(name=\"2022년\", overlay=False)\n",
    "m_2023 = folium.FeatureGroup(name=\"2023년\", overlay=False)\n",
    "\n",
    "# 연도와 레이어를 매핑하려 dict 형식으로 저장\n",
    "year_lst = [str(year) for year in range(2021, 2024)]\n",
    "layers_lst = [m_2021, m_2022, m_2023]\n",
    "layers_dic = {}\n",
    "for year, layer in zip(year_lst, layers_lst):\n",
    "    layers_dic[year] = layer\n",
    "\n",
    "# 연도별 데이터프레임을 만들고 레이어 추가\n",
    "for year in year_lst:  # 2021부터 2023까지의 연도\n",
    "    subset = grid_respop[grid_respop['year'] == year]\n",
    "    # '인구'과 'geometry'을 사용하여 HeatMap 생성\n",
    "    heat_data = [[point.centroid.xy[1][0], point.centroid.xy[0][0], aging] for point, aging in zip(subset['geometry'], subset['고령인구_비율'])]\n",
    "    HeatMap(heat_data, max_opacity=0.6, radius=20).add_to(layers_dic[year])\n",
    "for layer_instance in layers_dic.values():\n",
    "    layer_instance.add_to(m)\n",
    "    \n",
    "# LayerControl을 사용하여 연도 선택\n",
    "folium.LayerControl(collapsed=False).add_to(m)\n",
    "\n",
    "# 지도 출력\n",
    "m"
   ]
  },
  {
   "cell_type": "code",
   "execution_count": null,
   "metadata": {},
   "outputs": [],
   "source": [
    "m.save(\"visualization/1. 아산시 인구변화 분석/아산시 고령화정도 HEATMAP.html\")"
   ]
  },
  {
   "cell_type": "markdown",
   "metadata": {},
   "source": [
    "#### 아산시 연도별 유동인구"
   ]
  },
  {
   "cell_type": "code",
   "execution_count": null,
   "metadata": {},
   "outputs": [
    {
     "name": "stderr",
     "output_type": "stream",
     "text": [
      "c:\\Users\\HJK\\anaconda3\\envs\\GIS\\lib\\site-packages\\pyproj\\crs\\crs.py:141: FutureWarning:\n",
      "\n",
      "'+init=<authority>:<code>' syntax is deprecated. '<authority>:<code>' is the preferred initialization method. When making the change, be mindful of axis order changes: https://pyproj4.github.io/pyproj/stable/gotchas.html#axis-order-changes-in-proj-6\n",
      "\n",
      "c:\\Users\\HJK\\anaconda3\\envs\\GIS\\lib\\site-packages\\pyproj\\crs\\crs.py:141: FutureWarning:\n",
      "\n",
      "'+init=<authority>:<code>' syntax is deprecated. '<authority>:<code>' is the preferred initialization method. When making the change, be mindful of axis order changes: https://pyproj4.github.io/pyproj/stable/gotchas.html#axis-order-changes-in-proj-6\n",
      "\n"
     ]
    }
   ],
   "source": [
    "# 유동인구 df 로드\n",
    "floating_population_df = pd.read_csv('SBJ_2405_001/25.아산시_성연령별_유동인구.csv')\n",
    "floating_population_df['std_ym'] = floating_population_df['std_ym'].astype(str)\n",
    "floating_population_df = geo_transform(floating_population_df)\n",
    "floating_population_df['pop'] = floating_population_df.iloc[:, 1:-3].sum(axis=1).copy()\n",
    "col_lst = list(floating_population_df.columns[:1]) + list(floating_population_df.columns[-1:]) + list(floating_population_df.columns[-2:-1])\n",
    "floating_population_df = floating_population_df[col_lst]\n",
    "floating_population_df['std_ym'] = floating_population_df['std_ym'].apply(lambda x:x[:4])\n",
    "\n",
    "# 유동인구 정규화\n",
    "max_val = floating_population_df['pop'].max()\n",
    "floating_population_df['pop'] = floating_population_df['pop'].apply(lambda x : round((x/max_val)*100,2))\n",
    "\n",
    "floating_population_dic = {}\n",
    "for year in year_lst:\n",
    "    floating_population_dic[year] = floating_population_df[floating_population_df['std_ym'] == year]"
   ]
  },
  {
   "cell_type": "code",
   "execution_count": null,
   "metadata": {},
   "outputs": [],
   "source": [
    "# 지도 생성\n",
    "m = folium.Map(location=Asan, tiles='cartodbpositron', zoom_start=11)\n",
    "\n",
    "roal_geojson = roadsystem_df['geometry'].to_json()\n",
    "roal_layer = folium.GeoJson(\n",
    "    roal_geojson,\n",
    "    name=\"도로망\",\n",
    "    style_function=lambda feature: {\n",
    "        'fillColor': 'none',\n",
    "        'color': 'gray',\n",
    "        'weight': 3\n",
    "    })\n",
    "roal_layer.add_to(m)\n",
    "\n",
    "# 행정구역 polygon 추가\n",
    "for _, row in asan_gdf.iterrows() :\n",
    "    folium.GeoJson(\n",
    "        row['geometry'],\n",
    "        name=row['ADM_NM'],\n",
    "        style_function=lambda feature: {\n",
    "            'fillColor': 'none',\n",
    "            'color': 'black',\n",
    "            'weight': 1\n",
    "        }).add_to(m)\n",
    "    \n",
    "# 기본 배경지도를 항상 표시하도록 설정\n",
    "folium.TileLayer('cartodbpositron', overlay=False).add_to(m)\n",
    "\n",
    "# 연도별 레이어 추가. 체크해제(비활성화)된 상태로 표시되도록 함\n",
    "m_2021 = folium.FeatureGroup(name=\"2021년\", overlay=False)\n",
    "m_2022 = folium.FeatureGroup(name=\"2022년\", overlay=False)\n",
    "m_2023 = folium.FeatureGroup(name=\"2023년\", overlay=False)\n",
    "\n",
    "# 연도와 레이어를 매핑하려 dict 형식으로 저장\n",
    "year_lst = [str(year) for year in range(2021, 2024)]\n",
    "layers_lst = [m_2021, m_2022, m_2023]\n",
    "layers_dic = {}\n",
    "for year, layer in zip(year_lst, layers_lst):\n",
    "    layers_dic[year] = layer\n",
    "\n",
    "# 연도별 데이터프레임을 만들고 레이어 추가\n",
    "for year in year_lst:\n",
    "    # 'geometry' 열의 값을 위치 정보로 사용하여 유동인구 HeatMap 생성\n",
    "    heat_data = [[point.centroid.xy[1][0], point.centroid.xy[0][0], floating] for point, floating in tqdm(zip(floating_population_dic[year]['geometry'], floating_population_dic[year]['pop']))]\n",
    "    HeatMap(heat_data, max_opacity=0.6, radius=15).add_to(layers_dic[year])\n",
    "    \n",
    "for layer_instance in layers_dic.values():\n",
    "    layer_instance.add_to(m)\n",
    "\n",
    "# LayerControl을 사용하여 연도 선택\n",
    "folium.LayerControl(collapsed=False).add_to(m)\n",
    "\n",
    "# 지도 출력\n",
    "m"
   ]
  },
  {
   "cell_type": "code",
   "execution_count": null,
   "metadata": {},
   "outputs": [],
   "source": [
    "m.save(\"visualization/1. 아산시 인구변화 분석/아산시 연도별 유동인구 HEATMAP.html\")"
   ]
  },
  {
   "cell_type": "markdown",
   "metadata": {},
   "source": [
    "#### 아산시 시간대별 유동인구"
   ]
  },
  {
   "cell_type": "code",
   "execution_count": null,
   "metadata": {},
   "outputs": [
    {
     "name": "stderr",
     "output_type": "stream",
     "text": [
      "c:\\Users\\HJK\\anaconda3\\envs\\GIS\\lib\\site-packages\\pyproj\\crs\\crs.py:141: FutureWarning:\n",
      "\n",
      "'+init=<authority>:<code>' syntax is deprecated. '<authority>:<code>' is the preferred initialization method. When making the change, be mindful of axis order changes: https://pyproj4.github.io/pyproj/stable/gotchas.html#axis-order-changes-in-proj-6\n",
      "\n",
      "c:\\Users\\HJK\\anaconda3\\envs\\GIS\\lib\\site-packages\\pyproj\\crs\\crs.py:141: FutureWarning:\n",
      "\n",
      "'+init=<authority>:<code>' syntax is deprecated. '<authority>:<code>' is the preferred initialization method. When making the change, be mindful of axis order changes: https://pyproj4.github.io/pyproj/stable/gotchas.html#axis-order-changes-in-proj-6\n",
      "\n",
      "c:\\Users\\HJK\\anaconda3\\envs\\GIS\\lib\\site-packages\\geopandas\\geodataframe.py:1538: SettingWithCopyWarning:\n",
      "\n",
      "\n",
      "A value is trying to be set on a copy of a slice from a DataFrame.\n",
      "Try using .loc[row_indexer,col_indexer] = value instead\n",
      "\n",
      "See the caveats in the documentation: https://pandas.pydata.org/pandas-docs/stable/user_guide/indexing.html#returning-a-view-versus-a-copy\n",
      "\n",
      "c:\\Users\\HJK\\anaconda3\\envs\\GIS\\lib\\site-packages\\geopandas\\geodataframe.py:1538: SettingWithCopyWarning:\n",
      "\n",
      "\n",
      "A value is trying to be set on a copy of a slice from a DataFrame.\n",
      "Try using .loc[row_indexer,col_indexer] = value instead\n",
      "\n",
      "See the caveats in the documentation: https://pandas.pydata.org/pandas-docs/stable/user_guide/indexing.html#returning-a-view-versus-a-copy\n",
      "\n",
      "c:\\Users\\HJK\\anaconda3\\envs\\GIS\\lib\\site-packages\\geopandas\\geodataframe.py:1538: SettingWithCopyWarning:\n",
      "\n",
      "\n",
      "A value is trying to be set on a copy of a slice from a DataFrame.\n",
      "Try using .loc[row_indexer,col_indexer] = value instead\n",
      "\n",
      "See the caveats in the documentation: https://pandas.pydata.org/pandas-docs/stable/user_guide/indexing.html#returning-a-view-versus-a-copy\n",
      "\n"
     ]
    }
   ],
   "source": [
    "# 유동인구 df 로드\n",
    "floating_population_df_T = pd.read_csv('SBJ_2405_001/26.아산시_시간대별_유동인구.csv')\n",
    "floating_population_df_T['std_ym'] = floating_population_df_T['std_ym'].astype(str)\n",
    "floating_population_df_T = geo_transform(floating_population_df_T)\n",
    "floating_population_df_T['std_ym'] = floating_population_df_T['std_ym'].apply(lambda x:x[:4])\n",
    "\n",
    "# 열 이름 변경 과정\n",
    "columns_to_rename = floating_population_df_T.columns[1:-3] # 시계열 정보를 포함한 column만 선택\n",
    "new_column_names = []\n",
    "# 각 열 이름을 처리하여 새로운 열 이름을 생성\n",
    "for column_name in columns_to_rename:\n",
    "    numeric_part = column_name.split('_')[-1] # 숫자 부분 추출\n",
    "    new_column_name = f\"{numeric_part}시\" # '시'를 붙여 새로운 열 이름 생성\n",
    "    new_column_names.append(new_column_name) # new_column_names에 추가\n",
    "# 열 이름을 변경합니다.\n",
    "floating_population_df_T.rename(columns=dict(zip(columns_to_rename, new_column_names)), inplace=True)\n",
    "\n",
    "# 연도별 유동인구 분할\n",
    "floating_population_T_dic = {}\n",
    "for year in year_lst:\n",
    "    # geometry 컬럼을 문자열로 변환하여 그룹화\n",
    "    gdf = floating_population_df_T[floating_population_df_T['std_ym'] == year]\n",
    "    gdf['geometry_str'] = gdf['geometry'].astype(str)\n",
    "    # 제외할 컬럼 리스트\n",
    "    exclude_columns = ['std_ym', 'lon', 'lat', 'geometry', 'geometry_str']\n",
    "    # 그룹화할 컬럼 리스트 (제외할 컬럼을 제외한 나머지)\n",
    "    group_columns = [col for col in gdf.columns if col not in exclude_columns]\n",
    "    # geometry_str 컬럼을 기준으로 그룹화하고, 제외한 컬럼을 제외한 나머지 컬럼의 평균을 계산\n",
    "    grouped = gdf.groupby('geometry_str')[group_columns].mean()\n",
    "    # geometry_str 컬럼을 제거하고 원래 geometry 컬럼을 복원\n",
    "    grouped['geometry'] = gdf.groupby('geometry_str')['geometry'].first().values\n",
    "    # 결과를 GeoDataFrame으로 변환\n",
    "    grouped = gpd.GeoDataFrame(grouped, geometry='geometry')\n",
    "    grouped.reset_index(drop=True, inplace=True)\n",
    "    floating_population_T_dic[year] = grouped"
   ]
  },
  {
   "cell_type": "markdown",
   "metadata": {},
   "source": [
    "##### 2021년 시간대별 유동인구 변화"
   ]
  },
  {
   "cell_type": "code",
   "execution_count": null,
   "metadata": {},
   "outputs": [],
   "source": [
    "# 해당년도 df불러오기\n",
    "df_year = floating_population_T_dic['2021']\n",
    "\n",
    "# 지도 생성\n",
    "m = folium.Map(location=Asan, tiles='cartodbpositron', zoom_start=11)\n",
    "\n",
    "roal_geojson = roadsystem_df['geometry'].to_json()\n",
    "roal_layer = folium.GeoJson(\n",
    "    roal_geojson,\n",
    "    name=\"도로망\",\n",
    "    style_function=lambda feature: {\n",
    "        'fillColor': 'none',\n",
    "        'color': 'gray',\n",
    "        'weight': 3\n",
    "    })\n",
    "roal_layer.add_to(m)\n",
    "\n",
    "# 행정구역 polygon 추가\n",
    "for _, row in asan_gdf.iterrows() :\n",
    "    folium.GeoJson(\n",
    "        row['geometry'],\n",
    "        name=row['ADM_NM'],\n",
    "        style_function=lambda feature: {\n",
    "            'fillColor': 'none',\n",
    "            'color': 'black',\n",
    "            'weight': 1\n",
    "        }).add_to(m)\n",
    "    \n",
    "# 기본 배경지도를 항상 표시하도록 설정\n",
    "folium.TileLayer('cartodbpositron', overlay=False).add_to(m)\n",
    "\n",
    "# 데이터프레임에서 위도, 경도, 시간대별 데이터 추출\n",
    "latitudes = df_year['geometry'].y\n",
    "longitudes = df_year['geometry'].x\n",
    "# 시간대별 히트맵 데이터 생성\n",
    "heat_data = []\n",
    "for i in tqdm(range(24)):\n",
    "    time_column = f'{i:02}시'\n",
    "    volume = df_year[time_column]\n",
    "    heat_data_hour = [[lat, lon, vol] for lat, lon, vol in zip(latitudes, longitudes, volume)]\n",
    "    heat_data.append(heat_data_hour)\n",
    "\n",
    "# HeatMapWithTime을 추가\n",
    "plugins.HeatMapWithTime(heat_data, index=[f'{i:02}시' for i in range(24)], auto_play=False, max_opacity=0.6, radius=5, name='유동인구HEATMAP').add_to(m)\n",
    "\n",
    "\n",
    "# LayerControl을 사용하여 연도 선택\n",
    "folium.LayerControl(collapsed=False).add_to(m)\n",
    "\n",
    "# 지도 출력\n",
    "m"
   ]
  },
  {
   "cell_type": "code",
   "execution_count": null,
   "metadata": {},
   "outputs": [],
   "source": [
    "m.save(\"visualization/1. 아산시 인구변화 분석/아산시 시간대별 유동인구 2021 HEATMAP.html\")"
   ]
  },
  {
   "cell_type": "markdown",
   "metadata": {},
   "source": [
    "##### 2022년 시간대별 유동인구 변화"
   ]
  },
  {
   "cell_type": "code",
   "execution_count": null,
   "metadata": {},
   "outputs": [],
   "source": [
    "# 해당년도 df불러오기\n",
    "df_year = floating_population_T_dic['2022']\n",
    "\n",
    "# 지도 생성\n",
    "m = folium.Map(location=Asan, tiles='cartodbpositron', zoom_start=11)\n",
    "\n",
    "roal_geojson = roadsystem_df['geometry'].to_json()\n",
    "roal_layer = folium.GeoJson(\n",
    "    roal_geojson,\n",
    "    name=\"도로망\",\n",
    "    style_function=lambda feature: {\n",
    "        'fillColor': 'none',\n",
    "        'color': 'gray',\n",
    "        'weight': 3\n",
    "    })\n",
    "roal_layer.add_to(m)\n",
    "\n",
    "# 행정구역 polygon 추가\n",
    "for _, row in asan_gdf.iterrows() :\n",
    "    folium.GeoJson(\n",
    "        row['geometry'],\n",
    "        name=row['ADM_NM'],\n",
    "        style_function=lambda feature: {\n",
    "            'fillColor': 'none',\n",
    "            'color': 'black',\n",
    "            'weight': 1\n",
    "        }).add_to(m)\n",
    "    \n",
    "# 기본 배경지도를 항상 표시하도록 설정\n",
    "folium.TileLayer('cartodbpositron', overlay=False).add_to(m)\n",
    "\n",
    "# 데이터프레임에서 위도, 경도, 시간대별 데이터 추출\n",
    "latitudes = df_year['geometry'].y\n",
    "longitudes = df_year['geometry'].x\n",
    "# 시간대별 히트맵 데이터 생성\n",
    "heat_data = []\n",
    "for i in tqdm(range(24)):\n",
    "    time_column = f'{i:02}시'\n",
    "    volume = df_year[time_column]\n",
    "    heat_data_hour = [[lat, lon, vol] for lat, lon, vol in zip(latitudes, longitudes, volume)]\n",
    "    heat_data.append(heat_data_hour)\n",
    "\n",
    "# HeatMapWithTime을 추가\n",
    "plugins.HeatMapWithTime(heat_data, index=[f'{i:02}시' for i in range(24)], auto_play=False, max_opacity=0.6, radius=5, name='유동인구HEATMAP').add_to(m)\n",
    "\n",
    "\n",
    "# LayerControl을 사용하여 연도 선택\n",
    "folium.LayerControl(collapsed=False).add_to(m)\n",
    "\n",
    "# 지도 출력\n",
    "m"
   ]
  },
  {
   "cell_type": "code",
   "execution_count": null,
   "metadata": {},
   "outputs": [],
   "source": [
    "m.save(\"visualization/1. 아산시 인구변화 분석/아산시 시간대별 유동인구 2022 HEATMAP.html\")"
   ]
  },
  {
   "cell_type": "markdown",
   "metadata": {},
   "source": [
    "##### 2023년 시간대별 유동인구 변화"
   ]
  },
  {
   "cell_type": "code",
   "execution_count": null,
   "metadata": {},
   "outputs": [],
   "source": [
    "# 해당년도 df불러오기\n",
    "df_year = floating_population_T_dic['2023']\n",
    "\n",
    "# 지도 생성\n",
    "m = folium.Map(location=Asan, tiles='cartodbpositron', zoom_start=11)\n",
    "\n",
    "roal_geojson = roadsystem_df['geometry'].to_json()\n",
    "roal_layer = folium.GeoJson(\n",
    "    roal_geojson,\n",
    "    name=\"도로망\",\n",
    "    style_function=lambda feature: {\n",
    "        'fillColor': 'none',\n",
    "        'color': 'gray',\n",
    "        'weight': 3\n",
    "    })\n",
    "roal_layer.add_to(m)\n",
    "\n",
    "# 행정구역 polygon 추가\n",
    "for _, row in asan_gdf.iterrows() :\n",
    "    folium.GeoJson(\n",
    "        row['geometry'],\n",
    "        name=row['ADM_NM'],\n",
    "        style_function=lambda feature: {\n",
    "            'fillColor': 'none',\n",
    "            'color': 'black',\n",
    "            'weight': 1\n",
    "        }).add_to(m)\n",
    "    \n",
    "# 기본 배경지도를 항상 표시하도록 설정\n",
    "folium.TileLayer('cartodbpositron', overlay=False).add_to(m)\n",
    "\n",
    "# 데이터프레임에서 위도, 경도, 시간대별 데이터 추출\n",
    "latitudes = df_year['geometry'].y\n",
    "longitudes = df_year['geometry'].x\n",
    "# 시간대별 히트맵 데이터 생성\n",
    "heat_data = []\n",
    "for i in tqdm(range(24)):\n",
    "    time_column = f'{i:02}시'\n",
    "    volume = df_year[time_column]\n",
    "    heat_data_hour = [[lat, lon, vol] for lat, lon, vol in zip(latitudes, longitudes, volume)]\n",
    "    heat_data.append(heat_data_hour)\n",
    "\n",
    "# HeatMapWithTime을 추가\n",
    "plugins.HeatMapWithTime(heat_data, index=[f'{i:02}시' for i in range(24)], auto_play=False, max_opacity=0.6, radius=5, name='유동인구HEATMAP').add_to(m)\n",
    "\n",
    "\n",
    "# LayerControl을 사용하여 연도 선택\n",
    "folium.LayerControl(collapsed=False).add_to(m)\n",
    "\n",
    "# 지도 출력\n",
    "m"
   ]
  },
  {
   "cell_type": "code",
   "execution_count": null,
   "metadata": {},
   "outputs": [],
   "source": [
    "m.save(\"visualization/1. 아산시 인구변화 분석/아산시 시간대별 유동인구 2023 HEATMAP.html\")"
   ]
  },
  {
   "cell_type": "markdown",
   "metadata": {},
   "source": [
    "#### 아산시 요일별 유동인구"
   ]
  },
  {
   "cell_type": "code",
   "execution_count": null,
   "metadata": {},
   "outputs": [
    {
     "name": "stderr",
     "output_type": "stream",
     "text": [
      "c:\\Users\\HJK\\anaconda3\\envs\\GIS\\lib\\site-packages\\pyproj\\crs\\crs.py:141: FutureWarning:\n",
      "\n",
      "'+init=<authority>:<code>' syntax is deprecated. '<authority>:<code>' is the preferred initialization method. When making the change, be mindful of axis order changes: https://pyproj4.github.io/pyproj/stable/gotchas.html#axis-order-changes-in-proj-6\n",
      "\n",
      "c:\\Users\\HJK\\anaconda3\\envs\\GIS\\lib\\site-packages\\pyproj\\crs\\crs.py:141: FutureWarning:\n",
      "\n",
      "'+init=<authority>:<code>' syntax is deprecated. '<authority>:<code>' is the preferred initialization method. When making the change, be mindful of axis order changes: https://pyproj4.github.io/pyproj/stable/gotchas.html#axis-order-changes-in-proj-6\n",
      "\n",
      "c:\\Users\\HJK\\anaconda3\\envs\\GIS\\lib\\site-packages\\geopandas\\geodataframe.py:1538: SettingWithCopyWarning:\n",
      "\n",
      "\n",
      "A value is trying to be set on a copy of a slice from a DataFrame.\n",
      "Try using .loc[row_indexer,col_indexer] = value instead\n",
      "\n",
      "See the caveats in the documentation: https://pandas.pydata.org/pandas-docs/stable/user_guide/indexing.html#returning-a-view-versus-a-copy\n",
      "\n",
      "c:\\Users\\HJK\\anaconda3\\envs\\GIS\\lib\\site-packages\\geopandas\\geodataframe.py:1538: SettingWithCopyWarning:\n",
      "\n",
      "\n",
      "A value is trying to be set on a copy of a slice from a DataFrame.\n",
      "Try using .loc[row_indexer,col_indexer] = value instead\n",
      "\n",
      "See the caveats in the documentation: https://pandas.pydata.org/pandas-docs/stable/user_guide/indexing.html#returning-a-view-versus-a-copy\n",
      "\n",
      "c:\\Users\\HJK\\anaconda3\\envs\\GIS\\lib\\site-packages\\geopandas\\geodataframe.py:1538: SettingWithCopyWarning:\n",
      "\n",
      "\n",
      "A value is trying to be set on a copy of a slice from a DataFrame.\n",
      "Try using .loc[row_indexer,col_indexer] = value instead\n",
      "\n",
      "See the caveats in the documentation: https://pandas.pydata.org/pandas-docs/stable/user_guide/indexing.html#returning-a-view-versus-a-copy\n",
      "\n"
     ]
    }
   ],
   "source": [
    "floating_population_df_D = pd.read_csv('SBJ_2405_001/27.아산시_요일별_유동인구.csv')\n",
    "\n",
    "floating_population_df_D['std_ym'] = floating_population_df_D['std_ym'].astype(str)\n",
    "floating_population_df_D = geo_transform(floating_population_df_D)\n",
    "floating_population_df_D['std_ym'] = floating_population_df_D['std_ym'].apply(lambda x:x[:4])\n",
    "\n",
    "# 열 이름 변경 과정\n",
    "columns_to_rename = floating_population_df_D.columns[1:-3] # 시계열 정보를 포함한 column만 선택\n",
    "new_column_names = []\n",
    "# 각 열 이름을 처리하여 새로운 열 이름을 생성\n",
    "for column_name in columns_to_rename:\n",
    "    day_part = column_name.split('_')[0] # 숫자 부분 추출\n",
    "    new_column_names.append(day_part) # new_column_names에 추가\n",
    "# 열 이름을 변경합니다.\n",
    "floating_population_df_D.rename(columns=dict(zip(columns_to_rename, new_column_names)), inplace=True)\n",
    "\n",
    "# 연도별 유동인구 분할\n",
    "floating_population_D_dic = {}\n",
    "for year in year_lst:\n",
    "    # geometry 컬럼을 문자열로 변환하여 그룹화\n",
    "    gdf = floating_population_df_D[floating_population_df_D['std_ym'] == year]\n",
    "    gdf['geometry_str'] = gdf['geometry'].astype(str)\n",
    "    # 제외할 컬럼 리스트\n",
    "    exclude_columns = ['std_ym', 'lon', 'lat', 'geometry', 'geometry_str']\n",
    "    # 그룹화할 컬럼 리스트 (제외할 컬럼을 제외한 나머지)\n",
    "    group_columns = [col for col in gdf.columns if col not in exclude_columns]\n",
    "    # geometry_str 컬럼을 기준으로 그룹화하고, 제외한 컬럼을 제외한 나머지 컬럼의 평균을 계산\n",
    "    grouped = gdf.groupby('geometry_str')[group_columns].mean()\n",
    "    # geometry_str 컬럼을 제거하고 원래 geometry 컬럼을 복원\n",
    "    grouped['geometry'] = gdf.groupby('geometry_str')['geometry'].first().values\n",
    "    # 결과를 GeoDataFrame으로 변환\n",
    "    grouped = gpd.GeoDataFrame(grouped, geometry='geometry')\n",
    "    grouped.reset_index(drop=True, inplace=True)\n",
    "    floating_population_D_dic[year] = grouped"
   ]
  },
  {
   "cell_type": "markdown",
   "metadata": {},
   "source": [
    "##### 2021년 요일별 유동인구 변화"
   ]
  },
  {
   "cell_type": "code",
   "execution_count": null,
   "metadata": {},
   "outputs": [],
   "source": [
    "# 해당년도 df불러오기\n",
    "df_year = floating_population_D_dic['2021']\n",
    "\n",
    "# 지도 생성\n",
    "m = folium.Map(location=Asan, tiles='cartodbpositron', zoom_start=11)\n",
    "\n",
    "roal_geojson = roadsystem_df['geometry'].to_json()\n",
    "roal_layer = folium.GeoJson(\n",
    "    roal_geojson,\n",
    "    name=\"도로망\",\n",
    "    style_function=lambda feature: {\n",
    "        'fillColor': 'none',\n",
    "        'color': 'gray',\n",
    "        'weight': 3\n",
    "    })\n",
    "roal_layer.add_to(m)\n",
    "\n",
    "# 행정구역 polygon 추가\n",
    "for _, row in asan_gdf.iterrows() :\n",
    "    folium.GeoJson(\n",
    "        row['geometry'],\n",
    "        name=row['ADM_NM'],\n",
    "        style_function=lambda feature: {\n",
    "            'fillColor': 'none',\n",
    "            'color': 'black',\n",
    "            'weight': 1\n",
    "        }).add_to(m)\n",
    "    \n",
    "# 기본 배경지도를 항상 표시하도록 설정\n",
    "folium.TileLayer('cartodbpositron', overlay=False).add_to(m)\n",
    "\n",
    "# 데이터프레임에서 위도, 경도, 시간대별 데이터 추출\n",
    "latitudes = df_year['geometry'].y\n",
    "longitudes = df_year['geometry'].x\n",
    "# 시간대별 히트맵 데이터 생성\n",
    "heat_data = []\n",
    "for day in tqdm(df_year.columns[:7]):\n",
    "    volume = df_year[day]\n",
    "    heat_data_hour = [[lat, lon, vol] for lat, lon, vol in zip(latitudes, longitudes, volume)]\n",
    "    heat_data.append(heat_data_hour)\n",
    "\n",
    "# HeatMapWithTime을 추가\n",
    "plugins.HeatMapWithTime(heat_data, index=[day for day in df_year.columns[:7]], auto_play=False, max_opacity=0.6, radius=3, name='유동인구HEATMAP').add_to(m)\n",
    "\n",
    "\n",
    "# LayerControl을 사용하여 연도 선택\n",
    "folium.LayerControl(collapsed=False).add_to(m)\n",
    "\n",
    "# 지도 출력\n",
    "m"
   ]
  },
  {
   "cell_type": "code",
   "execution_count": null,
   "metadata": {},
   "outputs": [],
   "source": [
    "m.save(\"visualization/1. 아산시 인구변화 분석/아산시 요일별 유동인구 2021 HEATMAP.html\")"
   ]
  },
  {
   "cell_type": "markdown",
   "metadata": {},
   "source": [
    "##### 2022년 요일별 유동인구 변화"
   ]
  },
  {
   "cell_type": "code",
   "execution_count": null,
   "metadata": {},
   "outputs": [],
   "source": [
    "# 해당년도 df불러오기\n",
    "df_year = floating_population_D_dic['2022']\n",
    "\n",
    "# 지도 생성\n",
    "m = folium.Map(location=Asan, tiles='cartodbpositron', zoom_start=11)\n",
    "\n",
    "roal_geojson = roadsystem_df['geometry'].to_json()\n",
    "roal_layer = folium.GeoJson(\n",
    "    roal_geojson,\n",
    "    name=\"도로망\",\n",
    "    style_function=lambda feature: {\n",
    "        'fillColor': 'none',\n",
    "        'color': 'gray',\n",
    "        'weight': 3\n",
    "    })\n",
    "roal_layer.add_to(m)\n",
    "\n",
    "# 행정구역 polygon 추가\n",
    "for _, row in asan_gdf.iterrows() :\n",
    "    folium.GeoJson(\n",
    "        row['geometry'],\n",
    "        name=row['ADM_NM'],\n",
    "        style_function=lambda feature: {\n",
    "            'fillColor': 'none',\n",
    "            'color': 'black',\n",
    "            'weight': 1\n",
    "        }).add_to(m)\n",
    "    \n",
    "# 기본 배경지도를 항상 표시하도록 설정\n",
    "folium.TileLayer('cartodbpositron', overlay=False).add_to(m)\n",
    "\n",
    "# 데이터프레임에서 위도, 경도, 시간대별 데이터 추출\n",
    "latitudes = df_year['geometry'].y\n",
    "longitudes = df_year['geometry'].x\n",
    "# 시간대별 히트맵 데이터 생성\n",
    "heat_data = []\n",
    "for day in tqdm(df_year.columns[:7]):\n",
    "    volume = df_year[day]\n",
    "    heat_data_hour = [[lat, lon, vol] for lat, lon, vol in zip(latitudes, longitudes, volume)]\n",
    "    heat_data.append(heat_data_hour)\n",
    "\n",
    "# HeatMapWithTime을 추가\n",
    "plugins.HeatMapWithTime(heat_data, index=[day for day in df_year.columns[:7]], auto_play=False, max_opacity=0.6, radius=3, name='유동인구HEATMAP').add_to(m)\n",
    "\n",
    "\n",
    "# LayerControl을 사용하여 연도 선택\n",
    "folium.LayerControl(collapsed=False).add_to(m)\n",
    "\n",
    "# 지도 출력\n",
    "m"
   ]
  },
  {
   "cell_type": "code",
   "execution_count": null,
   "metadata": {},
   "outputs": [],
   "source": [
    "m.save(\"visualization/1. 아산시 인구변화 분석/아산시 요일별 유동인구 2022 HEATMAP.html\")"
   ]
  },
  {
   "cell_type": "markdown",
   "metadata": {},
   "source": [
    "##### 2023년 요일별 유동인구 변화"
   ]
  },
  {
   "cell_type": "code",
   "execution_count": null,
   "metadata": {},
   "outputs": [],
   "source": [
    "# 해당년도 df불러오기\n",
    "df_year = floating_population_D_dic['2023']\n",
    "\n",
    "# 지도 생성\n",
    "m = folium.Map(location=Asan, tiles='cartodbpositron', zoom_start=11)\n",
    "\n",
    "roal_geojson = roadsystem_df['geometry'].to_json()\n",
    "roal_layer = folium.GeoJson(\n",
    "    roal_geojson,\n",
    "    name=\"도로망\",\n",
    "    style_function=lambda feature: {\n",
    "        'fillColor': 'none',\n",
    "        'color': 'gray',\n",
    "        'weight': 3\n",
    "    })\n",
    "roal_layer.add_to(m)\n",
    "\n",
    "# 행정구역 polygon 추가\n",
    "for _, row in asan_gdf.iterrows() :\n",
    "    folium.GeoJson(\n",
    "        row['geometry'],\n",
    "        name=row['ADM_NM'],\n",
    "        style_function=lambda feature: {\n",
    "            'fillColor': 'none',\n",
    "            'color': 'black',\n",
    "            'weight': 1\n",
    "        }).add_to(m)\n",
    "    \n",
    "# 기본 배경지도를 항상 표시하도록 설정\n",
    "folium.TileLayer('cartodbpositron', overlay=False).add_to(m)\n",
    "\n",
    "# 데이터프레임에서 위도, 경도, 시간대별 데이터 추출\n",
    "latitudes = df_year['geometry'].y\n",
    "longitudes = df_year['geometry'].x\n",
    "# 시간대별 히트맵 데이터 생성\n",
    "heat_data = []\n",
    "for day in tqdm(df_year.columns[:7]):\n",
    "    volume = df_year[day]\n",
    "    heat_data_hour = [[lat, lon, vol] for lat, lon, vol in zip(latitudes, longitudes, volume)]\n",
    "    heat_data.append(heat_data_hour)\n",
    "\n",
    "# HeatMapWithTime을 추가\n",
    "plugins.HeatMapWithTime(heat_data, index=[day for day in df_year.columns[:7]], auto_play=False, max_opacity=0.6, radius=3, name='유동인구HEATMAP').add_to(m)\n",
    "\n",
    "\n",
    "# LayerControl을 사용하여 연도 선택\n",
    "folium.LayerControl(collapsed=False).add_to(m)\n",
    "\n",
    "# 지도 출력\n",
    "m"
   ]
  },
  {
   "cell_type": "code",
   "execution_count": null,
   "metadata": {},
   "outputs": [],
   "source": [
    "m.save(\"visualization/1. 아산시 인구변화 분석/아산시 요일별 유동인구 2023 HEATMAP.html\")"
   ]
  }
 ],
 "metadata": {
  "kernelspec": {
   "display_name": "Python 3.8.16 ('GIS')",
   "language": "python",
   "name": "python3"
  },
  "language_info": {
   "codemirror_mode": {
    "name": "ipython",
    "version": 3
   },
   "file_extension": ".py",
   "mimetype": "text/x-python",
   "name": "python",
   "nbconvert_exporter": "python",
   "pygments_lexer": "ipython3",
   "version": "3.8.16"
  },
  "orig_nbformat": 4,
  "vscode": {
   "interpreter": {
    "hash": "4c2ab1d16d29501e38a3ee1978e97de755e76d74519759c8e0a07f6b08052ab1"
   }
  }
 },
 "nbformat": 4,
 "nbformat_minor": 2
}
