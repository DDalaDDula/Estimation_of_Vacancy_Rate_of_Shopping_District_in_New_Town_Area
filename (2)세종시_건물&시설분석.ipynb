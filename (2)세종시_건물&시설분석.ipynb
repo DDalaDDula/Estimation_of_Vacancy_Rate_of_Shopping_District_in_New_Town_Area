{
 "cells": [
  {
   "attachments": {},
   "cell_type": "markdown",
   "metadata": {},
   "source": [
    "## 기본설정 및 함수정의"
   ]
  },
  {
   "cell_type": "code",
   "execution_count": 1,
   "metadata": {},
   "outputs": [
    {
     "name": "stderr",
     "output_type": "stream",
     "text": [
      "c:\\Users\\HJK\\anaconda3\\envs\\GIS\\lib\\site-packages\\geopandas\\_compat.py:124: UserWarning:\n",
      "\n",
      "The Shapely GEOS version (3.11.2-CAPI-1.17.2) is incompatible with the GEOS version PyGEOS was compiled with (3.10.4-CAPI-1.16.2). Conversions between both will be slow.\n",
      "\n",
      "C:\\Users\\HJK\\AppData\\Local\\Temp\\ipykernel_27052\\3172343792.py:23: DeprecationWarning:\n",
      "\n",
      "Shapely 2.0 is installed, but because PyGEOS is also installed, GeoPandas still uses PyGEOS by default. However, starting with version 0.14, the default will switch to Shapely. To force to use Shapely 2.0 now, you can either uninstall PyGEOS or set the environment variable USE_PYGEOS=0. You can do this before starting the Python process, or in your code before importing geopandas:\n",
      "\n",
      "import os\n",
      "os.environ['USE_PYGEOS'] = '0'\n",
      "import geopandas\n",
      "\n",
      "In the next release, GeoPandas will switch to using Shapely by default, even if PyGEOS is installed. If you only have PyGEOS installed to get speed-ups, this switch should be smooth. However, if you are using PyGEOS directly (calling PyGEOS functions on geometries from GeoPandas), this will then stop working and you are encouraged to migrate from PyGEOS to Shapely 2.0 (https://shapely.readthedocs.io/en/latest/migration_pygeos.html).\n",
      "\n"
     ]
    }
   ],
   "source": [
    "import pandas as pd\n",
    "import numpy as np\n",
    "import plotly.express as px\n",
    "import plotly.graph_objects as go\n",
    "import plotly.graph_objs as go\n",
    "import plotly.offline as offline\n",
    "from folium.plugins import HeatMapWithTime\n",
    "from plotly.subplots import make_subplots\n",
    "import folium\n",
    "from folium import plugins\n",
    "from folium.plugins import HeatMap\n",
    "from folium import FeatureGroup\n",
    "import json\n",
    "import math\n",
    "import re\n",
    "from datetime import datetime\n",
    "import os\n",
    "import glob\n",
    "import subprocess\n",
    "from bs4 import BeautifulSoup as bs\n",
    "from shapely.geometry import Point, Polygon, LineString\n",
    "from shapely.ops import unary_union\n",
    "import geopandas as gpd\n",
    "from geopandas import GeoSeries\n",
    "import pyproj\n",
    "from tqdm import tqdm\n",
    "from keplergl import KeplerGl\n",
    "\n",
    "# tqdm의 pandas전용 메소드를 호출\n",
    "tqdm.pandas()\n",
    "# 모든 열이 생략되지 않도록 설정\n",
    "pd.set_option('display.max_columns', None)\n",
    "\n",
    "# 영등포역 위도, 경도\n",
    "sejong = [36.51430420729354, 127.29034973889941 ]\n",
    "\n",
    "# Point를만드는 함수\n",
    "def make_point(x):\n",
    "    try:\n",
    "        return Point(x)\n",
    "    except Exception as e:\n",
    "        print(f\"An error occurred: {e}\")\n",
    "        return None\n",
    "# Polygon을 만드는 함수\n",
    "def make_pol(x):\n",
    "    try:\n",
    "        return Polygon(x[0])\n",
    "    except:\n",
    "        return Polygon(x[0][0])\n",
    "    \n",
    "# Linestring을 만드는 함수\n",
    "def make_lin(x):\n",
    "    try:\n",
    "        return LineString(x)\n",
    "    except:\n",
    "        return LineString(x[0])\n",
    "\n",
    "# 데이터프레임을 GeoPandas 데이터프레임으로 변환하는 함수 정의\n",
    "def geo_transform(DataFrame) :\n",
    "    # csv to geopandas\n",
    "    # lon, lat data를 geometry로 변경\n",
    "    DataFrame['lat'] = DataFrame['lat'].astype(float)\n",
    "    DataFrame['lon'] = DataFrame['lon'].astype(float)\n",
    "    DataFrame['geometry'] = DataFrame.progress_apply(lambda row : Point([row['lon'], row['lat']]), axis=1) # 위도 및 경도롤 GeoPandas Point 객체로 변환\n",
    "    DataFrame = gpd.GeoDataFrame(DataFrame, geometry='geometry')\n",
    "    DataFrame.crs = {'init':'epsg:4326'} # geopandas 데이터프레임의 좌표계를 EPSG 4326으로 설정\n",
    "    DataFrame = DataFrame.to_crs({'init':'epsg:4326'}) # 데이터프레임의 좌표계를 자체 좌표계에서 EPSG 4326으로 변환\n",
    "    return DataFrame"
   ]
  },
  {
   "cell_type": "markdown",
   "metadata": {},
   "source": [
    "#### 세종시 행정경계(대상구역)"
   ]
  },
  {
   "cell_type": "code",
   "execution_count": 2,
   "metadata": {},
   "outputs": [],
   "source": [
    "# GeoJSON 파일 불러오기\n",
    "with open('SBJ_2406_002/11.세종시_대상구역도.geojson', encoding=\"UTF8\") as geojson_file:\n",
    "    geojson_data = json.load(geojson_file)\n",
    "object_area_df = pd.json_normalize(geojson_data['features'])\n",
    "object_area_df['geometry'] = object_area_df['geometry.coordinates'].apply(lambda x : make_pol(x))\n",
    "object_area_df.drop(columns=\"geometry.coordinates\", inplace=True)\n",
    "object_area_df.rename(columns = {'properties.EMD_NM' : 'ADM_NM'}, inplace = True)\n",
    "object_area_df = object_area_df[['ADM_NM', 'geometry']]\n",
    "\n",
    "# shp to geodataframe convert\n",
    "shapefile_path = \"SBJ_2406_002/_census_data_2023_bnd_dong_bnd_dong_29010_2023_2023\"\n",
    "sejong_gdf = gpd.read_file(shapefile_path)\n",
    "sejong_gdf = sejong_gdf.to_crs(epsg=4326) #EPSG4326 형식으로 변환\n",
    "sejong_gdf = sejong_gdf[['ADM_NM', 'geometry']]\n",
    "sejong_gdf = sejong_gdf[~sejong_gdf['ADM_NM'].str.endswith('동')]\n",
    "sejong_gdf =  pd.concat([object_area_df, sejong_gdf], ignore_index=True)\n",
    "# sejong_gdf 데이터프레임을 GeoDataFrame으로 변환\n",
    "sejong_gdf = gpd.GeoDataFrame(sejong_gdf, geometry='geometry')\n",
    "# 조건에 따라 'newtown' 열 생성 및 값 지정\n",
    "sejong_gdf['newtown'] = sejong_gdf['ADM_NM'].apply(lambda x: '신도시' if x.endswith('동') else '그외지역')"
   ]
  },
  {
   "attachments": {},
   "cell_type": "markdown",
   "metadata": {},
   "source": [
    "#### 격자(매핑용)"
   ]
  },
  {
   "cell_type": "code",
   "execution_count": 3,
   "metadata": {},
   "outputs": [],
   "source": [
    "# GeoJSON 파일 불러오기\n",
    "with open('SBJ_2406_002/4.세종시_격자(매핑용).geojson', encoding=\"UTF8\") as geojson_file:\n",
    "    geojson_data = json.load(geojson_file)\n",
    "grid_map_df = pd.json_normalize(geojson_data['features'])\n",
    "grid_map_df['geometry'] = grid_map_df['geometry.coordinates'].apply(lambda x : make_pol(x))\n",
    "grid_map_df.drop(columns=\"geometry.coordinates\", axis=1, inplace=True)\n",
    "# grid_map_df 데이터프레임을 GeoDataFrame으로 변환\n",
    "grid_map_df = gpd.GeoDataFrame(grid_map_df, geometry='geometry')"
   ]
  },
  {
   "cell_type": "markdown",
   "metadata": {},
   "source": [
    "#### 연속지적도"
   ]
  },
  {
   "cell_type": "code",
   "execution_count": 4,
   "metadata": {},
   "outputs": [],
   "source": [
    "cadastral_dic = {'전' : '밭',\n",
    "                '답' : '논',\n",
    "                '과' : '과수원',\n",
    "                '목' : '목장',\n",
    "                '임' : '임야',\n",
    "                '광' : '광천지',\n",
    "                '염' : '염전',\n",
    "                '대' : '대지',\n",
    "                '장' : '공장용지',\n",
    "                '학' : '학교용지',\n",
    "                '차' : '주차장',\n",
    "                '주' : '주유소용지',\n",
    "                '창' : '창고용지',\n",
    "                '도' : '도로',\n",
    "                '철' : '철도용지',\n",
    "                '제' : '제방',\n",
    "                '천' : '하천',\n",
    "                '구' : '도랑',\n",
    "                '유' : '유지',\n",
    "                '양' : '양어장',\n",
    "                '수' : '수도용지',\n",
    "                '공' : '공원용지',\n",
    "                '체' : '체육용지',\n",
    "                '원' : '유원지',\n",
    "                '종' : '종교용지',\n",
    "                '사' : '사적지',\n",
    "                '묘' : '묘지',\n",
    "                '잡' : '잡종지',\n",
    "                '기타' : '기타'}"
   ]
  },
  {
   "cell_type": "code",
   "execution_count": 5,
   "metadata": {},
   "outputs": [],
   "source": [
    "# GeoJSON 파일 불러오기\n",
    "with open('SBJ_2406_002/8.세종시_연속지적도.geojson', encoding=\"UTF8\") as geojson_file:\n",
    "    geojson_data = json.load(geojson_file)\n",
    "cadastral_map_df = pd.json_normalize(geojson_data['features'])\n",
    "cadastral_map_df['geometry'] = cadastral_map_df['geometry.coordinates'].apply(lambda x : make_pol(x))\n",
    "cadastral_map_df.drop(columns=\"geometry.coordinates\", inplace=True)\n",
    "# cadastral_map_df 데이터프레임을 GeoDataFrame으로 변환\n",
    "cadastral_map_df = gpd.GeoDataFrame(cadastral_map_df, geometry='geometry')\n",
    "# 정규식을 사용하여 'properties.JIBUN'을 지번과 용도로 분리\n",
    "# 지번은 숫자 또는 숫자-숫자 형식, 용도는 공백 뒤에 오는 한글 문자로 가정\n",
    "cadastral_map_df['JIBUN'] = cadastral_map_df['properties.JIBUN'].str.extract(r'(\\d+-?\\d*)')\n",
    "cadastral_map_df['USAGE'] = cadastral_map_df['properties.JIBUN'].apply(lambda x:x[-1])\n",
    "# USAGE가 빈 문자열이거나 숫자로만 되어 있는 경우 '기타'로 설정\n",
    "cadastral_map_df['USAGE'] = cadastral_map_df['USAGE'].apply(lambda x: '기타' if x == '' or x.isdigit() else x)\n",
    "cadastral_map_df['USAGE'] = cadastral_map_df['USAGE'].apply(lambda x: cadastral_dic.get(x, x))\n",
    "cadastral_map_df = cadastral_map_df[['JIBUN', 'USAGE', 'geometry']]"
   ]
  },
  {
   "cell_type": "markdown",
   "metadata": {},
   "source": [
    "#### 건물정보 (국토교통부 - 디지털트윈국토)"
   ]
  },
  {
   "cell_type": "code",
   "execution_count": 6,
   "metadata": {},
   "outputs": [],
   "source": [
    "# shp to geodataframe convert\n",
    "shapefile_path = \"SBJ_2406_002/(도로명주소)건물_세종/Z_KAIS_TL_SPBD_BULD_36_202406.shp\"\n",
    "sejong_building_gdf = gpd.read_file(shapefile_path, encoding='cp949')\n",
    "lst = ['LNBR_MNNM', 'LNBR_SLNO', 'BD_MGT_SN', 'BUL_MAN_NO', 'SIG_CD', 'EQB_MAN_SN', 'BULD_MNNM', 'BULD_SLNO', 'BULD_NM', 'BDTYP_CD', 'BUL_DPN_SE', 'GRO_FLO_CO', 'UND_FLO_CO', 'geometry']\n",
    "sejong_building_gdf = sejong_building_gdf[lst]\n",
    "sejong_building_gdf = sejong_building_gdf.to_crs(epsg=4326) #EPSG4326 형식으로 변환"
   ]
  },
  {
   "cell_type": "code",
   "execution_count": null,
   "metadata": {},
   "outputs": [],
   "source": [
    "# 맵 객체 생성 및 데이터 로드\n",
    "sejong_building_map = KeplerGl(height=1000, width=1500)\n",
    "sejong_building_map.add_data(data=sejong_gdf, name=\"세종시 행정구역 데이터\")\n",
    "sejong_building_map.add_data(data=sejong_building_gdf, name=\"세종시 건물 데이터\")\n",
    "\n",
    "# 맵 출력 및 상세설정\n",
    "sejong_building_map"
   ]
  },
  {
   "cell_type": "code",
   "execution_count": null,
   "metadata": {},
   "outputs": [
    {
     "name": "stdout",
     "output_type": "stream",
     "text": [
      "Map saved to visualization/세종시 현황/세종시 건물시각화 map.html!\n"
     ]
    }
   ],
   "source": [
    "# 맵 저장\n",
    "sejong_building_map.save_to_html(file_name=\"visualization/세종시 현황/세종시 건물시각화 map.html\")"
   ]
  },
  {
   "cell_type": "markdown",
   "metadata": {},
   "source": [
    "#### 상가 개폐업 정보"
   ]
  },
  {
   "cell_type": "code",
   "execution_count": 5,
   "metadata": {},
   "outputs": [
    {
     "name": "stderr",
     "output_type": "stream",
     "text": [
      "C:\\Users\\HJK\\AppData\\Local\\Temp\\ipykernel_27052\\25937912.py:1: DtypeWarning:\n",
      "\n",
      "Columns (2) have mixed types. Specify dtype option on import or set low_memory=False.\n",
      "\n",
      "100%|██████████| 43974/43974 [00:00<00:00, 70963.37it/s]\n",
      "c:\\Users\\HJK\\anaconda3\\envs\\GIS\\lib\\site-packages\\pyproj\\crs\\crs.py:141: FutureWarning:\n",
      "\n",
      "'+init=<authority>:<code>' syntax is deprecated. '<authority>:<code>' is the preferred initialization method. When making the change, be mindful of axis order changes: https://pyproj4.github.io/pyproj/stable/gotchas.html#axis-order-changes-in-proj-6\n",
      "\n",
      "c:\\Users\\HJK\\anaconda3\\envs\\GIS\\lib\\site-packages\\pyproj\\crs\\crs.py:141: FutureWarning:\n",
      "\n",
      "'+init=<authority>:<code>' syntax is deprecated. '<authority>:<code>' is the preferred initialization method. When making the change, be mindful of axis order changes: https://pyproj4.github.io/pyproj/stable/gotchas.html#axis-order-changes-in-proj-6\n",
      "\n",
      "c:\\Users\\HJK\\anaconda3\\envs\\GIS\\lib\\site-packages\\IPython\\core\\interactiveshell.py:3445: FutureWarning:\n",
      "\n",
      "The `op` parameter is deprecated and will be removed in a future release. Please use the `predicate` parameter instead.\n",
      "\n",
      "C:\\Users\\HJK\\AppData\\Local\\Temp\\ipykernel_27052\\25937912.py:4: UserWarning:\n",
      "\n",
      "CRS mismatch between the CRS of left geometries and the CRS of right geometries.\n",
      "Use `to_crs()` to reproject one of the input geometries to match the CRS of the other.\n",
      "\n",
      "Left CRS: +init=epsg:4326 +type=crs\n",
      "Right CRS: None\n",
      "\n",
      "\n"
     ]
    }
   ],
   "source": [
    "arcade_oc_df = pd.read_csv('SBJ_2406_002/5.세종시_상가개폐업정보.csv')\n",
    "arcade_oc_df = geo_transform(arcade_oc_df)\n",
    "# 공간 조인 수행\n",
    "arcade_oc_df = gpd.sjoin(arcade_oc_df, sejong_gdf, how='inner', op='intersects')\n",
    "# 신도시 구역 필터링\n",
    "arcade_oc_df = arcade_oc_df[arcade_oc_df['newtown'] == '신도시']\n",
    "arcade_oc_df = arcade_oc_df[['service_nm', 'lcpmt_dt', 'rtrcn_dt', 'biz_stts_cd', 'biz_stts_nm',\n",
    "                            'cls_date', 'tc_strt_dt', 'tc_end_dt', 're_op_dt', 'plc_area',\n",
    "                            'bplc_nm', 'biz_type','rd_addr', 'lon', 'lat', 'geometry', 'ADM_NM', 'newtown']]"
   ]
  },
  {
   "cell_type": "code",
   "execution_count": 6,
   "metadata": {},
   "outputs": [
    {
     "data": {
      "text/plain": [
       "biz_stts_nm\n",
       "영업/정상             14188\n",
       "폐업                 8677\n",
       "취소/말소/만료/정지/중지      364\n",
       "휴업                   39\n",
       "Name: count, dtype: int64"
      ]
     },
     "execution_count": 6,
     "metadata": {},
     "output_type": "execute_result"
    }
   ],
   "source": [
    "arcade_oc_df['biz_stts_nm'].value_counts()"
   ]
  },
  {
   "cell_type": "code",
   "execution_count": 7,
   "metadata": {},
   "outputs": [],
   "source": [
    "# '폐업'인 경우 2020년 이후의 데이터만 필터링\n",
    "arcade_oc_df['cls_date'] = pd.to_datetime(arcade_oc_df['cls_date'], errors='coerce')\n",
    "filtered_df = arcade_oc_df[(arcade_oc_df['biz_stts_nm'] == '폐업') & (arcade_oc_df['cls_date'] >= '2020-01-01')]\n",
    "\n",
    "# '영업/정상'인 데이터프레임과 필터링된 '폐업' 데이터프레임을 결합\n",
    "normal_df = arcade_oc_df[arcade_oc_df['biz_stts_nm'] == '영업/정상']\n",
    "filtered_arcade_oc_df = pd.concat([normal_df, filtered_df])\n",
    "\n",
    "# 행정동별 영업 정상 및 폐업 상태 집계\n",
    "status_counts = filtered_arcade_oc_df.groupby(['ADM_NM', 'biz_stts_nm']).size().unstack(fill_value=0)"
   ]
  },
  {
   "cell_type": "code",
   "execution_count": 8,
   "metadata": {},
   "outputs": [],
   "source": [
    "# Extracting year from cls_date for businesses with a closure date\n",
    "filtered_arcade_oc_df['Year'] = filtered_arcade_oc_df['cls_date'].dt.year\n",
    "\n",
    "# Setting the year for '영업/정상' businesses to 2023 for calculation purposes (assuming data until 2023)\n",
    "filtered_arcade_oc_df['Year1'] = 2020\n",
    "filtered_arcade_oc_df['Year2'] = 2021\n",
    "filtered_arcade_oc_df['Year3'] = 2022\n",
    "filtered_arcade_oc_df['Year4'] = 2023\n",
    "\n",
    "# Counting the number of closed and operating businesses per year and per administrative area\n",
    "closure_counts = filtered_arcade_oc_df[filtered_arcade_oc_df['biz_stts_nm'] == '폐업'].groupby(['Year', 'ADM_NM']).size().unstack(fill_value=0)\n",
    "normal_counts1 = filtered_arcade_oc_df[filtered_arcade_oc_df['biz_stts_nm'] == '영업/정상'].groupby(['Year1', 'ADM_NM']).size().unstack(fill_value=0)\n",
    "normal_counts2 = filtered_arcade_oc_df[filtered_arcade_oc_df['biz_stts_nm'] == '영업/정상'].groupby(['Year2', 'ADM_NM']).size().unstack(fill_value=0)\n",
    "normal_counts3 = filtered_arcade_oc_df[filtered_arcade_oc_df['biz_stts_nm'] == '영업/정상'].groupby(['Year3', 'ADM_NM']).size().unstack(fill_value=0)\n",
    "normal_counts4 = filtered_arcade_oc_df[filtered_arcade_oc_df['biz_stts_nm'] == '영업/정상'].groupby(['Year4', 'ADM_NM']).size().unstack(fill_value=0)\n",
    "normal_counts = pd.concat([normal_counts1, normal_counts2, normal_counts3, normal_counts4])\n",
    "\n",
    "# Calculating the total number of businesses\n",
    "total_counts = closure_counts.add(normal_counts, fill_value=0)\n",
    "\n",
    "# Calculating closure rates\n",
    "closure_rates = (closure_counts / total_counts) * 100\n",
    "\n",
    "# Resetting index for proper DataFrame format\n",
    "closure_rates = closure_rates.reset_index()\n",
    "\n",
    "# Displaying the closure rates DataFrame\n",
    "closure_rates = closure_rates.iloc[:4]\n",
    "closure_rates['Year'] = closure_rates['Year'].astype(int)\n",
    "closure_rates.to_csv(\"행정동별_상가폐업률.csv\", index=False)"
   ]
  },
  {
   "cell_type": "code",
   "execution_count": 9,
   "metadata": {},
   "outputs": [
    {
     "data": {
      "text/html": [
       "<div>\n",
       "<style scoped>\n",
       "    .dataframe tbody tr th:only-of-type {\n",
       "        vertical-align: middle;\n",
       "    }\n",
       "\n",
       "    .dataframe tbody tr th {\n",
       "        vertical-align: top;\n",
       "    }\n",
       "\n",
       "    .dataframe thead th {\n",
       "        text-align: right;\n",
       "    }\n",
       "</style>\n",
       "<table border=\"1\" class=\"dataframe\">\n",
       "  <thead>\n",
       "    <tr style=\"text-align: right;\">\n",
       "      <th>biz_stts_nm</th>\n",
       "      <th>영업/정상</th>\n",
       "      <th>폐업</th>\n",
       "      <th>폐업률</th>\n",
       "    </tr>\n",
       "    <tr>\n",
       "      <th>ADM_NM</th>\n",
       "      <th></th>\n",
       "      <th></th>\n",
       "      <th></th>\n",
       "    </tr>\n",
       "  </thead>\n",
       "  <tbody>\n",
       "    <tr>\n",
       "      <th>가람동</th>\n",
       "      <td>69</td>\n",
       "      <td>304</td>\n",
       "      <td>81.501340</td>\n",
       "    </tr>\n",
       "    <tr>\n",
       "      <th>고운동</th>\n",
       "      <td>1308</td>\n",
       "      <td>534</td>\n",
       "      <td>28.990228</td>\n",
       "    </tr>\n",
       "    <tr>\n",
       "      <th>나성동</th>\n",
       "      <td>2073</td>\n",
       "      <td>927</td>\n",
       "      <td>30.900000</td>\n",
       "    </tr>\n",
       "    <tr>\n",
       "      <th>누리동</th>\n",
       "      <td>10</td>\n",
       "      <td>1</td>\n",
       "      <td>9.090909</td>\n",
       "    </tr>\n",
       "    <tr>\n",
       "      <th>다솜동</th>\n",
       "      <td>0</td>\n",
       "      <td>2</td>\n",
       "      <td>100.000000</td>\n",
       "    </tr>\n",
       "    <tr>\n",
       "      <th>다정동</th>\n",
       "      <td>739</td>\n",
       "      <td>347</td>\n",
       "      <td>31.952118</td>\n",
       "    </tr>\n",
       "    <tr>\n",
       "      <th>대평동</th>\n",
       "      <td>549</td>\n",
       "      <td>281</td>\n",
       "      <td>33.855422</td>\n",
       "    </tr>\n",
       "    <tr>\n",
       "      <th>도담동</th>\n",
       "      <td>916</td>\n",
       "      <td>413</td>\n",
       "      <td>31.075997</td>\n",
       "    </tr>\n",
       "    <tr>\n",
       "      <th>반곡동</th>\n",
       "      <td>626</td>\n",
       "      <td>152</td>\n",
       "      <td>19.537275</td>\n",
       "    </tr>\n",
       "    <tr>\n",
       "      <th>보람동</th>\n",
       "      <td>1270</td>\n",
       "      <td>470</td>\n",
       "      <td>27.011494</td>\n",
       "    </tr>\n",
       "    <tr>\n",
       "      <th>산울동</th>\n",
       "      <td>41</td>\n",
       "      <td>3</td>\n",
       "      <td>6.818182</td>\n",
       "    </tr>\n",
       "    <tr>\n",
       "      <th>새롬동</th>\n",
       "      <td>844</td>\n",
       "      <td>390</td>\n",
       "      <td>31.604538</td>\n",
       "    </tr>\n",
       "    <tr>\n",
       "      <th>세종동</th>\n",
       "      <td>30</td>\n",
       "      <td>37</td>\n",
       "      <td>55.223881</td>\n",
       "    </tr>\n",
       "    <tr>\n",
       "      <th>소담동</th>\n",
       "      <td>851</td>\n",
       "      <td>294</td>\n",
       "      <td>25.676856</td>\n",
       "    </tr>\n",
       "    <tr>\n",
       "      <th>아름동</th>\n",
       "      <td>932</td>\n",
       "      <td>346</td>\n",
       "      <td>27.073552</td>\n",
       "    </tr>\n",
       "    <tr>\n",
       "      <th>어진동</th>\n",
       "      <td>2038</td>\n",
       "      <td>714</td>\n",
       "      <td>25.944767</td>\n",
       "    </tr>\n",
       "    <tr>\n",
       "      <th>용호동</th>\n",
       "      <td>1</td>\n",
       "      <td>0</td>\n",
       "      <td>0.000000</td>\n",
       "    </tr>\n",
       "    <tr>\n",
       "      <th>종촌동</th>\n",
       "      <td>873</td>\n",
       "      <td>419</td>\n",
       "      <td>32.430341</td>\n",
       "    </tr>\n",
       "    <tr>\n",
       "      <th>집현동</th>\n",
       "      <td>316</td>\n",
       "      <td>51</td>\n",
       "      <td>13.896458</td>\n",
       "    </tr>\n",
       "    <tr>\n",
       "      <th>한별동</th>\n",
       "      <td>1</td>\n",
       "      <td>0</td>\n",
       "      <td>0.000000</td>\n",
       "    </tr>\n",
       "    <tr>\n",
       "      <th>한솔동</th>\n",
       "      <td>519</td>\n",
       "      <td>205</td>\n",
       "      <td>28.314917</td>\n",
       "    </tr>\n",
       "    <tr>\n",
       "      <th>합강동</th>\n",
       "      <td>1</td>\n",
       "      <td>1</td>\n",
       "      <td>50.000000</td>\n",
       "    </tr>\n",
       "    <tr>\n",
       "      <th>해밀동</th>\n",
       "      <td>181</td>\n",
       "      <td>32</td>\n",
       "      <td>15.023474</td>\n",
       "    </tr>\n",
       "  </tbody>\n",
       "</table>\n",
       "</div>"
      ],
      "text/plain": [
       "biz_stts_nm  영업/정상   폐업         폐업률\n",
       "ADM_NM                             \n",
       "가람동             69  304   81.501340\n",
       "고운동           1308  534   28.990228\n",
       "나성동           2073  927   30.900000\n",
       "누리동             10    1    9.090909\n",
       "다솜동              0    2  100.000000\n",
       "다정동            739  347   31.952118\n",
       "대평동            549  281   33.855422\n",
       "도담동            916  413   31.075997\n",
       "반곡동            626  152   19.537275\n",
       "보람동           1270  470   27.011494\n",
       "산울동             41    3    6.818182\n",
       "새롬동            844  390   31.604538\n",
       "세종동             30   37   55.223881\n",
       "소담동            851  294   25.676856\n",
       "아름동            932  346   27.073552\n",
       "어진동           2038  714   25.944767\n",
       "용호동              1    0    0.000000\n",
       "종촌동            873  419   32.430341\n",
       "집현동            316   51   13.896458\n",
       "한별동              1    0    0.000000\n",
       "한솔동            519  205   28.314917\n",
       "합강동              1    1   50.000000\n",
       "해밀동            181   32   15.023474"
      ]
     },
     "execution_count": 9,
     "metadata": {},
     "output_type": "execute_result"
    }
   ],
   "source": [
    "# 폐업률 계산\n",
    "status_counts['폐업률'] = (status_counts['폐업'] / (status_counts['영업/정상'] + status_counts['폐업'])) * 100\n",
    "status_counts"
   ]
  },
  {
   "cell_type": "code",
   "execution_count": 10,
   "metadata": {},
   "outputs": [
    {
     "data": {
      "application/vnd.plotly.v1+json": {
       "config": {
        "plotlyServerURL": "https://plot.ly"
       },
       "data": [
        {
         "alignmentgroup": "True",
         "hovertemplate": "ADM_NM=%{x}<br>전체 가게건수=%{marker.color}<extra></extra>",
         "legendgroup": "",
         "marker": {
          "color": [
           3000,
           2752,
           1842,
           1740,
           1329,
           1292,
           1278,
           1234,
           1145,
           1086,
           830,
           778,
           724,
           373,
           367,
           213,
           67,
           44,
           11,
           2,
           2,
           1,
           1
          ],
          "coloraxis": "coloraxis",
          "pattern": {
           "shape": ""
          }
         },
         "name": "",
         "offsetgroup": "",
         "orientation": "v",
         "showlegend": false,
         "textposition": "auto",
         "type": "bar",
         "x": [
          "나성동",
          "어진동",
          "고운동",
          "보람동",
          "도담동",
          "종촌동",
          "아름동",
          "새롬동",
          "소담동",
          "다정동",
          "대평동",
          "반곡동",
          "한솔동",
          "가람동",
          "집현동",
          "해밀동",
          "세종동",
          "산울동",
          "누리동",
          "다솜동",
          "합강동",
          "용호동",
          "한별동"
         ],
         "xaxis": "x",
         "y": [
          3000,
          2752,
          1842,
          1740,
          1329,
          1292,
          1278,
          1234,
          1145,
          1086,
          830,
          778,
          724,
          373,
          367,
          213,
          67,
          44,
          11,
          2,
          2,
          1,
          1
         ],
         "yaxis": "y"
        }
       ],
       "layout": {
        "barmode": "relative",
        "coloraxis": {
         "colorbar": {
          "title": {
           "text": "전체 가게건수"
          }
         },
         "colorscale": [
          [
           0,
           "#0d0887"
          ],
          [
           0.1111111111111111,
           "#46039f"
          ],
          [
           0.2222222222222222,
           "#7201a8"
          ],
          [
           0.3333333333333333,
           "#9c179e"
          ],
          [
           0.4444444444444444,
           "#bd3786"
          ],
          [
           0.5555555555555556,
           "#d8576b"
          ],
          [
           0.6666666666666666,
           "#ed7953"
          ],
          [
           0.7777777777777778,
           "#fb9f3a"
          ],
          [
           0.8888888888888888,
           "#fdca26"
          ],
          [
           1,
           "#f0f921"
          ]
         ]
        },
        "legend": {
         "tracegroupgap": 0
        },
        "margin": {
         "t": 60
        },
        "template": {
         "data": {
          "bar": [
           {
            "error_x": {
             "color": "#2a3f5f"
            },
            "error_y": {
             "color": "#2a3f5f"
            },
            "marker": {
             "line": {
              "color": "#E5ECF6",
              "width": 0.5
             },
             "pattern": {
              "fillmode": "overlay",
              "size": 10,
              "solidity": 0.2
             }
            },
            "type": "bar"
           }
          ],
          "barpolar": [
           {
            "marker": {
             "line": {
              "color": "#E5ECF6",
              "width": 0.5
             },
             "pattern": {
              "fillmode": "overlay",
              "size": 10,
              "solidity": 0.2
             }
            },
            "type": "barpolar"
           }
          ],
          "carpet": [
           {
            "aaxis": {
             "endlinecolor": "#2a3f5f",
             "gridcolor": "white",
             "linecolor": "white",
             "minorgridcolor": "white",
             "startlinecolor": "#2a3f5f"
            },
            "baxis": {
             "endlinecolor": "#2a3f5f",
             "gridcolor": "white",
             "linecolor": "white",
             "minorgridcolor": "white",
             "startlinecolor": "#2a3f5f"
            },
            "type": "carpet"
           }
          ],
          "choropleth": [
           {
            "colorbar": {
             "outlinewidth": 0,
             "ticks": ""
            },
            "type": "choropleth"
           }
          ],
          "contour": [
           {
            "colorbar": {
             "outlinewidth": 0,
             "ticks": ""
            },
            "colorscale": [
             [
              0,
              "#0d0887"
             ],
             [
              0.1111111111111111,
              "#46039f"
             ],
             [
              0.2222222222222222,
              "#7201a8"
             ],
             [
              0.3333333333333333,
              "#9c179e"
             ],
             [
              0.4444444444444444,
              "#bd3786"
             ],
             [
              0.5555555555555556,
              "#d8576b"
             ],
             [
              0.6666666666666666,
              "#ed7953"
             ],
             [
              0.7777777777777778,
              "#fb9f3a"
             ],
             [
              0.8888888888888888,
              "#fdca26"
             ],
             [
              1,
              "#f0f921"
             ]
            ],
            "type": "contour"
           }
          ],
          "contourcarpet": [
           {
            "colorbar": {
             "outlinewidth": 0,
             "ticks": ""
            },
            "type": "contourcarpet"
           }
          ],
          "heatmap": [
           {
            "colorbar": {
             "outlinewidth": 0,
             "ticks": ""
            },
            "colorscale": [
             [
              0,
              "#0d0887"
             ],
             [
              0.1111111111111111,
              "#46039f"
             ],
             [
              0.2222222222222222,
              "#7201a8"
             ],
             [
              0.3333333333333333,
              "#9c179e"
             ],
             [
              0.4444444444444444,
              "#bd3786"
             ],
             [
              0.5555555555555556,
              "#d8576b"
             ],
             [
              0.6666666666666666,
              "#ed7953"
             ],
             [
              0.7777777777777778,
              "#fb9f3a"
             ],
             [
              0.8888888888888888,
              "#fdca26"
             ],
             [
              1,
              "#f0f921"
             ]
            ],
            "type": "heatmap"
           }
          ],
          "heatmapgl": [
           {
            "colorbar": {
             "outlinewidth": 0,
             "ticks": ""
            },
            "colorscale": [
             [
              0,
              "#0d0887"
             ],
             [
              0.1111111111111111,
              "#46039f"
             ],
             [
              0.2222222222222222,
              "#7201a8"
             ],
             [
              0.3333333333333333,
              "#9c179e"
             ],
             [
              0.4444444444444444,
              "#bd3786"
             ],
             [
              0.5555555555555556,
              "#d8576b"
             ],
             [
              0.6666666666666666,
              "#ed7953"
             ],
             [
              0.7777777777777778,
              "#fb9f3a"
             ],
             [
              0.8888888888888888,
              "#fdca26"
             ],
             [
              1,
              "#f0f921"
             ]
            ],
            "type": "heatmapgl"
           }
          ],
          "histogram": [
           {
            "marker": {
             "pattern": {
              "fillmode": "overlay",
              "size": 10,
              "solidity": 0.2
             }
            },
            "type": "histogram"
           }
          ],
          "histogram2d": [
           {
            "colorbar": {
             "outlinewidth": 0,
             "ticks": ""
            },
            "colorscale": [
             [
              0,
              "#0d0887"
             ],
             [
              0.1111111111111111,
              "#46039f"
             ],
             [
              0.2222222222222222,
              "#7201a8"
             ],
             [
              0.3333333333333333,
              "#9c179e"
             ],
             [
              0.4444444444444444,
              "#bd3786"
             ],
             [
              0.5555555555555556,
              "#d8576b"
             ],
             [
              0.6666666666666666,
              "#ed7953"
             ],
             [
              0.7777777777777778,
              "#fb9f3a"
             ],
             [
              0.8888888888888888,
              "#fdca26"
             ],
             [
              1,
              "#f0f921"
             ]
            ],
            "type": "histogram2d"
           }
          ],
          "histogram2dcontour": [
           {
            "colorbar": {
             "outlinewidth": 0,
             "ticks": ""
            },
            "colorscale": [
             [
              0,
              "#0d0887"
             ],
             [
              0.1111111111111111,
              "#46039f"
             ],
             [
              0.2222222222222222,
              "#7201a8"
             ],
             [
              0.3333333333333333,
              "#9c179e"
             ],
             [
              0.4444444444444444,
              "#bd3786"
             ],
             [
              0.5555555555555556,
              "#d8576b"
             ],
             [
              0.6666666666666666,
              "#ed7953"
             ],
             [
              0.7777777777777778,
              "#fb9f3a"
             ],
             [
              0.8888888888888888,
              "#fdca26"
             ],
             [
              1,
              "#f0f921"
             ]
            ],
            "type": "histogram2dcontour"
           }
          ],
          "mesh3d": [
           {
            "colorbar": {
             "outlinewidth": 0,
             "ticks": ""
            },
            "type": "mesh3d"
           }
          ],
          "parcoords": [
           {
            "line": {
             "colorbar": {
              "outlinewidth": 0,
              "ticks": ""
             }
            },
            "type": "parcoords"
           }
          ],
          "pie": [
           {
            "automargin": true,
            "type": "pie"
           }
          ],
          "scatter": [
           {
            "fillpattern": {
             "fillmode": "overlay",
             "size": 10,
             "solidity": 0.2
            },
            "type": "scatter"
           }
          ],
          "scatter3d": [
           {
            "line": {
             "colorbar": {
              "outlinewidth": 0,
              "ticks": ""
             }
            },
            "marker": {
             "colorbar": {
              "outlinewidth": 0,
              "ticks": ""
             }
            },
            "type": "scatter3d"
           }
          ],
          "scattercarpet": [
           {
            "marker": {
             "colorbar": {
              "outlinewidth": 0,
              "ticks": ""
             }
            },
            "type": "scattercarpet"
           }
          ],
          "scattergeo": [
           {
            "marker": {
             "colorbar": {
              "outlinewidth": 0,
              "ticks": ""
             }
            },
            "type": "scattergeo"
           }
          ],
          "scattergl": [
           {
            "marker": {
             "colorbar": {
              "outlinewidth": 0,
              "ticks": ""
             }
            },
            "type": "scattergl"
           }
          ],
          "scattermapbox": [
           {
            "marker": {
             "colorbar": {
              "outlinewidth": 0,
              "ticks": ""
             }
            },
            "type": "scattermapbox"
           }
          ],
          "scatterpolar": [
           {
            "marker": {
             "colorbar": {
              "outlinewidth": 0,
              "ticks": ""
             }
            },
            "type": "scatterpolar"
           }
          ],
          "scatterpolargl": [
           {
            "marker": {
             "colorbar": {
              "outlinewidth": 0,
              "ticks": ""
             }
            },
            "type": "scatterpolargl"
           }
          ],
          "scatterternary": [
           {
            "marker": {
             "colorbar": {
              "outlinewidth": 0,
              "ticks": ""
             }
            },
            "type": "scatterternary"
           }
          ],
          "surface": [
           {
            "colorbar": {
             "outlinewidth": 0,
             "ticks": ""
            },
            "colorscale": [
             [
              0,
              "#0d0887"
             ],
             [
              0.1111111111111111,
              "#46039f"
             ],
             [
              0.2222222222222222,
              "#7201a8"
             ],
             [
              0.3333333333333333,
              "#9c179e"
             ],
             [
              0.4444444444444444,
              "#bd3786"
             ],
             [
              0.5555555555555556,
              "#d8576b"
             ],
             [
              0.6666666666666666,
              "#ed7953"
             ],
             [
              0.7777777777777778,
              "#fb9f3a"
             ],
             [
              0.8888888888888888,
              "#fdca26"
             ],
             [
              1,
              "#f0f921"
             ]
            ],
            "type": "surface"
           }
          ],
          "table": [
           {
            "cells": {
             "fill": {
              "color": "#EBF0F8"
             },
             "line": {
              "color": "white"
             }
            },
            "header": {
             "fill": {
              "color": "#C8D4E3"
             },
             "line": {
              "color": "white"
             }
            },
            "type": "table"
           }
          ]
         },
         "layout": {
          "annotationdefaults": {
           "arrowcolor": "#2a3f5f",
           "arrowhead": 0,
           "arrowwidth": 1
          },
          "autotypenumbers": "strict",
          "coloraxis": {
           "colorbar": {
            "outlinewidth": 0,
            "ticks": ""
           }
          },
          "colorscale": {
           "diverging": [
            [
             0,
             "#8e0152"
            ],
            [
             0.1,
             "#c51b7d"
            ],
            [
             0.2,
             "#de77ae"
            ],
            [
             0.3,
             "#f1b6da"
            ],
            [
             0.4,
             "#fde0ef"
            ],
            [
             0.5,
             "#f7f7f7"
            ],
            [
             0.6,
             "#e6f5d0"
            ],
            [
             0.7,
             "#b8e186"
            ],
            [
             0.8,
             "#7fbc41"
            ],
            [
             0.9,
             "#4d9221"
            ],
            [
             1,
             "#276419"
            ]
           ],
           "sequential": [
            [
             0,
             "#0d0887"
            ],
            [
             0.1111111111111111,
             "#46039f"
            ],
            [
             0.2222222222222222,
             "#7201a8"
            ],
            [
             0.3333333333333333,
             "#9c179e"
            ],
            [
             0.4444444444444444,
             "#bd3786"
            ],
            [
             0.5555555555555556,
             "#d8576b"
            ],
            [
             0.6666666666666666,
             "#ed7953"
            ],
            [
             0.7777777777777778,
             "#fb9f3a"
            ],
            [
             0.8888888888888888,
             "#fdca26"
            ],
            [
             1,
             "#f0f921"
            ]
           ],
           "sequentialminus": [
            [
             0,
             "#0d0887"
            ],
            [
             0.1111111111111111,
             "#46039f"
            ],
            [
             0.2222222222222222,
             "#7201a8"
            ],
            [
             0.3333333333333333,
             "#9c179e"
            ],
            [
             0.4444444444444444,
             "#bd3786"
            ],
            [
             0.5555555555555556,
             "#d8576b"
            ],
            [
             0.6666666666666666,
             "#ed7953"
            ],
            [
             0.7777777777777778,
             "#fb9f3a"
            ],
            [
             0.8888888888888888,
             "#fdca26"
            ],
            [
             1,
             "#f0f921"
            ]
           ]
          },
          "colorway": [
           "#636efa",
           "#EF553B",
           "#00cc96",
           "#ab63fa",
           "#FFA15A",
           "#19d3f3",
           "#FF6692",
           "#B6E880",
           "#FF97FF",
           "#FECB52"
          ],
          "font": {
           "color": "#2a3f5f"
          },
          "geo": {
           "bgcolor": "white",
           "lakecolor": "white",
           "landcolor": "#E5ECF6",
           "showlakes": true,
           "showland": true,
           "subunitcolor": "white"
          },
          "hoverlabel": {
           "align": "left"
          },
          "hovermode": "closest",
          "mapbox": {
           "style": "light"
          },
          "paper_bgcolor": "white",
          "plot_bgcolor": "#E5ECF6",
          "polar": {
           "angularaxis": {
            "gridcolor": "white",
            "linecolor": "white",
            "ticks": ""
           },
           "bgcolor": "#E5ECF6",
           "radialaxis": {
            "gridcolor": "white",
            "linecolor": "white",
            "ticks": ""
           }
          },
          "scene": {
           "xaxis": {
            "backgroundcolor": "#E5ECF6",
            "gridcolor": "white",
            "gridwidth": 2,
            "linecolor": "white",
            "showbackground": true,
            "ticks": "",
            "zerolinecolor": "white"
           },
           "yaxis": {
            "backgroundcolor": "#E5ECF6",
            "gridcolor": "white",
            "gridwidth": 2,
            "linecolor": "white",
            "showbackground": true,
            "ticks": "",
            "zerolinecolor": "white"
           },
           "zaxis": {
            "backgroundcolor": "#E5ECF6",
            "gridcolor": "white",
            "gridwidth": 2,
            "linecolor": "white",
            "showbackground": true,
            "ticks": "",
            "zerolinecolor": "white"
           }
          },
          "shapedefaults": {
           "line": {
            "color": "#2a3f5f"
           }
          },
          "ternary": {
           "aaxis": {
            "gridcolor": "white",
            "linecolor": "white",
            "ticks": ""
           },
           "baxis": {
            "gridcolor": "white",
            "linecolor": "white",
            "ticks": ""
           },
           "bgcolor": "#E5ECF6",
           "caxis": {
            "gridcolor": "white",
            "linecolor": "white",
            "ticks": ""
           }
          },
          "title": {
           "x": 0.05
          },
          "xaxis": {
           "automargin": true,
           "gridcolor": "white",
           "linecolor": "white",
           "ticks": "",
           "title": {
            "standoff": 15
           },
           "zerolinecolor": "white",
           "zerolinewidth": 2
          },
          "yaxis": {
           "automargin": true,
           "gridcolor": "white",
           "linecolor": "white",
           "ticks": "",
           "title": {
            "standoff": 15
           },
           "zerolinecolor": "white",
           "zerolinewidth": 2
          }
         }
        },
        "xaxis": {
         "anchor": "y",
         "domain": [
          0,
          1
         ],
         "title": {
          "text": "ADM_NM"
         }
        },
        "yaxis": {
         "anchor": "x",
         "domain": [
          0,
          1
         ],
         "title": {
          "text": "전체 가게건수"
         }
        }
       }
      }
     },
     "metadata": {},
     "output_type": "display_data"
    }
   ],
   "source": [
    "# 전체 가게건수 계산\n",
    "status_counts['전체 가게건수'] = status_counts['영업/정상'] + status_counts['폐업']\n",
    "\n",
    "# 시각화를 위한 데이터프레임 생성 및 전체 가게건수 높은순으로 정렬\n",
    "plot_df_total = status_counts.reset_index()[['ADM_NM', '전체 가게건수']].sort_values(by='전체 가게건수', ascending=False)\n",
    "\n",
    "# 시각화\n",
    "fig_total = px.bar(plot_df_total, x='ADM_NM', y='전체 가게건수', color='전체 가게건수', color_continuous_scale='plasma')\n",
    "fig_total.show()"
   ]
  },
  {
   "cell_type": "code",
   "execution_count": 11,
   "metadata": {},
   "outputs": [
    {
     "data": {
      "application/vnd.plotly.v1+json": {
       "config": {
        "plotlyServerURL": "https://plot.ly"
       },
       "data": [
        {
         "alignmentgroup": "True",
         "hovertemplate": "ADM_NM=%{x}<br>폐업률=%{marker.color}<extra></extra>",
         "legendgroup": "",
         "marker": {
          "color": [
           30.9,
           25.944767441860467,
           28.990228013029316,
           27.011494252873565,
           31.075996990218208,
           32.43034055727554,
           27.073552425665103,
           31.60453808752026,
           25.676855895196503,
           31.952117863720076,
           33.855421686746986,
           19.53727506426735,
           28.314917127071826,
           81.50134048257372,
           13.896457765667575,
           15.023474178403756,
           55.223880597014926,
           6.8181818181818175,
           9.090909090909092,
           100,
           50,
           0,
           0
          ],
          "coloraxis": "coloraxis",
          "pattern": {
           "shape": ""
          }
         },
         "name": "",
         "offsetgroup": "",
         "orientation": "v",
         "showlegend": false,
         "textposition": "auto",
         "type": "bar",
         "x": [
          "나성동",
          "어진동",
          "고운동",
          "보람동",
          "도담동",
          "종촌동",
          "아름동",
          "새롬동",
          "소담동",
          "다정동",
          "대평동",
          "반곡동",
          "한솔동",
          "가람동",
          "집현동",
          "해밀동",
          "세종동",
          "산울동",
          "누리동",
          "다솜동",
          "합강동",
          "용호동",
          "한별동"
         ],
         "xaxis": "x",
         "y": [
          30.9,
          25.944767441860467,
          28.990228013029316,
          27.011494252873565,
          31.075996990218208,
          32.43034055727554,
          27.073552425665103,
          31.60453808752026,
          25.676855895196503,
          31.952117863720076,
          33.855421686746986,
          19.53727506426735,
          28.314917127071826,
          81.50134048257372,
          13.896457765667575,
          15.023474178403756,
          55.223880597014926,
          6.8181818181818175,
          9.090909090909092,
          100,
          50,
          0,
          0
         ],
         "yaxis": "y"
        }
       ],
       "layout": {
        "barmode": "relative",
        "coloraxis": {
         "colorbar": {
          "title": {
           "text": "폐업률"
          }
         },
         "colorscale": [
          [
           0,
           "#0d0887"
          ],
          [
           0.1111111111111111,
           "#46039f"
          ],
          [
           0.2222222222222222,
           "#7201a8"
          ],
          [
           0.3333333333333333,
           "#9c179e"
          ],
          [
           0.4444444444444444,
           "#bd3786"
          ],
          [
           0.5555555555555556,
           "#d8576b"
          ],
          [
           0.6666666666666666,
           "#ed7953"
          ],
          [
           0.7777777777777778,
           "#fb9f3a"
          ],
          [
           0.8888888888888888,
           "#fdca26"
          ],
          [
           1,
           "#f0f921"
          ]
         ]
        },
        "legend": {
         "tracegroupgap": 0
        },
        "margin": {
         "t": 60
        },
        "template": {
         "data": {
          "bar": [
           {
            "error_x": {
             "color": "#2a3f5f"
            },
            "error_y": {
             "color": "#2a3f5f"
            },
            "marker": {
             "line": {
              "color": "#E5ECF6",
              "width": 0.5
             },
             "pattern": {
              "fillmode": "overlay",
              "size": 10,
              "solidity": 0.2
             }
            },
            "type": "bar"
           }
          ],
          "barpolar": [
           {
            "marker": {
             "line": {
              "color": "#E5ECF6",
              "width": 0.5
             },
             "pattern": {
              "fillmode": "overlay",
              "size": 10,
              "solidity": 0.2
             }
            },
            "type": "barpolar"
           }
          ],
          "carpet": [
           {
            "aaxis": {
             "endlinecolor": "#2a3f5f",
             "gridcolor": "white",
             "linecolor": "white",
             "minorgridcolor": "white",
             "startlinecolor": "#2a3f5f"
            },
            "baxis": {
             "endlinecolor": "#2a3f5f",
             "gridcolor": "white",
             "linecolor": "white",
             "minorgridcolor": "white",
             "startlinecolor": "#2a3f5f"
            },
            "type": "carpet"
           }
          ],
          "choropleth": [
           {
            "colorbar": {
             "outlinewidth": 0,
             "ticks": ""
            },
            "type": "choropleth"
           }
          ],
          "contour": [
           {
            "colorbar": {
             "outlinewidth": 0,
             "ticks": ""
            },
            "colorscale": [
             [
              0,
              "#0d0887"
             ],
             [
              0.1111111111111111,
              "#46039f"
             ],
             [
              0.2222222222222222,
              "#7201a8"
             ],
             [
              0.3333333333333333,
              "#9c179e"
             ],
             [
              0.4444444444444444,
              "#bd3786"
             ],
             [
              0.5555555555555556,
              "#d8576b"
             ],
             [
              0.6666666666666666,
              "#ed7953"
             ],
             [
              0.7777777777777778,
              "#fb9f3a"
             ],
             [
              0.8888888888888888,
              "#fdca26"
             ],
             [
              1,
              "#f0f921"
             ]
            ],
            "type": "contour"
           }
          ],
          "contourcarpet": [
           {
            "colorbar": {
             "outlinewidth": 0,
             "ticks": ""
            },
            "type": "contourcarpet"
           }
          ],
          "heatmap": [
           {
            "colorbar": {
             "outlinewidth": 0,
             "ticks": ""
            },
            "colorscale": [
             [
              0,
              "#0d0887"
             ],
             [
              0.1111111111111111,
              "#46039f"
             ],
             [
              0.2222222222222222,
              "#7201a8"
             ],
             [
              0.3333333333333333,
              "#9c179e"
             ],
             [
              0.4444444444444444,
              "#bd3786"
             ],
             [
              0.5555555555555556,
              "#d8576b"
             ],
             [
              0.6666666666666666,
              "#ed7953"
             ],
             [
              0.7777777777777778,
              "#fb9f3a"
             ],
             [
              0.8888888888888888,
              "#fdca26"
             ],
             [
              1,
              "#f0f921"
             ]
            ],
            "type": "heatmap"
           }
          ],
          "heatmapgl": [
           {
            "colorbar": {
             "outlinewidth": 0,
             "ticks": ""
            },
            "colorscale": [
             [
              0,
              "#0d0887"
             ],
             [
              0.1111111111111111,
              "#46039f"
             ],
             [
              0.2222222222222222,
              "#7201a8"
             ],
             [
              0.3333333333333333,
              "#9c179e"
             ],
             [
              0.4444444444444444,
              "#bd3786"
             ],
             [
              0.5555555555555556,
              "#d8576b"
             ],
             [
              0.6666666666666666,
              "#ed7953"
             ],
             [
              0.7777777777777778,
              "#fb9f3a"
             ],
             [
              0.8888888888888888,
              "#fdca26"
             ],
             [
              1,
              "#f0f921"
             ]
            ],
            "type": "heatmapgl"
           }
          ],
          "histogram": [
           {
            "marker": {
             "pattern": {
              "fillmode": "overlay",
              "size": 10,
              "solidity": 0.2
             }
            },
            "type": "histogram"
           }
          ],
          "histogram2d": [
           {
            "colorbar": {
             "outlinewidth": 0,
             "ticks": ""
            },
            "colorscale": [
             [
              0,
              "#0d0887"
             ],
             [
              0.1111111111111111,
              "#46039f"
             ],
             [
              0.2222222222222222,
              "#7201a8"
             ],
             [
              0.3333333333333333,
              "#9c179e"
             ],
             [
              0.4444444444444444,
              "#bd3786"
             ],
             [
              0.5555555555555556,
              "#d8576b"
             ],
             [
              0.6666666666666666,
              "#ed7953"
             ],
             [
              0.7777777777777778,
              "#fb9f3a"
             ],
             [
              0.8888888888888888,
              "#fdca26"
             ],
             [
              1,
              "#f0f921"
             ]
            ],
            "type": "histogram2d"
           }
          ],
          "histogram2dcontour": [
           {
            "colorbar": {
             "outlinewidth": 0,
             "ticks": ""
            },
            "colorscale": [
             [
              0,
              "#0d0887"
             ],
             [
              0.1111111111111111,
              "#46039f"
             ],
             [
              0.2222222222222222,
              "#7201a8"
             ],
             [
              0.3333333333333333,
              "#9c179e"
             ],
             [
              0.4444444444444444,
              "#bd3786"
             ],
             [
              0.5555555555555556,
              "#d8576b"
             ],
             [
              0.6666666666666666,
              "#ed7953"
             ],
             [
              0.7777777777777778,
              "#fb9f3a"
             ],
             [
              0.8888888888888888,
              "#fdca26"
             ],
             [
              1,
              "#f0f921"
             ]
            ],
            "type": "histogram2dcontour"
           }
          ],
          "mesh3d": [
           {
            "colorbar": {
             "outlinewidth": 0,
             "ticks": ""
            },
            "type": "mesh3d"
           }
          ],
          "parcoords": [
           {
            "line": {
             "colorbar": {
              "outlinewidth": 0,
              "ticks": ""
             }
            },
            "type": "parcoords"
           }
          ],
          "pie": [
           {
            "automargin": true,
            "type": "pie"
           }
          ],
          "scatter": [
           {
            "fillpattern": {
             "fillmode": "overlay",
             "size": 10,
             "solidity": 0.2
            },
            "type": "scatter"
           }
          ],
          "scatter3d": [
           {
            "line": {
             "colorbar": {
              "outlinewidth": 0,
              "ticks": ""
             }
            },
            "marker": {
             "colorbar": {
              "outlinewidth": 0,
              "ticks": ""
             }
            },
            "type": "scatter3d"
           }
          ],
          "scattercarpet": [
           {
            "marker": {
             "colorbar": {
              "outlinewidth": 0,
              "ticks": ""
             }
            },
            "type": "scattercarpet"
           }
          ],
          "scattergeo": [
           {
            "marker": {
             "colorbar": {
              "outlinewidth": 0,
              "ticks": ""
             }
            },
            "type": "scattergeo"
           }
          ],
          "scattergl": [
           {
            "marker": {
             "colorbar": {
              "outlinewidth": 0,
              "ticks": ""
             }
            },
            "type": "scattergl"
           }
          ],
          "scattermapbox": [
           {
            "marker": {
             "colorbar": {
              "outlinewidth": 0,
              "ticks": ""
             }
            },
            "type": "scattermapbox"
           }
          ],
          "scatterpolar": [
           {
            "marker": {
             "colorbar": {
              "outlinewidth": 0,
              "ticks": ""
             }
            },
            "type": "scatterpolar"
           }
          ],
          "scatterpolargl": [
           {
            "marker": {
             "colorbar": {
              "outlinewidth": 0,
              "ticks": ""
             }
            },
            "type": "scatterpolargl"
           }
          ],
          "scatterternary": [
           {
            "marker": {
             "colorbar": {
              "outlinewidth": 0,
              "ticks": ""
             }
            },
            "type": "scatterternary"
           }
          ],
          "surface": [
           {
            "colorbar": {
             "outlinewidth": 0,
             "ticks": ""
            },
            "colorscale": [
             [
              0,
              "#0d0887"
             ],
             [
              0.1111111111111111,
              "#46039f"
             ],
             [
              0.2222222222222222,
              "#7201a8"
             ],
             [
              0.3333333333333333,
              "#9c179e"
             ],
             [
              0.4444444444444444,
              "#bd3786"
             ],
             [
              0.5555555555555556,
              "#d8576b"
             ],
             [
              0.6666666666666666,
              "#ed7953"
             ],
             [
              0.7777777777777778,
              "#fb9f3a"
             ],
             [
              0.8888888888888888,
              "#fdca26"
             ],
             [
              1,
              "#f0f921"
             ]
            ],
            "type": "surface"
           }
          ],
          "table": [
           {
            "cells": {
             "fill": {
              "color": "#EBF0F8"
             },
             "line": {
              "color": "white"
             }
            },
            "header": {
             "fill": {
              "color": "#C8D4E3"
             },
             "line": {
              "color": "white"
             }
            },
            "type": "table"
           }
          ]
         },
         "layout": {
          "annotationdefaults": {
           "arrowcolor": "#2a3f5f",
           "arrowhead": 0,
           "arrowwidth": 1
          },
          "autotypenumbers": "strict",
          "coloraxis": {
           "colorbar": {
            "outlinewidth": 0,
            "ticks": ""
           }
          },
          "colorscale": {
           "diverging": [
            [
             0,
             "#8e0152"
            ],
            [
             0.1,
             "#c51b7d"
            ],
            [
             0.2,
             "#de77ae"
            ],
            [
             0.3,
             "#f1b6da"
            ],
            [
             0.4,
             "#fde0ef"
            ],
            [
             0.5,
             "#f7f7f7"
            ],
            [
             0.6,
             "#e6f5d0"
            ],
            [
             0.7,
             "#b8e186"
            ],
            [
             0.8,
             "#7fbc41"
            ],
            [
             0.9,
             "#4d9221"
            ],
            [
             1,
             "#276419"
            ]
           ],
           "sequential": [
            [
             0,
             "#0d0887"
            ],
            [
             0.1111111111111111,
             "#46039f"
            ],
            [
             0.2222222222222222,
             "#7201a8"
            ],
            [
             0.3333333333333333,
             "#9c179e"
            ],
            [
             0.4444444444444444,
             "#bd3786"
            ],
            [
             0.5555555555555556,
             "#d8576b"
            ],
            [
             0.6666666666666666,
             "#ed7953"
            ],
            [
             0.7777777777777778,
             "#fb9f3a"
            ],
            [
             0.8888888888888888,
             "#fdca26"
            ],
            [
             1,
             "#f0f921"
            ]
           ],
           "sequentialminus": [
            [
             0,
             "#0d0887"
            ],
            [
             0.1111111111111111,
             "#46039f"
            ],
            [
             0.2222222222222222,
             "#7201a8"
            ],
            [
             0.3333333333333333,
             "#9c179e"
            ],
            [
             0.4444444444444444,
             "#bd3786"
            ],
            [
             0.5555555555555556,
             "#d8576b"
            ],
            [
             0.6666666666666666,
             "#ed7953"
            ],
            [
             0.7777777777777778,
             "#fb9f3a"
            ],
            [
             0.8888888888888888,
             "#fdca26"
            ],
            [
             1,
             "#f0f921"
            ]
           ]
          },
          "colorway": [
           "#636efa",
           "#EF553B",
           "#00cc96",
           "#ab63fa",
           "#FFA15A",
           "#19d3f3",
           "#FF6692",
           "#B6E880",
           "#FF97FF",
           "#FECB52"
          ],
          "font": {
           "color": "#2a3f5f"
          },
          "geo": {
           "bgcolor": "white",
           "lakecolor": "white",
           "landcolor": "#E5ECF6",
           "showlakes": true,
           "showland": true,
           "subunitcolor": "white"
          },
          "hoverlabel": {
           "align": "left"
          },
          "hovermode": "closest",
          "mapbox": {
           "style": "light"
          },
          "paper_bgcolor": "white",
          "plot_bgcolor": "#E5ECF6",
          "polar": {
           "angularaxis": {
            "gridcolor": "white",
            "linecolor": "white",
            "ticks": ""
           },
           "bgcolor": "#E5ECF6",
           "radialaxis": {
            "gridcolor": "white",
            "linecolor": "white",
            "ticks": ""
           }
          },
          "scene": {
           "xaxis": {
            "backgroundcolor": "#E5ECF6",
            "gridcolor": "white",
            "gridwidth": 2,
            "linecolor": "white",
            "showbackground": true,
            "ticks": "",
            "zerolinecolor": "white"
           },
           "yaxis": {
            "backgroundcolor": "#E5ECF6",
            "gridcolor": "white",
            "gridwidth": 2,
            "linecolor": "white",
            "showbackground": true,
            "ticks": "",
            "zerolinecolor": "white"
           },
           "zaxis": {
            "backgroundcolor": "#E5ECF6",
            "gridcolor": "white",
            "gridwidth": 2,
            "linecolor": "white",
            "showbackground": true,
            "ticks": "",
            "zerolinecolor": "white"
           }
          },
          "shapedefaults": {
           "line": {
            "color": "#2a3f5f"
           }
          },
          "ternary": {
           "aaxis": {
            "gridcolor": "white",
            "linecolor": "white",
            "ticks": ""
           },
           "baxis": {
            "gridcolor": "white",
            "linecolor": "white",
            "ticks": ""
           },
           "bgcolor": "#E5ECF6",
           "caxis": {
            "gridcolor": "white",
            "linecolor": "white",
            "ticks": ""
           }
          },
          "title": {
           "x": 0.05
          },
          "xaxis": {
           "automargin": true,
           "gridcolor": "white",
           "linecolor": "white",
           "ticks": "",
           "title": {
            "standoff": 15
           },
           "zerolinecolor": "white",
           "zerolinewidth": 2
          },
          "yaxis": {
           "automargin": true,
           "gridcolor": "white",
           "linecolor": "white",
           "ticks": "",
           "title": {
            "standoff": 15
           },
           "zerolinecolor": "white",
           "zerolinewidth": 2
          }
         }
        },
        "xaxis": {
         "anchor": "y",
         "domain": [
          0,
          1
         ],
         "title": {
          "text": "ADM_NM"
         }
        },
        "yaxis": {
         "anchor": "x",
         "domain": [
          0,
          1
         ],
         "title": {
          "text": "폐업률"
         }
        }
       }
      }
     },
     "metadata": {},
     "output_type": "display_data"
    }
   ],
   "source": [
    "# 시각화를 위한 데이터프레임 생성 및 전체 가게건수 높은순으로 정렬\n",
    "status_counts = status_counts.reset_index()\n",
    "status_counts_sorted = status_counts.sort_values(by='전체 가게건수', ascending=False)\n",
    "\n",
    "# 시각화\n",
    "fig = px.bar(status_counts_sorted, x='ADM_NM', y='폐업률', color='폐업률', color_continuous_scale='plasma')\n",
    "fig.show()"
   ]
  },
  {
   "cell_type": "code",
   "execution_count": null,
   "metadata": {},
   "outputs": [],
   "source": [
    "# 맵 객체 생성 및 데이터 로드\n",
    "sejong_arcade_oc_map = KeplerGl(height=1000, width=1500)\n",
    "sejong_arcade_oc_map.add_data(data=sejong_gdf, name=\"세종시 행정구역 데이터\")\n",
    "sejong_arcade_oc_map.add_data(data=arcade_oc_df, name=\"세종시 상가개폐업 데이터\")\n",
    "\n",
    "# 맵 출력 및 상세설정\n",
    "sejong_arcade_oc_map"
   ]
  },
  {
   "cell_type": "code",
   "execution_count": 142,
   "metadata": {},
   "outputs": [
    {
     "name": "stdout",
     "output_type": "stream",
     "text": [
      "Map saved to visualization/세종시 현황/세종시 상가개폐업 map.html!\n"
     ]
    }
   ],
   "source": [
    "# 맵 저장\n",
    "sejong_arcade_oc_map.save_to_html(file_name=\"visualization/세종시 현황/세종시 상가개폐업 map.html\")"
   ]
  },
  {
   "cell_type": "code",
   "execution_count": 225,
   "metadata": {},
   "outputs": [
    {
     "data": {
      "text/html": [
       "<div>\n",
       "<style scoped>\n",
       "    .dataframe tbody tr th:only-of-type {\n",
       "        vertical-align: middle;\n",
       "    }\n",
       "\n",
       "    .dataframe tbody tr th {\n",
       "        vertical-align: top;\n",
       "    }\n",
       "\n",
       "    .dataframe thead th {\n",
       "        text-align: right;\n",
       "    }\n",
       "</style>\n",
       "<table border=\"1\" class=\"dataframe\">\n",
       "  <thead>\n",
       "    <tr style=\"text-align: right;\">\n",
       "      <th></th>\n",
       "      <th>service_nm</th>\n",
       "      <th>lcpmt_dt</th>\n",
       "      <th>rtrcn_dt</th>\n",
       "      <th>biz_stts_cd</th>\n",
       "      <th>biz_stts_nm</th>\n",
       "      <th>cls_date</th>\n",
       "      <th>tc_strt_dt</th>\n",
       "      <th>tc_end_dt</th>\n",
       "      <th>re_op_dt</th>\n",
       "      <th>plc_area</th>\n",
       "      <th>bplc_nm</th>\n",
       "      <th>biz_type</th>\n",
       "      <th>rd_addr</th>\n",
       "      <th>lon</th>\n",
       "      <th>lat</th>\n",
       "      <th>geometry</th>\n",
       "      <th>ADM_NM</th>\n",
       "      <th>newtown</th>\n",
       "      <th>rd_addr_ex</th>\n",
       "    </tr>\n",
       "  </thead>\n",
       "  <tbody>\n",
       "    <tr>\n",
       "      <th>11964</th>\n",
       "      <td>식품자동판매기업</td>\n",
       "      <td>2022-07-05</td>\n",
       "      <td>NaN</td>\n",
       "      <td>3</td>\n",
       "      <td>폐업</td>\n",
       "      <td>2024-04-24</td>\n",
       "      <td>NaN</td>\n",
       "      <td>NaN</td>\n",
       "      <td>NaN</td>\n",
       "      <td>5.88</td>\n",
       "      <td>지 헨즈(g hans)</td>\n",
       "      <td>식품자동판매기영업</td>\n",
       "      <td>세종특별자치시 남세종로 160</td>\n",
       "      <td>127.319100</td>\n",
       "      <td>36.486243</td>\n",
       "      <td>POINT (127.31910 36.48624)</td>\n",
       "      <td>집현동</td>\n",
       "      <td>신도시</td>\n",
       "      <td>근린생활시설동 1층 9호 (집현동  새나루마을1단지)</td>\n",
       "    </tr>\n",
       "    <tr>\n",
       "      <th>23563</th>\n",
       "      <td>일반음식점</td>\n",
       "      <td>2021-11-16</td>\n",
       "      <td>NaN</td>\n",
       "      <td>3</td>\n",
       "      <td>폐업</td>\n",
       "      <td>2024-04-22</td>\n",
       "      <td>NaN</td>\n",
       "      <td>NaN</td>\n",
       "      <td>NaN</td>\n",
       "      <td>97.65</td>\n",
       "      <td>허바허바 세종집현점</td>\n",
       "      <td>중국식</td>\n",
       "      <td>세종특별자치시 집현동로 77</td>\n",
       "      <td>127.325582</td>\n",
       "      <td>36.491039</td>\n",
       "      <td>POINT (127.32558 36.49104)</td>\n",
       "      <td>집현동</td>\n",
       "      <td>신도시</td>\n",
       "      <td>124 125호 (집현동)</td>\n",
       "    </tr>\n",
       "    <tr>\n",
       "      <th>23596</th>\n",
       "      <td>일반음식점</td>\n",
       "      <td>2021-12-03</td>\n",
       "      <td>NaN</td>\n",
       "      <td>3</td>\n",
       "      <td>폐업</td>\n",
       "      <td>2023-11-23</td>\n",
       "      <td>NaN</td>\n",
       "      <td>NaN</td>\n",
       "      <td>NaN</td>\n",
       "      <td>52.65</td>\n",
       "      <td>강남반찬도시락김밥</td>\n",
       "      <td>한식</td>\n",
       "      <td>세종특별자치시 집현동로 77</td>\n",
       "      <td>127.325582</td>\n",
       "      <td>36.491039</td>\n",
       "      <td>POINT (127.32558 36.49104)</td>\n",
       "      <td>집현동</td>\n",
       "      <td>신도시</td>\n",
       "      <td>1층 114호 (집현동)</td>\n",
       "    </tr>\n",
       "    <tr>\n",
       "      <th>23751</th>\n",
       "      <td>일반음식점</td>\n",
       "      <td>2022-03-21</td>\n",
       "      <td>NaN</td>\n",
       "      <td>3</td>\n",
       "      <td>폐업</td>\n",
       "      <td>2022-11-01</td>\n",
       "      <td>NaN</td>\n",
       "      <td>NaN</td>\n",
       "      <td>NaN</td>\n",
       "      <td>98.78</td>\n",
       "      <td>오늘의 밥상</td>\n",
       "      <td>한식</td>\n",
       "      <td>세종특별자치시 집현중앙7로 6</td>\n",
       "      <td>127.331219</td>\n",
       "      <td>36.498384</td>\n",
       "      <td>POINT (127.33122 36.49838)</td>\n",
       "      <td>집현동</td>\n",
       "      <td>신도시</td>\n",
       "      <td>지식산업센터 2층 B209~B210호 (집현동)</td>\n",
       "    </tr>\n",
       "    <tr>\n",
       "      <th>24030</th>\n",
       "      <td>일반음식점</td>\n",
       "      <td>2022-09-05</td>\n",
       "      <td>NaN</td>\n",
       "      <td>3</td>\n",
       "      <td>폐업</td>\n",
       "      <td>2023-10-06</td>\n",
       "      <td>NaN</td>\n",
       "      <td>NaN</td>\n",
       "      <td>NaN</td>\n",
       "      <td>48.29</td>\n",
       "      <td>주식 보리보리</td>\n",
       "      <td>한식</td>\n",
       "      <td>세종특별자치시 집현동로 77</td>\n",
       "      <td>127.325582</td>\n",
       "      <td>36.491039</td>\n",
       "      <td>POINT (127.32558 36.49104)</td>\n",
       "      <td>집현동</td>\n",
       "      <td>신도시</td>\n",
       "      <td>1층 124호 (집현동)</td>\n",
       "    </tr>\n",
       "    <tr>\n",
       "      <th>...</th>\n",
       "      <td>...</td>\n",
       "      <td>...</td>\n",
       "      <td>...</td>\n",
       "      <td>...</td>\n",
       "      <td>...</td>\n",
       "      <td>...</td>\n",
       "      <td>...</td>\n",
       "      <td>...</td>\n",
       "      <td>...</td>\n",
       "      <td>...</td>\n",
       "      <td>...</td>\n",
       "      <td>...</td>\n",
       "      <td>...</td>\n",
       "      <td>...</td>\n",
       "      <td>...</td>\n",
       "      <td>...</td>\n",
       "      <td>...</td>\n",
       "      <td>...</td>\n",
       "      <td>...</td>\n",
       "    </tr>\n",
       "    <tr>\n",
       "      <th>27632</th>\n",
       "      <td>즉석판매제조가공업</td>\n",
       "      <td>2021-09-07</td>\n",
       "      <td>NaN</td>\n",
       "      <td>3</td>\n",
       "      <td>폐업</td>\n",
       "      <td>2023-03-07</td>\n",
       "      <td>NaN</td>\n",
       "      <td>NaN</td>\n",
       "      <td>NaN</td>\n",
       "      <td>32.89</td>\n",
       "      <td>팔도만찬 (세종해밀점)</td>\n",
       "      <td>즉석판매제조가공업</td>\n",
       "      <td>세종특별자치시 해밀3로 32</td>\n",
       "      <td>127.265646</td>\n",
       "      <td>36.526838</td>\n",
       "      <td>POINT (127.26565 36.52684)</td>\n",
       "      <td>해밀동</td>\n",
       "      <td>신도시</td>\n",
       "      <td>해밀마을1단지 지1층 130호 (해밀동  해밀마을1단지)</td>\n",
       "    </tr>\n",
       "    <tr>\n",
       "      <th>29296</th>\n",
       "      <td>집단급식소</td>\n",
       "      <td>2020-09-03</td>\n",
       "      <td>NaN</td>\n",
       "      <td>3</td>\n",
       "      <td>폐업</td>\n",
       "      <td>2021-04-02</td>\n",
       "      <td>NaN</td>\n",
       "      <td>NaN</td>\n",
       "      <td>NaN</td>\n",
       "      <td>785.56</td>\n",
       "      <td>해밀중학교</td>\n",
       "      <td>학교</td>\n",
       "      <td>세종특별자치시 해밀2로 6</td>\n",
       "      <td>127.267452</td>\n",
       "      <td>36.527818</td>\n",
       "      <td>POINT (127.26745 36.52782)</td>\n",
       "      <td>해밀동</td>\n",
       "      <td>신도시</td>\n",
       "      <td>해밀중학교 (해밀동)</td>\n",
       "    </tr>\n",
       "    <tr>\n",
       "      <th>43089</th>\n",
       "      <td>휴게음식점</td>\n",
       "      <td>2020-11-02</td>\n",
       "      <td>NaN</td>\n",
       "      <td>3</td>\n",
       "      <td>폐업</td>\n",
       "      <td>2022-12-30</td>\n",
       "      <td>NaN</td>\n",
       "      <td>NaN</td>\n",
       "      <td>NaN</td>\n",
       "      <td>1.00</td>\n",
       "      <td>씨유 세종마스터힐스2차점</td>\n",
       "      <td>편의점</td>\n",
       "      <td>세종특별자치시 해밀3로 90</td>\n",
       "      <td>127.271004</td>\n",
       "      <td>36.527172</td>\n",
       "      <td>POINT (127.27100 36.52717)</td>\n",
       "      <td>해밀동</td>\n",
       "      <td>신도시</td>\n",
       "      <td>상가동 지2층 129호 (해밀동  해밀마을2단지)</td>\n",
       "    </tr>\n",
       "    <tr>\n",
       "      <th>43231</th>\n",
       "      <td>휴게음식점</td>\n",
       "      <td>2021-05-31</td>\n",
       "      <td>NaN</td>\n",
       "      <td>3</td>\n",
       "      <td>폐업</td>\n",
       "      <td>2023-11-27</td>\n",
       "      <td>NaN</td>\n",
       "      <td>NaN</td>\n",
       "      <td>NaN</td>\n",
       "      <td>48.11</td>\n",
       "      <td>쁘띠크렘(Petit creme)</td>\n",
       "      <td>커피숍</td>\n",
       "      <td>세종특별자치시 해밀3로 32</td>\n",
       "      <td>127.265646</td>\n",
       "      <td>36.526838</td>\n",
       "      <td>POINT (127.26565 36.52684)</td>\n",
       "      <td>해밀동</td>\n",
       "      <td>신도시</td>\n",
       "      <td>근린생활시설동 지1층 134호 (해밀동  해밀마을1단지)</td>\n",
       "    </tr>\n",
       "    <tr>\n",
       "      <th>11834</th>\n",
       "      <td>식품자동판매기업</td>\n",
       "      <td>2019-02-18</td>\n",
       "      <td>NaN</td>\n",
       "      <td>3</td>\n",
       "      <td>폐업</td>\n",
       "      <td>2021-12-30</td>\n",
       "      <td>NaN</td>\n",
       "      <td>NaN</td>\n",
       "      <td>NaN</td>\n",
       "      <td>3.00</td>\n",
       "      <td>세종필드골프클럽 직원식당카페</td>\n",
       "      <td>식품자동판매기영업</td>\n",
       "      <td>세종특별자치시 정안세종로 1569</td>\n",
       "      <td>127.256604</td>\n",
       "      <td>36.535676</td>\n",
       "      <td>POINT (127.25660 36.53568)</td>\n",
       "      <td>산울동</td>\n",
       "      <td>신도시</td>\n",
       "      <td>건설공제조합 세종필드골프클럽 지하1층</td>\n",
       "    </tr>\n",
       "  </tbody>\n",
       "</table>\n",
       "<p>2879 rows × 19 columns</p>\n",
       "</div>"
      ],
      "text/plain": [
       "      service_nm    lcpmt_dt rtrcn_dt  biz_stts_cd biz_stts_nm   cls_date  \\\n",
       "11964   식품자동판매기업  2022-07-05      NaN            3          폐업 2024-04-24   \n",
       "23563      일반음식점  2021-11-16      NaN            3          폐업 2024-04-22   \n",
       "23596      일반음식점  2021-12-03      NaN            3          폐업 2023-11-23   \n",
       "23751      일반음식점  2022-03-21      NaN            3          폐업 2022-11-01   \n",
       "24030      일반음식점  2022-09-05      NaN            3          폐업 2023-10-06   \n",
       "...          ...         ...      ...          ...         ...        ...   \n",
       "27632  즉석판매제조가공업  2021-09-07      NaN            3          폐업 2023-03-07   \n",
       "29296      집단급식소  2020-09-03      NaN            3          폐업 2021-04-02   \n",
       "43089      휴게음식점  2020-11-02      NaN            3          폐업 2022-12-30   \n",
       "43231      휴게음식점  2021-05-31      NaN            3          폐업 2023-11-27   \n",
       "11834   식품자동판매기업  2019-02-18      NaN            3          폐업 2021-12-30   \n",
       "\n",
       "      tc_strt_dt tc_end_dt re_op_dt  plc_area            bplc_nm   biz_type  \\\n",
       "11964        NaN       NaN      NaN      5.88       지 헨즈(g hans)  식품자동판매기영업   \n",
       "23563        NaN       NaN      NaN     97.65         허바허바 세종집현점        중국식   \n",
       "23596        NaN       NaN      NaN     52.65          강남반찬도시락김밥         한식   \n",
       "23751        NaN       NaN      NaN     98.78             오늘의 밥상         한식   \n",
       "24030        NaN       NaN      NaN     48.29            주식 보리보리         한식   \n",
       "...          ...       ...      ...       ...                ...        ...   \n",
       "27632        NaN       NaN      NaN     32.89       팔도만찬 (세종해밀점)  즉석판매제조가공업   \n",
       "29296        NaN       NaN      NaN    785.56              해밀중학교         학교   \n",
       "43089        NaN       NaN      NaN      1.00      씨유 세종마스터힐스2차점        편의점   \n",
       "43231        NaN       NaN      NaN     48.11  쁘띠크렘(Petit creme)        커피숍   \n",
       "11834        NaN       NaN      NaN      3.00    세종필드골프클럽 직원식당카페  식품자동판매기영업   \n",
       "\n",
       "                  rd_addr         lon        lat                    geometry  \\\n",
       "11964    세종특별자치시 남세종로 160  127.319100  36.486243  POINT (127.31910 36.48624)   \n",
       "23563     세종특별자치시 집현동로 77  127.325582  36.491039  POINT (127.32558 36.49104)   \n",
       "23596     세종특별자치시 집현동로 77  127.325582  36.491039  POINT (127.32558 36.49104)   \n",
       "23751    세종특별자치시 집현중앙7로 6  127.331219  36.498384  POINT (127.33122 36.49838)   \n",
       "24030     세종특별자치시 집현동로 77  127.325582  36.491039  POINT (127.32558 36.49104)   \n",
       "...                   ...         ...        ...                         ...   \n",
       "27632     세종특별자치시 해밀3로 32  127.265646  36.526838  POINT (127.26565 36.52684)   \n",
       "29296      세종특별자치시 해밀2로 6  127.267452  36.527818  POINT (127.26745 36.52782)   \n",
       "43089     세종특별자치시 해밀3로 90  127.271004  36.527172  POINT (127.27100 36.52717)   \n",
       "43231     세종특별자치시 해밀3로 32  127.265646  36.526838  POINT (127.26565 36.52684)   \n",
       "11834  세종특별자치시 정안세종로 1569  127.256604  36.535676  POINT (127.25660 36.53568)   \n",
       "\n",
       "      ADM_NM newtown                       rd_addr_ex  \n",
       "11964    집현동     신도시    근린생활시설동 1층 9호 (집현동  새나루마을1단지)  \n",
       "23563    집현동     신도시                   124 125호 (집현동)  \n",
       "23596    집현동     신도시                    1층 114호 (집현동)  \n",
       "23751    집현동     신도시       지식산업센터 2층 B209~B210호 (집현동)  \n",
       "24030    집현동     신도시                    1층 124호 (집현동)  \n",
       "...      ...     ...                              ...  \n",
       "27632    해밀동     신도시  해밀마을1단지 지1층 130호 (해밀동  해밀마을1단지)  \n",
       "29296    해밀동     신도시                      해밀중학교 (해밀동)  \n",
       "43089    해밀동     신도시      상가동 지2층 129호 (해밀동  해밀마을2단지)  \n",
       "43231    해밀동     신도시  근린생활시설동 지1층 134호 (해밀동  해밀마을1단지)  \n",
       "11834    산울동     신도시             건설공제조합 세종필드골프클럽 지하1층  \n",
       "\n",
       "[2879 rows x 19 columns]"
      ]
     },
     "execution_count": 225,
     "metadata": {},
     "output_type": "execute_result"
    }
   ],
   "source": [
    "filtered_df_rd = filtered_df[~filtered_df['rd_addr'].isnull()]\n",
    "filtered_df_rd = filtered_df_rd[~filtered_df_rd['rd_addr'].str.contains('*', regex=False)]\n",
    "filtered_df_rd = filtered_df_rd[~filtered_df_rd['plc_area'].isnull()]\n",
    "\n",
    "# \"~~시 ~~로 숫자\" 형식으로 필터링하고 나머지는 rd_addr_ex 열에 저장\n",
    "def filter_rd_addr(addr):\n",
    "    match = re.match(r'(.*?시.*?로\\s*\\d+)', addr)\n",
    "    if match:\n",
    "        main_addr = match.group(1)\n",
    "        extra_addr = addr[len(main_addr):].strip()\n",
    "        return main_addr, extra_addr\n",
    "    return addr, ''\n",
    "\n",
    "filtered_df_rd[['rd_addr', 'rd_addr_ex']] = filtered_df_rd['rd_addr'].apply(lambda x: pd.Series(filter_rd_addr(x)))\n",
    "filtered_df_rd"
   ]
  },
  {
   "cell_type": "code",
   "execution_count": null,
   "metadata": {},
   "outputs": [],
   "source": [
    "filtered_df_rd"
   ]
  },
  {
   "cell_type": "markdown",
   "metadata": {},
   "source": [
    "#### 카드매출(격자매핑)"
   ]
  },
  {
   "cell_type": "code",
   "execution_count": 12,
   "metadata": {},
   "outputs": [
    {
     "name": "stderr",
     "output_type": "stream",
     "text": [
      "c:\\Users\\HJK\\anaconda3\\envs\\GIS\\lib\\site-packages\\IPython\\core\\interactiveshell.py:3445: FutureWarning:\n",
      "\n",
      "The `op` parameter is deprecated and will be removed in a future release. Please use the `predicate` parameter instead.\n",
      "\n"
     ]
    }
   ],
   "source": [
    "sales_df = pd.read_csv('SBJ_2406_002/9.세종시_카드매출(격자매핑).csv')\n",
    "\n",
    "# 격자 ID와 격자 폴리곤 각각을 매핑한 딕셔너리 생성\n",
    "map_dic = dict(zip(grid_map_df['properties.gid'], grid_map_df['geometry']))\n",
    "\n",
    "# 생성된 map_dic에 filtered_respop의 gid를 매핑하여 'geometry' column 생성\n",
    "geometry_lst = []\n",
    "for _, row in sales_df.iterrows():\n",
    "    geometry_lst.append(map_dic[row['gid']])\n",
    "sales_df['geometry'] = geometry_lst\n",
    "sales_df = gpd.GeoDataFrame(sales_df, geometry='geometry')\n",
    "sales_df = gpd.sjoin(sales_df, sejong_gdf, how='inner', op='intersects')\n",
    "sales_df = sales_df[sales_df['newtown'] == '신도시']"
   ]
  },
  {
   "cell_type": "code",
   "execution_count": 90,
   "metadata": {},
   "outputs": [
    {
     "data": {
      "text/html": [
       "<div>\n",
       "<style scoped>\n",
       "    .dataframe tbody tr th:only-of-type {\n",
       "        vertical-align: middle;\n",
       "    }\n",
       "\n",
       "    .dataframe tbody tr th {\n",
       "        vertical-align: top;\n",
       "    }\n",
       "\n",
       "    .dataframe thead th {\n",
       "        text-align: right;\n",
       "    }\n",
       "</style>\n",
       "<table border=\"1\" class=\"dataframe\">\n",
       "  <thead>\n",
       "    <tr style=\"text-align: right;\">\n",
       "      <th></th>\n",
       "      <th>STDR_YM</th>\n",
       "      <th>KBC_BZC_NM_1</th>\n",
       "      <th>KBC_BZC_NM_2</th>\n",
       "      <th>KBC_BZC_NM_3</th>\n",
       "      <th>FRAN_NM</th>\n",
       "      <th>CNS_X</th>\n",
       "      <th>CNS_Y</th>\n",
       "      <th>CARD_SALES</th>\n",
       "      <th>EST_SALES</th>\n",
       "      <th>gid</th>\n",
       "      <th>geometry</th>\n",
       "      <th>index_right</th>\n",
       "      <th>ADM_NM</th>\n",
       "      <th>newtown</th>\n",
       "    </tr>\n",
       "  </thead>\n",
       "  <tbody>\n",
       "    <tr>\n",
       "      <th>1</th>\n",
       "      <td>202301</td>\n",
       "      <td>음식</td>\n",
       "      <td>커피/음료</td>\n",
       "      <td>커피전문점</td>\n",
       "      <td>(주)커피링크</td>\n",
       "      <td>127.301390</td>\n",
       "      <td>36.485671</td>\n",
       "      <td>30000.0</td>\n",
       "      <td>NaN</td>\n",
       "      <td>다바822320</td>\n",
       "      <td>POLYGON ((127.30128 36.48547, 127.30127 36.486...</td>\n",
       "      <td>1</td>\n",
       "      <td>소담동</td>\n",
       "      <td>신도시</td>\n",
       "    </tr>\n",
       "    <tr>\n",
       "      <th>2</th>\n",
       "      <td>202301</td>\n",
       "      <td>서비스</td>\n",
       "      <td>여가/오락서비스</td>\n",
       "      <td>다이어트운동센터</td>\n",
       "      <td>트루밸런스</td>\n",
       "      <td>127.301390</td>\n",
       "      <td>36.485671</td>\n",
       "      <td>0.0</td>\n",
       "      <td>0.0</td>\n",
       "      <td>다바822320</td>\n",
       "      <td>POLYGON ((127.30128 36.48547, 127.30127 36.486...</td>\n",
       "      <td>1</td>\n",
       "      <td>소담동</td>\n",
       "      <td>신도시</td>\n",
       "    </tr>\n",
       "    <tr>\n",
       "      <th>3</th>\n",
       "      <td>202301</td>\n",
       "      <td>서비스</td>\n",
       "      <td>생활편의서비스</td>\n",
       "      <td>인쇄업</td>\n",
       "      <td>서일미디어</td>\n",
       "      <td>127.301390</td>\n",
       "      <td>36.485671</td>\n",
       "      <td>284050.0</td>\n",
       "      <td>7712.0</td>\n",
       "      <td>다바822320</td>\n",
       "      <td>POLYGON ((127.30128 36.48547, 127.30127 36.486...</td>\n",
       "      <td>1</td>\n",
       "      <td>소담동</td>\n",
       "      <td>신도시</td>\n",
       "    </tr>\n",
       "    <tr>\n",
       "      <th>4</th>\n",
       "      <td>202301</td>\n",
       "      <td>기타</td>\n",
       "      <td>기업</td>\n",
       "      <td>기타기업</td>\n",
       "      <td>엘리스스쿼드(ELS)</td>\n",
       "      <td>127.301390</td>\n",
       "      <td>36.485671</td>\n",
       "      <td>0.0</td>\n",
       "      <td>0.0</td>\n",
       "      <td>다바822320</td>\n",
       "      <td>POLYGON ((127.30128 36.48547, 127.30127 36.486...</td>\n",
       "      <td>1</td>\n",
       "      <td>소담동</td>\n",
       "      <td>신도시</td>\n",
       "    </tr>\n",
       "    <tr>\n",
       "      <th>5</th>\n",
       "      <td>202301</td>\n",
       "      <td>소매업</td>\n",
       "      <td>의류</td>\n",
       "      <td>일반의류(기타)</td>\n",
       "      <td>아더(OTHER)</td>\n",
       "      <td>127.301390</td>\n",
       "      <td>36.485671</td>\n",
       "      <td>245600.0</td>\n",
       "      <td>10843.0</td>\n",
       "      <td>다바822320</td>\n",
       "      <td>POLYGON ((127.30128 36.48547, 127.30127 36.486...</td>\n",
       "      <td>1</td>\n",
       "      <td>소담동</td>\n",
       "      <td>신도시</td>\n",
       "    </tr>\n",
       "    <tr>\n",
       "      <th>...</th>\n",
       "      <td>...</td>\n",
       "      <td>...</td>\n",
       "      <td>...</td>\n",
       "      <td>...</td>\n",
       "      <td>...</td>\n",
       "      <td>...</td>\n",
       "      <td>...</td>\n",
       "      <td>...</td>\n",
       "      <td>...</td>\n",
       "      <td>...</td>\n",
       "      <td>...</td>\n",
       "      <td>...</td>\n",
       "      <td>...</td>\n",
       "      <td>...</td>\n",
       "    </tr>\n",
       "    <tr>\n",
       "      <th>24337</th>\n",
       "      <td>202302</td>\n",
       "      <td>음식</td>\n",
       "      <td>한식</td>\n",
       "      <td>일반한식/백반</td>\n",
       "      <td>행복한 밥상</td>\n",
       "      <td>127.297942</td>\n",
       "      <td>36.523969</td>\n",
       "      <td>126000.0</td>\n",
       "      <td>3595.0</td>\n",
       "      <td>다바819362</td>\n",
       "      <td>POLYGON ((127.29783 36.52333, 127.29783 36.524...</td>\n",
       "      <td>19</td>\n",
       "      <td>누리동</td>\n",
       "      <td>신도시</td>\n",
       "    </tr>\n",
       "    <tr>\n",
       "      <th>46932</th>\n",
       "      <td>202303</td>\n",
       "      <td>음식</td>\n",
       "      <td>한식</td>\n",
       "      <td>일반한식/백반</td>\n",
       "      <td>행복한 밥상</td>\n",
       "      <td>127.297942</td>\n",
       "      <td>36.523969</td>\n",
       "      <td>324000.0</td>\n",
       "      <td>3811.0</td>\n",
       "      <td>다바819362</td>\n",
       "      <td>POLYGON ((127.29783 36.52333, 127.29783 36.524...</td>\n",
       "      <td>19</td>\n",
       "      <td>누리동</td>\n",
       "      <td>신도시</td>\n",
       "    </tr>\n",
       "    <tr>\n",
       "      <th>57061</th>\n",
       "      <td>202304</td>\n",
       "      <td>음식</td>\n",
       "      <td>한식</td>\n",
       "      <td>일반한식/백반</td>\n",
       "      <td>행복한 밥상</td>\n",
       "      <td>127.297942</td>\n",
       "      <td>36.523969</td>\n",
       "      <td>90000.0</td>\n",
       "      <td>1473.0</td>\n",
       "      <td>다바819362</td>\n",
       "      <td>POLYGON ((127.29783 36.52333, 127.29783 36.524...</td>\n",
       "      <td>19</td>\n",
       "      <td>누리동</td>\n",
       "      <td>신도시</td>\n",
       "    </tr>\n",
       "    <tr>\n",
       "      <th>100827</th>\n",
       "      <td>202305</td>\n",
       "      <td>음식</td>\n",
       "      <td>한식</td>\n",
       "      <td>일반한식/백반</td>\n",
       "      <td>행복한 밥상</td>\n",
       "      <td>127.297942</td>\n",
       "      <td>36.523969</td>\n",
       "      <td>222000.0</td>\n",
       "      <td>1603.0</td>\n",
       "      <td>다바819362</td>\n",
       "      <td>POLYGON ((127.29783 36.52333, 127.29783 36.524...</td>\n",
       "      <td>19</td>\n",
       "      <td>누리동</td>\n",
       "      <td>신도시</td>\n",
       "    </tr>\n",
       "    <tr>\n",
       "      <th>101014</th>\n",
       "      <td>202305</td>\n",
       "      <td>음식</td>\n",
       "      <td>한식</td>\n",
       "      <td>일반한식/백반</td>\n",
       "      <td>행복한 밥상</td>\n",
       "      <td>127.297942</td>\n",
       "      <td>36.523969</td>\n",
       "      <td>372000.0</td>\n",
       "      <td>2685.0</td>\n",
       "      <td>다바819362</td>\n",
       "      <td>POLYGON ((127.29783 36.52333, 127.29783 36.524...</td>\n",
       "      <td>19</td>\n",
       "      <td>누리동</td>\n",
       "      <td>신도시</td>\n",
       "    </tr>\n",
       "  </tbody>\n",
       "</table>\n",
       "<p>73797 rows × 14 columns</p>\n",
       "</div>"
      ],
      "text/plain": [
       "        STDR_YM KBC_BZC_NM_1 KBC_BZC_NM_2 KBC_BZC_NM_3      FRAN_NM  \\\n",
       "1        202301           음식        커피/음료        커피전문점      (주)커피링크   \n",
       "2        202301          서비스     여가/오락서비스     다이어트운동센터        트루밸런스   \n",
       "3        202301          서비스      생활편의서비스          인쇄업        서일미디어   \n",
       "4        202301           기타           기업         기타기업  엘리스스쿼드(ELS)   \n",
       "5        202301          소매업           의류     일반의류(기타)    아더(OTHER)   \n",
       "...         ...          ...          ...          ...          ...   \n",
       "24337    202302           음식           한식      일반한식/백반       행복한 밥상   \n",
       "46932    202303           음식           한식      일반한식/백반       행복한 밥상   \n",
       "57061    202304           음식           한식      일반한식/백반       행복한 밥상   \n",
       "100827   202305           음식           한식      일반한식/백반       행복한 밥상   \n",
       "101014   202305           음식           한식      일반한식/백반       행복한 밥상   \n",
       "\n",
       "             CNS_X      CNS_Y  CARD_SALES  EST_SALES       gid  \\\n",
       "1       127.301390  36.485671     30000.0        NaN  다바822320   \n",
       "2       127.301390  36.485671         0.0        0.0  다바822320   \n",
       "3       127.301390  36.485671    284050.0     7712.0  다바822320   \n",
       "4       127.301390  36.485671         0.0        0.0  다바822320   \n",
       "5       127.301390  36.485671    245600.0    10843.0  다바822320   \n",
       "...            ...        ...         ...        ...       ...   \n",
       "24337   127.297942  36.523969    126000.0     3595.0  다바819362   \n",
       "46932   127.297942  36.523969    324000.0     3811.0  다바819362   \n",
       "57061   127.297942  36.523969     90000.0     1473.0  다바819362   \n",
       "100827  127.297942  36.523969    222000.0     1603.0  다바819362   \n",
       "101014  127.297942  36.523969    372000.0     2685.0  다바819362   \n",
       "\n",
       "                                                 geometry  index_right ADM_NM  \\\n",
       "1       POLYGON ((127.30128 36.48547, 127.30127 36.486...            1    소담동   \n",
       "2       POLYGON ((127.30128 36.48547, 127.30127 36.486...            1    소담동   \n",
       "3       POLYGON ((127.30128 36.48547, 127.30127 36.486...            1    소담동   \n",
       "4       POLYGON ((127.30128 36.48547, 127.30127 36.486...            1    소담동   \n",
       "5       POLYGON ((127.30128 36.48547, 127.30127 36.486...            1    소담동   \n",
       "...                                                   ...          ...    ...   \n",
       "24337   POLYGON ((127.29783 36.52333, 127.29783 36.524...           19    누리동   \n",
       "46932   POLYGON ((127.29783 36.52333, 127.29783 36.524...           19    누리동   \n",
       "57061   POLYGON ((127.29783 36.52333, 127.29783 36.524...           19    누리동   \n",
       "100827  POLYGON ((127.29783 36.52333, 127.29783 36.524...           19    누리동   \n",
       "101014  POLYGON ((127.29783 36.52333, 127.29783 36.524...           19    누리동   \n",
       "\n",
       "       newtown  \n",
       "1          신도시  \n",
       "2          신도시  \n",
       "3          신도시  \n",
       "4          신도시  \n",
       "5          신도시  \n",
       "...        ...  \n",
       "24337      신도시  \n",
       "46932      신도시  \n",
       "57061      신도시  \n",
       "100827     신도시  \n",
       "101014     신도시  \n",
       "\n",
       "[73797 rows x 14 columns]"
      ]
     },
     "execution_count": 90,
     "metadata": {},
     "output_type": "execute_result"
    }
   ],
   "source": [
    "sales_df"
   ]
  },
  {
   "cell_type": "code",
   "execution_count": 99,
   "metadata": {},
   "outputs": [],
   "source": [
    "sales_df_sum = sales_df.groupby(['gid', 'geometry', 'newtown']).agg({'EST_SALES': 'sum'}).reset_index()\n",
    "sales_df_sum = gpd.GeoDataFrame(sales_df_sum, geometry='geometry')\n",
    "sales_df_mean = sales_df.groupby(['gid', 'geometry', 'newtown']).agg({'EST_SALES': 'mean'}).reset_index()\n",
    "sales_df_mean = gpd.GeoDataFrame(sales_df_mean, geometry='geometry')"
   ]
  },
  {
   "cell_type": "code",
   "execution_count": null,
   "metadata": {},
   "outputs": [],
   "source": [
    "# 맵 객체 생성 및 데이터 로드\n",
    "sejong_sales_map = KeplerGl(height=1000, width=1500)\n",
    "sejong_sales_map.add_data(data=sejong_gdf, name=\"세종시 행정구역 데이터\")\n",
    "sejong_sales_map.add_data(data=sales_df_sum, name=\"세종시 격자 총매출 데이터\")\n",
    "sejong_sales_map.add_data(data=sales_df_mean, name=\"세종시 격자 평균매출 데이터\")\n",
    "\n",
    "# 맵 출력 및 상세설정\n",
    "sejong_sales_map"
   ]
  },
  {
   "cell_type": "code",
   "execution_count": 104,
   "metadata": {},
   "outputs": [
    {
     "name": "stdout",
     "output_type": "stream",
     "text": [
      "Map saved to visualization/세종시 현황/세종시 격자별 매출 map.html!\n"
     ]
    }
   ],
   "source": [
    "# 맵 저장\n",
    "sejong_sales_map.save_to_html(file_name=\"visualization/세종시 현황/세종시 격자별 매출 map.html\")"
   ]
  },
  {
   "cell_type": "code",
   "execution_count": 113,
   "metadata": {},
   "outputs": [],
   "source": [
    "sejong_sales_sum = sales_df.groupby(['ADM_NM']).agg({'EST_SALES': 'sum'}).reset_index()\n",
    "sejong_sales_mean = sales_df.groupby(['ADM_NM']).agg({'EST_SALES': 'mean'}).reset_index()"
   ]
  },
  {
   "cell_type": "code",
   "execution_count": 116,
   "metadata": {},
   "outputs": [
    {
     "data": {
      "application/vnd.plotly.v1+json": {
       "config": {
        "plotlyServerURL": "https://plot.ly"
       },
       "data": [
        {
         "alignmentgroup": "True",
         "hovertemplate": "ADM_NM=%{x}<br>EST_SALES=%{marker.color}<extra></extra>",
         "legendgroup": "",
         "marker": {
          "color": [
           184444748,
           118263554,
           86855772,
           83618675,
           82493380,
           81744701,
           66472173,
           61676660,
           58703995,
           53051458,
           52452261,
           41695736,
           37869789,
           19036516,
           11743023,
           10780173,
           7951753,
           6979024,
           174982,
           133915,
           13167,
           0
          ],
          "coloraxis": "coloraxis",
          "pattern": {
           "shape": ""
          }
         },
         "name": "",
         "offsetgroup": "",
         "orientation": "v",
         "showlegend": false,
         "textposition": "auto",
         "type": "bar",
         "x": [
          "나성동",
          "새롬동",
          "아름동",
          "도담동",
          "고운동",
          "보람동",
          "어진동",
          "종촌동",
          "소담동",
          "다정동",
          "한솔동",
          "대평동",
          "반곡동",
          "세종동",
          "해밀동",
          "산울동",
          "가람동",
          "집현동",
          "합강동",
          "한별동",
          "누리동",
          "다솜동"
         ],
         "xaxis": "x",
         "y": [
          184444748,
          118263554,
          86855772,
          83618675,
          82493380,
          81744701,
          66472173,
          61676660,
          58703995,
          53051458,
          52452261,
          41695736,
          37869789,
          19036516,
          11743023,
          10780173,
          7951753,
          6979024,
          174982,
          133915,
          13167,
          0
         ],
         "yaxis": "y"
        }
       ],
       "layout": {
        "barmode": "relative",
        "coloraxis": {
         "colorbar": {
          "title": {
           "text": "EST_SALES"
          }
         },
         "colorscale": [
          [
           0,
           "#0d0887"
          ],
          [
           0.1111111111111111,
           "#46039f"
          ],
          [
           0.2222222222222222,
           "#7201a8"
          ],
          [
           0.3333333333333333,
           "#9c179e"
          ],
          [
           0.4444444444444444,
           "#bd3786"
          ],
          [
           0.5555555555555556,
           "#d8576b"
          ],
          [
           0.6666666666666666,
           "#ed7953"
          ],
          [
           0.7777777777777778,
           "#fb9f3a"
          ],
          [
           0.8888888888888888,
           "#fdca26"
          ],
          [
           1,
           "#f0f921"
          ]
         ]
        },
        "legend": {
         "tracegroupgap": 0
        },
        "margin": {
         "t": 60
        },
        "template": {
         "data": {
          "bar": [
           {
            "error_x": {
             "color": "#2a3f5f"
            },
            "error_y": {
             "color": "#2a3f5f"
            },
            "marker": {
             "line": {
              "color": "#E5ECF6",
              "width": 0.5
             },
             "pattern": {
              "fillmode": "overlay",
              "size": 10,
              "solidity": 0.2
             }
            },
            "type": "bar"
           }
          ],
          "barpolar": [
           {
            "marker": {
             "line": {
              "color": "#E5ECF6",
              "width": 0.5
             },
             "pattern": {
              "fillmode": "overlay",
              "size": 10,
              "solidity": 0.2
             }
            },
            "type": "barpolar"
           }
          ],
          "carpet": [
           {
            "aaxis": {
             "endlinecolor": "#2a3f5f",
             "gridcolor": "white",
             "linecolor": "white",
             "minorgridcolor": "white",
             "startlinecolor": "#2a3f5f"
            },
            "baxis": {
             "endlinecolor": "#2a3f5f",
             "gridcolor": "white",
             "linecolor": "white",
             "minorgridcolor": "white",
             "startlinecolor": "#2a3f5f"
            },
            "type": "carpet"
           }
          ],
          "choropleth": [
           {
            "colorbar": {
             "outlinewidth": 0,
             "ticks": ""
            },
            "type": "choropleth"
           }
          ],
          "contour": [
           {
            "colorbar": {
             "outlinewidth": 0,
             "ticks": ""
            },
            "colorscale": [
             [
              0,
              "#0d0887"
             ],
             [
              0.1111111111111111,
              "#46039f"
             ],
             [
              0.2222222222222222,
              "#7201a8"
             ],
             [
              0.3333333333333333,
              "#9c179e"
             ],
             [
              0.4444444444444444,
              "#bd3786"
             ],
             [
              0.5555555555555556,
              "#d8576b"
             ],
             [
              0.6666666666666666,
              "#ed7953"
             ],
             [
              0.7777777777777778,
              "#fb9f3a"
             ],
             [
              0.8888888888888888,
              "#fdca26"
             ],
             [
              1,
              "#f0f921"
             ]
            ],
            "type": "contour"
           }
          ],
          "contourcarpet": [
           {
            "colorbar": {
             "outlinewidth": 0,
             "ticks": ""
            },
            "type": "contourcarpet"
           }
          ],
          "heatmap": [
           {
            "colorbar": {
             "outlinewidth": 0,
             "ticks": ""
            },
            "colorscale": [
             [
              0,
              "#0d0887"
             ],
             [
              0.1111111111111111,
              "#46039f"
             ],
             [
              0.2222222222222222,
              "#7201a8"
             ],
             [
              0.3333333333333333,
              "#9c179e"
             ],
             [
              0.4444444444444444,
              "#bd3786"
             ],
             [
              0.5555555555555556,
              "#d8576b"
             ],
             [
              0.6666666666666666,
              "#ed7953"
             ],
             [
              0.7777777777777778,
              "#fb9f3a"
             ],
             [
              0.8888888888888888,
              "#fdca26"
             ],
             [
              1,
              "#f0f921"
             ]
            ],
            "type": "heatmap"
           }
          ],
          "heatmapgl": [
           {
            "colorbar": {
             "outlinewidth": 0,
             "ticks": ""
            },
            "colorscale": [
             [
              0,
              "#0d0887"
             ],
             [
              0.1111111111111111,
              "#46039f"
             ],
             [
              0.2222222222222222,
              "#7201a8"
             ],
             [
              0.3333333333333333,
              "#9c179e"
             ],
             [
              0.4444444444444444,
              "#bd3786"
             ],
             [
              0.5555555555555556,
              "#d8576b"
             ],
             [
              0.6666666666666666,
              "#ed7953"
             ],
             [
              0.7777777777777778,
              "#fb9f3a"
             ],
             [
              0.8888888888888888,
              "#fdca26"
             ],
             [
              1,
              "#f0f921"
             ]
            ],
            "type": "heatmapgl"
           }
          ],
          "histogram": [
           {
            "marker": {
             "pattern": {
              "fillmode": "overlay",
              "size": 10,
              "solidity": 0.2
             }
            },
            "type": "histogram"
           }
          ],
          "histogram2d": [
           {
            "colorbar": {
             "outlinewidth": 0,
             "ticks": ""
            },
            "colorscale": [
             [
              0,
              "#0d0887"
             ],
             [
              0.1111111111111111,
              "#46039f"
             ],
             [
              0.2222222222222222,
              "#7201a8"
             ],
             [
              0.3333333333333333,
              "#9c179e"
             ],
             [
              0.4444444444444444,
              "#bd3786"
             ],
             [
              0.5555555555555556,
              "#d8576b"
             ],
             [
              0.6666666666666666,
              "#ed7953"
             ],
             [
              0.7777777777777778,
              "#fb9f3a"
             ],
             [
              0.8888888888888888,
              "#fdca26"
             ],
             [
              1,
              "#f0f921"
             ]
            ],
            "type": "histogram2d"
           }
          ],
          "histogram2dcontour": [
           {
            "colorbar": {
             "outlinewidth": 0,
             "ticks": ""
            },
            "colorscale": [
             [
              0,
              "#0d0887"
             ],
             [
              0.1111111111111111,
              "#46039f"
             ],
             [
              0.2222222222222222,
              "#7201a8"
             ],
             [
              0.3333333333333333,
              "#9c179e"
             ],
             [
              0.4444444444444444,
              "#bd3786"
             ],
             [
              0.5555555555555556,
              "#d8576b"
             ],
             [
              0.6666666666666666,
              "#ed7953"
             ],
             [
              0.7777777777777778,
              "#fb9f3a"
             ],
             [
              0.8888888888888888,
              "#fdca26"
             ],
             [
              1,
              "#f0f921"
             ]
            ],
            "type": "histogram2dcontour"
           }
          ],
          "mesh3d": [
           {
            "colorbar": {
             "outlinewidth": 0,
             "ticks": ""
            },
            "type": "mesh3d"
           }
          ],
          "parcoords": [
           {
            "line": {
             "colorbar": {
              "outlinewidth": 0,
              "ticks": ""
             }
            },
            "type": "parcoords"
           }
          ],
          "pie": [
           {
            "automargin": true,
            "type": "pie"
           }
          ],
          "scatter": [
           {
            "fillpattern": {
             "fillmode": "overlay",
             "size": 10,
             "solidity": 0.2
            },
            "type": "scatter"
           }
          ],
          "scatter3d": [
           {
            "line": {
             "colorbar": {
              "outlinewidth": 0,
              "ticks": ""
             }
            },
            "marker": {
             "colorbar": {
              "outlinewidth": 0,
              "ticks": ""
             }
            },
            "type": "scatter3d"
           }
          ],
          "scattercarpet": [
           {
            "marker": {
             "colorbar": {
              "outlinewidth": 0,
              "ticks": ""
             }
            },
            "type": "scattercarpet"
           }
          ],
          "scattergeo": [
           {
            "marker": {
             "colorbar": {
              "outlinewidth": 0,
              "ticks": ""
             }
            },
            "type": "scattergeo"
           }
          ],
          "scattergl": [
           {
            "marker": {
             "colorbar": {
              "outlinewidth": 0,
              "ticks": ""
             }
            },
            "type": "scattergl"
           }
          ],
          "scattermapbox": [
           {
            "marker": {
             "colorbar": {
              "outlinewidth": 0,
              "ticks": ""
             }
            },
            "type": "scattermapbox"
           }
          ],
          "scatterpolar": [
           {
            "marker": {
             "colorbar": {
              "outlinewidth": 0,
              "ticks": ""
             }
            },
            "type": "scatterpolar"
           }
          ],
          "scatterpolargl": [
           {
            "marker": {
             "colorbar": {
              "outlinewidth": 0,
              "ticks": ""
             }
            },
            "type": "scatterpolargl"
           }
          ],
          "scatterternary": [
           {
            "marker": {
             "colorbar": {
              "outlinewidth": 0,
              "ticks": ""
             }
            },
            "type": "scatterternary"
           }
          ],
          "surface": [
           {
            "colorbar": {
             "outlinewidth": 0,
             "ticks": ""
            },
            "colorscale": [
             [
              0,
              "#0d0887"
             ],
             [
              0.1111111111111111,
              "#46039f"
             ],
             [
              0.2222222222222222,
              "#7201a8"
             ],
             [
              0.3333333333333333,
              "#9c179e"
             ],
             [
              0.4444444444444444,
              "#bd3786"
             ],
             [
              0.5555555555555556,
              "#d8576b"
             ],
             [
              0.6666666666666666,
              "#ed7953"
             ],
             [
              0.7777777777777778,
              "#fb9f3a"
             ],
             [
              0.8888888888888888,
              "#fdca26"
             ],
             [
              1,
              "#f0f921"
             ]
            ],
            "type": "surface"
           }
          ],
          "table": [
           {
            "cells": {
             "fill": {
              "color": "#EBF0F8"
             },
             "line": {
              "color": "white"
             }
            },
            "header": {
             "fill": {
              "color": "#C8D4E3"
             },
             "line": {
              "color": "white"
             }
            },
            "type": "table"
           }
          ]
         },
         "layout": {
          "annotationdefaults": {
           "arrowcolor": "#2a3f5f",
           "arrowhead": 0,
           "arrowwidth": 1
          },
          "autotypenumbers": "strict",
          "coloraxis": {
           "colorbar": {
            "outlinewidth": 0,
            "ticks": ""
           }
          },
          "colorscale": {
           "diverging": [
            [
             0,
             "#8e0152"
            ],
            [
             0.1,
             "#c51b7d"
            ],
            [
             0.2,
             "#de77ae"
            ],
            [
             0.3,
             "#f1b6da"
            ],
            [
             0.4,
             "#fde0ef"
            ],
            [
             0.5,
             "#f7f7f7"
            ],
            [
             0.6,
             "#e6f5d0"
            ],
            [
             0.7,
             "#b8e186"
            ],
            [
             0.8,
             "#7fbc41"
            ],
            [
             0.9,
             "#4d9221"
            ],
            [
             1,
             "#276419"
            ]
           ],
           "sequential": [
            [
             0,
             "#0d0887"
            ],
            [
             0.1111111111111111,
             "#46039f"
            ],
            [
             0.2222222222222222,
             "#7201a8"
            ],
            [
             0.3333333333333333,
             "#9c179e"
            ],
            [
             0.4444444444444444,
             "#bd3786"
            ],
            [
             0.5555555555555556,
             "#d8576b"
            ],
            [
             0.6666666666666666,
             "#ed7953"
            ],
            [
             0.7777777777777778,
             "#fb9f3a"
            ],
            [
             0.8888888888888888,
             "#fdca26"
            ],
            [
             1,
             "#f0f921"
            ]
           ],
           "sequentialminus": [
            [
             0,
             "#0d0887"
            ],
            [
             0.1111111111111111,
             "#46039f"
            ],
            [
             0.2222222222222222,
             "#7201a8"
            ],
            [
             0.3333333333333333,
             "#9c179e"
            ],
            [
             0.4444444444444444,
             "#bd3786"
            ],
            [
             0.5555555555555556,
             "#d8576b"
            ],
            [
             0.6666666666666666,
             "#ed7953"
            ],
            [
             0.7777777777777778,
             "#fb9f3a"
            ],
            [
             0.8888888888888888,
             "#fdca26"
            ],
            [
             1,
             "#f0f921"
            ]
           ]
          },
          "colorway": [
           "#636efa",
           "#EF553B",
           "#00cc96",
           "#ab63fa",
           "#FFA15A",
           "#19d3f3",
           "#FF6692",
           "#B6E880",
           "#FF97FF",
           "#FECB52"
          ],
          "font": {
           "color": "#2a3f5f"
          },
          "geo": {
           "bgcolor": "white",
           "lakecolor": "white",
           "landcolor": "#E5ECF6",
           "showlakes": true,
           "showland": true,
           "subunitcolor": "white"
          },
          "hoverlabel": {
           "align": "left"
          },
          "hovermode": "closest",
          "mapbox": {
           "style": "light"
          },
          "paper_bgcolor": "white",
          "plot_bgcolor": "#E5ECF6",
          "polar": {
           "angularaxis": {
            "gridcolor": "white",
            "linecolor": "white",
            "ticks": ""
           },
           "bgcolor": "#E5ECF6",
           "radialaxis": {
            "gridcolor": "white",
            "linecolor": "white",
            "ticks": ""
           }
          },
          "scene": {
           "xaxis": {
            "backgroundcolor": "#E5ECF6",
            "gridcolor": "white",
            "gridwidth": 2,
            "linecolor": "white",
            "showbackground": true,
            "ticks": "",
            "zerolinecolor": "white"
           },
           "yaxis": {
            "backgroundcolor": "#E5ECF6",
            "gridcolor": "white",
            "gridwidth": 2,
            "linecolor": "white",
            "showbackground": true,
            "ticks": "",
            "zerolinecolor": "white"
           },
           "zaxis": {
            "backgroundcolor": "#E5ECF6",
            "gridcolor": "white",
            "gridwidth": 2,
            "linecolor": "white",
            "showbackground": true,
            "ticks": "",
            "zerolinecolor": "white"
           }
          },
          "shapedefaults": {
           "line": {
            "color": "#2a3f5f"
           }
          },
          "ternary": {
           "aaxis": {
            "gridcolor": "white",
            "linecolor": "white",
            "ticks": ""
           },
           "baxis": {
            "gridcolor": "white",
            "linecolor": "white",
            "ticks": ""
           },
           "bgcolor": "#E5ECF6",
           "caxis": {
            "gridcolor": "white",
            "linecolor": "white",
            "ticks": ""
           }
          },
          "title": {
           "x": 0.05
          },
          "xaxis": {
           "automargin": true,
           "gridcolor": "white",
           "linecolor": "white",
           "ticks": "",
           "title": {
            "standoff": 15
           },
           "zerolinecolor": "white",
           "zerolinewidth": 2
          },
          "yaxis": {
           "automargin": true,
           "gridcolor": "white",
           "linecolor": "white",
           "ticks": "",
           "title": {
            "standoff": 15
           },
           "zerolinecolor": "white",
           "zerolinewidth": 2
          }
         }
        },
        "xaxis": {
         "anchor": "y",
         "domain": [
          0,
          1
         ],
         "title": {
          "text": "ADM_NM"
         }
        },
        "yaxis": {
         "anchor": "x",
         "domain": [
          0,
          1
         ],
         "title": {
          "text": "EST_SALES"
         }
        }
       }
      }
     },
     "metadata": {},
     "output_type": "display_data"
    }
   ],
   "source": [
    "# 시각화를 위한 데이터프레임 생성 및 전체 가게건수 높은순으로 정렬\n",
    "plot_df_total = sejong_sales_sum.reset_index().sort_values(by='EST_SALES', ascending=False)\n",
    "\n",
    "# 시각화\n",
    "fig_total = px.bar(plot_df_total, x='ADM_NM', y='EST_SALES', color='EST_SALES', color_continuous_scale='plasma')\n",
    "fig_total.show()"
   ]
  },
  {
   "cell_type": "code",
   "execution_count": 119,
   "metadata": {},
   "outputs": [
    {
     "data": {
      "application/vnd.plotly.v1+json": {
       "config": {
        "plotlyServerURL": "https://plot.ly"
       },
       "data": [
        {
         "alignmentgroup": "True",
         "hovertemplate": "ADM_NM=%{x}<br>EST_SALES=%{marker.color}<extra></extra>",
         "legendgroup": "",
         "marker": {
          "color": [
           19036.510269377646,
           19766.597693464817,
           19005.639387308533,
           16470.095528855625,
           14306.864377384669,
           13878.557045840407,
           16684.782379518074,
           16295.02245706737,
           14276.263375486382,
           15080.00511654349,
           16725.848533163266,
           16351.269019607844,
           17379.435061955024,
           13646.248028673836,
           17345.676514032497,
           49908.208333333336,
           76459.16346153847,
           11095.427662957074,
           29163.666666666668,
           11159.583333333334,
           2194.5,
           0
          ],
          "coloraxis": "coloraxis",
          "pattern": {
           "shape": ""
          }
         },
         "name": "",
         "offsetgroup": "",
         "orientation": "v",
         "showlegend": false,
         "textposition": "auto",
         "type": "bar",
         "x": [
          "나성동",
          "새롬동",
          "아름동",
          "도담동",
          "고운동",
          "보람동",
          "어진동",
          "종촌동",
          "소담동",
          "다정동",
          "한솔동",
          "대평동",
          "반곡동",
          "세종동",
          "해밀동",
          "산울동",
          "가람동",
          "집현동",
          "합강동",
          "한별동",
          "누리동",
          "다솜동"
         ],
         "xaxis": "x",
         "y": [
          19036.510269377646,
          19766.597693464817,
          19005.639387308533,
          16470.095528855625,
          14306.864377384669,
          13878.557045840407,
          16684.782379518074,
          16295.02245706737,
          14276.263375486382,
          15080.00511654349,
          16725.848533163266,
          16351.269019607844,
          17379.435061955024,
          13646.248028673836,
          17345.676514032497,
          49908.208333333336,
          76459.16346153847,
          11095.427662957074,
          29163.666666666668,
          11159.583333333334,
          2194.5,
          0
         ],
         "yaxis": "y"
        }
       ],
       "layout": {
        "barmode": "relative",
        "coloraxis": {
         "colorbar": {
          "title": {
           "text": "EST_SALES"
          }
         },
         "colorscale": [
          [
           0,
           "#0d0887"
          ],
          [
           0.1111111111111111,
           "#46039f"
          ],
          [
           0.2222222222222222,
           "#7201a8"
          ],
          [
           0.3333333333333333,
           "#9c179e"
          ],
          [
           0.4444444444444444,
           "#bd3786"
          ],
          [
           0.5555555555555556,
           "#d8576b"
          ],
          [
           0.6666666666666666,
           "#ed7953"
          ],
          [
           0.7777777777777778,
           "#fb9f3a"
          ],
          [
           0.8888888888888888,
           "#fdca26"
          ],
          [
           1,
           "#f0f921"
          ]
         ]
        },
        "legend": {
         "tracegroupgap": 0
        },
        "margin": {
         "t": 60
        },
        "template": {
         "data": {
          "bar": [
           {
            "error_x": {
             "color": "#2a3f5f"
            },
            "error_y": {
             "color": "#2a3f5f"
            },
            "marker": {
             "line": {
              "color": "#E5ECF6",
              "width": 0.5
             },
             "pattern": {
              "fillmode": "overlay",
              "size": 10,
              "solidity": 0.2
             }
            },
            "type": "bar"
           }
          ],
          "barpolar": [
           {
            "marker": {
             "line": {
              "color": "#E5ECF6",
              "width": 0.5
             },
             "pattern": {
              "fillmode": "overlay",
              "size": 10,
              "solidity": 0.2
             }
            },
            "type": "barpolar"
           }
          ],
          "carpet": [
           {
            "aaxis": {
             "endlinecolor": "#2a3f5f",
             "gridcolor": "white",
             "linecolor": "white",
             "minorgridcolor": "white",
             "startlinecolor": "#2a3f5f"
            },
            "baxis": {
             "endlinecolor": "#2a3f5f",
             "gridcolor": "white",
             "linecolor": "white",
             "minorgridcolor": "white",
             "startlinecolor": "#2a3f5f"
            },
            "type": "carpet"
           }
          ],
          "choropleth": [
           {
            "colorbar": {
             "outlinewidth": 0,
             "ticks": ""
            },
            "type": "choropleth"
           }
          ],
          "contour": [
           {
            "colorbar": {
             "outlinewidth": 0,
             "ticks": ""
            },
            "colorscale": [
             [
              0,
              "#0d0887"
             ],
             [
              0.1111111111111111,
              "#46039f"
             ],
             [
              0.2222222222222222,
              "#7201a8"
             ],
             [
              0.3333333333333333,
              "#9c179e"
             ],
             [
              0.4444444444444444,
              "#bd3786"
             ],
             [
              0.5555555555555556,
              "#d8576b"
             ],
             [
              0.6666666666666666,
              "#ed7953"
             ],
             [
              0.7777777777777778,
              "#fb9f3a"
             ],
             [
              0.8888888888888888,
              "#fdca26"
             ],
             [
              1,
              "#f0f921"
             ]
            ],
            "type": "contour"
           }
          ],
          "contourcarpet": [
           {
            "colorbar": {
             "outlinewidth": 0,
             "ticks": ""
            },
            "type": "contourcarpet"
           }
          ],
          "heatmap": [
           {
            "colorbar": {
             "outlinewidth": 0,
             "ticks": ""
            },
            "colorscale": [
             [
              0,
              "#0d0887"
             ],
             [
              0.1111111111111111,
              "#46039f"
             ],
             [
              0.2222222222222222,
              "#7201a8"
             ],
             [
              0.3333333333333333,
              "#9c179e"
             ],
             [
              0.4444444444444444,
              "#bd3786"
             ],
             [
              0.5555555555555556,
              "#d8576b"
             ],
             [
              0.6666666666666666,
              "#ed7953"
             ],
             [
              0.7777777777777778,
              "#fb9f3a"
             ],
             [
              0.8888888888888888,
              "#fdca26"
             ],
             [
              1,
              "#f0f921"
             ]
            ],
            "type": "heatmap"
           }
          ],
          "heatmapgl": [
           {
            "colorbar": {
             "outlinewidth": 0,
             "ticks": ""
            },
            "colorscale": [
             [
              0,
              "#0d0887"
             ],
             [
              0.1111111111111111,
              "#46039f"
             ],
             [
              0.2222222222222222,
              "#7201a8"
             ],
             [
              0.3333333333333333,
              "#9c179e"
             ],
             [
              0.4444444444444444,
              "#bd3786"
             ],
             [
              0.5555555555555556,
              "#d8576b"
             ],
             [
              0.6666666666666666,
              "#ed7953"
             ],
             [
              0.7777777777777778,
              "#fb9f3a"
             ],
             [
              0.8888888888888888,
              "#fdca26"
             ],
             [
              1,
              "#f0f921"
             ]
            ],
            "type": "heatmapgl"
           }
          ],
          "histogram": [
           {
            "marker": {
             "pattern": {
              "fillmode": "overlay",
              "size": 10,
              "solidity": 0.2
             }
            },
            "type": "histogram"
           }
          ],
          "histogram2d": [
           {
            "colorbar": {
             "outlinewidth": 0,
             "ticks": ""
            },
            "colorscale": [
             [
              0,
              "#0d0887"
             ],
             [
              0.1111111111111111,
              "#46039f"
             ],
             [
              0.2222222222222222,
              "#7201a8"
             ],
             [
              0.3333333333333333,
              "#9c179e"
             ],
             [
              0.4444444444444444,
              "#bd3786"
             ],
             [
              0.5555555555555556,
              "#d8576b"
             ],
             [
              0.6666666666666666,
              "#ed7953"
             ],
             [
              0.7777777777777778,
              "#fb9f3a"
             ],
             [
              0.8888888888888888,
              "#fdca26"
             ],
             [
              1,
              "#f0f921"
             ]
            ],
            "type": "histogram2d"
           }
          ],
          "histogram2dcontour": [
           {
            "colorbar": {
             "outlinewidth": 0,
             "ticks": ""
            },
            "colorscale": [
             [
              0,
              "#0d0887"
             ],
             [
              0.1111111111111111,
              "#46039f"
             ],
             [
              0.2222222222222222,
              "#7201a8"
             ],
             [
              0.3333333333333333,
              "#9c179e"
             ],
             [
              0.4444444444444444,
              "#bd3786"
             ],
             [
              0.5555555555555556,
              "#d8576b"
             ],
             [
              0.6666666666666666,
              "#ed7953"
             ],
             [
              0.7777777777777778,
              "#fb9f3a"
             ],
             [
              0.8888888888888888,
              "#fdca26"
             ],
             [
              1,
              "#f0f921"
             ]
            ],
            "type": "histogram2dcontour"
           }
          ],
          "mesh3d": [
           {
            "colorbar": {
             "outlinewidth": 0,
             "ticks": ""
            },
            "type": "mesh3d"
           }
          ],
          "parcoords": [
           {
            "line": {
             "colorbar": {
              "outlinewidth": 0,
              "ticks": ""
             }
            },
            "type": "parcoords"
           }
          ],
          "pie": [
           {
            "automargin": true,
            "type": "pie"
           }
          ],
          "scatter": [
           {
            "fillpattern": {
             "fillmode": "overlay",
             "size": 10,
             "solidity": 0.2
            },
            "type": "scatter"
           }
          ],
          "scatter3d": [
           {
            "line": {
             "colorbar": {
              "outlinewidth": 0,
              "ticks": ""
             }
            },
            "marker": {
             "colorbar": {
              "outlinewidth": 0,
              "ticks": ""
             }
            },
            "type": "scatter3d"
           }
          ],
          "scattercarpet": [
           {
            "marker": {
             "colorbar": {
              "outlinewidth": 0,
              "ticks": ""
             }
            },
            "type": "scattercarpet"
           }
          ],
          "scattergeo": [
           {
            "marker": {
             "colorbar": {
              "outlinewidth": 0,
              "ticks": ""
             }
            },
            "type": "scattergeo"
           }
          ],
          "scattergl": [
           {
            "marker": {
             "colorbar": {
              "outlinewidth": 0,
              "ticks": ""
             }
            },
            "type": "scattergl"
           }
          ],
          "scattermapbox": [
           {
            "marker": {
             "colorbar": {
              "outlinewidth": 0,
              "ticks": ""
             }
            },
            "type": "scattermapbox"
           }
          ],
          "scatterpolar": [
           {
            "marker": {
             "colorbar": {
              "outlinewidth": 0,
              "ticks": ""
             }
            },
            "type": "scatterpolar"
           }
          ],
          "scatterpolargl": [
           {
            "marker": {
             "colorbar": {
              "outlinewidth": 0,
              "ticks": ""
             }
            },
            "type": "scatterpolargl"
           }
          ],
          "scatterternary": [
           {
            "marker": {
             "colorbar": {
              "outlinewidth": 0,
              "ticks": ""
             }
            },
            "type": "scatterternary"
           }
          ],
          "surface": [
           {
            "colorbar": {
             "outlinewidth": 0,
             "ticks": ""
            },
            "colorscale": [
             [
              0,
              "#0d0887"
             ],
             [
              0.1111111111111111,
              "#46039f"
             ],
             [
              0.2222222222222222,
              "#7201a8"
             ],
             [
              0.3333333333333333,
              "#9c179e"
             ],
             [
              0.4444444444444444,
              "#bd3786"
             ],
             [
              0.5555555555555556,
              "#d8576b"
             ],
             [
              0.6666666666666666,
              "#ed7953"
             ],
             [
              0.7777777777777778,
              "#fb9f3a"
             ],
             [
              0.8888888888888888,
              "#fdca26"
             ],
             [
              1,
              "#f0f921"
             ]
            ],
            "type": "surface"
           }
          ],
          "table": [
           {
            "cells": {
             "fill": {
              "color": "#EBF0F8"
             },
             "line": {
              "color": "white"
             }
            },
            "header": {
             "fill": {
              "color": "#C8D4E3"
             },
             "line": {
              "color": "white"
             }
            },
            "type": "table"
           }
          ]
         },
         "layout": {
          "annotationdefaults": {
           "arrowcolor": "#2a3f5f",
           "arrowhead": 0,
           "arrowwidth": 1
          },
          "autotypenumbers": "strict",
          "coloraxis": {
           "colorbar": {
            "outlinewidth": 0,
            "ticks": ""
           }
          },
          "colorscale": {
           "diverging": [
            [
             0,
             "#8e0152"
            ],
            [
             0.1,
             "#c51b7d"
            ],
            [
             0.2,
             "#de77ae"
            ],
            [
             0.3,
             "#f1b6da"
            ],
            [
             0.4,
             "#fde0ef"
            ],
            [
             0.5,
             "#f7f7f7"
            ],
            [
             0.6,
             "#e6f5d0"
            ],
            [
             0.7,
             "#b8e186"
            ],
            [
             0.8,
             "#7fbc41"
            ],
            [
             0.9,
             "#4d9221"
            ],
            [
             1,
             "#276419"
            ]
           ],
           "sequential": [
            [
             0,
             "#0d0887"
            ],
            [
             0.1111111111111111,
             "#46039f"
            ],
            [
             0.2222222222222222,
             "#7201a8"
            ],
            [
             0.3333333333333333,
             "#9c179e"
            ],
            [
             0.4444444444444444,
             "#bd3786"
            ],
            [
             0.5555555555555556,
             "#d8576b"
            ],
            [
             0.6666666666666666,
             "#ed7953"
            ],
            [
             0.7777777777777778,
             "#fb9f3a"
            ],
            [
             0.8888888888888888,
             "#fdca26"
            ],
            [
             1,
             "#f0f921"
            ]
           ],
           "sequentialminus": [
            [
             0,
             "#0d0887"
            ],
            [
             0.1111111111111111,
             "#46039f"
            ],
            [
             0.2222222222222222,
             "#7201a8"
            ],
            [
             0.3333333333333333,
             "#9c179e"
            ],
            [
             0.4444444444444444,
             "#bd3786"
            ],
            [
             0.5555555555555556,
             "#d8576b"
            ],
            [
             0.6666666666666666,
             "#ed7953"
            ],
            [
             0.7777777777777778,
             "#fb9f3a"
            ],
            [
             0.8888888888888888,
             "#fdca26"
            ],
            [
             1,
             "#f0f921"
            ]
           ]
          },
          "colorway": [
           "#636efa",
           "#EF553B",
           "#00cc96",
           "#ab63fa",
           "#FFA15A",
           "#19d3f3",
           "#FF6692",
           "#B6E880",
           "#FF97FF",
           "#FECB52"
          ],
          "font": {
           "color": "#2a3f5f"
          },
          "geo": {
           "bgcolor": "white",
           "lakecolor": "white",
           "landcolor": "#E5ECF6",
           "showlakes": true,
           "showland": true,
           "subunitcolor": "white"
          },
          "hoverlabel": {
           "align": "left"
          },
          "hovermode": "closest",
          "mapbox": {
           "style": "light"
          },
          "paper_bgcolor": "white",
          "plot_bgcolor": "#E5ECF6",
          "polar": {
           "angularaxis": {
            "gridcolor": "white",
            "linecolor": "white",
            "ticks": ""
           },
           "bgcolor": "#E5ECF6",
           "radialaxis": {
            "gridcolor": "white",
            "linecolor": "white",
            "ticks": ""
           }
          },
          "scene": {
           "xaxis": {
            "backgroundcolor": "#E5ECF6",
            "gridcolor": "white",
            "gridwidth": 2,
            "linecolor": "white",
            "showbackground": true,
            "ticks": "",
            "zerolinecolor": "white"
           },
           "yaxis": {
            "backgroundcolor": "#E5ECF6",
            "gridcolor": "white",
            "gridwidth": 2,
            "linecolor": "white",
            "showbackground": true,
            "ticks": "",
            "zerolinecolor": "white"
           },
           "zaxis": {
            "backgroundcolor": "#E5ECF6",
            "gridcolor": "white",
            "gridwidth": 2,
            "linecolor": "white",
            "showbackground": true,
            "ticks": "",
            "zerolinecolor": "white"
           }
          },
          "shapedefaults": {
           "line": {
            "color": "#2a3f5f"
           }
          },
          "ternary": {
           "aaxis": {
            "gridcolor": "white",
            "linecolor": "white",
            "ticks": ""
           },
           "baxis": {
            "gridcolor": "white",
            "linecolor": "white",
            "ticks": ""
           },
           "bgcolor": "#E5ECF6",
           "caxis": {
            "gridcolor": "white",
            "linecolor": "white",
            "ticks": ""
           }
          },
          "title": {
           "x": 0.05
          },
          "xaxis": {
           "automargin": true,
           "gridcolor": "white",
           "linecolor": "white",
           "ticks": "",
           "title": {
            "standoff": 15
           },
           "zerolinecolor": "white",
           "zerolinewidth": 2
          },
          "yaxis": {
           "automargin": true,
           "gridcolor": "white",
           "linecolor": "white",
           "ticks": "",
           "title": {
            "standoff": 15
           },
           "zerolinecolor": "white",
           "zerolinewidth": 2
          }
         }
        },
        "xaxis": {
         "anchor": "y",
         "domain": [
          0,
          1
         ],
         "title": {
          "text": "ADM_NM"
         }
        },
        "yaxis": {
         "anchor": "x",
         "domain": [
          0,
          1
         ],
         "title": {
          "text": "EST_SALES"
         }
        }
       }
      }
     },
     "metadata": {},
     "output_type": "display_data"
    }
   ],
   "source": [
    "# 시각화를 위한 데이터프레임 생성 및 전체 가게건수 높은순으로 정렬\n",
    "plot_df_total = sejong_sales_mean.set_index('ADM_NM').reindex(plot_df_total['ADM_NM']).reset_index()\n",
    "\n",
    "# 시각화\n",
    "fig_total = px.bar(plot_df_total, x='ADM_NM', y='EST_SALES', color='EST_SALES', color_continuous_scale='plasma')\n",
    "fig_total.show()"
   ]
  },
  {
   "cell_type": "code",
   "execution_count": 121,
   "metadata": {},
   "outputs": [],
   "source": [
    "sejong_sales_sum.to_csv(\"행정동별_총매출.csv\", index=False)\n",
    "sejong_sales_mean.to_csv(\"행정동별_평균매출.csv\", index=False)"
   ]
  }
 ],
 "metadata": {
  "kernelspec": {
   "display_name": "Python 3.8.16 ('GIS')",
   "language": "python",
   "name": "python3"
  },
  "language_info": {
   "codemirror_mode": {
    "name": "ipython",
    "version": 3
   },
   "file_extension": ".py",
   "mimetype": "text/x-python",
   "name": "python",
   "nbconvert_exporter": "python",
   "pygments_lexer": "ipython3",
   "version": "3.8.16"
  },
  "orig_nbformat": 4,
  "vscode": {
   "interpreter": {
    "hash": "4c2ab1d16d29501e38a3ee1978e97de755e76d74519759c8e0a07f6b08052ab1"
   }
  }
 },
 "nbformat": 4,
 "nbformat_minor": 2
}
