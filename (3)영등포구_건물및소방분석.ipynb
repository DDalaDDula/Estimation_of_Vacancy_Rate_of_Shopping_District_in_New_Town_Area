{
 "cells": [
  {
   "attachments": {},
   "cell_type": "markdown",
   "metadata": {},
   "source": [
    "## 기본설정 및 함수정의"
   ]
  },
  {
   "cell_type": "code",
   "execution_count": 1,
   "metadata": {},
   "outputs": [],
   "source": [
    "import pandas as pd\n",
    "import numpy as np\n",
    "import plotly.express as px\n",
    "import plotly.graph_objects as go\n",
    "import plotly.graph_objs as go\n",
    "import plotly.offline as offline\n",
    "from folium.plugins import HeatMapWithTime\n",
    "from plotly.subplots import make_subplots\n",
    "import folium\n",
    "from folium import plugins\n",
    "from folium.plugins import HeatMap\n",
    "from folium import FeatureGroup\n",
    "import json\n",
    "import math\n",
    "import re\n",
    "from datetime import datetime\n",
    "import os\n",
    "import glob\n",
    "import subprocess\n",
    "from bs4 import BeautifulSoup as bs\n",
    "from shapely.geometry import Point, Polygon, LineString\n",
    "from shapely.ops import unary_union\n",
    "import geopandas as gpd\n",
    "from geopandas import GeoSeries\n",
    "import pyproj\n",
    "from tqdm import tqdm\n",
    "from keplergl import KeplerGl\n",
    "\n",
    "# 모든 열이 생략되지 않도록 설정\n",
    "pd.set_option('display.max_columns', None)\n",
    "\n",
    "# 영등포역 위도, 경도\n",
    "ydp = [37.51569886583137, 126.90768824079629]\n",
    "\n",
    "# Point를만드는 함수\n",
    "def make_point(x):\n",
    "    try:\n",
    "        return Point(x)\n",
    "    except Exception as e:\n",
    "        print(f\"An error occurred: {e}\")\n",
    "        return None\n",
    "# Polygon을 만드는 함수\n",
    "def make_pol(x):\n",
    "    try:\n",
    "        return Polygon(x[0])\n",
    "    except:\n",
    "        return Polygon(x[0][0])\n",
    "    \n",
    "# Linestring을 만드는 함수\n",
    "def make_lin(x):\n",
    "    try:\n",
    "        return LineString(x)\n",
    "    except:\n",
    "        return LineString(x[0])\n",
    "\n",
    "# 데이터프레임을 GeoPandas 데이터프레임으로 변환하는 함수 정의\n",
    "def geo_transform(DataFrame) :\n",
    "    # csv to geopandas\n",
    "    # lon, lat data를 geometry로 변경\n",
    "    DataFrame['lat'] = DataFrame['lat'].astype(float)\n",
    "    DataFrame['lon'] = DataFrame['lon'].astype(float)\n",
    "    DataFrame['geometry'] = DataFrame.apply(lambda row : Point([row['lon'], row['lat']]), axis=1) # 위도 및 경도롤 GeoPandas Point 객체로 변환\n",
    "    DataFrame = gpd.GeoDataFrame(DataFrame, geometry='geometry')\n",
    "    DataFrame.crs = {'init':'epsg:4326'} # geopandas 데이터프레임의 좌표계를 EPSG 4326으로 설정\n",
    "    DataFrame = DataFrame.to_crs({'init':'epsg:4326'}) # 데이터프레임의 좌표계를 자체 좌표계에서 EPSG 4326으로 변환\n",
    "    return DataFrame"
   ]
  },
  {
   "cell_type": "markdown",
   "metadata": {},
   "source": [
    "#### 영등포구 행정경계 (출처 - 통계지리정보서비스 2023년 센서스용 행정구역경계(읍면동))"
   ]
  },
  {
   "cell_type": "code",
   "execution_count": 2,
   "metadata": {},
   "outputs": [],
   "source": [
    "# shp to geodataframe convert\n",
    "shapefile_path = \"SBJ_2406_001/_census_data_2023_bnd_dong_bnd_dong_11190_2023_2023\\\\bnd_dong_11190_2023_2023_2Q.shp\"\n",
    "ydp_gdf = gpd.read_file(shapefile_path)\n",
    "ydp_gdf = ydp_gdf.to_crs(epsg=4326) #EPSG4326 형식으로 변환"
   ]
  },
  {
   "attachments": {},
   "cell_type": "markdown",
   "metadata": {},
   "source": [
    "#### 격자(매핑용)"
   ]
  },
  {
   "cell_type": "code",
   "execution_count": 3,
   "metadata": {},
   "outputs": [],
   "source": [
    "# GeoJSON 파일 불러오기\n",
    "with open('SBJ_2406_001/19.영등포_격자(매핑용).geojson', encoding=\"UTF8\") as geojson_file:\n",
    "    geojson_data = json.load(geojson_file)\n",
    "grid_map_df = pd.json_normalize(geojson_data['features'])\n",
    "grid_map_df['geometry'] = grid_map_df['geometry.coordinates'].apply(lambda x : make_pol(x))\n",
    "grid_map_df.drop(columns=\"geometry.coordinates\", axis=1, inplace=True)\n",
    "# grid_map_df 데이터프레임을 GeoDataFrame으로 변환\n",
    "grid_map_df = gpd.GeoDataFrame(grid_map_df, geometry='geometry')"
   ]
  },
  {
   "attachments": {},
   "cell_type": "markdown",
   "metadata": {},
   "source": [
    "#### 영등포구 상세 도로망"
   ]
  },
  {
   "cell_type": "code",
   "execution_count": 4,
   "metadata": {},
   "outputs": [],
   "source": [
    "# GeoJSON 파일 불러오기\n",
    "with open('SBJ_2406_001/6.영등포_상세도로망.geojson', encoding=\"UTF8\") as geojson_file:\n",
    "    geojson_data = json.load(geojson_file)\n",
    "roadsystem_df = pd.json_normalize(geojson_data['features'])\n",
    "roadsystem_df['geometry'] = roadsystem_df['geometry.coordinates'].apply(lambda x : make_lin(x))\n",
    "roadsystem_df['properties.link_id'] = roadsystem_df['properties.link_id'].astype(str)\n",
    "roadsystem_df.drop(columns=\"geometry.coordinates\", axis=1, inplace=True)\n",
    "# roadsystem_df 데이터프레임을 GeoDataFrame으로 변환\n",
    "roadsystem_df = gpd.GeoDataFrame(roadsystem_df, geometry='geometry')"
   ]
  },
  {
   "cell_type": "markdown",
   "metadata": {},
   "source": [
    "#### 도로명주소(도로)"
   ]
  },
  {
   "cell_type": "code",
   "execution_count": 5,
   "metadata": {},
   "outputs": [],
   "source": [
    "# GeoJSON 파일 불러오기\n",
    "with open('SBJ_2406_001/7.영등포_도로명주소(도로).geojson', encoding=\"UTF8\") as geojson_file:\n",
    "    geojson_data = json.load(geojson_file)\n",
    "roadname_df = pd.json_normalize(geojson_data['features'])\n",
    "roadname_df['geometry.coordinates'] = roadname_df['geometry.coordinates'].apply(lambda x : make_lin(x))\n",
    "roadname_df.rename(columns={'geometry.coordinates' : 'geometry'}, inplace=True)\n",
    "# roadname_df 데이터프레임을 GeoDataFrame으로 변환\n",
    "roadname_df = gpd.GeoDataFrame(roadname_df, geometry='geometry')"
   ]
  },
  {
   "cell_type": "markdown",
   "metadata": {},
   "source": [
    "#### 소방용수시설 시각화"
   ]
  },
  {
   "cell_type": "code",
   "execution_count": 6,
   "metadata": {},
   "outputs": [],
   "source": [
    "# 소방용수시설 데이터프레임을 GeoPandas 데이터프레임으로 변환\n",
    "firefighting_water_df = pd.read_csv('SBJ_2406_001/22.영등포_소방용수시설.csv')"
   ]
  },
  {
   "cell_type": "markdown",
   "metadata": {},
   "source": [
    "#### 소방서 위치정보"
   ]
  },
  {
   "cell_type": "code",
   "execution_count": 7,
   "metadata": {},
   "outputs": [],
   "source": [
    "# 소방서 데이터프레임을 GeoPandas 데이터프레임으로 변환\n",
    "firehouse_df = pd.read_csv('SBJ_2406_001/23.영등포_소방서위치정보.csv')"
   ]
  },
  {
   "cell_type": "code",
   "execution_count": null,
   "metadata": {},
   "outputs": [],
   "source": [
    "# 맵 객체 생성 및 데이터 로드\n",
    "ydp_firefacility_map = KeplerGl(height=1000, width=1500)\n",
    "ydp_firefacility_map.add_data(data=firehouse_df, name=\"영등포구 소방서 데이터\")\n",
    "ydp_firefacility_map.add_data(data=firefighting_water_df, name=\"영등포구 소방용수시설 데이터\")\n",
    "ydp_firefacility_map.add_data(data=ydp_gdf, name=\"영등포구 행정동 데이터\")\n",
    "ydp_firefacility_map.add_data(data=roadname_df, name=\"영등포구 도로망 데이터\")\n",
    "\n",
    "# 맵 출력 및 상세설정\n",
    "ydp_firefacility_map"
   ]
  },
  {
   "cell_type": "code",
   "execution_count": 30,
   "metadata": {},
   "outputs": [
    {
     "name": "stdout",
     "output_type": "stream",
     "text": [
      "Map saved to visualization/영등포구 건물 및 소방관련/영등포구 소방시설 시각화 map.html!\n"
     ]
    }
   ],
   "source": [
    "# 맵 저장\n",
    "ydp_firefacility_map.save_to_html(file_name=\"visualization/영등포구 건물 및 소방관련/영등포구 소방시설 시각화 map.html\")"
   ]
  },
  {
   "cell_type": "markdown",
   "metadata": {},
   "source": [
    "#### 건물노후도 정보"
   ]
  },
  {
   "cell_type": "code",
   "execution_count": 11,
   "metadata": {},
   "outputs": [],
   "source": [
    "# GeoJSON 파일 불러오기\n",
    "with open('SBJ_2406_001/12.영등포_건물노후도.geojson', encoding=\"UTF8\") as geojson_file:\n",
    "    geojson_data = json.load(geojson_file)\n",
    "building_oldness_df = pd.json_normalize(geojson_data['features'])\n",
    "building_oldness_df['geometry.coordinates'] = building_oldness_df['geometry.coordinates'].apply(lambda x : make_pol(x))\n",
    "building_oldness_df.rename(columns={'geometry.coordinates' : 'geometry'}, inplace=True)\n",
    "# building_oldness_df 데이터프레임을 GeoDataFrame으로 변환\n",
    "building_oldness_df = gpd.GeoDataFrame(building_oldness_df, geometry='geometry')\n",
    "building_oldness_df['properties.old_year'] = building_oldness_df['properties.old_year'].astype(float)\n",
    "building_oldness_df = building_oldness_df[['properties.emd_nm', 'properties.strct_nm', 'properties.usage_nm', 'properties.old_year', 'geometry']]"
   ]
  },
  {
   "cell_type": "code",
   "execution_count": 12,
   "metadata": {},
   "outputs": [
    {
     "data": {
      "text/plain": [
       "81.2"
      ]
     },
     "execution_count": 12,
     "metadata": {},
     "output_type": "execute_result"
    }
   ],
   "source": [
    "# 노후 및 불량건축물 비율계산\n",
    "old_building = building_oldness_df[building_oldness_df['properties.old_year'] >= 20]\n",
    "old_building_rate = round((len(old_building)/len(building_oldness_df)) * 100, 2)\n",
    "old_building_rate"
   ]
  },
  {
   "cell_type": "code",
   "execution_count": null,
   "metadata": {},
   "outputs": [],
   "source": [
    "# 맵 객체 생성 및 데이터 로드\n",
    "ydp_building_oldness_map = KeplerGl(height=1000, width=1500)\n",
    "ydp_building_oldness_map.add_data(data=building_oldness_df, name=\"영등포구 건물노후도 데이터\")\n",
    "ydp_building_oldness_map.add_data(data=ydp_gdf, name=\"영등포구 행정동 데이터\")\n",
    "ydp_building_oldness_map.add_data(data=roadname_df, name=\"영등포구 도로망 데이터\")\n",
    "\n",
    "# 맵 출력 및 상세설정\n",
    "ydp_building_oldness_map"
   ]
  },
  {
   "cell_type": "code",
   "execution_count": 70,
   "metadata": {},
   "outputs": [
    {
     "name": "stdout",
     "output_type": "stream",
     "text": [
      "Map saved to visualization/영등포구 건물 및 소방관련/영등포구 건물노후도 시각화 map.html!\n"
     ]
    }
   ],
   "source": [
    "# 맵 저장\n",
    "ydp_building_oldness_map.save_to_html(file_name=\"visualization/영등포구 건물 및 소방관련/영등포구 건물노후도 시각화 map.html\")"
   ]
  },
  {
   "cell_type": "markdown",
   "metadata": {},
   "source": [
    "#### 건물 시각화"
   ]
  },
  {
   "cell_type": "code",
   "execution_count": 13,
   "metadata": {},
   "outputs": [],
   "source": [
    "# 표제부 데이터프레임 로드 후 지번 - 건물구조, 지번 - 건물용도 dict생성\n",
    "pyo_df = pd.read_csv('SBJ_2406_001/14.영등포_건축물대장_표제부.csv')\n",
    "pyo_df['plot_lctn'] = pyo_df['plot_lctn'].apply(lambda x : x.split(\" 영등포구 \")[-1])\n",
    "pyo_df['plot_lctn'] = pyo_df['plot_lctn'].apply(lambda x : x.strip(\"번지\"))\n",
    "jibun_strct_dic = dict(zip(pyo_df['plot_lctn'], pyo_df['strct_nm']))\n",
    "jibun_use_dic = dict(zip(pyo_df['plot_lctn'], pyo_df['use_nm']))\n",
    "\n",
    "# 지번 - 법정동 코드 dict 생성\n",
    "pyo_df['plot_lctn'] = pyo_df['plot_lctn'].apply(lambda x : x.split(\" \")[0])\n",
    "pyo_df['emd_cd'] = pyo_df['emd_cd'].astype(str)\n",
    "pyo_df['emd_cd'] = pyo_df['emd_cd'].apply(lambda x : x[:3])\n",
    "jibun_emd_dic = dict(zip(pyo_df['emd_cd'], pyo_df['plot_lctn']))\n",
    "\n",
    "# GeoJSON 파일 불러오기\n",
    "with open('SBJ_2406_001/11.영등포_도로명주소(건물).geojson', encoding=\"UTF8\") as geojson_file:\n",
    "    geojson_data = json.load(geojson_file)\n",
    "rbuilding_df = pd.json_normalize(geojson_data['features'])\n",
    "rbuilding_df['geometry.coordinates'] = rbuilding_df['geometry.coordinates'].apply(lambda x : make_pol(x))\n",
    "rbuilding_df.rename(columns={'geometry.coordinates' : 'geometry'}, inplace=True)\n",
    "rbuilding_df.rename(columns={'properties.GRO_FLO_CO' : 'GRO_FLO_CO'}, inplace=True)\n",
    "rbuilding_df.rename(columns={'properties.LNBR_MNNM' : 'LNBR_MNNM'}, inplace=True)\n",
    "rbuilding_df.rename(columns={'properties.LNBR_SLNO' : 'LNBR_SLNO'}, inplace=True)\n",
    "# rbuilding_df 데이터프레임을 GeoDataFrame으로 변환\n",
    "rbuilding_df = gpd.GeoDataFrame(rbuilding_df, geometry='geometry')\n",
    "rbuilding_df['properties.EMD_CD'] = rbuilding_df['properties.EMD_CD'].astype(str)\n",
    "rbuilding_df['LNBR_MNNM'] = rbuilding_df['LNBR_MNNM'].astype(str)\n",
    "rbuilding_df['LNBR_SLNO'] = rbuilding_df['LNBR_SLNO'].astype(str)\n",
    "rbuilding_df['EMD_NM'] = rbuilding_df['properties.EMD_CD'].map(jibun_emd_dic)\n",
    "\n",
    "# plot_lctn 열 생성 함수 정의\n",
    "def create_plot_lctn(row):\n",
    "    if row['LNBR_SLNO'] == '0':\n",
    "        return f\"{row['EMD_NM']} {row['LNBR_MNNM']}\"\n",
    "    else:\n",
    "        return f\"{row['EMD_NM']} {row['LNBR_MNNM']}-{row['LNBR_SLNO']}\"\n",
    "# 새로운 열 추가\n",
    "rbuilding_df['plot_lctn'] = rbuilding_df.apply(create_plot_lctn, axis=1)\n",
    "rbuilding_df['strct'] = rbuilding_df['plot_lctn'].map(jibun_strct_dic)\n",
    "rbuilding_df['use'] = rbuilding_df['plot_lctn'].map(jibun_use_dic)\n",
    "rbuilding_df = rbuilding_df[['plot_lctn', 'strct', 'use', 'GRO_FLO_CO', 'geometry']]"
   ]
  },
  {
   "cell_type": "code",
   "execution_count": null,
   "metadata": {},
   "outputs": [],
   "source": [
    "# 맵 객체 생성 및 데이터 로드\n",
    "rbuilding_df_n = rbuilding_df.dropna()\n",
    "ydp_building_map = KeplerGl(height=1000, width=1500)\n",
    "ydp_building_map.add_data(data=rbuilding_df_n, name=\"영등포구 건물 데이터\")\n",
    "ydp_building_map.add_data(data=ydp_gdf, name=\"영등포구 행정동 데이터\")\n",
    "ydp_building_map.add_data(data=roadname_df, name=\"영등포구 도로망 데이터\")\n",
    "\n",
    "# 맵 출력 및 상세설정\n",
    "ydp_building_map"
   ]
  },
  {
   "cell_type": "code",
   "execution_count": 267,
   "metadata": {},
   "outputs": [
    {
     "name": "stdout",
     "output_type": "stream",
     "text": [
      "Map saved to visualization/영등포구 건물 및 소방관련/영등포구 건물 시각화 map.html!\n"
     ]
    }
   ],
   "source": [
    "# 맵 저장\n",
    "ydp_building_map.save_to_html(file_name=\"visualization/영등포구 건물 및 소방관련/영등포구 건물 시각화 map.html\")"
   ]
  },
  {
   "cell_type": "markdown",
   "metadata": {},
   "source": [
    "#### 건물에너지(전기 + 가스) 시각화"
   ]
  },
  {
   "cell_type": "code",
   "execution_count": null,
   "metadata": {},
   "outputs": [],
   "source": [
    "# 건물에너지 데이터프레임을 GeoPandas 데이터프레임으로 변환\n",
    "electric_power_df = pd.read_csv('SBJ_2406_001/16.영등포_건물에너지(전기).csv')\n",
    "electric_power_df['plot_lctn'] = electric_power_df['plot_lctn'].apply(lambda x : x.split(\" 영등포구 \")[-1])\n",
    "electric_power_df['plot_lctn'] = electric_power_df['plot_lctn'].apply(lambda x : x.strip(\"번지\"))\n",
    "electric_power_df = electric_power_df[['plot_lctn', 'usage', 'use_ym']]\n",
    "electric_power_df['use_ym'] = electric_power_df['use_ym'].astype(str)\n",
    "electric_power_df['use_ym'] = pd.to_datetime(electric_power_df['use_ym'], format='%Y%m')\n",
    "electric_power_df = electric_power_df.sort_values(by='use_ym')\n",
    "electric_power_df['use_ym'] = electric_power_df['use_ym'].astype(str)\n",
    "\n",
    "gas_power_df = pd.read_csv('SBJ_2406_001/17.영등포_건물에너지(가스).csv')\n",
    "gas_power_df['plot_lctn'] = gas_power_df['plot_lctn'].apply(lambda x : x.split(\" 영등포구 \")[-1])\n",
    "gas_power_df['plot_lctn'] = gas_power_df['plot_lctn'].apply(lambda x : x.strip(\"번지\"))\n",
    "gas_power_df = gas_power_df[['plot_lctn', 'usage', 'use_ym']]\n",
    "gas_power_df['use_ym'] = gas_power_df['use_ym'].astype(str)\n",
    "gas_power_df['use_ym'] = pd.to_datetime(gas_power_df['use_ym'], format='%Y%m')\n",
    "gas_power_df = gas_power_df.sort_values(by='use_ym')\n",
    "gas_power_df['use_ym'] = gas_power_df['use_ym'].astype(str)"
   ]
  },
  {
   "cell_type": "code",
   "execution_count": 90,
   "metadata": {},
   "outputs": [],
   "source": [
    "# 건물 : polygon 구조를 가지는 dict생성(mapping 목적)\n",
    "building_polygon_dic = dict(zip(rbuilding_df['plot_lctn'], rbuilding_df['geometry']))\n",
    "rbuilding_df_energy = rbuilding_df.copy()\n",
    "# 지번별 누적 전기사용량 계산\n",
    "cumulative_e_usage = electric_power_df.groupby('plot_lctn')['usage'].sum().reset_index()\n",
    "cumulative_e_usage_dic = dict(zip(cumulative_e_usage['plot_lctn'], cumulative_e_usage['usage']))\n",
    "rbuilding_df_energy['cumulative_e_usage'] = rbuilding_df_energy['plot_lctn'].map(cumulative_e_usage_dic)\n",
    "\n",
    "# 지번별 평균 전기사용량 계산\n",
    "average_e_usage = electric_power_df.groupby('plot_lctn')['usage'].mean().reset_index()\n",
    "average_e_usage_dic = dict(zip(average_e_usage['plot_lctn'], average_e_usage['usage']))\n",
    "rbuilding_df_energy['average_e_usage'] = rbuilding_df_energy['plot_lctn'].map(average_e_usage_dic)\n",
    "\n",
    "# 지번별 누적 가스사용량 계산\n",
    "cumulative_g_usage = gas_power_df.groupby('plot_lctn')['usage'].sum().reset_index()\n",
    "cumulative_g_usage_dic = dict(zip(cumulative_g_usage['plot_lctn'], cumulative_g_usage['usage']))\n",
    "rbuilding_df_energy['cumulative_g_usage'] = rbuilding_df_energy['plot_lctn'].map(cumulative_g_usage_dic)\n",
    "# 월별 평균 가스사용량 계산\n",
    "average_g_usage = gas_power_df.groupby('plot_lctn')['usage'].mean().reset_index()\n",
    "average_g_usage_dic = dict(zip(average_g_usage['plot_lctn'], average_g_usage['usage']))\n",
    "rbuilding_df_energy['average_g_usage'] = rbuilding_df_energy['plot_lctn'].map(average_g_usage_dic)\n",
    "\n",
    "# 결측값 필터링\n",
    "columns_to_check_e = ['cumulative_e_usage', 'average_e_usage']\n",
    "columns_to_check_g = ['cumulative_g_usage','average_g_usage']\n",
    "rbuilding_df_energy_e = rbuilding_df_energy.dropna(subset=columns_to_check_e)\n",
    "rbuilding_df_energy_g = rbuilding_df_energy.dropna(subset=columns_to_check_g)"
   ]
  },
  {
   "cell_type": "code",
   "execution_count": null,
   "metadata": {},
   "outputs": [],
   "source": [
    "# 맵 객체 생성 및 데이터 로드\n",
    "ydp_energy_usage_map = KeplerGl(height=1000, width=1500)\n",
    "ydp_energy_usage_map.add_data(data=rbuilding_df_energy_e, name=\"영등포구 전기에너지사용 데이터\")\n",
    "ydp_energy_usage_map.add_data(data=rbuilding_df_energy_g, name=\"영등포구 가스에너지사용 데이터\")\n",
    "ydp_energy_usage_map.add_data(data=ydp_gdf, name=\"영등포구 행정동 데이터\")\n",
    "ydp_energy_usage_map.add_data(data=roadname_df, name=\"영등포구 도로망 데이터\")\n",
    "\n",
    "# 맵 출력 및 상세설정\n",
    "ydp_energy_usage_map"
   ]
  },
  {
   "cell_type": "code",
   "execution_count": 94,
   "metadata": {},
   "outputs": [
    {
     "name": "stdout",
     "output_type": "stream",
     "text": [
      "Map saved to visualization/영등포구 건물 및 소방관련/영등포구 건물 에너지사용 시각화 map.html!\n"
     ]
    }
   ],
   "source": [
    "# 맵 저장\n",
    "ydp_energy_usage_map.save_to_html(file_name=\"visualization/영등포구 건물 및 소방관련/영등포구 건물 에너지사용 시각화 map.html\")"
   ]
  }
 ],
 "metadata": {
  "kernelspec": {
   "display_name": "Python 3.8.16 ('GIS')",
   "language": "python",
   "name": "python3"
  },
  "language_info": {
   "codemirror_mode": {
    "name": "ipython",
    "version": 3
   },
   "file_extension": ".py",
   "mimetype": "text/x-python",
   "name": "python",
   "nbconvert_exporter": "python",
   "pygments_lexer": "ipython3",
   "version": "3.8.16"
  },
  "orig_nbformat": 4,
  "vscode": {
   "interpreter": {
    "hash": "4c2ab1d16d29501e38a3ee1978e97de755e76d74519759c8e0a07f6b08052ab1"
   }
  }
 },
 "nbformat": 4,
 "nbformat_minor": 2
}
