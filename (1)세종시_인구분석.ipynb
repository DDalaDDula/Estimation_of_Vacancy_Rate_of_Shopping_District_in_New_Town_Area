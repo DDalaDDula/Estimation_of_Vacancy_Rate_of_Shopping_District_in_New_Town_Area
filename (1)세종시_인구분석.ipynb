{
 "cells": [
  {
   "attachments": {},
   "cell_type": "markdown",
   "metadata": {},
   "source": [
    "## 기본설정 및 함수정의"
   ]
  },
  {
   "cell_type": "code",
   "execution_count": 2,
   "metadata": {},
   "outputs": [
    {
     "name": "stderr",
     "output_type": "stream",
     "text": [
      "c:\\Users\\HJK\\anaconda3\\envs\\GIS\\lib\\site-packages\\geopandas\\_compat.py:124: UserWarning:\n",
      "\n",
      "The Shapely GEOS version (3.11.2-CAPI-1.17.2) is incompatible with the GEOS version PyGEOS was compiled with (3.10.4-CAPI-1.16.2). Conversions between both will be slow.\n",
      "\n",
      "C:\\Users\\HJK\\AppData\\Local\\Temp\\ipykernel_40664\\3172343792.py:23: DeprecationWarning:\n",
      "\n",
      "Shapely 2.0 is installed, but because PyGEOS is also installed, GeoPandas still uses PyGEOS by default. However, starting with version 0.14, the default will switch to Shapely. To force to use Shapely 2.0 now, you can either uninstall PyGEOS or set the environment variable USE_PYGEOS=0. You can do this before starting the Python process, or in your code before importing geopandas:\n",
      "\n",
      "import os\n",
      "os.environ['USE_PYGEOS'] = '0'\n",
      "import geopandas\n",
      "\n",
      "In the next release, GeoPandas will switch to using Shapely by default, even if PyGEOS is installed. If you only have PyGEOS installed to get speed-ups, this switch should be smooth. However, if you are using PyGEOS directly (calling PyGEOS functions on geometries from GeoPandas), this will then stop working and you are encouraged to migrate from PyGEOS to Shapely 2.0 (https://shapely.readthedocs.io/en/latest/migration_pygeos.html).\n",
      "\n"
     ]
    }
   ],
   "source": [
    "import pandas as pd\n",
    "import numpy as np\n",
    "import plotly.express as px\n",
    "import plotly.graph_objects as go\n",
    "import plotly.graph_objs as go\n",
    "import plotly.offline as offline\n",
    "from folium.plugins import HeatMapWithTime\n",
    "from plotly.subplots import make_subplots\n",
    "import folium\n",
    "from folium import plugins\n",
    "from folium.plugins import HeatMap\n",
    "from folium import FeatureGroup\n",
    "import json\n",
    "import math\n",
    "import re\n",
    "from datetime import datetime\n",
    "import os\n",
    "import glob\n",
    "import subprocess\n",
    "from bs4 import BeautifulSoup as bs\n",
    "from shapely.geometry import Point, Polygon, LineString\n",
    "from shapely.ops import unary_union\n",
    "import geopandas as gpd\n",
    "from geopandas import GeoSeries\n",
    "import pyproj\n",
    "from tqdm import tqdm\n",
    "from keplergl import KeplerGl\n",
    "\n",
    "# tqdm의 pandas전용 메소드를 호출\n",
    "tqdm.pandas()\n",
    "# 모든 열이 생략되지 않도록 설정\n",
    "pd.set_option('display.max_columns', None)\n",
    "\n",
    "# 영등포역 위도, 경도\n",
    "sejong = [36.51430420729354, 127.29034973889941 ]\n",
    "\n",
    "# Point를만드는 함수\n",
    "def make_point(x):\n",
    "    try:\n",
    "        return Point(x)\n",
    "    except Exception as e:\n",
    "        print(f\"An error occurred: {e}\")\n",
    "        return None\n",
    "# Polygon을 만드는 함수\n",
    "def make_pol(x):\n",
    "    try:\n",
    "        return Polygon(x[0])\n",
    "    except:\n",
    "        return Polygon(x[0][0])\n",
    "    \n",
    "# Linestring을 만드는 함수\n",
    "def make_lin(x):\n",
    "    try:\n",
    "        return LineString(x)\n",
    "    except:\n",
    "        return LineString(x[0])\n",
    "\n",
    "# 데이터프레임을 GeoPandas 데이터프레임으로 변환하는 함수 정의\n",
    "def geo_transform(DataFrame) :\n",
    "    # csv to geopandas\n",
    "    # lon, lat data를 geometry로 변경\n",
    "    DataFrame['lat'] = DataFrame['lat'].astype(float)\n",
    "    DataFrame['lon'] = DataFrame['lon'].astype(float)\n",
    "    DataFrame['geometry'] = DataFrame.progress_apply(lambda row : Point([row['lon'], row['lat']]), axis=1) # 위도 및 경도롤 GeoPandas Point 객체로 변환\n",
    "    DataFrame = gpd.GeoDataFrame(DataFrame, geometry='geometry')\n",
    "    DataFrame.crs = {'init':'epsg:4326'} # geopandas 데이터프레임의 좌표계를 EPSG 4326으로 설정\n",
    "    DataFrame = DataFrame.to_crs({'init':'epsg:4326'}) # 데이터프레임의 좌표계를 자체 좌표계에서 EPSG 4326으로 변환\n",
    "    return DataFrame"
   ]
  },
  {
   "cell_type": "markdown",
   "metadata": {},
   "source": [
    "#### 세종시 행정경계(대상구역)"
   ]
  },
  {
   "cell_type": "code",
   "execution_count": 48,
   "metadata": {},
   "outputs": [],
   "source": [
    "# GeoJSON 파일 불러오기\n",
    "with open('SBJ_2406_002/11.세종시_대상구역도.geojson', encoding=\"UTF8\") as geojson_file:\n",
    "    geojson_data = json.load(geojson_file)\n",
    "object_area_df = pd.json_normalize(geojson_data['features'])\n",
    "object_area_df['geometry'] = object_area_df['geometry.coordinates'].apply(lambda x : make_pol(x))\n",
    "object_area_df.drop(columns=\"geometry.coordinates\", inplace=True)\n",
    "object_area_df.rename(columns = {'properties.EMD_NM' : 'ADM_NM'}, inplace = True)\n",
    "object_area_df = object_area_df[['ADM_NM', 'geometry']]\n",
    "\n",
    "# shp to geodataframe convert\n",
    "shapefile_path = \"SBJ_2406_002/_census_data_2023_bnd_dong_bnd_dong_29010_2023_2023\"\n",
    "sejong_gdf = gpd.read_file(shapefile_path)\n",
    "sejong_gdf = sejong_gdf.to_crs(epsg=4326) #EPSG4326 형식으로 변환\n",
    "sejong_gdf = sejong_gdf[['ADM_NM', 'geometry']]\n",
    "sejong_gdf = sejong_gdf[~sejong_gdf['ADM_NM'].str.endswith('동')]\n",
    "sejong_gdf =  pd.concat([object_area_df, sejong_gdf], ignore_index=True)\n",
    "# sejong_gdf 데이터프레임을 GeoDataFrame으로 변환\n",
    "sejong_gdf = gpd.GeoDataFrame(sejong_gdf, geometry='geometry')\n",
    "# 조건에 따라 'newtown' 열 생성 및 값 지정\n",
    "sejong_gdf['newtown'] = sejong_gdf['ADM_NM'].apply(lambda x: '신도시' if x.endswith('동') else '그외지역')"
   ]
  },
  {
   "attachments": {},
   "cell_type": "markdown",
   "metadata": {},
   "source": [
    "#### 격자(매핑용)"
   ]
  },
  {
   "cell_type": "code",
   "execution_count": 50,
   "metadata": {},
   "outputs": [],
   "source": [
    "# GeoJSON 파일 불러오기\n",
    "with open('SBJ_2406_002/4.세종시_격자(매핑용).geojson', encoding=\"UTF8\") as geojson_file:\n",
    "    geojson_data = json.load(geojson_file)\n",
    "grid_map_df = pd.json_normalize(geojson_data['features'])\n",
    "grid_map_df['geometry'] = grid_map_df['geometry.coordinates'].apply(lambda x : make_pol(x))\n",
    "grid_map_df.drop(columns=\"geometry.coordinates\", axis=1, inplace=True)\n",
    "# grid_map_df 데이터프레임을 GeoDataFrame으로 변환\n",
    "grid_map_df = gpd.GeoDataFrame(grid_map_df, geometry='geometry')"
   ]
  },
  {
   "cell_type": "code",
   "execution_count": null,
   "metadata": {},
   "outputs": [],
   "source": [
    "# 맵 객체 생성 및 데이터 로드\n",
    "sejong_map = KeplerGl(height=1000, width=1500)\n",
    "sejong_map.add_data(data=sejong_gdf, name=\"세종시 행정동 데이터\")\n",
    "sejong_map.add_data(data=grid_map_df, name=\"세종시 격자 데이터\")\n",
    "\n",
    "# 맵 출력 및 상세설정\n",
    "sejong_map"
   ]
  },
  {
   "cell_type": "code",
   "execution_count": 40,
   "metadata": {},
   "outputs": [
    {
     "name": "stdout",
     "output_type": "stream",
     "text": [
      "Map saved to visualization/세종시 현황/세종시 기본정보 map.html!\n"
     ]
    }
   ],
   "source": [
    "# 맵 저장\n",
    "sejong_map.save_to_html(file_name=\"visualization/세종시 현황/세종시 기본정보 map.html\")"
   ]
  },
  {
   "cell_type": "markdown",
   "metadata": {},
   "source": [
    "#### 연속지적도"
   ]
  },
  {
   "cell_type": "code",
   "execution_count": 4,
   "metadata": {},
   "outputs": [],
   "source": [
    "cadastral_dic = {'전' : '밭',\n",
    "                '답' : '논',\n",
    "                '과' : '과수원',\n",
    "                '목' : '목장',\n",
    "                '임' : '임야',\n",
    "                '광' : '광천지',\n",
    "                '염' : '염전',\n",
    "                '대' : '대지',\n",
    "                '장' : '공장용지',\n",
    "                '학' : '학교용지',\n",
    "                '차' : '주차장',\n",
    "                '주' : '주유소용지',\n",
    "                '창' : '창고용지',\n",
    "                '도' : '도로',\n",
    "                '철' : '철도용지',\n",
    "                '제' : '제방',\n",
    "                '천' : '하천',\n",
    "                '구' : '도랑',\n",
    "                '유' : '유지',\n",
    "                '양' : '양어장',\n",
    "                '수' : '수도용지',\n",
    "                '공' : '공원용지',\n",
    "                '체' : '체육용지',\n",
    "                '원' : '유원지',\n",
    "                '종' : '종교용지',\n",
    "                '사' : '사적지',\n",
    "                '묘' : '묘지',\n",
    "                '잡' : '잡종지',\n",
    "                '기타' : '기타'}"
   ]
  },
  {
   "cell_type": "code",
   "execution_count": 5,
   "metadata": {},
   "outputs": [
    {
     "data": {
      "text/html": [
       "<div>\n",
       "<style scoped>\n",
       "    .dataframe tbody tr th:only-of-type {\n",
       "        vertical-align: middle;\n",
       "    }\n",
       "\n",
       "    .dataframe tbody tr th {\n",
       "        vertical-align: top;\n",
       "    }\n",
       "\n",
       "    .dataframe thead th {\n",
       "        text-align: right;\n",
       "    }\n",
       "</style>\n",
       "<table border=\"1\" class=\"dataframe\">\n",
       "  <thead>\n",
       "    <tr style=\"text-align: right;\">\n",
       "      <th></th>\n",
       "      <th>JIBUN</th>\n",
       "      <th>USAGE</th>\n",
       "      <th>geometry</th>\n",
       "    </tr>\n",
       "  </thead>\n",
       "  <tbody>\n",
       "    <tr>\n",
       "      <th>0</th>\n",
       "      <td>59-14</td>\n",
       "      <td>임야</td>\n",
       "      <td>POLYGON ((127.26892 36.48192, 127.26901 36.481...</td>\n",
       "    </tr>\n",
       "    <tr>\n",
       "      <th>1</th>\n",
       "      <td>223-1</td>\n",
       "      <td>논</td>\n",
       "      <td>POLYGON ((127.30726 36.46622, 127.30716 36.466...</td>\n",
       "    </tr>\n",
       "    <tr>\n",
       "      <th>2</th>\n",
       "      <td>295-4</td>\n",
       "      <td>밭</td>\n",
       "      <td>POLYGON ((127.18762 36.69594, 127.18766 36.695...</td>\n",
       "    </tr>\n",
       "    <tr>\n",
       "      <th>3</th>\n",
       "      <td>63</td>\n",
       "      <td>임야</td>\n",
       "      <td>POLYGON ((127.31121 36.47124, 127.31127 36.471...</td>\n",
       "    </tr>\n",
       "    <tr>\n",
       "      <th>4</th>\n",
       "      <td>296</td>\n",
       "      <td>밭</td>\n",
       "      <td>POLYGON ((127.18777 36.69513, 127.18783 36.695...</td>\n",
       "    </tr>\n",
       "    <tr>\n",
       "      <th>...</th>\n",
       "      <td>...</td>\n",
       "      <td>...</td>\n",
       "      <td>...</td>\n",
       "    </tr>\n",
       "    <tr>\n",
       "      <th>205429</th>\n",
       "      <td>450-10</td>\n",
       "      <td>밭</td>\n",
       "      <td>POLYGON ((127.27924 36.54751, 127.27915 36.547...</td>\n",
       "    </tr>\n",
       "    <tr>\n",
       "      <th>205430</th>\n",
       "      <td>450-7</td>\n",
       "      <td>밭</td>\n",
       "      <td>POLYGON ((127.27924 36.54751, 127.27926 36.547...</td>\n",
       "    </tr>\n",
       "    <tr>\n",
       "      <th>205431</th>\n",
       "      <td>450-11</td>\n",
       "      <td>밭</td>\n",
       "      <td>POLYGON ((127.27953 36.54758, 127.27926 36.547...</td>\n",
       "    </tr>\n",
       "    <tr>\n",
       "      <th>205432</th>\n",
       "      <td>451-3</td>\n",
       "      <td>밭</td>\n",
       "      <td>POLYGON ((127.27953 36.54758, 127.27965 36.547...</td>\n",
       "    </tr>\n",
       "    <tr>\n",
       "      <th>205433</th>\n",
       "      <td>451-12</td>\n",
       "      <td>밭</td>\n",
       "      <td>POLYGON ((127.27965 36.54760, 127.27965 36.547...</td>\n",
       "    </tr>\n",
       "  </tbody>\n",
       "</table>\n",
       "<p>205434 rows × 3 columns</p>\n",
       "</div>"
      ],
      "text/plain": [
       "         JIBUN USAGE                                           geometry\n",
       "0        59-14    임야  POLYGON ((127.26892 36.48192, 127.26901 36.481...\n",
       "1        223-1     논  POLYGON ((127.30726 36.46622, 127.30716 36.466...\n",
       "2        295-4     밭  POLYGON ((127.18762 36.69594, 127.18766 36.695...\n",
       "3           63    임야  POLYGON ((127.31121 36.47124, 127.31127 36.471...\n",
       "4          296     밭  POLYGON ((127.18777 36.69513, 127.18783 36.695...\n",
       "...        ...   ...                                                ...\n",
       "205429  450-10     밭  POLYGON ((127.27924 36.54751, 127.27915 36.547...\n",
       "205430   450-7     밭  POLYGON ((127.27924 36.54751, 127.27926 36.547...\n",
       "205431  450-11     밭  POLYGON ((127.27953 36.54758, 127.27926 36.547...\n",
       "205432   451-3     밭  POLYGON ((127.27953 36.54758, 127.27965 36.547...\n",
       "205433  451-12     밭  POLYGON ((127.27965 36.54760, 127.27965 36.547...\n",
       "\n",
       "[205434 rows x 3 columns]"
      ]
     },
     "execution_count": 5,
     "metadata": {},
     "output_type": "execute_result"
    }
   ],
   "source": [
    "# GeoJSON 파일 불러오기\n",
    "with open('SBJ_2406_002/8.세종시_연속지적도.geojson', encoding=\"UTF8\") as geojson_file:\n",
    "    geojson_data = json.load(geojson_file)\n",
    "cadastral_map_df = pd.json_normalize(geojson_data['features'])\n",
    "cadastral_map_df['geometry'] = cadastral_map_df['geometry.coordinates'].apply(lambda x : make_pol(x))\n",
    "cadastral_map_df.drop(columns=\"geometry.coordinates\", inplace=True)\n",
    "# cadastral_map_df 데이터프레임을 GeoDataFrame으로 변환\n",
    "cadastral_map_df = gpd.GeoDataFrame(cadastral_map_df, geometry='geometry')\n",
    "# 정규식을 사용하여 'properties.JIBUN'을 지번과 용도로 분리\n",
    "# 지번은 숫자 또는 숫자-숫자 형식, 용도는 공백 뒤에 오는 한글 문자로 가정\n",
    "cadastral_map_df['JIBUN'] = cadastral_map_df['properties.JIBUN'].str.extract(r'(\\d+-?\\d*)')\n",
    "cadastral_map_df['USAGE'] = cadastral_map_df['properties.JIBUN'].apply(lambda x:x[-1])\n",
    "# USAGE가 빈 문자열이거나 숫자로만 되어 있는 경우 '기타'로 설정\n",
    "cadastral_map_df['USAGE'] = cadastral_map_df['USAGE'].apply(lambda x: '기타' if x == '' or x.isdigit() else x)\n",
    "cadastral_map_df['USAGE'] = cadastral_map_df['USAGE'].apply(lambda x: cadastral_dic.get(x, x))\n",
    "cadastral_map_df = cadastral_map_df[['JIBUN', 'USAGE', 'geometry']]\n",
    "cadastral_map_df"
   ]
  },
  {
   "cell_type": "code",
   "execution_count": null,
   "metadata": {},
   "outputs": [],
   "source": [
    "# 맵 객체 생성 및 데이터 로드\n",
    "sejong_cadastral_map = KeplerGl(height=1000, width=1500)\n",
    "sejong_cadastral_map.add_data(data=sejong_gdf, name=\"세종시 행정동 데이터\")\n",
    "sejong_cadastral_map.add_data(data=cadastral_map_df, name=\"세종시 연속지적도\")\n",
    "\n",
    "# 맵 출력 및 상세설정\n",
    "sejong_cadastral_map"
   ]
  },
  {
   "cell_type": "code",
   "execution_count": null,
   "metadata": {},
   "outputs": [
    {
     "name": "stdout",
     "output_type": "stream",
     "text": [
      "Map saved to visualization/세종시 현황/세종시 연속지적도 map.html!\n"
     ]
    }
   ],
   "source": [
    "# 맵 저장\n",
    "sejong_cadastral_map.save_to_html(file_name=\"visualization/세종시 현황/세종시 연속지적도 map.html\")"
   ]
  },
  {
   "attachments": {},
   "cell_type": "markdown",
   "metadata": {},
   "source": [
    "#### 격자인구통계"
   ]
  },
  {
   "cell_type": "code",
   "execution_count": 52,
   "metadata": {},
   "outputs": [],
   "source": [
    "respop_df = pd.read_csv('SBJ_2406_002/10.세종시_성연령별_거주인구(격자).csv')\n",
    "\n",
    "#grid ID 리스트 와 매핑 & respop_df 필터링\n",
    "grid_id = grid_map_df['properties.gid'].tolist() # gid는 전부 unique한 값\n",
    "grid_respop = respop_df[respop_df['gid'].isin(grid_id)]\n",
    "grid_respop = grid_respop.fillna(0)\n",
    "grid_respop = pd.concat([grid_respop.iloc[:, :2], grid_respop.iloc[:, 2:].astype(int)], axis=1)\n",
    "grid_respop['year'] = grid_respop['year'].astype(str)\n",
    "\n",
    "# 성별구분 없이 통합 및 세대별 인구수 데이터프레임으로 변환\n",
    "columns = ['gid', 'year']\n",
    "for i in range(2, len(grid_respop.columns)):\n",
    "    age = f'{grid_respop.columns[i][2:4]}대' if grid_respop.columns[i][2] != '1' else f'{grid_respop.columns[i][2:5]}대'\n",
    "    sex = '남' if grid_respop.columns[i][0] != 'm' else '여'\n",
    "    columns.append('%s_%s'%(age, sex))\n",
    "grid_respop.columns = columns\n",
    "# 인구 column & 고령인구 column & 고령인구 비율(%) column 생성\n",
    "grid_respop['인구'] = grid_respop.iloc[:, 2:].sum(axis=1)"
   ]
  },
  {
   "cell_type": "code",
   "execution_count": null,
   "metadata": {},
   "outputs": [],
   "source": [
    "# 연령대별로 성별 통합\n",
    "grid_respop['20대'] = grid_respop['20대_여'] + grid_respop['20대_남']\n",
    "grid_respop['30대'] = grid_respop['30대_여'] + grid_respop['30대_남']\n",
    "grid_respop['40대'] = grid_respop['40대_여'] + grid_respop['40대_남']\n",
    "grid_respop['50대'] = grid_respop['50대_여'] + grid_respop['50대_남']\n",
    "grid_respop['60대'] = grid_respop['60대_여'] + grid_respop['60대_남']\n",
    "grid_respop['70대'] = grid_respop['70대_여'] + grid_respop['70대_남']\n",
    "grid_respop['80대'] = grid_respop['80대_여'] + grid_respop['80대_남']\n",
    "grid_respop['90대'] = grid_respop['90대_여'] + grid_respop['90대_남']\n",
    "grid_respop['100대'] = grid_respop['100대_여'] + grid_respop['100대_남']\n",
    "\n",
    "# 필요한 열만 선택\n",
    "age_totals = grid_respop[['year', '20대', '30대', '40대', '50대', '60대', '70대', '80대', '90대', '100대']]\n",
    "\n",
    "# 데이터프레임을 긴 형식으로 변환\n",
    "age_totals_melted = age_totals.melt(id_vars='year', var_name='Age Group', value_name='Count')\n",
    "\n",
    "# 연도별 연령대 분포 계산\n",
    "age_totals_yearly = age_totals_melted[['Age Group', 'Count']].groupby(['Age Group']).sum().reset_index()\n",
    "# 100대 연령대 제거\n",
    "age_totals_yearly = age_totals_yearly[age_totals_yearly['Age Group'] != '100대']\n",
    "\n",
    "# 연령대 종합 평균내기\n",
    "age_totals_yearly['Count'] = age_totals_yearly['Count'] / 4\n",
    "age_totals_yearly['Count'] = age_totals_yearly['Count'].astype(int)\n",
    "# 시각화\n",
    "fig = px.bar(\n",
    "    age_totals_yearly,\n",
    "    x='Age Group',\n",
    "    y='Count',\n",
    "    color='Count',\n",
    "    color_continuous_scale='Plasma_r',  # Plasma 색상 맵 사용\n",
    "    labels={'year': 'Year', 'Count': 'Population Count', 'Age Group': 'Age Group'},\n",
    ")\n",
    "fig.update_layout(height=600, width=1200)\n",
    "fig.show()"
   ]
  },
  {
   "cell_type": "code",
   "execution_count": 56,
   "metadata": {},
   "outputs": [],
   "source": [
    "gen_respop = grid_respop[['gid', '20대', '30대', '40대', '50대', '60대', '70대', '80대', '90대', '100대']]\n",
    "gen_respop = gen_respop.groupby('gid').sum().reset_index()\n",
    "\n",
    "# 격자 ID와 격자 폴리곤 각각을 매핑한 딕셔너리 생성\n",
    "map_dic = dict(zip(grid_map_df['properties.gid'], grid_map_df['geometry']))\n",
    "\n",
    "# 생성된 map_dic에 filtered_respop의 gid를 매핑하여 'geometry' column 생성\n",
    "geometry_lst = []\n",
    "for _, row in gen_respop.iterrows():\n",
    "    geometry_lst.append(map_dic[row['gid']])\n",
    "gen_respop['geometry'] = geometry_lst\n",
    "gen_respop = gpd.GeoDataFrame(gen_respop, geometry='geometry')"
   ]
  },
  {
   "cell_type": "code",
   "execution_count": null,
   "metadata": {},
   "outputs": [],
   "source": [
    "# 맵 객체 생성 및 데이터 로드\n",
    "sejong_gridgenpop_map = KeplerGl(height=1000, width=1500)\n",
    "sejong_gridgenpop_map.add_data(data=gen_respop, name=\"세종시 세대별 격자거주인구 데이터\")\n",
    "sejong_gridgenpop_map.add_data(data=sejong_gdf, name=\"세종시 행정구역 데이터\")\n",
    "\n",
    "# 맵 출력 및 상세설정\n",
    "sejong_gridgenpop_map"
   ]
  },
  {
   "cell_type": "code",
   "execution_count": 46,
   "metadata": {},
   "outputs": [
    {
     "name": "stdout",
     "output_type": "stream",
     "text": [
      "Map saved to visualization/세종시 현황/세종시 세대별 격자거주인구 map.html!\n"
     ]
    }
   ],
   "source": [
    "# 맵 저장\n",
    "sejong_gridgenpop_map.save_to_html(file_name=\"visualization/세종시 현황/세종시 세대별 격자거주인구 map.html\")"
   ]
  },
  {
   "cell_type": "code",
   "execution_count": null,
   "metadata": {},
   "outputs": [],
   "source": [
    "age_totals_gen = age_totals.groupby('year').sum().reset_index()\n",
    "# 각 세대별 총 인구수 계산 및 정렬\n",
    "total_pop = age_totals_gen.drop(columns='year').sum().sort_values(ascending=False)\n",
    "sorted_columns = total_pop.index.tolist()\n",
    "\n",
    "# 각 세대별로 데이터를 분리하여 선과 마커를 동시에 표시하는 그래프 생성\n",
    "fig = go.Figure()\n",
    "\n",
    "for column in sorted_columns:  # 'year' 열을 제외한 각 세대별 열에 대해 반복\n",
    "    fig.add_trace(go.Scatter(\n",
    "        x=age_totals_gen['year'], \n",
    "        y=age_totals_gen[column], \n",
    "        mode='lines+markers', \n",
    "        name=column\n",
    "    ))\n",
    "# 색상 업데이트\n",
    "colors =px.colors.sequential.Plasma # 컬러맵\n",
    "for i, trace in enumerate(fig.data):\n",
    "    trace.line.color = colors[i % len(colors)]\n",
    "# 그래프 레이아웃 설정\n",
    "fig.update_layout(\n",
    "    xaxis_title='Year',\n",
    "    yaxis_title='Population',\n",
    "    width=800,\n",
    "    height=600\n",
    ")\n",
    "\n",
    "# 그래프 시각화\n",
    "fig.show()"
   ]
  },
  {
   "cell_type": "code",
   "execution_count": null,
   "metadata": {},
   "outputs": [],
   "source": [
    "# 연도별 인구수 합계 계산\n",
    "yearly_totals = age_totals_gen.drop(columns='year').sum(axis=1)\n",
    "\n",
    "# 각 세대의 비율 계산\n",
    "age_totals_ratio = age_totals_gen.copy()\n",
    "for column in age_totals_gen.columns[1:]:\n",
    "    age_totals_ratio[column] = age_totals_gen[column] / yearly_totals\n",
    "\n",
    "# 누적 비율 그래프 생성\n",
    "fig_cumulative = go.Figure()\n",
    "\n",
    "# 색상 팔레트 가져오기\n",
    "colors = px.colors.sequential.Plasma\n",
    "\n",
    "for idx, column in enumerate(age_totals_gen.columns[1:]):  # 세대 순서에 따라 누적 비율 그래프 생성\n",
    "    fig_cumulative.add_trace(go.Scatter(\n",
    "        x=age_totals_ratio['year'], \n",
    "        y=age_totals_ratio[column], \n",
    "        mode='lines+markers', \n",
    "        stackgroup='one', \n",
    "        name=column,\n",
    "        line=dict(color=colors[idx % len(colors)])  # 색상 적용\n",
    "    ))\n",
    "\n",
    "# 누적 비율 그래프 레이아웃 설정\n",
    "fig_cumulative.update_layout(\n",
    "    xaxis_title='Year',\n",
    "    yaxis_title='Proportion',\n",
    "    width=800,\n",
    "    height=600\n",
    ")\n",
    "\n",
    "# 누적 비율 그래프 시각화\n",
    "fig_cumulative.show()"
   ]
  },
  {
   "cell_type": "code",
   "execution_count": 59,
   "metadata": {},
   "outputs": [
    {
     "data": {
      "text/html": [
       "<div>\n",
       "<style scoped>\n",
       "    .dataframe tbody tr th:only-of-type {\n",
       "        vertical-align: middle;\n",
       "    }\n",
       "\n",
       "    .dataframe tbody tr th {\n",
       "        vertical-align: top;\n",
       "    }\n",
       "\n",
       "    .dataframe thead th {\n",
       "        text-align: right;\n",
       "    }\n",
       "</style>\n",
       "<table border=\"1\" class=\"dataframe\">\n",
       "  <thead>\n",
       "    <tr style=\"text-align: right;\">\n",
       "      <th></th>\n",
       "      <th>연도</th>\n",
       "      <th>종합인구</th>\n",
       "    </tr>\n",
       "  </thead>\n",
       "  <tbody>\n",
       "    <tr>\n",
       "      <th>0</th>\n",
       "      <td>2020</td>\n",
       "      <td>216288</td>\n",
       "    </tr>\n",
       "    <tr>\n",
       "      <th>1</th>\n",
       "      <td>2021</td>\n",
       "      <td>224599</td>\n",
       "    </tr>\n",
       "    <tr>\n",
       "      <th>2</th>\n",
       "      <td>2022</td>\n",
       "      <td>223073</td>\n",
       "    </tr>\n",
       "    <tr>\n",
       "      <th>3</th>\n",
       "      <td>2023</td>\n",
       "      <td>223989</td>\n",
       "    </tr>\n",
       "  </tbody>\n",
       "</table>\n",
       "</div>"
      ],
      "text/plain": [
       "     연도    종합인구\n",
       "0  2020  216288\n",
       "1  2021  224599\n",
       "2  2022  223073\n",
       "3  2023  223989"
      ]
     },
     "execution_count": 59,
     "metadata": {},
     "output_type": "execute_result"
    }
   ],
   "source": [
    "year_lst = range(2020, 2024)\n",
    "year_pop = [] # 인구수 종합\n",
    "for year in year_lst:\n",
    "    # 해당 year의 인구수 종합\n",
    "    year_pop.append(grid_respop[grid_respop['year'] == str(year)]['인구'].sum())\n",
    "\n",
    "pop_df = pd.DataFrame({'연도':year_lst, '종합인구':year_pop})\n",
    "pop_df"
   ]
  },
  {
   "cell_type": "code",
   "execution_count": null,
   "metadata": {},
   "outputs": [],
   "source": [
    "fig = px.line(pop_df, x='연도', y='종합인구', labels={'x':'연도', 'y':'인구수'})\n",
    "fig.update_traces(mode='lines+markers')\n",
    "\n",
    "fig.update_xaxes(\n",
    "        showticklabels=True, \n",
    "        showgrid=False, \n",
    "        tickmode='array',\n",
    "        range=[2019.5, 2023.5],\n",
    "        tickvals=[2020, 2021, 2022, 2023],  # x축에 표시할 값\n",
    "        ticktext=['2020', '2021', '2022', '2023'],  # x축에 표시할 텍스트\n",
    "    )\n",
    "fig.update_yaxes(\n",
    "    showticklabels=True, \n",
    "    showgrid=True,\n",
    "    )\n",
    "fig.update_layout(height=800, width=1200)\n",
    "fig.show()"
   ]
  },
  {
   "cell_type": "code",
   "execution_count": 61,
   "metadata": {},
   "outputs": [
    {
     "name": "stderr",
     "output_type": "stream",
     "text": [
      "C:\\Users\\HJK\\AppData\\Local\\Temp\\ipykernel_40664\\734192253.py:5: SettingWithCopyWarning:\n",
      "\n",
      "\n",
      "A value is trying to be set on a copy of a slice from a DataFrame.\n",
      "Try using .loc[row_indexer,col_indexer] = value instead\n",
      "\n",
      "See the caveats in the documentation: https://pandas.pydata.org/pandas-docs/stable/user_guide/indexing.html#returning-a-view-versus-a-copy\n",
      "\n"
     ]
    }
   ],
   "source": [
    "grid_pop_df = grid_respop[['gid', 'year', '인구']]\n",
    "geometry_lst = []\n",
    "for _, row in grid_pop_df.iterrows():\n",
    "    geometry_lst.append(map_dic[row['gid']])\n",
    "grid_pop_df['geometry'] = geometry_lst\n",
    "grid_pop_df = grid_pop_df[grid_pop_df['인구'] != 0]\n",
    "grid_pop_df = gpd.GeoDataFrame(grid_pop_df, geometry='geometry')"
   ]
  },
  {
   "cell_type": "code",
   "execution_count": null,
   "metadata": {},
   "outputs": [],
   "source": [
    "# 맵 객체 생성 및 데이터 로드\n",
    "sejong_gridpop_map = KeplerGl(height=1000, width=1500)\n",
    "sejong_gridpop_map.add_data(data=grid_pop_df, name=\"세종시 격자거주인구 데이터\")\n",
    "sejong_gridpop_map.add_data(data=sejong_gdf, name=\"세종시 행정구역 데이터\")\n",
    "\n",
    "# 맵 출력 및 상세설정\n",
    "sejong_gridpop_map"
   ]
  },
  {
   "cell_type": "code",
   "execution_count": 75,
   "metadata": {},
   "outputs": [
    {
     "name": "stdout",
     "output_type": "stream",
     "text": [
      "Map saved to visualization/세종시 현황/세종시 격자거주인구 map.html!\n"
     ]
    }
   ],
   "source": [
    "# 맵 저장\n",
    "sejong_gridpop_map.save_to_html(file_name=\"visualization/세종시 현황/세종시 격자거주인구 map.html\")"
   ]
  },
  {
   "cell_type": "markdown",
   "metadata": {},
   "source": [
    "#### 행정구역별 인구(격자거주인구 활용)"
   ]
  },
  {
   "cell_type": "code",
   "execution_count": 62,
   "metadata": {},
   "outputs": [
    {
     "name": "stderr",
     "output_type": "stream",
     "text": [
      "c:\\Users\\HJK\\anaconda3\\envs\\GIS\\lib\\site-packages\\IPython\\core\\interactiveshell.py:3445: FutureWarning:\n",
      "\n",
      "The `op` parameter is deprecated and will be removed in a future release. Please use the `predicate` parameter instead.\n",
      "\n"
     ]
    }
   ],
   "source": [
    "# 공간 조인 수행\n",
    "joined_df = gpd.sjoin(grid_pop_df, sejong_gdf, how='inner', op='intersects')\n",
    "\n",
    "# 연도별로 행정구역의 인구수를 합산\n",
    "sejong_pop_gdf = joined_df.groupby(['year', 'ADM_NM', 'newtown']).agg({'인구': 'sum'}).reset_index()\n",
    "sejong_pop_gdf = pd.merge(sejong_pop_gdf, sejong_gdf[['ADM_NM', 'geometry']], on='ADM_NM')\n",
    "sejong_pop_gdf = gpd.GeoDataFrame(sejong_pop_gdf, geometry='geometry')"
   ]
  },
  {
   "cell_type": "code",
   "execution_count": 77,
   "metadata": {},
   "outputs": [
    {
     "data": {
      "application/vnd.plotly.v1+json": {
       "config": {
        "plotlyServerURL": "https://plot.ly"
       },
       "data": [
        {
         "line": {
          "color": "#0d0887"
         },
         "mode": "lines+markers",
         "name": "조치원읍",
         "type": "scatter",
         "x": [
          "2020",
          "2021",
          "2022",
          "2023"
         ],
         "y": [
          28530,
          29191,
          28755,
          28147
         ]
        },
        {
         "line": {
          "color": "#46039f"
         },
         "mode": "lines+markers",
         "name": "고운동",
         "type": "scatter",
         "x": [
          "2020",
          "2021",
          "2022",
          "2023"
         ],
         "y": [
          23474,
          23384,
          23726,
          23869
         ]
        },
        {
         "line": {
          "color": "#7201a8"
         },
         "mode": "lines+markers",
         "name": "다정동",
         "type": "scatter",
         "x": [
          "2020",
          "2021",
          "2022",
          "2023"
         ],
         "y": [
          19325,
          21357,
          21301,
          21556
         ]
        },
        {
         "line": {
          "color": "#9c179e"
         },
         "mode": "lines+markers",
         "name": "종촌동",
         "type": "scatter",
         "x": [
          "2020",
          "2021",
          "2022",
          "2023"
         ],
         "y": [
          20567,
          20540,
          20464,
          20572
         ]
        },
        {
         "line": {
          "color": "#bd3786"
         },
         "mode": "lines+markers",
         "name": "새롬동",
         "type": "scatter",
         "x": [
          "2020",
          "2021",
          "2022",
          "2023"
         ],
         "y": [
          19813,
          19606,
          19565,
          19884
         ]
        },
        {
         "line": {
          "color": "#d8576b"
         },
         "mode": "lines+markers",
         "name": "도담동",
         "type": "scatter",
         "x": [
          "2020",
          "2021",
          "2022",
          "2023"
         ],
         "y": [
          18915,
          18883,
          18901,
          18921
         ]
        },
        {
         "line": {
          "color": "#ed7953"
         },
         "mode": "lines+markers",
         "name": "아름동",
         "type": "scatter",
         "x": [
          "2020",
          "2021",
          "2022",
          "2023"
         ],
         "y": [
          17987,
          18055,
          18204,
          18581
         ]
        },
        {
         "line": {
          "color": "#fb9f3a"
         },
         "mode": "lines+markers",
         "name": "보람동",
         "type": "scatter",
         "x": [
          "2020",
          "2021",
          "2022",
          "2023"
         ],
         "y": [
          15837,
          15758,
          15581,
          15798
         ]
        },
        {
         "line": {
          "color": "#fdca26"
         },
         "mode": "lines+markers",
         "name": "소담동",
         "type": "scatter",
         "x": [
          "2020",
          "2021",
          "2022",
          "2023"
         ],
         "y": [
          13759,
          15099,
          14858,
          15189
         ]
        },
        {
         "line": {
          "color": "#f0f921"
         },
         "mode": "lines+markers",
         "name": "한솔동",
         "type": "scatter",
         "x": [
          "2020",
          "2021",
          "2022",
          "2023"
         ],
         "y": [
          14220,
          14038,
          13762,
          13976
         ]
        },
        {
         "line": {
          "color": "#0d0887"
         },
         "mode": "lines+markers",
         "name": "반곡동",
         "type": "scatter",
         "x": [
          "2020",
          "2021",
          "2022",
          "2023"
         ],
         "y": [
          9134,
          9052,
          9007,
          9224
         ]
        },
        {
         "line": {
          "color": "#46039f"
         },
         "mode": "lines+markers",
         "name": "대평동",
         "type": "scatter",
         "x": [
          "2020",
          "2021",
          "2022",
          "2023"
         ],
         "y": [
          7933,
          8263,
          8119,
          8230
         ]
        },
        {
         "line": {
          "color": "#7201a8"
         },
         "mode": "lines+markers",
         "name": "어진동",
         "type": "scatter",
         "x": [
          "2020",
          "2021",
          "2022",
          "2023"
         ],
         "y": [
          6291,
          6539,
          6455,
          6405
         ]
        },
        {
         "line": {
          "color": "#9c179e"
         },
         "mode": "lines+markers",
         "name": "나성동",
         "type": "scatter",
         "x": [
          "2020",
          "2021",
          "2022",
          "2023"
         ],
         "y": [
          5175,
          5966,
          5980,
          5753
         ]
        },
        {
         "line": {
          "color": "#bd3786"
         },
         "mode": "lines+markers",
         "name": "해밀동",
         "type": "scatter",
         "x": [
          "2020",
          "2021",
          "2022",
          "2023"
         ],
         "y": [
          2478,
          5526,
          5548,
          5580
         ]
        },
        {
         "line": {
          "color": "#d8576b"
         },
         "mode": "lines+markers",
         "name": "세종동",
         "type": "scatter",
         "x": [
          "2020",
          "2021",
          "2022",
          "2023"
         ],
         "y": [
          2800,
          2895,
          2837,
          2910
         ]
        },
        {
         "line": {
          "color": "#ed7953"
         },
         "mode": "lines+markers",
         "name": "금남면",
         "type": "scatter",
         "x": [
          "2020",
          "2021",
          "2022",
          "2023"
         ],
         "y": [
          2519,
          2764,
          2639,
          2506
         ]
        },
        {
         "line": {
          "color": "#fb9f3a"
         },
         "mode": "lines+markers",
         "name": "연서면",
         "type": "scatter",
         "x": [
          "2020",
          "2021",
          "2022",
          "2023"
         ],
         "y": [
          2605,
          2609,
          2589,
          2497
         ]
        },
        {
         "line": {
          "color": "#fdca26"
         },
         "mode": "lines+markers",
         "name": "부강면",
         "type": "scatter",
         "x": [
          "2020",
          "2021",
          "2022",
          "2023"
         ],
         "y": [
          2515,
          2558,
          2305,
          2230
         ]
        },
        {
         "line": {
          "color": "#f0f921"
         },
         "mode": "lines+markers",
         "name": "전의면",
         "type": "scatter",
         "x": [
          "2020",
          "2021",
          "2022",
          "2023"
         ],
         "y": [
          1452,
          1358,
          1406,
          1326
         ]
        },
        {
         "line": {
          "color": "#0d0887"
         },
         "mode": "lines+markers",
         "name": "장군면",
         "type": "scatter",
         "x": [
          "2020",
          "2021",
          "2022",
          "2023"
         ],
         "y": [
          1090,
          1267,
          1152,
          1214
         ]
        },
        {
         "line": {
          "color": "#46039f"
         },
         "mode": "lines+markers",
         "name": "가람동",
         "type": "scatter",
         "x": [
          "2020",
          "2021",
          "2022",
          "2023"
         ],
         "y": [
          712,
          711,
          697,
          697
         ]
        },
        {
         "line": {
          "color": "#7201a8"
         },
         "mode": "lines+markers",
         "name": "연기면",
         "type": "scatter",
         "x": [
          "2020",
          "2021",
          "2022",
          "2023"
         ],
         "y": [
          537,
          746,
          616,
          527
         ]
        },
        {
         "line": {
          "color": "#9c179e"
         },
         "mode": "lines+markers",
         "name": "연동면",
         "type": "scatter",
         "x": [
          "2020",
          "2021",
          "2022",
          "2023"
         ],
         "y": [
          584,
          615,
          603,
          558
         ]
        },
        {
         "line": {
          "color": "#bd3786"
         },
         "mode": "lines+markers",
         "name": "소정면",
         "type": "scatter",
         "x": [
          "2020",
          "2021",
          "2022",
          "2023"
         ],
         "y": [
          589,
          546,
          529,
          507
         ]
        },
        {
         "line": {
          "color": "#d8576b"
         },
         "mode": "lines+markers",
         "name": "전동면",
         "type": "scatter",
         "x": [
          "2020",
          "2021",
          "2022",
          "2023"
         ],
         "y": [
          532,
          470,
          444,
          413
         ]
        },
        {
         "line": {
          "color": "#ed7953"
         },
         "mode": "lines+markers",
         "name": "한별동",
         "type": "scatter",
         "x": [
          "2020",
          "2021",
          "2022"
         ],
         "y": [
          32,
          13,
          7
         ]
        },
        {
         "line": {
          "color": "#fb9f3a"
         },
         "mode": "lines+markers",
         "name": "다솜동",
         "type": "scatter",
         "x": [
          "2021"
         ],
         "y": [
          6
         ]
        }
       ],
       "layout": {
        "height": 800,
        "template": {
         "data": {
          "bar": [
           {
            "error_x": {
             "color": "#2a3f5f"
            },
            "error_y": {
             "color": "#2a3f5f"
            },
            "marker": {
             "line": {
              "color": "#E5ECF6",
              "width": 0.5
             },
             "pattern": {
              "fillmode": "overlay",
              "size": 10,
              "solidity": 0.2
             }
            },
            "type": "bar"
           }
          ],
          "barpolar": [
           {
            "marker": {
             "line": {
              "color": "#E5ECF6",
              "width": 0.5
             },
             "pattern": {
              "fillmode": "overlay",
              "size": 10,
              "solidity": 0.2
             }
            },
            "type": "barpolar"
           }
          ],
          "carpet": [
           {
            "aaxis": {
             "endlinecolor": "#2a3f5f",
             "gridcolor": "white",
             "linecolor": "white",
             "minorgridcolor": "white",
             "startlinecolor": "#2a3f5f"
            },
            "baxis": {
             "endlinecolor": "#2a3f5f",
             "gridcolor": "white",
             "linecolor": "white",
             "minorgridcolor": "white",
             "startlinecolor": "#2a3f5f"
            },
            "type": "carpet"
           }
          ],
          "choropleth": [
           {
            "colorbar": {
             "outlinewidth": 0,
             "ticks": ""
            },
            "type": "choropleth"
           }
          ],
          "contour": [
           {
            "colorbar": {
             "outlinewidth": 0,
             "ticks": ""
            },
            "colorscale": [
             [
              0,
              "#0d0887"
             ],
             [
              0.1111111111111111,
              "#46039f"
             ],
             [
              0.2222222222222222,
              "#7201a8"
             ],
             [
              0.3333333333333333,
              "#9c179e"
             ],
             [
              0.4444444444444444,
              "#bd3786"
             ],
             [
              0.5555555555555556,
              "#d8576b"
             ],
             [
              0.6666666666666666,
              "#ed7953"
             ],
             [
              0.7777777777777778,
              "#fb9f3a"
             ],
             [
              0.8888888888888888,
              "#fdca26"
             ],
             [
              1,
              "#f0f921"
             ]
            ],
            "type": "contour"
           }
          ],
          "contourcarpet": [
           {
            "colorbar": {
             "outlinewidth": 0,
             "ticks": ""
            },
            "type": "contourcarpet"
           }
          ],
          "heatmap": [
           {
            "colorbar": {
             "outlinewidth": 0,
             "ticks": ""
            },
            "colorscale": [
             [
              0,
              "#0d0887"
             ],
             [
              0.1111111111111111,
              "#46039f"
             ],
             [
              0.2222222222222222,
              "#7201a8"
             ],
             [
              0.3333333333333333,
              "#9c179e"
             ],
             [
              0.4444444444444444,
              "#bd3786"
             ],
             [
              0.5555555555555556,
              "#d8576b"
             ],
             [
              0.6666666666666666,
              "#ed7953"
             ],
             [
              0.7777777777777778,
              "#fb9f3a"
             ],
             [
              0.8888888888888888,
              "#fdca26"
             ],
             [
              1,
              "#f0f921"
             ]
            ],
            "type": "heatmap"
           }
          ],
          "heatmapgl": [
           {
            "colorbar": {
             "outlinewidth": 0,
             "ticks": ""
            },
            "colorscale": [
             [
              0,
              "#0d0887"
             ],
             [
              0.1111111111111111,
              "#46039f"
             ],
             [
              0.2222222222222222,
              "#7201a8"
             ],
             [
              0.3333333333333333,
              "#9c179e"
             ],
             [
              0.4444444444444444,
              "#bd3786"
             ],
             [
              0.5555555555555556,
              "#d8576b"
             ],
             [
              0.6666666666666666,
              "#ed7953"
             ],
             [
              0.7777777777777778,
              "#fb9f3a"
             ],
             [
              0.8888888888888888,
              "#fdca26"
             ],
             [
              1,
              "#f0f921"
             ]
            ],
            "type": "heatmapgl"
           }
          ],
          "histogram": [
           {
            "marker": {
             "pattern": {
              "fillmode": "overlay",
              "size": 10,
              "solidity": 0.2
             }
            },
            "type": "histogram"
           }
          ],
          "histogram2d": [
           {
            "colorbar": {
             "outlinewidth": 0,
             "ticks": ""
            },
            "colorscale": [
             [
              0,
              "#0d0887"
             ],
             [
              0.1111111111111111,
              "#46039f"
             ],
             [
              0.2222222222222222,
              "#7201a8"
             ],
             [
              0.3333333333333333,
              "#9c179e"
             ],
             [
              0.4444444444444444,
              "#bd3786"
             ],
             [
              0.5555555555555556,
              "#d8576b"
             ],
             [
              0.6666666666666666,
              "#ed7953"
             ],
             [
              0.7777777777777778,
              "#fb9f3a"
             ],
             [
              0.8888888888888888,
              "#fdca26"
             ],
             [
              1,
              "#f0f921"
             ]
            ],
            "type": "histogram2d"
           }
          ],
          "histogram2dcontour": [
           {
            "colorbar": {
             "outlinewidth": 0,
             "ticks": ""
            },
            "colorscale": [
             [
              0,
              "#0d0887"
             ],
             [
              0.1111111111111111,
              "#46039f"
             ],
             [
              0.2222222222222222,
              "#7201a8"
             ],
             [
              0.3333333333333333,
              "#9c179e"
             ],
             [
              0.4444444444444444,
              "#bd3786"
             ],
             [
              0.5555555555555556,
              "#d8576b"
             ],
             [
              0.6666666666666666,
              "#ed7953"
             ],
             [
              0.7777777777777778,
              "#fb9f3a"
             ],
             [
              0.8888888888888888,
              "#fdca26"
             ],
             [
              1,
              "#f0f921"
             ]
            ],
            "type": "histogram2dcontour"
           }
          ],
          "mesh3d": [
           {
            "colorbar": {
             "outlinewidth": 0,
             "ticks": ""
            },
            "type": "mesh3d"
           }
          ],
          "parcoords": [
           {
            "line": {
             "colorbar": {
              "outlinewidth": 0,
              "ticks": ""
             }
            },
            "type": "parcoords"
           }
          ],
          "pie": [
           {
            "automargin": true,
            "type": "pie"
           }
          ],
          "scatter": [
           {
            "fillpattern": {
             "fillmode": "overlay",
             "size": 10,
             "solidity": 0.2
            },
            "type": "scatter"
           }
          ],
          "scatter3d": [
           {
            "line": {
             "colorbar": {
              "outlinewidth": 0,
              "ticks": ""
             }
            },
            "marker": {
             "colorbar": {
              "outlinewidth": 0,
              "ticks": ""
             }
            },
            "type": "scatter3d"
           }
          ],
          "scattercarpet": [
           {
            "marker": {
             "colorbar": {
              "outlinewidth": 0,
              "ticks": ""
             }
            },
            "type": "scattercarpet"
           }
          ],
          "scattergeo": [
           {
            "marker": {
             "colorbar": {
              "outlinewidth": 0,
              "ticks": ""
             }
            },
            "type": "scattergeo"
           }
          ],
          "scattergl": [
           {
            "marker": {
             "colorbar": {
              "outlinewidth": 0,
              "ticks": ""
             }
            },
            "type": "scattergl"
           }
          ],
          "scattermapbox": [
           {
            "marker": {
             "colorbar": {
              "outlinewidth": 0,
              "ticks": ""
             }
            },
            "type": "scattermapbox"
           }
          ],
          "scatterpolar": [
           {
            "marker": {
             "colorbar": {
              "outlinewidth": 0,
              "ticks": ""
             }
            },
            "type": "scatterpolar"
           }
          ],
          "scatterpolargl": [
           {
            "marker": {
             "colorbar": {
              "outlinewidth": 0,
              "ticks": ""
             }
            },
            "type": "scatterpolargl"
           }
          ],
          "scatterternary": [
           {
            "marker": {
             "colorbar": {
              "outlinewidth": 0,
              "ticks": ""
             }
            },
            "type": "scatterternary"
           }
          ],
          "surface": [
           {
            "colorbar": {
             "outlinewidth": 0,
             "ticks": ""
            },
            "colorscale": [
             [
              0,
              "#0d0887"
             ],
             [
              0.1111111111111111,
              "#46039f"
             ],
             [
              0.2222222222222222,
              "#7201a8"
             ],
             [
              0.3333333333333333,
              "#9c179e"
             ],
             [
              0.4444444444444444,
              "#bd3786"
             ],
             [
              0.5555555555555556,
              "#d8576b"
             ],
             [
              0.6666666666666666,
              "#ed7953"
             ],
             [
              0.7777777777777778,
              "#fb9f3a"
             ],
             [
              0.8888888888888888,
              "#fdca26"
             ],
             [
              1,
              "#f0f921"
             ]
            ],
            "type": "surface"
           }
          ],
          "table": [
           {
            "cells": {
             "fill": {
              "color": "#EBF0F8"
             },
             "line": {
              "color": "white"
             }
            },
            "header": {
             "fill": {
              "color": "#C8D4E3"
             },
             "line": {
              "color": "white"
             }
            },
            "type": "table"
           }
          ]
         },
         "layout": {
          "annotationdefaults": {
           "arrowcolor": "#2a3f5f",
           "arrowhead": 0,
           "arrowwidth": 1
          },
          "autotypenumbers": "strict",
          "coloraxis": {
           "colorbar": {
            "outlinewidth": 0,
            "ticks": ""
           }
          },
          "colorscale": {
           "diverging": [
            [
             0,
             "#8e0152"
            ],
            [
             0.1,
             "#c51b7d"
            ],
            [
             0.2,
             "#de77ae"
            ],
            [
             0.3,
             "#f1b6da"
            ],
            [
             0.4,
             "#fde0ef"
            ],
            [
             0.5,
             "#f7f7f7"
            ],
            [
             0.6,
             "#e6f5d0"
            ],
            [
             0.7,
             "#b8e186"
            ],
            [
             0.8,
             "#7fbc41"
            ],
            [
             0.9,
             "#4d9221"
            ],
            [
             1,
             "#276419"
            ]
           ],
           "sequential": [
            [
             0,
             "#0d0887"
            ],
            [
             0.1111111111111111,
             "#46039f"
            ],
            [
             0.2222222222222222,
             "#7201a8"
            ],
            [
             0.3333333333333333,
             "#9c179e"
            ],
            [
             0.4444444444444444,
             "#bd3786"
            ],
            [
             0.5555555555555556,
             "#d8576b"
            ],
            [
             0.6666666666666666,
             "#ed7953"
            ],
            [
             0.7777777777777778,
             "#fb9f3a"
            ],
            [
             0.8888888888888888,
             "#fdca26"
            ],
            [
             1,
             "#f0f921"
            ]
           ],
           "sequentialminus": [
            [
             0,
             "#0d0887"
            ],
            [
             0.1111111111111111,
             "#46039f"
            ],
            [
             0.2222222222222222,
             "#7201a8"
            ],
            [
             0.3333333333333333,
             "#9c179e"
            ],
            [
             0.4444444444444444,
             "#bd3786"
            ],
            [
             0.5555555555555556,
             "#d8576b"
            ],
            [
             0.6666666666666666,
             "#ed7953"
            ],
            [
             0.7777777777777778,
             "#fb9f3a"
            ],
            [
             0.8888888888888888,
             "#fdca26"
            ],
            [
             1,
             "#f0f921"
            ]
           ]
          },
          "colorway": [
           "#636efa",
           "#EF553B",
           "#00cc96",
           "#ab63fa",
           "#FFA15A",
           "#19d3f3",
           "#FF6692",
           "#B6E880",
           "#FF97FF",
           "#FECB52"
          ],
          "font": {
           "color": "#2a3f5f"
          },
          "geo": {
           "bgcolor": "white",
           "lakecolor": "white",
           "landcolor": "#E5ECF6",
           "showlakes": true,
           "showland": true,
           "subunitcolor": "white"
          },
          "hoverlabel": {
           "align": "left"
          },
          "hovermode": "closest",
          "mapbox": {
           "style": "light"
          },
          "paper_bgcolor": "white",
          "plot_bgcolor": "#E5ECF6",
          "polar": {
           "angularaxis": {
            "gridcolor": "white",
            "linecolor": "white",
            "ticks": ""
           },
           "bgcolor": "#E5ECF6",
           "radialaxis": {
            "gridcolor": "white",
            "linecolor": "white",
            "ticks": ""
           }
          },
          "scene": {
           "xaxis": {
            "backgroundcolor": "#E5ECF6",
            "gridcolor": "white",
            "gridwidth": 2,
            "linecolor": "white",
            "showbackground": true,
            "ticks": "",
            "zerolinecolor": "white"
           },
           "yaxis": {
            "backgroundcolor": "#E5ECF6",
            "gridcolor": "white",
            "gridwidth": 2,
            "linecolor": "white",
            "showbackground": true,
            "ticks": "",
            "zerolinecolor": "white"
           },
           "zaxis": {
            "backgroundcolor": "#E5ECF6",
            "gridcolor": "white",
            "gridwidth": 2,
            "linecolor": "white",
            "showbackground": true,
            "ticks": "",
            "zerolinecolor": "white"
           }
          },
          "shapedefaults": {
           "line": {
            "color": "#2a3f5f"
           }
          },
          "ternary": {
           "aaxis": {
            "gridcolor": "white",
            "linecolor": "white",
            "ticks": ""
           },
           "baxis": {
            "gridcolor": "white",
            "linecolor": "white",
            "ticks": ""
           },
           "bgcolor": "#E5ECF6",
           "caxis": {
            "gridcolor": "white",
            "linecolor": "white",
            "ticks": ""
           }
          },
          "title": {
           "x": 0.05
          },
          "xaxis": {
           "automargin": true,
           "gridcolor": "white",
           "linecolor": "white",
           "ticks": "",
           "title": {
            "standoff": 15
           },
           "zerolinecolor": "white",
           "zerolinewidth": 2
          },
          "yaxis": {
           "automargin": true,
           "gridcolor": "white",
           "linecolor": "white",
           "ticks": "",
           "title": {
            "standoff": 15
           },
           "zerolinecolor": "white",
           "zerolinewidth": 2
          }
         }
        },
        "width": 1000,
        "xaxis": {
         "title": {
          "text": "Year"
         }
        },
        "yaxis": {
         "title": {
          "text": "Population"
         }
        }
       }
      }
     },
     "metadata": {},
     "output_type": "display_data"
    }
   ],
   "source": [
    "# 연도별로 행정구역의 인구수 합산\n",
    "pop_trend_df = sejong_pop_gdf.groupby(['year', 'ADM_NM']).agg({'인구': 'sum'}).reset_index()\n",
    "# 각 행정구역의 총 인구수 계산\n",
    "total_pop_df = pop_trend_df.groupby('ADM_NM')['인구'].sum().reset_index()\n",
    "\n",
    "# 총 인구수를 기준으로 행정구역 정렬\n",
    "total_pop_df = total_pop_df.sort_values(by='인구', ascending=False)\n",
    "\n",
    "# 각 행정구역별로 데이터를 분리하여 선과 마커를 동시에 표시하는 그래프 생성\n",
    "fig = go.Figure()\n",
    "\n",
    "for adm_nm in total_pop_df['ADM_NM'].unique():\n",
    "    df = pop_trend_df[pop_trend_df['ADM_NM'] == adm_nm]\n",
    "    fig.add_trace(go.Scatter(x=df['year'], y=df['인구'], mode='lines+markers', name=adm_nm))\n",
    "# 색상 업데이트\n",
    "colors =px.colors.sequential.Plasma # 컬러맵\n",
    "for i, trace in enumerate(fig.data):\n",
    "    trace.line.color = colors[i % len(colors)]\n",
    "# 그래프 레이아웃 설정\n",
    "fig.update_layout(\n",
    "    xaxis_title='Year',\n",
    "    yaxis_title='Population',\n",
    "    width=1000,\n",
    "    height=800\n",
    ")\n",
    "\n",
    "# 그래프 시각화\n",
    "fig.show()"
   ]
  },
  {
   "cell_type": "code",
   "execution_count": 82,
   "metadata": {},
   "outputs": [
    {
     "data": {
      "application/vnd.plotly.v1+json": {
       "config": {
        "plotlyServerURL": "https://plot.ly"
       },
       "data": [
        {
         "line": {
          "color": "#0d0887"
         },
         "mode": "lines+markers",
         "name": "고운동",
         "type": "scatter",
         "x": [
          "2020",
          "2021",
          "2022",
          "2023"
         ],
         "y": [
          23474,
          23384,
          23726,
          23869
         ]
        },
        {
         "line": {
          "color": "#46039f"
         },
         "mode": "lines+markers",
         "name": "다정동",
         "type": "scatter",
         "x": [
          "2020",
          "2021",
          "2022",
          "2023"
         ],
         "y": [
          19325,
          21357,
          21301,
          21556
         ]
        },
        {
         "line": {
          "color": "#7201a8"
         },
         "mode": "lines+markers",
         "name": "종촌동",
         "type": "scatter",
         "x": [
          "2020",
          "2021",
          "2022",
          "2023"
         ],
         "y": [
          20567,
          20540,
          20464,
          20572
         ]
        },
        {
         "line": {
          "color": "#9c179e"
         },
         "mode": "lines+markers",
         "name": "새롬동",
         "type": "scatter",
         "x": [
          "2020",
          "2021",
          "2022",
          "2023"
         ],
         "y": [
          19813,
          19606,
          19565,
          19884
         ]
        },
        {
         "line": {
          "color": "#bd3786"
         },
         "mode": "lines+markers",
         "name": "도담동",
         "type": "scatter",
         "x": [
          "2020",
          "2021",
          "2022",
          "2023"
         ],
         "y": [
          18915,
          18883,
          18901,
          18921
         ]
        },
        {
         "line": {
          "color": "#d8576b"
         },
         "mode": "lines+markers",
         "name": "아름동",
         "type": "scatter",
         "x": [
          "2020",
          "2021",
          "2022",
          "2023"
         ],
         "y": [
          17987,
          18055,
          18204,
          18581
         ]
        },
        {
         "line": {
          "color": "#ed7953"
         },
         "mode": "lines+markers",
         "name": "보람동",
         "type": "scatter",
         "x": [
          "2020",
          "2021",
          "2022",
          "2023"
         ],
         "y": [
          15837,
          15758,
          15581,
          15798
         ]
        },
        {
         "line": {
          "color": "#fb9f3a"
         },
         "mode": "lines+markers",
         "name": "소담동",
         "type": "scatter",
         "x": [
          "2020",
          "2021",
          "2022",
          "2023"
         ],
         "y": [
          13759,
          15099,
          14858,
          15189
         ]
        },
        {
         "line": {
          "color": "#fdca26"
         },
         "mode": "lines+markers",
         "name": "한솔동",
         "type": "scatter",
         "x": [
          "2020",
          "2021",
          "2022",
          "2023"
         ],
         "y": [
          14220,
          14038,
          13762,
          13976
         ]
        },
        {
         "line": {
          "color": "#f0f921"
         },
         "mode": "lines+markers",
         "name": "반곡동",
         "type": "scatter",
         "x": [
          "2020",
          "2021",
          "2022",
          "2023"
         ],
         "y": [
          9134,
          9052,
          9007,
          9224
         ]
        },
        {
         "line": {
          "color": "#0d0887"
         },
         "mode": "lines+markers",
         "name": "대평동",
         "type": "scatter",
         "x": [
          "2020",
          "2021",
          "2022",
          "2023"
         ],
         "y": [
          7933,
          8263,
          8119,
          8230
         ]
        },
        {
         "line": {
          "color": "#46039f"
         },
         "mode": "lines+markers",
         "name": "어진동",
         "type": "scatter",
         "x": [
          "2020",
          "2021",
          "2022",
          "2023"
         ],
         "y": [
          6291,
          6539,
          6455,
          6405
         ]
        },
        {
         "line": {
          "color": "#7201a8"
         },
         "mode": "lines+markers",
         "name": "나성동",
         "type": "scatter",
         "x": [
          "2020",
          "2021",
          "2022",
          "2023"
         ],
         "y": [
          5175,
          5966,
          5980,
          5753
         ]
        },
        {
         "line": {
          "color": "#9c179e"
         },
         "mode": "lines+markers",
         "name": "해밀동",
         "type": "scatter",
         "x": [
          "2020",
          "2021",
          "2022",
          "2023"
         ],
         "y": [
          2478,
          5526,
          5548,
          5580
         ]
        },
        {
         "line": {
          "color": "#bd3786"
         },
         "mode": "lines+markers",
         "name": "세종동",
         "type": "scatter",
         "x": [
          "2020",
          "2021",
          "2022",
          "2023"
         ],
         "y": [
          2800,
          2895,
          2837,
          2910
         ]
        },
        {
         "line": {
          "color": "#d8576b"
         },
         "mode": "lines+markers",
         "name": "가람동",
         "type": "scatter",
         "x": [
          "2020",
          "2021",
          "2022",
          "2023"
         ],
         "y": [
          712,
          711,
          697,
          697
         ]
        },
        {
         "line": {
          "color": "#ed7953"
         },
         "mode": "lines+markers",
         "name": "한별동",
         "type": "scatter",
         "x": [
          "2020",
          "2021",
          "2022"
         ],
         "y": [
          32,
          13,
          7
         ]
        },
        {
         "line": {
          "color": "#fb9f3a"
         },
         "mode": "lines+markers",
         "name": "다솜동",
         "type": "scatter",
         "x": [
          "2021"
         ],
         "y": [
          6
         ]
        }
       ],
       "layout": {
        "height": 600,
        "template": {
         "data": {
          "bar": [
           {
            "error_x": {
             "color": "#2a3f5f"
            },
            "error_y": {
             "color": "#2a3f5f"
            },
            "marker": {
             "line": {
              "color": "#E5ECF6",
              "width": 0.5
             },
             "pattern": {
              "fillmode": "overlay",
              "size": 10,
              "solidity": 0.2
             }
            },
            "type": "bar"
           }
          ],
          "barpolar": [
           {
            "marker": {
             "line": {
              "color": "#E5ECF6",
              "width": 0.5
             },
             "pattern": {
              "fillmode": "overlay",
              "size": 10,
              "solidity": 0.2
             }
            },
            "type": "barpolar"
           }
          ],
          "carpet": [
           {
            "aaxis": {
             "endlinecolor": "#2a3f5f",
             "gridcolor": "white",
             "linecolor": "white",
             "minorgridcolor": "white",
             "startlinecolor": "#2a3f5f"
            },
            "baxis": {
             "endlinecolor": "#2a3f5f",
             "gridcolor": "white",
             "linecolor": "white",
             "minorgridcolor": "white",
             "startlinecolor": "#2a3f5f"
            },
            "type": "carpet"
           }
          ],
          "choropleth": [
           {
            "colorbar": {
             "outlinewidth": 0,
             "ticks": ""
            },
            "type": "choropleth"
           }
          ],
          "contour": [
           {
            "colorbar": {
             "outlinewidth": 0,
             "ticks": ""
            },
            "colorscale": [
             [
              0,
              "#0d0887"
             ],
             [
              0.1111111111111111,
              "#46039f"
             ],
             [
              0.2222222222222222,
              "#7201a8"
             ],
             [
              0.3333333333333333,
              "#9c179e"
             ],
             [
              0.4444444444444444,
              "#bd3786"
             ],
             [
              0.5555555555555556,
              "#d8576b"
             ],
             [
              0.6666666666666666,
              "#ed7953"
             ],
             [
              0.7777777777777778,
              "#fb9f3a"
             ],
             [
              0.8888888888888888,
              "#fdca26"
             ],
             [
              1,
              "#f0f921"
             ]
            ],
            "type": "contour"
           }
          ],
          "contourcarpet": [
           {
            "colorbar": {
             "outlinewidth": 0,
             "ticks": ""
            },
            "type": "contourcarpet"
           }
          ],
          "heatmap": [
           {
            "colorbar": {
             "outlinewidth": 0,
             "ticks": ""
            },
            "colorscale": [
             [
              0,
              "#0d0887"
             ],
             [
              0.1111111111111111,
              "#46039f"
             ],
             [
              0.2222222222222222,
              "#7201a8"
             ],
             [
              0.3333333333333333,
              "#9c179e"
             ],
             [
              0.4444444444444444,
              "#bd3786"
             ],
             [
              0.5555555555555556,
              "#d8576b"
             ],
             [
              0.6666666666666666,
              "#ed7953"
             ],
             [
              0.7777777777777778,
              "#fb9f3a"
             ],
             [
              0.8888888888888888,
              "#fdca26"
             ],
             [
              1,
              "#f0f921"
             ]
            ],
            "type": "heatmap"
           }
          ],
          "heatmapgl": [
           {
            "colorbar": {
             "outlinewidth": 0,
             "ticks": ""
            },
            "colorscale": [
             [
              0,
              "#0d0887"
             ],
             [
              0.1111111111111111,
              "#46039f"
             ],
             [
              0.2222222222222222,
              "#7201a8"
             ],
             [
              0.3333333333333333,
              "#9c179e"
             ],
             [
              0.4444444444444444,
              "#bd3786"
             ],
             [
              0.5555555555555556,
              "#d8576b"
             ],
             [
              0.6666666666666666,
              "#ed7953"
             ],
             [
              0.7777777777777778,
              "#fb9f3a"
             ],
             [
              0.8888888888888888,
              "#fdca26"
             ],
             [
              1,
              "#f0f921"
             ]
            ],
            "type": "heatmapgl"
           }
          ],
          "histogram": [
           {
            "marker": {
             "pattern": {
              "fillmode": "overlay",
              "size": 10,
              "solidity": 0.2
             }
            },
            "type": "histogram"
           }
          ],
          "histogram2d": [
           {
            "colorbar": {
             "outlinewidth": 0,
             "ticks": ""
            },
            "colorscale": [
             [
              0,
              "#0d0887"
             ],
             [
              0.1111111111111111,
              "#46039f"
             ],
             [
              0.2222222222222222,
              "#7201a8"
             ],
             [
              0.3333333333333333,
              "#9c179e"
             ],
             [
              0.4444444444444444,
              "#bd3786"
             ],
             [
              0.5555555555555556,
              "#d8576b"
             ],
             [
              0.6666666666666666,
              "#ed7953"
             ],
             [
              0.7777777777777778,
              "#fb9f3a"
             ],
             [
              0.8888888888888888,
              "#fdca26"
             ],
             [
              1,
              "#f0f921"
             ]
            ],
            "type": "histogram2d"
           }
          ],
          "histogram2dcontour": [
           {
            "colorbar": {
             "outlinewidth": 0,
             "ticks": ""
            },
            "colorscale": [
             [
              0,
              "#0d0887"
             ],
             [
              0.1111111111111111,
              "#46039f"
             ],
             [
              0.2222222222222222,
              "#7201a8"
             ],
             [
              0.3333333333333333,
              "#9c179e"
             ],
             [
              0.4444444444444444,
              "#bd3786"
             ],
             [
              0.5555555555555556,
              "#d8576b"
             ],
             [
              0.6666666666666666,
              "#ed7953"
             ],
             [
              0.7777777777777778,
              "#fb9f3a"
             ],
             [
              0.8888888888888888,
              "#fdca26"
             ],
             [
              1,
              "#f0f921"
             ]
            ],
            "type": "histogram2dcontour"
           }
          ],
          "mesh3d": [
           {
            "colorbar": {
             "outlinewidth": 0,
             "ticks": ""
            },
            "type": "mesh3d"
           }
          ],
          "parcoords": [
           {
            "line": {
             "colorbar": {
              "outlinewidth": 0,
              "ticks": ""
             }
            },
            "type": "parcoords"
           }
          ],
          "pie": [
           {
            "automargin": true,
            "type": "pie"
           }
          ],
          "scatter": [
           {
            "fillpattern": {
             "fillmode": "overlay",
             "size": 10,
             "solidity": 0.2
            },
            "type": "scatter"
           }
          ],
          "scatter3d": [
           {
            "line": {
             "colorbar": {
              "outlinewidth": 0,
              "ticks": ""
             }
            },
            "marker": {
             "colorbar": {
              "outlinewidth": 0,
              "ticks": ""
             }
            },
            "type": "scatter3d"
           }
          ],
          "scattercarpet": [
           {
            "marker": {
             "colorbar": {
              "outlinewidth": 0,
              "ticks": ""
             }
            },
            "type": "scattercarpet"
           }
          ],
          "scattergeo": [
           {
            "marker": {
             "colorbar": {
              "outlinewidth": 0,
              "ticks": ""
             }
            },
            "type": "scattergeo"
           }
          ],
          "scattergl": [
           {
            "marker": {
             "colorbar": {
              "outlinewidth": 0,
              "ticks": ""
             }
            },
            "type": "scattergl"
           }
          ],
          "scattermapbox": [
           {
            "marker": {
             "colorbar": {
              "outlinewidth": 0,
              "ticks": ""
             }
            },
            "type": "scattermapbox"
           }
          ],
          "scatterpolar": [
           {
            "marker": {
             "colorbar": {
              "outlinewidth": 0,
              "ticks": ""
             }
            },
            "type": "scatterpolar"
           }
          ],
          "scatterpolargl": [
           {
            "marker": {
             "colorbar": {
              "outlinewidth": 0,
              "ticks": ""
             }
            },
            "type": "scatterpolargl"
           }
          ],
          "scatterternary": [
           {
            "marker": {
             "colorbar": {
              "outlinewidth": 0,
              "ticks": ""
             }
            },
            "type": "scatterternary"
           }
          ],
          "surface": [
           {
            "colorbar": {
             "outlinewidth": 0,
             "ticks": ""
            },
            "colorscale": [
             [
              0,
              "#0d0887"
             ],
             [
              0.1111111111111111,
              "#46039f"
             ],
             [
              0.2222222222222222,
              "#7201a8"
             ],
             [
              0.3333333333333333,
              "#9c179e"
             ],
             [
              0.4444444444444444,
              "#bd3786"
             ],
             [
              0.5555555555555556,
              "#d8576b"
             ],
             [
              0.6666666666666666,
              "#ed7953"
             ],
             [
              0.7777777777777778,
              "#fb9f3a"
             ],
             [
              0.8888888888888888,
              "#fdca26"
             ],
             [
              1,
              "#f0f921"
             ]
            ],
            "type": "surface"
           }
          ],
          "table": [
           {
            "cells": {
             "fill": {
              "color": "#EBF0F8"
             },
             "line": {
              "color": "white"
             }
            },
            "header": {
             "fill": {
              "color": "#C8D4E3"
             },
             "line": {
              "color": "white"
             }
            },
            "type": "table"
           }
          ]
         },
         "layout": {
          "annotationdefaults": {
           "arrowcolor": "#2a3f5f",
           "arrowhead": 0,
           "arrowwidth": 1
          },
          "autotypenumbers": "strict",
          "coloraxis": {
           "colorbar": {
            "outlinewidth": 0,
            "ticks": ""
           }
          },
          "colorscale": {
           "diverging": [
            [
             0,
             "#8e0152"
            ],
            [
             0.1,
             "#c51b7d"
            ],
            [
             0.2,
             "#de77ae"
            ],
            [
             0.3,
             "#f1b6da"
            ],
            [
             0.4,
             "#fde0ef"
            ],
            [
             0.5,
             "#f7f7f7"
            ],
            [
             0.6,
             "#e6f5d0"
            ],
            [
             0.7,
             "#b8e186"
            ],
            [
             0.8,
             "#7fbc41"
            ],
            [
             0.9,
             "#4d9221"
            ],
            [
             1,
             "#276419"
            ]
           ],
           "sequential": [
            [
             0,
             "#0d0887"
            ],
            [
             0.1111111111111111,
             "#46039f"
            ],
            [
             0.2222222222222222,
             "#7201a8"
            ],
            [
             0.3333333333333333,
             "#9c179e"
            ],
            [
             0.4444444444444444,
             "#bd3786"
            ],
            [
             0.5555555555555556,
             "#d8576b"
            ],
            [
             0.6666666666666666,
             "#ed7953"
            ],
            [
             0.7777777777777778,
             "#fb9f3a"
            ],
            [
             0.8888888888888888,
             "#fdca26"
            ],
            [
             1,
             "#f0f921"
            ]
           ],
           "sequentialminus": [
            [
             0,
             "#0d0887"
            ],
            [
             0.1111111111111111,
             "#46039f"
            ],
            [
             0.2222222222222222,
             "#7201a8"
            ],
            [
             0.3333333333333333,
             "#9c179e"
            ],
            [
             0.4444444444444444,
             "#bd3786"
            ],
            [
             0.5555555555555556,
             "#d8576b"
            ],
            [
             0.6666666666666666,
             "#ed7953"
            ],
            [
             0.7777777777777778,
             "#fb9f3a"
            ],
            [
             0.8888888888888888,
             "#fdca26"
            ],
            [
             1,
             "#f0f921"
            ]
           ]
          },
          "colorway": [
           "#636efa",
           "#EF553B",
           "#00cc96",
           "#ab63fa",
           "#FFA15A",
           "#19d3f3",
           "#FF6692",
           "#B6E880",
           "#FF97FF",
           "#FECB52"
          ],
          "font": {
           "color": "#2a3f5f"
          },
          "geo": {
           "bgcolor": "white",
           "lakecolor": "white",
           "landcolor": "#E5ECF6",
           "showlakes": true,
           "showland": true,
           "subunitcolor": "white"
          },
          "hoverlabel": {
           "align": "left"
          },
          "hovermode": "closest",
          "mapbox": {
           "style": "light"
          },
          "paper_bgcolor": "white",
          "plot_bgcolor": "#E5ECF6",
          "polar": {
           "angularaxis": {
            "gridcolor": "white",
            "linecolor": "white",
            "ticks": ""
           },
           "bgcolor": "#E5ECF6",
           "radialaxis": {
            "gridcolor": "white",
            "linecolor": "white",
            "ticks": ""
           }
          },
          "scene": {
           "xaxis": {
            "backgroundcolor": "#E5ECF6",
            "gridcolor": "white",
            "gridwidth": 2,
            "linecolor": "white",
            "showbackground": true,
            "ticks": "",
            "zerolinecolor": "white"
           },
           "yaxis": {
            "backgroundcolor": "#E5ECF6",
            "gridcolor": "white",
            "gridwidth": 2,
            "linecolor": "white",
            "showbackground": true,
            "ticks": "",
            "zerolinecolor": "white"
           },
           "zaxis": {
            "backgroundcolor": "#E5ECF6",
            "gridcolor": "white",
            "gridwidth": 2,
            "linecolor": "white",
            "showbackground": true,
            "ticks": "",
            "zerolinecolor": "white"
           }
          },
          "shapedefaults": {
           "line": {
            "color": "#2a3f5f"
           }
          },
          "ternary": {
           "aaxis": {
            "gridcolor": "white",
            "linecolor": "white",
            "ticks": ""
           },
           "baxis": {
            "gridcolor": "white",
            "linecolor": "white",
            "ticks": ""
           },
           "bgcolor": "#E5ECF6",
           "caxis": {
            "gridcolor": "white",
            "linecolor": "white",
            "ticks": ""
           }
          },
          "title": {
           "x": 0.05
          },
          "xaxis": {
           "automargin": true,
           "gridcolor": "white",
           "linecolor": "white",
           "ticks": "",
           "title": {
            "standoff": 15
           },
           "zerolinecolor": "white",
           "zerolinewidth": 2
          },
          "yaxis": {
           "automargin": true,
           "gridcolor": "white",
           "linecolor": "white",
           "ticks": "",
           "title": {
            "standoff": 15
           },
           "zerolinecolor": "white",
           "zerolinewidth": 2
          }
         }
        },
        "width": 800,
        "xaxis": {
         "title": {
          "text": "Year"
         }
        },
        "yaxis": {
         "title": {
          "text": "Population"
         }
        }
       }
      }
     },
     "metadata": {},
     "output_type": "display_data"
    }
   ],
   "source": [
    "newtown_lst = sejong_gdf[sejong_gdf['newtown'] == '신도시']['ADM_NM'].tolist()\n",
    "# 연도별로 행정구역의 인구수 합산\n",
    "pop_trend_df = sejong_pop_gdf.groupby(['year', 'ADM_NM']).agg({'인구': 'sum'}).reset_index()\n",
    "pop_trend_df = pop_trend_df[pop_trend_df['ADM_NM'].isin(newtown_lst)]\n",
    "# 각 행정구역의 총 인구수 계산\n",
    "total_pop_df = pop_trend_df.groupby('ADM_NM')['인구'].sum().reset_index()\n",
    "\n",
    "# 총 인구수를 기준으로 행정구역 정렬\n",
    "total_pop_df = total_pop_df.sort_values(by='인구', ascending=False)\n",
    "\n",
    "# 각 행정구역별로 데이터를 분리하여 선과 마커를 동시에 표시하는 그래프 생성\n",
    "fig = go.Figure()\n",
    "\n",
    "for adm_nm in total_pop_df['ADM_NM'].unique():\n",
    "    df = pop_trend_df[pop_trend_df['ADM_NM'] == adm_nm]\n",
    "    fig.add_trace(go.Scatter(x=df['year'], y=df['인구'], mode='lines+markers', name=adm_nm))\n",
    "# 색상 업데이트\n",
    "colors =px.colors.sequential.Plasma # 컬러맵\n",
    "for i, trace in enumerate(fig.data):\n",
    "    trace.line.color = colors[i % len(colors)]\n",
    "# 그래프 레이아웃 설정\n",
    "fig.update_layout(\n",
    "    xaxis_title='Year',\n",
    "    yaxis_title='Population',\n",
    "    width=800,\n",
    "    height=600\n",
    ")\n",
    "\n",
    "# 그래프 시각화\n",
    "fig.show()"
   ]
  },
  {
   "cell_type": "code",
   "execution_count": 85,
   "metadata": {},
   "outputs": [],
   "source": [
    "pop_trend_df.to_csv(\"행정동별_거주인구.csv\", index=False)"
   ]
  },
  {
   "cell_type": "code",
   "execution_count": null,
   "metadata": {},
   "outputs": [],
   "source": [
    "# 맵 객체 생성 및 데이터 로드\n",
    "sejong_pop_map = KeplerGl(height=1000, width=1500)\n",
    "sejong_pop_map.add_data(data=sejong_pop_gdf, name=\"세종시 거주인구 데이터\")\n",
    "\n",
    "# 맵 출력 및 상세설정\n",
    "sejong_pop_map"
   ]
  },
  {
   "cell_type": "code",
   "execution_count": 97,
   "metadata": {},
   "outputs": [
    {
     "name": "stdout",
     "output_type": "stream",
     "text": [
      "Map saved to visualization/세종시 현황/세종시 행정구역거주인구 map.html!\n"
     ]
    }
   ],
   "source": [
    "# 맵 저장\n",
    "sejong_pop_map.save_to_html(file_name=\"visualization/세종시 현황/세종시 행정구역거주인구 map.html\")"
   ]
  },
  {
   "cell_type": "markdown",
   "metadata": {},
   "source": [
    "#### 세대별 유동인구"
   ]
  },
  {
   "cell_type": "code",
   "execution_count": 112,
   "metadata": {},
   "outputs": [
    {
     "data": {
      "text/html": [
       "<div>\n",
       "<style scoped>\n",
       "    .dataframe tbody tr th:only-of-type {\n",
       "        vertical-align: middle;\n",
       "    }\n",
       "\n",
       "    .dataframe tbody tr th {\n",
       "        vertical-align: top;\n",
       "    }\n",
       "\n",
       "    .dataframe thead th {\n",
       "        text-align: right;\n",
       "    }\n",
       "</style>\n",
       "<table border=\"1\" class=\"dataframe\">\n",
       "  <thead>\n",
       "    <tr style=\"text-align: right;\">\n",
       "      <th></th>\n",
       "      <th>year</th>\n",
       "      <th>10대_여</th>\n",
       "      <th>20대_여</th>\n",
       "      <th>30대_여</th>\n",
       "      <th>40대_여</th>\n",
       "      <th>50대_여</th>\n",
       "      <th>60대_여</th>\n",
       "      <th>10대_남</th>\n",
       "      <th>20대_남</th>\n",
       "      <th>30대_남</th>\n",
       "      <th>40대_남</th>\n",
       "      <th>50대_남</th>\n",
       "      <th>60대_남</th>\n",
       "      <th>10대</th>\n",
       "      <th>20대</th>\n",
       "      <th>30대</th>\n",
       "      <th>40대</th>\n",
       "      <th>50대</th>\n",
       "      <th>60대</th>\n",
       "      <th>pop</th>\n",
       "      <th>lon</th>\n",
       "      <th>lat</th>\n",
       "    </tr>\n",
       "  </thead>\n",
       "  <tbody>\n",
       "    <tr>\n",
       "      <th>0</th>\n",
       "      <td>2020-01-01 00:00:00</td>\n",
       "      <td>0.00</td>\n",
       "      <td>0.00</td>\n",
       "      <td>0.00</td>\n",
       "      <td>0.04</td>\n",
       "      <td>0.00</td>\n",
       "      <td>0.00</td>\n",
       "      <td>0.00</td>\n",
       "      <td>0.00</td>\n",
       "      <td>0.00</td>\n",
       "      <td>0.00</td>\n",
       "      <td>0.00</td>\n",
       "      <td>0.00</td>\n",
       "      <td>0.00</td>\n",
       "      <td>0.00</td>\n",
       "      <td>0.00</td>\n",
       "      <td>0.04</td>\n",
       "      <td>0.00</td>\n",
       "      <td>0.00</td>\n",
       "      <td>0.04</td>\n",
       "      <td>127.130339</td>\n",
       "      <td>36.708900</td>\n",
       "    </tr>\n",
       "    <tr>\n",
       "      <th>1</th>\n",
       "      <td>2020-01-01 00:00:00</td>\n",
       "      <td>0.00</td>\n",
       "      <td>0.04</td>\n",
       "      <td>0.02</td>\n",
       "      <td>0.04</td>\n",
       "      <td>0.04</td>\n",
       "      <td>0.02</td>\n",
       "      <td>0.00</td>\n",
       "      <td>0.00</td>\n",
       "      <td>0.00</td>\n",
       "      <td>0.00</td>\n",
       "      <td>0.00</td>\n",
       "      <td>0.00</td>\n",
       "      <td>0.00</td>\n",
       "      <td>0.04</td>\n",
       "      <td>0.02</td>\n",
       "      <td>0.04</td>\n",
       "      <td>0.04</td>\n",
       "      <td>0.02</td>\n",
       "      <td>0.16</td>\n",
       "      <td>127.136491</td>\n",
       "      <td>36.710271</td>\n",
       "    </tr>\n",
       "    <tr>\n",
       "      <th>2</th>\n",
       "      <td>2020-01-01 00:00:00</td>\n",
       "      <td>0.00</td>\n",
       "      <td>0.04</td>\n",
       "      <td>0.02</td>\n",
       "      <td>0.04</td>\n",
       "      <td>0.04</td>\n",
       "      <td>0.02</td>\n",
       "      <td>0.00</td>\n",
       "      <td>0.00</td>\n",
       "      <td>0.00</td>\n",
       "      <td>0.00</td>\n",
       "      <td>0.00</td>\n",
       "      <td>0.00</td>\n",
       "      <td>0.00</td>\n",
       "      <td>0.04</td>\n",
       "      <td>0.02</td>\n",
       "      <td>0.04</td>\n",
       "      <td>0.04</td>\n",
       "      <td>0.02</td>\n",
       "      <td>0.16</td>\n",
       "      <td>127.137050</td>\n",
       "      <td>36.710273</td>\n",
       "    </tr>\n",
       "    <tr>\n",
       "      <th>3</th>\n",
       "      <td>2020-01-01 00:00:00</td>\n",
       "      <td>0.00</td>\n",
       "      <td>0.04</td>\n",
       "      <td>0.02</td>\n",
       "      <td>0.04</td>\n",
       "      <td>0.04</td>\n",
       "      <td>0.02</td>\n",
       "      <td>0.00</td>\n",
       "      <td>0.00</td>\n",
       "      <td>0.00</td>\n",
       "      <td>0.00</td>\n",
       "      <td>0.00</td>\n",
       "      <td>0.00</td>\n",
       "      <td>0.00</td>\n",
       "      <td>0.04</td>\n",
       "      <td>0.02</td>\n",
       "      <td>0.04</td>\n",
       "      <td>0.04</td>\n",
       "      <td>0.02</td>\n",
       "      <td>0.16</td>\n",
       "      <td>127.137048</td>\n",
       "      <td>36.710724</td>\n",
       "    </tr>\n",
       "    <tr>\n",
       "      <th>4</th>\n",
       "      <td>2020-01-01 00:00:00</td>\n",
       "      <td>0.04</td>\n",
       "      <td>0.07</td>\n",
       "      <td>0.19</td>\n",
       "      <td>0.28</td>\n",
       "      <td>0.23</td>\n",
       "      <td>0.15</td>\n",
       "      <td>0.04</td>\n",
       "      <td>0.04</td>\n",
       "      <td>0.06</td>\n",
       "      <td>0.09</td>\n",
       "      <td>0.09</td>\n",
       "      <td>0.04</td>\n",
       "      <td>0.08</td>\n",
       "      <td>0.11</td>\n",
       "      <td>0.25</td>\n",
       "      <td>0.37</td>\n",
       "      <td>0.32</td>\n",
       "      <td>0.19</td>\n",
       "      <td>1.28</td>\n",
       "      <td>127.137633</td>\n",
       "      <td>36.705317</td>\n",
       "    </tr>\n",
       "    <tr>\n",
       "      <th>...</th>\n",
       "      <td>...</td>\n",
       "      <td>...</td>\n",
       "      <td>...</td>\n",
       "      <td>...</td>\n",
       "      <td>...</td>\n",
       "      <td>...</td>\n",
       "      <td>...</td>\n",
       "      <td>...</td>\n",
       "      <td>...</td>\n",
       "      <td>...</td>\n",
       "      <td>...</td>\n",
       "      <td>...</td>\n",
       "      <td>...</td>\n",
       "      <td>...</td>\n",
       "      <td>...</td>\n",
       "      <td>...</td>\n",
       "      <td>...</td>\n",
       "      <td>...</td>\n",
       "      <td>...</td>\n",
       "      <td>...</td>\n",
       "      <td>...</td>\n",
       "      <td>...</td>\n",
       "    </tr>\n",
       "    <tr>\n",
       "      <th>1839168</th>\n",
       "      <td>2022-12-01 00:00:00</td>\n",
       "      <td>23.45</td>\n",
       "      <td>13.10</td>\n",
       "      <td>41.50</td>\n",
       "      <td>53.50</td>\n",
       "      <td>33.96</td>\n",
       "      <td>31.89</td>\n",
       "      <td>25.90</td>\n",
       "      <td>14.37</td>\n",
       "      <td>43.79</td>\n",
       "      <td>55.62</td>\n",
       "      <td>25.83</td>\n",
       "      <td>27.48</td>\n",
       "      <td>49.35</td>\n",
       "      <td>27.47</td>\n",
       "      <td>85.29</td>\n",
       "      <td>109.12</td>\n",
       "      <td>59.79</td>\n",
       "      <td>59.37</td>\n",
       "      <td>362.91</td>\n",
       "      <td>127.244107</td>\n",
       "      <td>36.501854</td>\n",
       "    </tr>\n",
       "    <tr>\n",
       "      <th>1839169</th>\n",
       "      <td>2022-12-01 00:00:00</td>\n",
       "      <td>20.15</td>\n",
       "      <td>8.48</td>\n",
       "      <td>26.43</td>\n",
       "      <td>31.47</td>\n",
       "      <td>16.17</td>\n",
       "      <td>18.70</td>\n",
       "      <td>22.32</td>\n",
       "      <td>9.92</td>\n",
       "      <td>33.76</td>\n",
       "      <td>39.27</td>\n",
       "      <td>17.57</td>\n",
       "      <td>19.28</td>\n",
       "      <td>42.47</td>\n",
       "      <td>18.40</td>\n",
       "      <td>60.19</td>\n",
       "      <td>70.74</td>\n",
       "      <td>33.74</td>\n",
       "      <td>37.98</td>\n",
       "      <td>244.24</td>\n",
       "      <td>127.244106</td>\n",
       "      <td>36.502305</td>\n",
       "    </tr>\n",
       "    <tr>\n",
       "      <th>1839170</th>\n",
       "      <td>2022-12-01 00:00:00</td>\n",
       "      <td>11.74</td>\n",
       "      <td>5.21</td>\n",
       "      <td>21.98</td>\n",
       "      <td>26.22</td>\n",
       "      <td>11.48</td>\n",
       "      <td>12.29</td>\n",
       "      <td>11.44</td>\n",
       "      <td>6.34</td>\n",
       "      <td>24.60</td>\n",
       "      <td>27.48</td>\n",
       "      <td>10.75</td>\n",
       "      <td>12.43</td>\n",
       "      <td>23.18</td>\n",
       "      <td>11.55</td>\n",
       "      <td>46.58</td>\n",
       "      <td>53.70</td>\n",
       "      <td>22.23</td>\n",
       "      <td>24.72</td>\n",
       "      <td>169.53</td>\n",
       "      <td>127.244104</td>\n",
       "      <td>36.502755</td>\n",
       "    </tr>\n",
       "    <tr>\n",
       "      <th>1839171</th>\n",
       "      <td>2022-12-01 00:00:00</td>\n",
       "      <td>23.75</td>\n",
       "      <td>11.46</td>\n",
       "      <td>37.68</td>\n",
       "      <td>50.17</td>\n",
       "      <td>26.01</td>\n",
       "      <td>24.16</td>\n",
       "      <td>22.55</td>\n",
       "      <td>14.07</td>\n",
       "      <td>49.64</td>\n",
       "      <td>61.01</td>\n",
       "      <td>25.75</td>\n",
       "      <td>26.17</td>\n",
       "      <td>46.30</td>\n",
       "      <td>25.53</td>\n",
       "      <td>87.32</td>\n",
       "      <td>111.18</td>\n",
       "      <td>51.76</td>\n",
       "      <td>50.33</td>\n",
       "      <td>346.25</td>\n",
       "      <td>127.244666</td>\n",
       "      <td>36.501855</td>\n",
       "    </tr>\n",
       "    <tr>\n",
       "      <th>1839172</th>\n",
       "      <td>2022-12-01 00:00:00</td>\n",
       "      <td>11.09</td>\n",
       "      <td>5.84</td>\n",
       "      <td>24.51</td>\n",
       "      <td>29.35</td>\n",
       "      <td>12.80</td>\n",
       "      <td>13.31</td>\n",
       "      <td>11.92</td>\n",
       "      <td>6.43</td>\n",
       "      <td>26.73</td>\n",
       "      <td>30.30</td>\n",
       "      <td>12.63</td>\n",
       "      <td>13.35</td>\n",
       "      <td>23.01</td>\n",
       "      <td>12.27</td>\n",
       "      <td>51.24</td>\n",
       "      <td>59.65</td>\n",
       "      <td>25.43</td>\n",
       "      <td>26.66</td>\n",
       "      <td>184.91</td>\n",
       "      <td>127.244664</td>\n",
       "      <td>36.502306</td>\n",
       "    </tr>\n",
       "  </tbody>\n",
       "</table>\n",
       "<p>1839173 rows × 22 columns</p>\n",
       "</div>"
      ],
      "text/plain": [
       "                        year  10대_여  20대_여  30대_여  40대_여  50대_여  60대_여  10대_남  \\\n",
       "0        2020-01-01 00:00:00   0.00   0.00   0.00   0.04   0.00   0.00   0.00   \n",
       "1        2020-01-01 00:00:00   0.00   0.04   0.02   0.04   0.04   0.02   0.00   \n",
       "2        2020-01-01 00:00:00   0.00   0.04   0.02   0.04   0.04   0.02   0.00   \n",
       "3        2020-01-01 00:00:00   0.00   0.04   0.02   0.04   0.04   0.02   0.00   \n",
       "4        2020-01-01 00:00:00   0.04   0.07   0.19   0.28   0.23   0.15   0.04   \n",
       "...                      ...    ...    ...    ...    ...    ...    ...    ...   \n",
       "1839168  2022-12-01 00:00:00  23.45  13.10  41.50  53.50  33.96  31.89  25.90   \n",
       "1839169  2022-12-01 00:00:00  20.15   8.48  26.43  31.47  16.17  18.70  22.32   \n",
       "1839170  2022-12-01 00:00:00  11.74   5.21  21.98  26.22  11.48  12.29  11.44   \n",
       "1839171  2022-12-01 00:00:00  23.75  11.46  37.68  50.17  26.01  24.16  22.55   \n",
       "1839172  2022-12-01 00:00:00  11.09   5.84  24.51  29.35  12.80  13.31  11.92   \n",
       "\n",
       "         20대_남  30대_남  40대_남  50대_남  60대_남    10대    20대    30대     40대  \\\n",
       "0         0.00   0.00   0.00   0.00   0.00   0.00   0.00   0.00    0.04   \n",
       "1         0.00   0.00   0.00   0.00   0.00   0.00   0.04   0.02    0.04   \n",
       "2         0.00   0.00   0.00   0.00   0.00   0.00   0.04   0.02    0.04   \n",
       "3         0.00   0.00   0.00   0.00   0.00   0.00   0.04   0.02    0.04   \n",
       "4         0.04   0.06   0.09   0.09   0.04   0.08   0.11   0.25    0.37   \n",
       "...        ...    ...    ...    ...    ...    ...    ...    ...     ...   \n",
       "1839168  14.37  43.79  55.62  25.83  27.48  49.35  27.47  85.29  109.12   \n",
       "1839169   9.92  33.76  39.27  17.57  19.28  42.47  18.40  60.19   70.74   \n",
       "1839170   6.34  24.60  27.48  10.75  12.43  23.18  11.55  46.58   53.70   \n",
       "1839171  14.07  49.64  61.01  25.75  26.17  46.30  25.53  87.32  111.18   \n",
       "1839172   6.43  26.73  30.30  12.63  13.35  23.01  12.27  51.24   59.65   \n",
       "\n",
       "           50대    60대     pop         lon        lat  \n",
       "0         0.00   0.00    0.04  127.130339  36.708900  \n",
       "1         0.04   0.02    0.16  127.136491  36.710271  \n",
       "2         0.04   0.02    0.16  127.137050  36.710273  \n",
       "3         0.04   0.02    0.16  127.137048  36.710724  \n",
       "4         0.32   0.19    1.28  127.137633  36.705317  \n",
       "...        ...    ...     ...         ...        ...  \n",
       "1839168  59.79  59.37  362.91  127.244107  36.501854  \n",
       "1839169  33.74  37.98  244.24  127.244106  36.502305  \n",
       "1839170  22.23  24.72  169.53  127.244104  36.502755  \n",
       "1839171  51.76  50.33  346.25  127.244666  36.501855  \n",
       "1839172  25.43  26.66  184.91  127.244664  36.502306  \n",
       "\n",
       "[1839173 rows x 22 columns]"
      ]
     },
     "execution_count": 112,
     "metadata": {},
     "output_type": "execute_result"
    }
   ],
   "source": [
    "# 유동인구 df 로드\n",
    "floating_population_df = pd.read_csv('SBJ_2406_002/1.세종시_성연령별_유동인구.csv')\n",
    "floating_population_df['STD_YM'] = floating_population_df['STD_YM'].astype(str)\n",
    "\n",
    "# 성별구분 없이 통합 및 세대별 인구수 데이터프레임으로 변환\n",
    "columns = ['year']\n",
    "for i in range(1, 13):\n",
    "    floating_population_df[floating_population_df.columns[i]] = floating_population_df[floating_population_df.columns[i]].astype(float)\n",
    "    new_col = f'{floating_population_df.columns[i][2:4]}대_남' if floating_population_df.columns[i][0] != 'm' else f'{floating_population_df.columns[i][2:4]}대_여'\n",
    "    columns.append(new_col)\n",
    "floating_population_df.columns = columns + floating_population_df.columns[13:15].tolist()\n",
    "floating_population_df['pop'] = floating_population_df.iloc[:, 1:-3].sum(axis=1)\n",
    "\n",
    "# 연령대별로 성별 통합\n",
    "floating_population_df['10대'] = floating_population_df['10대_남'] + floating_population_df['10대_여']\n",
    "floating_population_df['20대'] = floating_population_df['20대_남'] + floating_population_df['20대_여']\n",
    "floating_population_df['30대'] = floating_population_df['30대_남'] + floating_population_df['30대_여']\n",
    "floating_population_df['40대'] = floating_population_df['40대_남'] + floating_population_df['40대_여']\n",
    "floating_population_df['50대'] = floating_population_df['50대_남'] + floating_population_df['50대_여']\n",
    "floating_population_df['60대'] = floating_population_df['60대_남'] + floating_population_df['60대_여']\n",
    "flopop_df = floating_population_df[['year', 'pop'] + list(floating_population_df.columns[13:15])]\n",
    "col_lst = ['year'] + list(floating_population_df.columns[1:13]) + list(floating_population_df.columns[-6:]) + ['pop'] + list(floating_population_df.columns[13:15])\n",
    "floating_population_df = floating_population_df[col_lst]\n",
    "# 연도 월 정보를 \"YYYY-MM-DD HH:MM:SS\" 형식으로 변환하는 함수\n",
    "def convert_to_datetime_format(year_month_str):\n",
    "    year = year_month_str[:4]\n",
    "    month = year_month_str[4:6]\n",
    "    return f\"{year}-{month}-01 00:00:00\"\n",
    "# 변환 적용\n",
    "floating_population_df['year'] = floating_population_df['year'].apply(convert_to_datetime_format)\n",
    "\n",
    "floating_population_df"
   ]
  },
  {
   "cell_type": "code",
   "execution_count": 116,
   "metadata": {},
   "outputs": [
    {
     "name": "stderr",
     "output_type": "stream",
     "text": [
      "c:\\Users\\HJK\\anaconda3\\envs\\GIS\\lib\\site-packages\\IPython\\core\\interactiveshell.py:3445: FutureWarning:\n",
      "\n",
      "The `op` parameter is deprecated and will be removed in a future release. Please use the `predicate` parameter instead.\n",
      "\n",
      "C:\\Users\\HJK\\AppData\\Local\\Temp\\ipykernel_40664\\1811598644.py:2: UserWarning:\n",
      "\n",
      "CRS mismatch between the CRS of left geometries and the CRS of right geometries.\n",
      "Use `to_crs()` to reproject one of the input geometries to match the CRS of the other.\n",
      "\n",
      "Left CRS: +init=epsg:4326 +type=crs\n",
      "Right CRS: None\n",
      "\n",
      "\n"
     ]
    }
   ],
   "source": [
    "flopop_df['year'] = flopop_df['year'].apply(lambda x : x[:4])\n",
    "flopop_df = geo_transform(flopop_df)\n",
    "# 공간 조인 수행\n",
    "joined_df = gpd.sjoin(flopop_df, sejong_gdf, how='inner', op='intersects')\n",
    "# 연도별로 행정구역의 인구수를 합산\n",
    "flopop_df_d = joined_df.groupby(['year', 'ADM_NM']).agg({'pop': 'sum'}).reset_index()\n",
    "flopop_df_d.to_csv('행정동별_유동인구.csv', index=False)"
   ]
  },
  {
   "cell_type": "code",
   "execution_count": 25,
   "metadata": {},
   "outputs": [
    {
     "data": {
      "text/html": [
       "<div>\n",
       "<style scoped>\n",
       "    .dataframe tbody tr th:only-of-type {\n",
       "        vertical-align: middle;\n",
       "    }\n",
       "\n",
       "    .dataframe tbody tr th {\n",
       "        vertical-align: top;\n",
       "    }\n",
       "\n",
       "    .dataframe thead th {\n",
       "        text-align: right;\n",
       "    }\n",
       "</style>\n",
       "<table border=\"1\" class=\"dataframe\">\n",
       "  <thead>\n",
       "    <tr style=\"text-align: right;\">\n",
       "      <th></th>\n",
       "      <th>10대</th>\n",
       "      <th>20대</th>\n",
       "      <th>30대</th>\n",
       "      <th>40대</th>\n",
       "      <th>50대</th>\n",
       "      <th>60대</th>\n",
       "    </tr>\n",
       "  </thead>\n",
       "  <tbody>\n",
       "    <tr>\n",
       "      <th>10대</th>\n",
       "      <td>1.000000</td>\n",
       "      <td>0.645954</td>\n",
       "      <td>0.698082</td>\n",
       "      <td>0.710936</td>\n",
       "      <td>0.576563</td>\n",
       "      <td>0.555442</td>\n",
       "    </tr>\n",
       "    <tr>\n",
       "      <th>20대</th>\n",
       "      <td>0.645954</td>\n",
       "      <td>1.000000</td>\n",
       "      <td>0.821890</td>\n",
       "      <td>0.832186</td>\n",
       "      <td>0.844595</td>\n",
       "      <td>0.813548</td>\n",
       "    </tr>\n",
       "    <tr>\n",
       "      <th>30대</th>\n",
       "      <td>0.698082</td>\n",
       "      <td>0.821890</td>\n",
       "      <td>1.000000</td>\n",
       "      <td>0.967819</td>\n",
       "      <td>0.881735</td>\n",
       "      <td>0.813822</td>\n",
       "    </tr>\n",
       "    <tr>\n",
       "      <th>40대</th>\n",
       "      <td>0.710936</td>\n",
       "      <td>0.832186</td>\n",
       "      <td>0.967819</td>\n",
       "      <td>1.000000</td>\n",
       "      <td>0.941483</td>\n",
       "      <td>0.869169</td>\n",
       "    </tr>\n",
       "    <tr>\n",
       "      <th>50대</th>\n",
       "      <td>0.576563</td>\n",
       "      <td>0.844595</td>\n",
       "      <td>0.881735</td>\n",
       "      <td>0.941483</td>\n",
       "      <td>1.000000</td>\n",
       "      <td>0.956468</td>\n",
       "    </tr>\n",
       "    <tr>\n",
       "      <th>60대</th>\n",
       "      <td>0.555442</td>\n",
       "      <td>0.813548</td>\n",
       "      <td>0.813822</td>\n",
       "      <td>0.869169</td>\n",
       "      <td>0.956468</td>\n",
       "      <td>1.000000</td>\n",
       "    </tr>\n",
       "  </tbody>\n",
       "</table>\n",
       "</div>"
      ],
      "text/plain": [
       "          10대       20대       30대       40대       50대       60대\n",
       "10대  1.000000  0.645954  0.698082  0.710936  0.576563  0.555442\n",
       "20대  0.645954  1.000000  0.821890  0.832186  0.844595  0.813548\n",
       "30대  0.698082  0.821890  1.000000  0.967819  0.881735  0.813822\n",
       "40대  0.710936  0.832186  0.967819  1.000000  0.941483  0.869169\n",
       "50대  0.576563  0.844595  0.881735  0.941483  1.000000  0.956468\n",
       "60대  0.555442  0.813548  0.813822  0.869169  0.956468  1.000000"
      ]
     },
     "execution_count": 25,
     "metadata": {},
     "output_type": "execute_result"
    }
   ],
   "source": [
    "# 상관계수 계산\n",
    "correlation_matrix1 = floating_population_df[['10대', '20대', '30대', '40대', '50대', '60대']].corr()\n",
    "correlation_matrix1"
   ]
  },
  {
   "cell_type": "code",
   "execution_count": 26,
   "metadata": {},
   "outputs": [
    {
     "data": {
      "text/html": [
       "<div>\n",
       "<style scoped>\n",
       "    .dataframe tbody tr th:only-of-type {\n",
       "        vertical-align: middle;\n",
       "    }\n",
       "\n",
       "    .dataframe tbody tr th {\n",
       "        vertical-align: top;\n",
       "    }\n",
       "\n",
       "    .dataframe thead th {\n",
       "        text-align: right;\n",
       "    }\n",
       "</style>\n",
       "<table border=\"1\" class=\"dataframe\">\n",
       "  <thead>\n",
       "    <tr style=\"text-align: right;\">\n",
       "      <th></th>\n",
       "      <th>10대_여</th>\n",
       "      <th>20대_여</th>\n",
       "      <th>30대_여</th>\n",
       "      <th>40대_여</th>\n",
       "      <th>50대_여</th>\n",
       "      <th>60대_여</th>\n",
       "      <th>10대_남</th>\n",
       "      <th>20대_남</th>\n",
       "      <th>30대_남</th>\n",
       "      <th>40대_남</th>\n",
       "      <th>50대_남</th>\n",
       "      <th>60대_남</th>\n",
       "    </tr>\n",
       "  </thead>\n",
       "  <tbody>\n",
       "    <tr>\n",
       "      <th>10대_여</th>\n",
       "      <td>1.000000</td>\n",
       "      <td>0.619419</td>\n",
       "      <td>0.643857</td>\n",
       "      <td>0.632051</td>\n",
       "      <td>0.517254</td>\n",
       "      <td>0.510785</td>\n",
       "      <td>0.983147</td>\n",
       "      <td>0.703025</td>\n",
       "      <td>0.745245</td>\n",
       "      <td>0.785834</td>\n",
       "      <td>0.669435</td>\n",
       "      <td>0.630620</td>\n",
       "    </tr>\n",
       "    <tr>\n",
       "      <th>20대_여</th>\n",
       "      <td>0.619419</td>\n",
       "      <td>1.000000</td>\n",
       "      <td>0.778377</td>\n",
       "      <td>0.778041</td>\n",
       "      <td>0.781756</td>\n",
       "      <td>0.768196</td>\n",
       "      <td>0.551491</td>\n",
       "      <td>0.912304</td>\n",
       "      <td>0.666468</td>\n",
       "      <td>0.691751</td>\n",
       "      <td>0.779966</td>\n",
       "      <td>0.760108</td>\n",
       "    </tr>\n",
       "    <tr>\n",
       "      <th>30대_여</th>\n",
       "      <td>0.643857</td>\n",
       "      <td>0.778377</td>\n",
       "      <td>1.000000</td>\n",
       "      <td>0.974716</td>\n",
       "      <td>0.901772</td>\n",
       "      <td>0.839755</td>\n",
       "      <td>0.623865</td>\n",
       "      <td>0.888391</td>\n",
       "      <td>0.924135</td>\n",
       "      <td>0.908890</td>\n",
       "      <td>0.929106</td>\n",
       "      <td>0.850981</td>\n",
       "    </tr>\n",
       "    <tr>\n",
       "      <th>40대_여</th>\n",
       "      <td>0.632051</td>\n",
       "      <td>0.778041</td>\n",
       "      <td>0.974716</td>\n",
       "      <td>1.000000</td>\n",
       "      <td>0.954359</td>\n",
       "      <td>0.884096</td>\n",
       "      <td>0.614521</td>\n",
       "      <td>0.871480</td>\n",
       "      <td>0.872777</td>\n",
       "      <td>0.907930</td>\n",
       "      <td>0.951431</td>\n",
       "      <td>0.878742</td>\n",
       "    </tr>\n",
       "    <tr>\n",
       "      <th>50대_여</th>\n",
       "      <td>0.517254</td>\n",
       "      <td>0.781756</td>\n",
       "      <td>0.901772</td>\n",
       "      <td>0.954359</td>\n",
       "      <td>1.000000</td>\n",
       "      <td>0.954554</td>\n",
       "      <td>0.497251</td>\n",
       "      <td>0.823579</td>\n",
       "      <td>0.728551</td>\n",
       "      <td>0.784854</td>\n",
       "      <td>0.919848</td>\n",
       "      <td>0.889701</td>\n",
       "    </tr>\n",
       "    <tr>\n",
       "      <th>60대_여</th>\n",
       "      <td>0.510785</td>\n",
       "      <td>0.768196</td>\n",
       "      <td>0.839755</td>\n",
       "      <td>0.884096</td>\n",
       "      <td>0.954554</td>\n",
       "      <td>1.000000</td>\n",
       "      <td>0.485941</td>\n",
       "      <td>0.791374</td>\n",
       "      <td>0.685483</td>\n",
       "      <td>0.738704</td>\n",
       "      <td>0.902102</td>\n",
       "      <td>0.944360</td>\n",
       "    </tr>\n",
       "    <tr>\n",
       "      <th>10대_남</th>\n",
       "      <td>0.983147</td>\n",
       "      <td>0.551491</td>\n",
       "      <td>0.623865</td>\n",
       "      <td>0.614521</td>\n",
       "      <td>0.497251</td>\n",
       "      <td>0.485941</td>\n",
       "      <td>1.000000</td>\n",
       "      <td>0.665992</td>\n",
       "      <td>0.726383</td>\n",
       "      <td>0.774654</td>\n",
       "      <td>0.656033</td>\n",
       "      <td>0.606910</td>\n",
       "    </tr>\n",
       "    <tr>\n",
       "      <th>20대_남</th>\n",
       "      <td>0.703025</td>\n",
       "      <td>0.912304</td>\n",
       "      <td>0.888391</td>\n",
       "      <td>0.871480</td>\n",
       "      <td>0.823579</td>\n",
       "      <td>0.791374</td>\n",
       "      <td>0.665992</td>\n",
       "      <td>1.000000</td>\n",
       "      <td>0.838753</td>\n",
       "      <td>0.848877</td>\n",
       "      <td>0.885523</td>\n",
       "      <td>0.836031</td>\n",
       "    </tr>\n",
       "    <tr>\n",
       "      <th>30대_남</th>\n",
       "      <td>0.745245</td>\n",
       "      <td>0.666468</td>\n",
       "      <td>0.924135</td>\n",
       "      <td>0.872777</td>\n",
       "      <td>0.728551</td>\n",
       "      <td>0.685483</td>\n",
       "      <td>0.726383</td>\n",
       "      <td>0.838753</td>\n",
       "      <td>1.000000</td>\n",
       "      <td>0.951686</td>\n",
       "      <td>0.867621</td>\n",
       "      <td>0.784877</td>\n",
       "    </tr>\n",
       "    <tr>\n",
       "      <th>40대_남</th>\n",
       "      <td>0.785834</td>\n",
       "      <td>0.691751</td>\n",
       "      <td>0.908890</td>\n",
       "      <td>0.907930</td>\n",
       "      <td>0.784854</td>\n",
       "      <td>0.738704</td>\n",
       "      <td>0.774654</td>\n",
       "      <td>0.848877</td>\n",
       "      <td>0.951686</td>\n",
       "      <td>1.000000</td>\n",
       "      <td>0.930324</td>\n",
       "      <td>0.845711</td>\n",
       "    </tr>\n",
       "    <tr>\n",
       "      <th>50대_남</th>\n",
       "      <td>0.669435</td>\n",
       "      <td>0.779966</td>\n",
       "      <td>0.929106</td>\n",
       "      <td>0.951431</td>\n",
       "      <td>0.919848</td>\n",
       "      <td>0.902102</td>\n",
       "      <td>0.656033</td>\n",
       "      <td>0.885523</td>\n",
       "      <td>0.867621</td>\n",
       "      <td>0.930324</td>\n",
       "      <td>1.000000</td>\n",
       "      <td>0.949808</td>\n",
       "    </tr>\n",
       "    <tr>\n",
       "      <th>60대_남</th>\n",
       "      <td>0.630620</td>\n",
       "      <td>0.760108</td>\n",
       "      <td>0.850981</td>\n",
       "      <td>0.878742</td>\n",
       "      <td>0.889701</td>\n",
       "      <td>0.944360</td>\n",
       "      <td>0.606910</td>\n",
       "      <td>0.836031</td>\n",
       "      <td>0.784877</td>\n",
       "      <td>0.845711</td>\n",
       "      <td>0.949808</td>\n",
       "      <td>1.000000</td>\n",
       "    </tr>\n",
       "  </tbody>\n",
       "</table>\n",
       "</div>"
      ],
      "text/plain": [
       "          10대_여     20대_여     30대_여     40대_여     50대_여     60대_여     10대_남  \\\n",
       "10대_여  1.000000  0.619419  0.643857  0.632051  0.517254  0.510785  0.983147   \n",
       "20대_여  0.619419  1.000000  0.778377  0.778041  0.781756  0.768196  0.551491   \n",
       "30대_여  0.643857  0.778377  1.000000  0.974716  0.901772  0.839755  0.623865   \n",
       "40대_여  0.632051  0.778041  0.974716  1.000000  0.954359  0.884096  0.614521   \n",
       "50대_여  0.517254  0.781756  0.901772  0.954359  1.000000  0.954554  0.497251   \n",
       "60대_여  0.510785  0.768196  0.839755  0.884096  0.954554  1.000000  0.485941   \n",
       "10대_남  0.983147  0.551491  0.623865  0.614521  0.497251  0.485941  1.000000   \n",
       "20대_남  0.703025  0.912304  0.888391  0.871480  0.823579  0.791374  0.665992   \n",
       "30대_남  0.745245  0.666468  0.924135  0.872777  0.728551  0.685483  0.726383   \n",
       "40대_남  0.785834  0.691751  0.908890  0.907930  0.784854  0.738704  0.774654   \n",
       "50대_남  0.669435  0.779966  0.929106  0.951431  0.919848  0.902102  0.656033   \n",
       "60대_남  0.630620  0.760108  0.850981  0.878742  0.889701  0.944360  0.606910   \n",
       "\n",
       "          20대_남     30대_남     40대_남     50대_남     60대_남  \n",
       "10대_여  0.703025  0.745245  0.785834  0.669435  0.630620  \n",
       "20대_여  0.912304  0.666468  0.691751  0.779966  0.760108  \n",
       "30대_여  0.888391  0.924135  0.908890  0.929106  0.850981  \n",
       "40대_여  0.871480  0.872777  0.907930  0.951431  0.878742  \n",
       "50대_여  0.823579  0.728551  0.784854  0.919848  0.889701  \n",
       "60대_여  0.791374  0.685483  0.738704  0.902102  0.944360  \n",
       "10대_남  0.665992  0.726383  0.774654  0.656033  0.606910  \n",
       "20대_남  1.000000  0.838753  0.848877  0.885523  0.836031  \n",
       "30대_남  0.838753  1.000000  0.951686  0.867621  0.784877  \n",
       "40대_남  0.848877  0.951686  1.000000  0.930324  0.845711  \n",
       "50대_남  0.885523  0.867621  0.930324  1.000000  0.949808  \n",
       "60대_남  0.836031  0.784877  0.845711  0.949808  1.000000  "
      ]
     },
     "execution_count": 26,
     "metadata": {},
     "output_type": "execute_result"
    }
   ],
   "source": [
    "# 상관계수 계산\n",
    "correlation_matrix2 = floating_population_df[floating_population_df.columns[1:13]].corr()\n",
    "correlation_matrix2"
   ]
  },
  {
   "cell_type": "code",
   "execution_count": 27,
   "metadata": {},
   "outputs": [
    {
     "data": {
      "application/vnd.plotly.v1+json": {
       "config": {
        "plotlyServerURL": "https://plot.ly"
       },
       "data": [
        {
         "colorscale": [
          [
           0,
           "#0d0887"
          ],
          [
           0.1111111111111111,
           "#46039f"
          ],
          [
           0.2222222222222222,
           "#7201a8"
          ],
          [
           0.3333333333333333,
           "#9c179e"
          ],
          [
           0.4444444444444444,
           "#bd3786"
          ],
          [
           0.5555555555555556,
           "#d8576b"
          ],
          [
           0.6666666666666666,
           "#ed7953"
          ],
          [
           0.7777777777777778,
           "#fb9f3a"
          ],
          [
           0.8888888888888888,
           "#fdca26"
          ],
          [
           1,
           "#f0f921"
          ]
         ],
         "type": "heatmap",
         "x": [
          "10대",
          "20대",
          "30대",
          "40대",
          "50대",
          "60대"
         ],
         "y": [
          "10대",
          "20대",
          "30대",
          "40대",
          "50대",
          "60대"
         ],
         "z": [
          [
           1,
           0.6459538258700014,
           0.6980815475293503,
           0.710936288093607,
           0.5765634916898706,
           0.5554416073279486
          ],
          [
           0.6459538258700014,
           1,
           0.821890266991193,
           0.8321863487091159,
           0.8445951741835994,
           0.81354790744293
          ],
          [
           0.6980815475293503,
           0.821890266991193,
           1,
           0.9678191648784238,
           0.8817353187017094,
           0.8138223099924004
          ],
          [
           0.710936288093607,
           0.8321863487091159,
           0.9678191648784238,
           1,
           0.9414833702249731,
           0.869169131725434
          ],
          [
           0.5765634916898706,
           0.8445951741835994,
           0.8817353187017094,
           0.9414833702249731,
           1,
           0.9564678822630266
          ],
          [
           0.5554416073279486,
           0.81354790744293,
           0.8138223099924004,
           0.869169131725434,
           0.9564678822630266,
           1
          ]
         ]
        }
       ],
       "layout": {
        "template": {
         "data": {
          "bar": [
           {
            "error_x": {
             "color": "#2a3f5f"
            },
            "error_y": {
             "color": "#2a3f5f"
            },
            "marker": {
             "line": {
              "color": "#E5ECF6",
              "width": 0.5
             },
             "pattern": {
              "fillmode": "overlay",
              "size": 10,
              "solidity": 0.2
             }
            },
            "type": "bar"
           }
          ],
          "barpolar": [
           {
            "marker": {
             "line": {
              "color": "#E5ECF6",
              "width": 0.5
             },
             "pattern": {
              "fillmode": "overlay",
              "size": 10,
              "solidity": 0.2
             }
            },
            "type": "barpolar"
           }
          ],
          "carpet": [
           {
            "aaxis": {
             "endlinecolor": "#2a3f5f",
             "gridcolor": "white",
             "linecolor": "white",
             "minorgridcolor": "white",
             "startlinecolor": "#2a3f5f"
            },
            "baxis": {
             "endlinecolor": "#2a3f5f",
             "gridcolor": "white",
             "linecolor": "white",
             "minorgridcolor": "white",
             "startlinecolor": "#2a3f5f"
            },
            "type": "carpet"
           }
          ],
          "choropleth": [
           {
            "colorbar": {
             "outlinewidth": 0,
             "ticks": ""
            },
            "type": "choropleth"
           }
          ],
          "contour": [
           {
            "colorbar": {
             "outlinewidth": 0,
             "ticks": ""
            },
            "colorscale": [
             [
              0,
              "#0d0887"
             ],
             [
              0.1111111111111111,
              "#46039f"
             ],
             [
              0.2222222222222222,
              "#7201a8"
             ],
             [
              0.3333333333333333,
              "#9c179e"
             ],
             [
              0.4444444444444444,
              "#bd3786"
             ],
             [
              0.5555555555555556,
              "#d8576b"
             ],
             [
              0.6666666666666666,
              "#ed7953"
             ],
             [
              0.7777777777777778,
              "#fb9f3a"
             ],
             [
              0.8888888888888888,
              "#fdca26"
             ],
             [
              1,
              "#f0f921"
             ]
            ],
            "type": "contour"
           }
          ],
          "contourcarpet": [
           {
            "colorbar": {
             "outlinewidth": 0,
             "ticks": ""
            },
            "type": "contourcarpet"
           }
          ],
          "heatmap": [
           {
            "colorbar": {
             "outlinewidth": 0,
             "ticks": ""
            },
            "colorscale": [
             [
              0,
              "#0d0887"
             ],
             [
              0.1111111111111111,
              "#46039f"
             ],
             [
              0.2222222222222222,
              "#7201a8"
             ],
             [
              0.3333333333333333,
              "#9c179e"
             ],
             [
              0.4444444444444444,
              "#bd3786"
             ],
             [
              0.5555555555555556,
              "#d8576b"
             ],
             [
              0.6666666666666666,
              "#ed7953"
             ],
             [
              0.7777777777777778,
              "#fb9f3a"
             ],
             [
              0.8888888888888888,
              "#fdca26"
             ],
             [
              1,
              "#f0f921"
             ]
            ],
            "type": "heatmap"
           }
          ],
          "heatmapgl": [
           {
            "colorbar": {
             "outlinewidth": 0,
             "ticks": ""
            },
            "colorscale": [
             [
              0,
              "#0d0887"
             ],
             [
              0.1111111111111111,
              "#46039f"
             ],
             [
              0.2222222222222222,
              "#7201a8"
             ],
             [
              0.3333333333333333,
              "#9c179e"
             ],
             [
              0.4444444444444444,
              "#bd3786"
             ],
             [
              0.5555555555555556,
              "#d8576b"
             ],
             [
              0.6666666666666666,
              "#ed7953"
             ],
             [
              0.7777777777777778,
              "#fb9f3a"
             ],
             [
              0.8888888888888888,
              "#fdca26"
             ],
             [
              1,
              "#f0f921"
             ]
            ],
            "type": "heatmapgl"
           }
          ],
          "histogram": [
           {
            "marker": {
             "pattern": {
              "fillmode": "overlay",
              "size": 10,
              "solidity": 0.2
             }
            },
            "type": "histogram"
           }
          ],
          "histogram2d": [
           {
            "colorbar": {
             "outlinewidth": 0,
             "ticks": ""
            },
            "colorscale": [
             [
              0,
              "#0d0887"
             ],
             [
              0.1111111111111111,
              "#46039f"
             ],
             [
              0.2222222222222222,
              "#7201a8"
             ],
             [
              0.3333333333333333,
              "#9c179e"
             ],
             [
              0.4444444444444444,
              "#bd3786"
             ],
             [
              0.5555555555555556,
              "#d8576b"
             ],
             [
              0.6666666666666666,
              "#ed7953"
             ],
             [
              0.7777777777777778,
              "#fb9f3a"
             ],
             [
              0.8888888888888888,
              "#fdca26"
             ],
             [
              1,
              "#f0f921"
             ]
            ],
            "type": "histogram2d"
           }
          ],
          "histogram2dcontour": [
           {
            "colorbar": {
             "outlinewidth": 0,
             "ticks": ""
            },
            "colorscale": [
             [
              0,
              "#0d0887"
             ],
             [
              0.1111111111111111,
              "#46039f"
             ],
             [
              0.2222222222222222,
              "#7201a8"
             ],
             [
              0.3333333333333333,
              "#9c179e"
             ],
             [
              0.4444444444444444,
              "#bd3786"
             ],
             [
              0.5555555555555556,
              "#d8576b"
             ],
             [
              0.6666666666666666,
              "#ed7953"
             ],
             [
              0.7777777777777778,
              "#fb9f3a"
             ],
             [
              0.8888888888888888,
              "#fdca26"
             ],
             [
              1,
              "#f0f921"
             ]
            ],
            "type": "histogram2dcontour"
           }
          ],
          "mesh3d": [
           {
            "colorbar": {
             "outlinewidth": 0,
             "ticks": ""
            },
            "type": "mesh3d"
           }
          ],
          "parcoords": [
           {
            "line": {
             "colorbar": {
              "outlinewidth": 0,
              "ticks": ""
             }
            },
            "type": "parcoords"
           }
          ],
          "pie": [
           {
            "automargin": true,
            "type": "pie"
           }
          ],
          "scatter": [
           {
            "fillpattern": {
             "fillmode": "overlay",
             "size": 10,
             "solidity": 0.2
            },
            "type": "scatter"
           }
          ],
          "scatter3d": [
           {
            "line": {
             "colorbar": {
              "outlinewidth": 0,
              "ticks": ""
             }
            },
            "marker": {
             "colorbar": {
              "outlinewidth": 0,
              "ticks": ""
             }
            },
            "type": "scatter3d"
           }
          ],
          "scattercarpet": [
           {
            "marker": {
             "colorbar": {
              "outlinewidth": 0,
              "ticks": ""
             }
            },
            "type": "scattercarpet"
           }
          ],
          "scattergeo": [
           {
            "marker": {
             "colorbar": {
              "outlinewidth": 0,
              "ticks": ""
             }
            },
            "type": "scattergeo"
           }
          ],
          "scattergl": [
           {
            "marker": {
             "colorbar": {
              "outlinewidth": 0,
              "ticks": ""
             }
            },
            "type": "scattergl"
           }
          ],
          "scattermapbox": [
           {
            "marker": {
             "colorbar": {
              "outlinewidth": 0,
              "ticks": ""
             }
            },
            "type": "scattermapbox"
           }
          ],
          "scatterpolar": [
           {
            "marker": {
             "colorbar": {
              "outlinewidth": 0,
              "ticks": ""
             }
            },
            "type": "scatterpolar"
           }
          ],
          "scatterpolargl": [
           {
            "marker": {
             "colorbar": {
              "outlinewidth": 0,
              "ticks": ""
             }
            },
            "type": "scatterpolargl"
           }
          ],
          "scatterternary": [
           {
            "marker": {
             "colorbar": {
              "outlinewidth": 0,
              "ticks": ""
             }
            },
            "type": "scatterternary"
           }
          ],
          "surface": [
           {
            "colorbar": {
             "outlinewidth": 0,
             "ticks": ""
            },
            "colorscale": [
             [
              0,
              "#0d0887"
             ],
             [
              0.1111111111111111,
              "#46039f"
             ],
             [
              0.2222222222222222,
              "#7201a8"
             ],
             [
              0.3333333333333333,
              "#9c179e"
             ],
             [
              0.4444444444444444,
              "#bd3786"
             ],
             [
              0.5555555555555556,
              "#d8576b"
             ],
             [
              0.6666666666666666,
              "#ed7953"
             ],
             [
              0.7777777777777778,
              "#fb9f3a"
             ],
             [
              0.8888888888888888,
              "#fdca26"
             ],
             [
              1,
              "#f0f921"
             ]
            ],
            "type": "surface"
           }
          ],
          "table": [
           {
            "cells": {
             "fill": {
              "color": "#EBF0F8"
             },
             "line": {
              "color": "white"
             }
            },
            "header": {
             "fill": {
              "color": "#C8D4E3"
             },
             "line": {
              "color": "white"
             }
            },
            "type": "table"
           }
          ]
         },
         "layout": {
          "annotationdefaults": {
           "arrowcolor": "#2a3f5f",
           "arrowhead": 0,
           "arrowwidth": 1
          },
          "autotypenumbers": "strict",
          "coloraxis": {
           "colorbar": {
            "outlinewidth": 0,
            "ticks": ""
           }
          },
          "colorscale": {
           "diverging": [
            [
             0,
             "#8e0152"
            ],
            [
             0.1,
             "#c51b7d"
            ],
            [
             0.2,
             "#de77ae"
            ],
            [
             0.3,
             "#f1b6da"
            ],
            [
             0.4,
             "#fde0ef"
            ],
            [
             0.5,
             "#f7f7f7"
            ],
            [
             0.6,
             "#e6f5d0"
            ],
            [
             0.7,
             "#b8e186"
            ],
            [
             0.8,
             "#7fbc41"
            ],
            [
             0.9,
             "#4d9221"
            ],
            [
             1,
             "#276419"
            ]
           ],
           "sequential": [
            [
             0,
             "#0d0887"
            ],
            [
             0.1111111111111111,
             "#46039f"
            ],
            [
             0.2222222222222222,
             "#7201a8"
            ],
            [
             0.3333333333333333,
             "#9c179e"
            ],
            [
             0.4444444444444444,
             "#bd3786"
            ],
            [
             0.5555555555555556,
             "#d8576b"
            ],
            [
             0.6666666666666666,
             "#ed7953"
            ],
            [
             0.7777777777777778,
             "#fb9f3a"
            ],
            [
             0.8888888888888888,
             "#fdca26"
            ],
            [
             1,
             "#f0f921"
            ]
           ],
           "sequentialminus": [
            [
             0,
             "#0d0887"
            ],
            [
             0.1111111111111111,
             "#46039f"
            ],
            [
             0.2222222222222222,
             "#7201a8"
            ],
            [
             0.3333333333333333,
             "#9c179e"
            ],
            [
             0.4444444444444444,
             "#bd3786"
            ],
            [
             0.5555555555555556,
             "#d8576b"
            ],
            [
             0.6666666666666666,
             "#ed7953"
            ],
            [
             0.7777777777777778,
             "#fb9f3a"
            ],
            [
             0.8888888888888888,
             "#fdca26"
            ],
            [
             1,
             "#f0f921"
            ]
           ]
          },
          "colorway": [
           "#636efa",
           "#EF553B",
           "#00cc96",
           "#ab63fa",
           "#FFA15A",
           "#19d3f3",
           "#FF6692",
           "#B6E880",
           "#FF97FF",
           "#FECB52"
          ],
          "font": {
           "color": "#2a3f5f"
          },
          "geo": {
           "bgcolor": "white",
           "lakecolor": "white",
           "landcolor": "#E5ECF6",
           "showlakes": true,
           "showland": true,
           "subunitcolor": "white"
          },
          "hoverlabel": {
           "align": "left"
          },
          "hovermode": "closest",
          "mapbox": {
           "style": "light"
          },
          "paper_bgcolor": "white",
          "plot_bgcolor": "#E5ECF6",
          "polar": {
           "angularaxis": {
            "gridcolor": "white",
            "linecolor": "white",
            "ticks": ""
           },
           "bgcolor": "#E5ECF6",
           "radialaxis": {
            "gridcolor": "white",
            "linecolor": "white",
            "ticks": ""
           }
          },
          "scene": {
           "xaxis": {
            "backgroundcolor": "#E5ECF6",
            "gridcolor": "white",
            "gridwidth": 2,
            "linecolor": "white",
            "showbackground": true,
            "ticks": "",
            "zerolinecolor": "white"
           },
           "yaxis": {
            "backgroundcolor": "#E5ECF6",
            "gridcolor": "white",
            "gridwidth": 2,
            "linecolor": "white",
            "showbackground": true,
            "ticks": "",
            "zerolinecolor": "white"
           },
           "zaxis": {
            "backgroundcolor": "#E5ECF6",
            "gridcolor": "white",
            "gridwidth": 2,
            "linecolor": "white",
            "showbackground": true,
            "ticks": "",
            "zerolinecolor": "white"
           }
          },
          "shapedefaults": {
           "line": {
            "color": "#2a3f5f"
           }
          },
          "ternary": {
           "aaxis": {
            "gridcolor": "white",
            "linecolor": "white",
            "ticks": ""
           },
           "baxis": {
            "gridcolor": "white",
            "linecolor": "white",
            "ticks": ""
           },
           "bgcolor": "#E5ECF6",
           "caxis": {
            "gridcolor": "white",
            "linecolor": "white",
            "ticks": ""
           }
          },
          "title": {
           "x": 0.05
          },
          "xaxis": {
           "automargin": true,
           "gridcolor": "white",
           "linecolor": "white",
           "ticks": "",
           "title": {
            "standoff": 15
           },
           "zerolinecolor": "white",
           "zerolinewidth": 2
          },
          "yaxis": {
           "automargin": true,
           "gridcolor": "white",
           "linecolor": "white",
           "ticks": "",
           "title": {
            "standoff": 15
           },
           "zerolinecolor": "white",
           "zerolinewidth": 2
          }
         }
        },
        "xaxis": {
         "nticks": 36
        }
       }
      }
     },
     "metadata": {},
     "output_type": "display_data"
    }
   ],
   "source": [
    "# 첫 번째 상관계수 히트맵\n",
    "fig1 = go.Figure(data=go.Heatmap(\n",
    "    z=correlation_matrix1.values,\n",
    "    x=correlation_matrix1.columns,\n",
    "    y=correlation_matrix1.index,\n",
    "    colorscale='Plasma'\n",
    "))\n",
    "fig1.update_layout(\n",
    "    xaxis_nticks=36\n",
    ")\n",
    "# 히트맵 출력\n",
    "fig1.show()"
   ]
  },
  {
   "cell_type": "code",
   "execution_count": 28,
   "metadata": {},
   "outputs": [
    {
     "data": {
      "application/vnd.plotly.v1+json": {
       "config": {
        "plotlyServerURL": "https://plot.ly"
       },
       "data": [
        {
         "colorscale": [
          [
           0,
           "#0d0887"
          ],
          [
           0.1111111111111111,
           "#46039f"
          ],
          [
           0.2222222222222222,
           "#7201a8"
          ],
          [
           0.3333333333333333,
           "#9c179e"
          ],
          [
           0.4444444444444444,
           "#bd3786"
          ],
          [
           0.5555555555555556,
           "#d8576b"
          ],
          [
           0.6666666666666666,
           "#ed7953"
          ],
          [
           0.7777777777777778,
           "#fb9f3a"
          ],
          [
           0.8888888888888888,
           "#fdca26"
          ],
          [
           1,
           "#f0f921"
          ]
         ],
         "type": "heatmap",
         "x": [
          "10대_여",
          "20대_여",
          "30대_여",
          "40대_여",
          "50대_여",
          "60대_여",
          "10대_남",
          "20대_남",
          "30대_남",
          "40대_남",
          "50대_남",
          "60대_남"
         ],
         "y": [
          "10대_여",
          "20대_여",
          "30대_여",
          "40대_여",
          "50대_여",
          "60대_여",
          "10대_남",
          "20대_남",
          "30대_남",
          "40대_남",
          "50대_남",
          "60대_남"
         ],
         "z": [
          [
           1,
           0.6194185673070901,
           0.6438565227402202,
           0.6320508493444593,
           0.5172542633369214,
           0.5107848155074088,
           0.983146683913629,
           0.7030247844161159,
           0.7452448994585275,
           0.7858336684658409,
           0.6694345579425998,
           0.6306197501089255
          ],
          [
           0.6194185673070901,
           1,
           0.7783773830455034,
           0.7780412072871542,
           0.7817562356994665,
           0.7681958074109202,
           0.5514912696625933,
           0.9123043327162289,
           0.6664684211193344,
           0.6917506849727241,
           0.7799660968494075,
           0.7601081250651223
          ],
          [
           0.6438565227402202,
           0.7783773830455034,
           1,
           0.9747159106457093,
           0.9017722667798258,
           0.8397545011589823,
           0.6238648357334275,
           0.8883911222522007,
           0.9241353030652172,
           0.9088902374019712,
           0.9291062373052673,
           0.8509807109657335
          ],
          [
           0.6320508493444593,
           0.7780412072871542,
           0.9747159106457093,
           1,
           0.9543589572852447,
           0.8840964694654617,
           0.6145211679880962,
           0.8714799710441786,
           0.8727765343181755,
           0.907929844186038,
           0.9514306661181099,
           0.8787421678455424
          ],
          [
           0.5172542633369214,
           0.7817562356994665,
           0.9017722667798258,
           0.9543589572852447,
           1,
           0.9545541720886388,
           0.4972512880747636,
           0.8235794430678203,
           0.7285506372458267,
           0.7848535677917416,
           0.9198480657199851,
           0.8897010307239063
          ],
          [
           0.5107848155074088,
           0.7681958074109202,
           0.8397545011589823,
           0.8840964694654617,
           0.9545541720886388,
           1,
           0.485940724436249,
           0.791373788100364,
           0.6854830014972708,
           0.7387043421877171,
           0.9021015672063863,
           0.9443597492865263
          ],
          [
           0.983146683913629,
           0.5514912696625933,
           0.6238648357334275,
           0.6145211679880962,
           0.4972512880747636,
           0.485940724436249,
           1,
           0.6659919238576558,
           0.7263832667833728,
           0.7746544351744257,
           0.6560329378992124,
           0.606909816917518
          ],
          [
           0.7030247844161159,
           0.9123043327162289,
           0.8883911222522007,
           0.8714799710441786,
           0.8235794430678203,
           0.791373788100364,
           0.6659919238576558,
           1,
           0.838752609802657,
           0.8488767699163756,
           0.8855233421946009,
           0.8360305966333546
          ],
          [
           0.7452448994585275,
           0.6664684211193344,
           0.9241353030652172,
           0.8727765343181755,
           0.7285506372458267,
           0.6854830014972708,
           0.7263832667833728,
           0.838752609802657,
           1,
           0.951686471604244,
           0.8676210003553108,
           0.7848769202295386
          ],
          [
           0.7858336684658409,
           0.6917506849727241,
           0.9088902374019712,
           0.907929844186038,
           0.7848535677917416,
           0.7387043421877171,
           0.7746544351744257,
           0.8488767699163756,
           0.951686471604244,
           1,
           0.9303235394223832,
           0.8457105188005198
          ],
          [
           0.6694345579425998,
           0.7799660968494075,
           0.9291062373052673,
           0.9514306661181099,
           0.9198480657199851,
           0.9021015672063863,
           0.6560329378992124,
           0.8855233421946009,
           0.8676210003553108,
           0.9303235394223832,
           1,
           0.949808278060755
          ],
          [
           0.6306197501089255,
           0.7601081250651223,
           0.8509807109657335,
           0.8787421678455424,
           0.8897010307239063,
           0.9443597492865263,
           0.606909816917518,
           0.8360305966333546,
           0.7848769202295386,
           0.8457105188005198,
           0.949808278060755,
           1
          ]
         ]
        }
       ],
       "layout": {
        "template": {
         "data": {
          "bar": [
           {
            "error_x": {
             "color": "#2a3f5f"
            },
            "error_y": {
             "color": "#2a3f5f"
            },
            "marker": {
             "line": {
              "color": "#E5ECF6",
              "width": 0.5
             },
             "pattern": {
              "fillmode": "overlay",
              "size": 10,
              "solidity": 0.2
             }
            },
            "type": "bar"
           }
          ],
          "barpolar": [
           {
            "marker": {
             "line": {
              "color": "#E5ECF6",
              "width": 0.5
             },
             "pattern": {
              "fillmode": "overlay",
              "size": 10,
              "solidity": 0.2
             }
            },
            "type": "barpolar"
           }
          ],
          "carpet": [
           {
            "aaxis": {
             "endlinecolor": "#2a3f5f",
             "gridcolor": "white",
             "linecolor": "white",
             "minorgridcolor": "white",
             "startlinecolor": "#2a3f5f"
            },
            "baxis": {
             "endlinecolor": "#2a3f5f",
             "gridcolor": "white",
             "linecolor": "white",
             "minorgridcolor": "white",
             "startlinecolor": "#2a3f5f"
            },
            "type": "carpet"
           }
          ],
          "choropleth": [
           {
            "colorbar": {
             "outlinewidth": 0,
             "ticks": ""
            },
            "type": "choropleth"
           }
          ],
          "contour": [
           {
            "colorbar": {
             "outlinewidth": 0,
             "ticks": ""
            },
            "colorscale": [
             [
              0,
              "#0d0887"
             ],
             [
              0.1111111111111111,
              "#46039f"
             ],
             [
              0.2222222222222222,
              "#7201a8"
             ],
             [
              0.3333333333333333,
              "#9c179e"
             ],
             [
              0.4444444444444444,
              "#bd3786"
             ],
             [
              0.5555555555555556,
              "#d8576b"
             ],
             [
              0.6666666666666666,
              "#ed7953"
             ],
             [
              0.7777777777777778,
              "#fb9f3a"
             ],
             [
              0.8888888888888888,
              "#fdca26"
             ],
             [
              1,
              "#f0f921"
             ]
            ],
            "type": "contour"
           }
          ],
          "contourcarpet": [
           {
            "colorbar": {
             "outlinewidth": 0,
             "ticks": ""
            },
            "type": "contourcarpet"
           }
          ],
          "heatmap": [
           {
            "colorbar": {
             "outlinewidth": 0,
             "ticks": ""
            },
            "colorscale": [
             [
              0,
              "#0d0887"
             ],
             [
              0.1111111111111111,
              "#46039f"
             ],
             [
              0.2222222222222222,
              "#7201a8"
             ],
             [
              0.3333333333333333,
              "#9c179e"
             ],
             [
              0.4444444444444444,
              "#bd3786"
             ],
             [
              0.5555555555555556,
              "#d8576b"
             ],
             [
              0.6666666666666666,
              "#ed7953"
             ],
             [
              0.7777777777777778,
              "#fb9f3a"
             ],
             [
              0.8888888888888888,
              "#fdca26"
             ],
             [
              1,
              "#f0f921"
             ]
            ],
            "type": "heatmap"
           }
          ],
          "heatmapgl": [
           {
            "colorbar": {
             "outlinewidth": 0,
             "ticks": ""
            },
            "colorscale": [
             [
              0,
              "#0d0887"
             ],
             [
              0.1111111111111111,
              "#46039f"
             ],
             [
              0.2222222222222222,
              "#7201a8"
             ],
             [
              0.3333333333333333,
              "#9c179e"
             ],
             [
              0.4444444444444444,
              "#bd3786"
             ],
             [
              0.5555555555555556,
              "#d8576b"
             ],
             [
              0.6666666666666666,
              "#ed7953"
             ],
             [
              0.7777777777777778,
              "#fb9f3a"
             ],
             [
              0.8888888888888888,
              "#fdca26"
             ],
             [
              1,
              "#f0f921"
             ]
            ],
            "type": "heatmapgl"
           }
          ],
          "histogram": [
           {
            "marker": {
             "pattern": {
              "fillmode": "overlay",
              "size": 10,
              "solidity": 0.2
             }
            },
            "type": "histogram"
           }
          ],
          "histogram2d": [
           {
            "colorbar": {
             "outlinewidth": 0,
             "ticks": ""
            },
            "colorscale": [
             [
              0,
              "#0d0887"
             ],
             [
              0.1111111111111111,
              "#46039f"
             ],
             [
              0.2222222222222222,
              "#7201a8"
             ],
             [
              0.3333333333333333,
              "#9c179e"
             ],
             [
              0.4444444444444444,
              "#bd3786"
             ],
             [
              0.5555555555555556,
              "#d8576b"
             ],
             [
              0.6666666666666666,
              "#ed7953"
             ],
             [
              0.7777777777777778,
              "#fb9f3a"
             ],
             [
              0.8888888888888888,
              "#fdca26"
             ],
             [
              1,
              "#f0f921"
             ]
            ],
            "type": "histogram2d"
           }
          ],
          "histogram2dcontour": [
           {
            "colorbar": {
             "outlinewidth": 0,
             "ticks": ""
            },
            "colorscale": [
             [
              0,
              "#0d0887"
             ],
             [
              0.1111111111111111,
              "#46039f"
             ],
             [
              0.2222222222222222,
              "#7201a8"
             ],
             [
              0.3333333333333333,
              "#9c179e"
             ],
             [
              0.4444444444444444,
              "#bd3786"
             ],
             [
              0.5555555555555556,
              "#d8576b"
             ],
             [
              0.6666666666666666,
              "#ed7953"
             ],
             [
              0.7777777777777778,
              "#fb9f3a"
             ],
             [
              0.8888888888888888,
              "#fdca26"
             ],
             [
              1,
              "#f0f921"
             ]
            ],
            "type": "histogram2dcontour"
           }
          ],
          "mesh3d": [
           {
            "colorbar": {
             "outlinewidth": 0,
             "ticks": ""
            },
            "type": "mesh3d"
           }
          ],
          "parcoords": [
           {
            "line": {
             "colorbar": {
              "outlinewidth": 0,
              "ticks": ""
             }
            },
            "type": "parcoords"
           }
          ],
          "pie": [
           {
            "automargin": true,
            "type": "pie"
           }
          ],
          "scatter": [
           {
            "fillpattern": {
             "fillmode": "overlay",
             "size": 10,
             "solidity": 0.2
            },
            "type": "scatter"
           }
          ],
          "scatter3d": [
           {
            "line": {
             "colorbar": {
              "outlinewidth": 0,
              "ticks": ""
             }
            },
            "marker": {
             "colorbar": {
              "outlinewidth": 0,
              "ticks": ""
             }
            },
            "type": "scatter3d"
           }
          ],
          "scattercarpet": [
           {
            "marker": {
             "colorbar": {
              "outlinewidth": 0,
              "ticks": ""
             }
            },
            "type": "scattercarpet"
           }
          ],
          "scattergeo": [
           {
            "marker": {
             "colorbar": {
              "outlinewidth": 0,
              "ticks": ""
             }
            },
            "type": "scattergeo"
           }
          ],
          "scattergl": [
           {
            "marker": {
             "colorbar": {
              "outlinewidth": 0,
              "ticks": ""
             }
            },
            "type": "scattergl"
           }
          ],
          "scattermapbox": [
           {
            "marker": {
             "colorbar": {
              "outlinewidth": 0,
              "ticks": ""
             }
            },
            "type": "scattermapbox"
           }
          ],
          "scatterpolar": [
           {
            "marker": {
             "colorbar": {
              "outlinewidth": 0,
              "ticks": ""
             }
            },
            "type": "scatterpolar"
           }
          ],
          "scatterpolargl": [
           {
            "marker": {
             "colorbar": {
              "outlinewidth": 0,
              "ticks": ""
             }
            },
            "type": "scatterpolargl"
           }
          ],
          "scatterternary": [
           {
            "marker": {
             "colorbar": {
              "outlinewidth": 0,
              "ticks": ""
             }
            },
            "type": "scatterternary"
           }
          ],
          "surface": [
           {
            "colorbar": {
             "outlinewidth": 0,
             "ticks": ""
            },
            "colorscale": [
             [
              0,
              "#0d0887"
             ],
             [
              0.1111111111111111,
              "#46039f"
             ],
             [
              0.2222222222222222,
              "#7201a8"
             ],
             [
              0.3333333333333333,
              "#9c179e"
             ],
             [
              0.4444444444444444,
              "#bd3786"
             ],
             [
              0.5555555555555556,
              "#d8576b"
             ],
             [
              0.6666666666666666,
              "#ed7953"
             ],
             [
              0.7777777777777778,
              "#fb9f3a"
             ],
             [
              0.8888888888888888,
              "#fdca26"
             ],
             [
              1,
              "#f0f921"
             ]
            ],
            "type": "surface"
           }
          ],
          "table": [
           {
            "cells": {
             "fill": {
              "color": "#EBF0F8"
             },
             "line": {
              "color": "white"
             }
            },
            "header": {
             "fill": {
              "color": "#C8D4E3"
             },
             "line": {
              "color": "white"
             }
            },
            "type": "table"
           }
          ]
         },
         "layout": {
          "annotationdefaults": {
           "arrowcolor": "#2a3f5f",
           "arrowhead": 0,
           "arrowwidth": 1
          },
          "autotypenumbers": "strict",
          "coloraxis": {
           "colorbar": {
            "outlinewidth": 0,
            "ticks": ""
           }
          },
          "colorscale": {
           "diverging": [
            [
             0,
             "#8e0152"
            ],
            [
             0.1,
             "#c51b7d"
            ],
            [
             0.2,
             "#de77ae"
            ],
            [
             0.3,
             "#f1b6da"
            ],
            [
             0.4,
             "#fde0ef"
            ],
            [
             0.5,
             "#f7f7f7"
            ],
            [
             0.6,
             "#e6f5d0"
            ],
            [
             0.7,
             "#b8e186"
            ],
            [
             0.8,
             "#7fbc41"
            ],
            [
             0.9,
             "#4d9221"
            ],
            [
             1,
             "#276419"
            ]
           ],
           "sequential": [
            [
             0,
             "#0d0887"
            ],
            [
             0.1111111111111111,
             "#46039f"
            ],
            [
             0.2222222222222222,
             "#7201a8"
            ],
            [
             0.3333333333333333,
             "#9c179e"
            ],
            [
             0.4444444444444444,
             "#bd3786"
            ],
            [
             0.5555555555555556,
             "#d8576b"
            ],
            [
             0.6666666666666666,
             "#ed7953"
            ],
            [
             0.7777777777777778,
             "#fb9f3a"
            ],
            [
             0.8888888888888888,
             "#fdca26"
            ],
            [
             1,
             "#f0f921"
            ]
           ],
           "sequentialminus": [
            [
             0,
             "#0d0887"
            ],
            [
             0.1111111111111111,
             "#46039f"
            ],
            [
             0.2222222222222222,
             "#7201a8"
            ],
            [
             0.3333333333333333,
             "#9c179e"
            ],
            [
             0.4444444444444444,
             "#bd3786"
            ],
            [
             0.5555555555555556,
             "#d8576b"
            ],
            [
             0.6666666666666666,
             "#ed7953"
            ],
            [
             0.7777777777777778,
             "#fb9f3a"
            ],
            [
             0.8888888888888888,
             "#fdca26"
            ],
            [
             1,
             "#f0f921"
            ]
           ]
          },
          "colorway": [
           "#636efa",
           "#EF553B",
           "#00cc96",
           "#ab63fa",
           "#FFA15A",
           "#19d3f3",
           "#FF6692",
           "#B6E880",
           "#FF97FF",
           "#FECB52"
          ],
          "font": {
           "color": "#2a3f5f"
          },
          "geo": {
           "bgcolor": "white",
           "lakecolor": "white",
           "landcolor": "#E5ECF6",
           "showlakes": true,
           "showland": true,
           "subunitcolor": "white"
          },
          "hoverlabel": {
           "align": "left"
          },
          "hovermode": "closest",
          "mapbox": {
           "style": "light"
          },
          "paper_bgcolor": "white",
          "plot_bgcolor": "#E5ECF6",
          "polar": {
           "angularaxis": {
            "gridcolor": "white",
            "linecolor": "white",
            "ticks": ""
           },
           "bgcolor": "#E5ECF6",
           "radialaxis": {
            "gridcolor": "white",
            "linecolor": "white",
            "ticks": ""
           }
          },
          "scene": {
           "xaxis": {
            "backgroundcolor": "#E5ECF6",
            "gridcolor": "white",
            "gridwidth": 2,
            "linecolor": "white",
            "showbackground": true,
            "ticks": "",
            "zerolinecolor": "white"
           },
           "yaxis": {
            "backgroundcolor": "#E5ECF6",
            "gridcolor": "white",
            "gridwidth": 2,
            "linecolor": "white",
            "showbackground": true,
            "ticks": "",
            "zerolinecolor": "white"
           },
           "zaxis": {
            "backgroundcolor": "#E5ECF6",
            "gridcolor": "white",
            "gridwidth": 2,
            "linecolor": "white",
            "showbackground": true,
            "ticks": "",
            "zerolinecolor": "white"
           }
          },
          "shapedefaults": {
           "line": {
            "color": "#2a3f5f"
           }
          },
          "ternary": {
           "aaxis": {
            "gridcolor": "white",
            "linecolor": "white",
            "ticks": ""
           },
           "baxis": {
            "gridcolor": "white",
            "linecolor": "white",
            "ticks": ""
           },
           "bgcolor": "#E5ECF6",
           "caxis": {
            "gridcolor": "white",
            "linecolor": "white",
            "ticks": ""
           }
          },
          "title": {
           "x": 0.05
          },
          "xaxis": {
           "automargin": true,
           "gridcolor": "white",
           "linecolor": "white",
           "ticks": "",
           "title": {
            "standoff": 15
           },
           "zerolinecolor": "white",
           "zerolinewidth": 2
          },
          "yaxis": {
           "automargin": true,
           "gridcolor": "white",
           "linecolor": "white",
           "ticks": "",
           "title": {
            "standoff": 15
           },
           "zerolinecolor": "white",
           "zerolinewidth": 2
          }
         }
        },
        "xaxis": {
         "nticks": 36
        }
       }
      }
     },
     "metadata": {},
     "output_type": "display_data"
    }
   ],
   "source": [
    "# 두 번째 상관계수 히트맵\n",
    "fig2 = go.Figure(data=go.Heatmap(\n",
    "    z=correlation_matrix2.values,\n",
    "    x=correlation_matrix2.columns,\n",
    "    y=correlation_matrix2.index,\n",
    "    colorscale='Plasma'\n",
    "))\n",
    "fig2.update_layout(\n",
    "    xaxis_nticks=36\n",
    ")\n",
    "\n",
    "# 히트맵 출력\n",
    "fig2.show()"
   ]
  },
  {
   "cell_type": "code",
   "execution_count": 31,
   "metadata": {},
   "outputs": [
    {
     "data": {
      "application/vnd.plotly.v1+json": {
       "config": {
        "plotlyServerURL": "https://plot.ly"
       },
       "data": [
        {
         "line": {
          "color": "#0d0887"
         },
         "mode": "lines",
         "name": "40대",
         "type": "scatter",
         "x": [
          "2020-01-01T00:00:00",
          "2020-02-01T00:00:00",
          "2020-03-01T00:00:00",
          "2020-04-01T00:00:00",
          "2020-05-01T00:00:00",
          "2020-06-01T00:00:00",
          "2020-07-01T00:00:00",
          "2020-08-01T00:00:00",
          "2020-09-01T00:00:00",
          "2020-10-01T00:00:00",
          "2020-11-01T00:00:00",
          "2020-12-01T00:00:00",
          "2021-01-01T00:00:00",
          "2021-02-01T00:00:00",
          "2021-03-01T00:00:00",
          "2021-04-01T00:00:00",
          "2021-05-01T00:00:00",
          "2021-06-01T00:00:00",
          "2021-07-01T00:00:00",
          "2021-08-01T00:00:00",
          "2021-09-01T00:00:00",
          "2021-10-01T00:00:00",
          "2021-11-01T00:00:00",
          "2021-12-01T00:00:00",
          "2022-01-01T00:00:00",
          "2022-02-01T00:00:00",
          "2022-03-01T00:00:00",
          "2022-04-01T00:00:00",
          "2022-05-01T00:00:00",
          "2022-06-01T00:00:00",
          "2022-07-01T00:00:00",
          "2022-08-01T00:00:00",
          "2022-09-01T00:00:00",
          "2022-10-01T00:00:00",
          "2022-11-01T00:00:00",
          "2022-12-01T00:00:00"
         ],
         "y": [
          408788.88,
          386809.72,
          380971.66,
          417888.52,
          436925.32,
          464685.55,
          465486.93,
          437134.09,
          443097.05,
          451692.72,
          460578.5,
          433569.76,
          436968.95,
          438890.52,
          463685.93,
          487803.31,
          484725.9,
          490089.19,
          477339.91,
          466293.31,
          487352.74,
          489425.92,
          486270.75,
          465042.91,
          451180.74,
          446259.64,
          448518.15,
          508195.74,
          521186.12,
          499156.64,
          483986.86,
          476550.45,
          502710.16,
          457197.07,
          481511.12,
          431590.05
         ]
        },
        {
         "line": {
          "color": "#46039f"
         },
         "mode": "lines",
         "name": "50대",
         "type": "scatter",
         "x": [
          "2020-01-01T00:00:00",
          "2020-02-01T00:00:00",
          "2020-03-01T00:00:00",
          "2020-04-01T00:00:00",
          "2020-05-01T00:00:00",
          "2020-06-01T00:00:00",
          "2020-07-01T00:00:00",
          "2020-08-01T00:00:00",
          "2020-09-01T00:00:00",
          "2020-10-01T00:00:00",
          "2020-11-01T00:00:00",
          "2020-12-01T00:00:00",
          "2021-01-01T00:00:00",
          "2021-02-01T00:00:00",
          "2021-03-01T00:00:00",
          "2021-04-01T00:00:00",
          "2021-05-01T00:00:00",
          "2021-06-01T00:00:00",
          "2021-07-01T00:00:00",
          "2021-08-01T00:00:00",
          "2021-09-01T00:00:00",
          "2021-10-01T00:00:00",
          "2021-11-01T00:00:00",
          "2021-12-01T00:00:00",
          "2022-01-01T00:00:00",
          "2022-02-01T00:00:00",
          "2022-03-01T00:00:00",
          "2022-04-01T00:00:00",
          "2022-05-01T00:00:00",
          "2022-06-01T00:00:00",
          "2022-07-01T00:00:00",
          "2022-08-01T00:00:00",
          "2022-09-01T00:00:00",
          "2022-10-01T00:00:00",
          "2022-11-01T00:00:00",
          "2022-12-01T00:00:00"
         ],
         "y": [
          300325.41,
          289103.79,
          293212.64,
          321477.24,
          331383.61,
          348061.75,
          338516.18,
          320095.19,
          327768.81,
          334269.57,
          338316.1,
          312504.89,
          316481.68,
          326286.99,
          348273.09,
          369740.39,
          362950.08,
          367763.73,
          353533.98,
          343074.83,
          359655.09,
          366632.51,
          367086.85,
          346966.61,
          339926.85,
          339392.12,
          344275.99,
          389611.67,
          399447.14,
          380345.34,
          367976.55,
          361240.99,
          387162.16,
          350097.82,
          358981.51,
          312523.06
         ]
        },
        {
         "line": {
          "color": "#7201a8"
         },
         "mode": "lines",
         "name": "60대",
         "type": "scatter",
         "x": [
          "2020-01-01T00:00:00",
          "2020-02-01T00:00:00",
          "2020-03-01T00:00:00",
          "2020-04-01T00:00:00",
          "2020-05-01T00:00:00",
          "2020-06-01T00:00:00",
          "2020-07-01T00:00:00",
          "2020-08-01T00:00:00",
          "2020-09-01T00:00:00",
          "2020-10-01T00:00:00",
          "2020-11-01T00:00:00",
          "2020-12-01T00:00:00",
          "2021-01-01T00:00:00",
          "2021-02-01T00:00:00",
          "2021-03-01T00:00:00",
          "2021-04-01T00:00:00",
          "2021-05-01T00:00:00",
          "2021-06-01T00:00:00",
          "2021-07-01T00:00:00",
          "2021-08-01T00:00:00",
          "2021-09-01T00:00:00",
          "2021-10-01T00:00:00",
          "2021-11-01T00:00:00",
          "2021-12-01T00:00:00",
          "2022-01-01T00:00:00",
          "2022-02-01T00:00:00",
          "2022-03-01T00:00:00",
          "2022-04-01T00:00:00",
          "2022-05-01T00:00:00",
          "2022-06-01T00:00:00",
          "2022-07-01T00:00:00",
          "2022-08-01T00:00:00",
          "2022-09-01T00:00:00",
          "2022-10-01T00:00:00",
          "2022-11-01T00:00:00",
          "2022-12-01T00:00:00"
         ],
         "y": [
          238080.53,
          226538.96,
          233647.83,
          260676.28,
          274654.2,
          286071.54,
          272405.1,
          251150.26,
          259997.16,
          271039.83,
          270629.61,
          245775.71,
          266311.7,
          273724.21,
          300654.92,
          323006.25,
          312955.35,
          311719.98,
          297543.27,
          288620.59,
          311169.83,
          319628.48,
          313955.92,
          291476.74,
          308976.91,
          308548.29,
          319962.38,
          371586.87,
          383530.65,
          359454.71,
          347193.91,
          340645.47,
          367272.64,
          331920.47,
          329118.95,
          277502.58
         ]
        },
        {
         "line": {
          "color": "#9c179e"
         },
         "mode": "lines",
         "name": "30대",
         "type": "scatter",
         "x": [
          "2020-01-01T00:00:00",
          "2020-02-01T00:00:00",
          "2020-03-01T00:00:00",
          "2020-04-01T00:00:00",
          "2020-05-01T00:00:00",
          "2020-06-01T00:00:00",
          "2020-07-01T00:00:00",
          "2020-08-01T00:00:00",
          "2020-09-01T00:00:00",
          "2020-10-01T00:00:00",
          "2020-11-01T00:00:00",
          "2020-12-01T00:00:00",
          "2021-01-01T00:00:00",
          "2021-02-01T00:00:00",
          "2021-03-01T00:00:00",
          "2021-04-01T00:00:00",
          "2021-05-01T00:00:00",
          "2021-06-01T00:00:00",
          "2021-07-01T00:00:00",
          "2021-08-01T00:00:00",
          "2021-09-01T00:00:00",
          "2021-10-01T00:00:00",
          "2021-11-01T00:00:00",
          "2021-12-01T00:00:00",
          "2022-01-01T00:00:00",
          "2022-02-01T00:00:00",
          "2022-03-01T00:00:00",
          "2022-04-01T00:00:00",
          "2022-05-01T00:00:00",
          "2022-06-01T00:00:00",
          "2022-07-01T00:00:00",
          "2022-08-01T00:00:00",
          "2022-09-01T00:00:00",
          "2022-10-01T00:00:00",
          "2022-11-01T00:00:00",
          "2022-12-01T00:00:00"
         ],
         "y": [
          327050.43,
          307592.42,
          305014.81,
          335150.75,
          352270.65,
          367648.84,
          373080.06,
          354351.65,
          354933.49,
          364679,
          370218.37,
          349324.68,
          329046.01,
          325710.09,
          339097.48,
          356031.1,
          355891.98,
          357746.85,
          350631.92,
          343581.12,
          359371.49,
          360960.52,
          354495.86,
          343887.51,
          311902.09,
          308610.8,
          306215.26,
          347015.62,
          356508.78,
          341245.65,
          328015.21,
          323348.27,
          340573.25,
          308909.69,
          327663.64,
          296425.06
         ]
        },
        {
         "line": {
          "color": "#bd3786"
         },
         "mode": "lines",
         "name": "20대",
         "type": "scatter",
         "x": [
          "2020-01-01T00:00:00",
          "2020-02-01T00:00:00",
          "2020-03-01T00:00:00",
          "2020-04-01T00:00:00",
          "2020-05-01T00:00:00",
          "2020-06-01T00:00:00",
          "2020-07-01T00:00:00",
          "2020-08-01T00:00:00",
          "2020-09-01T00:00:00",
          "2020-10-01T00:00:00",
          "2020-11-01T00:00:00",
          "2020-12-01T00:00:00",
          "2021-01-01T00:00:00",
          "2021-02-01T00:00:00",
          "2021-03-01T00:00:00",
          "2021-04-01T00:00:00",
          "2021-05-01T00:00:00",
          "2021-06-01T00:00:00",
          "2021-07-01T00:00:00",
          "2021-08-01T00:00:00",
          "2021-09-01T00:00:00",
          "2021-10-01T00:00:00",
          "2021-11-01T00:00:00",
          "2021-12-01T00:00:00",
          "2022-01-01T00:00:00",
          "2022-02-01T00:00:00",
          "2022-03-01T00:00:00",
          "2022-04-01T00:00:00",
          "2022-05-01T00:00:00",
          "2022-06-01T00:00:00",
          "2022-07-01T00:00:00",
          "2022-08-01T00:00:00",
          "2022-09-01T00:00:00",
          "2022-10-01T00:00:00",
          "2022-11-01T00:00:00",
          "2022-12-01T00:00:00"
         ],
         "y": [
          161464.57,
          144700.93,
          141503.16,
          155584.44,
          172353.17,
          177254.28,
          178838.95,
          175201.4,
          174649.4,
          181482.42,
          183293.46,
          168971.98,
          159702.79,
          167856.67,
          169782.67,
          179313.15,
          183482.1,
          182470.48,
          179091.83,
          179492.83,
          190196.01,
          188888.24,
          190497.07,
          184224.78,
          163709.96,
          163571.69,
          163529.06,
          185548.88,
          194890.98,
          182824.61,
          172566.47,
          170359.54,
          186414.48,
          167597.91,
          182009.78,
          164380.26
         ]
        },
        {
         "line": {
          "color": "#d8576b"
         },
         "mode": "lines",
         "name": "10대",
         "type": "scatter",
         "x": [
          "2020-01-01T00:00:00",
          "2020-02-01T00:00:00",
          "2020-03-01T00:00:00",
          "2020-04-01T00:00:00",
          "2020-05-01T00:00:00",
          "2020-06-01T00:00:00",
          "2020-07-01T00:00:00",
          "2020-08-01T00:00:00",
          "2020-09-01T00:00:00",
          "2020-10-01T00:00:00",
          "2020-11-01T00:00:00",
          "2020-12-01T00:00:00",
          "2021-01-01T00:00:00",
          "2021-02-01T00:00:00",
          "2021-03-01T00:00:00",
          "2021-04-01T00:00:00",
          "2021-05-01T00:00:00",
          "2021-06-01T00:00:00",
          "2021-07-01T00:00:00",
          "2021-08-01T00:00:00",
          "2021-09-01T00:00:00",
          "2021-10-01T00:00:00",
          "2021-11-01T00:00:00",
          "2021-12-01T00:00:00",
          "2022-01-01T00:00:00",
          "2022-02-01T00:00:00",
          "2022-03-01T00:00:00",
          "2022-04-01T00:00:00",
          "2022-05-01T00:00:00",
          "2022-06-01T00:00:00",
          "2022-07-01T00:00:00",
          "2022-08-01T00:00:00",
          "2022-09-01T00:00:00",
          "2022-10-01T00:00:00",
          "2022-11-01T00:00:00",
          "2022-12-01T00:00:00"
         ],
         "y": [
          117279.09,
          92979.69,
          81736.3,
          94972.31,
          110246.85,
          121899.23,
          130719.62,
          127120.12,
          122325.83,
          133995.15,
          135068.77,
          127283.1,
          119457.39,
          115658.05,
          122679.37,
          137183.07,
          147175.16,
          139148.47,
          136422.61,
          136360,
          149458.69,
          152573.33,
          150757.76,
          146388.35,
          133739.39,
          130862.22,
          132340.29,
          160839.07,
          174957.4,
          160190.43,
          154013.87,
          152391.59,
          159928.78,
          147483.09,
          173499.24,
          161401.14
         ]
        }
       ],
       "layout": {
        "template": {
         "data": {
          "bar": [
           {
            "error_x": {
             "color": "#2a3f5f"
            },
            "error_y": {
             "color": "#2a3f5f"
            },
            "marker": {
             "line": {
              "color": "#E5ECF6",
              "width": 0.5
             },
             "pattern": {
              "fillmode": "overlay",
              "size": 10,
              "solidity": 0.2
             }
            },
            "type": "bar"
           }
          ],
          "barpolar": [
           {
            "marker": {
             "line": {
              "color": "#E5ECF6",
              "width": 0.5
             },
             "pattern": {
              "fillmode": "overlay",
              "size": 10,
              "solidity": 0.2
             }
            },
            "type": "barpolar"
           }
          ],
          "carpet": [
           {
            "aaxis": {
             "endlinecolor": "#2a3f5f",
             "gridcolor": "white",
             "linecolor": "white",
             "minorgridcolor": "white",
             "startlinecolor": "#2a3f5f"
            },
            "baxis": {
             "endlinecolor": "#2a3f5f",
             "gridcolor": "white",
             "linecolor": "white",
             "minorgridcolor": "white",
             "startlinecolor": "#2a3f5f"
            },
            "type": "carpet"
           }
          ],
          "choropleth": [
           {
            "colorbar": {
             "outlinewidth": 0,
             "ticks": ""
            },
            "type": "choropleth"
           }
          ],
          "contour": [
           {
            "colorbar": {
             "outlinewidth": 0,
             "ticks": ""
            },
            "colorscale": [
             [
              0,
              "#0d0887"
             ],
             [
              0.1111111111111111,
              "#46039f"
             ],
             [
              0.2222222222222222,
              "#7201a8"
             ],
             [
              0.3333333333333333,
              "#9c179e"
             ],
             [
              0.4444444444444444,
              "#bd3786"
             ],
             [
              0.5555555555555556,
              "#d8576b"
             ],
             [
              0.6666666666666666,
              "#ed7953"
             ],
             [
              0.7777777777777778,
              "#fb9f3a"
             ],
             [
              0.8888888888888888,
              "#fdca26"
             ],
             [
              1,
              "#f0f921"
             ]
            ],
            "type": "contour"
           }
          ],
          "contourcarpet": [
           {
            "colorbar": {
             "outlinewidth": 0,
             "ticks": ""
            },
            "type": "contourcarpet"
           }
          ],
          "heatmap": [
           {
            "colorbar": {
             "outlinewidth": 0,
             "ticks": ""
            },
            "colorscale": [
             [
              0,
              "#0d0887"
             ],
             [
              0.1111111111111111,
              "#46039f"
             ],
             [
              0.2222222222222222,
              "#7201a8"
             ],
             [
              0.3333333333333333,
              "#9c179e"
             ],
             [
              0.4444444444444444,
              "#bd3786"
             ],
             [
              0.5555555555555556,
              "#d8576b"
             ],
             [
              0.6666666666666666,
              "#ed7953"
             ],
             [
              0.7777777777777778,
              "#fb9f3a"
             ],
             [
              0.8888888888888888,
              "#fdca26"
             ],
             [
              1,
              "#f0f921"
             ]
            ],
            "type": "heatmap"
           }
          ],
          "heatmapgl": [
           {
            "colorbar": {
             "outlinewidth": 0,
             "ticks": ""
            },
            "colorscale": [
             [
              0,
              "#0d0887"
             ],
             [
              0.1111111111111111,
              "#46039f"
             ],
             [
              0.2222222222222222,
              "#7201a8"
             ],
             [
              0.3333333333333333,
              "#9c179e"
             ],
             [
              0.4444444444444444,
              "#bd3786"
             ],
             [
              0.5555555555555556,
              "#d8576b"
             ],
             [
              0.6666666666666666,
              "#ed7953"
             ],
             [
              0.7777777777777778,
              "#fb9f3a"
             ],
             [
              0.8888888888888888,
              "#fdca26"
             ],
             [
              1,
              "#f0f921"
             ]
            ],
            "type": "heatmapgl"
           }
          ],
          "histogram": [
           {
            "marker": {
             "pattern": {
              "fillmode": "overlay",
              "size": 10,
              "solidity": 0.2
             }
            },
            "type": "histogram"
           }
          ],
          "histogram2d": [
           {
            "colorbar": {
             "outlinewidth": 0,
             "ticks": ""
            },
            "colorscale": [
             [
              0,
              "#0d0887"
             ],
             [
              0.1111111111111111,
              "#46039f"
             ],
             [
              0.2222222222222222,
              "#7201a8"
             ],
             [
              0.3333333333333333,
              "#9c179e"
             ],
             [
              0.4444444444444444,
              "#bd3786"
             ],
             [
              0.5555555555555556,
              "#d8576b"
             ],
             [
              0.6666666666666666,
              "#ed7953"
             ],
             [
              0.7777777777777778,
              "#fb9f3a"
             ],
             [
              0.8888888888888888,
              "#fdca26"
             ],
             [
              1,
              "#f0f921"
             ]
            ],
            "type": "histogram2d"
           }
          ],
          "histogram2dcontour": [
           {
            "colorbar": {
             "outlinewidth": 0,
             "ticks": ""
            },
            "colorscale": [
             [
              0,
              "#0d0887"
             ],
             [
              0.1111111111111111,
              "#46039f"
             ],
             [
              0.2222222222222222,
              "#7201a8"
             ],
             [
              0.3333333333333333,
              "#9c179e"
             ],
             [
              0.4444444444444444,
              "#bd3786"
             ],
             [
              0.5555555555555556,
              "#d8576b"
             ],
             [
              0.6666666666666666,
              "#ed7953"
             ],
             [
              0.7777777777777778,
              "#fb9f3a"
             ],
             [
              0.8888888888888888,
              "#fdca26"
             ],
             [
              1,
              "#f0f921"
             ]
            ],
            "type": "histogram2dcontour"
           }
          ],
          "mesh3d": [
           {
            "colorbar": {
             "outlinewidth": 0,
             "ticks": ""
            },
            "type": "mesh3d"
           }
          ],
          "parcoords": [
           {
            "line": {
             "colorbar": {
              "outlinewidth": 0,
              "ticks": ""
             }
            },
            "type": "parcoords"
           }
          ],
          "pie": [
           {
            "automargin": true,
            "type": "pie"
           }
          ],
          "scatter": [
           {
            "fillpattern": {
             "fillmode": "overlay",
             "size": 10,
             "solidity": 0.2
            },
            "type": "scatter"
           }
          ],
          "scatter3d": [
           {
            "line": {
             "colorbar": {
              "outlinewidth": 0,
              "ticks": ""
             }
            },
            "marker": {
             "colorbar": {
              "outlinewidth": 0,
              "ticks": ""
             }
            },
            "type": "scatter3d"
           }
          ],
          "scattercarpet": [
           {
            "marker": {
             "colorbar": {
              "outlinewidth": 0,
              "ticks": ""
             }
            },
            "type": "scattercarpet"
           }
          ],
          "scattergeo": [
           {
            "marker": {
             "colorbar": {
              "outlinewidth": 0,
              "ticks": ""
             }
            },
            "type": "scattergeo"
           }
          ],
          "scattergl": [
           {
            "marker": {
             "colorbar": {
              "outlinewidth": 0,
              "ticks": ""
             }
            },
            "type": "scattergl"
           }
          ],
          "scattermapbox": [
           {
            "marker": {
             "colorbar": {
              "outlinewidth": 0,
              "ticks": ""
             }
            },
            "type": "scattermapbox"
           }
          ],
          "scatterpolar": [
           {
            "marker": {
             "colorbar": {
              "outlinewidth": 0,
              "ticks": ""
             }
            },
            "type": "scatterpolar"
           }
          ],
          "scatterpolargl": [
           {
            "marker": {
             "colorbar": {
              "outlinewidth": 0,
              "ticks": ""
             }
            },
            "type": "scatterpolargl"
           }
          ],
          "scatterternary": [
           {
            "marker": {
             "colorbar": {
              "outlinewidth": 0,
              "ticks": ""
             }
            },
            "type": "scatterternary"
           }
          ],
          "surface": [
           {
            "colorbar": {
             "outlinewidth": 0,
             "ticks": ""
            },
            "colorscale": [
             [
              0,
              "#0d0887"
             ],
             [
              0.1111111111111111,
              "#46039f"
             ],
             [
              0.2222222222222222,
              "#7201a8"
             ],
             [
              0.3333333333333333,
              "#9c179e"
             ],
             [
              0.4444444444444444,
              "#bd3786"
             ],
             [
              0.5555555555555556,
              "#d8576b"
             ],
             [
              0.6666666666666666,
              "#ed7953"
             ],
             [
              0.7777777777777778,
              "#fb9f3a"
             ],
             [
              0.8888888888888888,
              "#fdca26"
             ],
             [
              1,
              "#f0f921"
             ]
            ],
            "type": "surface"
           }
          ],
          "table": [
           {
            "cells": {
             "fill": {
              "color": "#EBF0F8"
             },
             "line": {
              "color": "white"
             }
            },
            "header": {
             "fill": {
              "color": "#C8D4E3"
             },
             "line": {
              "color": "white"
             }
            },
            "type": "table"
           }
          ]
         },
         "layout": {
          "annotationdefaults": {
           "arrowcolor": "#2a3f5f",
           "arrowhead": 0,
           "arrowwidth": 1
          },
          "autotypenumbers": "strict",
          "coloraxis": {
           "colorbar": {
            "outlinewidth": 0,
            "ticks": ""
           }
          },
          "colorscale": {
           "diverging": [
            [
             0,
             "#8e0152"
            ],
            [
             0.1,
             "#c51b7d"
            ],
            [
             0.2,
             "#de77ae"
            ],
            [
             0.3,
             "#f1b6da"
            ],
            [
             0.4,
             "#fde0ef"
            ],
            [
             0.5,
             "#f7f7f7"
            ],
            [
             0.6,
             "#e6f5d0"
            ],
            [
             0.7,
             "#b8e186"
            ],
            [
             0.8,
             "#7fbc41"
            ],
            [
             0.9,
             "#4d9221"
            ],
            [
             1,
             "#276419"
            ]
           ],
           "sequential": [
            [
             0,
             "#0d0887"
            ],
            [
             0.1111111111111111,
             "#46039f"
            ],
            [
             0.2222222222222222,
             "#7201a8"
            ],
            [
             0.3333333333333333,
             "#9c179e"
            ],
            [
             0.4444444444444444,
             "#bd3786"
            ],
            [
             0.5555555555555556,
             "#d8576b"
            ],
            [
             0.6666666666666666,
             "#ed7953"
            ],
            [
             0.7777777777777778,
             "#fb9f3a"
            ],
            [
             0.8888888888888888,
             "#fdca26"
            ],
            [
             1,
             "#f0f921"
            ]
           ],
           "sequentialminus": [
            [
             0,
             "#0d0887"
            ],
            [
             0.1111111111111111,
             "#46039f"
            ],
            [
             0.2222222222222222,
             "#7201a8"
            ],
            [
             0.3333333333333333,
             "#9c179e"
            ],
            [
             0.4444444444444444,
             "#bd3786"
            ],
            [
             0.5555555555555556,
             "#d8576b"
            ],
            [
             0.6666666666666666,
             "#ed7953"
            ],
            [
             0.7777777777777778,
             "#fb9f3a"
            ],
            [
             0.8888888888888888,
             "#fdca26"
            ],
            [
             1,
             "#f0f921"
            ]
           ]
          },
          "colorway": [
           "#636efa",
           "#EF553B",
           "#00cc96",
           "#ab63fa",
           "#FFA15A",
           "#19d3f3",
           "#FF6692",
           "#B6E880",
           "#FF97FF",
           "#FECB52"
          ],
          "font": {
           "color": "#2a3f5f"
          },
          "geo": {
           "bgcolor": "white",
           "lakecolor": "white",
           "landcolor": "#E5ECF6",
           "showlakes": true,
           "showland": true,
           "subunitcolor": "white"
          },
          "hoverlabel": {
           "align": "left"
          },
          "hovermode": "closest",
          "mapbox": {
           "style": "light"
          },
          "paper_bgcolor": "white",
          "plot_bgcolor": "#E5ECF6",
          "polar": {
           "angularaxis": {
            "gridcolor": "white",
            "linecolor": "white",
            "ticks": ""
           },
           "bgcolor": "#E5ECF6",
           "radialaxis": {
            "gridcolor": "white",
            "linecolor": "white",
            "ticks": ""
           }
          },
          "scene": {
           "xaxis": {
            "backgroundcolor": "#E5ECF6",
            "gridcolor": "white",
            "gridwidth": 2,
            "linecolor": "white",
            "showbackground": true,
            "ticks": "",
            "zerolinecolor": "white"
           },
           "yaxis": {
            "backgroundcolor": "#E5ECF6",
            "gridcolor": "white",
            "gridwidth": 2,
            "linecolor": "white",
            "showbackground": true,
            "ticks": "",
            "zerolinecolor": "white"
           },
           "zaxis": {
            "backgroundcolor": "#E5ECF6",
            "gridcolor": "white",
            "gridwidth": 2,
            "linecolor": "white",
            "showbackground": true,
            "ticks": "",
            "zerolinecolor": "white"
           }
          },
          "shapedefaults": {
           "line": {
            "color": "#2a3f5f"
           }
          },
          "ternary": {
           "aaxis": {
            "gridcolor": "white",
            "linecolor": "white",
            "ticks": ""
           },
           "baxis": {
            "gridcolor": "white",
            "linecolor": "white",
            "ticks": ""
           },
           "bgcolor": "#E5ECF6",
           "caxis": {
            "gridcolor": "white",
            "linecolor": "white",
            "ticks": ""
           }
          },
          "title": {
           "x": 0.05
          },
          "xaxis": {
           "automargin": true,
           "gridcolor": "white",
           "linecolor": "white",
           "ticks": "",
           "title": {
            "standoff": 15
           },
           "zerolinecolor": "white",
           "zerolinewidth": 2
          },
          "yaxis": {
           "automargin": true,
           "gridcolor": "white",
           "linecolor": "white",
           "ticks": "",
           "title": {
            "standoff": 15
           },
           "zerolinecolor": "white",
           "zerolinewidth": 2
          }
         }
        },
        "xaxis": {
         "title": {
          "text": "날짜"
         }
        },
        "yaxis": {
         "title": {
          "text": "유동인구 수"
         }
        }
       }
      }
     },
     "metadata": {},
     "output_type": "display_data"
    }
   ],
   "source": [
    "# 'year' 열을 datetime 형식으로 변환\n",
    "df = floating_population_df[['year', '10대', '20대', '30대', '40대', '50대', '60대']].groupby(['year']).sum().reset_index()\n",
    "df['year'] = pd.to_datetime(df['year'])\n",
    "\n",
    "# 'year' 열을 인덱스로 설정\n",
    "df.set_index('year', inplace=True)\n",
    "\n",
    "# Plotly를 사용하여 시간적 패턴 시각화\n",
    "fig = go.Figure()\n",
    "\n",
    "# 각 세대별로 데이터를 추가\n",
    "for column in ['40대', '50대', '60대', '30대', '20대', '10대']:\n",
    "    fig.add_trace(go.Scatter(x=df.index, y=df[column], mode='lines', name=column))\n",
    "# 색상 업데이트\n",
    "colors =px.colors.sequential.Plasma # 컬러맵\n",
    "for i, trace in enumerate(fig.data):\n",
    "    trace.line.color = colors[i % len(colors)]\n",
    "# 레이아웃 설정\n",
    "fig.update_layout(\n",
    "    xaxis_title='날짜',\n",
    "    yaxis_title='유동인구 수',\n",
    "    template='plotly'\n",
    ")\n",
    "\n",
    "# 그래프 표시\n",
    "fig.show()"
   ]
  },
  {
   "cell_type": "code",
   "execution_count": null,
   "metadata": {},
   "outputs": [],
   "source": [
    "# 맵 객체 생성 및 데이터 로드\n",
    "sejong_floatingpop_map = KeplerGl(height=1000, width=1500)\n",
    "sejong_floatingpop_map.add_data(data=sejong_gdf, name=\"세종시 행정동 데이터\")\n",
    "sejong_floatingpop_map.add_data(data=floating_population_df, name=\"세종시 세대별 유동인구 데이터\")\n",
    "\n",
    "# 맵 출력 및 상세설정\n",
    "sejong_floatingpop_map"
   ]
  },
  {
   "cell_type": "code",
   "execution_count": 148,
   "metadata": {},
   "outputs": [
    {
     "name": "stdout",
     "output_type": "stream",
     "text": [
      "Map saved to visualization/세종시 현황/세종시 세대별 유동인구 map.html!\n"
     ]
    }
   ],
   "source": [
    "# 맵 저장\n",
    "sejong_floatingpop_map.save_to_html(file_name=\"visualization/세종시 현황/세종시 세대별 유동인구 map.html\")"
   ]
  },
  {
   "cell_type": "markdown",
   "metadata": {},
   "source": [
    "#### 시간대별 유동인구"
   ]
  },
  {
   "cell_type": "code",
   "execution_count": 87,
   "metadata": {},
   "outputs": [
    {
     "data": {
      "text/html": [
       "<div>\n",
       "<style scoped>\n",
       "    .dataframe tbody tr th:only-of-type {\n",
       "        vertical-align: middle;\n",
       "    }\n",
       "\n",
       "    .dataframe tbody tr th {\n",
       "        vertical-align: top;\n",
       "    }\n",
       "\n",
       "    .dataframe thead th {\n",
       "        text-align: right;\n",
       "    }\n",
       "</style>\n",
       "<table border=\"1\" class=\"dataframe\">\n",
       "  <thead>\n",
       "    <tr style=\"text-align: right;\">\n",
       "      <th></th>\n",
       "      <th>lon</th>\n",
       "      <th>lat</th>\n",
       "      <th>time</th>\n",
       "      <th>population</th>\n",
       "    </tr>\n",
       "  </thead>\n",
       "  <tbody>\n",
       "    <tr>\n",
       "      <th>0</th>\n",
       "      <td>127.128657</td>\n",
       "      <td>36.709346</td>\n",
       "      <td>2020-01-01 00:00</td>\n",
       "      <td>0.000000</td>\n",
       "    </tr>\n",
       "    <tr>\n",
       "      <th>1</th>\n",
       "      <td>127.130339</td>\n",
       "      <td>36.708900</td>\n",
       "      <td>2020-01-01 00:00</td>\n",
       "      <td>0.000000</td>\n",
       "    </tr>\n",
       "    <tr>\n",
       "      <th>2</th>\n",
       "      <td>127.136488</td>\n",
       "      <td>36.710722</td>\n",
       "      <td>2020-01-01 00:00</td>\n",
       "      <td>0.000000</td>\n",
       "    </tr>\n",
       "    <tr>\n",
       "      <th>3</th>\n",
       "      <td>127.136491</td>\n",
       "      <td>36.710271</td>\n",
       "      <td>2020-01-01 00:00</td>\n",
       "      <td>0.000000</td>\n",
       "    </tr>\n",
       "    <tr>\n",
       "      <th>4</th>\n",
       "      <td>127.137046</td>\n",
       "      <td>36.711174</td>\n",
       "      <td>2020-01-01 00:00</td>\n",
       "      <td>0.000000</td>\n",
       "    </tr>\n",
       "    <tr>\n",
       "      <th>...</th>\n",
       "      <td>...</td>\n",
       "      <td>...</td>\n",
       "      <td>...</td>\n",
       "      <td>...</td>\n",
       "    </tr>\n",
       "    <tr>\n",
       "      <th>1771675</th>\n",
       "      <td>127.408820</td>\n",
       "      <td>36.496234</td>\n",
       "      <td>2020-01-01 23:00</td>\n",
       "      <td>0.000000</td>\n",
       "    </tr>\n",
       "    <tr>\n",
       "      <th>1771676</th>\n",
       "      <td>127.408821</td>\n",
       "      <td>36.495783</td>\n",
       "      <td>2020-01-01 23:00</td>\n",
       "      <td>0.003333</td>\n",
       "    </tr>\n",
       "    <tr>\n",
       "      <th>1771677</th>\n",
       "      <td>127.408821</td>\n",
       "      <td>36.495332</td>\n",
       "      <td>2020-01-01 23:00</td>\n",
       "      <td>0.009444</td>\n",
       "    </tr>\n",
       "    <tr>\n",
       "      <th>1771678</th>\n",
       "      <td>127.409379</td>\n",
       "      <td>36.496234</td>\n",
       "      <td>2020-01-01 23:00</td>\n",
       "      <td>0.000000</td>\n",
       "    </tr>\n",
       "    <tr>\n",
       "      <th>1771679</th>\n",
       "      <td>127.409936</td>\n",
       "      <td>36.496685</td>\n",
       "      <td>2020-01-01 23:00</td>\n",
       "      <td>0.000000</td>\n",
       "    </tr>\n",
       "  </tbody>\n",
       "</table>\n",
       "<p>1771680 rows × 4 columns</p>\n",
       "</div>"
      ],
      "text/plain": [
       "                lon        lat              time  population\n",
       "0        127.128657  36.709346  2020-01-01 00:00    0.000000\n",
       "1        127.130339  36.708900  2020-01-01 00:00    0.000000\n",
       "2        127.136488  36.710722  2020-01-01 00:00    0.000000\n",
       "3        127.136491  36.710271  2020-01-01 00:00    0.000000\n",
       "4        127.137046  36.711174  2020-01-01 00:00    0.000000\n",
       "...             ...        ...               ...         ...\n",
       "1771675  127.408820  36.496234  2020-01-01 23:00    0.000000\n",
       "1771676  127.408821  36.495783  2020-01-01 23:00    0.003333\n",
       "1771677  127.408821  36.495332  2020-01-01 23:00    0.009444\n",
       "1771678  127.409379  36.496234  2020-01-01 23:00    0.000000\n",
       "1771679  127.409936  36.496685  2020-01-01 23:00    0.000000\n",
       "\n",
       "[1771680 rows x 4 columns]"
      ]
     },
     "execution_count": 87,
     "metadata": {},
     "output_type": "execute_result"
    }
   ],
   "source": [
    "# 유동인구 df 로드\n",
    "floating_population_df_T = pd.read_csv('SBJ_2406_002/2.세종시_시간대별_유동인구.csv')\n",
    "floating_population_df_T['STD_YM'] = floating_population_df_T['STD_YM'].astype(str)\n",
    "\n",
    "# 열 이름 변경 과정\n",
    "columns_to_rename = floating_population_df_T.columns[1:-2] # 시계열 정보를 포함한 column만 선택\n",
    "new_column_names = []\n",
    "# 각 열 이름을 처리하여 새로운 열 이름을 생성\n",
    "for column_name in columns_to_rename:\n",
    "    numeric_part = column_name.split('_')[-1] # 숫자 부분 추출\n",
    "    new_column_name = f\"2020-01-01 {numeric_part}:00\" # '시'를 붙여 새로운 열 이름 생성\n",
    "    new_column_names.append(new_column_name) # new_column_names에 추가\n",
    "# 열 이름을 변경합니다.\n",
    "floating_population_df_T.rename(columns=dict(zip(columns_to_rename, new_column_names)), inplace=True)\n",
    "floating_population_df_T =floating_population_df_T.iloc[:,1:]\n",
    "floating_population_df_T = floating_population_df_T.groupby(['lon', 'lat']).mean().reset_index()\n",
    "\n",
    "# 시간대별 유동인구 정보를 'timestamp' 형식으로 변환\n",
    "def melt_time_columns(df):\n",
    "    id_vars = ['lon', 'lat']\n",
    "    value_vars = [col for col in df.columns if col not in id_vars]\n",
    "    df_melted = df.melt(id_vars=id_vars, value_vars=value_vars, var_name='time', value_name='population')\n",
    "    return df_melted\n",
    "\n",
    "floating_population_df_T = melt_time_columns(floating_population_df_T)\n",
    "floating_population_df_T"
   ]
  },
  {
   "cell_type": "code",
   "execution_count": 38,
   "metadata": {},
   "outputs": [
    {
     "data": {
      "application/vnd.plotly.v1+json": {
       "config": {
        "plotlyServerURL": "https://plot.ly"
       },
       "data": [
        {
         "line": {
          "color": "#0d0887"
         },
         "mode": "lines",
         "name": "population",
         "type": "scatter",
         "x": [
          "2020-01-01T00:00:00",
          "2020-01-01T01:00:00",
          "2020-01-01T02:00:00",
          "2020-01-01T03:00:00",
          "2020-01-01T04:00:00",
          "2020-01-01T05:00:00",
          "2020-01-01T06:00:00",
          "2020-01-01T07:00:00",
          "2020-01-01T08:00:00",
          "2020-01-01T09:00:00",
          "2020-01-01T10:00:00",
          "2020-01-01T11:00:00",
          "2020-01-01T12:00:00",
          "2020-01-01T13:00:00",
          "2020-01-01T14:00:00",
          "2020-01-01T15:00:00",
          "2020-01-01T16:00:00",
          "2020-01-01T17:00:00",
          "2020-01-01T18:00:00",
          "2020-01-01T19:00:00",
          "2020-01-01T20:00:00",
          "2020-01-01T21:00:00",
          "2020-01-01T22:00:00",
          "2020-01-01T23:00:00"
         ],
         "y": [
          27716.429950251186,
          28774.233134442034,
          17860.87436479305,
          15120.859528820622,
          15248.898144701056,
          27582.601222094538,
          46149.171641537716,
          79975.41759135113,
          114053.14591582147,
          97427.85935395588,
          97381.54903385013,
          108846.65685063259,
          114877.81681334844,
          114899.90727358634,
          113484.59348027401,
          118497.61105618127,
          121697.55671339622,
          128971.81899873144,
          130389.42922741863,
          103600.24284041136,
          83939.64911731902,
          71370.60519917868,
          54933.86498572971,
          39155.28173104684
         ]
        }
       ],
       "layout": {
        "template": {
         "data": {
          "bar": [
           {
            "error_x": {
             "color": "#2a3f5f"
            },
            "error_y": {
             "color": "#2a3f5f"
            },
            "marker": {
             "line": {
              "color": "#E5ECF6",
              "width": 0.5
             },
             "pattern": {
              "fillmode": "overlay",
              "size": 10,
              "solidity": 0.2
             }
            },
            "type": "bar"
           }
          ],
          "barpolar": [
           {
            "marker": {
             "line": {
              "color": "#E5ECF6",
              "width": 0.5
             },
             "pattern": {
              "fillmode": "overlay",
              "size": 10,
              "solidity": 0.2
             }
            },
            "type": "barpolar"
           }
          ],
          "carpet": [
           {
            "aaxis": {
             "endlinecolor": "#2a3f5f",
             "gridcolor": "white",
             "linecolor": "white",
             "minorgridcolor": "white",
             "startlinecolor": "#2a3f5f"
            },
            "baxis": {
             "endlinecolor": "#2a3f5f",
             "gridcolor": "white",
             "linecolor": "white",
             "minorgridcolor": "white",
             "startlinecolor": "#2a3f5f"
            },
            "type": "carpet"
           }
          ],
          "choropleth": [
           {
            "colorbar": {
             "outlinewidth": 0,
             "ticks": ""
            },
            "type": "choropleth"
           }
          ],
          "contour": [
           {
            "colorbar": {
             "outlinewidth": 0,
             "ticks": ""
            },
            "colorscale": [
             [
              0,
              "#0d0887"
             ],
             [
              0.1111111111111111,
              "#46039f"
             ],
             [
              0.2222222222222222,
              "#7201a8"
             ],
             [
              0.3333333333333333,
              "#9c179e"
             ],
             [
              0.4444444444444444,
              "#bd3786"
             ],
             [
              0.5555555555555556,
              "#d8576b"
             ],
             [
              0.6666666666666666,
              "#ed7953"
             ],
             [
              0.7777777777777778,
              "#fb9f3a"
             ],
             [
              0.8888888888888888,
              "#fdca26"
             ],
             [
              1,
              "#f0f921"
             ]
            ],
            "type": "contour"
           }
          ],
          "contourcarpet": [
           {
            "colorbar": {
             "outlinewidth": 0,
             "ticks": ""
            },
            "type": "contourcarpet"
           }
          ],
          "heatmap": [
           {
            "colorbar": {
             "outlinewidth": 0,
             "ticks": ""
            },
            "colorscale": [
             [
              0,
              "#0d0887"
             ],
             [
              0.1111111111111111,
              "#46039f"
             ],
             [
              0.2222222222222222,
              "#7201a8"
             ],
             [
              0.3333333333333333,
              "#9c179e"
             ],
             [
              0.4444444444444444,
              "#bd3786"
             ],
             [
              0.5555555555555556,
              "#d8576b"
             ],
             [
              0.6666666666666666,
              "#ed7953"
             ],
             [
              0.7777777777777778,
              "#fb9f3a"
             ],
             [
              0.8888888888888888,
              "#fdca26"
             ],
             [
              1,
              "#f0f921"
             ]
            ],
            "type": "heatmap"
           }
          ],
          "heatmapgl": [
           {
            "colorbar": {
             "outlinewidth": 0,
             "ticks": ""
            },
            "colorscale": [
             [
              0,
              "#0d0887"
             ],
             [
              0.1111111111111111,
              "#46039f"
             ],
             [
              0.2222222222222222,
              "#7201a8"
             ],
             [
              0.3333333333333333,
              "#9c179e"
             ],
             [
              0.4444444444444444,
              "#bd3786"
             ],
             [
              0.5555555555555556,
              "#d8576b"
             ],
             [
              0.6666666666666666,
              "#ed7953"
             ],
             [
              0.7777777777777778,
              "#fb9f3a"
             ],
             [
              0.8888888888888888,
              "#fdca26"
             ],
             [
              1,
              "#f0f921"
             ]
            ],
            "type": "heatmapgl"
           }
          ],
          "histogram": [
           {
            "marker": {
             "pattern": {
              "fillmode": "overlay",
              "size": 10,
              "solidity": 0.2
             }
            },
            "type": "histogram"
           }
          ],
          "histogram2d": [
           {
            "colorbar": {
             "outlinewidth": 0,
             "ticks": ""
            },
            "colorscale": [
             [
              0,
              "#0d0887"
             ],
             [
              0.1111111111111111,
              "#46039f"
             ],
             [
              0.2222222222222222,
              "#7201a8"
             ],
             [
              0.3333333333333333,
              "#9c179e"
             ],
             [
              0.4444444444444444,
              "#bd3786"
             ],
             [
              0.5555555555555556,
              "#d8576b"
             ],
             [
              0.6666666666666666,
              "#ed7953"
             ],
             [
              0.7777777777777778,
              "#fb9f3a"
             ],
             [
              0.8888888888888888,
              "#fdca26"
             ],
             [
              1,
              "#f0f921"
             ]
            ],
            "type": "histogram2d"
           }
          ],
          "histogram2dcontour": [
           {
            "colorbar": {
             "outlinewidth": 0,
             "ticks": ""
            },
            "colorscale": [
             [
              0,
              "#0d0887"
             ],
             [
              0.1111111111111111,
              "#46039f"
             ],
             [
              0.2222222222222222,
              "#7201a8"
             ],
             [
              0.3333333333333333,
              "#9c179e"
             ],
             [
              0.4444444444444444,
              "#bd3786"
             ],
             [
              0.5555555555555556,
              "#d8576b"
             ],
             [
              0.6666666666666666,
              "#ed7953"
             ],
             [
              0.7777777777777778,
              "#fb9f3a"
             ],
             [
              0.8888888888888888,
              "#fdca26"
             ],
             [
              1,
              "#f0f921"
             ]
            ],
            "type": "histogram2dcontour"
           }
          ],
          "mesh3d": [
           {
            "colorbar": {
             "outlinewidth": 0,
             "ticks": ""
            },
            "type": "mesh3d"
           }
          ],
          "parcoords": [
           {
            "line": {
             "colorbar": {
              "outlinewidth": 0,
              "ticks": ""
             }
            },
            "type": "parcoords"
           }
          ],
          "pie": [
           {
            "automargin": true,
            "type": "pie"
           }
          ],
          "scatter": [
           {
            "fillpattern": {
             "fillmode": "overlay",
             "size": 10,
             "solidity": 0.2
            },
            "type": "scatter"
           }
          ],
          "scatter3d": [
           {
            "line": {
             "colorbar": {
              "outlinewidth": 0,
              "ticks": ""
             }
            },
            "marker": {
             "colorbar": {
              "outlinewidth": 0,
              "ticks": ""
             }
            },
            "type": "scatter3d"
           }
          ],
          "scattercarpet": [
           {
            "marker": {
             "colorbar": {
              "outlinewidth": 0,
              "ticks": ""
             }
            },
            "type": "scattercarpet"
           }
          ],
          "scattergeo": [
           {
            "marker": {
             "colorbar": {
              "outlinewidth": 0,
              "ticks": ""
             }
            },
            "type": "scattergeo"
           }
          ],
          "scattergl": [
           {
            "marker": {
             "colorbar": {
              "outlinewidth": 0,
              "ticks": ""
             }
            },
            "type": "scattergl"
           }
          ],
          "scattermapbox": [
           {
            "marker": {
             "colorbar": {
              "outlinewidth": 0,
              "ticks": ""
             }
            },
            "type": "scattermapbox"
           }
          ],
          "scatterpolar": [
           {
            "marker": {
             "colorbar": {
              "outlinewidth": 0,
              "ticks": ""
             }
            },
            "type": "scatterpolar"
           }
          ],
          "scatterpolargl": [
           {
            "marker": {
             "colorbar": {
              "outlinewidth": 0,
              "ticks": ""
             }
            },
            "type": "scatterpolargl"
           }
          ],
          "scatterternary": [
           {
            "marker": {
             "colorbar": {
              "outlinewidth": 0,
              "ticks": ""
             }
            },
            "type": "scatterternary"
           }
          ],
          "surface": [
           {
            "colorbar": {
             "outlinewidth": 0,
             "ticks": ""
            },
            "colorscale": [
             [
              0,
              "#0d0887"
             ],
             [
              0.1111111111111111,
              "#46039f"
             ],
             [
              0.2222222222222222,
              "#7201a8"
             ],
             [
              0.3333333333333333,
              "#9c179e"
             ],
             [
              0.4444444444444444,
              "#bd3786"
             ],
             [
              0.5555555555555556,
              "#d8576b"
             ],
             [
              0.6666666666666666,
              "#ed7953"
             ],
             [
              0.7777777777777778,
              "#fb9f3a"
             ],
             [
              0.8888888888888888,
              "#fdca26"
             ],
             [
              1,
              "#f0f921"
             ]
            ],
            "type": "surface"
           }
          ],
          "table": [
           {
            "cells": {
             "fill": {
              "color": "#EBF0F8"
             },
             "line": {
              "color": "white"
             }
            },
            "header": {
             "fill": {
              "color": "#C8D4E3"
             },
             "line": {
              "color": "white"
             }
            },
            "type": "table"
           }
          ]
         },
         "layout": {
          "annotationdefaults": {
           "arrowcolor": "#2a3f5f",
           "arrowhead": 0,
           "arrowwidth": 1
          },
          "autotypenumbers": "strict",
          "coloraxis": {
           "colorbar": {
            "outlinewidth": 0,
            "ticks": ""
           }
          },
          "colorscale": {
           "diverging": [
            [
             0,
             "#8e0152"
            ],
            [
             0.1,
             "#c51b7d"
            ],
            [
             0.2,
             "#de77ae"
            ],
            [
             0.3,
             "#f1b6da"
            ],
            [
             0.4,
             "#fde0ef"
            ],
            [
             0.5,
             "#f7f7f7"
            ],
            [
             0.6,
             "#e6f5d0"
            ],
            [
             0.7,
             "#b8e186"
            ],
            [
             0.8,
             "#7fbc41"
            ],
            [
             0.9,
             "#4d9221"
            ],
            [
             1,
             "#276419"
            ]
           ],
           "sequential": [
            [
             0,
             "#0d0887"
            ],
            [
             0.1111111111111111,
             "#46039f"
            ],
            [
             0.2222222222222222,
             "#7201a8"
            ],
            [
             0.3333333333333333,
             "#9c179e"
            ],
            [
             0.4444444444444444,
             "#bd3786"
            ],
            [
             0.5555555555555556,
             "#d8576b"
            ],
            [
             0.6666666666666666,
             "#ed7953"
            ],
            [
             0.7777777777777778,
             "#fb9f3a"
            ],
            [
             0.8888888888888888,
             "#fdca26"
            ],
            [
             1,
             "#f0f921"
            ]
           ],
           "sequentialminus": [
            [
             0,
             "#0d0887"
            ],
            [
             0.1111111111111111,
             "#46039f"
            ],
            [
             0.2222222222222222,
             "#7201a8"
            ],
            [
             0.3333333333333333,
             "#9c179e"
            ],
            [
             0.4444444444444444,
             "#bd3786"
            ],
            [
             0.5555555555555556,
             "#d8576b"
            ],
            [
             0.6666666666666666,
             "#ed7953"
            ],
            [
             0.7777777777777778,
             "#fb9f3a"
            ],
            [
             0.8888888888888888,
             "#fdca26"
            ],
            [
             1,
             "#f0f921"
            ]
           ]
          },
          "colorway": [
           "#636efa",
           "#EF553B",
           "#00cc96",
           "#ab63fa",
           "#FFA15A",
           "#19d3f3",
           "#FF6692",
           "#B6E880",
           "#FF97FF",
           "#FECB52"
          ],
          "font": {
           "color": "#2a3f5f"
          },
          "geo": {
           "bgcolor": "white",
           "lakecolor": "white",
           "landcolor": "#E5ECF6",
           "showlakes": true,
           "showland": true,
           "subunitcolor": "white"
          },
          "hoverlabel": {
           "align": "left"
          },
          "hovermode": "closest",
          "mapbox": {
           "style": "light"
          },
          "paper_bgcolor": "white",
          "plot_bgcolor": "#E5ECF6",
          "polar": {
           "angularaxis": {
            "gridcolor": "white",
            "linecolor": "white",
            "ticks": ""
           },
           "bgcolor": "#E5ECF6",
           "radialaxis": {
            "gridcolor": "white",
            "linecolor": "white",
            "ticks": ""
           }
          },
          "scene": {
           "xaxis": {
            "backgroundcolor": "#E5ECF6",
            "gridcolor": "white",
            "gridwidth": 2,
            "linecolor": "white",
            "showbackground": true,
            "ticks": "",
            "zerolinecolor": "white"
           },
           "yaxis": {
            "backgroundcolor": "#E5ECF6",
            "gridcolor": "white",
            "gridwidth": 2,
            "linecolor": "white",
            "showbackground": true,
            "ticks": "",
            "zerolinecolor": "white"
           },
           "zaxis": {
            "backgroundcolor": "#E5ECF6",
            "gridcolor": "white",
            "gridwidth": 2,
            "linecolor": "white",
            "showbackground": true,
            "ticks": "",
            "zerolinecolor": "white"
           }
          },
          "shapedefaults": {
           "line": {
            "color": "#2a3f5f"
           }
          },
          "ternary": {
           "aaxis": {
            "gridcolor": "white",
            "linecolor": "white",
            "ticks": ""
           },
           "baxis": {
            "gridcolor": "white",
            "linecolor": "white",
            "ticks": ""
           },
           "bgcolor": "#E5ECF6",
           "caxis": {
            "gridcolor": "white",
            "linecolor": "white",
            "ticks": ""
           }
          },
          "title": {
           "x": 0.05
          },
          "xaxis": {
           "automargin": true,
           "gridcolor": "white",
           "linecolor": "white",
           "ticks": "",
           "title": {
            "standoff": 15
           },
           "zerolinecolor": "white",
           "zerolinewidth": 2
          },
          "yaxis": {
           "automargin": true,
           "gridcolor": "white",
           "linecolor": "white",
           "ticks": "",
           "title": {
            "standoff": 15
           },
           "zerolinecolor": "white",
           "zerolinewidth": 2
          }
         }
        },
        "xaxis": {
         "title": {
          "text": "시간대"
         }
        },
        "yaxis": {
         "title": {
          "text": "유동인구 수"
         }
        }
       }
      }
     },
     "metadata": {},
     "output_type": "display_data"
    }
   ],
   "source": [
    "# 'year' 열을 datetime 형식으로 변환\n",
    "df = floating_population_df_T[['time', 'population']].groupby('time').sum().reset_index()\n",
    "df['time'] = pd.to_datetime(df['time'])\n",
    "\n",
    "# 'time' 열을 인덱스로 설정\n",
    "df.set_index('time', inplace=True)\n",
    "\n",
    "# Plotly를 사용하여 시간적 패턴 시각화\n",
    "fig = go.Figure()\n",
    "fig.add_trace(go.Scatter(x=df.index, y=df['population'], mode='lines', name='population'))\n",
    "# 색상 업데이트\n",
    "colors =px.colors.sequential.Plasma # 컬러맵\n",
    "for i, trace in enumerate(fig.data):\n",
    "    trace.line.color = colors[i % len(colors)]\n",
    "# 레이아웃 설정\n",
    "fig.update_layout(\n",
    "    xaxis_title='시간대',\n",
    "    yaxis_title='유동인구 수',\n",
    "    template='plotly'\n",
    ")\n",
    "\n",
    "# 그래프 표시\n",
    "fig.show()"
   ]
  },
  {
   "cell_type": "code",
   "execution_count": null,
   "metadata": {},
   "outputs": [],
   "source": [
    "# 맵 객체 생성 및 데이터 로드\n",
    "sejong_floatingpop_T_map = KeplerGl(height=1000, width=1500)\n",
    "sejong_floatingpop_T_map.add_data(data=sejong_gdf, name=\"영등포구 행정동 데이터\")\n",
    "sejong_floatingpop_T_map.add_data(data=floating_population_df_T, name=\"영등포구 시간대별 유동인구 데이터\")\n",
    "\n",
    "# 맵 출력 및 상세설정\n",
    "sejong_floatingpop_T_map"
   ]
  },
  {
   "cell_type": "code",
   "execution_count": 23,
   "metadata": {},
   "outputs": [
    {
     "name": "stdout",
     "output_type": "stream",
     "text": [
      "Map saved to visualization/세종시 현황/세종시 시간대별 유동인구 map.html!\n"
     ]
    }
   ],
   "source": [
    "# 맵 저장\n",
    "sejong_floatingpop_T_map.save_to_html(file_name=\"visualization/세종시 현황/세종시 시간대별 유동인구 map.html\")"
   ]
  },
  {
   "cell_type": "markdown",
   "metadata": {},
   "source": [
    "#### 신도시 부분만 나타내기"
   ]
  },
  {
   "cell_type": "code",
   "execution_count": null,
   "metadata": {},
   "outputs": [],
   "source": [
    "# 공간 조인 수행\n",
    "floating_population_df_T = geo_transform(floating_population_df_T)\n",
    "joined_df = gpd.sjoin(floating_population_df_T, sejong_gdf, how='inner', op='intersects')\n",
    "\n",
    "# 연도별로 행정구역의 인구수를 합산\n",
    "sejong_floatingpop_T_gdf = joined_df.groupby(['time', 'newtown', 'geometry']).agg({'population': 'sum'}).reset_index()\n",
    "sejong_floatingpop_T_gdf = sejong_floatingpop_T_gdf[sejong_floatingpop_T_gdf['newtown'] == '신도시']\n",
    "sejong_floatingpop_T_gdf = gpd.GeoDataFrame(sejong_floatingpop_T_gdf, geometry='geometry')"
   ]
  },
  {
   "cell_type": "code",
   "execution_count": null,
   "metadata": {},
   "outputs": [],
   "source": [
    "# 맵 객체 생성 및 데이터 로드\n",
    "sejong_floatingpop_T_map_NT = KeplerGl(height=1000, width=1500)\n",
    "sejong_floatingpop_T_map_NT.add_data(data=sejong_gdf, name=\"영등포구 행정동 데이터\")\n",
    "sejong_floatingpop_T_map_NT.add_data(data=sejong_floatingpop_T_gdf, name=\"영등포구 시간대별 유동인구 데이터\")\n",
    "\n",
    "# 맵 출력 및 상세설정\n",
    "sejong_floatingpop_T_map_NT"
   ]
  },
  {
   "cell_type": "code",
   "execution_count": 61,
   "metadata": {},
   "outputs": [
    {
     "name": "stdout",
     "output_type": "stream",
     "text": [
      "Map saved to visualization/세종시 현황/세종시(신도시) 시간대별 유동인구 map.html!\n"
     ]
    }
   ],
   "source": [
    "# 맵 저장\n",
    "sejong_floatingpop_T_map_NT.save_to_html(file_name=\"visualization/세종시 현황/세종시(신도시) 시간대별 유동인구 map.html\")"
   ]
  },
  {
   "cell_type": "markdown",
   "metadata": {},
   "source": [
    "#### 요일별 유동인구"
   ]
  },
  {
   "cell_type": "code",
   "execution_count": 65,
   "metadata": {},
   "outputs": [
    {
     "data": {
      "text/html": [
       "<div>\n",
       "<style scoped>\n",
       "    .dataframe tbody tr th:only-of-type {\n",
       "        vertical-align: middle;\n",
       "    }\n",
       "\n",
       "    .dataframe tbody tr th {\n",
       "        vertical-align: top;\n",
       "    }\n",
       "\n",
       "    .dataframe thead th {\n",
       "        text-align: right;\n",
       "    }\n",
       "</style>\n",
       "<table border=\"1\" class=\"dataframe\">\n",
       "  <thead>\n",
       "    <tr style=\"text-align: right;\">\n",
       "      <th></th>\n",
       "      <th>lon</th>\n",
       "      <th>lat</th>\n",
       "      <th>day_type</th>\n",
       "      <th>population</th>\n",
       "    </tr>\n",
       "  </thead>\n",
       "  <tbody>\n",
       "    <tr>\n",
       "      <th>0</th>\n",
       "      <td>127.128100</td>\n",
       "      <td>36.708893</td>\n",
       "      <td>1</td>\n",
       "      <td>0.036000</td>\n",
       "    </tr>\n",
       "    <tr>\n",
       "      <th>1</th>\n",
       "      <td>127.128657</td>\n",
       "      <td>36.709346</td>\n",
       "      <td>1</td>\n",
       "      <td>0.079800</td>\n",
       "    </tr>\n",
       "    <tr>\n",
       "      <th>2</th>\n",
       "      <td>127.129215</td>\n",
       "      <td>36.709798</td>\n",
       "      <td>1</td>\n",
       "      <td>0.073667</td>\n",
       "    </tr>\n",
       "    <tr>\n",
       "      <th>3</th>\n",
       "      <td>127.129775</td>\n",
       "      <td>36.709800</td>\n",
       "      <td>1</td>\n",
       "      <td>0.040000</td>\n",
       "    </tr>\n",
       "    <tr>\n",
       "      <th>4</th>\n",
       "      <td>127.130335</td>\n",
       "      <td>36.709802</td>\n",
       "      <td>1</td>\n",
       "      <td>0.077200</td>\n",
       "    </tr>\n",
       "    <tr>\n",
       "      <th>...</th>\n",
       "      <td>...</td>\n",
       "      <td>...</td>\n",
       "      <td>...</td>\n",
       "      <td>...</td>\n",
       "    </tr>\n",
       "    <tr>\n",
       "      <th>164425</th>\n",
       "      <td>127.408821</td>\n",
       "      <td>36.495332</td>\n",
       "      <td>2</td>\n",
       "      <td>1.252639</td>\n",
       "    </tr>\n",
       "    <tr>\n",
       "      <th>164426</th>\n",
       "      <td>127.409378</td>\n",
       "      <td>36.496685</td>\n",
       "      <td>2</td>\n",
       "      <td>0.061250</td>\n",
       "    </tr>\n",
       "    <tr>\n",
       "      <th>164427</th>\n",
       "      <td>127.409379</td>\n",
       "      <td>36.496234</td>\n",
       "      <td>2</td>\n",
       "      <td>0.136667</td>\n",
       "    </tr>\n",
       "    <tr>\n",
       "      <th>164428</th>\n",
       "      <td>127.409936</td>\n",
       "      <td>36.496685</td>\n",
       "      <td>2</td>\n",
       "      <td>0.164375</td>\n",
       "    </tr>\n",
       "    <tr>\n",
       "      <th>164429</th>\n",
       "      <td>127.410494</td>\n",
       "      <td>36.497136</td>\n",
       "      <td>2</td>\n",
       "      <td>0.009444</td>\n",
       "    </tr>\n",
       "  </tbody>\n",
       "</table>\n",
       "<p>164430 rows × 4 columns</p>\n",
       "</div>"
      ],
      "text/plain": [
       "               lon        lat day_type  population\n",
       "0       127.128100  36.708893        1    0.036000\n",
       "1       127.128657  36.709346        1    0.079800\n",
       "2       127.129215  36.709798        1    0.073667\n",
       "3       127.129775  36.709800        1    0.040000\n",
       "4       127.130335  36.709802        1    0.077200\n",
       "...            ...        ...      ...         ...\n",
       "164425  127.408821  36.495332        2    1.252639\n",
       "164426  127.409378  36.496685        2    0.061250\n",
       "164427  127.409379  36.496234        2    0.136667\n",
       "164428  127.409936  36.496685        2    0.164375\n",
       "164429  127.410494  36.497136        2    0.009444\n",
       "\n",
       "[164430 rows x 4 columns]"
      ]
     },
     "execution_count": 65,
     "metadata": {},
     "output_type": "execute_result"
    }
   ],
   "source": [
    "floating_population_df_D = pd.read_csv('SBJ_2406_002/3.세종시_요일별_유동인구.csv')\n",
    "\n",
    "floating_population_df_D['STD_YM'] = floating_population_df_D['STD_YM'].astype(str)\n",
    "floating_population_df_D['STD_YM'] = floating_population_df_D['STD_YM'].apply(lambda x:x[:4])\n",
    "\n",
    "# 열 이름 변경 과정\n",
    "columns_to_rename = floating_population_df_D.columns[1:-2] # 시계열 정보를 포함한 column만 선택\n",
    "new_column_names = []\n",
    "# 각 열 이름을 처리하여 새로운 열 이름을 생성\n",
    "for column_name in columns_to_rename:\n",
    "    day_part = column_name.split('_')[0] # 숫자 부분 추출\n",
    "    new_column_names.append(day_part) # new_column_names에 추가\n",
    "# 열 이름을 변경합니다.\n",
    "floating_population_df_D.rename(columns=dict(zip(columns_to_rename, new_column_names)), inplace=True)\n",
    "floating_population_df_D =floating_population_df_D.iloc[:,1:]\n",
    "floating_population_df_D = floating_population_df_D.groupby(['lon', 'lat']).mean().reset_index()\n",
    "floating_population_df_cor = floating_population_df_D.copy()\n",
    "\n",
    "# 평일 및 주말 평균 계산\n",
    "def calculate_weekday_weekend_means(df):\n",
    "    # 평일 평균 = 1\n",
    "    df['1'] = df[['mon', 'tue', 'wed', 'thu', 'fri']].mean(axis=1)\n",
    "    # 주말 평균 = 2\n",
    "    df['2'] = df[['sat', 'sun']].mean(axis=1)\n",
    "    return df[['lon', 'lat', '1', '2']]\n",
    "\n",
    "floating_population_df_D = calculate_weekday_weekend_means(floating_population_df_D)\n",
    "\n",
    "# long 형식으로 변환\n",
    "floating_population_df_D = floating_population_df_D.melt(\n",
    "    id_vars=['lon', 'lat'],\n",
    "    value_vars=['1', '2'],\n",
    "    var_name='day_type',\n",
    "    value_name='population'\n",
    ")\n",
    "\n",
    "floating_population_df_D"
   ]
  },
  {
   "cell_type": "markdown",
   "metadata": {},
   "source": [
    "##### 요일별 유동인구의 상관관계 분석"
   ]
  },
  {
   "cell_type": "code",
   "execution_count": 88,
   "metadata": {},
   "outputs": [
    {
     "data": {
      "application/vnd.plotly.v1+json": {
       "config": {
        "plotlyServerURL": "https://plot.ly"
       },
       "data": [
        {
         "line": {
          "color": "#0d0887"
         },
         "mode": "lines",
         "name": "population",
         "type": "scatter",
         "x": [
          "mon",
          "tue",
          "wed",
          "thu",
          "fri",
          "sat",
          "sun"
         ],
         "y": [
          1862516.9326784757,
          1882946.749655529,
          1891323.4816704772,
          1905014.1272971937,
          1989871.0622098667,
          1880629.8968567804,
          1643079.9505471855
         ]
        }
       ],
       "layout": {
        "template": {
         "data": {
          "bar": [
           {
            "error_x": {
             "color": "#2a3f5f"
            },
            "error_y": {
             "color": "#2a3f5f"
            },
            "marker": {
             "line": {
              "color": "#E5ECF6",
              "width": 0.5
             },
             "pattern": {
              "fillmode": "overlay",
              "size": 10,
              "solidity": 0.2
             }
            },
            "type": "bar"
           }
          ],
          "barpolar": [
           {
            "marker": {
             "line": {
              "color": "#E5ECF6",
              "width": 0.5
             },
             "pattern": {
              "fillmode": "overlay",
              "size": 10,
              "solidity": 0.2
             }
            },
            "type": "barpolar"
           }
          ],
          "carpet": [
           {
            "aaxis": {
             "endlinecolor": "#2a3f5f",
             "gridcolor": "white",
             "linecolor": "white",
             "minorgridcolor": "white",
             "startlinecolor": "#2a3f5f"
            },
            "baxis": {
             "endlinecolor": "#2a3f5f",
             "gridcolor": "white",
             "linecolor": "white",
             "minorgridcolor": "white",
             "startlinecolor": "#2a3f5f"
            },
            "type": "carpet"
           }
          ],
          "choropleth": [
           {
            "colorbar": {
             "outlinewidth": 0,
             "ticks": ""
            },
            "type": "choropleth"
           }
          ],
          "contour": [
           {
            "colorbar": {
             "outlinewidth": 0,
             "ticks": ""
            },
            "colorscale": [
             [
              0,
              "#0d0887"
             ],
             [
              0.1111111111111111,
              "#46039f"
             ],
             [
              0.2222222222222222,
              "#7201a8"
             ],
             [
              0.3333333333333333,
              "#9c179e"
             ],
             [
              0.4444444444444444,
              "#bd3786"
             ],
             [
              0.5555555555555556,
              "#d8576b"
             ],
             [
              0.6666666666666666,
              "#ed7953"
             ],
             [
              0.7777777777777778,
              "#fb9f3a"
             ],
             [
              0.8888888888888888,
              "#fdca26"
             ],
             [
              1,
              "#f0f921"
             ]
            ],
            "type": "contour"
           }
          ],
          "contourcarpet": [
           {
            "colorbar": {
             "outlinewidth": 0,
             "ticks": ""
            },
            "type": "contourcarpet"
           }
          ],
          "heatmap": [
           {
            "colorbar": {
             "outlinewidth": 0,
             "ticks": ""
            },
            "colorscale": [
             [
              0,
              "#0d0887"
             ],
             [
              0.1111111111111111,
              "#46039f"
             ],
             [
              0.2222222222222222,
              "#7201a8"
             ],
             [
              0.3333333333333333,
              "#9c179e"
             ],
             [
              0.4444444444444444,
              "#bd3786"
             ],
             [
              0.5555555555555556,
              "#d8576b"
             ],
             [
              0.6666666666666666,
              "#ed7953"
             ],
             [
              0.7777777777777778,
              "#fb9f3a"
             ],
             [
              0.8888888888888888,
              "#fdca26"
             ],
             [
              1,
              "#f0f921"
             ]
            ],
            "type": "heatmap"
           }
          ],
          "heatmapgl": [
           {
            "colorbar": {
             "outlinewidth": 0,
             "ticks": ""
            },
            "colorscale": [
             [
              0,
              "#0d0887"
             ],
             [
              0.1111111111111111,
              "#46039f"
             ],
             [
              0.2222222222222222,
              "#7201a8"
             ],
             [
              0.3333333333333333,
              "#9c179e"
             ],
             [
              0.4444444444444444,
              "#bd3786"
             ],
             [
              0.5555555555555556,
              "#d8576b"
             ],
             [
              0.6666666666666666,
              "#ed7953"
             ],
             [
              0.7777777777777778,
              "#fb9f3a"
             ],
             [
              0.8888888888888888,
              "#fdca26"
             ],
             [
              1,
              "#f0f921"
             ]
            ],
            "type": "heatmapgl"
           }
          ],
          "histogram": [
           {
            "marker": {
             "pattern": {
              "fillmode": "overlay",
              "size": 10,
              "solidity": 0.2
             }
            },
            "type": "histogram"
           }
          ],
          "histogram2d": [
           {
            "colorbar": {
             "outlinewidth": 0,
             "ticks": ""
            },
            "colorscale": [
             [
              0,
              "#0d0887"
             ],
             [
              0.1111111111111111,
              "#46039f"
             ],
             [
              0.2222222222222222,
              "#7201a8"
             ],
             [
              0.3333333333333333,
              "#9c179e"
             ],
             [
              0.4444444444444444,
              "#bd3786"
             ],
             [
              0.5555555555555556,
              "#d8576b"
             ],
             [
              0.6666666666666666,
              "#ed7953"
             ],
             [
              0.7777777777777778,
              "#fb9f3a"
             ],
             [
              0.8888888888888888,
              "#fdca26"
             ],
             [
              1,
              "#f0f921"
             ]
            ],
            "type": "histogram2d"
           }
          ],
          "histogram2dcontour": [
           {
            "colorbar": {
             "outlinewidth": 0,
             "ticks": ""
            },
            "colorscale": [
             [
              0,
              "#0d0887"
             ],
             [
              0.1111111111111111,
              "#46039f"
             ],
             [
              0.2222222222222222,
              "#7201a8"
             ],
             [
              0.3333333333333333,
              "#9c179e"
             ],
             [
              0.4444444444444444,
              "#bd3786"
             ],
             [
              0.5555555555555556,
              "#d8576b"
             ],
             [
              0.6666666666666666,
              "#ed7953"
             ],
             [
              0.7777777777777778,
              "#fb9f3a"
             ],
             [
              0.8888888888888888,
              "#fdca26"
             ],
             [
              1,
              "#f0f921"
             ]
            ],
            "type": "histogram2dcontour"
           }
          ],
          "mesh3d": [
           {
            "colorbar": {
             "outlinewidth": 0,
             "ticks": ""
            },
            "type": "mesh3d"
           }
          ],
          "parcoords": [
           {
            "line": {
             "colorbar": {
              "outlinewidth": 0,
              "ticks": ""
             }
            },
            "type": "parcoords"
           }
          ],
          "pie": [
           {
            "automargin": true,
            "type": "pie"
           }
          ],
          "scatter": [
           {
            "fillpattern": {
             "fillmode": "overlay",
             "size": 10,
             "solidity": 0.2
            },
            "type": "scatter"
           }
          ],
          "scatter3d": [
           {
            "line": {
             "colorbar": {
              "outlinewidth": 0,
              "ticks": ""
             }
            },
            "marker": {
             "colorbar": {
              "outlinewidth": 0,
              "ticks": ""
             }
            },
            "type": "scatter3d"
           }
          ],
          "scattercarpet": [
           {
            "marker": {
             "colorbar": {
              "outlinewidth": 0,
              "ticks": ""
             }
            },
            "type": "scattercarpet"
           }
          ],
          "scattergeo": [
           {
            "marker": {
             "colorbar": {
              "outlinewidth": 0,
              "ticks": ""
             }
            },
            "type": "scattergeo"
           }
          ],
          "scattergl": [
           {
            "marker": {
             "colorbar": {
              "outlinewidth": 0,
              "ticks": ""
             }
            },
            "type": "scattergl"
           }
          ],
          "scattermapbox": [
           {
            "marker": {
             "colorbar": {
              "outlinewidth": 0,
              "ticks": ""
             }
            },
            "type": "scattermapbox"
           }
          ],
          "scatterpolar": [
           {
            "marker": {
             "colorbar": {
              "outlinewidth": 0,
              "ticks": ""
             }
            },
            "type": "scatterpolar"
           }
          ],
          "scatterpolargl": [
           {
            "marker": {
             "colorbar": {
              "outlinewidth": 0,
              "ticks": ""
             }
            },
            "type": "scatterpolargl"
           }
          ],
          "scatterternary": [
           {
            "marker": {
             "colorbar": {
              "outlinewidth": 0,
              "ticks": ""
             }
            },
            "type": "scatterternary"
           }
          ],
          "surface": [
           {
            "colorbar": {
             "outlinewidth": 0,
             "ticks": ""
            },
            "colorscale": [
             [
              0,
              "#0d0887"
             ],
             [
              0.1111111111111111,
              "#46039f"
             ],
             [
              0.2222222222222222,
              "#7201a8"
             ],
             [
              0.3333333333333333,
              "#9c179e"
             ],
             [
              0.4444444444444444,
              "#bd3786"
             ],
             [
              0.5555555555555556,
              "#d8576b"
             ],
             [
              0.6666666666666666,
              "#ed7953"
             ],
             [
              0.7777777777777778,
              "#fb9f3a"
             ],
             [
              0.8888888888888888,
              "#fdca26"
             ],
             [
              1,
              "#f0f921"
             ]
            ],
            "type": "surface"
           }
          ],
          "table": [
           {
            "cells": {
             "fill": {
              "color": "#EBF0F8"
             },
             "line": {
              "color": "white"
             }
            },
            "header": {
             "fill": {
              "color": "#C8D4E3"
             },
             "line": {
              "color": "white"
             }
            },
            "type": "table"
           }
          ]
         },
         "layout": {
          "annotationdefaults": {
           "arrowcolor": "#2a3f5f",
           "arrowhead": 0,
           "arrowwidth": 1
          },
          "autotypenumbers": "strict",
          "coloraxis": {
           "colorbar": {
            "outlinewidth": 0,
            "ticks": ""
           }
          },
          "colorscale": {
           "diverging": [
            [
             0,
             "#8e0152"
            ],
            [
             0.1,
             "#c51b7d"
            ],
            [
             0.2,
             "#de77ae"
            ],
            [
             0.3,
             "#f1b6da"
            ],
            [
             0.4,
             "#fde0ef"
            ],
            [
             0.5,
             "#f7f7f7"
            ],
            [
             0.6,
             "#e6f5d0"
            ],
            [
             0.7,
             "#b8e186"
            ],
            [
             0.8,
             "#7fbc41"
            ],
            [
             0.9,
             "#4d9221"
            ],
            [
             1,
             "#276419"
            ]
           ],
           "sequential": [
            [
             0,
             "#0d0887"
            ],
            [
             0.1111111111111111,
             "#46039f"
            ],
            [
             0.2222222222222222,
             "#7201a8"
            ],
            [
             0.3333333333333333,
             "#9c179e"
            ],
            [
             0.4444444444444444,
             "#bd3786"
            ],
            [
             0.5555555555555556,
             "#d8576b"
            ],
            [
             0.6666666666666666,
             "#ed7953"
            ],
            [
             0.7777777777777778,
             "#fb9f3a"
            ],
            [
             0.8888888888888888,
             "#fdca26"
            ],
            [
             1,
             "#f0f921"
            ]
           ],
           "sequentialminus": [
            [
             0,
             "#0d0887"
            ],
            [
             0.1111111111111111,
             "#46039f"
            ],
            [
             0.2222222222222222,
             "#7201a8"
            ],
            [
             0.3333333333333333,
             "#9c179e"
            ],
            [
             0.4444444444444444,
             "#bd3786"
            ],
            [
             0.5555555555555556,
             "#d8576b"
            ],
            [
             0.6666666666666666,
             "#ed7953"
            ],
            [
             0.7777777777777778,
             "#fb9f3a"
            ],
            [
             0.8888888888888888,
             "#fdca26"
            ],
            [
             1,
             "#f0f921"
            ]
           ]
          },
          "colorway": [
           "#636efa",
           "#EF553B",
           "#00cc96",
           "#ab63fa",
           "#FFA15A",
           "#19d3f3",
           "#FF6692",
           "#B6E880",
           "#FF97FF",
           "#FECB52"
          ],
          "font": {
           "color": "#2a3f5f"
          },
          "geo": {
           "bgcolor": "white",
           "lakecolor": "white",
           "landcolor": "#E5ECF6",
           "showlakes": true,
           "showland": true,
           "subunitcolor": "white"
          },
          "hoverlabel": {
           "align": "left"
          },
          "hovermode": "closest",
          "mapbox": {
           "style": "light"
          },
          "paper_bgcolor": "white",
          "plot_bgcolor": "#E5ECF6",
          "polar": {
           "angularaxis": {
            "gridcolor": "white",
            "linecolor": "white",
            "ticks": ""
           },
           "bgcolor": "#E5ECF6",
           "radialaxis": {
            "gridcolor": "white",
            "linecolor": "white",
            "ticks": ""
           }
          },
          "scene": {
           "xaxis": {
            "backgroundcolor": "#E5ECF6",
            "gridcolor": "white",
            "gridwidth": 2,
            "linecolor": "white",
            "showbackground": true,
            "ticks": "",
            "zerolinecolor": "white"
           },
           "yaxis": {
            "backgroundcolor": "#E5ECF6",
            "gridcolor": "white",
            "gridwidth": 2,
            "linecolor": "white",
            "showbackground": true,
            "ticks": "",
            "zerolinecolor": "white"
           },
           "zaxis": {
            "backgroundcolor": "#E5ECF6",
            "gridcolor": "white",
            "gridwidth": 2,
            "linecolor": "white",
            "showbackground": true,
            "ticks": "",
            "zerolinecolor": "white"
           }
          },
          "shapedefaults": {
           "line": {
            "color": "#2a3f5f"
           }
          },
          "ternary": {
           "aaxis": {
            "gridcolor": "white",
            "linecolor": "white",
            "ticks": ""
           },
           "baxis": {
            "gridcolor": "white",
            "linecolor": "white",
            "ticks": ""
           },
           "bgcolor": "#E5ECF6",
           "caxis": {
            "gridcolor": "white",
            "linecolor": "white",
            "ticks": ""
           }
          },
          "title": {
           "x": 0.05
          },
          "xaxis": {
           "automargin": true,
           "gridcolor": "white",
           "linecolor": "white",
           "ticks": "",
           "title": {
            "standoff": 15
           },
           "zerolinecolor": "white",
           "zerolinewidth": 2
          },
          "yaxis": {
           "automargin": true,
           "gridcolor": "white",
           "linecolor": "white",
           "ticks": "",
           "title": {
            "standoff": 15
           },
           "zerolinecolor": "white",
           "zerolinewidth": 2
          }
         }
        },
        "xaxis": {
         "title": {
          "text": "요일"
         }
        },
        "yaxis": {
         "title": {
          "text": "유동인구 수"
         }
        }
       }
      }
     },
     "metadata": {},
     "output_type": "display_data"
    }
   ],
   "source": [
    "# 'year' 열을 datetime 형식으로 변환\n",
    "df = floating_population_df_cor[['mon', 'tue', 'wed', 'thu', 'fri', 'sat', 'sun']].sum().reset_index()\n",
    "\n",
    "# 'time' 열을 인덱스로 설정\n",
    "df.set_index('index', inplace=True)\n",
    "\n",
    "# Plotly를 사용하여 시간적 패턴 시각화\n",
    "fig = go.Figure()\n",
    "fig.add_trace(go.Scatter(x=df.index, y=df[0], mode='lines', name='population'))\n",
    "# 색상 업데이트\n",
    "colors =px.colors.sequential.Plasma # 컬러맵\n",
    "for i, trace in enumerate(fig.data):\n",
    "    trace.line.color = colors[i % len(colors)]\n",
    "# 레이아웃 설정\n",
    "fig.update_layout(\n",
    "    xaxis_title='요일',\n",
    "    yaxis_title='유동인구 수',\n",
    "    template='plotly'\n",
    ")\n",
    "\n",
    "# 그래프 표시\n",
    "fig.show()"
   ]
  },
  {
   "cell_type": "code",
   "execution_count": 89,
   "metadata": {},
   "outputs": [
    {
     "data": {
      "text/html": [
       "<div>\n",
       "<style scoped>\n",
       "    .dataframe tbody tr th:only-of-type {\n",
       "        vertical-align: middle;\n",
       "    }\n",
       "\n",
       "    .dataframe tbody tr th {\n",
       "        vertical-align: top;\n",
       "    }\n",
       "\n",
       "    .dataframe thead th {\n",
       "        text-align: right;\n",
       "    }\n",
       "</style>\n",
       "<table border=\"1\" class=\"dataframe\">\n",
       "  <thead>\n",
       "    <tr style=\"text-align: right;\">\n",
       "      <th></th>\n",
       "      <th>mon</th>\n",
       "      <th>tue</th>\n",
       "      <th>wed</th>\n",
       "      <th>thu</th>\n",
       "      <th>fri</th>\n",
       "      <th>sat</th>\n",
       "      <th>sun</th>\n",
       "    </tr>\n",
       "  </thead>\n",
       "  <tbody>\n",
       "    <tr>\n",
       "      <th>mon</th>\n",
       "      <td>1.000000</td>\n",
       "      <td>0.999209</td>\n",
       "      <td>0.999462</td>\n",
       "      <td>0.999414</td>\n",
       "      <td>0.998362</td>\n",
       "      <td>0.927462</td>\n",
       "      <td>0.929759</td>\n",
       "    </tr>\n",
       "    <tr>\n",
       "      <th>tue</th>\n",
       "      <td>0.999209</td>\n",
       "      <td>1.000000</td>\n",
       "      <td>0.999641</td>\n",
       "      <td>0.999768</td>\n",
       "      <td>0.996923</td>\n",
       "      <td>0.917737</td>\n",
       "      <td>0.921486</td>\n",
       "    </tr>\n",
       "    <tr>\n",
       "      <th>wed</th>\n",
       "      <td>0.999462</td>\n",
       "      <td>0.999641</td>\n",
       "      <td>1.000000</td>\n",
       "      <td>0.999652</td>\n",
       "      <td>0.997275</td>\n",
       "      <td>0.923979</td>\n",
       "      <td>0.927455</td>\n",
       "    </tr>\n",
       "    <tr>\n",
       "      <th>thu</th>\n",
       "      <td>0.999414</td>\n",
       "      <td>0.999768</td>\n",
       "      <td>0.999652</td>\n",
       "      <td>1.000000</td>\n",
       "      <td>0.997899</td>\n",
       "      <td>0.920070</td>\n",
       "      <td>0.923005</td>\n",
       "    </tr>\n",
       "    <tr>\n",
       "      <th>fri</th>\n",
       "      <td>0.998362</td>\n",
       "      <td>0.996923</td>\n",
       "      <td>0.997275</td>\n",
       "      <td>0.997899</td>\n",
       "      <td>1.000000</td>\n",
       "      <td>0.933622</td>\n",
       "      <td>0.933926</td>\n",
       "    </tr>\n",
       "    <tr>\n",
       "      <th>sat</th>\n",
       "      <td>0.927462</td>\n",
       "      <td>0.917737</td>\n",
       "      <td>0.923979</td>\n",
       "      <td>0.920070</td>\n",
       "      <td>0.933622</td>\n",
       "      <td>1.000000</td>\n",
       "      <td>0.989952</td>\n",
       "    </tr>\n",
       "    <tr>\n",
       "      <th>sun</th>\n",
       "      <td>0.929759</td>\n",
       "      <td>0.921486</td>\n",
       "      <td>0.927455</td>\n",
       "      <td>0.923005</td>\n",
       "      <td>0.933926</td>\n",
       "      <td>0.989952</td>\n",
       "      <td>1.000000</td>\n",
       "    </tr>\n",
       "  </tbody>\n",
       "</table>\n",
       "</div>"
      ],
      "text/plain": [
       "          mon       tue       wed       thu       fri       sat       sun\n",
       "mon  1.000000  0.999209  0.999462  0.999414  0.998362  0.927462  0.929759\n",
       "tue  0.999209  1.000000  0.999641  0.999768  0.996923  0.917737  0.921486\n",
       "wed  0.999462  0.999641  1.000000  0.999652  0.997275  0.923979  0.927455\n",
       "thu  0.999414  0.999768  0.999652  1.000000  0.997899  0.920070  0.923005\n",
       "fri  0.998362  0.996923  0.997275  0.997899  1.000000  0.933622  0.933926\n",
       "sat  0.927462  0.917737  0.923979  0.920070  0.933622  1.000000  0.989952\n",
       "sun  0.929759  0.921486  0.927455  0.923005  0.933926  0.989952  1.000000"
      ]
     },
     "execution_count": 89,
     "metadata": {},
     "output_type": "execute_result"
    }
   ],
   "source": [
    "# 상관계수 계산\n",
    "correlation_matrix3 = floating_population_df_cor[['mon', 'tue', 'wed', 'thu', 'fri', 'sat', 'sun']].corr()\n",
    "correlation_matrix3"
   ]
  },
  {
   "cell_type": "code",
   "execution_count": 90,
   "metadata": {},
   "outputs": [
    {
     "data": {
      "application/vnd.plotly.v1+json": {
       "config": {
        "plotlyServerURL": "https://plot.ly"
       },
       "data": [
        {
         "colorscale": [
          [
           0,
           "#0d0887"
          ],
          [
           0.1111111111111111,
           "#46039f"
          ],
          [
           0.2222222222222222,
           "#7201a8"
          ],
          [
           0.3333333333333333,
           "#9c179e"
          ],
          [
           0.4444444444444444,
           "#bd3786"
          ],
          [
           0.5555555555555556,
           "#d8576b"
          ],
          [
           0.6666666666666666,
           "#ed7953"
          ],
          [
           0.7777777777777778,
           "#fb9f3a"
          ],
          [
           0.8888888888888888,
           "#fdca26"
          ],
          [
           1,
           "#f0f921"
          ]
         ],
         "type": "heatmap",
         "x": [
          "mon",
          "tue",
          "wed",
          "thu",
          "fri",
          "sat",
          "sun"
         ],
         "y": [
          "mon",
          "tue",
          "wed",
          "thu",
          "fri",
          "sat",
          "sun"
         ],
         "z": [
          [
           1,
           0.9992090146987889,
           0.9994617828712054,
           0.9994136719573308,
           0.9983622643961206,
           0.9274617841466375,
           0.9297589443234083
          ],
          [
           0.9992090146987889,
           1,
           0.9996409391764656,
           0.9997681111697422,
           0.996923480097802,
           0.9177365180011073,
           0.9214862809572516
          ],
          [
           0.9994617828712054,
           0.9996409391764656,
           1,
           0.9996517178106039,
           0.9972748528285977,
           0.9239786643739436,
           0.927454509043195
          ],
          [
           0.9994136719573308,
           0.9997681111697422,
           0.9996517178106039,
           1,
           0.9978987211304743,
           0.9200702835991359,
           0.9230046609646817
          ],
          [
           0.9983622643961206,
           0.996923480097802,
           0.9972748528285977,
           0.9978987211304743,
           1,
           0.9336220102380165,
           0.9339258685136489
          ],
          [
           0.9274617841466375,
           0.9177365180011073,
           0.9239786643739436,
           0.9200702835991359,
           0.9336220102380165,
           1,
           0.9899515790958735
          ],
          [
           0.9297589443234083,
           0.9214862809572516,
           0.927454509043195,
           0.9230046609646817,
           0.9339258685136489,
           0.9899515790958735,
           1
          ]
         ]
        }
       ],
       "layout": {
        "template": {
         "data": {
          "bar": [
           {
            "error_x": {
             "color": "#2a3f5f"
            },
            "error_y": {
             "color": "#2a3f5f"
            },
            "marker": {
             "line": {
              "color": "#E5ECF6",
              "width": 0.5
             },
             "pattern": {
              "fillmode": "overlay",
              "size": 10,
              "solidity": 0.2
             }
            },
            "type": "bar"
           }
          ],
          "barpolar": [
           {
            "marker": {
             "line": {
              "color": "#E5ECF6",
              "width": 0.5
             },
             "pattern": {
              "fillmode": "overlay",
              "size": 10,
              "solidity": 0.2
             }
            },
            "type": "barpolar"
           }
          ],
          "carpet": [
           {
            "aaxis": {
             "endlinecolor": "#2a3f5f",
             "gridcolor": "white",
             "linecolor": "white",
             "minorgridcolor": "white",
             "startlinecolor": "#2a3f5f"
            },
            "baxis": {
             "endlinecolor": "#2a3f5f",
             "gridcolor": "white",
             "linecolor": "white",
             "minorgridcolor": "white",
             "startlinecolor": "#2a3f5f"
            },
            "type": "carpet"
           }
          ],
          "choropleth": [
           {
            "colorbar": {
             "outlinewidth": 0,
             "ticks": ""
            },
            "type": "choropleth"
           }
          ],
          "contour": [
           {
            "colorbar": {
             "outlinewidth": 0,
             "ticks": ""
            },
            "colorscale": [
             [
              0,
              "#0d0887"
             ],
             [
              0.1111111111111111,
              "#46039f"
             ],
             [
              0.2222222222222222,
              "#7201a8"
             ],
             [
              0.3333333333333333,
              "#9c179e"
             ],
             [
              0.4444444444444444,
              "#bd3786"
             ],
             [
              0.5555555555555556,
              "#d8576b"
             ],
             [
              0.6666666666666666,
              "#ed7953"
             ],
             [
              0.7777777777777778,
              "#fb9f3a"
             ],
             [
              0.8888888888888888,
              "#fdca26"
             ],
             [
              1,
              "#f0f921"
             ]
            ],
            "type": "contour"
           }
          ],
          "contourcarpet": [
           {
            "colorbar": {
             "outlinewidth": 0,
             "ticks": ""
            },
            "type": "contourcarpet"
           }
          ],
          "heatmap": [
           {
            "colorbar": {
             "outlinewidth": 0,
             "ticks": ""
            },
            "colorscale": [
             [
              0,
              "#0d0887"
             ],
             [
              0.1111111111111111,
              "#46039f"
             ],
             [
              0.2222222222222222,
              "#7201a8"
             ],
             [
              0.3333333333333333,
              "#9c179e"
             ],
             [
              0.4444444444444444,
              "#bd3786"
             ],
             [
              0.5555555555555556,
              "#d8576b"
             ],
             [
              0.6666666666666666,
              "#ed7953"
             ],
             [
              0.7777777777777778,
              "#fb9f3a"
             ],
             [
              0.8888888888888888,
              "#fdca26"
             ],
             [
              1,
              "#f0f921"
             ]
            ],
            "type": "heatmap"
           }
          ],
          "heatmapgl": [
           {
            "colorbar": {
             "outlinewidth": 0,
             "ticks": ""
            },
            "colorscale": [
             [
              0,
              "#0d0887"
             ],
             [
              0.1111111111111111,
              "#46039f"
             ],
             [
              0.2222222222222222,
              "#7201a8"
             ],
             [
              0.3333333333333333,
              "#9c179e"
             ],
             [
              0.4444444444444444,
              "#bd3786"
             ],
             [
              0.5555555555555556,
              "#d8576b"
             ],
             [
              0.6666666666666666,
              "#ed7953"
             ],
             [
              0.7777777777777778,
              "#fb9f3a"
             ],
             [
              0.8888888888888888,
              "#fdca26"
             ],
             [
              1,
              "#f0f921"
             ]
            ],
            "type": "heatmapgl"
           }
          ],
          "histogram": [
           {
            "marker": {
             "pattern": {
              "fillmode": "overlay",
              "size": 10,
              "solidity": 0.2
             }
            },
            "type": "histogram"
           }
          ],
          "histogram2d": [
           {
            "colorbar": {
             "outlinewidth": 0,
             "ticks": ""
            },
            "colorscale": [
             [
              0,
              "#0d0887"
             ],
             [
              0.1111111111111111,
              "#46039f"
             ],
             [
              0.2222222222222222,
              "#7201a8"
             ],
             [
              0.3333333333333333,
              "#9c179e"
             ],
             [
              0.4444444444444444,
              "#bd3786"
             ],
             [
              0.5555555555555556,
              "#d8576b"
             ],
             [
              0.6666666666666666,
              "#ed7953"
             ],
             [
              0.7777777777777778,
              "#fb9f3a"
             ],
             [
              0.8888888888888888,
              "#fdca26"
             ],
             [
              1,
              "#f0f921"
             ]
            ],
            "type": "histogram2d"
           }
          ],
          "histogram2dcontour": [
           {
            "colorbar": {
             "outlinewidth": 0,
             "ticks": ""
            },
            "colorscale": [
             [
              0,
              "#0d0887"
             ],
             [
              0.1111111111111111,
              "#46039f"
             ],
             [
              0.2222222222222222,
              "#7201a8"
             ],
             [
              0.3333333333333333,
              "#9c179e"
             ],
             [
              0.4444444444444444,
              "#bd3786"
             ],
             [
              0.5555555555555556,
              "#d8576b"
             ],
             [
              0.6666666666666666,
              "#ed7953"
             ],
             [
              0.7777777777777778,
              "#fb9f3a"
             ],
             [
              0.8888888888888888,
              "#fdca26"
             ],
             [
              1,
              "#f0f921"
             ]
            ],
            "type": "histogram2dcontour"
           }
          ],
          "mesh3d": [
           {
            "colorbar": {
             "outlinewidth": 0,
             "ticks": ""
            },
            "type": "mesh3d"
           }
          ],
          "parcoords": [
           {
            "line": {
             "colorbar": {
              "outlinewidth": 0,
              "ticks": ""
             }
            },
            "type": "parcoords"
           }
          ],
          "pie": [
           {
            "automargin": true,
            "type": "pie"
           }
          ],
          "scatter": [
           {
            "fillpattern": {
             "fillmode": "overlay",
             "size": 10,
             "solidity": 0.2
            },
            "type": "scatter"
           }
          ],
          "scatter3d": [
           {
            "line": {
             "colorbar": {
              "outlinewidth": 0,
              "ticks": ""
             }
            },
            "marker": {
             "colorbar": {
              "outlinewidth": 0,
              "ticks": ""
             }
            },
            "type": "scatter3d"
           }
          ],
          "scattercarpet": [
           {
            "marker": {
             "colorbar": {
              "outlinewidth": 0,
              "ticks": ""
             }
            },
            "type": "scattercarpet"
           }
          ],
          "scattergeo": [
           {
            "marker": {
             "colorbar": {
              "outlinewidth": 0,
              "ticks": ""
             }
            },
            "type": "scattergeo"
           }
          ],
          "scattergl": [
           {
            "marker": {
             "colorbar": {
              "outlinewidth": 0,
              "ticks": ""
             }
            },
            "type": "scattergl"
           }
          ],
          "scattermapbox": [
           {
            "marker": {
             "colorbar": {
              "outlinewidth": 0,
              "ticks": ""
             }
            },
            "type": "scattermapbox"
           }
          ],
          "scatterpolar": [
           {
            "marker": {
             "colorbar": {
              "outlinewidth": 0,
              "ticks": ""
             }
            },
            "type": "scatterpolar"
           }
          ],
          "scatterpolargl": [
           {
            "marker": {
             "colorbar": {
              "outlinewidth": 0,
              "ticks": ""
             }
            },
            "type": "scatterpolargl"
           }
          ],
          "scatterternary": [
           {
            "marker": {
             "colorbar": {
              "outlinewidth": 0,
              "ticks": ""
             }
            },
            "type": "scatterternary"
           }
          ],
          "surface": [
           {
            "colorbar": {
             "outlinewidth": 0,
             "ticks": ""
            },
            "colorscale": [
             [
              0,
              "#0d0887"
             ],
             [
              0.1111111111111111,
              "#46039f"
             ],
             [
              0.2222222222222222,
              "#7201a8"
             ],
             [
              0.3333333333333333,
              "#9c179e"
             ],
             [
              0.4444444444444444,
              "#bd3786"
             ],
             [
              0.5555555555555556,
              "#d8576b"
             ],
             [
              0.6666666666666666,
              "#ed7953"
             ],
             [
              0.7777777777777778,
              "#fb9f3a"
             ],
             [
              0.8888888888888888,
              "#fdca26"
             ],
             [
              1,
              "#f0f921"
             ]
            ],
            "type": "surface"
           }
          ],
          "table": [
           {
            "cells": {
             "fill": {
              "color": "#EBF0F8"
             },
             "line": {
              "color": "white"
             }
            },
            "header": {
             "fill": {
              "color": "#C8D4E3"
             },
             "line": {
              "color": "white"
             }
            },
            "type": "table"
           }
          ]
         },
         "layout": {
          "annotationdefaults": {
           "arrowcolor": "#2a3f5f",
           "arrowhead": 0,
           "arrowwidth": 1
          },
          "autotypenumbers": "strict",
          "coloraxis": {
           "colorbar": {
            "outlinewidth": 0,
            "ticks": ""
           }
          },
          "colorscale": {
           "diverging": [
            [
             0,
             "#8e0152"
            ],
            [
             0.1,
             "#c51b7d"
            ],
            [
             0.2,
             "#de77ae"
            ],
            [
             0.3,
             "#f1b6da"
            ],
            [
             0.4,
             "#fde0ef"
            ],
            [
             0.5,
             "#f7f7f7"
            ],
            [
             0.6,
             "#e6f5d0"
            ],
            [
             0.7,
             "#b8e186"
            ],
            [
             0.8,
             "#7fbc41"
            ],
            [
             0.9,
             "#4d9221"
            ],
            [
             1,
             "#276419"
            ]
           ],
           "sequential": [
            [
             0,
             "#0d0887"
            ],
            [
             0.1111111111111111,
             "#46039f"
            ],
            [
             0.2222222222222222,
             "#7201a8"
            ],
            [
             0.3333333333333333,
             "#9c179e"
            ],
            [
             0.4444444444444444,
             "#bd3786"
            ],
            [
             0.5555555555555556,
             "#d8576b"
            ],
            [
             0.6666666666666666,
             "#ed7953"
            ],
            [
             0.7777777777777778,
             "#fb9f3a"
            ],
            [
             0.8888888888888888,
             "#fdca26"
            ],
            [
             1,
             "#f0f921"
            ]
           ],
           "sequentialminus": [
            [
             0,
             "#0d0887"
            ],
            [
             0.1111111111111111,
             "#46039f"
            ],
            [
             0.2222222222222222,
             "#7201a8"
            ],
            [
             0.3333333333333333,
             "#9c179e"
            ],
            [
             0.4444444444444444,
             "#bd3786"
            ],
            [
             0.5555555555555556,
             "#d8576b"
            ],
            [
             0.6666666666666666,
             "#ed7953"
            ],
            [
             0.7777777777777778,
             "#fb9f3a"
            ],
            [
             0.8888888888888888,
             "#fdca26"
            ],
            [
             1,
             "#f0f921"
            ]
           ]
          },
          "colorway": [
           "#636efa",
           "#EF553B",
           "#00cc96",
           "#ab63fa",
           "#FFA15A",
           "#19d3f3",
           "#FF6692",
           "#B6E880",
           "#FF97FF",
           "#FECB52"
          ],
          "font": {
           "color": "#2a3f5f"
          },
          "geo": {
           "bgcolor": "white",
           "lakecolor": "white",
           "landcolor": "#E5ECF6",
           "showlakes": true,
           "showland": true,
           "subunitcolor": "white"
          },
          "hoverlabel": {
           "align": "left"
          },
          "hovermode": "closest",
          "mapbox": {
           "style": "light"
          },
          "paper_bgcolor": "white",
          "plot_bgcolor": "#E5ECF6",
          "polar": {
           "angularaxis": {
            "gridcolor": "white",
            "linecolor": "white",
            "ticks": ""
           },
           "bgcolor": "#E5ECF6",
           "radialaxis": {
            "gridcolor": "white",
            "linecolor": "white",
            "ticks": ""
           }
          },
          "scene": {
           "xaxis": {
            "backgroundcolor": "#E5ECF6",
            "gridcolor": "white",
            "gridwidth": 2,
            "linecolor": "white",
            "showbackground": true,
            "ticks": "",
            "zerolinecolor": "white"
           },
           "yaxis": {
            "backgroundcolor": "#E5ECF6",
            "gridcolor": "white",
            "gridwidth": 2,
            "linecolor": "white",
            "showbackground": true,
            "ticks": "",
            "zerolinecolor": "white"
           },
           "zaxis": {
            "backgroundcolor": "#E5ECF6",
            "gridcolor": "white",
            "gridwidth": 2,
            "linecolor": "white",
            "showbackground": true,
            "ticks": "",
            "zerolinecolor": "white"
           }
          },
          "shapedefaults": {
           "line": {
            "color": "#2a3f5f"
           }
          },
          "ternary": {
           "aaxis": {
            "gridcolor": "white",
            "linecolor": "white",
            "ticks": ""
           },
           "baxis": {
            "gridcolor": "white",
            "linecolor": "white",
            "ticks": ""
           },
           "bgcolor": "#E5ECF6",
           "caxis": {
            "gridcolor": "white",
            "linecolor": "white",
            "ticks": ""
           }
          },
          "title": {
           "x": 0.05
          },
          "xaxis": {
           "automargin": true,
           "gridcolor": "white",
           "linecolor": "white",
           "ticks": "",
           "title": {
            "standoff": 15
           },
           "zerolinecolor": "white",
           "zerolinewidth": 2
          },
          "yaxis": {
           "automargin": true,
           "gridcolor": "white",
           "linecolor": "white",
           "ticks": "",
           "title": {
            "standoff": 15
           },
           "zerolinecolor": "white",
           "zerolinewidth": 2
          }
         }
        },
        "xaxis": {
         "nticks": 36
        }
       }
      }
     },
     "metadata": {},
     "output_type": "display_data"
    }
   ],
   "source": [
    "# 첫 번째 상관계수 히트맵\n",
    "fig1 = go.Figure(data=go.Heatmap(\n",
    "    z=correlation_matrix3.values,\n",
    "    x=correlation_matrix3.columns,\n",
    "    y=correlation_matrix3.index,\n",
    "    colorscale='Plasma'\n",
    "))\n",
    "fig1.update_layout(\n",
    "    xaxis_nticks=36\n",
    ")\n",
    "# 히트맵 출력\n",
    "fig1.show()"
   ]
  },
  {
   "cell_type": "code",
   "execution_count": 91,
   "metadata": {},
   "outputs": [
    {
     "name": "stderr",
     "output_type": "stream",
     "text": [
      "100%|██████████| 164430/164430 [00:10<00:00, 15644.84it/s]\n",
      "c:\\Users\\HJK\\anaconda3\\envs\\GIS\\lib\\site-packages\\pyproj\\crs\\crs.py:141: FutureWarning:\n",
      "\n",
      "'+init=<authority>:<code>' syntax is deprecated. '<authority>:<code>' is the preferred initialization method. When making the change, be mindful of axis order changes: https://pyproj4.github.io/pyproj/stable/gotchas.html#axis-order-changes-in-proj-6\n",
      "\n",
      "c:\\Users\\HJK\\anaconda3\\envs\\GIS\\lib\\site-packages\\pyproj\\crs\\crs.py:141: FutureWarning:\n",
      "\n",
      "'+init=<authority>:<code>' syntax is deprecated. '<authority>:<code>' is the preferred initialization method. When making the change, be mindful of axis order changes: https://pyproj4.github.io/pyproj/stable/gotchas.html#axis-order-changes-in-proj-6\n",
      "\n",
      "c:\\Users\\HJK\\anaconda3\\envs\\GIS\\lib\\site-packages\\IPython\\core\\interactiveshell.py:3445: FutureWarning:\n",
      "\n",
      "The `op` parameter is deprecated and will be removed in a future release. Please use the `predicate` parameter instead.\n",
      "\n",
      "C:\\Users\\HJK\\AppData\\Local\\Temp\\ipykernel_40664\\3049207069.py:3: UserWarning:\n",
      "\n",
      "CRS mismatch between the CRS of left geometries and the CRS of right geometries.\n",
      "Use `to_crs()` to reproject one of the input geometries to match the CRS of the other.\n",
      "\n",
      "Left CRS: +init=epsg:4326 +type=crs\n",
      "Right CRS: None\n",
      "\n",
      "\n"
     ]
    }
   ],
   "source": [
    "# 공간 조인 수행\n",
    "floating_population_df_D = geo_transform(floating_population_df_D)\n",
    "joined_df = gpd.sjoin(floating_population_df_D, sejong_gdf, how='inner', op='intersects')\n",
    "\n",
    "# 연도별로 행정구역의 인구수를 합산\n",
    "sejong_floatingpop_D_gdf = joined_df.groupby(['day_type', 'newtown', 'geometry']).agg({'population': 'sum'}).reset_index()\n",
    "sejong_floatingpop_D_gdf = gpd.GeoDataFrame(sejong_floatingpop_D_gdf, geometry='geometry')"
   ]
  },
  {
   "cell_type": "code",
   "execution_count": null,
   "metadata": {},
   "outputs": [],
   "source": [
    "# 맵 객체 생성 및 데이터 로드\n",
    "sejong_floatingpop_D_map = KeplerGl(height=1000, width=1500)\n",
    "sejong_floatingpop_D_map.add_data(data=sejong_gdf, name=\"세종시 행정동 데이터\")\n",
    "sejong_floatingpop_D_map.add_data(data=sejong_floatingpop_D_gdf, name=\"세종시 평일 및 주말 유동인구 데이터\")\n",
    "\n",
    "# 맵 출력 및 상세설정\n",
    "sejong_floatingpop_D_map"
   ]
  },
  {
   "cell_type": "code",
   "execution_count": 70,
   "metadata": {},
   "outputs": [
    {
     "name": "stdout",
     "output_type": "stream",
     "text": [
      "Map saved to visualization/세종시 현황/세종시 주중 및 주말 유동인구 map.html!\n"
     ]
    }
   ],
   "source": [
    "# 맵 저장\n",
    "sejong_floatingpop_D_map.save_to_html(file_name=\"visualization/세종시 현황/세종시 주중 및 주말 유동인구 map.html\")"
   ]
  },
  {
   "cell_type": "markdown",
   "metadata": {},
   "source": [
    "##### 행정동별 주중 및 주말 유동인구 계산"
   ]
  },
  {
   "cell_type": "code",
   "execution_count": 93,
   "metadata": {},
   "outputs": [
    {
     "data": {
      "application/vnd.plotly.v1+json": {
       "config": {
        "plotlyServerURL": "https://plot.ly"
       },
       "data": [
        {
         "alignmentgroup": "True",
         "hovertemplate": "행정동=%{x}<br>유동 인구 차이=%{marker.color}<extra></extra>",
         "legendgroup": "",
         "marker": {
          "color": [
           14843.68847836115,
           -4903.834361215471,
           -13079.445058751604,
           -11801.166816785204,
           348.4219487203263,
           -856.6093253826048,
           6886.257010643691,
           10371.414047101629,
           -14325.32361107612,
           -5792.800732335498,
           -6363.226562564567,
           -13551.41305883359,
           -3132.116506233462,
           -1644.984283894868,
           7748.6209098224645,
           -3937.1876553113434,
           5359.852636875374,
           -5791.653188865239,
           -40535.618367506744,
           -4850.507795936879,
           -14049.597351863471,
           639.4018392100552,
           -415.3466263882574,
           6008.468731785513,
           -1702.0037760552877,
           -7130.650656804763,
           -11785.605387365213,
           -7474.854722222226,
           -9072.911189937458,
           -722.8976813015788,
           -10974.752157789691,
           -719.6489932801635,
           -2139.6237202034536
          ],
          "coloraxis": "coloraxis",
          "pattern": {
           "shape": ""
          }
         },
         "name": "",
         "offsetgroup": "",
         "orientation": "v",
         "showlegend": false,
         "textposition": "auto",
         "type": "bar",
         "x": [
          "가람동",
          "고운동",
          "금남면",
          "나성동",
          "누리동",
          "다솜동",
          "다정동",
          "대평동",
          "도담동",
          "반곡동",
          "보람동",
          "부강면",
          "산울동",
          "새롬동",
          "세종동",
          "소담동",
          "소정면",
          "아름동",
          "어진동",
          "연기면",
          "연동면",
          "연서면",
          "용호동",
          "장군면",
          "전동면",
          "전의면",
          "조치원읍",
          "종촌동",
          "집현동",
          "한별동",
          "한솔동",
          "합강동",
          "해밀동"
         ],
         "xaxis": "x",
         "y": [
          14843.68847836115,
          -4903.834361215471,
          -13079.445058751604,
          -11801.166816785204,
          348.4219487203263,
          -856.6093253826048,
          6886.257010643691,
          10371.414047101629,
          -14325.32361107612,
          -5792.800732335498,
          -6363.226562564567,
          -13551.41305883359,
          -3132.116506233462,
          -1644.984283894868,
          7748.6209098224645,
          -3937.1876553113434,
          5359.852636875374,
          -5791.653188865239,
          -40535.618367506744,
          -4850.507795936879,
          -14049.597351863471,
          639.4018392100552,
          -415.3466263882574,
          6008.468731785513,
          -1702.0037760552877,
          -7130.650656804763,
          -11785.605387365213,
          -7474.854722222226,
          -9072.911189937458,
          -722.8976813015788,
          -10974.752157789691,
          -719.6489932801635,
          -2139.6237202034536
         ],
         "yaxis": "y"
        }
       ],
       "layout": {
        "barmode": "relative",
        "coloraxis": {
         "colorbar": {
          "title": {
           "text": "유동 인구 차이"
          }
         },
         "colorscale": [
          [
           0,
           "#0d0887"
          ],
          [
           0.1111111111111111,
           "#46039f"
          ],
          [
           0.2222222222222222,
           "#7201a8"
          ],
          [
           0.3333333333333333,
           "#9c179e"
          ],
          [
           0.4444444444444444,
           "#bd3786"
          ],
          [
           0.5555555555555556,
           "#d8576b"
          ],
          [
           0.6666666666666666,
           "#ed7953"
          ],
          [
           0.7777777777777778,
           "#fb9f3a"
          ],
          [
           0.8888888888888888,
           "#fdca26"
          ],
          [
           1,
           "#f0f921"
          ]
         ]
        },
        "legend": {
         "tracegroupgap": 0
        },
        "margin": {
         "t": 60
        },
        "template": {
         "data": {
          "bar": [
           {
            "error_x": {
             "color": "#2a3f5f"
            },
            "error_y": {
             "color": "#2a3f5f"
            },
            "marker": {
             "line": {
              "color": "#E5ECF6",
              "width": 0.5
             },
             "pattern": {
              "fillmode": "overlay",
              "size": 10,
              "solidity": 0.2
             }
            },
            "type": "bar"
           }
          ],
          "barpolar": [
           {
            "marker": {
             "line": {
              "color": "#E5ECF6",
              "width": 0.5
             },
             "pattern": {
              "fillmode": "overlay",
              "size": 10,
              "solidity": 0.2
             }
            },
            "type": "barpolar"
           }
          ],
          "carpet": [
           {
            "aaxis": {
             "endlinecolor": "#2a3f5f",
             "gridcolor": "white",
             "linecolor": "white",
             "minorgridcolor": "white",
             "startlinecolor": "#2a3f5f"
            },
            "baxis": {
             "endlinecolor": "#2a3f5f",
             "gridcolor": "white",
             "linecolor": "white",
             "minorgridcolor": "white",
             "startlinecolor": "#2a3f5f"
            },
            "type": "carpet"
           }
          ],
          "choropleth": [
           {
            "colorbar": {
             "outlinewidth": 0,
             "ticks": ""
            },
            "type": "choropleth"
           }
          ],
          "contour": [
           {
            "colorbar": {
             "outlinewidth": 0,
             "ticks": ""
            },
            "colorscale": [
             [
              0,
              "#0d0887"
             ],
             [
              0.1111111111111111,
              "#46039f"
             ],
             [
              0.2222222222222222,
              "#7201a8"
             ],
             [
              0.3333333333333333,
              "#9c179e"
             ],
             [
              0.4444444444444444,
              "#bd3786"
             ],
             [
              0.5555555555555556,
              "#d8576b"
             ],
             [
              0.6666666666666666,
              "#ed7953"
             ],
             [
              0.7777777777777778,
              "#fb9f3a"
             ],
             [
              0.8888888888888888,
              "#fdca26"
             ],
             [
              1,
              "#f0f921"
             ]
            ],
            "type": "contour"
           }
          ],
          "contourcarpet": [
           {
            "colorbar": {
             "outlinewidth": 0,
             "ticks": ""
            },
            "type": "contourcarpet"
           }
          ],
          "heatmap": [
           {
            "colorbar": {
             "outlinewidth": 0,
             "ticks": ""
            },
            "colorscale": [
             [
              0,
              "#0d0887"
             ],
             [
              0.1111111111111111,
              "#46039f"
             ],
             [
              0.2222222222222222,
              "#7201a8"
             ],
             [
              0.3333333333333333,
              "#9c179e"
             ],
             [
              0.4444444444444444,
              "#bd3786"
             ],
             [
              0.5555555555555556,
              "#d8576b"
             ],
             [
              0.6666666666666666,
              "#ed7953"
             ],
             [
              0.7777777777777778,
              "#fb9f3a"
             ],
             [
              0.8888888888888888,
              "#fdca26"
             ],
             [
              1,
              "#f0f921"
             ]
            ],
            "type": "heatmap"
           }
          ],
          "heatmapgl": [
           {
            "colorbar": {
             "outlinewidth": 0,
             "ticks": ""
            },
            "colorscale": [
             [
              0,
              "#0d0887"
             ],
             [
              0.1111111111111111,
              "#46039f"
             ],
             [
              0.2222222222222222,
              "#7201a8"
             ],
             [
              0.3333333333333333,
              "#9c179e"
             ],
             [
              0.4444444444444444,
              "#bd3786"
             ],
             [
              0.5555555555555556,
              "#d8576b"
             ],
             [
              0.6666666666666666,
              "#ed7953"
             ],
             [
              0.7777777777777778,
              "#fb9f3a"
             ],
             [
              0.8888888888888888,
              "#fdca26"
             ],
             [
              1,
              "#f0f921"
             ]
            ],
            "type": "heatmapgl"
           }
          ],
          "histogram": [
           {
            "marker": {
             "pattern": {
              "fillmode": "overlay",
              "size": 10,
              "solidity": 0.2
             }
            },
            "type": "histogram"
           }
          ],
          "histogram2d": [
           {
            "colorbar": {
             "outlinewidth": 0,
             "ticks": ""
            },
            "colorscale": [
             [
              0,
              "#0d0887"
             ],
             [
              0.1111111111111111,
              "#46039f"
             ],
             [
              0.2222222222222222,
              "#7201a8"
             ],
             [
              0.3333333333333333,
              "#9c179e"
             ],
             [
              0.4444444444444444,
              "#bd3786"
             ],
             [
              0.5555555555555556,
              "#d8576b"
             ],
             [
              0.6666666666666666,
              "#ed7953"
             ],
             [
              0.7777777777777778,
              "#fb9f3a"
             ],
             [
              0.8888888888888888,
              "#fdca26"
             ],
             [
              1,
              "#f0f921"
             ]
            ],
            "type": "histogram2d"
           }
          ],
          "histogram2dcontour": [
           {
            "colorbar": {
             "outlinewidth": 0,
             "ticks": ""
            },
            "colorscale": [
             [
              0,
              "#0d0887"
             ],
             [
              0.1111111111111111,
              "#46039f"
             ],
             [
              0.2222222222222222,
              "#7201a8"
             ],
             [
              0.3333333333333333,
              "#9c179e"
             ],
             [
              0.4444444444444444,
              "#bd3786"
             ],
             [
              0.5555555555555556,
              "#d8576b"
             ],
             [
              0.6666666666666666,
              "#ed7953"
             ],
             [
              0.7777777777777778,
              "#fb9f3a"
             ],
             [
              0.8888888888888888,
              "#fdca26"
             ],
             [
              1,
              "#f0f921"
             ]
            ],
            "type": "histogram2dcontour"
           }
          ],
          "mesh3d": [
           {
            "colorbar": {
             "outlinewidth": 0,
             "ticks": ""
            },
            "type": "mesh3d"
           }
          ],
          "parcoords": [
           {
            "line": {
             "colorbar": {
              "outlinewidth": 0,
              "ticks": ""
             }
            },
            "type": "parcoords"
           }
          ],
          "pie": [
           {
            "automargin": true,
            "type": "pie"
           }
          ],
          "scatter": [
           {
            "fillpattern": {
             "fillmode": "overlay",
             "size": 10,
             "solidity": 0.2
            },
            "type": "scatter"
           }
          ],
          "scatter3d": [
           {
            "line": {
             "colorbar": {
              "outlinewidth": 0,
              "ticks": ""
             }
            },
            "marker": {
             "colorbar": {
              "outlinewidth": 0,
              "ticks": ""
             }
            },
            "type": "scatter3d"
           }
          ],
          "scattercarpet": [
           {
            "marker": {
             "colorbar": {
              "outlinewidth": 0,
              "ticks": ""
             }
            },
            "type": "scattercarpet"
           }
          ],
          "scattergeo": [
           {
            "marker": {
             "colorbar": {
              "outlinewidth": 0,
              "ticks": ""
             }
            },
            "type": "scattergeo"
           }
          ],
          "scattergl": [
           {
            "marker": {
             "colorbar": {
              "outlinewidth": 0,
              "ticks": ""
             }
            },
            "type": "scattergl"
           }
          ],
          "scattermapbox": [
           {
            "marker": {
             "colorbar": {
              "outlinewidth": 0,
              "ticks": ""
             }
            },
            "type": "scattermapbox"
           }
          ],
          "scatterpolar": [
           {
            "marker": {
             "colorbar": {
              "outlinewidth": 0,
              "ticks": ""
             }
            },
            "type": "scatterpolar"
           }
          ],
          "scatterpolargl": [
           {
            "marker": {
             "colorbar": {
              "outlinewidth": 0,
              "ticks": ""
             }
            },
            "type": "scatterpolargl"
           }
          ],
          "scatterternary": [
           {
            "marker": {
             "colorbar": {
              "outlinewidth": 0,
              "ticks": ""
             }
            },
            "type": "scatterternary"
           }
          ],
          "surface": [
           {
            "colorbar": {
             "outlinewidth": 0,
             "ticks": ""
            },
            "colorscale": [
             [
              0,
              "#0d0887"
             ],
             [
              0.1111111111111111,
              "#46039f"
             ],
             [
              0.2222222222222222,
              "#7201a8"
             ],
             [
              0.3333333333333333,
              "#9c179e"
             ],
             [
              0.4444444444444444,
              "#bd3786"
             ],
             [
              0.5555555555555556,
              "#d8576b"
             ],
             [
              0.6666666666666666,
              "#ed7953"
             ],
             [
              0.7777777777777778,
              "#fb9f3a"
             ],
             [
              0.8888888888888888,
              "#fdca26"
             ],
             [
              1,
              "#f0f921"
             ]
            ],
            "type": "surface"
           }
          ],
          "table": [
           {
            "cells": {
             "fill": {
              "color": "#EBF0F8"
             },
             "line": {
              "color": "white"
             }
            },
            "header": {
             "fill": {
              "color": "#C8D4E3"
             },
             "line": {
              "color": "white"
             }
            },
            "type": "table"
           }
          ]
         },
         "layout": {
          "annotationdefaults": {
           "arrowcolor": "#2a3f5f",
           "arrowhead": 0,
           "arrowwidth": 1
          },
          "autotypenumbers": "strict",
          "coloraxis": {
           "colorbar": {
            "outlinewidth": 0,
            "ticks": ""
           }
          },
          "colorscale": {
           "diverging": [
            [
             0,
             "#8e0152"
            ],
            [
             0.1,
             "#c51b7d"
            ],
            [
             0.2,
             "#de77ae"
            ],
            [
             0.3,
             "#f1b6da"
            ],
            [
             0.4,
             "#fde0ef"
            ],
            [
             0.5,
             "#f7f7f7"
            ],
            [
             0.6,
             "#e6f5d0"
            ],
            [
             0.7,
             "#b8e186"
            ],
            [
             0.8,
             "#7fbc41"
            ],
            [
             0.9,
             "#4d9221"
            ],
            [
             1,
             "#276419"
            ]
           ],
           "sequential": [
            [
             0,
             "#0d0887"
            ],
            [
             0.1111111111111111,
             "#46039f"
            ],
            [
             0.2222222222222222,
             "#7201a8"
            ],
            [
             0.3333333333333333,
             "#9c179e"
            ],
            [
             0.4444444444444444,
             "#bd3786"
            ],
            [
             0.5555555555555556,
             "#d8576b"
            ],
            [
             0.6666666666666666,
             "#ed7953"
            ],
            [
             0.7777777777777778,
             "#fb9f3a"
            ],
            [
             0.8888888888888888,
             "#fdca26"
            ],
            [
             1,
             "#f0f921"
            ]
           ],
           "sequentialminus": [
            [
             0,
             "#0d0887"
            ],
            [
             0.1111111111111111,
             "#46039f"
            ],
            [
             0.2222222222222222,
             "#7201a8"
            ],
            [
             0.3333333333333333,
             "#9c179e"
            ],
            [
             0.4444444444444444,
             "#bd3786"
            ],
            [
             0.5555555555555556,
             "#d8576b"
            ],
            [
             0.6666666666666666,
             "#ed7953"
            ],
            [
             0.7777777777777778,
             "#fb9f3a"
            ],
            [
             0.8888888888888888,
             "#fdca26"
            ],
            [
             1,
             "#f0f921"
            ]
           ]
          },
          "colorway": [
           "#636efa",
           "#EF553B",
           "#00cc96",
           "#ab63fa",
           "#FFA15A",
           "#19d3f3",
           "#FF6692",
           "#B6E880",
           "#FF97FF",
           "#FECB52"
          ],
          "font": {
           "color": "#2a3f5f"
          },
          "geo": {
           "bgcolor": "white",
           "lakecolor": "white",
           "landcolor": "#E5ECF6",
           "showlakes": true,
           "showland": true,
           "subunitcolor": "white"
          },
          "hoverlabel": {
           "align": "left"
          },
          "hovermode": "closest",
          "mapbox": {
           "style": "light"
          },
          "paper_bgcolor": "white",
          "plot_bgcolor": "#E5ECF6",
          "polar": {
           "angularaxis": {
            "gridcolor": "white",
            "linecolor": "white",
            "ticks": ""
           },
           "bgcolor": "#E5ECF6",
           "radialaxis": {
            "gridcolor": "white",
            "linecolor": "white",
            "ticks": ""
           }
          },
          "scene": {
           "xaxis": {
            "backgroundcolor": "#E5ECF6",
            "gridcolor": "white",
            "gridwidth": 2,
            "linecolor": "white",
            "showbackground": true,
            "ticks": "",
            "zerolinecolor": "white"
           },
           "yaxis": {
            "backgroundcolor": "#E5ECF6",
            "gridcolor": "white",
            "gridwidth": 2,
            "linecolor": "white",
            "showbackground": true,
            "ticks": "",
            "zerolinecolor": "white"
           },
           "zaxis": {
            "backgroundcolor": "#E5ECF6",
            "gridcolor": "white",
            "gridwidth": 2,
            "linecolor": "white",
            "showbackground": true,
            "ticks": "",
            "zerolinecolor": "white"
           }
          },
          "shapedefaults": {
           "line": {
            "color": "#2a3f5f"
           }
          },
          "ternary": {
           "aaxis": {
            "gridcolor": "white",
            "linecolor": "white",
            "ticks": ""
           },
           "baxis": {
            "gridcolor": "white",
            "linecolor": "white",
            "ticks": ""
           },
           "bgcolor": "#E5ECF6",
           "caxis": {
            "gridcolor": "white",
            "linecolor": "white",
            "ticks": ""
           }
          },
          "title": {
           "x": 0.05
          },
          "xaxis": {
           "automargin": true,
           "gridcolor": "white",
           "linecolor": "white",
           "ticks": "",
           "title": {
            "standoff": 15
           },
           "zerolinecolor": "white",
           "zerolinewidth": 2
          },
          "yaxis": {
           "automargin": true,
           "gridcolor": "white",
           "linecolor": "white",
           "ticks": "",
           "title": {
            "standoff": 15
           },
           "zerolinecolor": "white",
           "zerolinewidth": 2
          }
         }
        },
        "xaxis": {
         "anchor": "y",
         "domain": [
          0,
          1
         ],
         "title": {
          "text": "행정동"
         }
        },
        "yaxis": {
         "anchor": "x",
         "domain": [
          0,
          1
         ],
         "title": {
          "text": "유동 인구 차이"
         }
        }
       }
      }
     },
     "metadata": {},
     "output_type": "display_data"
    }
   ],
   "source": [
    "# 연도별로 행정구역의 인구수를 합산\n",
    "sejong_floatingpop_D_hjd = joined_df.groupby(['day_type', 'ADM_NM']).agg({'population': 'sum'}).reset_index()\n",
    "# 행정동별로 주중 유동 인구와 주말 유동 인구를 집계\n",
    "weekday_population = sejong_floatingpop_D_hjd[sejong_floatingpop_D_hjd['day_type'] == '1'].groupby('ADM_NM')['population'].mean().reset_index()\n",
    "weekend_population = sejong_floatingpop_D_hjd[sejong_floatingpop_D_hjd['day_type'] == '2'].groupby('ADM_NM')['population'].mean().reset_index()\n",
    "\n",
    "# 행정동별 주중과 주말 유동 인구를 하나의 데이터프레임으로 병합\n",
    "population_diff = weekday_population.merge(weekend_population, on='ADM_NM', suffixes=('_weekday', '_weekend'))\n",
    "\n",
    "# 주중과 주말의 유동 인구 차이를 계산\n",
    "population_diff['population_diff'] = population_diff['population_weekend'] - population_diff['population_weekday']\n",
    "\n",
    "# 주중과 주말 유동 인구 차이를 바 차트로 시각화, plasma 색상 맵 사용\n",
    "fig = px.bar(\n",
    "    population_diff,\n",
    "    x='ADM_NM',\n",
    "    y='population_diff',\n",
    "    color='population_diff',\n",
    "    color_continuous_scale='plasma',\n",
    "    labels={'population_diff': '유동 인구 차이', 'ADM_NM': '행정동'}\n",
    ")\n",
    "\n",
    "# 그래프 출력\n",
    "fig.show()"
   ]
  }
 ],
 "metadata": {
  "kernelspec": {
   "display_name": "Python 3.8.16 ('GIS')",
   "language": "python",
   "name": "python3"
  },
  "language_info": {
   "codemirror_mode": {
    "name": "ipython",
    "version": 3
   },
   "file_extension": ".py",
   "mimetype": "text/x-python",
   "name": "python",
   "nbconvert_exporter": "python",
   "pygments_lexer": "ipython3",
   "version": "3.8.16"
  },
  "orig_nbformat": 4,
  "vscode": {
   "interpreter": {
    "hash": "4c2ab1d16d29501e38a3ee1978e97de755e76d74519759c8e0a07f6b08052ab1"
   }
  }
 },
 "nbformat": 4,
 "nbformat_minor": 2
}
